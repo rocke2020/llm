{
 "cells": [
  {
   "cell_type": "code",
   "execution_count": 3,
   "metadata": {},
   "outputs": [
    {
     "name": "stderr",
     "output_type": "stream",
     "text": [
      "23-09-10 21:16 1854909793.py 26: seed 0\n"
     ]
    },
    {
     "name": "stdout",
     "output_type": "stream",
     "text": [
      "{'accuracy': 0.75}\n"
     ]
    }
   ],
   "source": [
    "import evaluate\n",
    "from pathlib import Path\n",
    "import os, sys, logging, shutil\n",
    "import torch\n",
    "from torch import nn\n",
    "import torch.nn.functional as F\n",
    "import torch.optim as optim\n",
    "from torch.utils import data\n",
    "import re, random, math\n",
    "import pandas as pd\n",
    "import numpy as np\n",
    "from pandas import DataFrame\n",
    "from icecream import ic\n",
    "ic.configureOutput(includeContext=True, argToStringFunction=lambda _: str(_))\n",
    "ic.lineWrapWidth = 120\n",
    "sys.path.append(os.path.abspath('.'))\n",
    "logger = logging.getLogger()\n",
    "logging.basicConfig(level=logging.INFO,\n",
    "    format='%(asctime)s %(filename)s %(lineno)d: %(message)s',\n",
    "    datefmt='%y-%m-%d %H:%M')\n",
    "from datetime import datetime\n",
    "from collections import defaultdict\n",
    "\n",
    "\n",
    "SEED = 0\n",
    "logger.info('seed %s', SEED)\n",
    "random.seed(SEED)\n",
    "np.random.seed(SEED)\n",
    "try:\n",
    "    torch.manual_seed(SEED)\n",
    "    torch.cuda.manual_seed_all(SEED)\n",
    "except Exception as identifier:\n",
    "    logger.exception(identifier)\n",
    "\n",
    "local_eval_file = '/home/qcdong/codes/evaluate/metrics/accuracy/accuracy.py'\n",
    "accuracy = evaluate.load(local_eval_file)\n",
    "r = accuracy.compute(predictions=[0,1,0,1], references=[1,1,0,1])\n",
    "print(r)"
   ]
  }
 ],
 "metadata": {
  "kernelspec": {
   "display_name": "pt2",
   "language": "python",
   "name": "python3"
  },
  "language_info": {
   "codemirror_mode": {
    "name": "ipython",
    "version": 3
   },
   "file_extension": ".py",
   "mimetype": "text/x-python",
   "name": "python",
   "nbconvert_exporter": "python",
   "pygments_lexer": "ipython3",
   "version": "3.10.12"
  },
  "orig_nbformat": 4
 },
 "nbformat": 4,
 "nbformat_minor": 2
}
