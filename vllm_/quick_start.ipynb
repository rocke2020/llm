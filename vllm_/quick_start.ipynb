{
 "cells": [
  {
   "cell_type": "code",
   "execution_count": null,
   "metadata": {},
   "outputs": [],
   "source": [
    "import argparse\n",
    "import json\n",
    "import math\n",
    "import os\n",
    "import random\n",
    "import re\n",
    "import shutil\n",
    "import sys\n",
    "import time\n",
    "from collections import defaultdict\n",
    "from pathlib import Path\n",
    "from datetime import datetime\n",
    "\n",
    "from loguru import logger\n",
    "\n",
    "sys.path.append(os.path.abspath('.'))\n",
    "\n",
    "\n",
    "def main(args):\n",
    "    pass\n",
    "\n",
    "\n",
    "if __name__ == '__main__':\n",
    "    parser = argparse.ArgumentParser()\n",
    "    parser.add_argument('--seed', default=2, type=int)\n",
    "    parser.add_argument('--input_path', type=str, help='')\n",
    "    _args = parser.parse_args()\n",
    "    random.seed(_args.seed)\n",
    "    main(_args)\n",
    "    logger.info('end')\n"
   ]
  }
 ],
 "metadata": {
  "kernelspec": {
   "display_name": "vllm",
   "language": "python",
   "name": "python3"
  },
  "language_info": {
   "name": "python",
   "version": "3.11.9"
  }
 },
 "nbformat": 4,
 "nbformat_minor": 2
}
