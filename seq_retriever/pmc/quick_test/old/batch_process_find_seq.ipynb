{
 "cells": [
  {
   "cell_type": "markdown",
   "metadata": {},
   "source": [
    "# RAG提取文中的氨基酸肽序列"
   ]
  },
  {
   "cell_type": "code",
   "execution_count": 2,
   "metadata": {},
   "outputs": [
    {
     "name": "stdout",
     "output_type": "stream",
     "text": [
      "1606    25670897\n",
      "Name: pmid, dtype: object\n"
     ]
    }
   ],
   "source": [
    "import pandas as pd\n",
    "import json\n",
    "\n",
    "#获取文章的pmcid-pmid键值对\n",
    "dic={'pmcid':[],'pmid':[]}\n",
    "with open('/mnt/nas/handu/data/anti_inflammation_pubmed/full_text_pmcid_pmid_map.json','r') as f:\n",
    "    js_list=json.load(f)\n",
    "    for unit in js_list:\n",
    "        dic['pmcid'].append(unit['pmcid'])\n",
    "        dic['pmid'].append(unit['pmid'])\n",
    "\n",
    "df_ids=pd.DataFrame(dic)\n"
   ]
  },
  {
   "cell_type": "code",
   "execution_count": null,
   "metadata": {},
   "outputs": [],
   "source": [
    "pmid_sel = df_ids[df_ids['pmcid'] == 'PMC4315550']['pmid']\n",
    "print(pmid_sel)"
   ]
  },
  {
   "cell_type": "code",
   "execution_count": 2,
   "metadata": {},
   "outputs": [
    {
     "data": {
      "text/html": [
       "<div>\n",
       "<style scoped>\n",
       "    .dataframe tbody tr th:only-of-type {\n",
       "        vertical-align: middle;\n",
       "    }\n",
       "\n",
       "    .dataframe tbody tr th {\n",
       "        vertical-align: top;\n",
       "    }\n",
       "\n",
       "    .dataframe thead th {\n",
       "        text-align: right;\n",
       "    }\n",
       "</style>\n",
       "<table border=\"1\" class=\"dataframe\">\n",
       "  <thead>\n",
       "    <tr style=\"text-align: right;\">\n",
       "      <th></th>\n",
       "      <th>pmcid</th>\n",
       "      <th>pmid</th>\n",
       "      <th>is_review</th>\n",
       "    </tr>\n",
       "  </thead>\n",
       "  <tbody>\n",
       "    <tr>\n",
       "      <th>0</th>\n",
       "      <td>PMC6544583</td>\n",
       "      <td>31193882</td>\n",
       "      <td>0</td>\n",
       "    </tr>\n",
       "    <tr>\n",
       "      <th>1</th>\n",
       "      <td>PMC10409771</td>\n",
       "      <td>37553374</td>\n",
       "      <td>0</td>\n",
       "    </tr>\n",
       "    <tr>\n",
       "      <th>2</th>\n",
       "      <td>PMC4760456</td>\n",
       "      <td>26660549</td>\n",
       "      <td>0</td>\n",
       "    </tr>\n",
       "    <tr>\n",
       "      <th>3</th>\n",
       "      <td>PMC7429751</td>\n",
       "      <td>32795323</td>\n",
       "      <td>0</td>\n",
       "    </tr>\n",
       "    <tr>\n",
       "      <th>4</th>\n",
       "      <td>PMC8017164</td>\n",
       "      <td>33815353</td>\n",
       "      <td>0</td>\n",
       "    </tr>\n",
       "    <tr>\n",
       "      <th>...</th>\n",
       "      <td>...</td>\n",
       "      <td>...</td>\n",
       "      <td>...</td>\n",
       "    </tr>\n",
       "    <tr>\n",
       "      <th>2737</th>\n",
       "      <td>PMC9014016</td>\n",
       "      <td>35444957</td>\n",
       "      <td>0</td>\n",
       "    </tr>\n",
       "    <tr>\n",
       "      <th>2738</th>\n",
       "      <td>PMC4484568</td>\n",
       "      <td>26175842</td>\n",
       "      <td>0</td>\n",
       "    </tr>\n",
       "    <tr>\n",
       "      <th>2739</th>\n",
       "      <td>PMC4281220</td>\n",
       "      <td>25551573</td>\n",
       "      <td>0</td>\n",
       "    </tr>\n",
       "    <tr>\n",
       "      <th>2740</th>\n",
       "      <td>PMC4671727</td>\n",
       "      <td>26642048</td>\n",
       "      <td>0</td>\n",
       "    </tr>\n",
       "    <tr>\n",
       "      <th>2741</th>\n",
       "      <td>PMC9786789</td>\n",
       "      <td>36556373</td>\n",
       "      <td>1</td>\n",
       "    </tr>\n",
       "  </tbody>\n",
       "</table>\n",
       "<p>2742 rows × 3 columns</p>\n",
       "</div>"
      ],
      "text/plain": [
       "            pmcid      pmid  is_review\n",
       "0      PMC6544583  31193882          0\n",
       "1     PMC10409771  37553374          0\n",
       "2      PMC4760456  26660549          0\n",
       "3      PMC7429751  32795323          0\n",
       "4      PMC8017164  33815353          0\n",
       "...           ...       ...        ...\n",
       "2737   PMC9014016  35444957          0\n",
       "2738   PMC4484568  26175842          0\n",
       "2739   PMC4281220  25551573          0\n",
       "2740   PMC4671727  26642048          0\n",
       "2741   PMC9786789  36556373          1\n",
       "\n",
       "[2742 rows x 3 columns]"
      ]
     },
     "execution_count": 2,
     "metadata": {},
     "output_type": "execute_result"
    }
   ],
   "source": [
    "#获取review标签\n",
    "with open('/mnt/nas/handu/data/anti_inflammation_pubmed/review_pmid_list.txt','r') as f:\n",
    "    review_list=f.read().split('\\n')\n",
    "df_ids['is_review']=df_ids['pmid'].apply(lambda x: 1*(x in review_list))\n",
    "df_ids"
   ]
  },
  {
   "cell_type": "code",
   "execution_count": 3,
   "metadata": {},
   "outputs": [
    {
     "name": "stderr",
     "output_type": "stream",
     "text": [
      "/home/qcdong/anaconda3/envs/llaIdx/lib/python3.10/site-packages/tqdm/auto.py:21: TqdmWarning: IProgress not found. Please update jupyter and ipywidgets. See https://ipywidgets.readthedocs.io/en/stable/user_install.html\n",
      "  from .autonotebook import tqdm as notebook_tqdm\n"
     ]
    }
   ],
   "source": [
    "import os\n",
    "import sys\n",
    "sys.path.append(os.path.abspath('/home/qcdong/codes/llamaIndex'))\n",
    "from utils_llama_index.llm_loader import load_hf_llm\n",
    "from llama_index.core import PromptTemplate, Settings\n",
    "\n",
    "\n",
    "os.environ[\"CUDA_VISIBLE_DEVICES\"] = \"1\"\n",
    "os.environ[\"LLAMA_INDEX_CACHE_DIR\"] = \"/mnt/nas1/models/llama_index_cache\"\n",
    "# Settings.llm = load_hf_llm()\n",
    "Settings.embed_model = \"local:/mnt/nas1/models/BAAI/bge-small-en-v1.5\"\n"
   ]
  },
  {
   "cell_type": "markdown",
   "metadata": {},
   "source": [
    "## 混合索引引擎"
   ]
  },
  {
   "cell_type": "code",
   "execution_count": 4,
   "metadata": {},
   "outputs": [],
   "source": [
    "# import QueryBundle\n",
    "from llama_index.core import QueryBundle\n",
    "\n",
    "# import NodeWithScore\n",
    "from llama_index.core.schema import NodeWithScore\n",
    "\n",
    "# Retrievers\n",
    "from llama_index.core.retrievers import (\n",
    "    BaseRetriever,\n",
    "    VectorIndexRetriever,\n",
    ")\n",
    "from llama_index.core.schema import BaseNode\n",
    "\n",
    "from typing import List"
   ]
  },
  {
   "cell_type": "code",
   "execution_count": 5,
   "metadata": {},
   "outputs": [],
   "source": [
    "from utils_llama_index.retriever_util import CustomRetriever, AutoMergingRetrieverMixedHierarchicalNodes\n"
   ]
  },
  {
   "cell_type": "markdown",
   "metadata": {},
   "source": [
    "## 批量文章挖掘seq"
   ]
  },
  {
   "cell_type": "code",
   "execution_count": 6,
   "metadata": {},
   "outputs": [],
   "source": [
    "import json\n",
    "import os\n",
    "import re\n",
    "from llama_index.core.schema import Document\n",
    "#os.chdir('/home/cymei/nlp_task/anti_inflammation')\n",
    "\n",
    "# 文本载入函数。由于此次任务是寻找seq序列，和之前seq序列判断任务不同，暂时不考虑文本预处理\n",
    "def load_doc(file_name):\n",
    "    with open(file_name,'r') as f:\n",
    "        js_file=json.load(f)\n",
    "        js_text=js_file['text']\n",
    "\n",
    "    return Document(text=js_text)"
   ]
  },
  {
   "cell_type": "code",
   "execution_count": 23,
   "metadata": {},
   "outputs": [
    {
     "name": "stdout",
     "output_type": "stream",
     "text": [
      "PMC7429751\n",
      "in ALX/FPR2 expression after SAH over time, as shown in Fig. 1b, the expression of ALX/FPR2 protein in the rat brain significantly increased from 24 h to 3 days before decreasing on the 7th day after \n",
      "\n",
      "PMC8096073\n",
      "in ALX/FPR2 expression was considered to be mainly because of indomethacin-promoted infiltration of inflammatory cells into the small intestinal tissue. Furthermore, indomethacin-induced small intesti\n",
      "\n",
      "PMC8279484\n",
      "in ALX/FPR2 expressing cells as a resultof stimulation with ATP (1 μM) or Wp (2 nM). Importantly, ATPstimulated Ca2+ mobilization in wild-type HEK-293 cells,whereas the ALX/FPR2 ligands (sLXms, Wp, LX\n",
      "\n",
      "PMC4827125\n",
      "in ALX/FPR2−/− mice treated with LPS. However, previous reports in other disease models have shown that the degree of immune cell infiltration is organ-specific and dependent on time course of infecti\n",
      "in ALX/FPR2−/− mice treated with LPS as compared to C57BL/6 mice, while no upregulation of pro-inflammatory cytokines was observed in animals treated with PBS (Fig. 2). These results are consistent wi\n",
      "in ALX/FPR2−/− mice from the LPS stimulation group (Fig. 3). Similar to what we observed in the histopathological studies, we found no gender differences between the groups studied here. Somewhat surp\n",
      "in ALX/FPR2−/− mice after 24 h stimulation with LPS.                    ALX/FPR2−/− mice treated with LPS showed increased apoptosis in SMG        The M3R and AQP5 protein expression levels did not di\n",
      "in ALX/FPR2−/− mice treated LPS (as we still see expression of these proteins in the ALX/FPR2−/− mice, Fig. 3). Therefore, we investigated whether LPS caused salivary gland cell death, thus leading to\n",
      "in ALX/FPR2−/− mice (Fig. 5A,B). Our results are consistent with our previous studies indicating that LPS causes apoptosis in salivary cells in vivo323334. However, this is the first study to show tha\n",
      "in ALX/FPR2−/− mice treated with LPS, consistent with a loss of neurons in SMG (Fig. 6A). Previous studies demonstrated that LPS triggers systematic inflammation leading to either central or periphera\n",
      "in ALX/FPR2−/− mice due to unresolved inflammation.        Moreover, we found the localization and expression of tight junction protein ZO-1 was also altered in ALX/FPR2−/− mice treated with LPS of bo\n",
      "in ALX/FPR2−/− mice treated with LPS of both genders (Fig. 6B). Therefore, the representative results of male groups are shown with higher magnification in Fig. 6C,D. In C57BL/6 and ALX/FPR2−/− mice i\n",
      "\n",
      "\n"
     ]
    }
   ],
   "source": [
    "# check data\n",
    "from pathlib import Path\n",
    "\n",
    "for i, row in df_ids.iterrows():\n",
    "    pmc_file = f'/mnt/nas/handu/data/anti_inflammation_pubmed/pmc_parse/{row[\"pmcid\"]}.json'\n",
    "    if not Path(pmc_file).exists():\n",
    "        continue\n",
    "    with open(pmc_file,'r') as f:\n",
    "        js_file=json.load(f)\n",
    "        text=js_file['text']\n",
    "    target_txt = 'in ALX/FPR2'\n",
    "    if target_txt in text:\n",
    "        print(row['pmcid'])\n",
    "        i = text.find(target_txt)\n",
    "        while i > -1:\n",
    "            print(text[i: i+200])\n",
    "            i = text.find(target_txt, i + 1)\n",
    "        print()\n",
    "\"\"\"  \n",
    "PMC4315550\n",
    "HIV-Tat (CGGGGYGRKKRRQRRR) peptides were synthesized in the solid phase using fluorenylmethoxycarbonyl protected amino acids following procedures previously described.37,38 The polyglycine sequence is\n",
    "POD (CGGG[ARKKAAKA]4) and HIV-Tat (CGGGGYGRKKRRQRRR) peptides were synthesized in the solid phase using fluorenylmethoxycarbonyl protected amino acids following procedures previously described.37,38 T\n",
    "\"\"\"\n",
    "print()"
   ]
  },
  {
   "cell_type": "code",
   "execution_count": 29,
   "metadata": {},
   "outputs": [
    {
     "name": "stdout",
     "output_type": "stream",
     "text": [
      "(2366, 3) (376, 3)\n",
      "11\n",
      "['PMC4315550' 'PMC7930508' 'PMC2828392' 'PMC4803614' 'PMC4946119'\n",
      " 'PMC10104456' 'PMC10838977' 'PMC4138593' 'PMC10376369' 'PMC2975941'\n",
      " 'PMC9025908']\n"
     ]
    }
   ],
   "source": [
    "import os\n",
    "from IPython.display import Markdown, display\n",
    "import time\n",
    "\n",
    "seed = 0\n",
    "# 从review和非review样本中随机各抽取5个进行尝试\n",
    "df_test = pd.concat(\n",
    "    [\n",
    "        # df_ids[df_ids['pmcid'] == 'PMC4827125'],\n",
    "        df_ids[df_ids['pmcid'] == 'PMC4315550'],\n",
    "        df_ids[df_ids[\"is_review\"] == 0].sample(5, random_state=seed),\n",
    "        df_ids[df_ids[\"is_review\"] == 1].sample(5, random_state=seed),\n",
    "    ]\n",
    ")\n",
    "print(\n",
    "    df_ids[df_ids[\"is_review\"] == 0].shape,\n",
    "    df_ids[df_ids[\"is_review\"] == 1].shape,\n",
    ")\n",
    "# 记录模型回答以及支持观点的段落\n",
    "df_test[\"model_response\"] = \"\"\n",
    "df_test[\"supportive_context\"] = \"\"\n",
    "\n",
    "pmc_ids_test_list = df_test[\n",
    "    \"pmcid\"\n",
    "].unique()  # df_seq['pmcid'].unique()  PMC2408570  PMC6554247  PMC9786789  PMC6544583\n",
    "print(len(pmc_ids_test_list))\n",
    "print(pmc_ids_test_list)"
   ]
  },
  {
   "cell_type": "code",
   "execution_count": 30,
   "metadata": {},
   "outputs": [
    {
     "name": "stdout",
     "output_type": "stream",
     "text": [
      "> Merging 1 nodes into parent node.\n",
      "> Parent node id: cc6f46f1-5cf8-4e46-ac5a-41e5e9236468.\n",
      "> Parent node text: The reaction was carried out using N-diisopropylcarbodiimide and 1-hydroxybenzotriazole in DMF me...\n",
      "\n",
      "> Merging 1 nodes into parent node.\n",
      "> Parent node id: 2db8684d-7714-42aa-bd70-115769490257.\n",
      "> Parent node text: Unreacted POD and HIV-Tat were quantified using Ellman’s assay.44 A solution of 0.1–0.2 μmol of t...\n",
      "\n",
      "> Merging 1 nodes into parent node.\n",
      "> Parent node id: e40bf989-493c-4000-a8f4-ce4f96b4ab88.\n",
      "> Parent node text: These results indicate that a slight drug association exists when the peptides are within the pol...\n",
      "\n",
      "--------PMC4315550--------response_nodes num:10--------\n"
     ]
    },
    {
     "data": {
      "text/markdown": [
       "<b>The different peptide sequences with anti-inflammatory ability mentioned in the context are:\n",
       "\n",
       "1. POD (CGGG[ARKKAAKA]4): This peptide sequence is mentioned in Context 3, where it is described as being synthesized in the solid phase using fluorenylmethoxycarbonyl protected amino acids. The POD peptide is designed for ocular delivery and has been shown to have anti-inflammatory effects, as discussed in Context 0.\n",
       "\n",
       "2. HIV-Tat (CGGGGYGRKKRRQRRR): This peptide sequence is also mentioned in Context 3, where it is described as being synthesized in the solid phase using fluorenylmethoxycarbonyl protected amino acids. Although not explicitly mentioned as having anti-inflammatory effects, the HIV-Tat peptide has been studied for its ability to penetrate cells and could potentially be used for drug delivery purposes, which may include anti-inflammatory applications.\n",
       "\n",
       "The reason these two peptide sequences are considered to have anti-inflammatory ability is due to their association with the development and prevention of ocular inflammation, as discussed in Context 0. The POD peptide, in particular, has been shown to have a significant anti-inflammatory effect in preventing ocular inflammation induced by SA.\n",
       "\n",
       "The top 3 most supportive context numbers for this query are:\n",
       "\n",
       "1. Context 0: This context directly discusses the anti-inflammatory effect of the POD peptide in preventing ocular inflammation induced by SA, providing evidence of its anti-inflammatory ability.\n",
       "2. Context 3: This context provides information on the synthesis of the POD and HIV-Tat peptides, which are both mentioned in Context 0 as having potential anti-inflammatory effects.\n",
       "3. Context 9: This context discusses the conjugation of Rho-peptides with PLGA-PEG-maleimide to create NPs with potential anti-inflammatory properties, which is related to the development and application of peptides like POD and HIV-Tat.</b>"
      ],
      "text/plain": [
       "<IPython.core.display.Markdown object>"
      ]
     },
     "metadata": {},
     "output_type": "display_data"
    }
   ],
   "source": [
    "from utils_llama_index.api_client import query_with_nodes\n",
    "\n",
    "for pmc_id in pmc_ids_test_list:\n",
    "    file_loc = \"/mnt/nas/handu/data/anti_inflammation_pubmed/pmc_parse/{}.json\".format(\n",
    "        pmc_id\n",
    "    )\n",
    "    doc_text = load_doc(file_loc)\n",
    "\n",
    "    # 使用llama-index建立查询引擎\n",
    "    summarier = AutoMergingRetrieverMixedHierarchicalNodes([doc_text])\n",
    "\n",
    "    # 设置检索关键词\n",
    "    summarier.keywords = [\"peptide\", \"anti-inflammatory\"]\n",
    "    retriever = summarier.hierarchy_node_index(\n",
    "        similarity_top_k=10, max_num_keyword_nodes=4\n",
    "    )\n",
    "\n",
    "    # query中的问题\n",
    "    # 目前该prompt可以引导模型在部分文字中抓取一些seq，但模型无法判断是完整的肽序列还是片段\n",
    "    question = \"\"\"\n",
    "        Please find out all the peptides sequence firstly (motif sequence is not included). The target sequence should only consist of different kinds of peptide.\n",
    "        Finally, plesae do analysis and explain the reason first, then list all peptides sequences that have the ability of anti-inflammation line by line.\n",
    "        Please focuse on the given context and don't use prior knowledge. Please return the top 3 most supportive context number.\n",
    "\"\"\"\n",
    "    question = \"\"\"\n",
    "List all the different peptide sequences which is composed by amino acids (protein names are excluded) that have the anti-inflammation ability, line by line. If there are not peptide sequences, reply no peptide sequences are found from the context. Then explain the reason in the next lines.\n",
    "Finally, return the top 3 most supportive context number.\n",
    "\"\"\"\n",
    "    # Make sure the target sequence numbers are specific about anti-inflammation and don't make any guesses.\n",
    "    # Please return the most supportive context number.\n",
    "\n",
    "    # retriever寻找目标节点\n",
    "    response_nodes = retriever.retrieve(question)\n",
    "    response = query_with_nodes(question, response_nodes)\n",
    "\n",
    "    print(f\"--------{pmc_id}--------response_nodes num:{len(response_nodes)}--------\")\n",
    "    display(Markdown(f\"<b>{response}</b>\"))\n",
    "\n",
    "    # 根据模型回答找出支持的文本片段\n",
    "    context_list = re.findall(\"Context[0-9]+\", response)\n",
    "    context_nums = set(\n",
    "        [int(re.sub(\"Context\", \"\", context)) for context in context_list]\n",
    "    )\n",
    "    condition = df_test[\"pmcid\"] == pmc_id\n",
    "\n",
    "    df_test.loc[condition, \"model_response\"] = response\n",
    "    df_test.loc[condition, \"supportive_context\"] = \"\\n\".join(\n",
    "        [\n",
    "            \"Context{}:\\n\".format(index) + response_nodes[index].text\n",
    "            for index in context_nums\n",
    "            if (index < len(response_nodes))\n",
    "        ]\n",
    "    )\n",
    "    break"
   ]
  },
  {
   "cell_type": "code",
   "execution_count": 13,
   "metadata": {},
   "outputs": [
    {
     "data": {
      "text/html": [
       "<div>\n",
       "<style scoped>\n",
       "    .dataframe tbody tr th:only-of-type {\n",
       "        vertical-align: middle;\n",
       "    }\n",
       "\n",
       "    .dataframe tbody tr th {\n",
       "        vertical-align: top;\n",
       "    }\n",
       "\n",
       "    .dataframe thead th {\n",
       "        text-align: right;\n",
       "    }\n",
       "</style>\n",
       "<table border=\"1\" class=\"dataframe\">\n",
       "  <thead>\n",
       "    <tr style=\"text-align: right;\">\n",
       "      <th></th>\n",
       "      <th>pmcid</th>\n",
       "      <th>pmid</th>\n",
       "      <th>is_review</th>\n",
       "      <th>model_response</th>\n",
       "      <th>supportive_context</th>\n",
       "    </tr>\n",
       "  </thead>\n",
       "  <tbody>\n",
       "    <tr>\n",
       "      <th>1606</th>\n",
       "      <td>PMC4315550</td>\n",
       "      <td>25670897</td>\n",
       "      <td>0</td>\n",
       "      <td>After analyzing the given contexts, I have fou...</td>\n",
       "      <td>Context0:\\nThese results indicate that a sligh...</td>\n",
       "    </tr>\n",
       "    <tr>\n",
       "      <th>1911</th>\n",
       "      <td>PMC4827125</td>\n",
       "      <td>27064029</td>\n",
       "      <td>0</td>\n",
       "      <td>Based on the provided context, there are no pe...</td>\n",
       "      <td>Context0:\\nThe goal of this study was to deter...</td>\n",
       "    </tr>\n",
       "    <tr>\n",
       "      <th>257</th>\n",
       "      <td>PMC3232377</td>\n",
       "      <td>22059987</td>\n",
       "      <td>0</td>\n",
       "      <td>Without the provided contents, I am unable to ...</td>\n",
       "      <td></td>\n",
       "    </tr>\n",
       "    <tr>\n",
       "      <th>2024</th>\n",
       "      <td>PMC2902675</td>\n",
       "      <td>20631879</td>\n",
       "      <td>0</td>\n",
       "      <td>After reviewing the provided contexts, I canno...</td>\n",
       "      <td>Context2:\\nIn all of the experiments described...</td>\n",
       "    </tr>\n",
       "    <tr>\n",
       "      <th>425</th>\n",
       "      <td>PMC9686674</td>\n",
       "      <td>36421317</td>\n",
       "      <td>0</td>\n",
       "      <td>Based on the provided context, here are the se...</td>\n",
       "      <td>Context0:\\nIt was observed that WIKE-14 can ex...</td>\n",
       "    </tr>\n",
       "    <tr>\n",
       "      <th>2320</th>\n",
       "      <td>PMC10230051</td>\n",
       "      <td>37266425</td>\n",
       "      <td>1</td>\n",
       "      <td>Based on the provided context, there are sever...</td>\n",
       "      <td>Context1:\\nActivation of the GLP-1 pathways de...</td>\n",
       "    </tr>\n",
       "    <tr>\n",
       "      <th>793</th>\n",
       "      <td>PMC4216654</td>\n",
       "      <td>25338737</td>\n",
       "      <td>1</td>\n",
       "      <td>Based on the given context, there are several ...</td>\n",
       "      <td>Context0:\\n[42]Inhibts glucagon release by a m...</td>\n",
       "    </tr>\n",
       "    <tr>\n",
       "      <th>752</th>\n",
       "      <td>PMC8772713</td>\n",
       "      <td>35052724</td>\n",
       "      <td>1</td>\n",
       "      <td>After analyzing the provided context, I have f...</td>\n",
       "      <td>Context1:\\nThe LEAPS approach derives benefits...</td>\n",
       "    </tr>\n",
       "    <tr>\n",
       "      <th>1206</th>\n",
       "      <td>PMC9394722</td>\n",
       "      <td>36003669</td>\n",
       "      <td>1</td>\n",
       "      <td>Based on the given context, there are several ...</td>\n",
       "      <td>Context1:\\nThe so-called ‘Cytokine Storm’ that...</td>\n",
       "    </tr>\n",
       "    <tr>\n",
       "      <th>225</th>\n",
       "      <td>PMC8413167</td>\n",
       "      <td>34105114</td>\n",
       "      <td>1</td>\n",
       "      <td>After reviewing the provided context, I have f...</td>\n",
       "      <td>Context0:\\nIt seems that the dual properties m...</td>\n",
       "    </tr>\n",
       "  </tbody>\n",
       "</table>\n",
       "</div>"
      ],
      "text/plain": [
       "            pmcid      pmid  is_review  \\\n",
       "1606   PMC4315550  25670897          0   \n",
       "1911   PMC4827125  27064029          0   \n",
       "257    PMC3232377  22059987          0   \n",
       "2024   PMC2902675  20631879          0   \n",
       "425    PMC9686674  36421317          0   \n",
       "2320  PMC10230051  37266425          1   \n",
       "793    PMC4216654  25338737          1   \n",
       "752    PMC8772713  35052724          1   \n",
       "1206   PMC9394722  36003669          1   \n",
       "225    PMC8413167  34105114          1   \n",
       "\n",
       "                                         model_response  \\\n",
       "1606  After analyzing the given contexts, I have fou...   \n",
       "1911  Based on the provided context, there are no pe...   \n",
       "257   Without the provided contents, I am unable to ...   \n",
       "2024  After reviewing the provided contexts, I canno...   \n",
       "425   Based on the provided context, here are the se...   \n",
       "2320  Based on the provided context, there are sever...   \n",
       "793   Based on the given context, there are several ...   \n",
       "752   After analyzing the provided context, I have f...   \n",
       "1206  Based on the given context, there are several ...   \n",
       "225   After reviewing the provided context, I have f...   \n",
       "\n",
       "                                     supportive_context  \n",
       "1606  Context0:\\nThese results indicate that a sligh...  \n",
       "1911  Context0:\\nThe goal of this study was to deter...  \n",
       "257                                                      \n",
       "2024  Context2:\\nIn all of the experiments described...  \n",
       "425   Context0:\\nIt was observed that WIKE-14 can ex...  \n",
       "2320  Context1:\\nActivation of the GLP-1 pathways de...  \n",
       "793   Context0:\\n[42]Inhibts glucagon release by a m...  \n",
       "752   Context1:\\nThe LEAPS approach derives benefits...  \n",
       "1206  Context1:\\nThe so-called ‘Cytokine Storm’ that...  \n",
       "225   Context0:\\nIt seems that the dual properties m...  "
      ]
     },
     "execution_count": 13,
     "metadata": {},
     "output_type": "execute_result"
    }
   ],
   "source": [
    "df_test"
   ]
  },
  {
   "cell_type": "code",
   "execution_count": 45,
   "metadata": {},
   "outputs": [],
   "source": [
    "df_test.to_csv('./10patents_example.csv',index=False)"
   ]
  },
  {
   "cell_type": "code",
   "execution_count": 27,
   "metadata": {},
   "outputs": [
    {
     "data": {
      "text/markdown": [
       "**Node ID:** bc7b9bc5-089c-492d-b968-96c72a8e391f<br>**Similarity:** 0.8580143326929651<br>**Text:** In fact, a number of current TCM prescriptions use epimedium as the main ingredient or monarch such as the Xianling Gubao capsule, Er-Xian Decoction and Xian-Zhen Decoction. Other ingredients such as psoralea and drynaria rhizome serve as ministers or assistants to the monarch ingredient and are also included in these formulations.38      In this study, we present the development of a minimal TCM formula primarily containing two ingredients, epimedium and drynaria. Epimedium was chosen as the main or monarch ingredient partially because of its TCM warming properties but also because of its in vitro biological activities. Drynaria was chosen as a minister ingredient to the monarch to further strengthen the kidney and to support CRE activation and possible osteogenic activities. The other ingredients such as danshen were considered as assistants for invigorating the spleen and replenishment of qi as well as their anti-inflammatory activity.<br>"
      ],
      "text/plain": [
       "<IPython.core.display.Markdown object>"
      ]
     },
     "metadata": {},
     "output_type": "display_data"
    },
    {
     "name": "stdout",
     "output_type": "stream",
     "text": [
      "--------\n"
     ]
    },
    {
     "data": {
      "text/markdown": [
       "**Node ID:** 67fb29a4-ade9-4616-95dd-e561678a8abb<br>**Similarity:** 0.8572586696340335<br>**Text:** LTD and E2 was from Bayer Pharmaceutical Co. Ltd. (Guangzhou, CN).        Vectors pGL4.29[luc2P/CRE/Hygro], pGL4.26 [luc2/minP/Hygro], pGL4.17 [luc2/Neo], pGL4.35 [luc2P/9XGAL4UAS/Hygro], pBIND-ERα-LBD (residues 299-595), and Fugene 6 and Fugene HD were purchased from Promega Inc. (Madison, WI). Vector pNF-κβ-Luc was from Clontech Laboratories (Mountain View, CA). Vectors pCMV6-XL4 ER β (Cat# SC119216), and pCMV6-NEO were purchased from Origene Technologies (Rockville, MD). Vector pCR BluntII TOPO ER α (Cat# MHS6278-211691051) was from Dharmacon (Lafayette, CO).<br>"
      ],
      "text/plain": [
       "<IPython.core.display.Markdown object>"
      ]
     },
     "metadata": {},
     "output_type": "display_data"
    },
    {
     "name": "stdout",
     "output_type": "stream",
     "text": [
      "--------\n"
     ]
    },
    {
     "data": {
      "text/markdown": [
       "**Node ID:** 04a36885-efdb-4092-aa83-bf8bb589b0b1<br>**Similarity:** 0.8518454004028271<br>**Text:** 4                    3.3        Anti-inflammatory activity determination        Pretreatment of A549 cells containing the NF-κβ activation reporter construct with either danshen, epimedium, or milkvetch extracts (40 μg/mL) inhibited IL-1β (100 pg/mL) activation of NF-κβ (Fig. 5). The other extracts did not demonstrate appreciable anti-inflammatory activity. The anti-inflammatory activity did not correlate to CRE activation. Drynaria did not inhibit NF-κβ activation by IL-1β despite activating CRE. Bay 11-7082 (12.5 μM) was used as a control inhibitor of IL-1β activated NF-κβ.34Fig. 5Effect of selected TCM plant extracts on the inhibition of NF-κβ activation by IL-1β. Plant extracts were resuspended in DMSO and added at a final concentration of 40 μg/mL to A549 cells stably transfected with an NF-κβ responsive luciferase reporter construct. Cells were stimulated with IL-1β (100 pg/mL). Control treatments were IL-1β only and Bay11 (B; 12.5 μM). Cells were treated for 6 h. Extract abbreviations were as follows: An, Angelica; As, Asiatic Cornelian Cherry; D, Danshen; Dr, Drynaria; DS, Dodder Seed; E, Epimedium, Eu, Eucommia; GP, Glossy Privet; IB, Indian Bread; M, Milkvetch; MC, Medicinal Cyathula; P, Psoralea: R, Rehmannia; TA, Two-toothed Achyranthes; WB, Wolfberry root bark; and Y, Common Yan Rhizome. Data are represented as mean ± SD of relative luminescence units (RLUs (n = 3); #p < 0.0001 compared to untreated (Unt) controls).Fig. 5                    3.4        Activation of bone specific genes Runx2 and Bmp-4        For subsequent evaluations, epimedium and drynaria were selected as companion ingredients and tested in additional bone related assays. Epimedium was selected as the primary (or monarch) ingredient for four reasons: 1) it activates the full-length ERα and ERβ (Fig.<br>"
      ],
      "text/plain": [
       "<IPython.core.display.Markdown object>"
      ]
     },
     "metadata": {},
     "output_type": "display_data"
    },
    {
     "name": "stdout",
     "output_type": "stream",
     "text": [
      "--------\n"
     ]
    },
    {
     "data": {
      "text/markdown": [
       "**Node ID:** e8623f07-fa6c-4e4c-a55f-44681f23d28a<br>**Similarity:** 0.850741723090024<br>**Text:** The thermo-cycling conditions were as follows: 95○C for 30 s; 40 cycles of 58○C for 5 s; and 95○C for 5 s. Each column represents the mean response ± SD of 4 separate individual experiments (n = 4; compared to untreated (Unt) control group; *p < 0.05, **p < 0.01, and #p < 0.0001).Fig. 6                    3.5        Inhibition of osteoclast development        The E:Dr combination was further evaluated in an osteoclast development model while testing the addition of a third ingredient. Danshen was selected as a possible third ingredient because of its robust anti-inflammatory activity (Fig. 5). Angelica and Wolfberry Bark were also selected as possible third ingredients to be tested because of their modest anti-inflammatory activity and their lack of activity on isolated ER LBDs. Psorelea and milkvetch were avoided as the third ingredients because of their minimal activity on isolated ERβ LBD (Fig. 2).        All treatments inhibited the differentiation of pre-osteoclast to osteoclasts containing the E:Dr combo alone or in combination with a third ingredient in a dose dependent manner as measured by the development of TRAP concentration, an indicator of osteoclast development (Fig. 7). At 13 and 40 μg/ml the group containing D as the third ingredient appeared to outperform the groups containing An or WB as a third ingredient which also had less anti-inflammatory activity than D. Further evaluation of these ingredient combinations were completed in the ovariectomized rat model to determine if inhibition of TRAP activity was a good indicator of in vivo activity.Fig. 7Effect of epimedium/drynaria combinations with and without a third plant extract on the development of osteoclasts as determined by alkaline phosphatase levels.<br>"
      ],
      "text/plain": [
       "<IPython.core.display.Markdown object>"
      ]
     },
     "metadata": {},
     "output_type": "display_data"
    },
    {
     "name": "stdout",
     "output_type": "stream",
     "text": [
      "--------\n"
     ]
    },
    {
     "data": {
      "text/markdown": [
       "**Node ID:** 01df1321-1c78-44d8-9e88-ae32647e5499<br>**Similarity:** 0.8472513373429086<br>**Text:** 2.6        Response element reporter assays        Stable cell lines for the CRE and NF-κβ reporter assays were created by transfecting HEK293T/17 and A549 cells with vectors pGL4.29 CRE and pGL4.17 NF-κβ Luc2, respectively. Hygromycin (1200 μg/mL) and neomycin (400 μg/mL) supplemented DMEM and F12K media, respectively, were used to select monoclonal cell lines which were tested for assay responsiveness and selected for further development. The resulting stable cell lines were maintained in their respective growth media supplemented with 600 μg/mL hygromycin or 200 μg/mL neomycin.        The CRE activation assay was described previously.22 Briefly, ∼15,000 CRE reporter transfectant cells were plated per well in white walled 96 well poly-d-lysine coated plates (Corning™ Biocoat™). After 24 h, the media was changed to DMEM media lacking FBS but containing 0.5% BSA and incubated for another 24 h. Test ingredients were diluted in DMEM containing 0.5% BSA and added to the cells then incubated 6 h. Luciferase was quantified by activity assay described below.        To test for the inhibition of NF-κβ activation, ∼15,000 NF-κβ Luc2 reporter transfectant cells were plated per well in white walled 96 well plates in F12K growth media. After 24 h, the media was changed from F12K growth media to OptiPRO SFM supplemented with 4 mM l-glutamine, 0.5% BSA and incubated for another 24 h. Test ingredients were diluted in OptiPRO SFM/l-glutamine containing 0.5% BSA and added to the cells. After 20 min, NF-κβ activating compound, IL-1β, was added to each well at a concentration of 100 pg/mL and the treatments incubated for another 6 h. Luciferase was quantified by activity assay described below.                    2.7        Ligand binding domain reporter assays        Cell lines containing two different vectors were needed to evaluate activation of the individual LBD of ERα and/or ERβ.<br>"
      ],
      "text/plain": [
       "<IPython.core.display.Markdown object>"
      ]
     },
     "metadata": {},
     "output_type": "display_data"
    },
    {
     "name": "stdout",
     "output_type": "stream",
     "text": [
      "--------\n"
     ]
    },
    {
     "data": {
      "text/markdown": [
       "**Node ID:** f3f9b180-bc05-4dd6-88bd-8bf795a7a45b<br>**Similarity:** 0.8411315442913609<br>**Text:** 3); but 2) it does not behave like estrogen because it does not activate either ERα LBD or ERβ LBD (Fig. 2); 3) it is a strong inhibitor of NF-κβ activation by IL-1β (Fig. 5); and 4) it activates CRE a possible bone building pathway. Drynaria was selected as a companion ingredient to epimedium because of its capability to activate CRE, a known downstream target of PTH, a bone building treatment.        The epimedium and drynaria (E:Dr; 1:1) combination was tested in a bone-precursor, CRE-sensitive cell line, MC3T3-E1.35 Bone morphogenic signals in MC3T3-E1 cells,36 Runx2 (Runt-Related Transcription Factor 2) and Bmp4 (bone morphogenic peptide 4) were measured following treatment with different doses of a 1:1 combination of epimedium and drynaria. Forskolin, a known CRE activator, was used as a positive control.<br>"
      ],
      "text/plain": [
       "<IPython.core.display.Markdown object>"
      ]
     },
     "metadata": {},
     "output_type": "display_data"
    },
    {
     "name": "stdout",
     "output_type": "stream",
     "text": [
      "--------\n"
     ]
    },
    {
     "data": {
      "text/markdown": [
       "**Node ID:** f523df7e-1940-4280-a504-826da26492a7<br>**Similarity:** 0.840144826928874<br>**Text:** There is little information on the development of a simple formulation using two or three TCM ingredients on bone mineral density (BMD) improvement and their biological activities on bone specific targets. Medicines containing fewer extracts would be more suitable for maintaining integrity and quality of the individual components and would also help in the standardization of TCM.      In this study, we selected 16 plant extracts used in TCM to improve bone health. These plants were evaluated for bone building potential by examining their ability to activate CRE, as well as their ability to block osteoclast development, and inflammation through NF-κβ inhibition.<br>"
      ],
      "text/plain": [
       "<IPython.core.display.Markdown object>"
      ]
     },
     "metadata": {},
     "output_type": "display_data"
    },
    {
     "name": "stdout",
     "output_type": "stream",
     "text": [
      "--------\n"
     ]
    },
    {
     "data": {
      "text/markdown": [
       "**Node ID:** 9a02eaa0-5f93-4579-a089-3ac3136e5230<br>**Similarity:** 0.8399784484138657<br>**Text:** Epimedium and drynaria activated these targets despite the presence of estrogenic materials, phenol-red and FBS.49 We suggest that epimedium and drynaria may be upregulating these genes through their activation of CRE. Fsk, a adenylate cyclase activator and epimedium have previously been shown to upregulate CRE-related responses.44 Drynaria has not been shown previously to activate CRE.      Osteoclast development was inhibited by the epimedium and drynaria combination in a dose-dependent manner and the addition of a third ingredient, either danshen, angelica or wolfberry augmented the inhibition at selected doses. Previously, epimedium alone has been shown to inhibit NF-κβ activation as well as to stimulate p38 MAPK to inhibit NF-κβ during osteoclast differentiation.45, 46, 47, 48 The NF-κβ inhibition by epimedium does not appear to be the result of either CRE activation and/or ER activation50, 51, 52 because other extracts that activate these pathways (drynaria and psoralea, respectively) do not inhibit NF-κβ activation.<br>"
      ],
      "text/plain": [
       "<IPython.core.display.Markdown object>"
      ]
     },
     "metadata": {},
     "output_type": "display_data"
    },
    {
     "name": "stdout",
     "output_type": "stream",
     "text": [
      "--------\n"
     ]
    },
    {
     "data": {
      "text/markdown": [
       "**Node ID:** 2ebcb2ed-9bae-4a77-a7a7-3be231763a1f<br>**Similarity:** 0.8328065251198418<br>**Text:** The ERβ-LBD (residues 227-530) was PCR amplified from full-length human ERβ (SC119216, OriGene Technologies (Rockville, MD)) using forward and reverse primers 5′-CGATCGTTCGCCTTGTGCGGAGACAGAGAAGTGCC-3′ and 5′-TCTAGATTACTGAGACTGTGGGTTCTGGGAGCCCTC-3′, incorporating PvuI and XbaI sites at the 5′ and 3′ ends, respectively. The ERβ-LBD fragment was then ligated into the pBIND3 PvuI/XbaI site forming a Gal4- ERβ -LBD fusion protein.                            2.5        Cell culture and stable cell lines        Chinese hamster ovary (CHO-K1), MC3T3-E1 subclone 14, HEK293T/17, SK-N-SH, and A549 were purchased from ATCC (Manasas, VA) and grown in in DMEM or αMEM or DMEM or EMEM or F12K media, respectively.<br>"
      ],
      "text/plain": [
       "<IPython.core.display.Markdown object>"
      ]
     },
     "metadata": {},
     "output_type": "display_data"
    },
    {
     "name": "stdout",
     "output_type": "stream",
     "text": [
      "--------\n"
     ]
    }
   ],
   "source": [
    "from llama_index.response.notebook_utils import display_source_node\n",
    "for node in response_nodes:\n",
    "    display_source_node(node, source_length=20000)\n",
    "    print(\"--------\")"
   ]
  }
 ],
 "metadata": {
  "kernelspec": {
   "display_name": "torch",
   "language": "python",
   "name": "python3"
  },
  "language_info": {
   "codemirror_mode": {
    "name": "ipython",
    "version": 3
   },
   "file_extension": ".py",
   "mimetype": "text/x-python",
   "name": "python",
   "nbconvert_exporter": "python",
   "pygments_lexer": "ipython3",
   "version": "3.10.14"
  }
 },
 "nbformat": 4,
 "nbformat_minor": 2
}
