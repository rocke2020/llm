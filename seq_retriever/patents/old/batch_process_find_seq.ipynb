{
 "cells": [
  {
   "cell_type": "markdown",
   "metadata": {},
   "source": [
    "# RAG提取文中的氨基酸肽序列"
   ]
  },
  {
   "cell_type": "code",
   "execution_count": 1,
   "metadata": {},
   "outputs": [],
   "source": [
    "import pandas as pd\n",
    "import json\n",
    "\n",
    "#获取文章的pmcid-pmid键值对\n",
    "dic={'pmcid':[],'pmid':[]}\n",
    "with open('/mnt/nas/handu/data/anti_inflammation_pubmed/full_text_pmcid_pmid_map.json','r') as f:\n",
    "    js_list=json.load(f)\n",
    "    for unit in js_list:\n",
    "        dic['pmcid'].append(unit['pmcid'])\n",
    "        dic['pmid'].append(unit['pmid'])\n",
    "\n",
    "df_patent=pd.DataFrame(dic)"
   ]
  },
  {
   "cell_type": "code",
   "execution_count": 2,
   "metadata": {},
   "outputs": [],
   "source": [
    "#获取review标签\n",
    "with open('/mnt/nas/handu/data/anti_inflammation_pubmed/review_pmid_list.txt','r') as f:\n",
    "    review_list=f.read().split('\\n')\n",
    "df_patent['is_review']=df_patent['pmid'].apply(lambda x: 1*(x in review_list))"
   ]
  },
  {
   "cell_type": "code",
   "execution_count": 3,
   "metadata": {},
   "outputs": [
    {
     "data": {
      "text/html": [
       "<div>\n",
       "<style scoped>\n",
       "    .dataframe tbody tr th:only-of-type {\n",
       "        vertical-align: middle;\n",
       "    }\n",
       "\n",
       "    .dataframe tbody tr th {\n",
       "        vertical-align: top;\n",
       "    }\n",
       "\n",
       "    .dataframe thead th {\n",
       "        text-align: right;\n",
       "    }\n",
       "</style>\n",
       "<table border=\"1\" class=\"dataframe\">\n",
       "  <thead>\n",
       "    <tr style=\"text-align: right;\">\n",
       "      <th></th>\n",
       "      <th>pmcid</th>\n",
       "      <th>pmid</th>\n",
       "      <th>is_review</th>\n",
       "    </tr>\n",
       "  </thead>\n",
       "  <tbody>\n",
       "    <tr>\n",
       "      <th>0</th>\n",
       "      <td>PMC6544583</td>\n",
       "      <td>31193882</td>\n",
       "      <td>0</td>\n",
       "    </tr>\n",
       "    <tr>\n",
       "      <th>1</th>\n",
       "      <td>PMC10409771</td>\n",
       "      <td>37553374</td>\n",
       "      <td>0</td>\n",
       "    </tr>\n",
       "    <tr>\n",
       "      <th>2</th>\n",
       "      <td>PMC4760456</td>\n",
       "      <td>26660549</td>\n",
       "      <td>0</td>\n",
       "    </tr>\n",
       "    <tr>\n",
       "      <th>3</th>\n",
       "      <td>PMC7429751</td>\n",
       "      <td>32795323</td>\n",
       "      <td>0</td>\n",
       "    </tr>\n",
       "    <tr>\n",
       "      <th>4</th>\n",
       "      <td>PMC8017164</td>\n",
       "      <td>33815353</td>\n",
       "      <td>0</td>\n",
       "    </tr>\n",
       "    <tr>\n",
       "      <th>...</th>\n",
       "      <td>...</td>\n",
       "      <td>...</td>\n",
       "      <td>...</td>\n",
       "    </tr>\n",
       "    <tr>\n",
       "      <th>2737</th>\n",
       "      <td>PMC9014016</td>\n",
       "      <td>35444957</td>\n",
       "      <td>0</td>\n",
       "    </tr>\n",
       "    <tr>\n",
       "      <th>2738</th>\n",
       "      <td>PMC4484568</td>\n",
       "      <td>26175842</td>\n",
       "      <td>0</td>\n",
       "    </tr>\n",
       "    <tr>\n",
       "      <th>2739</th>\n",
       "      <td>PMC4281220</td>\n",
       "      <td>25551573</td>\n",
       "      <td>0</td>\n",
       "    </tr>\n",
       "    <tr>\n",
       "      <th>2740</th>\n",
       "      <td>PMC4671727</td>\n",
       "      <td>26642048</td>\n",
       "      <td>0</td>\n",
       "    </tr>\n",
       "    <tr>\n",
       "      <th>2741</th>\n",
       "      <td>PMC9786789</td>\n",
       "      <td>36556373</td>\n",
       "      <td>1</td>\n",
       "    </tr>\n",
       "  </tbody>\n",
       "</table>\n",
       "<p>2742 rows × 3 columns</p>\n",
       "</div>"
      ],
      "text/plain": [
       "            pmcid      pmid  is_review\n",
       "0      PMC6544583  31193882          0\n",
       "1     PMC10409771  37553374          0\n",
       "2      PMC4760456  26660549          0\n",
       "3      PMC7429751  32795323          0\n",
       "4      PMC8017164  33815353          0\n",
       "...           ...       ...        ...\n",
       "2737   PMC9014016  35444957          0\n",
       "2738   PMC4484568  26175842          0\n",
       "2739   PMC4281220  25551573          0\n",
       "2740   PMC4671727  26642048          0\n",
       "2741   PMC9786789  36556373          1\n",
       "\n",
       "[2742 rows x 3 columns]"
      ]
     },
     "execution_count": 3,
     "metadata": {},
     "output_type": "execute_result"
    }
   ],
   "source": [
    "df_patent"
   ]
  },
  {
   "cell_type": "markdown",
   "metadata": {},
   "source": [
    "## 商用大模型API加载"
   ]
  },
  {
   "cell_type": "code",
   "execution_count": 4,
   "metadata": {},
   "outputs": [],
   "source": [
    "import os\n",
    "\n",
    "os.environ[\"http_proxy\"] = \"http://192.168.1.254:7890\"\n",
    "os.environ[\"https_proxy\"] = \"http://192.168.1.254:7890\""
   ]
  },
  {
   "cell_type": "code",
   "execution_count": 5,
   "metadata": {},
   "outputs": [],
   "source": [
    "from llama_index.llms.perplexity import Perplexity\n",
    "\n",
    "pplx_api_key = \"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\"\n",
    "\n",
    "llm = Perplexity(\n",
    "    api_key=pplx_api_key, model=\"mixtral-8x7b-instruct\", temperature=0.0,\n",
    "    api_base=\"https://api.perplexity.ai\",\n",
    ")"
   ]
  },
  {
   "cell_type": "code",
   "execution_count": 6,
   "metadata": {},
   "outputs": [
    {
     "name": "stderr",
     "output_type": "stream",
     "text": [
      "/home/cymei/miniconda3/envs/torch/lib/python3.11/site-packages/transformers/utils/hub.py:123: FutureWarning: Using `TRANSFORMERS_CACHE` is deprecated and will be removed in v5 of Transformers. Use `HF_HOME` instead.\n",
      "  warnings.warn(\n"
     ]
    }
   ],
   "source": [
    "from llama_index import SimpleDirectoryReader\n",
    "from llama_index import (\n",
    "    VectorStoreIndex,\n",
    "    ServiceContext,\n",
    "    set_global_service_context,\n",
    ")\n",
    "\n",
    "from llama_index.node_parser import (\n",
    "    HierarchicalNodeParser,\n",
    "    SentenceSplitter,\n",
    ")\n",
    "\n",
    "from llama_index.storage.docstore import SimpleDocumentStore\n",
    "from llama_index.storage import StorageContext\n",
    "from llama_index.node_parser import get_leaf_nodes, get_root_nodes\n",
    "from llama_index import VectorStoreIndex\n",
    "from llama_index.retrievers.auto_merging_retriever import AutoMergingRetriever\n",
    "from llama_index.query_engine import RetrieverQueryEngine\n",
    "\n",
    "#载入模型以及embedding功能\n",
    "from llama_index.embeddings.huggingface import HuggingFaceEmbedding\n",
    "embed_model = HuggingFaceEmbedding(\n",
    "    model_name=\"/home/cymei/bge-small-en\",device='cuda:3'\n",
    ")\n",
    "\n",
    "service_context = ServiceContext.from_defaults(\n",
    "    llm=llm, embed_model=embed_model #\"local:/home/cymei/bge-small-en\"\n",
    ")\n",
    "set_global_service_context(service_context)\n",
    "\n"
   ]
  },
  {
   "cell_type": "markdown",
   "metadata": {},
   "source": [
    "## 混合索引引擎"
   ]
  },
  {
   "cell_type": "code",
   "execution_count": 7,
   "metadata": {},
   "outputs": [],
   "source": [
    "# import QueryBundle\n",
    "from llama_index import QueryBundle\n",
    "\n",
    "# import NodeWithScore\n",
    "from llama_index.schema import NodeWithScore\n",
    "\n",
    "# Retrievers\n",
    "from llama_index.retrievers import (\n",
    "    BaseRetriever,\n",
    "    VectorIndexRetriever,\n",
    ")\n",
    "from llama_index.schema import BaseNode\n",
    "\n",
    "from typing import List"
   ]
  },
  {
   "cell_type": "code",
   "execution_count": 8,
   "metadata": {},
   "outputs": [],
   "source": [
    "from nltk import word_tokenize \n",
    "\n",
    "class CustomRetriever(BaseRetriever):\n",
    "    \"\"\"自定义的混合索引类：相似度索引+关键词索引\"\"\"\n",
    "\n",
    "    def __init__(\n",
    "        self,\n",
    "        vector_retriever: VectorIndexRetriever,\n",
    "        vector_retriever_large: VectorIndexRetriever,\n",
    "        max_num_keyword_nodes=3,\n",
    "        keywords=[]\n",
    "    ) -> None:\n",
    "        \"\"\"Init params.\"\"\"\n",
    "\n",
    "        self._vector_retriever = vector_retriever #头部相似度节点\n",
    "        self._vector_retriever_large = vector_retriever_large #更大范围的头部相似度节点(用于关键词搜索)\n",
    "\n",
    "        self.keywords=keywords #索引依据的关键词\n",
    "        self.max_num_keyword_nodes=max_num_keyword_nodes #设置最大关键词节点数量\n",
    "        super().__init__()\n",
    "\n",
    "    def _retrieve(self, query_bundle: QueryBundle) -> List[NodeWithScore]:\n",
    "        \"\"\"Retrieve nodes given query.\"\"\"\n",
    "\n",
    "        #利用两个不同的参数的retriever进行retrieve\n",
    "        vector_nodes = self._vector_retriever.retrieve(query_bundle)\n",
    "        vector_nodes_large = self._vector_retriever_large.retrieve(query_bundle)\n",
    "\n",
    "        #确保集合中的节点id对应的相似度由大到小排列\n",
    "        vector_ids = {n.node_id for n in sorted(vector_nodes,key=lambda node: node.score,reverse=True)} \n",
    "        # vector_ids_large = {n.node_id for n in vector_nodes_large}\n",
    "\n",
    "        #对于更大范围的相似度索引结果，取出其中含有关键词的节点\n",
    "        keyword_ids = []\n",
    "        for n in sorted(vector_nodes_large,key=lambda node: node.score,reverse=True):\n",
    "            for k in self.keywords:\n",
    "                if(k in word_tokenize(n.get_content())):\n",
    "                    #判断关键词是否在文章片段的分词结果中\n",
    "                    keyword_ids.append(n.node_id)\n",
    "                    break\n",
    "\n",
    "        combined_dict = {n.node_id: n for n in vector_nodes}\n",
    "        combined_dict.update({n.node_id: n for n in vector_nodes_large if n.node_id in keyword_ids })\n",
    "\n",
    "        #合并两组节点\n",
    "        if(keyword_ids==[]):\n",
    "            #不含有关键词的情况下照常进行相似度索引\n",
    "            retrieve_ids = vector_ids\n",
    "        else:\n",
    "            keyword_ids_top=set(keyword_ids[:self.max_num_keyword_nodes]) #取相似度最高的几个关键词节点\n",
    "            vector_ids_unique=vector_ids-keyword_ids_top  #top相似度集合中独有的节点\n",
    "            retrieve_ids=keyword_ids_top #关键词集合和top相似度集合共有的节点+关键词集合中独有的节点\n",
    "            add_num=len(vector_ids)-len(keyword_ids_top)\n",
    "            retrieve_ids=set(list(vector_ids_unique)[:add_num]).union(retrieve_ids) #额外添加部分top相似度集合中独有的节点\n",
    "\n",
    "        retrieve_nodes = [combined_dict[rid] for rid in retrieve_ids]\n",
    "        return retrieve_nodes"
   ]
  },
  {
   "cell_type": "code",
   "execution_count": 9,
   "metadata": {},
   "outputs": [],
   "source": [
    "class LLM_summary:\n",
    "    def __init__(self,documents=[],keywords=[]):\n",
    "        self.keywords=keywords\n",
    "        #载入专利文本\n",
    "        self.documents=documents\n",
    "    \n",
    "    def hierarchy_node_index(self,chunk_list=[1024, 512, 256],similarity_top_k=6,max_num_keyword_nodes=3):\n",
    "        '''\n",
    "        获取分层节点，并建立对应索引\n",
    "        设置每一层的token数量、选入prompt的节点数量以及最多含有关键词的节点数量\n",
    "        '''\n",
    "        node_parser = HierarchicalNodeParser.from_defaults(chunk_sizes=chunk_list)\n",
    "        #获取分段后的每个节点\n",
    "        self.nodes = node_parser.get_nodes_from_documents(self.documents)\n",
    "\n",
    "        #建立各个节点的存储\n",
    "        docstore = SimpleDocumentStore()\n",
    "        # insert nodes into docstore\n",
    "        docstore.add_documents(self.nodes)\n",
    "        # define storage context (will include vector store by default too)\n",
    "        storage_context = StorageContext.from_defaults(docstore=docstore)\n",
    "        self.leaf_nodes = get_leaf_nodes(self.nodes)\n",
    "    \n",
    "        # 利用叶子节点计算相似度，并关联到对应的父节点\n",
    "        base_index = VectorStoreIndex(\n",
    "            self.leaf_nodes,\n",
    "            storage_context=storage_context,\n",
    "            #service_context=self.service_context,\n",
    "        )\n",
    "\n",
    "        #用于寻找和问题最相近的头部文本片段\n",
    "        base_retriever = base_index.as_retriever(similarity_top_k=similarity_top_k)\n",
    "        #用于从更大范围中寻找含有关键词的文本片段\n",
    "        large_retriever = base_index.as_retriever(similarity_top_k=len(self.leaf_nodes))\n",
    "        #构建混合索引\n",
    "        custom_retriever = CustomRetriever(base_retriever, large_retriever,max_num_keyword_nodes=max_num_keyword_nodes,keywords=self.keywords)\n",
    "\n",
    "        retriever = AutoMergingRetriever(custom_retriever, storage_context, verbose=True)\n",
    "\n",
    "        return retriever "
   ]
  },
  {
   "cell_type": "markdown",
   "metadata": {},
   "source": [
    "## 批量文章挖掘seq"
   ]
  },
  {
   "cell_type": "code",
   "execution_count": 10,
   "metadata": {},
   "outputs": [],
   "source": [
    "from llama_index.llms import ChatMessage\n",
    "\n",
    "#设置system_prompt\n",
    "system_str=  \"\"\"You are a biologist and patent expert. \n",
    "    You will be provided with some contents from a patent and will be asked to answer specific questions related to the patent. \n",
    "    Please answer the question only using the provided contents and do not make up the answer with prior knowledge.\"\"\""
   ]
  },
  {
   "cell_type": "code",
   "execution_count": 11,
   "metadata": {},
   "outputs": [],
   "source": [
    "import json\n",
    "import os\n",
    "import re\n",
    "from llama_index.schema import Document\n",
    "#os.chdir('/home/cymei/nlp_task/anti_inflammation')\n",
    "\n",
    "#专利文本载入函数。由于此次任务是寻找seq序列，和之前seq序列判断任务不同，暂时不考虑文本预处理\n",
    "def load_doc(file_name):\n",
    "    with open(file_name,'r') as f:\n",
    "        js_file=json.load(f)\n",
    "        js_text=js_file['text'] #只使用专利文件中的text内容\n",
    "\n",
    "    return Document(text=js_text)"
   ]
  },
  {
   "cell_type": "code",
   "execution_count": 12,
   "metadata": {},
   "outputs": [
    {
     "name": "stdout",
     "output_type": "stream",
     "text": [
      "> Merging 1 nodes into parent node.\n",
      "> Parent node id: b2425a31-5b0b-4363-855b-a2032fc3987f.\n",
      "> Parent node text: These results indicate that a slight drug association exists when the peptides are within the pol...\n",
      "\n",
      "> Merging 2 nodes into parent node.\n",
      "> Parent node id: 4f42d184-b618-482e-bd03-b5a963d7756e.\n",
      "> Parent node text: Figure S4                  MALDI-TOF spectra of (A) Rho-POD and (B) Rho-HIV-Tat peptides.        ...\n",
      "\n",
      "Given content describing the functions and applications of the patent.\n",
      "        Please find out all the peptides sequence firstly(motif sequence is not included). The target sequence should only consist of different kinds of peptide.\n",
      "        Finally, plesae do analysis and explain the reason first, \n",
      "        then list all peptides sequences that have the ability of anti-inflammation line by line.\n",
      "        Please focuse on the given context and don't use prior knowledge. Please return the top 3 most supportive context number.\n",
      "            \n"
     ]
    },
    {
     "data": {
      "text/markdown": [
       "<b>{'prompt_tokens': 2492, 'completion_tokens': 374, 'total_tokens': 2866}</b>"
      ],
      "text/plain": [
       "<IPython.core.display.Markdown object>"
      ]
     },
     "metadata": {},
     "output_type": "display_data"
    },
    {
     "name": "stdout",
     "output_type": "stream",
     "text": [
      "--------------------------------------------------------------------\n"
     ]
    },
    {
     "data": {
      "text/markdown": [
       "<b>assistant: After analyzing the given contexts, I have found the following peptide sequences:\n",
       "\n",
       "1. POD (CGGG[ARKKAAKA]4)\n",
       "2. HIV-Tat (CGGGGYGRKKRRQRRR)\n",
       "\n",
       "Now, I will explain the reason for selecting these two sequences and why I believe they have the ability for anti-inflammation.\n",
       "\n",
       "Context0 states that a \"slight drug association exists when the peptides are within the polymer matrix\" and different characteristics were observed depending on the preparation method. This implies that the peptides used in the study have some kind of therapeutic effect, possibly including anti-inflammatory properties.\n",
       "\n",
       "In Context1, an anti-inflammatory efficacy assay is described, where inflammation is induced by topical administration of sodium arachidonate (SA) and the treatment protocol consists of instilling formulations after 30 minutes. The formulations include NPs with peptides, suggesting that the peptides might have an anti-inflammatory effect.\n",
       "\n",
       "Context3 mentions that anti-inflammatory efficacy assays were performed to determine whether the novel formulations (PLGA-NPs-PEG-peptide and PLGA-PEG-peptide NPs) could form the basis of a suitable strategy for ocular delivery of NSAIDs, further implying that the peptides might have anti-inflammatory properties.\n",
       "\n",
       "Based on the above analysis, I believe that both POD and HIV-Tat peptides have the ability for anti-inflammation.\n",
       "\n",
       "Top 3 most supportive context numbers: 1, 3, and 0.</b>"
      ],
      "text/plain": [
       "<IPython.core.display.Markdown object>"
      ]
     },
     "metadata": {},
     "output_type": "display_data"
    },
    {
     "name": "stdout",
     "output_type": "stream",
     "text": [
      "> Merging 2 nodes into parent node.\n",
      "> Parent node id: 74a05a2f-1beb-4fc2-95de-3f8245aece59.\n",
      "> Parent node text: 1C,D,G,H). Further quantification of the area infiltrated with lymphocytes in the whole SMG showe...\n",
      "\n",
      "> Merging 2 nodes into parent node.\n",
      "> Parent node id: 6f56f46f-8d6a-45d5-bc66-81216ece52af.\n",
      "> Parent node text: Our results indicated that the pro-inflammatory cytokines TNF-α, IL-6, IFN-β and IFN-γ were signi...\n",
      "\n",
      "> Merging 2 nodes into parent node.\n",
      "> Parent node id: 48ae593a-fa9c-4e93-b545-bed834f7692c.\n",
      "> Parent node text: 1C,D,G,H). Further quantification of the area infiltrated with lymphocytes in the whole SMG showe...\n",
      "\n",
      "Given content describing the functions and applications of the patent.\n",
      "        Please find out all the peptides sequence firstly(motif sequence is not included). The target sequence should only consist of different kinds of peptide.\n",
      "        Finally, plesae do analysis and explain the reason first, \n",
      "        then list all peptides sequences that have the ability of anti-inflammation line by line.\n",
      "        Please focuse on the given context and don't use prior knowledge. Please return the top 3 most supportive context number.\n",
      "            \n"
     ]
    },
    {
     "data": {
      "text/markdown": [
       "<b>{'prompt_tokens': 3192, 'completion_tokens': 275, 'total_tokens': 3467}</b>"
      ],
      "text/plain": [
       "<IPython.core.display.Markdown object>"
      ]
     },
     "metadata": {},
     "output_type": "display_data"
    },
    {
     "name": "stdout",
     "output_type": "stream",
     "text": [
      "--------------------------------------------------------------------\n"
     ]
    },
    {
     "data": {
      "text/markdown": [
       "<b>assistant: Based on the provided context, there are no peptide sequences, either partial or full, mentioned in the study. Therefore, I cannot list any peptide sequences with anti-inflammatory properties. The study does mention several molecules, including cytokines and lipid mediators, that play a role in inflammation and its resolution, but these are not peptide sequences.\n",
       "\n",
       "The most supportive context numbers for this question are:\n",
       "\n",
       "1. Context0: This context does not contain any peptide sequences, but it provides background information on the study, which investigates the effects of ALX/FPR2 deletion on salivary gland inflammation and function.\n",
       "2. Context2: This context describes the upregulation of pro-inflammatory cytokines in ALX/FPR2-deficient mice treated with LPS, but it does not mention any peptide sequences.\n",
       "3. Context6: This context provides an overview of the role of inflammation in salivary gland dysfunction and the potential therapeutic applications of resolvins, but it does not mention any peptide sequences.\n",
       "\n",
       "In summary, there are no peptide sequences with anti-inflammatory properties mentioned in the provided context.</b>"
      ],
      "text/plain": [
       "<IPython.core.display.Markdown object>"
      ]
     },
     "metadata": {},
     "output_type": "display_data"
    },
    {
     "name": "stdout",
     "output_type": "stream",
     "text": [
      "> Merging 1 nodes into parent node.\n",
      "> Parent node id: 6746e6a9-13bc-4602-af70-6a842acca983.\n",
      "> Parent node text: \n",
      "\n",
      "> Merging 1 nodes into parent node.\n",
      "> Parent node id: 95ea28b7-08b0-4bfb-a7c7-20de9471de2b.\n",
      "> Parent node text: \n",
      "\n",
      "Given content describing the functions and applications of the patent.\n",
      "        Please find out all the peptides sequence firstly(motif sequence is not included). The target sequence should only consist of different kinds of peptide.\n",
      "        Finally, plesae do analysis and explain the reason first, \n",
      "        then list all peptides sequences that have the ability of anti-inflammation line by line.\n",
      "        Please focuse on the given context and don't use prior knowledge. Please return the top 3 most supportive context number.\n",
      "            \n"
     ]
    },
    {
     "data": {
      "text/markdown": [
       "<b>{'prompt_tokens': 209, 'completion_tokens': 330, 'total_tokens': 539}</b>"
      ],
      "text/plain": [
       "<IPython.core.display.Markdown object>"
      ]
     },
     "metadata": {},
     "output_type": "display_data"
    },
    {
     "name": "stdout",
     "output_type": "stream",
     "text": [
      "--------------------------------------------------------------------\n"
     ]
    },
    {
     "data": {
      "text/markdown": [
       "<b>assistant: Without the provided contents, I am unable to answer this question directly. However, I will provide a general approach for identifying peptide sequences with anti-inflammatory functions based on the given context.\n",
       "\n",
       "1. Identify peptide sequences: From the patent contents, locate all mentions of peptide sequences. Exclude any sequences that are not peptides, such as DNA or RNA sequences. Write down the unique peptide sequences found in the context.\n",
       "2. Analyze anti-inflammatory function: Carefully read the patent contents to determine which of the identified peptides have anti-inflammatory functions. Look for phrases such as \"anti-inflammatory,\" \"reduces inflammation,\" or \"inhibits inflammatory response\" in relation to the peptide sequences.\n",
       "3. Explain the reason: Based on the patent contents, provide a rationale for why the identified peptides have anti-inflammatory functions. This may include descriptions of experiments, in vitro or in vivo studies, or other evidence provided in the patent.\n",
       "4. List peptide sequences: Create a list of the peptide sequences with anti-inflammatory functions, writing each sequence on a separate line.\n",
       "5. Top 3 most supportive context numbers: Identify the top 3 most supportive context numbers (patent paragraphs or sentences) that directly link the peptide sequences to their anti-inflammatory functions.\n",
       "\n",
       "Please provide the patent contents for a specific analysis.</b>"
      ],
      "text/plain": [
       "<IPython.core.display.Markdown object>"
      ]
     },
     "metadata": {},
     "output_type": "display_data"
    },
    {
     "name": "stdout",
     "output_type": "stream",
     "text": [
      "> Merging 2 nodes into parent node.\n",
      "> Parent node id: 03667e5c-3ae1-4bd5-8fda-6e86be74edf6.\n",
      "> Parent node text: 4).                    Ibuprofen, but not aspirin, slightly increases the expression of MHC molec...\n",
      "\n",
      "> Merging 2 nodes into parent node.\n",
      "> Parent node id: 9f02800e-3105-47ea-9d95-b08c4ea0d953.\n",
      "> Parent node text: INTRODUCTION      Nonsteroidal anti-inflammatory drugs (NSAIDs) inhibit cyclooxygenase (COX), the...\n",
      "\n",
      "> Merging 1 nodes into parent node.\n",
      "> Parent node id: 30095eca-f71f-422f-a393-a38a4887d212.\n",
      "> Parent node text: In all of the experiments described in the present study, DCs were exposed to the drugs for 18 h,...\n",
      "\n",
      "> Merging 1 nodes into parent node.\n",
      "> Parent node id: f7912ff8-2758-49dc-a625-f9b8c3318998.\n",
      "> Parent node text: In all of the experiments described in the present study, DCs were exposed to the drugs for 18 h,...\n",
      "\n",
      "Given content describing the functions and applications of the patent.\n",
      "        Please find out all the peptides sequence firstly(motif sequence is not included). The target sequence should only consist of different kinds of peptide.\n",
      "        Finally, plesae do analysis and explain the reason first, \n",
      "        then list all peptides sequences that have the ability of anti-inflammation line by line.\n",
      "        Please focuse on the given context and don't use prior knowledge. Please return the top 3 most supportive context number.\n",
      "            \n"
     ]
    },
    {
     "data": {
      "text/markdown": [
       "<b>{'prompt_tokens': 3015, 'completion_tokens': 281, 'total_tokens': 3296}</b>"
      ],
      "text/plain": [
       "<IPython.core.display.Markdown object>"
      ]
     },
     "metadata": {},
     "output_type": "display_data"
    },
    {
     "name": "stdout",
     "output_type": "stream",
     "text": [
      "--------------------------------------------------------------------\n"
     ]
    },
    {
     "data": {
      "text/markdown": [
       "<b>assistant: After reviewing the provided contexts, I cannot find any specific peptide sequences listed in the text. Therefore, I am unable to provide the exact sequences of the peptides with anti-inflammatory functions. However, I can analyze the given contexts and explain the reason why the peptides have anti-inflammatory properties.\n",
       "\n",
       "The patent is related to the use of certain drugs, aspirin and ibuprofen, which have anti-inflammatory properties. These drugs inhibit the MHC-restricted presentation of exogenous antigens, such as ovalbumin (OVA), in dendritic cells (DCs). The MHC-restricted presentation is a process by which DCs present antigens to T cells, activating the immune response. By inhibiting this process, aspirin and ibuprofen suppress the activation of T cells and the subsequent immune response, leading to their anti-inflammatory effects.\n",
       "\n",
       "Based on the given contexts, the top 3 most supportive context numbers are Context2, Context5, and Context7. These contexts directly discuss the anti-inflammatory properties of aspirin and ibuprofen and their effects on the MHC-restricted presentation of exogenous antigens in DCs.</b>"
      ],
      "text/plain": [
       "<IPython.core.display.Markdown object>"
      ]
     },
     "metadata": {},
     "output_type": "display_data"
    },
    {
     "name": "stdout",
     "output_type": "stream",
     "text": [
      "> Merging 2 nodes into parent node.\n",
      "> Parent node id: 8a0381a9-9a2c-44a5-ae31-b3aa0f02fa1c.\n",
      "> Parent node text: Notably, four peptides with 14-mer length more strongly inhibited NO secretion in RAW 264.7 cells...\n",
      "\n",
      "> Merging 3 nodes into parent node.\n",
      "> Parent node id: 8a0bc435-7cda-455e-84da-e5b52a43126d.\n",
      "> Parent node text: AMPs have a high affinity for LPS, mainly via electrostatic interactions, because gram-negative b...\n",
      "\n",
      "> Merging 1 nodes into parent node.\n",
      "> Parent node id: c1fbccab-1ed2-47a4-b149-6bccf81f5496.\n",
      "> Parent node text: 3.10. Statistical Data Analysis        The mean values of at least four independent determination...\n",
      "\n",
      "Given content describing the functions and applications of the patent.\n",
      "        Please find out all the peptides sequence firstly(motif sequence is not included). The target sequence should only consist of different kinds of peptide.\n",
      "        Finally, plesae do analysis and explain the reason first, \n",
      "        then list all peptides sequences that have the ability of anti-inflammation line by line.\n",
      "        Please focuse on the given context and don't use prior knowledge. Please return the top 3 most supportive context number.\n",
      "            \n"
     ]
    },
    {
     "data": {
      "text/markdown": [
       "<b>{'prompt_tokens': 2822, 'completion_tokens': 98, 'total_tokens': 2920}</b>"
      ],
      "text/plain": [
       "<IPython.core.display.Markdown object>"
      ]
     },
     "metadata": {},
     "output_type": "display_data"
    },
    {
     "name": "stdout",
     "output_type": "stream",
     "text": [
      "--------------------------------------------------------------------\n"
     ]
    },
    {
     "data": {
      "text/markdown": [
       "<b>assistant: Based on the provided context, here are the sequences of the peptides mentioned:\n",
       "\n",
       "Context0 and Context2:\n",
       "WIK-10, WIR-10, WIK-14, and WIKE-14\n",
       "No specific sequences were provided.\n",
       "\n",
       "Context3:\n",
       "10 designed peptides, six peptides with 10 amino acids (10-mer) and four peptides with 1</b>"
      ],
      "text/plain": [
       "<IPython.core.display.Markdown object>"
      ]
     },
     "metadata": {},
     "output_type": "display_data"
    },
    {
     "name": "stdout",
     "output_type": "stream",
     "text": [
      "> Merging 2 nodes into parent node.\n",
      "> Parent node id: 6ce4fcca-71f9-4963-9c85-dc2248e3ec1e.\n",
      "> Parent node text: Hormones in the body, such as oxytocin ghrelin, alpha MSH, ACTH and hCG, have a significant role ...\n",
      "\n",
      "> Merging 2 nodes into parent node.\n",
      "> Parent node id: 6ac6b024-0bbc-4fcc-b9d7-c92c6fea6f75.\n",
      "> Parent node text: A recent study showed that bronchodilation caused by GLP-1 analog Exendin-4 was inhibited by GLP-...\n",
      "\n",
      "> Merging 1 nodes into parent node.\n",
      "> Parent node id: 29900ad1-80a6-4993-9632-9e6b4cd45e86.\n",
      "> Parent node text: Exendin-4, a GLP-1R agonist, was shown in another study to lower hepatic production of the inflam...\n",
      "\n",
      "> Merging 1 nodes into parent node.\n",
      "> Parent node id: c85201de-e475-467c-ac29-55bf4afb451c.\n",
      "> Parent node text: Hormones in the body, such as oxytocin ghrelin, alpha MSH, ACTH and hCG, have a significant role ...\n",
      "\n",
      "Given content describing the functions and applications of the patent.\n",
      "        Please find out all the peptides sequence firstly(motif sequence is not included). The target sequence should only consist of different kinds of peptide.\n",
      "        Finally, plesae do analysis and explain the reason first, \n",
      "        then list all peptides sequences that have the ability of anti-inflammation line by line.\n",
      "        Please focuse on the given context and don't use prior knowledge. Please return the top 3 most supportive context number.\n",
      "            \n"
     ]
    },
    {
     "data": {
      "text/markdown": [
       "<b>{'prompt_tokens': 2564, 'completion_tokens': 597, 'total_tokens': 3161}</b>"
      ],
      "text/plain": [
       "<IPython.core.display.Markdown object>"
      ]
     },
     "metadata": {},
     "output_type": "display_data"
    },
    {
     "name": "stdout",
     "output_type": "stream",
     "text": [
      "--------------------------------------------------------------------\n"
     ]
    },
    {
     "data": {
      "text/markdown": [
       "<b>assistant: Based on the provided context, there are several peptides mentioned that have anti-inflammatory properties. However, the exact peptide sequences are not provided in the context. Here are the peptides mentioned in the context that have anti-inflammatory properties:\n",
       "\n",
       "1. GLP-1 (Glucagon-like peptide-1)\n",
       "2. Liraglutide (a GLP-1 analog)\n",
       "3. Exendin-4 (a GLP-1R agonist)\n",
       "\n",
       "Analysis:\n",
       "GLP-1 is a peptide hormone that is produced in the intestine and in multiple other sites. It has been shown to have anti-inflammatory properties in various models, including polymicrobial sepsis, where it reduces oxidative stress and inflammation. Liraglutide, a GLP-1 analog, has also been shown to have anti-inflammatory effects on endothelial cells, reducing the activation of NF-kB, inhibiting TNF-alpha, and increasing nitric oxide production. Additionally, liraglutide has benefits in the treatment of acute lung injury, increasing surfactant protein A (SPA) expression in type 2 pneumocytes, decreasing the concentration of neutrophils and pro-inflammatory cytokines in the bronchoalveolar lavage fluid, and reducing the levels of TNF-α, IL-1β, IL-6, and the severity of lung injury in mouse models. Exendin-4, a GLP-1R agonist, has been shown to lower hepatic production of the inflammatory markers TNF-, IL-1, and IL-6, as well as macrophage markers cluster of differentiation 68 (CD68), and F4/80 in mice fed a western-type (high fat) diet.\n",
       "\n",
       "Therefore, based on the given context, GLP-1, liraglutide, and exendin-4 have anti-inflammatory properties.\n",
       "\n",
       "Top 3 most supportive context numbers:\n",
       "Context1: GLP-1 analog liraglutide improves vascular function in polymicrobial sepsis by reduction of oxidative stress and inflammation.\n",
       "Context2: Liraglutide dramatically lowers the production of TNF-A IL1B and raises CCL5 in PBMCs.\n",
       "Context4: GLP-1 and its agonists have opened new avenues for treatment of inflammatory diseases to mitigate organ dysfunction, septicemia, and post-sepsis syndrome.</b>"
      ],
      "text/plain": [
       "<IPython.core.display.Markdown object>"
      ]
     },
     "metadata": {},
     "output_type": "display_data"
    },
    {
     "name": "stdout",
     "output_type": "stream",
     "text": [
      "> Merging 1 nodes into parent node.\n",
      "> Parent node id: 9ab5ce55-e814-4027-9cd5-a6fa1524fde0.\n",
      "> Parent node text: [63]When administered once in a week assistes more patients in reaching the majority of ADA-recom...\n",
      "\n",
      "> Merging 1 nodes into parent node.\n",
      "> Parent node id: 27c1b86f-6a49-4bab-a34f-e863ad582d44.\n",
      "> Parent node text: The actual evaluation of cardiovascular benefits will be achieved with the completion of the Lira...\n",
      "\n",
      "> Merging 2 nodes into parent node.\n",
      "> Parent node id: 18c9d3fa-9471-4605-9b64-47b284eff6bd.\n",
      "> Parent node text: They assumed that improvements in endothelial function with GLP-1R agonists might be limited to t...\n",
      "\n",
      "Given content describing the functions and applications of the patent.\n",
      "        Please find out all the peptides sequence firstly(motif sequence is not included). The target sequence should only consist of different kinds of peptide.\n",
      "        Finally, plesae do analysis and explain the reason first, \n",
      "        then list all peptides sequences that have the ability of anti-inflammation line by line.\n",
      "        Please focuse on the given context and don't use prior knowledge. Please return the top 3 most supportive context number.\n",
      "            \n"
     ]
    },
    {
     "data": {
      "text/markdown": [
       "<b>{'prompt_tokens': 2824, 'completion_tokens': 451, 'total_tokens': 3275}</b>"
      ],
      "text/plain": [
       "<IPython.core.display.Markdown object>"
      ]
     },
     "metadata": {},
     "output_type": "display_data"
    },
    {
     "name": "stdout",
     "output_type": "stream",
     "text": [
      "--------------------------------------------------------------------\n"
     ]
    },
    {
     "data": {
      "text/markdown": [
       "<b>assistant: Based on the given context, there are several peptides and related agonists mentioned, but the exact peptide sequences are not provided in the context. However, I can list the names of the peptides and agonists that have been associated with anti-inflammatory effects, according to the context:\n",
       "\n",
       "1. GLP-1 (glucagon-like peptide-1)\n",
       "2. Exenatide (a GLP-1 receptor agonist)\n",
       "3. Liraglutide (a GLP-1 receptor agonist)\n",
       "\n",
       "The anti-inflammatory effects of these peptides and agonists are described in the context as follows:\n",
       "\n",
       "Context0:\n",
       "Reduces inflammatory markers: MCP-1 and TNF-α in response to lipopolysaccharide in cultured peritoneal macrophages harvested from mice.\n",
       "Reduces monocyte adhesion to aortic endothelial cells and atherosclerotic lesion size in nondiabetic C57BL/6 and ApoE−/− mice.\n",
       "\n",
       "Context1:\n",
       "GLP-1-mediated improvements in blood flow were considerably attenuated after a 2-month period of better glycemic control.\n",
       "\n",
       "Context4:\n",
       "Continuous infusion of exendin-4 for 4 wk. in C57BL/6 mice reduced neointimal formation after endothelial denudation of the femoral artery.\n",
       "Nagashima et al. reported that continuous GLP-1 infusion reduced foam cell formation and the development of atherosclerotic lesions in ApoE−/− mice.\n",
       "Recently, the same group demonstrated similar effects after infusion of liraglutide in apoE−/− mice.\n",
       "\n",
       "The top 3 most supportive context numbers for the anti-inflammatory effects of the peptides are Context0, Context1, and Context4.</b>"
      ],
      "text/plain": [
       "<IPython.core.display.Markdown object>"
      ]
     },
     "metadata": {},
     "output_type": "display_data"
    },
    {
     "name": "stdout",
     "output_type": "stream",
     "text": [
      "> Merging 2 nodes into parent node.\n",
      "> Parent node id: b5169ff9-7838-49a4-ae64-fef1ee86a2f7.\n",
      "> Parent node text: The treatment acts by upregulating the anti-inflammatory cytokine conversation while at same time...\n",
      "\n",
      "> Merging 2 nodes into parent node.\n",
      "> Parent node id: 606c5400-d51a-4faa-9c00-ea46ee3bcca9.\n",
      "> Parent node text: The tolerance that these cells impose can be overridden by infections and other challenges that d...\n",
      "\n",
      "Given content describing the functions and applications of the patent.\n",
      "        Please find out all the peptides sequence firstly(motif sequence is not included). The target sequence should only consist of different kinds of peptide.\n",
      "        Finally, plesae do analysis and explain the reason first, \n",
      "        then list all peptides sequences that have the ability of anti-inflammation line by line.\n",
      "        Please focuse on the given context and don't use prior knowledge. Please return the top 3 most supportive context number.\n",
      "            \n"
     ]
    },
    {
     "data": {
      "text/markdown": [
       "<b>{'prompt_tokens': 3033, 'completion_tokens': 509, 'total_tokens': 3542}</b>"
      ],
      "text/plain": [
       "<IPython.core.display.Markdown object>"
      ]
     },
     "metadata": {},
     "output_type": "display_data"
    },
    {
     "name": "stdout",
     "output_type": "stream",
     "text": [
      "--------------------------------------------------------------------\n"
     ]
    },
    {
     "data": {
      "text/markdown": [
       "<b>assistant: After analyzing the provided context, I have found several peptides that have the ability of anti-inflammation. Here are the peptides sequences and the reasons:\n",
       "\n",
       "1. J-LEAPS: This peptide binds to precursors of mouse (bone marrow) or human (blood monocytes) DCs and promotes their maturation to produce IL-12p70 and present the attached peptide to elicit antigen-specific protective responses, including the production of IFN-γ. This Th1 cytokine conversation and involvement of both CD4 and CD8 T cells allowed the designing of both anti-viral and anti-tumor vaccines (Context4).\n",
       "2. CEL-2000: This peptide attaches a collagen peptide to the J-LEAPS ICBL and upregulated IL-12p70, IFN-γ, and also IL-10 while downregulating TNF-α, IL-6, and IL-17A to stop the progression of ongoing disease in the CIA model (Context4).\n",
       "3. CEL-4000: This peptide attaches the DerG LEAPS ICBL to peptides from proteoglycan and elicited antigen-specific responses to stop the progression of disease by acting on memory T cells, including those in the spleen, to increase the expression of anti-inflammatory IL-4, IL-10, and TGF-β cytokines and Treg numbers while decreasing the expression of pro-inflammatory IFN-γ and IL-17 in the PGIA/GIA models (Context4).\n",
       "\n",
       "The top 3 most supportive context numbers are Context4, Context2, and Context1. Context4 provides the most detailed information about the anti-inflammatory effects of the peptides. Context2 mentions the Group I therapies that focus on the cytokine-secreting, antigen-specific T cells, i.e., therapeutic vaccines, which is related to the peptides. Context1 introduces the LEAPS approach that derives benefits by addressing the underlying disease cause and not just being palliative or treating the symptoms of the disease, which is the general idea of the patent.</b>"
      ],
      "text/plain": [
       "<IPython.core.display.Markdown object>"
      ]
     },
     "metadata": {},
     "output_type": "display_data"
    },
    {
     "name": "stdout",
     "output_type": "stream",
     "text": [
      "> Merging 2 nodes into parent node.\n",
      "> Parent node id: d5b9a160-f4d1-4e80-a111-54158fe29793.\n",
      "> Parent node text: Unlike the LEADER and SCALE trials, in the LIRA-RENAL trial liraglutide was found to be ineffecti...\n",
      "\n",
      "> Merging 2 nodes into parent node.\n",
      "> Parent node id: 7e9b3ec1-f316-477e-8a1b-02d496d083e7.\n",
      "> Parent node text: Emerging data support the efficacy of GLP-1RAs, in reducing the incidence of major adverse cardio...\n",
      "\n",
      "> Merging 2 nodes into parent node.\n",
      "> Parent node id: c8110247-6427-4acd-8af6-08891c6a8be0.\n",
      "> Parent node text: Again, the primary endpoint was the incidence of MACEs. After 2.1 years of follow-up, the semaglu...\n",
      "\n",
      "> Merging 2 nodes into parent node.\n",
      "> Parent node id: 9df5e33f-0127-4a19-ba81-7477eafff69a.\n",
      "> Parent node text: Unlike the LEADER and SCALE trials, in the LIRA-RENAL trial liraglutide was found to be ineffecti...\n",
      "\n",
      "Given content describing the functions and applications of the patent.\n",
      "        Please find out all the peptides sequence firstly(motif sequence is not included). The target sequence should only consist of different kinds of peptide.\n",
      "        Finally, plesae do analysis and explain the reason first, \n",
      "        then list all peptides sequences that have the ability of anti-inflammation line by line.\n",
      "        Please focuse on the given context and don't use prior knowledge. Please return the top 3 most supportive context number.\n",
      "            \n"
     ]
    },
    {
     "data": {
      "text/markdown": [
       "<b>{'prompt_tokens': 3019, 'completion_tokens': 285, 'total_tokens': 3304}</b>"
      ],
      "text/plain": [
       "<IPython.core.display.Markdown object>"
      ]
     },
     "metadata": {},
     "output_type": "display_data"
    },
    {
     "name": "stdout",
     "output_type": "stream",
     "text": [
      "--------------------------------------------------------------------\n"
     ]
    },
    {
     "data": {
      "text/markdown": [
       "<b>assistant: Based on the given context, there are several peptides mentioned that are relevant to anti-inflammatory functions. Here are the peptides sequences and the reasons why they have the ability of anti-inflammation:\n",
       "\n",
       "1. GLP-1 (glucagon-like peptide-1)\n",
       "\t* Sequence: not explicitly mentioned in the context, but it is a well-known 30-amino acid peptide hormone derived from the preproglucagon gene.\n",
       "\t* Anti-inflammatory function: GLP-1 has been shown to exert broad anti-inflammatory actions and reduce biomarkers of systemic inflammation in human subjects with type 2 diabetes and people with obesity (Context1). Preclinical studies also suggest that GLP-1RAs reduce cytokine production and attenuate pulmonary inflammation (Context1).\n",
       "2. Exenatide\n",
       "\t* Sequence: Exenatide is a 39-amino acid peptide with the sequence: HGEGTFTSDLSKQMEEEAVRLFIEWLKNGGPDFCRDKLSTRKQQKVDDTTKGRKRYTMTSQTQRLNR (Context4).\n",
       "\t</b>"
      ],
      "text/plain": [
       "<IPython.core.display.Markdown object>"
      ]
     },
     "metadata": {},
     "output_type": "display_data"
    },
    {
     "name": "stdout",
     "output_type": "stream",
     "text": [
      "> Merging 2 nodes into parent node.\n",
      "> Parent node id: 453c3828-e61d-4fce-a6b5-f6daf8ca5884.\n",
      "> Parent node text: Interestingly, the anti-inflammatory effects rely mostly on suppressive action, while pro-resolvi...\n",
      "\n",
      "> Merging 2 nodes into parent node.\n",
      "> Parent node id: 4ef9681a-038b-4ed9-9b7a-e402e66a3b93.\n",
      "> Parent node text: ANXA1 was reported to also be associated with the early stage of AD in patients and in animal mod...\n",
      "\n",
      "> Merging 2 nodes into parent node.\n",
      "> Parent node id: c420e97f-f2a7-4106-bc5e-0cf7ef437b54.\n",
      "> Parent node text: ANXA1 was reported to also be associated with the early stage of AD in patients and in animal mod...\n",
      "\n",
      "Given content describing the functions and applications of the patent.\n",
      "        Please find out all the peptides sequence firstly(motif sequence is not included). The target sequence should only consist of different kinds of peptide.\n",
      "        Finally, plesae do analysis and explain the reason first, \n",
      "        then list all peptides sequences that have the ability of anti-inflammation line by line.\n",
      "        Please focuse on the given context and don't use prior knowledge. Please return the top 3 most supportive context number.\n",
      "            \n"
     ]
    },
    {
     "data": {
      "text/markdown": [
       "<b>{'prompt_tokens': 2900, 'completion_tokens': 544, 'total_tokens': 3444}</b>"
      ],
      "text/plain": [
       "<IPython.core.display.Markdown object>"
      ]
     },
     "metadata": {},
     "output_type": "display_data"
    },
    {
     "name": "stdout",
     "output_type": "stream",
     "text": [
      "--------------------------------------------------------------------\n"
     ]
    },
    {
     "data": {
      "text/markdown": [
       "<b>assistant: After reviewing the provided context, I have found several peptides that have the ability of anti-inflammation. Here are the analysis and the list of peptides:\n",
       "\n",
       "Analysis:\n",
       "According to Context0, ANXA1 peptides, such as Ac2–26 and Ac9–25, have the ability to fully activate FPR1 and induce pro-inflammatory response at high concentration. However, there is no mention of their anti-inflammatory effects. Therefore, we cannot include ANXA1 peptides in the list of anti-inflammatory peptides.\n",
       "\n",
       "According to Context2, LXA4 has been shown to promote the release of anti-inflammatory factors and to exhibit the ability to reduce Aβ and phosphorylated tau levels. LXA4 binds to FPR2 receptor and activates many intracellular signaling pathways, leading to an increase in macrophages life span, inhibition of pro-inflammatory cytokines synthesis, and reduction of Aβ and phosphorylated tau levels. Therefore, LXA4 has the ability of anti-inflammation.\n",
       "\n",
       "According to Context4, SPMs, including LXA4 and RvD1, activate cascades that induce remodeling within sites damaged by inflammatory processes. They promote several processes crucial for resolution of inflammation, such as neutrophil extravasation blockade, promotion non-phlogistic monocyte recruitment, suppression of proinflammatory mediators while potentiating anti-inflammatory cytokines release and macrophage phagocytosis and efferocytosis, altering macrophages phenotype and instructing cells to favor repair. Therefore, SPMs have the ability of anti-inflammation.\n",
       "\n",
       "Based on the above analysis, I have found two peptides with the ability of anti-inflammation: LXA4 and RvD1.\n",
       "\n",
       "List of peptides with anti-inflammatory effects:\n",
       "\n",
       "1. LXA4\n",
       "2. RvD1\n",
       "\n",
       "Top 3 most supportive context numbers: Context2, Context4, Context5 (although Context5 does not directly mention LXA4 or RvD1, it supports the role of SPMs in anti-inflammation, which includes LXA4 and RvD1).</b>"
      ],
      "text/plain": [
       "<IPython.core.display.Markdown object>"
      ]
     },
     "metadata": {},
     "output_type": "display_data"
    }
   ],
   "source": [
    "import os\n",
    "from IPython.display import Markdown, display\n",
    "import time\n",
    "\n",
    "os.environ[\"http_proxy\"] = \"http://192.168.1.254:7890\"\n",
    "os.environ[\"https_proxy\"] = \"http://192.168.1.254:7890\"\n",
    "\n",
    "#从review和非review样本中随机各抽取5个进行尝试\n",
    "df_test=pd.concat([df_patent[df_patent['is_review']==0].sample(5),df_patent[df_patent['is_review']==1].sample(5)]) \n",
    "\n",
    "#记录模型回答以及支持观点的段落\n",
    "df_test['model_response']=''\n",
    "df_test['supportive_context']=''\n",
    "\n",
    "patent_list=df_test['pmcid'].unique()   #df_seq['pmcid'].unique()  PMC2408570  PMC6554247  PMC9786789  PMC6544583\n",
    "\n",
    "for patent in patent_list:\n",
    "\n",
    "    file_loc='/mnt/nas/handu/data/anti_inflammation_pubmed/pmc_parse/{}.json'.format(patent)\n",
    "    doc_text=load_doc(file_loc)\n",
    "    \n",
    "    #使用llama-index建立查询引擎\n",
    "    summarier=LLM_summary([doc_text])\n",
    "    #分别从claim和des中进行检索\n",
    "    # summarier_claim=LLM_summary([doc_dic['claim']])\n",
    "    # summarier_des=LLM_summary([doc_dic['description']])\n",
    "\n",
    "    #设置检索关键词\n",
    "    summarier.keywords=['peptide','anti-inflammatory'] \n",
    "\n",
    "        # summarier_claim.keywords=[row['seq_no']]\n",
    "        # summarier_des.keywords=[row['seq_no']]\n",
    "    retriever=summarier.hierarchy_node_index(similarity_top_k=10,max_num_keyword_nodes=4)\n",
    "        # retriever_claim=summarier_claim.hierarchy_node_index(similarity_top_k=2,max_num_keyword_nodes=2)\n",
    "        # retriever_des=summarier_des.hierarchy_node_index(similarity_top_k=8,max_num_keyword_nodes=3)\n",
    "\n",
    "    #query中的问题\n",
    "    #目前该prompt可以引导模型在部分文字中抓取一些seq，但模型无法判断是完整的肽序列还是片段\n",
    "    question=\"\"\"Given content describing the functions and applications of the patent.\n",
    "        Please find out all the peptides sequence firstly(motif sequence is not included). The target sequence should only consist of different kinds of peptide.\n",
    "        Finally, plesae do analysis and explain the reason first, \n",
    "        then list all peptides sequences that have the ability of anti-inflammation line by line.\n",
    "        Please focuse on the given context and don't use prior knowledge. Please return the top 3 most supportive context number.\n",
    "            \"\"\"\n",
    "        #Make sure the target sequence numbers are specific about anti-inflammation and don't make any guesses.\n",
    "        #Please focuse on the given context and don't use prior knowledge. Please return the most supportive context number.\n",
    "\n",
    "    #retriever寻找目标节点\n",
    "    response_nodes=retriever.retrieve(question)  \n",
    "\n",
    "        #分别从claim和des中进行检索，确保两部分内容都会被用上\n",
    "        # response_nodes_claim=retriever_claim.retrieve(question) \n",
    "        # response_nodes_des=retriever_des.retrieve(question) \n",
    "        # response_nodes=response_nodes_claim + response_nodes_des\n",
    "    print(question)\n",
    "    context_str=\"\"\"Context is :\n",
    "            {}\n",
    "            ---------------------\n",
    "            Given the provided context, please answer the query:\n",
    "            {}\n",
    "            \"\"\".format('\\n'.join(['Context{}:\\n'.format(index) + node.text for index,node in enumerate(response_nodes)]),question)  \n",
    "    messages_dict = [\n",
    "            {\"role\": \"system\", \"content\": system_str},\n",
    "            {\"role\": \"user\", \"content\": context_str},\n",
    "        ]\n",
    "    messages = [ChatMessage(**msg) for msg in messages_dict]\n",
    "    response = llm.chat(messages)\n",
    "\n",
    "    display(Markdown(f\"<b>{response.raw['usage']}</b>\"))\n",
    "    print('--------------------------------------------------------------------')\n",
    "    display(Markdown(f\"<b>{response}</b>\"))\n",
    "\n",
    "    #根据模型回答找出支持的文本片段\n",
    "    response_ans=response.message.content\n",
    "    context_list=re.findall('Context[0-9]+',response_ans)\n",
    "    context_nums=set([int(re.sub('Context','',context)) for context in context_list])\n",
    "    condition=(df_test['pmcid']==patent)\n",
    "\n",
    "    df_test.loc[condition,'model_response']=response_ans\n",
    "    df_test.loc[condition,'supportive_context']='\\n'.join(['Context{}:\\n'.format(index) + response_nodes[index].text for index in context_nums if(index<len(response_nodes))])\n",
    "    time.sleep(30) #设置间隔防止api调用频率过高"
   ]
  },
  {
   "cell_type": "code",
   "execution_count": 13,
   "metadata": {},
   "outputs": [
    {
     "data": {
      "text/html": [
       "<div>\n",
       "<style scoped>\n",
       "    .dataframe tbody tr th:only-of-type {\n",
       "        vertical-align: middle;\n",
       "    }\n",
       "\n",
       "    .dataframe tbody tr th {\n",
       "        vertical-align: top;\n",
       "    }\n",
       "\n",
       "    .dataframe thead th {\n",
       "        text-align: right;\n",
       "    }\n",
       "</style>\n",
       "<table border=\"1\" class=\"dataframe\">\n",
       "  <thead>\n",
       "    <tr style=\"text-align: right;\">\n",
       "      <th></th>\n",
       "      <th>pmcid</th>\n",
       "      <th>pmid</th>\n",
       "      <th>is_review</th>\n",
       "      <th>model_response</th>\n",
       "      <th>supportive_context</th>\n",
       "    </tr>\n",
       "  </thead>\n",
       "  <tbody>\n",
       "    <tr>\n",
       "      <th>1606</th>\n",
       "      <td>PMC4315550</td>\n",
       "      <td>25670897</td>\n",
       "      <td>0</td>\n",
       "      <td>After analyzing the given contexts, I have fou...</td>\n",
       "      <td>Context0:\\nThese results indicate that a sligh...</td>\n",
       "    </tr>\n",
       "    <tr>\n",
       "      <th>1911</th>\n",
       "      <td>PMC4827125</td>\n",
       "      <td>27064029</td>\n",
       "      <td>0</td>\n",
       "      <td>Based on the provided context, there are no pe...</td>\n",
       "      <td>Context0:\\nThe goal of this study was to deter...</td>\n",
       "    </tr>\n",
       "    <tr>\n",
       "      <th>257</th>\n",
       "      <td>PMC3232377</td>\n",
       "      <td>22059987</td>\n",
       "      <td>0</td>\n",
       "      <td>Without the provided contents, I am unable to ...</td>\n",
       "      <td></td>\n",
       "    </tr>\n",
       "    <tr>\n",
       "      <th>2024</th>\n",
       "      <td>PMC2902675</td>\n",
       "      <td>20631879</td>\n",
       "      <td>0</td>\n",
       "      <td>After reviewing the provided contexts, I canno...</td>\n",
       "      <td>Context2:\\nIn all of the experiments described...</td>\n",
       "    </tr>\n",
       "    <tr>\n",
       "      <th>425</th>\n",
       "      <td>PMC9686674</td>\n",
       "      <td>36421317</td>\n",
       "      <td>0</td>\n",
       "      <td>Based on the provided context, here are the se...</td>\n",
       "      <td>Context0:\\nIt was observed that WIKE-14 can ex...</td>\n",
       "    </tr>\n",
       "    <tr>\n",
       "      <th>2320</th>\n",
       "      <td>PMC10230051</td>\n",
       "      <td>37266425</td>\n",
       "      <td>1</td>\n",
       "      <td>Based on the provided context, there are sever...</td>\n",
       "      <td>Context1:\\nActivation of the GLP-1 pathways de...</td>\n",
       "    </tr>\n",
       "    <tr>\n",
       "      <th>793</th>\n",
       "      <td>PMC4216654</td>\n",
       "      <td>25338737</td>\n",
       "      <td>1</td>\n",
       "      <td>Based on the given context, there are several ...</td>\n",
       "      <td>Context0:\\n[42]Inhibts glucagon release by a m...</td>\n",
       "    </tr>\n",
       "    <tr>\n",
       "      <th>752</th>\n",
       "      <td>PMC8772713</td>\n",
       "      <td>35052724</td>\n",
       "      <td>1</td>\n",
       "      <td>After analyzing the provided context, I have f...</td>\n",
       "      <td>Context1:\\nThe LEAPS approach derives benefits...</td>\n",
       "    </tr>\n",
       "    <tr>\n",
       "      <th>1206</th>\n",
       "      <td>PMC9394722</td>\n",
       "      <td>36003669</td>\n",
       "      <td>1</td>\n",
       "      <td>Based on the given context, there are several ...</td>\n",
       "      <td>Context1:\\nThe so-called ‘Cytokine Storm’ that...</td>\n",
       "    </tr>\n",
       "    <tr>\n",
       "      <th>225</th>\n",
       "      <td>PMC8413167</td>\n",
       "      <td>34105114</td>\n",
       "      <td>1</td>\n",
       "      <td>After reviewing the provided context, I have f...</td>\n",
       "      <td>Context0:\\nIt seems that the dual properties m...</td>\n",
       "    </tr>\n",
       "  </tbody>\n",
       "</table>\n",
       "</div>"
      ],
      "text/plain": [
       "            pmcid      pmid  is_review  \\\n",
       "1606   PMC4315550  25670897          0   \n",
       "1911   PMC4827125  27064029          0   \n",
       "257    PMC3232377  22059987          0   \n",
       "2024   PMC2902675  20631879          0   \n",
       "425    PMC9686674  36421317          0   \n",
       "2320  PMC10230051  37266425          1   \n",
       "793    PMC4216654  25338737          1   \n",
       "752    PMC8772713  35052724          1   \n",
       "1206   PMC9394722  36003669          1   \n",
       "225    PMC8413167  34105114          1   \n",
       "\n",
       "                                         model_response  \\\n",
       "1606  After analyzing the given contexts, I have fou...   \n",
       "1911  Based on the provided context, there are no pe...   \n",
       "257   Without the provided contents, I am unable to ...   \n",
       "2024  After reviewing the provided contexts, I canno...   \n",
       "425   Based on the provided context, here are the se...   \n",
       "2320  Based on the provided context, there are sever...   \n",
       "793   Based on the given context, there are several ...   \n",
       "752   After analyzing the provided context, I have f...   \n",
       "1206  Based on the given context, there are several ...   \n",
       "225   After reviewing the provided context, I have f...   \n",
       "\n",
       "                                     supportive_context  \n",
       "1606  Context0:\\nThese results indicate that a sligh...  \n",
       "1911  Context0:\\nThe goal of this study was to deter...  \n",
       "257                                                      \n",
       "2024  Context2:\\nIn all of the experiments described...  \n",
       "425   Context0:\\nIt was observed that WIKE-14 can ex...  \n",
       "2320  Context1:\\nActivation of the GLP-1 pathways de...  \n",
       "793   Context0:\\n[42]Inhibts glucagon release by a m...  \n",
       "752   Context1:\\nThe LEAPS approach derives benefits...  \n",
       "1206  Context1:\\nThe so-called ‘Cytokine Storm’ that...  \n",
       "225   Context0:\\nIt seems that the dual properties m...  "
      ]
     },
     "execution_count": 13,
     "metadata": {},
     "output_type": "execute_result"
    }
   ],
   "source": [
    "df_test"
   ]
  },
  {
   "cell_type": "code",
   "execution_count": 45,
   "metadata": {},
   "outputs": [],
   "source": [
    "df_test.to_csv('./10patents_example.csv',index=False)"
   ]
  },
  {
   "cell_type": "code",
   "execution_count": 27,
   "metadata": {},
   "outputs": [
    {
     "data": {
      "text/markdown": [
       "**Node ID:** bc7b9bc5-089c-492d-b968-96c72a8e391f<br>**Similarity:** 0.8580143326929651<br>**Text:** In fact, a number of current TCM prescriptions use epimedium as the main ingredient or monarch such as the Xianling Gubao capsule, Er-Xian Decoction and Xian-Zhen Decoction. Other ingredients such as psoralea and drynaria rhizome serve as ministers or assistants to the monarch ingredient and are also included in these formulations.38      In this study, we present the development of a minimal TCM formula primarily containing two ingredients, epimedium and drynaria. Epimedium was chosen as the main or monarch ingredient partially because of its TCM warming properties but also because of its in vitro biological activities. Drynaria was chosen as a minister ingredient to the monarch to further strengthen the kidney and to support CRE activation and possible osteogenic activities. The other ingredients such as danshen were considered as assistants for invigorating the spleen and replenishment of qi as well as their anti-inflammatory activity.<br>"
      ],
      "text/plain": [
       "<IPython.core.display.Markdown object>"
      ]
     },
     "metadata": {},
     "output_type": "display_data"
    },
    {
     "name": "stdout",
     "output_type": "stream",
     "text": [
      "--------\n"
     ]
    },
    {
     "data": {
      "text/markdown": [
       "**Node ID:** 67fb29a4-ade9-4616-95dd-e561678a8abb<br>**Similarity:** 0.8572586696340335<br>**Text:** LTD and E2 was from Bayer Pharmaceutical Co. Ltd. (Guangzhou, CN).        Vectors pGL4.29[luc2P/CRE/Hygro], pGL4.26 [luc2/minP/Hygro], pGL4.17 [luc2/Neo], pGL4.35 [luc2P/9XGAL4UAS/Hygro], pBIND-ERα-LBD (residues 299-595), and Fugene 6 and Fugene HD were purchased from Promega Inc. (Madison, WI). Vector pNF-κβ-Luc was from Clontech Laboratories (Mountain View, CA). Vectors pCMV6-XL4 ER β (Cat# SC119216), and pCMV6-NEO were purchased from Origene Technologies (Rockville, MD). Vector pCR BluntII TOPO ER α (Cat# MHS6278-211691051) was from Dharmacon (Lafayette, CO).<br>"
      ],
      "text/plain": [
       "<IPython.core.display.Markdown object>"
      ]
     },
     "metadata": {},
     "output_type": "display_data"
    },
    {
     "name": "stdout",
     "output_type": "stream",
     "text": [
      "--------\n"
     ]
    },
    {
     "data": {
      "text/markdown": [
       "**Node ID:** 04a36885-efdb-4092-aa83-bf8bb589b0b1<br>**Similarity:** 0.8518454004028271<br>**Text:** 4                    3.3        Anti-inflammatory activity determination        Pretreatment of A549 cells containing the NF-κβ activation reporter construct with either danshen, epimedium, or milkvetch extracts (40 μg/mL) inhibited IL-1β (100 pg/mL) activation of NF-κβ (Fig. 5). The other extracts did not demonstrate appreciable anti-inflammatory activity. The anti-inflammatory activity did not correlate to CRE activation. Drynaria did not inhibit NF-κβ activation by IL-1β despite activating CRE. Bay 11-7082 (12.5 μM) was used as a control inhibitor of IL-1β activated NF-κβ.34Fig. 5Effect of selected TCM plant extracts on the inhibition of NF-κβ activation by IL-1β. Plant extracts were resuspended in DMSO and added at a final concentration of 40 μg/mL to A549 cells stably transfected with an NF-κβ responsive luciferase reporter construct. Cells were stimulated with IL-1β (100 pg/mL). Control treatments were IL-1β only and Bay11 (B; 12.5 μM). Cells were treated for 6 h. Extract abbreviations were as follows: An, Angelica; As, Asiatic Cornelian Cherry; D, Danshen; Dr, Drynaria; DS, Dodder Seed; E, Epimedium, Eu, Eucommia; GP, Glossy Privet; IB, Indian Bread; M, Milkvetch; MC, Medicinal Cyathula; P, Psoralea: R, Rehmannia; TA, Two-toothed Achyranthes; WB, Wolfberry root bark; and Y, Common Yan Rhizome. Data are represented as mean ± SD of relative luminescence units (RLUs (n = 3); #p < 0.0001 compared to untreated (Unt) controls).Fig. 5                    3.4        Activation of bone specific genes Runx2 and Bmp-4        For subsequent evaluations, epimedium and drynaria were selected as companion ingredients and tested in additional bone related assays. Epimedium was selected as the primary (or monarch) ingredient for four reasons: 1) it activates the full-length ERα and ERβ (Fig.<br>"
      ],
      "text/plain": [
       "<IPython.core.display.Markdown object>"
      ]
     },
     "metadata": {},
     "output_type": "display_data"
    },
    {
     "name": "stdout",
     "output_type": "stream",
     "text": [
      "--------\n"
     ]
    },
    {
     "data": {
      "text/markdown": [
       "**Node ID:** e8623f07-fa6c-4e4c-a55f-44681f23d28a<br>**Similarity:** 0.850741723090024<br>**Text:** The thermo-cycling conditions were as follows: 95○C for 30 s; 40 cycles of 58○C for 5 s; and 95○C for 5 s. Each column represents the mean response ± SD of 4 separate individual experiments (n = 4; compared to untreated (Unt) control group; *p < 0.05, **p < 0.01, and #p < 0.0001).Fig. 6                    3.5        Inhibition of osteoclast development        The E:Dr combination was further evaluated in an osteoclast development model while testing the addition of a third ingredient. Danshen was selected as a possible third ingredient because of its robust anti-inflammatory activity (Fig. 5). Angelica and Wolfberry Bark were also selected as possible third ingredients to be tested because of their modest anti-inflammatory activity and their lack of activity on isolated ER LBDs. Psorelea and milkvetch were avoided as the third ingredients because of their minimal activity on isolated ERβ LBD (Fig. 2).        All treatments inhibited the differentiation of pre-osteoclast to osteoclasts containing the E:Dr combo alone or in combination with a third ingredient in a dose dependent manner as measured by the development of TRAP concentration, an indicator of osteoclast development (Fig. 7). At 13 and 40 μg/ml the group containing D as the third ingredient appeared to outperform the groups containing An or WB as a third ingredient which also had less anti-inflammatory activity than D. Further evaluation of these ingredient combinations were completed in the ovariectomized rat model to determine if inhibition of TRAP activity was a good indicator of in vivo activity.Fig. 7Effect of epimedium/drynaria combinations with and without a third plant extract on the development of osteoclasts as determined by alkaline phosphatase levels.<br>"
      ],
      "text/plain": [
       "<IPython.core.display.Markdown object>"
      ]
     },
     "metadata": {},
     "output_type": "display_data"
    },
    {
     "name": "stdout",
     "output_type": "stream",
     "text": [
      "--------\n"
     ]
    },
    {
     "data": {
      "text/markdown": [
       "**Node ID:** 01df1321-1c78-44d8-9e88-ae32647e5499<br>**Similarity:** 0.8472513373429086<br>**Text:** 2.6        Response element reporter assays        Stable cell lines for the CRE and NF-κβ reporter assays were created by transfecting HEK293T/17 and A549 cells with vectors pGL4.29 CRE and pGL4.17 NF-κβ Luc2, respectively. Hygromycin (1200 μg/mL) and neomycin (400 μg/mL) supplemented DMEM and F12K media, respectively, were used to select monoclonal cell lines which were tested for assay responsiveness and selected for further development. The resulting stable cell lines were maintained in their respective growth media supplemented with 600 μg/mL hygromycin or 200 μg/mL neomycin.        The CRE activation assay was described previously.22 Briefly, ∼15,000 CRE reporter transfectant cells were plated per well in white walled 96 well poly-d-lysine coated plates (Corning™ Biocoat™). After 24 h, the media was changed to DMEM media lacking FBS but containing 0.5% BSA and incubated for another 24 h. Test ingredients were diluted in DMEM containing 0.5% BSA and added to the cells then incubated 6 h. Luciferase was quantified by activity assay described below.        To test for the inhibition of NF-κβ activation, ∼15,000 NF-κβ Luc2 reporter transfectant cells were plated per well in white walled 96 well plates in F12K growth media. After 24 h, the media was changed from F12K growth media to OptiPRO SFM supplemented with 4 mM l-glutamine, 0.5% BSA and incubated for another 24 h. Test ingredients were diluted in OptiPRO SFM/l-glutamine containing 0.5% BSA and added to the cells. After 20 min, NF-κβ activating compound, IL-1β, was added to each well at a concentration of 100 pg/mL and the treatments incubated for another 6 h. Luciferase was quantified by activity assay described below.                    2.7        Ligand binding domain reporter assays        Cell lines containing two different vectors were needed to evaluate activation of the individual LBD of ERα and/or ERβ.<br>"
      ],
      "text/plain": [
       "<IPython.core.display.Markdown object>"
      ]
     },
     "metadata": {},
     "output_type": "display_data"
    },
    {
     "name": "stdout",
     "output_type": "stream",
     "text": [
      "--------\n"
     ]
    },
    {
     "data": {
      "text/markdown": [
       "**Node ID:** f3f9b180-bc05-4dd6-88bd-8bf795a7a45b<br>**Similarity:** 0.8411315442913609<br>**Text:** 3); but 2) it does not behave like estrogen because it does not activate either ERα LBD or ERβ LBD (Fig. 2); 3) it is a strong inhibitor of NF-κβ activation by IL-1β (Fig. 5); and 4) it activates CRE a possible bone building pathway. Drynaria was selected as a companion ingredient to epimedium because of its capability to activate CRE, a known downstream target of PTH, a bone building treatment.        The epimedium and drynaria (E:Dr; 1:1) combination was tested in a bone-precursor, CRE-sensitive cell line, MC3T3-E1.35 Bone morphogenic signals in MC3T3-E1 cells,36 Runx2 (Runt-Related Transcription Factor 2) and Bmp4 (bone morphogenic peptide 4) were measured following treatment with different doses of a 1:1 combination of epimedium and drynaria. Forskolin, a known CRE activator, was used as a positive control.<br>"
      ],
      "text/plain": [
       "<IPython.core.display.Markdown object>"
      ]
     },
     "metadata": {},
     "output_type": "display_data"
    },
    {
     "name": "stdout",
     "output_type": "stream",
     "text": [
      "--------\n"
     ]
    },
    {
     "data": {
      "text/markdown": [
       "**Node ID:** f523df7e-1940-4280-a504-826da26492a7<br>**Similarity:** 0.840144826928874<br>**Text:** There is little information on the development of a simple formulation using two or three TCM ingredients on bone mineral density (BMD) improvement and their biological activities on bone specific targets. Medicines containing fewer extracts would be more suitable for maintaining integrity and quality of the individual components and would also help in the standardization of TCM.      In this study, we selected 16 plant extracts used in TCM to improve bone health. These plants were evaluated for bone building potential by examining their ability to activate CRE, as well as their ability to block osteoclast development, and inflammation through NF-κβ inhibition.<br>"
      ],
      "text/plain": [
       "<IPython.core.display.Markdown object>"
      ]
     },
     "metadata": {},
     "output_type": "display_data"
    },
    {
     "name": "stdout",
     "output_type": "stream",
     "text": [
      "--------\n"
     ]
    },
    {
     "data": {
      "text/markdown": [
       "**Node ID:** 9a02eaa0-5f93-4579-a089-3ac3136e5230<br>**Similarity:** 0.8399784484138657<br>**Text:** Epimedium and drynaria activated these targets despite the presence of estrogenic materials, phenol-red and FBS.49 We suggest that epimedium and drynaria may be upregulating these genes through their activation of CRE. Fsk, a adenylate cyclase activator and epimedium have previously been shown to upregulate CRE-related responses.44 Drynaria has not been shown previously to activate CRE.      Osteoclast development was inhibited by the epimedium and drynaria combination in a dose-dependent manner and the addition of a third ingredient, either danshen, angelica or wolfberry augmented the inhibition at selected doses. Previously, epimedium alone has been shown to inhibit NF-κβ activation as well as to stimulate p38 MAPK to inhibit NF-κβ during osteoclast differentiation.45, 46, 47, 48 The NF-κβ inhibition by epimedium does not appear to be the result of either CRE activation and/or ER activation50, 51, 52 because other extracts that activate these pathways (drynaria and psoralea, respectively) do not inhibit NF-κβ activation.<br>"
      ],
      "text/plain": [
       "<IPython.core.display.Markdown object>"
      ]
     },
     "metadata": {},
     "output_type": "display_data"
    },
    {
     "name": "stdout",
     "output_type": "stream",
     "text": [
      "--------\n"
     ]
    },
    {
     "data": {
      "text/markdown": [
       "**Node ID:** 2ebcb2ed-9bae-4a77-a7a7-3be231763a1f<br>**Similarity:** 0.8328065251198418<br>**Text:** The ERβ-LBD (residues 227-530) was PCR amplified from full-length human ERβ (SC119216, OriGene Technologies (Rockville, MD)) using forward and reverse primers 5′-CGATCGTTCGCCTTGTGCGGAGACAGAGAAGTGCC-3′ and 5′-TCTAGATTACTGAGACTGTGGGTTCTGGGAGCCCTC-3′, incorporating PvuI and XbaI sites at the 5′ and 3′ ends, respectively. The ERβ-LBD fragment was then ligated into the pBIND3 PvuI/XbaI site forming a Gal4- ERβ -LBD fusion protein.                            2.5        Cell culture and stable cell lines        Chinese hamster ovary (CHO-K1), MC3T3-E1 subclone 14, HEK293T/17, SK-N-SH, and A549 were purchased from ATCC (Manasas, VA) and grown in in DMEM or αMEM or DMEM or EMEM or F12K media, respectively.<br>"
      ],
      "text/plain": [
       "<IPython.core.display.Markdown object>"
      ]
     },
     "metadata": {},
     "output_type": "display_data"
    },
    {
     "name": "stdout",
     "output_type": "stream",
     "text": [
      "--------\n"
     ]
    }
   ],
   "source": [
    "from llama_index.response.notebook_utils import display_source_node\n",
    "for node in response_nodes:\n",
    "    display_source_node(node, source_length=20000)\n",
    "    print(\"--------\")"
   ]
  }
 ],
 "metadata": {
  "kernelspec": {
   "display_name": "torch",
   "language": "python",
   "name": "python3"
  },
  "language_info": {
   "codemirror_mode": {
    "name": "ipython",
    "version": 3
   },
   "file_extension": ".py",
   "mimetype": "text/x-python",
   "name": "python",
   "nbconvert_exporter": "python",
   "pygments_lexer": "ipython3",
   "version": "3.11.7"
  }
 },
 "nbformat": 4,
 "nbformat_minor": 2
}
