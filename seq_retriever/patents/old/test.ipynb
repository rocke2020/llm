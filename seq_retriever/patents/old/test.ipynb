{
 "cells": [
  {
   "cell_type": "code",
   "execution_count": 5,
   "metadata": {},
   "outputs": [
    {
     "name": "stdout",
     "output_type": "stream",
     "text": [
      "2.1.2\n",
      "True\n"
     ]
    }
   ],
   "source": [
    "import torch\n",
    "print(torch.__version__)\n",
    "print(torch.cuda.is_available())"
   ]
  },
  {
   "cell_type": "code",
   "execution_count": 2,
   "metadata": {},
   "outputs": [
    {
     "name": "stdout",
     "output_type": "stream",
     "text": [
      "                                              invention        patent_no  \\\n",
      "7388  ENGINEERED ANTIMICROBIAL AMPHIPHILIC PEPTIDES ...  US20200277334A1   \n",
      "7389  ENGINEERED ANTIMICROBIAL AMPHIPHILIC PEPTIDES ...  US20200277334A1   \n",
      "7390  ENGINEERED ANTIMICROBIAL AMPHIPHILIC PEPTIDES ...  US20200277334A1   \n",
      "7391  ENGINEERED ANTIMICROBIAL AMPHIPHILIC PEPTIDES ...  US20200277334A1   \n",
      "7392  ENGINEERED ANTIMICROBIAL AMPHIPHILIC PEPTIDES ...  US20200277334A1   \n",
      "7393  ENGINEERED ANTIMICROBIAL AMPHIPHILIC PEPTIDES ...  US20200277334A1   \n",
      "7394  ENGINEERED ANTIMICROBIAL AMPHIPHILIC PEPTIDES ...  US20200277334A1   \n",
      "7395  ENGINEERED ANTIMICROBIAL AMPHIPHILIC PEPTIDES ...  US20200277334A1   \n",
      "7396  ENGINEERED ANTIMICROBIAL AMPHIPHILIC PEPTIDES ...  US20200277334A1   \n",
      "7397  ENGINEERED ANTIMICROBIAL AMPHIPHILIC PEPTIDES ...  US20200277334A1   \n",
      "7398  ENGINEERED ANTIMICROBIAL AMPHIPHILIC PEPTIDES ...  US20200277334A1   \n",
      "7399  ENGINEERED ANTIMICROBIAL AMPHIPHILIC PEPTIDES ...  US20200277334A1   \n",
      "7400  ENGINEERED ANTIMICROBIAL AMPHIPHILIC PEPTIDES ...  US20200277334A1   \n",
      "7401  ENGINEERED ANTIMICROBIAL AMPHIPHILIC PEPTIDES ...  US20200277334A1   \n",
      "7402  ENGINEERED ANTIMICROBIAL AMPHIPHILIC PEPTIDES ...  US20200277334A1   \n",
      "7403  ENGINEERED ANTIMICROBIAL AMPHIPHILIC PEPTIDES ...  US20200277334A1   \n",
      "7404  ENGINEERED ANTIMICROBIAL AMPHIPHILIC PEPTIDES ...  US20200277334A1   \n",
      "7405  ENGINEERED ANTIMICROBIAL AMPHIPHILIC PEPTIDES ...  US20200277334A1   \n",
      "7406  ENGINEERED ANTIMICROBIAL AMPHIPHILIC PEPTIDES ...  US20200277334A1   \n",
      "7407  ENGINEERED ANTIMICROBIAL AMPHIPHILIC PEPTIDES ...  US20200277334A1   \n",
      "7408  ENGINEERED ANTIMICROBIAL AMPHIPHILIC PEPTIDES ...  US20200277334A1   \n",
      "7409  ENGINEERED ANTIMICROBIAL AMPHIPHILIC PEPTIDES ...  US20200277334A1   \n",
      "7410  ENGINEERED ANTIMICROBIAL AMPHIPHILIC PEPTIDES ...  US20200277334A1   \n",
      "7411  ENGINEERED ANTIMICROBIAL AMPHIPHILIC PEPTIDES ...  US20200277334A1   \n",
      "7412  ENGINEERED ANTIMICROBIAL AMPHIPHILIC PEPTIDES ...  US20200277334A1   \n",
      "7413  ENGINEERED ANTIMICROBIAL AMPHIPHILIC PEPTIDES ...  US20200277334A1   \n",
      "\n",
      "        new_seq_id                                   peptide sequence is amp  \n",
      "7388  SEQ_ID_NO_18                                 WRRWWRRWWRWWRRWWRR      1  \n",
      "7389  SEQ_ID_NO_17                                       RWWRWWRRWWRR      1  \n",
      "7390  SEQ_ID_NO_19                           RRVVRRVRRVVRRVVRVVRRVVRR      1  \n",
      "7391  SEQ_ID_NO_21               VRRVVRRVVRVVRRVVRRVRRVVRRVVRVVRRVVRR      1  \n",
      "7392  SEQ_ID_NO_20                           RRWWRRWRRWWRRWWRWWRRWWRR      1  \n",
      "7393  SEQ_ID_NO_23         RRVVRRVRRVVRRVVRVVRRVVRRVRRVVRRVVRVVRRVVRR      1  \n",
      "7394  SEQ_ID_NO_22               VRRVWRRVVRVVRRWVRRVRRVWRRVVRVVRRWVRR      1  \n",
      "7395  SEQ_ID_NO_25   RVVRVVRRWVRRVRRVWRRVVRVVRRWVRRVRRVWRRVVRVVRRWRVV      1  \n",
      "7396  SEQ_ID_NO_24   RVVRVVRRVVRRVRRVVRRVVRVVRRVVRRVRRVVRRVVRVVRRVVRR      1  \n",
      "7397  SEQ_ID_NO_26                                             HHHHHH      1  \n",
      "7398   SEQ_ID_NO_2                                     IRRRRRRIRRRRRR      1  \n",
      "7399   SEQ_ID_NO_3                              IRRRIRRIRRRIRRIRRRIRR      1  \n",
      "7400   SEQ_ID_NO_4                              IRRIIRRIRRIIRRIRRIIRR      1  \n",
      "7401   SEQ_ID_NO_5                              VWRWVRRVWRWVRRVWRWVRR      1  \n",
      "7402   SEQ_ID_NO_6                                     VWRWVRRVWRWVRR      1  \n",
      "7403   SEQ_ID_NO_7                                     VVRVVRRVVRVVRR      1  \n",
      "7404   SEQ_ID_NO_8                              VVRVVRVVVRVVRVVVRVVRV      1  \n",
      "7405   SEQ_ID_NO_9                                        RSRVVRSWSRV      1  \n",
      "7406   SEQ_ID_NO_1                           RRWVRRVRRVWRRVVRVVRRWVRR      1  \n",
      "7407  SEQ_ID_NO_10  RFVRRVRRFVRRVRRFVRRVRRFVRRVRRFVRRVRRFVRRVRRFVR...      1  \n",
      "7408  SEQ_ID_NO_12                       KVVSSIIEIISSVVKVVSSIIEIISSVV      1  \n",
      "7409  SEQ_ID_NO_11                               RRTYSRSRRTYSRSRRTYSR      1  \n",
      "7410  SEQ_ID_NO_14                              VVRVVRRVVRVVRRVVRVVRR      1  \n",
      "7411  SEQ_ID_NO_13                               KKTHTKTKKTHTKTKKTHTK      1  \n",
      "7412  SEQ_ID_NO_16                                       RVVRVVRRWVRR      1  \n",
      "7413  SEQ_ID_NO_15                                       RVVRVVRRVVRR      1  \n"
     ]
    }
   ],
   "source": [
    "import pandas as pd\n",
    "df_seq=pd.read_csv('./invention_processed.csv')\n",
    "patent_kind='A1'  #B\n",
    "patent_num='20200277334'  #\"09169290\"  09273096 11684559  09265709  20220062139 10329336\n",
    "patent_country='US'\n",
    "print(df_seq[df_seq['patent_no']==patent_country+patent_num+patent_kind])"
   ]
  },
  {
   "cell_type": "code",
   "execution_count": 3,
   "metadata": {},
   "outputs": [
    {
     "name": "stdout",
     "output_type": "stream",
     "text": [
      "['SEQ_ID_NO_181 : RRWWR1']\n",
      "SEQ_ID_NO_181 : RRWWR1\n",
      "<class 'str'>\n"
     ]
    }
   ],
   "source": [
    "import random\n",
    "seq_list = ['SEQ_ID_NO_181 : RRWWR1']\n",
    "print(seq_list)\n",
    "random.shuffle(seq_list)\n",
    "a = ''.join(seq_list)\n",
    "print(a)\n",
    "print(type(a))"
   ]
  },
  {
   "cell_type": "code",
   "execution_count": 41,
   "metadata": {},
   "outputs": [
    {
     "data": {
      "text/plain": [
       "['claim 1.-43. (canceled)']"
      ]
     },
     "execution_count": 41,
     "metadata": {},
     "output_type": "execute_result"
    }
   ],
   "source": [
    "dic = {\n",
    "              \"id\": \"CLM-01-43\",\n",
    "              \"num\": \"1-43\",\n",
    "              \"claim_ref\": 'null',\n",
    "              \"claim_text\": [\n",
    "                \"1.-43. (canceled)\"\n",
    "              ]\n",
    "            }\n",
    "\n",
    "claims=['claim '+' '.join([\"1.-43. (canceled)\"])]\n",
    "claims"
   ]
  },
  {
   "cell_type": "code",
   "execution_count": 21,
   "metadata": {},
   "outputs": [
    {
     "name": "stdout",
     "output_type": "stream",
     "text": [
      "Context1:\n",
      "node_text\n"
     ]
    }
   ],
   "source": [
    "print(\"\"\"{}\"\"\".format('\\n'.join(['Context{}:\\n'.format(1) + 'node_text'])))"
   ]
  }
 ],
 "metadata": {
  "kernelspec": {
   "display_name": "torch",
   "language": "python",
   "name": "python3"
  },
  "language_info": {
   "codemirror_mode": {
    "name": "ipython",
    "version": 3
   },
   "file_extension": ".py",
   "mimetype": "text/x-python",
   "name": "python",
   "nbconvert_exporter": "python",
   "pygments_lexer": "ipython3",
   "version": "3.11.7"
  }
 },
 "nbformat": 4,
 "nbformat_minor": 2
}
