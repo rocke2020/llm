{
 "cells": [
  {
   "cell_type": "markdown",
   "metadata": {},
   "source": [
    "# RAG关于抗炎性肽序列的批量判断"
   ]
  },
  {
   "cell_type": "code",
   "execution_count": 1,
   "metadata": {},
   "outputs": [],
   "source": [
    "import pandas as pd\n",
    "#载入预处理后的patent_seq数据\n",
    "df_seq=pd.read_csv('./patent_seq_list_new.csv')"
   ]
  },
  {
   "cell_type": "markdown",
   "metadata": {},
   "source": [
    "## Llama2相关组件初始化（本地llama）"
   ]
  },
  {
   "cell_type": "code",
   "execution_count": 2,
   "metadata": {},
   "outputs": [],
   "source": [
    "import logging\n",
    "import sys\n",
    "\n",
    "logging.basicConfig(stream=sys.stdout, level=logging.INFO)\n",
    "logging.getLogger().addHandler(logging.StreamHandler(stream=sys.stdout))\n",
    "\n",
    "from IPython.display import Markdown, display"
   ]
  },
  {
   "cell_type": "code",
   "execution_count": 3,
   "metadata": {},
   "outputs": [
    {
     "name": "stderr",
     "output_type": "stream",
     "text": [
      "/home/cymei/miniconda3/envs/torch/lib/python3.11/site-packages/transformers/utils/hub.py:123: FutureWarning: Using `TRANSFORMERS_CACHE` is deprecated and will be removed in v5 of Transformers. Use `HF_HOME` instead.\n",
      "  warnings.warn(\n",
      "/home/cymei/miniconda3/envs/torch/lib/python3.11/site-packages/bitsandbytes/cuda_setup/main.py:107: UserWarning: \n",
      "\n",
      "================================================================================\n",
      "WARNING: Manual override via BNB_CUDA_VERSION env variable detected!\n",
      "BNB_CUDA_VERSION=XXX can be used to load a bitsandbytes version that is different from the PyTorch CUDA version.\n",
      "If this was unintended set the BNB_CUDA_VERSION variable to an empty string: export BNB_CUDA_VERSION=\n",
      "If you use the manual override make sure the right libcudart.so is in your LD_LIBRARY_PATH\n",
      "For example by adding the following to your .bashrc: export LD_LIBRARY_PATH=$LD_LIBRARY_PATH:<path_to_cuda_dir/lib64\n",
      "Loading CUDA version: BNB_CUDA_VERSION=118\n",
      "================================================================================\n",
      "\n",
      "\n",
      "  warn((f'\\n\\n{\"=\"*80}\\n'\n"
     ]
    },
    {
     "data": {
      "application/vnd.jupyter.widget-view+json": {
       "model_id": "5b1ea50f97c847c1bcc9dd931dc5575e",
       "version_major": 2,
       "version_minor": 0
      },
      "text/plain": [
       "Loading checkpoint shards:   0%|          | 0/2 [00:00<?, ?it/s]"
      ]
     },
     "metadata": {},
     "output_type": "display_data"
    }
   ],
   "source": [
    "import torch\n",
    "from llama_index.llms import HuggingFaceLLM\n",
    "from llama_index.prompts import PromptTemplate\n",
    "\n",
    "import os\n",
    "\n",
    "#os.environ[\"CUDA_VISIBLE_DEVICES\"] = \"1,2,3\"\n",
    "\n",
    "LLAMA2_7B_chat = \"/home/cymei/llama_hf/llama-2-chat-7b-hf\"\n",
    "LLAMA2_13B_chat = \"/mnt/sdc/Llama-2-13b-chat-hf\"\n",
    "LLAMA2_7B_hf = \"/home/cymei/llama_hf/llama-2-7b-hf\"\n",
    "\n",
    "selected_model = LLAMA2_7B_chat #LLAMA2_7B_chat\n",
    "\n",
    "SYSTEM_PROMPT = \"\"\"You are an AI assistant that answers questions in a friendly manner, based on the given source documents. Here are some rules you always follow:\n",
    "- Generate human readable output, avoid creating output with gibberish text.\n",
    "- Generate only the requested output, don't include any other language before or after the requested output.\n",
    "- Never say thank you, that you are happy to help, that you are an AI agent, etc. Just answer directly.\n",
    "- Generate professional language typically used in business documents in North America.\n",
    "- Never generate offensive or foul language.\n",
    "\"\"\"\n",
    "\n",
    "query_wrapper_prompt = PromptTemplate(\n",
    "    \"[INST]<<SYS>>\\n\" + SYSTEM_PROMPT + \"<</SYS>>\\n\\n{query_str}[/INST] \"\n",
    ")\n",
    "\n",
    "llm = HuggingFaceLLM(\n",
    "    context_window=4096,\n",
    "    max_new_tokens=2048,\n",
    "    generate_kwargs={\"temperature\": 0.0, \"do_sample\": False},\n",
    "    query_wrapper_prompt=query_wrapper_prompt,\n",
    "    tokenizer_name=selected_model,\n",
    "    model_name=selected_model,\n",
    "    device_map=\"auto\",\n",
    "    # change these settings below depending on your GPU\n",
    "    model_kwargs={\"torch_dtype\": torch.float16, \"load_in_8bit\": True},\n",
    ")"
   ]
  },
  {
   "cell_type": "markdown",
   "metadata": {},
   "source": [
    "## 商用大模型API加载"
   ]
  },
  {
   "cell_type": "code",
   "execution_count": 2,
   "metadata": {},
   "outputs": [],
   "source": [
    "import os\n",
    "\n",
    "os.environ[\"http_proxy\"] = \"http://192.168.1.254:7890\"\n",
    "os.environ[\"https_proxy\"] = \"http://192.168.1.254:7890\""
   ]
  },
  {
   "cell_type": "code",
   "execution_count": 3,
   "metadata": {},
   "outputs": [],
   "source": [
    "from llama_index.llms.perplexity import Perplexity\n",
    "\n",
    "pplx_api_key = \"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\"\n",
    "\n",
    "llm = Perplexity(\n",
    "    api_key=pplx_api_key, model=\"mixtral-8x7b-instruct\", temperature=0.0,\n",
    "    api_base=\"https://api.perplexity.ai\",\n",
    ")"
   ]
  },
  {
   "cell_type": "code",
   "execution_count": 4,
   "metadata": {},
   "outputs": [],
   "source": [
    "from llama_index import SimpleDirectoryReader\n",
    "from llama_index import (\n",
    "    VectorStoreIndex,\n",
    "    ServiceContext,\n",
    "    set_global_service_context,\n",
    ")\n",
    "\n",
    "from llama_index.node_parser import (\n",
    "    HierarchicalNodeParser,\n",
    "    SentenceSplitter,\n",
    ")\n",
    "\n",
    "from llama_index.storage.docstore import SimpleDocumentStore\n",
    "from llama_index.storage import StorageContext\n",
    "from llama_index.node_parser import get_leaf_nodes, get_root_nodes\n",
    "from llama_index import VectorStoreIndex\n",
    "# from llama_index.llms import LLM\n",
    "from llama_index.retrievers.auto_merging_retriever import AutoMergingRetriever\n",
    "from llama_index.query_engine import RetrieverQueryEngine\n",
    "\n",
    "#载入模型以及embedding功能\n",
    "from llama_index.embeddings.huggingface import HuggingFaceEmbedding\n",
    "embed_model = HuggingFaceEmbedding(\n",
    "    model_name=\"/home/cymei/bge-small-en\",device='cuda:2'\n",
    ")\n",
    "\n",
    "service_context = ServiceContext.from_defaults(\n",
    "    llm=llm, embed_model=embed_model #\"local:/home/cymei/bge-small-en\"\n",
    ")\n",
    "set_global_service_context(service_context)\n"
   ]
  },
  {
   "cell_type": "markdown",
   "metadata": {},
   "source": [
    "## 混合索引引擎"
   ]
  },
  {
   "cell_type": "code",
   "execution_count": 5,
   "metadata": {},
   "outputs": [],
   "source": [
    "# import QueryBundle\n",
    "from llama_index import QueryBundle\n",
    "\n",
    "# import NodeWithScore\n",
    "from llama_index.schema import NodeWithScore\n",
    "\n",
    "# Retrievers\n",
    "from llama_index.retrievers import (\n",
    "    BaseRetriever,\n",
    "    VectorIndexRetriever,\n",
    ")\n",
    "from llama_index.schema import BaseNode\n",
    "\n",
    "from typing import List"
   ]
  },
  {
   "cell_type": "code",
   "execution_count": 6,
   "metadata": {},
   "outputs": [],
   "source": [
    "from nltk import word_tokenize \n",
    "\n",
    "class CustomRetriever(BaseRetriever):\n",
    "    \"\"\"自定义的混合索引类：相似度索引+关键词索引\"\"\"\n",
    "\n",
    "    def __init__(\n",
    "        self,\n",
    "        vector_retriever: VectorIndexRetriever,\n",
    "        vector_retriever_large: VectorIndexRetriever,\n",
    "        max_num_keyword_nodes=3,\n",
    "        keywords=[]\n",
    "    ) -> None:\n",
    "        \"\"\"Init params.\"\"\"\n",
    "\n",
    "        self._vector_retriever = vector_retriever #头部相似度节点\n",
    "        self._vector_retriever_large = vector_retriever_large #更大范围的头部相似度节点(用于关键词搜索)\n",
    "\n",
    "        self.keywords=keywords #索引依据的关键词\n",
    "        self.max_num_keyword_nodes=max_num_keyword_nodes #设置最大关键词节点数量\n",
    "        super().__init__()\n",
    "\n",
    "    def _retrieve(self, query_bundle: QueryBundle) -> List[NodeWithScore]:\n",
    "        \"\"\"Retrieve nodes given query.\"\"\"\n",
    "\n",
    "        #利用两个不同的参数的retriever进行retrieve\n",
    "        vector_nodes = self._vector_retriever.retrieve(query_bundle)\n",
    "        vector_nodes_large = self._vector_retriever_large.retrieve(query_bundle)\n",
    "\n",
    "        #确保集合中的节点id对应的相似度由大到小排列\n",
    "        vector_ids = {n.node_id for n in sorted(vector_nodes,key=lambda node: node.score,reverse=True)} \n",
    "        # vector_ids_large = {n.node_id for n in vector_nodes_large}\n",
    "\n",
    "        #对于更大范围的相似度索引结果，取出其中含有关键词的节点\n",
    "        keyword_ids = []\n",
    "        for n in sorted(vector_nodes_large,key=lambda node: node.score,reverse=True):\n",
    "            for k in self.keywords:\n",
    "                if(k in word_tokenize(n.get_content())):\n",
    "                    #判断关键词是否在文章片段的分词结果中\n",
    "                    keyword_ids.append(n.node_id)\n",
    "                    break\n",
    "\n",
    "        combined_dict = {n.node_id: n for n in vector_nodes}\n",
    "        combined_dict.update({n.node_id: n for n in vector_nodes_large if n.node_id in keyword_ids })\n",
    "\n",
    "        #合并两组节点\n",
    "        if(keyword_ids==[]):\n",
    "            #不含有关键词的情况下照常进行相似度索引\n",
    "            retrieve_ids = vector_ids\n",
    "        else:\n",
    "            keyword_ids_top=set(keyword_ids[:self.max_num_keyword_nodes]) #取相似度最高的几个关键词节点\n",
    "            vector_ids_unique=vector_ids-keyword_ids_top  #top相似度集合中独有的节点\n",
    "            retrieve_ids=keyword_ids_top #关键词集合和top相似度集合共有的节点+关键词集合中独有的节点\n",
    "            add_num=len(vector_ids)-len(keyword_ids_top)\n",
    "            retrieve_ids=set(list(vector_ids_unique)[:add_num]).union(retrieve_ids) #额外添加部分top相似度集合中独有的节点\n",
    "\n",
    "        retrieve_nodes = [combined_dict[rid] for rid in retrieve_ids]\n",
    "        return retrieve_nodes"
   ]
  },
  {
   "cell_type": "code",
   "execution_count": 7,
   "metadata": {},
   "outputs": [],
   "source": [
    "#创建RAG工作流的类\n",
    "class LLM_summary:\n",
    "    def __init__(self,documents=[],keywords=[]):\n",
    "        #用于检索的关键词\n",
    "        self.keywords=keywords\n",
    "        #载入专利文本\n",
    "        self.documents=documents\n",
    "    \n",
    "    def hierarchy_node_index(self,chunk_list=[1024, 512, 256],similarity_top_k=6,max_num_keyword_nodes=3):\n",
    "        '''\n",
    "        获取分层节点，并建立对应索引\n",
    "        设置每一层的token数量、选入prompt的节点数量以及最多含有关键词的节点数量\n",
    "        '''\n",
    "        node_parser = HierarchicalNodeParser.from_defaults(chunk_sizes=chunk_list)\n",
    "        #获取分段后的每个节点\n",
    "        self.nodes = node_parser.get_nodes_from_documents(self.documents)\n",
    "\n",
    "        #建立各个节点的存储\n",
    "        docstore = SimpleDocumentStore()\n",
    "        # insert nodes into docstore\n",
    "        docstore.add_documents(self.nodes)\n",
    "        # define storage context (will include vector store by default too)\n",
    "        storage_context = StorageContext.from_defaults(docstore=docstore)\n",
    "        self.leaf_nodes = get_leaf_nodes(self.nodes)\n",
    "    \n",
    "        # 利用叶子节点计算相似度，并关联到对应的父节点\n",
    "        base_index = VectorStoreIndex(\n",
    "            self.leaf_nodes,\n",
    "            storage_context=storage_context,\n",
    "        )\n",
    "\n",
    "        #用于寻找和问题最相近的头部文本片段\n",
    "        base_retriever = base_index.as_retriever(similarity_top_k=similarity_top_k)\n",
    "        #用于从更大范围中寻找含有关键词的文本片段\n",
    "        large_retriever = base_index.as_retriever(similarity_top_k=len(self.leaf_nodes))\n",
    "        #构建混合索引\n",
    "        custom_retriever = CustomRetriever(base_retriever, large_retriever,max_num_keyword_nodes=max_num_keyword_nodes,keywords=self.keywords)\n",
    "\n",
    "        retriever = AutoMergingRetriever(custom_retriever, storage_context, verbose=True)\n",
    "\n",
    "        return retriever "
   ]
  },
  {
   "cell_type": "markdown",
   "metadata": {},
   "source": [
    "## 批量seq判断"
   ]
  },
  {
   "cell_type": "code",
   "execution_count": 8,
   "metadata": {},
   "outputs": [],
   "source": [
    "from llama_index.llms import ChatMessage\n",
    "\n",
    "#设置system_prompt(针对API的模型)\n",
    "system_str=  \"\"\"You are a biologist and patent expert. \n",
    "    You will be provided with some contents from a patent and will be asked to answer specific questions related to the patent. \n",
    "    Please answer the question only using the provided contents and do not make up the answer with prior knowledge.\"\"\""
   ]
  },
  {
   "cell_type": "code",
   "execution_count": 9,
   "metadata": {},
   "outputs": [],
   "source": [
    "import json\n",
    "import os\n",
    "import re\n",
    "from llama_index.schema import Document\n",
    "os.chdir('/home/cymei/nlp_task/anti_inflammation')\n",
    "\n",
    "#专利文本载入函数\n",
    "#获取claim和description的信息并创建对应的document实例\n",
    "def load_doc(file_name):\n",
    "    with open(file_name,'r') as f:\n",
    "        js_list=json.load(f)\n",
    "        for js in js_list:\n",
    "            if(js['article_type']=='claim'):\n",
    "                claims_raw='The claim information:\\n'+js['text']\n",
    "            elif(js['article_type']=='description'):\n",
    "                description_raw='The description information:\\n'+js['text']\n",
    "    \n",
    "    #文本预处理\n",
    "    claims1=re.sub('\\u2003',' ',claims_raw)\n",
    "    claims_real=re.sub('SEQ ID N[oO][.: ]+','SEQ_ID_NO_',claims1)\n",
    "    description1=re.sub('\\u2003',' ',description_raw)\n",
    "    description_real=re.sub('SEQ ID N[oO][.: ]+','SEQ_ID_NO_',description1)\n",
    "\n",
    "    doc_claim = Document(text=claims_real)\n",
    "    doc_des = Document(text=description_real)\n",
    "\n",
    "    return {'claim':doc_claim,'description':doc_des}"
   ]
  },
  {
   "cell_type": "code",
   "execution_count": 10,
   "metadata": {},
   "outputs": [
    {
     "name": "stdout",
     "output_type": "stream",
     "text": [
      "> Merging 2 nodes into parent node.\n",
      "> Parent node id: 7456460c-7716-4da3-980d-6ba0a152d0c2.\n",
      "> Parent node text: The claim information:\n",
      "A peptide comprising the amino acid sequence KMIKP, comprising less than 7...\n",
      "\n",
      "> Merging 1 nodes into parent node.\n",
      "> Parent node id: 1e66675d-838f-48c5-915d-57244233e85a.\n",
      "> Parent node text: The claim information:\n",
      "A peptide comprising the amino acid sequence KMIKP, comprising less than 7...\n",
      "\n",
      "> Merging 2 nodes into parent node.\n",
      "> Parent node id: 22dc3451-7ce5-4861-a0ec-be7e436aaf38.\n",
      "> Parent node text: The description information:\n",
      "The present invention particularly relates to a method for improving...\n",
      "\n",
      "> Merging 3 nodes into parent node.\n",
      "> Parent node id: 9d3beab0-b2e6-4958-8e58-b17179d388f3.\n",
      "> Parent node text: The conclusion to be drawn is that topically applied peptide 3 inhibits one or more biological pr...\n",
      "\n"
     ]
    },
    {
     "data": {
      "text/markdown": [
       "<b>{'prompt_tokens': 2679, 'completion_tokens': 166, 'total_tokens': 2845}</b>"
      ],
      "text/plain": [
       "<IPython.core.display.Markdown object>"
      ]
     },
     "metadata": {},
     "output_type": "display_data"
    },
    {
     "name": "stdout",
     "output_type": "stream",
     "text": [
      "--------------------------------------------------------------------\n",
      "> Merging 2 nodes into parent node.\n",
      "> Parent node id: dc21581e-b34b-4172-b669-cdd31eedc6a4.\n",
      "> Parent node text: The claim information:\n",
      "A peptide comprising the amino acid sequence KMIKP, comprising less than 7...\n",
      "\n",
      "> Merging 1 nodes into parent node.\n",
      "> Parent node id: 4ec6b3ab-ea39-47ba-839c-dc56a2a01b1d.\n",
      "> Parent node text: The claim information:\n",
      "A peptide comprising the amino acid sequence KMIKP, comprising less than 7...\n",
      "\n",
      "> Merging 2 nodes into parent node.\n",
      "> Parent node id: 220d3152-3d04-42dc-82c0-9aa5a5f4d620.\n",
      "> Parent node text: Preferably, the inflammatory skin condition is selected from the group consisting of psoriasis, l...\n",
      "\n",
      "> Merging 2 nodes into parent node.\n",
      "> Parent node id: 851b2629-0979-4108-9092-d91d76a1baac.\n",
      "> Parent node text: The conclusion to be drawn is that topically applied peptide 3 inhibits one or more biological pr...\n",
      "\n",
      "> Merging 2 nodes into parent node.\n",
      "> Parent node id: 2db040cb-55ce-4086-b393-71e4d16dfb15.\n",
      "> Parent node text: The description information:\n",
      "The present invention particularly relates to a method for improving...\n",
      "\n",
      "> Merging 2 nodes into parent node.\n",
      "> Parent node id: d981e198-a14d-44fc-8a9d-e563ee8fc0a6.\n",
      "> Parent node text: The description information:\n",
      "The present invention particularly relates to a method for improving...\n",
      "\n"
     ]
    },
    {
     "data": {
      "text/markdown": [
       "<b>{'prompt_tokens': 2967, 'completion_tokens': 235, 'total_tokens': 3202}</b>"
      ],
      "text/plain": [
       "<IPython.core.display.Markdown object>"
      ]
     },
     "metadata": {},
     "output_type": "display_data"
    },
    {
     "name": "stdout",
     "output_type": "stream",
     "text": [
      "--------------------------------------------------------------------\n",
      "> Merging 2 nodes into parent node.\n",
      "> Parent node id: 69d7c6e5-1a08-4164-a702-f4e877020bd9.\n",
      "> Parent node text: The claim information:\n",
      "A peptide comprising the amino acid sequence KMIKP, comprising less than 7...\n",
      "\n",
      "> Merging 1 nodes into parent node.\n",
      "> Parent node id: e5cd730a-9aae-475e-b1cf-c547a390229f.\n",
      "> Parent node text: The claim information:\n",
      "A peptide comprising the amino acid sequence KMIKP, comprising less than 7...\n",
      "\n",
      "> Merging 2 nodes into parent node.\n",
      "> Parent node id: 3fe6a4a4-b49d-4c20-a25c-696cb537f55d.\n",
      "> Parent node text: The description information:\n",
      "The present invention particularly relates to a method for improving...\n",
      "\n",
      "> Merging 3 nodes into parent node.\n",
      "> Parent node id: 59438054-cb6d-4932-8be8-8bcfde1616d2.\n",
      "> Parent node text: The conclusion to be drawn is that topically applied peptide 3 inhibits one or more biological pr...\n",
      "\n"
     ]
    },
    {
     "data": {
      "text/markdown": [
       "<b>{'prompt_tokens': 2677, 'completion_tokens': 486, 'total_tokens': 3163}</b>"
      ],
      "text/plain": [
       "<IPython.core.display.Markdown object>"
      ]
     },
     "metadata": {},
     "output_type": "display_data"
    },
    {
     "name": "stdout",
     "output_type": "stream",
     "text": [
      "--------------------------------------------------------------------\n",
      "> Merging 2 nodes into parent node.\n",
      "> Parent node id: c3e134af-e07f-4744-93c5-658d593f0400.\n",
      "> Parent node text: The claim information:\n",
      "A peptide comprising the amino acid sequence KMIKP, comprising less than 7...\n",
      "\n",
      "> Merging 1 nodes into parent node.\n",
      "> Parent node id: 3f5efdb8-d3bd-48a5-a4ce-6726eeb8e6a1.\n",
      "> Parent node text: The claim information:\n",
      "A peptide comprising the amino acid sequence KMIKP, comprising less than 7...\n",
      "\n",
      "> Merging 2 nodes into parent node.\n",
      "> Parent node id: d82fbe3c-eee4-45a4-b5fd-b856f4e8e3a4.\n",
      "> Parent node text: The conclusion to be drawn is that topically applied peptide 3 inhibits one or more biological pr...\n",
      "\n",
      "> Merging 2 nodes into parent node.\n",
      "> Parent node id: 06b8b231-1538-4ff6-aa86-70de7c788fa7.\n",
      "> Parent node text: The description information:\n",
      "The present invention particularly relates to a method for improving...\n",
      "\n",
      "> Merging 2 nodes into parent node.\n",
      "> Parent node id: 9f12c00b-4981-47c6-a3e5-d5aec35c4eb6.\n",
      "> Parent node text: Preferably, the inflammatory skin condition is selected from the group consisting of psoriasis, l...\n",
      "\n",
      "> Merging 2 nodes into parent node.\n",
      "> Parent node id: 18e1994e-8f44-44a5-b84d-c63bb12b5a58.\n",
      "> Parent node text: The description information:\n",
      "The present invention particularly relates to a method for improving...\n",
      "\n"
     ]
    },
    {
     "data": {
      "text/markdown": [
       "<b>{'prompt_tokens': 2965, 'completion_tokens': 171, 'total_tokens': 3136}</b>"
      ],
      "text/plain": [
       "<IPython.core.display.Markdown object>"
      ]
     },
     "metadata": {},
     "output_type": "display_data"
    },
    {
     "name": "stdout",
     "output_type": "stream",
     "text": [
      "--------------------------------------------------------------------\n",
      "> Merging 2 nodes into parent node.\n",
      "> Parent node id: eb45bba3-9096-4917-81c3-af1e963fda48.\n",
      "> Parent node text: The claim information:\n",
      "A peptide comprising the amino acid sequence KMIKP, comprising less than 7...\n",
      "\n",
      "> Merging 1 nodes into parent node.\n",
      "> Parent node id: a8ae4c77-88eb-4f34-8083-b38ac5e68393.\n",
      "> Parent node text: The claim information:\n",
      "A peptide comprising the amino acid sequence KMIKP, comprising less than 7...\n",
      "\n",
      "> Merging 2 nodes into parent node.\n",
      "> Parent node id: dee64426-9f6b-4905-8946-ad9f45bc616f.\n",
      "> Parent node text: The description information:\n",
      "The present invention particularly relates to a method for improving...\n",
      "\n",
      "> Merging 3 nodes into parent node.\n",
      "> Parent node id: 95c21620-898f-4ad8-a466-c052fa1aac9d.\n",
      "> Parent node text: The conclusion to be drawn is that topically applied peptide 3 inhibits one or more biological pr...\n",
      "\n"
     ]
    },
    {
     "data": {
      "text/markdown": [
       "<b>{'prompt_tokens': 2679, 'completion_tokens': 230, 'total_tokens': 2909}</b>"
      ],
      "text/plain": [
       "<IPython.core.display.Markdown object>"
      ]
     },
     "metadata": {},
     "output_type": "display_data"
    },
    {
     "name": "stdout",
     "output_type": "stream",
     "text": [
      "--------------------------------------------------------------------\n",
      "> Merging 2 nodes into parent node.\n",
      "> Parent node id: c5a98533-6d5b-408c-8982-3022ceee1733.\n",
      "> Parent node text: The claim information:\n",
      "A peptide comprising the amino acid sequence KMIKP, comprising less than 7...\n",
      "\n",
      "> Merging 1 nodes into parent node.\n",
      "> Parent node id: 2ba16239-5f6e-4bf4-95be-def42802ae22.\n",
      "> Parent node text: The claim information:\n",
      "A peptide comprising the amino acid sequence KMIKP, comprising less than 7...\n",
      "\n",
      "> Merging 2 nodes into parent node.\n",
      "> Parent node id: d0d5067f-612c-4eef-94e1-5583d301b309.\n",
      "> Parent node text: The conclusion to be drawn is that topically applied peptide 3 inhibits one or more biological pr...\n",
      "\n",
      "> Merging 2 nodes into parent node.\n",
      "> Parent node id: 1cb307ef-58ce-494e-aac9-5d1cb31e1718.\n",
      "> Parent node text: The description information:\n",
      "The present invention particularly relates to a method for improving...\n",
      "\n",
      "> Merging 2 nodes into parent node.\n",
      "> Parent node id: 270264eb-afec-42d6-9070-8169f8510828.\n",
      "> Parent node text: Preferably, the inflammatory skin condition is selected from the group consisting of psoriasis, l...\n",
      "\n",
      "> Merging 2 nodes into parent node.\n",
      "> Parent node id: e51ce983-6cb6-4c6a-b0f2-9ad74bb7cd25.\n",
      "> Parent node text: The description information:\n",
      "The present invention particularly relates to a method for improving...\n",
      "\n"
     ]
    },
    {
     "data": {
      "text/markdown": [
       "<b>{'prompt_tokens': 2967, 'completion_tokens': 320, 'total_tokens': 3287}</b>"
      ],
      "text/plain": [
       "<IPython.core.display.Markdown object>"
      ]
     },
     "metadata": {},
     "output_type": "display_data"
    },
    {
     "name": "stdout",
     "output_type": "stream",
     "text": [
      "--------------------------------------------------------------------\n",
      "> Merging 2 nodes into parent node.\n",
      "> Parent node id: 8f23f8fd-ced4-4770-a484-fced47b343c4.\n",
      "> Parent node text: The claim information:\n",
      "A peptide comprising the amino acid sequence KMIKP, comprising less than 7...\n",
      "\n",
      "> Merging 1 nodes into parent node.\n",
      "> Parent node id: 46d9673a-722d-4854-b438-96c37f73bba6.\n",
      "> Parent node text: The claim information:\n",
      "A peptide comprising the amino acid sequence KMIKP, comprising less than 7...\n",
      "\n",
      "> Merging 2 nodes into parent node.\n",
      "> Parent node id: 4da41152-a920-40cb-9e2d-d49e04ed1310.\n",
      "> Parent node text: Preferably, the inflammatory skin condition is selected from the group consisting of psoriasis, l...\n",
      "\n",
      "> Merging 2 nodes into parent node.\n",
      "> Parent node id: 3b7a7f17-f029-43e4-bd93-78d511492f7a.\n",
      "> Parent node text: The description information:\n",
      "The present invention particularly relates to a method for improving...\n",
      "\n",
      "> Merging 2 nodes into parent node.\n",
      "> Parent node id: 5d549aa5-e2d8-4c4f-83a3-a7c75706b065.\n",
      "> Parent node text: The conclusion to be drawn is that topically applied peptide 3 inhibits one or more biological pr...\n",
      "\n",
      "> Merging 2 nodes into parent node.\n",
      "> Parent node id: 8a6e745d-0e2c-4d63-b3b0-02026fe5dec6.\n",
      "> Parent node text: The description information:\n",
      "The present invention particularly relates to a method for improving...\n",
      "\n"
     ]
    },
    {
     "data": {
      "text/markdown": [
       "<b>{'prompt_tokens': 2955, 'completion_tokens': 327, 'total_tokens': 3282}</b>"
      ],
      "text/plain": [
       "<IPython.core.display.Markdown object>"
      ]
     },
     "metadata": {},
     "output_type": "display_data"
    },
    {
     "name": "stdout",
     "output_type": "stream",
     "text": [
      "--------------------------------------------------------------------\n",
      "> Merging 2 nodes into parent node.\n",
      "> Parent node id: f7ee202f-d77a-4b8e-847b-2c579f324e05.\n",
      "> Parent node text: The claim information:\n",
      "A peptide comprising the amino acid sequence KMIKP, comprising less than 7...\n",
      "\n",
      "> Merging 1 nodes into parent node.\n",
      "> Parent node id: 586fa4cd-9c7d-4c0c-a9d6-b23d861661a5.\n",
      "> Parent node text: The claim information:\n",
      "A peptide comprising the amino acid sequence KMIKP, comprising less than 7...\n",
      "\n",
      "> Merging 3 nodes into parent node.\n",
      "> Parent node id: 8c5cda3b-1f01-4df0-810e-cc752739c5b8.\n",
      "> Parent node text: The conclusion to be drawn is that topically applied peptide 3 inhibits one or more biological pr...\n",
      "\n",
      "> Merging 2 nodes into parent node.\n",
      "> Parent node id: 4c11f689-c5ae-4195-af59-4e6ac2056c03.\n",
      "> Parent node text: The description information:\n",
      "The present invention particularly relates to a method for improving...\n",
      "\n"
     ]
    },
    {
     "data": {
      "text/markdown": [
       "<b>{'prompt_tokens': 2669, 'completion_tokens': 219, 'total_tokens': 2888}</b>"
      ],
      "text/plain": [
       "<IPython.core.display.Markdown object>"
      ]
     },
     "metadata": {},
     "output_type": "display_data"
    },
    {
     "name": "stdout",
     "output_type": "stream",
     "text": [
      "--------------------------------------------------------------------\n",
      "> Merging 2 nodes into parent node.\n",
      "> Parent node id: b55fa22d-e838-48e4-9f82-a3a835e75d71.\n",
      "> Parent node text: The claim information:\n",
      "A peptide comprising the amino acid sequence KMIKP, comprising less than 7...\n",
      "\n",
      "> Merging 1 nodes into parent node.\n",
      "> Parent node id: 4d235cf8-5d4e-4a97-9433-8d32709afd64.\n",
      "> Parent node text: The claim information:\n",
      "A peptide comprising the amino acid sequence KMIKP, comprising less than 7...\n",
      "\n",
      "> Merging 2 nodes into parent node.\n",
      "> Parent node id: e6680ac9-fe31-4171-892d-d4d55e6711f8.\n",
      "> Parent node text: A typical experimental result is shown in FIG. These experimental results show that pre-local exp...\n",
      "\n",
      "> Merging 2 nodes into parent node.\n",
      "> Parent node id: 4d93ee2b-b94d-4778-bbc7-bc3a5fc1f8b5.\n",
      "> Parent node text: The conclusion to be drawn is that topically applied peptide 3 inhibits one or more biological pr...\n",
      "\n",
      "> Merging 1 nodes into parent node.\n",
      "> Parent node id: 2cf25bcd-7356-452c-93fb-4cbfa5040c1b.\n",
      "> Parent node text: Experiment 13 The purpose of this experiment is to compare the activity of the 9-mer peptide (CGP...\n",
      "\n",
      "> Filling in node. Node id: e6680ac9-fe31-4171-892d-d4d55e6711f8> Node text: A typical experimental result is shown in FIG. These experimental results show that pre-local exp...\n",
      "\n",
      "> Merging 4 nodes into parent node.\n",
      "> Parent node id: e3fa6b29-53b7-452a-bb1e-66ef07fb0c45.\n",
      "> Parent node text: The conclusion to be drawn is that topically applied peptide 3 inhibits one or more biological pr...\n",
      "\n"
     ]
    },
    {
     "data": {
      "text/markdown": [
       "<b>{'prompt_tokens': 2655, 'completion_tokens': 411, 'total_tokens': 3066}</b>"
      ],
      "text/plain": [
       "<IPython.core.display.Markdown object>"
      ]
     },
     "metadata": {},
     "output_type": "display_data"
    },
    {
     "name": "stdout",
     "output_type": "stream",
     "text": [
      "--------------------------------------------------------------------\n",
      "> Merging 2 nodes into parent node.\n",
      "> Parent node id: ab3c7c93-aa16-49e9-b04c-91e1ca1d08d9.\n",
      "> Parent node text: The claim information:\n",
      "A peptide comprising the amino acid sequence KMIKP, comprising less than 7...\n",
      "\n",
      "> Merging 1 nodes into parent node.\n",
      "> Parent node id: 35b849c2-ff0d-4b88-8459-06fa12ad37f4.\n",
      "> Parent node text: The claim information:\n",
      "A peptide comprising the amino acid sequence KMIKP, comprising less than 7...\n",
      "\n",
      "> Merging 3 nodes into parent node.\n",
      "> Parent node id: e90d76a6-d6b5-41a2-91b0-928c2e26445e.\n",
      "> Parent node text: The conclusion to be drawn is that topically applied peptide 3 inhibits one or more biological pr...\n",
      "\n",
      "> Merging 2 nodes into parent node.\n",
      "> Parent node id: c77ff4e7-0895-482e-9d40-0e69314be9be.\n",
      "> Parent node text: The description information:\n",
      "The present invention particularly relates to a method for improving...\n",
      "\n"
     ]
    },
    {
     "data": {
      "text/markdown": [
       "<b>{'prompt_tokens': 2665, 'completion_tokens': 179, 'total_tokens': 2844}</b>"
      ],
      "text/plain": [
       "<IPython.core.display.Markdown object>"
      ]
     },
     "metadata": {},
     "output_type": "display_data"
    },
    {
     "name": "stdout",
     "output_type": "stream",
     "text": [
      "--------------------------------------------------------------------\n",
      "> Merging 2 nodes into parent node.\n",
      "> Parent node id: 502a1684-4e85-4eba-876d-586a350294e2.\n",
      "> Parent node text: The claim information:\n",
      "A peptide comprising the amino acid sequence KMIKP, comprising less than 7...\n",
      "\n",
      "> Merging 1 nodes into parent node.\n",
      "> Parent node id: c559cedf-9906-4e8a-8986-a3eb82b64169.\n",
      "> Parent node text: The claim information:\n",
      "A peptide comprising the amino acid sequence KMIKP, comprising less than 7...\n",
      "\n",
      "> Merging 2 nodes into parent node.\n",
      "> Parent node id: 6b55a2b2-5d10-4959-b109-49a73b025a8e.\n",
      "> Parent node text: The description information:\n",
      "The present invention particularly relates to a method for improving...\n",
      "\n",
      "> Merging 2 nodes into parent node.\n",
      "> Parent node id: 5cc0758c-8a58-4563-a81d-395a30bbc708.\n",
      "> Parent node text: The conclusion to be drawn is that topically applied peptide 3 inhibits one or more biological pr...\n",
      "\n",
      "> Merging 1 nodes into parent node.\n",
      "> Parent node id: e5a18cc4-2c13-475c-bdb1-ff8d4f25b617.\n",
      "> Parent node text: Experiment 13 The purpose of this experiment is to compare the activity of the 9-mer peptide (CGP...\n",
      "\n",
      "> Filling in node. Node id: 778aaee4-0159-4b91-b350-575c30b1f867> Node text: A typical experimental result is shown in FIG. These experimental results show that pre-local exp...\n",
      "\n",
      "> Merging 3 nodes into parent node.\n",
      "> Parent node id: 4ed57687-12f2-411f-9f30-d3a09e9c3347.\n",
      "> Parent node text: The conclusion to be drawn is that topically applied peptide 3 inhibits one or more biological pr...\n",
      "\n"
     ]
    },
    {
     "data": {
      "text/markdown": [
       "<b>{'prompt_tokens': 3250, 'completion_tokens': 350, 'total_tokens': 3600}</b>"
      ],
      "text/plain": [
       "<IPython.core.display.Markdown object>"
      ]
     },
     "metadata": {},
     "output_type": "display_data"
    },
    {
     "name": "stdout",
     "output_type": "stream",
     "text": [
      "--------------------------------------------------------------------\n",
      "> Merging 2 nodes into parent node.\n",
      "> Parent node id: d9bdbeb3-c183-4b0d-9f65-a7632a67f89f.\n",
      "> Parent node text: The claim information:\n",
      "A peptide comprising the amino acid sequence KMIKP, comprising less than 7...\n",
      "\n",
      "> Merging 1 nodes into parent node.\n",
      "> Parent node id: 66e16fd8-0000-43d5-bcc7-464287a0bea2.\n",
      "> Parent node text: The claim information:\n",
      "A peptide comprising the amino acid sequence KMIKP, comprising less than 7...\n",
      "\n",
      "> Merging 2 nodes into parent node.\n",
      "> Parent node id: 47515ea5-56df-44bf-aad3-f0fa681ab640.\n",
      "> Parent node text: The conclusion to be drawn is that topically applied peptide 3 inhibits one or more biological pr...\n",
      "\n",
      "> Merging 2 nodes into parent node.\n",
      "> Parent node id: 808ef314-97fe-469a-9925-1a92649eb29b.\n",
      "> Parent node text: The description information:\n",
      "The present invention particularly relates to a method for improving...\n",
      "\n",
      "> Merging 1 nodes into parent node.\n",
      "> Parent node id: 5dca2bb7-9c09-4b43-bd0e-633ed85b3a44.\n",
      "> Parent node text: Experiment 13 The purpose of this experiment is to compare the activity of the 9-mer peptide (CGP...\n",
      "\n",
      "> Merging 2 nodes into parent node.\n",
      "> Parent node id: ff937c13-3a33-460d-bd69-0a4e1615e65d.\n",
      "> Parent node text: The conclusion to be drawn is that topically applied peptide 3 inhibits one or more biological pr...\n",
      "\n"
     ]
    },
    {
     "data": {
      "text/markdown": [
       "<b>{'prompt_tokens': 3248, 'completion_tokens': 356, 'total_tokens': 3604}</b>"
      ],
      "text/plain": [
       "<IPython.core.display.Markdown object>"
      ]
     },
     "metadata": {},
     "output_type": "display_data"
    },
    {
     "name": "stdout",
     "output_type": "stream",
     "text": [
      "--------------------------------------------------------------------\n",
      "> Merging 2 nodes into parent node.\n",
      "> Parent node id: 0efe4c48-3c2c-4f1b-a5f1-828d65601aeb.\n",
      "> Parent node text: The claim information:\n",
      "A peptide comprising the amino acid sequence KMIKP, comprising less than 7...\n",
      "\n",
      "> Merging 1 nodes into parent node.\n",
      "> Parent node id: a94774b3-987f-43f5-a8a8-09ec5c152c9e.\n",
      "> Parent node text: The claim information:\n",
      "A peptide comprising the amino acid sequence KMIKP, comprising less than 7...\n",
      "\n",
      "> Merging 2 nodes into parent node.\n",
      "> Parent node id: 21295756-0ace-40d2-b06f-afceb6defbec.\n",
      "> Parent node text: The description information:\n",
      "The present invention particularly relates to a method for improving...\n",
      "\n",
      "> Merging 2 nodes into parent node.\n",
      "> Parent node id: c7789901-43ce-4043-aa63-1d026209669a.\n",
      "> Parent node text: A typical experimental result is shown in FIG. These experimental results show that pre-local exp...\n",
      "\n",
      "> Merging 3 nodes into parent node.\n",
      "> Parent node id: f1ed0575-09fc-45ab-a088-8ac52049f985.\n",
      "> Parent node text: The conclusion to be drawn is that topically applied peptide 3 inhibits one or more biological pr...\n",
      "\n",
      "> Merging 2 nodes into parent node.\n",
      "> Parent node id: a0e741f5-d0ca-4e43-bd0a-e3dfcede6af7.\n",
      "> Parent node text: The conclusion to be drawn is that topically applied peptide 3 inhibits one or more biological pr...\n",
      "\n"
     ]
    },
    {
     "data": {
      "text/markdown": [
       "<b>{'prompt_tokens': 2696, 'completion_tokens': 628, 'total_tokens': 3324}</b>"
      ],
      "text/plain": [
       "<IPython.core.display.Markdown object>"
      ]
     },
     "metadata": {},
     "output_type": "display_data"
    },
    {
     "name": "stdout",
     "output_type": "stream",
     "text": [
      "--------------------------------------------------------------------\n",
      "> Merging 2 nodes into parent node.\n",
      "> Parent node id: b8861f41-e9f7-48a4-9014-e5863a95de88.\n",
      "> Parent node text: The claim information:\n",
      "A peptide comprising the amino acid sequence KMIKP, comprising less than 7...\n",
      "\n",
      "> Merging 1 nodes into parent node.\n",
      "> Parent node id: 5edb3c8c-8f02-400e-b954-8c2378547842.\n",
      "> Parent node text: The claim information:\n",
      "A peptide comprising the amino acid sequence KMIKP, comprising less than 7...\n",
      "\n",
      "> Merging 2 nodes into parent node.\n",
      "> Parent node id: e1cff532-b6a7-4906-b667-62e04095f89c.\n",
      "> Parent node text: The description information:\n",
      "The present invention particularly relates to a method for improving...\n",
      "\n",
      "> Merging 3 nodes into parent node.\n",
      "> Parent node id: ba941018-f7fa-423c-a35d-2c0c02f93b31.\n",
      "> Parent node text: The conclusion to be drawn is that topically applied peptide 3 inhibits one or more biological pr...\n",
      "\n"
     ]
    },
    {
     "data": {
      "text/markdown": [
       "<b>{'prompt_tokens': 2675, 'completion_tokens': 657, 'total_tokens': 3332}</b>"
      ],
      "text/plain": [
       "<IPython.core.display.Markdown object>"
      ]
     },
     "metadata": {},
     "output_type": "display_data"
    },
    {
     "name": "stdout",
     "output_type": "stream",
     "text": [
      "--------------------------------------------------------------------\n",
      "> Merging 2 nodes into parent node.\n",
      "> Parent node id: 52fdd9aa-b86f-4968-bd9d-b0e93e617fa3.\n",
      "> Parent node text: The claim information:\n",
      "A peptide comprising the amino acid sequence KMIKP, comprising less than 7...\n",
      "\n",
      "> Merging 1 nodes into parent node.\n",
      "> Parent node id: fd0f1182-d036-4fcc-871a-8a6c727630c0.\n",
      "> Parent node text: The claim information:\n",
      "A peptide comprising the amino acid sequence KMIKP, comprising less than 7...\n",
      "\n",
      "> Merging 3 nodes into parent node.\n",
      "> Parent node id: 3fe017f8-13c3-41ee-8e91-8b257d3507e9.\n",
      "> Parent node text: The conclusion to be drawn is that topically applied peptide 3 inhibits one or more biological pr...\n",
      "\n",
      "> Merging 2 nodes into parent node.\n",
      "> Parent node id: 8d827d59-8132-4305-863a-f1f7e897f47a.\n",
      "> Parent node text: The description information:\n",
      "The present invention particularly relates to a method for improving...\n",
      "\n"
     ]
    },
    {
     "data": {
      "text/markdown": [
       "<b>{'prompt_tokens': 2673, 'completion_tokens': 535, 'total_tokens': 3208}</b>"
      ],
      "text/plain": [
       "<IPython.core.display.Markdown object>"
      ]
     },
     "metadata": {},
     "output_type": "display_data"
    },
    {
     "name": "stdout",
     "output_type": "stream",
     "text": [
      "--------------------------------------------------------------------\n",
      "> Merging 2 nodes into parent node.\n",
      "> Parent node id: 34abca4a-d79d-411d-9067-34c82b499e57.\n",
      "> Parent node text: The claim information:\n",
      "A peptide comprising the amino acid sequence KMIKP, comprising less than 7...\n",
      "\n",
      "> Merging 1 nodes into parent node.\n",
      "> Parent node id: 8fe3c762-3041-49c2-9ad3-73234a8ef070.\n",
      "> Parent node text: The claim information:\n",
      "A peptide comprising the amino acid sequence KMIKP, comprising less than 7...\n",
      "\n",
      "> Merging 3 nodes into parent node.\n",
      "> Parent node id: e2b72fb9-4198-4382-a352-17e0577ea047.\n",
      "> Parent node text: The conclusion to be drawn is that topically applied peptide 3 inhibits one or more biological pr...\n",
      "\n",
      "> Merging 2 nodes into parent node.\n",
      "> Parent node id: 76fffc14-86c2-409c-a797-13ccfa78ee3f.\n",
      "> Parent node text: The description information:\n",
      "The present invention particularly relates to a method for improving...\n",
      "\n"
     ]
    },
    {
     "data": {
      "text/markdown": [
       "<b>{'prompt_tokens': 2679, 'completion_tokens': 467, 'total_tokens': 3146}</b>"
      ],
      "text/plain": [
       "<IPython.core.display.Markdown object>"
      ]
     },
     "metadata": {},
     "output_type": "display_data"
    },
    {
     "name": "stdout",
     "output_type": "stream",
     "text": [
      "--------------------------------------------------------------------\n",
      "> Merging 2 nodes into parent node.\n",
      "> Parent node id: 39d2e8bc-d58f-4540-9411-4d05d525f59b.\n",
      "> Parent node text: The claim information:\n",
      "A peptide comprising the amino acid sequence KMIKP, comprising less than 7...\n",
      "\n",
      "> Merging 1 nodes into parent node.\n",
      "> Parent node id: d74c4148-4691-4b1a-9bf6-8f7e1759377a.\n",
      "> Parent node text: The claim information:\n",
      "A peptide comprising the amino acid sequence KMIKP, comprising less than 7...\n",
      "\n",
      "> Merging 2 nodes into parent node.\n",
      "> Parent node id: df2b5559-9e72-4436-ad4d-dd0b61ce244f.\n",
      "> Parent node text: The description information:\n",
      "The present invention particularly relates to a method for improving...\n",
      "\n",
      "> Merging 3 nodes into parent node.\n",
      "> Parent node id: 6aec7d28-0ee1-4f0e-a6ce-165b8c274f0a.\n",
      "> Parent node text: The conclusion to be drawn is that topically applied peptide 3 inhibits one or more biological pr...\n",
      "\n"
     ]
    },
    {
     "data": {
      "text/markdown": [
       "<b>{'prompt_tokens': 2671, 'completion_tokens': 384, 'total_tokens': 3055}</b>"
      ],
      "text/plain": [
       "<IPython.core.display.Markdown object>"
      ]
     },
     "metadata": {},
     "output_type": "display_data"
    },
    {
     "name": "stdout",
     "output_type": "stream",
     "text": [
      "--------------------------------------------------------------------\n",
      "> Merging 2 nodes into parent node.\n",
      "> Parent node id: c25f126e-289c-4d57-9a22-dbcaff4ef68c.\n",
      "> Parent node text: The claim information:\n",
      "A peptide comprising the amino acid sequence KMIKP, comprising less than 7...\n",
      "\n",
      "> Merging 1 nodes into parent node.\n",
      "> Parent node id: 4e188718-7aa8-45b1-a8bb-b42f298f2fb6.\n",
      "> Parent node text: The claim information:\n",
      "A peptide comprising the amino acid sequence KMIKP, comprising less than 7...\n",
      "\n",
      "> Merging 2 nodes into parent node.\n",
      "> Parent node id: ee573acc-3cac-43cf-b8d2-7bf57ec46623.\n",
      "> Parent node text: The description information:\n",
      "The present invention particularly relates to a method for improving...\n",
      "\n",
      "> Merging 3 nodes into parent node.\n",
      "> Parent node id: 2a8f221b-dd69-4981-8c24-490f5188ad36.\n",
      "> Parent node text: The conclusion to be drawn is that topically applied peptide 3 inhibits one or more biological pr...\n",
      "\n"
     ]
    },
    {
     "data": {
      "text/markdown": [
       "<b>{'prompt_tokens': 2667, 'completion_tokens': 224, 'total_tokens': 2891}</b>"
      ],
      "text/plain": [
       "<IPython.core.display.Markdown object>"
      ]
     },
     "metadata": {},
     "output_type": "display_data"
    },
    {
     "name": "stdout",
     "output_type": "stream",
     "text": [
      "--------------------------------------------------------------------\n",
      "> Merging 1 nodes into parent node.\n",
      "> Parent node id: ae35a156-98e0-4528-8b36-37be6957e435.\n",
      "> Parent node text: The claim information:\n",
      "1 in the polypeptide consisting of the amino acid sequence shown in SEQ_ID...\n",
      "\n",
      "> Merging 1 nodes into parent node.\n",
      "> Parent node id: f4050206-0454-4503-ac72-a28563076fbb.\n",
      "> Parent node text: The claim information:\n",
      "1 in the polypeptide consisting of the amino acid sequence shown in SEQ_ID...\n",
      "\n",
      "> Merging 2 nodes into parent node.\n",
      "> Parent node id: e2b03283-67b0-4db5-95da-af04682cc438.\n",
      "> Parent node text: The polypeptide consisting of the amino acid sequence shown in SEQ_ID_NO_1 is a polypeptide consi...\n",
      "\n",
      "> Merging 2 nodes into parent node.\n",
      "> Parent node id: c15e078c-f0e3-49ba-9f68-25e692ebf229.\n",
      "> Parent node text: In the figure, the broken line represents the control group, the solid line represents the thermo...\n",
      "\n",
      "> Merging 2 nodes into parent node.\n",
      "> Parent node id: 4ef4d8dc-ad85-429b-bc49-008ef815862e.\n",
      "> Parent node text: (Non-Patent Document 1). Lee Daei et al., 67th Annual Meeting of the Japan Society of Nutrition a...\n",
      "\n",
      "> Merging 2 nodes into parent node.\n",
      "> Parent node id: 45c8de79-21bc-4b07-954b-1396ab04de6a.\n",
      "> Parent node text: In the figure, the broken line represents the control group, the solid line represents the thermo...\n",
      "\n"
     ]
    },
    {
     "data": {
      "text/markdown": [
       "<b>{'prompt_tokens': 2801, 'completion_tokens': 327, 'total_tokens': 3128}</b>"
      ],
      "text/plain": [
       "<IPython.core.display.Markdown object>"
      ]
     },
     "metadata": {},
     "output_type": "display_data"
    },
    {
     "name": "stdout",
     "output_type": "stream",
     "text": [
      "--------------------------------------------------------------------\n",
      "> Merging 1 nodes into parent node.\n",
      "> Parent node id: ff90cf24-2857-4011-a897-8f9ae90d4059.\n",
      "> Parent node text: The claim information:\n",
      "A synthetic peptide comprising a peptide having a amino acid sequence sele...\n",
      "\n",
      "> Merging 1 nodes into parent node.\n",
      "> Parent node id: 1c59824f-b0ad-4ed9-900f-eec6c3272b16.\n",
      "> Parent node text: The claim information:\n",
      "A synthetic peptide comprising a peptide having a amino acid sequence sele...\n",
      "\n",
      "> Merging 2 nodes into parent node.\n",
      "> Parent node id: 1eda339f-fb96-4df9-bda9-3c74cd30c9c8.\n",
      "> Parent node text: In Experiment 1 of the present invention, it was confirmed that the synthetic peptides of the pre...\n",
      "\n",
      "> Merging 1 nodes into parent node.\n",
      "> Parent node id: ec20d0fd-75a5-47c1-aa9a-cc5426a0e478.\n",
      "> Parent node text: <210> 5\n",
      "<211> 20\n",
      "<212> PRT\n",
      "<213> Artificial Sequence\n",
      "\n",
      "<220>\n",
      "<223> synthetic peptide\n",
      "\n",
      "\n",
      "<400> 5\n",
      "Gly...\n",
      "\n"
     ]
    },
    {
     "data": {
      "text/markdown": [
       "<b>{'prompt_tokens': 2815, 'completion_tokens': 351, 'total_tokens': 3166}</b>"
      ],
      "text/plain": [
       "<IPython.core.display.Markdown object>"
      ]
     },
     "metadata": {},
     "output_type": "display_data"
    },
    {
     "name": "stdout",
     "output_type": "stream",
     "text": [
      "--------------------------------------------------------------------\n",
      "> Merging 1 nodes into parent node.\n",
      "> Parent node id: 36d173a3-5388-4b13-9a80-0e1a8e660fc6.\n",
      "> Parent node text: The claim information:\n",
      "A synthetic peptide comprising a peptide having a amino acid sequence sele...\n",
      "\n",
      "> Merging 1 nodes into parent node.\n",
      "> Parent node id: a3a6a773-352f-4015-a1b0-da044103a324.\n",
      "> Parent node text: The claim information:\n",
      "A synthetic peptide comprising a peptide having a amino acid sequence sele...\n",
      "\n",
      "> Merging 1 nodes into parent node.\n",
      "> Parent node id: 67d4778c-7e46-4cf0-bfd4-f3f8b051d6b5.\n",
      "> Parent node text: <210> 5\n",
      "<211> 20\n",
      "<212> PRT\n",
      "<213> Artificial Sequence\n",
      "\n",
      "<220>\n",
      "<223> synthetic peptide\n",
      "\n",
      "\n",
      "<400> 5\n",
      "Gly...\n",
      "\n",
      "> Merging 2 nodes into parent node.\n",
      "> Parent node id: 18fd4ade-da1d-4be1-b9e1-ff02713e7560.\n",
      "> Parent node text: In Experiment 1 of the present invention, it was confirmed that the synthetic peptides of the pre...\n",
      "\n"
     ]
    },
    {
     "data": {
      "text/markdown": [
       "<b>{'prompt_tokens': 2815, 'completion_tokens': 303, 'total_tokens': 3118}</b>"
      ],
      "text/plain": [
       "<IPython.core.display.Markdown object>"
      ]
     },
     "metadata": {},
     "output_type": "display_data"
    },
    {
     "name": "stdout",
     "output_type": "stream",
     "text": [
      "--------------------------------------------------------------------\n",
      "> Merging 1 nodes into parent node.\n",
      "> Parent node id: 1b2a7e4e-acf9-4838-96a4-bfd92f59378d.\n",
      "> Parent node text: The claim information:\n",
      "A synthetic peptide comprising a peptide having a amino acid sequence sele...\n",
      "\n",
      "> Merging 1 nodes into parent node.\n",
      "> Parent node id: c41718a7-fea5-44b1-aa59-0ae90a25713a.\n",
      "> Parent node text: The claim information:\n",
      "A synthetic peptide comprising a peptide having a amino acid sequence sele...\n",
      "\n",
      "> Merging 1 nodes into parent node.\n",
      "> Parent node id: be75d8c2-7893-4c25-97f4-7316d121019e.\n",
      "> Parent node text: <210> 5\n",
      "<211> 20\n",
      "<212> PRT\n",
      "<213> Artificial Sequence\n",
      "\n",
      "<220>\n",
      "<223> synthetic peptide\n",
      "\n",
      "\n",
      "<400> 5\n",
      "Gly...\n",
      "\n",
      "> Merging 2 nodes into parent node.\n",
      "> Parent node id: f432d715-e670-40d9-bd31-5d48efa7aa17.\n",
      "> Parent node text: In Experiment 1 of the present invention, it was confirmed that the synthetic peptides of the pre...\n",
      "\n"
     ]
    },
    {
     "data": {
      "text/markdown": [
       "<b>{'prompt_tokens': 2813, 'completion_tokens': 356, 'total_tokens': 3169}</b>"
      ],
      "text/plain": [
       "<IPython.core.display.Markdown object>"
      ]
     },
     "metadata": {},
     "output_type": "display_data"
    },
    {
     "name": "stdout",
     "output_type": "stream",
     "text": [
      "--------------------------------------------------------------------\n",
      "> Merging 1 nodes into parent node.\n",
      "> Parent node id: d708971d-6e34-4e25-9ee4-b0e1734505c7.\n",
      "> Parent node text: The claim information:\n",
      "A synthetic peptide comprising a peptide having a amino acid sequence sele...\n",
      "\n",
      "> Merging 1 nodes into parent node.\n",
      "> Parent node id: 21a3aa85-c1ee-4903-a882-f9700abeec9e.\n",
      "> Parent node text: The claim information:\n",
      "A synthetic peptide comprising a peptide having a amino acid sequence sele...\n",
      "\n",
      "> Merging 2 nodes into parent node.\n",
      "> Parent node id: 62935529-269d-40ac-b50a-1a545e22bfa7.\n",
      "> Parent node text: In Experiment 1 of the present invention, it was confirmed that the synthetic peptides of the pre...\n",
      "\n",
      "> Merging 1 nodes into parent node.\n",
      "> Parent node id: b63d23e4-7997-45af-a393-f8eb4676df87.\n",
      "> Parent node text: <210> 5\n",
      "<211> 20\n",
      "<212> PRT\n",
      "<213> Artificial Sequence\n",
      "\n",
      "<220>\n",
      "<223> synthetic peptide\n",
      "\n",
      "\n",
      "<400> 5\n",
      "Gly...\n",
      "\n"
     ]
    },
    {
     "data": {
      "text/markdown": [
       "<b>{'prompt_tokens': 2815, 'completion_tokens': 197, 'total_tokens': 3012}</b>"
      ],
      "text/plain": [
       "<IPython.core.display.Markdown object>"
      ]
     },
     "metadata": {},
     "output_type": "display_data"
    },
    {
     "name": "stdout",
     "output_type": "stream",
     "text": [
      "--------------------------------------------------------------------\n"
     ]
    },
    {
     "name": "stderr",
     "output_type": "stream",
     "text": [
      "/tmp/ipykernel_815828/3755501152.py:81: FutureWarning: Setting an item of incompatible dtype is deprecated and will raise in a future error of pandas. Value '0.5' has dtype incompatible with int64, please explicitly cast to a compatible dtype first.\n",
      "  df_seq.loc[condition,'is_anti_inflammation']=0.5\n"
     ]
    },
    {
     "name": "stdout",
     "output_type": "stream",
     "text": [
      "> Merging 1 nodes into parent node.\n",
      "> Parent node id: d539e8dd-b98b-4f18-8ff4-a1a045a15509.\n",
      "> Parent node text: The claim information:\n",
      "A synthetic peptide comprising a peptide having a amino acid sequence sele...\n",
      "\n",
      "> Merging 1 nodes into parent node.\n",
      "> Parent node id: a0971e68-7d30-4619-ad2b-f6b22d9af4e5.\n",
      "> Parent node text: The claim information:\n",
      "A synthetic peptide comprising a peptide having a amino acid sequence sele...\n",
      "\n",
      "> Merging 2 nodes into parent node.\n",
      "> Parent node id: 72b00bfa-4e73-4fa5-b5d4-52c692172c0b.\n",
      "> Parent node text: In Experiment 1 of the present invention, it was confirmed that the synthetic peptides of the pre...\n",
      "\n",
      "> Merging 1 nodes into parent node.\n",
      "> Parent node id: 19f731d8-1a52-4845-b1ca-11eaf39fc264.\n",
      "> Parent node text: <210> 5\n",
      "<211> 20\n",
      "<212> PRT\n",
      "<213> Artificial Sequence\n",
      "\n",
      "<220>\n",
      "<223> synthetic peptide\n",
      "\n",
      "\n",
      "<400> 5\n",
      "Gly...\n",
      "\n"
     ]
    },
    {
     "data": {
      "text/markdown": [
       "<b>{'prompt_tokens': 2815, 'completion_tokens': 184, 'total_tokens': 2999}</b>"
      ],
      "text/plain": [
       "<IPython.core.display.Markdown object>"
      ]
     },
     "metadata": {},
     "output_type": "display_data"
    },
    {
     "name": "stdout",
     "output_type": "stream",
     "text": [
      "--------------------------------------------------------------------\n",
      "> Merging 1 nodes into parent node.\n",
      "> Parent node id: 68bc87c1-15db-4117-a581-4567d6aacb1f.\n",
      "> Parent node text: The claim information:\n",
      "A synthetic peptide comprising a peptide having a amino acid sequence sele...\n",
      "\n",
      "> Merging 1 nodes into parent node.\n",
      "> Parent node id: 066229a4-d26c-4a6d-830e-ceb796a2f0cd.\n",
      "> Parent node text: The claim information:\n",
      "A synthetic peptide comprising a peptide having a amino acid sequence sele...\n",
      "\n",
      "> Merging 2 nodes into parent node.\n",
      "> Parent node id: da33adf5-c78a-47d1-a3ea-2daa363b1b7e.\n",
      "> Parent node text: In Experiment 1 of the present invention, it was confirmed that the synthetic peptides of the pre...\n",
      "\n",
      "> Merging 2 nodes into parent node.\n",
      "> Parent node id: 69ce1f4b-bc59-4f9f-babd-3b2f929c6f6e.\n",
      "> Parent node text: Currently, the most studied PTD is the Tat protein, a transcription factor of human immunodeficie...\n",
      "\n",
      "> Merging 1 nodes into parent node.\n",
      "> Parent node id: a75a681d-a7dd-44f1-8126-002516e64d26.\n",
      "> Parent node text: <210> 5\n",
      "<211> 20\n",
      "<212> PRT\n",
      "<213> Artificial Sequence\n",
      "\n",
      "<220>\n",
      "<223> synthetic peptide\n",
      "\n",
      "\n",
      "<400> 5\n",
      "Gly...\n",
      "\n"
     ]
    },
    {
     "data": {
      "text/markdown": [
       "<b>{'prompt_tokens': 2817, 'completion_tokens': 366, 'total_tokens': 3183}</b>"
      ],
      "text/plain": [
       "<IPython.core.display.Markdown object>"
      ]
     },
     "metadata": {},
     "output_type": "display_data"
    },
    {
     "name": "stdout",
     "output_type": "stream",
     "text": [
      "--------------------------------------------------------------------\n",
      "> Merging 2 nodes into parent node.\n",
      "> Parent node id: 7cd34c8e-fad9-4df2-b583-ae97f26d3eb9.\n",
      "> Parent node text: The claim information:\n",
      "One antimicrobial peptide selected from the group of peptides having the a...\n",
      "\n",
      "> Merging 1 nodes into parent node.\n",
      "> Parent node id: b0bf5143-1bd4-476a-a8d0-9e21b09738f7.\n",
      "> Parent node text: The claim information:\n",
      "One antimicrobial peptide selected from the group of peptides having the a...\n",
      "\n",
      "> Merging 2 nodes into parent node.\n",
      "> Parent node id: 8a198e58-46d3-4442-93b8-aff43a37c7a9.\n",
      "> Parent node text: The antibiotic peptide of SEQ_ID_NO_5 lowered the hydrophobicity of 9Pbw3 of the comparative pept...\n",
      "\n",
      "> Merging 2 nodes into parent node.\n",
      "> Parent node id: 9cda1fc3-0117-4b47-bbc5-8949744f919a.\n",
      "> Parent node text: Table 1 is the residue sequence of seven high-function peptide derivatives of SEQ ID NOS: 1 to 7 ...\n",
      "\n"
     ]
    },
    {
     "data": {
      "text/markdown": [
       "<b>{'prompt_tokens': 2710, 'completion_tokens': 494, 'total_tokens': 3204}</b>"
      ],
      "text/plain": [
       "<IPython.core.display.Markdown object>"
      ]
     },
     "metadata": {},
     "output_type": "display_data"
    },
    {
     "name": "stdout",
     "output_type": "stream",
     "text": [
      "--------------------------------------------------------------------\n",
      "> Merging 2 nodes into parent node.\n",
      "> Parent node id: 7de927e0-9d2d-4b97-b247-7bd15a15950f.\n",
      "> Parent node text: The claim information:\n",
      "One antimicrobial peptide selected from the group of peptides having the a...\n",
      "\n",
      "> Merging 1 nodes into parent node.\n",
      "> Parent node id: 621e57ff-a58a-4c27-bf44-cd96b06c4335.\n",
      "> Parent node text: The claim information:\n",
      "One antimicrobial peptide selected from the group of peptides having the a...\n",
      "\n",
      "> Merging 2 nodes into parent node.\n",
      "> Parent node id: 14d24111-ead8-48d1-8a12-903a1b389620.\n",
      "> Parent node text: Table 1 is the residue sequence of seven high-function peptide derivatives of SEQ ID NOS: 1 to 7 ...\n",
      "\n",
      "> Merging 2 nodes into parent node.\n",
      "> Parent node id: b559aab5-9540-4a74-b2d0-2d5c4d724386.\n",
      "> Parent node text: The antibiotic peptide of SEQ_ID_NO_5 lowered the hydrophobicity of 9Pbw3 of the comparative pept...\n",
      "\n"
     ]
    },
    {
     "data": {
      "text/markdown": [
       "<b>{'prompt_tokens': 2765, 'completion_tokens': 295, 'total_tokens': 3060}</b>"
      ],
      "text/plain": [
       "<IPython.core.display.Markdown object>"
      ]
     },
     "metadata": {},
     "output_type": "display_data"
    },
    {
     "name": "stdout",
     "output_type": "stream",
     "text": [
      "--------------------------------------------------------------------\n",
      "> Merging 2 nodes into parent node.\n",
      "> Parent node id: ad9d1c6c-75aa-42b6-9b1a-e74b62380c5f.\n",
      "> Parent node text: The claim information:\n",
      "One antimicrobial peptide selected from the group of peptides having the a...\n",
      "\n",
      "> Merging 1 nodes into parent node.\n",
      "> Parent node id: 364ace70-2c0c-4bc8-b294-755ee45c0f8b.\n",
      "> Parent node text: The claim information:\n",
      "One antimicrobial peptide selected from the group of peptides having the a...\n",
      "\n",
      "> Merging 2 nodes into parent node.\n",
      "> Parent node id: 01e7de7b-bc87-4696-aad6-012d86ccfa13.\n",
      "> Parent node text: The antibiotic peptides of SEQ ID NOS: 1, 4, 5, 6 and 7 showed similar or slightly lower activity...\n",
      "\n"
     ]
    },
    {
     "data": {
      "text/markdown": [
       "<b>{'prompt_tokens': 2873, 'completion_tokens': 361, 'total_tokens': 3234}</b>"
      ],
      "text/plain": [
       "<IPython.core.display.Markdown object>"
      ]
     },
     "metadata": {},
     "output_type": "display_data"
    },
    {
     "name": "stdout",
     "output_type": "stream",
     "text": [
      "--------------------------------------------------------------------\n",
      "> Merging 2 nodes into parent node.\n",
      "> Parent node id: 7dd43ff9-35a9-4322-9404-a2ab90d41365.\n",
      "> Parent node text: The claim information:\n",
      "One antimicrobial peptide selected from the group of peptides having the a...\n",
      "\n",
      "> Merging 1 nodes into parent node.\n",
      "> Parent node id: 72d63152-fa75-4d4e-8315-8f6b51346859.\n",
      "> Parent node text: The claim information:\n",
      "One antimicrobial peptide selected from the group of peptides having the a...\n",
      "\n",
      "> Merging 2 nodes into parent node.\n",
      "> Parent node id: 3c614c95-27ff-4ad6-a984-375a5a04a911.\n",
      "> Parent node text: Table 1 is the residue sequence of seven high-function peptide derivatives of SEQ ID NOS: 1 to 7 ...\n",
      "\n",
      "> Merging 2 nodes into parent node.\n",
      "> Parent node id: 310056cb-f98d-485f-9746-c6e897de1539.\n",
      "> Parent node text: The antibiotic peptides of SEQ ID NOS: 1, 4, 5, 6 and 7 showed similar or slightly lower activity...\n",
      "\n"
     ]
    },
    {
     "data": {
      "text/markdown": [
       "<b>{'prompt_tokens': 2607, 'completion_tokens': 281, 'total_tokens': 2888}</b>"
      ],
      "text/plain": [
       "<IPython.core.display.Markdown object>"
      ]
     },
     "metadata": {},
     "output_type": "display_data"
    },
    {
     "name": "stdout",
     "output_type": "stream",
     "text": [
      "--------------------------------------------------------------------\n",
      "> Merging 2 nodes into parent node.\n",
      "> Parent node id: 0e40d943-ceee-4735-8111-fac432e54b98.\n",
      "> Parent node text: The claim information:\n",
      "One antimicrobial peptide selected from the group of peptides having the a...\n",
      "\n",
      "> Merging 1 nodes into parent node.\n",
      "> Parent node id: e8fd0393-7b7b-42d7-a3e0-ecf3a8ba008d.\n",
      "> Parent node text: The claim information:\n",
      "One antimicrobial peptide selected from the group of peptides having the a...\n",
      "\n",
      "> Merging 2 nodes into parent node.\n",
      "> Parent node id: e1dcf22d-7c48-4aad-b2d9-1185a45fe6ad.\n",
      "> Parent node text: Table 1 is the residue sequence of seven high-function peptide derivatives of SEQ ID NOS: 1 to 7 ...\n",
      "\n",
      "> Merging 2 nodes into parent node.\n",
      "> Parent node id: 0152edbb-bba3-4319-973f-b2e7296b793b.\n",
      "> Parent node text: The antibiotic peptides of SEQ ID NOS: 1, 4, 5, 6 and 7 showed similar or slightly lower activity...\n",
      "\n"
     ]
    },
    {
     "data": {
      "text/markdown": [
       "<b>{'prompt_tokens': 2609, 'completion_tokens': 410, 'total_tokens': 3019}</b>"
      ],
      "text/plain": [
       "<IPython.core.display.Markdown object>"
      ]
     },
     "metadata": {},
     "output_type": "display_data"
    },
    {
     "name": "stdout",
     "output_type": "stream",
     "text": [
      "--------------------------------------------------------------------\n",
      "> Merging 2 nodes into parent node.\n",
      "> Parent node id: eae89311-c467-4cb4-92df-68fe01631e95.\n",
      "> Parent node text: The claim information:\n",
      "One antimicrobial peptide selected from the group of peptides having the a...\n",
      "\n",
      "> Merging 1 nodes into parent node.\n",
      "> Parent node id: ba080db0-92bc-4e87-92a1-fe15d30e35a3.\n",
      "> Parent node text: The claim information:\n",
      "One antimicrobial peptide selected from the group of peptides having the a...\n",
      "\n",
      "> Filling in node. Node id: fa0b1541-3d9d-4aa4-9794-99e6e5e897c1> Node text: It will be apparent to those skilled in the art that a pharmaceutical composition for an antimicr...\n",
      "\n",
      "> Merging 2 nodes into parent node.\n",
      "> Parent node id: 1c853275-7d87-49f7-a955-68ffcadbc4d1.\n",
      "> Parent node text: The antibiotic peptides of SEQ ID NOS: 1, 4, 5, 6 and 7 showed similar or slightly lower activity...\n",
      "\n",
      "> Merging 3 nodes into parent node.\n",
      "> Parent node id: d8e1a8f6-1f0e-41e3-89c5-3dd45a19a2d2.\n",
      "> Parent node text: The antibiotic peptide of SEQ_ID_NO_5 lowered the hydrophobicity of 9Pbw3 of the comparative pept...\n",
      "\n"
     ]
    },
    {
     "data": {
      "text/markdown": [
       "<b>{'prompt_tokens': 2949, 'completion_tokens': 432, 'total_tokens': 3381}</b>"
      ],
      "text/plain": [
       "<IPython.core.display.Markdown object>"
      ]
     },
     "metadata": {},
     "output_type": "display_data"
    },
    {
     "name": "stdout",
     "output_type": "stream",
     "text": [
      "--------------------------------------------------------------------\n",
      "> Merging 2 nodes into parent node.\n",
      "> Parent node id: add5ba4c-b86e-4e6f-9c6c-796a427c24d1.\n",
      "> Parent node text: The claim information:\n",
      "One antimicrobial peptide selected from the group of peptides having the a...\n",
      "\n",
      "> Merging 1 nodes into parent node.\n",
      "> Parent node id: 571afb14-8949-4c40-869e-caf83bae324c.\n",
      "> Parent node text: The claim information:\n",
      "One antimicrobial peptide selected from the group of peptides having the a...\n",
      "\n",
      "> Merging 2 nodes into parent node.\n",
      "> Parent node id: 596468b5-66a3-41e0-8c72-de5323e5959e.\n",
      "> Parent node text: The antibiotic peptide of SEQ_ID_NO_5 lowered the hydrophobicity of 9Pbw3 of the comparative pept...\n",
      "\n"
     ]
    },
    {
     "data": {
      "text/markdown": [
       "<b>{'prompt_tokens': 2725, 'completion_tokens': 395, 'total_tokens': 3120}</b>"
      ],
      "text/plain": [
       "<IPython.core.display.Markdown object>"
      ]
     },
     "metadata": {},
     "output_type": "display_data"
    },
    {
     "name": "stdout",
     "output_type": "stream",
     "text": [
      "--------------------------------------------------------------------\n",
      "> Merging 2 nodes into parent node.\n",
      "> Parent node id: eaec6620-78fd-41a2-9b18-411f8a09513b.\n",
      "> Parent node text: The claim information:\n",
      "One antimicrobial peptide selected from the group of peptides having the a...\n",
      "\n",
      "> Merging 1 nodes into parent node.\n",
      "> Parent node id: d4fb05e3-a1ef-41e8-8ccc-cec4a77d0713.\n",
      "> Parent node text: The claim information:\n",
      "One antimicrobial peptide selected from the group of peptides having the a...\n",
      "\n",
      "> Filling in node. Node id: 93174e4a-1770-49b7-a165-a3071d2f2bf4> Node text: It will be apparent to those skilled in the art that a pharmaceutical composition for an antimicr...\n",
      "\n",
      "> Merging 2 nodes into parent node.\n",
      "> Parent node id: c864f76f-ece6-45bd-9893-516efcb213c4.\n",
      "> Parent node text: The antibiotic peptides of SEQ ID NOS: 1, 4, 5, 6 and 7 showed similar or slightly lower activity...\n",
      "\n",
      "> Merging 3 nodes into parent node.\n",
      "> Parent node id: 64d4557d-9e32-4e35-8a1b-5e8256bf1e09.\n",
      "> Parent node text: The antibiotic peptide of SEQ_ID_NO_5 lowered the hydrophobicity of 9Pbw3 of the comparative pept...\n",
      "\n"
     ]
    },
    {
     "data": {
      "text/markdown": [
       "<b>{'prompt_tokens': 2796, 'completion_tokens': 228, 'total_tokens': 3024}</b>"
      ],
      "text/plain": [
       "<IPython.core.display.Markdown object>"
      ]
     },
     "metadata": {},
     "output_type": "display_data"
    },
    {
     "name": "stdout",
     "output_type": "stream",
     "text": [
      "--------------------------------------------------------------------\n",
      "> Merging 2 nodes into parent node.\n",
      "> Parent node id: 9e42db89-2041-43ef-9774-be4a8003a07a.\n",
      "> Parent node text: The claim information:\n",
      "A novel peptide HaGF derived from a ladybug larva having an amino acid seq...\n",
      "\n",
      "> Merging 2 nodes into parent node.\n",
      "> Parent node id: f58ac04c-0bf9-4a9a-a592-b10bfdc78b47.\n",
      "> Parent node text: Accordingly, in one aspect, the present invention relates to an anti-inflammatory cosmetic compos...\n",
      "\n",
      "> Merging 2 nodes into parent node.\n",
      "> Parent node id: 44c85cc8-e36d-4206-971c-37deba3de52d.\n",
      "> Parent node text: Rabbit COX-2 (1: 1000) (cayman) was used as an antibody to examine the expression level of COX-2 ...\n",
      "\n",
      "> Merging 1 nodes into parent node.\n",
      "> Parent node id: 9423606f-986f-43cd-b5f7-897071d1d103.\n",
      "> Parent node text: As a result, the novel peptide HaGF derived from the ladybug larvae has no cytotoxicity against m...\n",
      "\n"
     ]
    },
    {
     "data": {
      "text/markdown": [
       "<b>{'prompt_tokens': 2925, 'completion_tokens': 319, 'total_tokens': 3244}</b>"
      ],
      "text/plain": [
       "<IPython.core.display.Markdown object>"
      ]
     },
     "metadata": {},
     "output_type": "display_data"
    },
    {
     "name": "stdout",
     "output_type": "stream",
     "text": [
      "--------------------------------------------------------------------\n",
      "> Merging 2 nodes into parent node.\n",
      "> Parent node id: 7f75f2aa-883b-45c2-aede-2b98aadb4549.\n",
      "> Parent node text: The claim information:\n",
      "1, which comprises a coplysin peptide derivative CopA3 having an amino aci...\n",
      "\n",
      "> Merging 1 nodes into parent node.\n",
      "> Parent node id: 2cb0acd0-81b1-482c-9260-19c69101b38b.\n",
      "> Parent node text: While the present invention has been particularly shown and described with reference to specific ...\n",
      "\n",
      "> Merging 1 nodes into parent node.\n",
      "> Parent node id: 26eb4538-64be-4591-8944-929489e43841.\n",
      "> Parent node text: While the present invention has been particularly shown and described with reference to specific ...\n",
      "\n"
     ]
    },
    {
     "data": {
      "text/markdown": [
       "<b>{'prompt_tokens': 3037, 'completion_tokens': 319, 'total_tokens': 3356}</b>"
      ],
      "text/plain": [
       "<IPython.core.display.Markdown object>"
      ]
     },
     "metadata": {},
     "output_type": "display_data"
    },
    {
     "name": "stdout",
     "output_type": "stream",
     "text": [
      "--------------------------------------------------------------------\n",
      "> Merging 2 nodes into parent node.\n",
      "> Parent node id: 42dbdf82-b565-4cb5-bcb9-7b28e67216fc.\n",
      "> Parent node text: The claim information:\n",
      "A peptide having an anti-inflammatory activity consisting of the amino aci...\n",
      "\n",
      "> Merging 1 nodes into parent node.\n",
      "> Parent node id: 44e3508a-daa9-4a9d-9978-41f03b13842c.\n",
      "> Parent node text: The claim information:\n",
      "A peptide having an anti-inflammatory activity consisting of the amino aci...\n",
      "\n",
      "> Merging 2 nodes into parent node.\n",
      "> Parent node id: bbf3335b-d95f-497c-8c3a-0a137be994ef.\n",
      "> Parent node text: <400> 8\n",
      "aaagtgaagg aaagcgacga 20\n",
      "\n",
      "\n",
      "<210> 9\n",
      "<211> 20\n",
      "<212> DNA\n",
      "<213> Artificial Sequence\n",
      "\n",
      "<220>\n",
      "<2...\n",
      "\n"
     ]
    },
    {
     "data": {
      "text/markdown": [
       "<b>{'prompt_tokens': 3002, 'completion_tokens': 205, 'total_tokens': 3207}</b>"
      ],
      "text/plain": [
       "<IPython.core.display.Markdown object>"
      ]
     },
     "metadata": {},
     "output_type": "display_data"
    },
    {
     "name": "stdout",
     "output_type": "stream",
     "text": [
      "--------------------------------------------------------------------\n",
      "> Merging 2 nodes into parent node.\n",
      "> Parent node id: dd14366d-2691-4a48-9113-06ac87e4f4ab.\n",
      "> Parent node text: The claim information:\n",
      "A peptide having an anti-inflammatory activity consisting of the amino aci...\n",
      "\n",
      "> Merging 1 nodes into parent node.\n",
      "> Parent node id: 856ab071-8e9f-4b4c-aa07-bf9f41f987e1.\n",
      "> Parent node text: The claim information:\n",
      "A peptide having an anti-inflammatory activity consisting of the amino aci...\n",
      "\n",
      "> Merging 2 nodes into parent node.\n",
      "> Parent node id: 3ecb0991-3549-4993-bac7-109b35b79064.\n",
      "> Parent node text: <400> 8\n",
      "aaagtgaagg aaagcgacga 20\n",
      "\n",
      "\n",
      "<210> 9\n",
      "<211> 20\n",
      "<212> DNA\n",
      "<213> Artificial Sequence\n",
      "\n",
      "<220>\n",
      "<2...\n",
      "\n",
      "> Merging 1 nodes into parent node.\n",
      "> Parent node id: c44a0baf-4357-4add-990b-bee733e7c9b2.\n",
      "> Parent node text: The description is omitted to avoid it. As demonstrated in the examples below, a composition comp...\n",
      "\n"
     ]
    },
    {
     "data": {
      "text/markdown": [
       "<b>{'prompt_tokens': 2709, 'completion_tokens': 792, 'total_tokens': 3501}</b>"
      ],
      "text/plain": [
       "<IPython.core.display.Markdown object>"
      ]
     },
     "metadata": {},
     "output_type": "display_data"
    },
    {
     "name": "stdout",
     "output_type": "stream",
     "text": [
      "--------------------------------------------------------------------\n",
      "> Merging 2 nodes into parent node.\n",
      "> Parent node id: e798cd2e-ea9c-474e-bf7a-52b1f2d6abc6.\n",
      "> Parent node text: The claim information:\n",
      "A peptide having an anti-inflammatory activity consisting of the amino aci...\n",
      "\n",
      "> Merging 1 nodes into parent node.\n",
      "> Parent node id: a362e66a-f499-4519-953d-3c2450a007ea.\n",
      "> Parent node text: The claim information:\n",
      "A peptide having an anti-inflammatory activity consisting of the amino aci...\n",
      "\n",
      "> Merging 1 nodes into parent node.\n",
      "> Parent node id: 53bd0cad-f382-42af-a5be-cdb6cf6008d8.\n",
      "> Parent node text: The description is omitted to avoid it. As demonstrated in the examples below, a composition comp...\n",
      "\n",
      "> Merging 2 nodes into parent node.\n",
      "> Parent node id: df827152-2613-4ae9-b98e-90b6d8a48b4d.\n",
      "> Parent node text: <400> 8\n",
      "aaagtgaagg aaagcgacga 20\n",
      "\n",
      "\n",
      "<210> 9\n",
      "<211> 20\n",
      "<212> DNA\n",
      "<213> Artificial Sequence\n",
      "\n",
      "<220>\n",
      "<2...\n",
      "\n"
     ]
    },
    {
     "data": {
      "text/markdown": [
       "<b>{'prompt_tokens': 2711, 'completion_tokens': 359, 'total_tokens': 3070}</b>"
      ],
      "text/plain": [
       "<IPython.core.display.Markdown object>"
      ]
     },
     "metadata": {},
     "output_type": "display_data"
    },
    {
     "name": "stdout",
     "output_type": "stream",
     "text": [
      "--------------------------------------------------------------------\n",
      "> Merging 2 nodes into parent node.\n",
      "> Parent node id: 238df2ef-700b-448f-903f-b7e791597af8.\n",
      "> Parent node text: The claim information:\n",
      "A peptide consisting of the amino acid sequence of Gly-Ser-Gly-Ala; or Bio...\n",
      "\n",
      "> Merging 1 nodes into parent node.\n",
      "> Parent node id: ea13e150-3f4a-48e1-a725-42d6cb9d5300.\n",
      "> Parent node text: The claim information:\n",
      "A peptide consisting of the amino acid sequence of Gly-Ser-Gly-Ala; or Bio...\n",
      "\n",
      "> Merging 1 nodes into parent node.\n",
      "> Parent node id: 1b3cab3a-cdf0-45f8-921d-c974f4f0d476.\n",
      "> Parent node text: Experimental Example 1 : Gly - Ser - Gly - Ala Peptide (hereinafter referred to as GSGA) UVB Inhi...\n",
      "\n",
      "> Merging 2 nodes into parent node.\n",
      "> Parent node id: d8a3869a-09de-412e-835e-da65bcd66caf.\n",
      "> Parent node text: However, the cell survival rate was not significantly increased when wnt signaling inhibitor was ...\n",
      "\n"
     ]
    },
    {
     "data": {
      "text/markdown": [
       "<b>{'prompt_tokens': 2823, 'completion_tokens': 368, 'total_tokens': 3191}</b>"
      ],
      "text/plain": [
       "<IPython.core.display.Markdown object>"
      ]
     },
     "metadata": {},
     "output_type": "display_data"
    },
    {
     "name": "stdout",
     "output_type": "stream",
     "text": [
      "--------------------------------------------------------------------\n",
      "> Merging 2 nodes into parent node.\n",
      "> Parent node id: f4145f58-2067-421d-84b2-bd1598f7d0cb.\n",
      "> Parent node text: The claim information:\n",
      "A thrombin receptor agonist peptide (TRAP), a protein C Gla domain (PC-Gla...\n",
      "\n",
      "> Merging 3 nodes into parent node.\n",
      "> Parent node id: b54ae157-2daa-471d-86ae-28e0dcd8734b.\n",
      "> Parent node text: Biochem. 57: 957, and Offord, RE (1980), Semisynthetic Proteins (1989), Kaiser et &lt; RTI ID = 0...\n",
      "\n",
      "> Merging 3 nodes into parent node.\n",
      "> Parent node id: 1bbdacad-6677-4167-b4e1-797f9f7f1745.\n",
      "> Parent node text: (MEICRGLRSHLITLLLFLFHSETICRPSGRKSSKMQAFRI WDVNQKTFYLRNNQLVAGYLQGPNVNLEEKIDVVPIEPHALFLGIHGGKM CLSC...\n",
      "\n",
      "> Merging 2 nodes into parent node.\n",
      "> Parent node id: c019bf33-d93f-4396-af8b-267e8f00d0a5.\n",
      "> Parent node text: Biochem. 57: 957, and Offord, RE (1980), Semisynthetic Proteins (1989), Kaiser et &lt; RTI ID = 0...\n",
      "\n"
     ]
    },
    {
     "data": {
      "text/markdown": [
       "<b>{'prompt_tokens': 2509, 'completion_tokens': 203, 'total_tokens': 2712}</b>"
      ],
      "text/plain": [
       "<IPython.core.display.Markdown object>"
      ]
     },
     "metadata": {},
     "output_type": "display_data"
    },
    {
     "name": "stdout",
     "output_type": "stream",
     "text": [
      "--------------------------------------------------------------------\n",
      "> Merging 2 nodes into parent node.\n",
      "> Parent node id: 92f8a021-05ad-40bb-af6f-8d42b934d351.\n",
      "> Parent node text: The claim information:\n",
      "A thrombin receptor agonist peptide (TRAP), a protein C Gla domain (PC-Gla...\n",
      "\n",
      "> Merging 2 nodes into parent node.\n",
      "> Parent node id: 6a13feff-ad0a-42e1-9e85-80cfc6a9ff78.\n",
      "> Parent node text: Biochem. 57: 957, and Offord, RE (1980), Semisynthetic Proteins (1989), Kaiser et &lt; RTI ID = 0...\n",
      "\n",
      "> Merging 3 nodes into parent node.\n",
      "> Parent node id: 01e39eeb-8bf9-484c-a930-81347bbd1e6c.\n",
      "> Parent node text: (MEICRGLRSHLITLLLFLFHSETICRPSGRKSSKMQAFRI WDVNQKTFYLRNNQLVAGYLQGPNVNLEEKIDVVPIEPHALFLGIHGGKM CLSC...\n",
      "\n",
      "> Merging 2 nodes into parent node.\n",
      "> Parent node id: 3fc60a18-20a0-4b45-bf7a-9b7bb3a2a06b.\n",
      "> Parent node text: Biochem. 57: 957, and Offord, RE (1980), Semisynthetic Proteins (1989), Kaiser et &lt; RTI ID = 0...\n",
      "\n"
     ]
    },
    {
     "data": {
      "text/markdown": [
       "<b>{'prompt_tokens': 2833, 'completion_tokens': 585, 'total_tokens': 3418}</b>"
      ],
      "text/plain": [
       "<IPython.core.display.Markdown object>"
      ]
     },
     "metadata": {},
     "output_type": "display_data"
    },
    {
     "name": "stdout",
     "output_type": "stream",
     "text": [
      "--------------------------------------------------------------------\n",
      "> Merging 2 nodes into parent node.\n",
      "> Parent node id: d4b1f30e-bf85-451c-b3fb-ee284d2d7991.\n",
      "> Parent node text: The claim information:\n",
      "A thrombin receptor agonist peptide (TRAP), a protein C Gla domain (PC-Gla...\n",
      "\n",
      "> Merging 3 nodes into parent node.\n",
      "> Parent node id: 563fd60a-8eb0-4ac3-affa-297a59adc6d2.\n",
      "> Parent node text: (MEICRGLRSHLITLLLFLFHSETICRPSGRKSSKMQAFRI WDVNQKTFYLRNNQLVAGYLQGPNVNLEEKIDVVPIEPHALFLGIHGGKM CLSC...\n",
      "\n"
     ]
    },
    {
     "data": {
      "text/markdown": [
       "<b>{'prompt_tokens': 2863, 'completion_tokens': 370, 'total_tokens': 3233}</b>"
      ],
      "text/plain": [
       "<IPython.core.display.Markdown object>"
      ]
     },
     "metadata": {},
     "output_type": "display_data"
    },
    {
     "name": "stdout",
     "output_type": "stream",
     "text": [
      "--------------------------------------------------------------------\n",
      "> Merging 2 nodes into parent node.\n",
      "> Parent node id: c57865f6-bfe1-4a9a-a1a4-0f978965c8f7.\n",
      "> Parent node text: The claim information:\n",
      "A peptide having an anti-inflammatory activity consisting of the amino aci...\n",
      "\n",
      "> Merging 1 nodes into parent node.\n",
      "> Parent node id: a9af8879-291d-444d-a0f2-39f4eab0c3e5.\n",
      "> Parent node text: The claim information:\n",
      "A peptide having an anti-inflammatory activity consisting of the amino aci...\n",
      "\n",
      "> Merging 2 nodes into parent node.\n",
      "> Parent node id: abe85a5a-a685-4ce6-99f8-9d8f1500d9f3.\n",
      "> Parent node text: As a result of trying to develop excellent peptides having biologically effective activity, the i...\n",
      "\n",
      "> Merging 1 nodes into parent node.\n",
      "> Parent node id: b4759df9-cb00-4c59-b30b-37816f929b42.\n",
      "> Parent node text: According to one aspect of the present invention, the present invention is a peptide having anti-...\n",
      "\n"
     ]
    },
    {
     "data": {
      "text/markdown": [
       "<b>{'prompt_tokens': 3040, 'completion_tokens': 300, 'total_tokens': 3340}</b>"
      ],
      "text/plain": [
       "<IPython.core.display.Markdown object>"
      ]
     },
     "metadata": {},
     "output_type": "display_data"
    },
    {
     "name": "stdout",
     "output_type": "stream",
     "text": [
      "--------------------------------------------------------------------\n",
      "> Merging 2 nodes into parent node.\n",
      "> Parent node id: c8eca38d-322c-45b1-8c49-2112aaa5ba40.\n",
      "> Parent node text: The claim information:\n",
      "A peptide having an anti-inflammatory activity consisting of the amino aci...\n",
      "\n",
      "> Merging 1 nodes into parent node.\n",
      "> Parent node id: 882fcc38-35fb-40aa-9183-16876ecbf0cd.\n",
      "> Parent node text: The claim information:\n",
      "A peptide having an anti-inflammatory activity consisting of the amino aci...\n",
      "\n",
      "> Merging 2 nodes into parent node.\n",
      "> Parent node id: 61a5eff2-8594-48d3-84d8-136643bd0586.\n",
      "> Parent node text: As a result of trying to develop excellent peptides having biologically effective activity, the i...\n",
      "\n",
      "> Merging 1 nodes into parent node.\n",
      "> Parent node id: 4674cbb5-99c1-4437-9408-ef7b4b2a59f8.\n",
      "> Parent node text: According to one aspect of the present invention, the present invention is a peptide having anti-...\n",
      "\n"
     ]
    },
    {
     "data": {
      "text/markdown": [
       "<b>{'prompt_tokens': 3042, 'completion_tokens': 368, 'total_tokens': 3410}</b>"
      ],
      "text/plain": [
       "<IPython.core.display.Markdown object>"
      ]
     },
     "metadata": {},
     "output_type": "display_data"
    },
    {
     "name": "stdout",
     "output_type": "stream",
     "text": [
      "--------------------------------------------------------------------\n",
      "> Merging 2 nodes into parent node.\n",
      "> Parent node id: 4ddb399d-57e4-44ab-bb0c-89c3031ef65f.\n",
      "> Parent node text: The claim information:\n",
      "A peptide having an anti-inflammatory activity consisting of the amino aci...\n",
      "\n",
      "> Merging 1 nodes into parent node.\n",
      "> Parent node id: 034840df-6f89-4090-99da-967055d27776.\n",
      "> Parent node text: The claim information:\n",
      "A peptide having an anti-inflammatory activity consisting of the amino aci...\n",
      "\n",
      "> Merging 2 nodes into parent node.\n",
      "> Parent node id: 2b5d0f97-bc37-44bd-a668-ded0f9f8ca87.\n",
      "> Parent node text: As a result of trying to develop excellent peptides having biologically effective activity, the i...\n",
      "\n",
      "> Merging 1 nodes into parent node.\n",
      "> Parent node id: 9347ec21-b606-4034-b140-5d8c4a3a13e4.\n",
      "> Parent node text: According to one aspect of the present invention, the present invention is a peptide having anti-...\n",
      "\n"
     ]
    },
    {
     "data": {
      "text/markdown": [
       "<b>{'prompt_tokens': 3133, 'completion_tokens': 463, 'total_tokens': 3596}</b>"
      ],
      "text/plain": [
       "<IPython.core.display.Markdown object>"
      ]
     },
     "metadata": {},
     "output_type": "display_data"
    },
    {
     "name": "stdout",
     "output_type": "stream",
     "text": [
      "--------------------------------------------------------------------\n",
      "> Merging 2 nodes into parent node.\n",
      "> Parent node id: 7d495b62-afb0-41bf-880b-6f1d1bb3d3b8.\n",
      "> Parent node text: The claim information:\n",
      "A peptide having an anti-inflammatory activity consisting of the amino aci...\n",
      "\n",
      "> Merging 1 nodes into parent node.\n",
      "> Parent node id: 8035e2e6-ac8e-4af5-9e1e-b87d10f2ffbc.\n",
      "> Parent node text: The claim information:\n",
      "A peptide having an anti-inflammatory activity consisting of the amino aci...\n",
      "\n",
      "> Merging 2 nodes into parent node.\n",
      "> Parent node id: 9d92e684-9c02-4fea-b4ac-620d95473274.\n",
      "> Parent node text: As a result of trying to develop excellent peptides having biologically effective activity, the i...\n",
      "\n",
      "> Merging 1 nodes into parent node.\n",
      "> Parent node id: ad3d1bbd-a4a1-409f-a108-a90f8c6fb59e.\n",
      "> Parent node text: According to one aspect of the present invention, the present invention is a peptide having anti-...\n",
      "\n"
     ]
    },
    {
     "data": {
      "text/markdown": [
       "<b>{'prompt_tokens': 3039, 'completion_tokens': 511, 'total_tokens': 3550}</b>"
      ],
      "text/plain": [
       "<IPython.core.display.Markdown object>"
      ]
     },
     "metadata": {},
     "output_type": "display_data"
    },
    {
     "name": "stdout",
     "output_type": "stream",
     "text": [
      "--------------------------------------------------------------------\n",
      "> Merging 2 nodes into parent node.\n",
      "> Parent node id: 03bba26b-42e0-4964-9dd4-5494cfe8ca21.\n",
      "> Parent node text: The claim information:\n",
      "A peptide having an anti-inflammatory activity consisting of the amino aci...\n",
      "\n",
      "> Merging 1 nodes into parent node.\n",
      "> Parent node id: 1640193f-d491-4580-bf88-58e1413c54d4.\n",
      "> Parent node text: The claim information:\n",
      "A peptide having an anti-inflammatory activity consisting of the amino aci...\n",
      "\n",
      "> Filling in node. Node id: 313bdad0-7db1-4697-906c-07ea7fbf4f10> Node text: LPS (Lipopolysaccharide), a bacterial endotoxin, promotes the production of inflammatory factors ...\n",
      "\n",
      "> Merging 1 nodes into parent node.\n",
      "> Parent node id: 8e0bdc0a-96d5-4df0-9389-f1c9cb1a9b93.\n",
      "> Parent node text: According to one aspect of the present invention, the present invention is a peptide having anti-...\n",
      "\n",
      "> Merging 3 nodes into parent node.\n",
      "> Parent node id: 0a4c96ac-e500-40b8-9dd9-9a488910ea06.\n",
      "> Parent node text: As a result of trying to develop excellent peptides having biologically effective activity, the i...\n",
      "\n"
     ]
    },
    {
     "data": {
      "text/markdown": [
       "<b>{'prompt_tokens': 3041, 'completion_tokens': 522, 'total_tokens': 3563}</b>"
      ],
      "text/plain": [
       "<IPython.core.display.Markdown object>"
      ]
     },
     "metadata": {},
     "output_type": "display_data"
    },
    {
     "name": "stdout",
     "output_type": "stream",
     "text": [
      "--------------------------------------------------------------------\n",
      "> Merging 2 nodes into parent node.\n",
      "> Parent node id: fed02499-9505-4dda-bd87-9efce70fdd7b.\n",
      "> Parent node text: The claim information:\n",
      "A peptide having an anti-inflammatory activity consisting of the amino aci...\n",
      "\n",
      "> Merging 1 nodes into parent node.\n",
      "> Parent node id: 41c8ca40-b187-4de9-98cf-c477e54b1ca8.\n",
      "> Parent node text: The claim information:\n",
      "A peptide having an anti-inflammatory activity consisting of the amino aci...\n",
      "\n",
      "> Merging 1 nodes into parent node.\n",
      "> Parent node id: dd90e441-46a5-4557-9b82-6949529acc21.\n",
      "> Parent node text: According to one aspect of the present invention, the present invention is a peptide having anti-...\n",
      "\n",
      "> Merging 2 nodes into parent node.\n",
      "> Parent node id: 21381d78-b485-42ec-9fe0-d41bd47b8fab.\n",
      "> Parent node text: As a result of trying to develop excellent peptides having biologically effective activity, the i...\n",
      "\n"
     ]
    },
    {
     "data": {
      "text/markdown": [
       "<b>{'prompt_tokens': 3132, 'completion_tokens': 574, 'total_tokens': 3706}</b>"
      ],
      "text/plain": [
       "<IPython.core.display.Markdown object>"
      ]
     },
     "metadata": {},
     "output_type": "display_data"
    },
    {
     "name": "stdout",
     "output_type": "stream",
     "text": [
      "--------------------------------------------------------------------\n",
      "> Merging 2 nodes into parent node.\n",
      "> Parent node id: 457016f4-028d-49e0-b2f2-5ab8fca15759.\n",
      "> Parent node text: The claim information:\n",
      "An amino acid sequence having 85% or more homology with any one of the ami...\n",
      "\n",
      "> Merging 1 nodes into parent node.\n",
      "> Parent node id: fcfbd563-c950-4510-b311-1e9bfc8a5daf.\n",
      "> Parent node text: The claim information:\n",
      "An amino acid sequence having 85% or more homology with any one of the ami...\n",
      "\n",
      "> Merging 2 nodes into parent node.\n",
      "> Parent node id: 91b47c08-10a7-4a31-965a-d3ddd4383209.\n",
      "> Parent node text: The anti-inflammatory active peptide disclosed in the present invention is a peptide having an am...\n",
      "\n"
     ]
    },
    {
     "data": {
      "text/markdown": [
       "<b>{'prompt_tokens': 2832, 'completion_tokens': 476, 'total_tokens': 3308}</b>"
      ],
      "text/plain": [
       "<IPython.core.display.Markdown object>"
      ]
     },
     "metadata": {},
     "output_type": "display_data"
    },
    {
     "name": "stdout",
     "output_type": "stream",
     "text": [
      "--------------------------------------------------------------------\n",
      "> Merging 2 nodes into parent node.\n",
      "> Parent node id: e6813df4-20f4-44f8-9d60-c6b30758b4c0.\n",
      "> Parent node text: The claim information:\n",
      "An amino acid sequence having 85% or more homology with any one of the ami...\n",
      "\n",
      "> Merging 1 nodes into parent node.\n",
      "> Parent node id: 298aca72-91a5-4b58-9b8f-d8732363e59e.\n",
      "> Parent node text: The claim information:\n",
      "An amino acid sequence having 85% or more homology with any one of the ami...\n",
      "\n",
      "> Merging 2 nodes into parent node.\n",
      "> Parent node id: 3c2e065f-1bd3-4010-8862-bca8734d874c.\n",
      "> Parent node text: It is an amphipathic peptide with 14 amino acids containing glutamic acid, an anionic amino acid....\n",
      "\n"
     ]
    },
    {
     "data": {
      "text/markdown": [
       "<b>{'prompt_tokens': 2839, 'completion_tokens': 344, 'total_tokens': 3183}</b>"
      ],
      "text/plain": [
       "<IPython.core.display.Markdown object>"
      ]
     },
     "metadata": {},
     "output_type": "display_data"
    },
    {
     "name": "stdout",
     "output_type": "stream",
     "text": [
      "--------------------------------------------------------------------\n",
      "> Merging 2 nodes into parent node.\n",
      "> Parent node id: fb18d7c0-0807-45e0-89ad-5c6eeec03ea5.\n",
      "> Parent node text: The claim information:\n",
      "An amino acid sequence having 85% or more homology with any one of the ami...\n",
      "\n",
      "> Merging 1 nodes into parent node.\n",
      "> Parent node id: 2ac12ddf-0e0c-4a9e-8ba8-95a4b70c7e25.\n",
      "> Parent node text: The claim information:\n",
      "An amino acid sequence having 85% or more homology with any one of the ami...\n",
      "\n",
      "> Merging 2 nodes into parent node.\n",
      "> Parent node id: 1a5e5011-85d3-4b1c-8ae7-1d1e63276719.\n",
      "> Parent node text: It is an amphipathic peptide with 14 amino acids containing glutamic acid, an anionic amino acid....\n",
      "\n"
     ]
    },
    {
     "data": {
      "text/markdown": [
       "<b>{'prompt_tokens': 2896, 'completion_tokens': 406, 'total_tokens': 3302}</b>"
      ],
      "text/plain": [
       "<IPython.core.display.Markdown object>"
      ]
     },
     "metadata": {},
     "output_type": "display_data"
    },
    {
     "name": "stdout",
     "output_type": "stream",
     "text": [
      "--------------------------------------------------------------------\n",
      "> Merging 2 nodes into parent node.\n",
      "> Parent node id: 14768cf4-e989-4ea5-ad4f-579090421cf8.\n",
      "> Parent node text: The claim information:\n",
      "An amino acid sequence having 85% or more homology with any one of the ami...\n",
      "\n",
      "> Merging 1 nodes into parent node.\n",
      "> Parent node id: 1784a8c2-ba08-4201-b3a2-c0a1c7ef42da.\n",
      "> Parent node text: The claim information:\n",
      "An amino acid sequence having 85% or more homology with any one of the ami...\n",
      "\n",
      "> Merging 3 nodes into parent node.\n",
      "> Parent node id: 9ec69110-d919-4a22-a912-cfd499cef326.\n",
      "> Parent node text: It is an amphipathic peptide with 14 amino acids containing glutamic acid, an anionic amino acid....\n",
      "\n"
     ]
    },
    {
     "data": {
      "text/markdown": [
       "<b>{'prompt_tokens': 2420, 'completion_tokens': 424, 'total_tokens': 2844}</b>"
      ],
      "text/plain": [
       "<IPython.core.display.Markdown object>"
      ]
     },
     "metadata": {},
     "output_type": "display_data"
    },
    {
     "name": "stdout",
     "output_type": "stream",
     "text": [
      "--------------------------------------------------------------------\n",
      "> Merging 2 nodes into parent node.\n",
      "> Parent node id: a7d497cb-f9e7-4657-be80-0a567d560b53.\n",
      "> Parent node text: The claim information:\n",
      "An amino acid sequence having 85% or more homology with any one of the ami...\n",
      "\n",
      "> Merging 1 nodes into parent node.\n",
      "> Parent node id: 2fababfd-b8e0-4592-8d3d-3c6305a42cc0.\n",
      "> Parent node text: The claim information:\n",
      "An amino acid sequence having 85% or more homology with any one of the ami...\n",
      "\n",
      "> Merging 2 nodes into parent node.\n",
      "> Parent node id: efffc8bd-6b18-44b5-8a02-e641dcf42211.\n",
      "> Parent node text: It is an amphipathic peptide with 14 amino acids containing glutamic acid, an anionic amino acid....\n",
      "\n",
      "> Merging 2 nodes into parent node.\n",
      "> Parent node id: 11b37e27-0f6b-41c9-835f-193767bd8eca.\n",
      "> Parent node text: The anti-inflammatory active peptide disclosed in the present invention is a peptide having an am...\n",
      "\n"
     ]
    },
    {
     "data": {
      "text/markdown": [
       "<b>{'prompt_tokens': 2910, 'completion_tokens': 335, 'total_tokens': 3245}</b>"
      ],
      "text/plain": [
       "<IPython.core.display.Markdown object>"
      ]
     },
     "metadata": {},
     "output_type": "display_data"
    },
    {
     "name": "stdout",
     "output_type": "stream",
     "text": [
      "--------------------------------------------------------------------\n",
      "> Merging 2 nodes into parent node.\n",
      "> Parent node id: 640f3385-257d-47f2-8f33-da65590844bf.\n",
      "> Parent node text: The claim information:\n",
      "An amino acid sequence having 85% or more homology with any one of the ami...\n",
      "\n",
      "> Merging 1 nodes into parent node.\n",
      "> Parent node id: ca3dc89f-b542-4bae-b780-339a9b51b670.\n",
      "> Parent node text: The claim information:\n",
      "An amino acid sequence having 85% or more homology with any one of the ami...\n",
      "\n",
      "> Merging 2 nodes into parent node.\n",
      "> Parent node id: a20523c8-11b7-4d2a-a668-7f8ab6b946a9.\n",
      "> Parent node text: It is an amphipathic peptide with 14 amino acids containing glutamic acid, an anionic amino acid....\n",
      "\n"
     ]
    },
    {
     "data": {
      "text/markdown": [
       "<b>{'prompt_tokens': 2908, 'completion_tokens': 369, 'total_tokens': 3277}</b>"
      ],
      "text/plain": [
       "<IPython.core.display.Markdown object>"
      ]
     },
     "metadata": {},
     "output_type": "display_data"
    },
    {
     "name": "stdout",
     "output_type": "stream",
     "text": [
      "--------------------------------------------------------------------\n",
      "> Merging 2 nodes into parent node.\n",
      "> Parent node id: 189c543c-3b7c-43af-9858-da22976b0902.\n",
      "> Parent node text: The claim information:\n",
      "An amino acid sequence having 85% or more homology with any one of the ami...\n",
      "\n",
      "> Merging 1 nodes into parent node.\n",
      "> Parent node id: a7aa8197-d19e-4385-8d7a-df09e4f6ed58.\n",
      "> Parent node text: The claim information:\n",
      "An amino acid sequence having 85% or more homology with any one of the ami...\n",
      "\n",
      "> Merging 2 nodes into parent node.\n",
      "> Parent node id: 204957ce-b831-41c2-8536-38d8ca8c5e8b.\n",
      "> Parent node text: It is an amphipathic peptide with 14 amino acids containing glutamic acid, an anionic amino acid....\n",
      "\n"
     ]
    },
    {
     "data": {
      "text/markdown": [
       "<b>{'prompt_tokens': 2672, 'completion_tokens': 510, 'total_tokens': 3182}</b>"
      ],
      "text/plain": [
       "<IPython.core.display.Markdown object>"
      ]
     },
     "metadata": {},
     "output_type": "display_data"
    },
    {
     "name": "stdout",
     "output_type": "stream",
     "text": [
      "--------------------------------------------------------------------\n",
      "> Merging 2 nodes into parent node.\n",
      "> Parent node id: b2031b31-1b6a-4fc2-ba51-e25122f7c0c1.\n",
      "> Parent node text: The claim information:\n",
      "An amino acid sequence having 85% or more homology with any one of the ami...\n",
      "\n",
      "> Merging 1 nodes into parent node.\n",
      "> Parent node id: 2fb3e800-6bc8-4626-b3ba-340c0022f658.\n",
      "> Parent node text: The claim information:\n",
      "An amino acid sequence having 85% or more homology with any one of the ami...\n",
      "\n",
      "> Merging 2 nodes into parent node.\n",
      "> Parent node id: 1b00df03-7d1e-4a43-82f8-d081f39d4dd1.\n",
      "> Parent node text: It is an amphipathic peptide with 14 amino acids containing glutamic acid, an anionic amino acid....\n",
      "\n",
      "> Merging 2 nodes into parent node.\n",
      "> Parent node id: ce169cbb-b4b3-44be-9e42-9c0793bcd565.\n",
      "> Parent node text: The anti-inflammatory active peptide disclosed in the present invention is a peptide having an am...\n",
      "\n"
     ]
    },
    {
     "data": {
      "text/markdown": [
       "<b>{'prompt_tokens': 2882, 'completion_tokens': 407, 'total_tokens': 3289}</b>"
      ],
      "text/plain": [
       "<IPython.core.display.Markdown object>"
      ]
     },
     "metadata": {},
     "output_type": "display_data"
    },
    {
     "name": "stdout",
     "output_type": "stream",
     "text": [
      "--------------------------------------------------------------------\n",
      "> Merging 2 nodes into parent node.\n",
      "> Parent node id: e19daaf4-ebcb-48b1-8f2e-95e9cd331217.\n",
      "> Parent node text: The claim information:\n",
      "An amino acid sequence having 85% or more homology with any one of the ami...\n",
      "\n",
      "> Merging 1 nodes into parent node.\n",
      "> Parent node id: 96c25242-ef0e-4b0b-9cbc-bc42b3def51d.\n",
      "> Parent node text: The claim information:\n",
      "An amino acid sequence having 85% or more homology with any one of the ami...\n",
      "\n",
      "> Merging 2 nodes into parent node.\n",
      "> Parent node id: f59e9e6f-0f86-4a6b-92a4-300a1149603e.\n",
      "> Parent node text: It is an amphipathic peptide with 14 amino acids containing glutamic acid, an anionic amino acid....\n",
      "\n"
     ]
    },
    {
     "data": {
      "text/markdown": [
       "<b>{'prompt_tokens': 2825, 'completion_tokens': 549, 'total_tokens': 3374}</b>"
      ],
      "text/plain": [
       "<IPython.core.display.Markdown object>"
      ]
     },
     "metadata": {},
     "output_type": "display_data"
    },
    {
     "name": "stdout",
     "output_type": "stream",
     "text": [
      "--------------------------------------------------------------------\n",
      "> Merging 2 nodes into parent node.\n",
      "> Parent node id: 4d966f8a-017c-4c72-86ec-44f5ae7de98a.\n",
      "> Parent node text: The claim information:\n",
      "An amino acid sequence having 85% or more homology with any one of the ami...\n",
      "\n",
      "> Merging 1 nodes into parent node.\n",
      "> Parent node id: 1d34df20-48c2-439b-8669-26ffa626162e.\n",
      "> Parent node text: The claim information:\n",
      "An amino acid sequence having 85% or more homology with any one of the ami...\n",
      "\n",
      "> Merging 2 nodes into parent node.\n",
      "> Parent node id: acdde934-f76c-4279-a311-6844c6cefb79.\n",
      "> Parent node text: The anti-inflammatory active peptide disclosed in the present invention is a peptide having an am...\n",
      "\n",
      "> Merging 2 nodes into parent node.\n",
      "> Parent node id: 0d82ed0b-828a-4306-bab9-cc3475d933a3.\n",
      "> Parent node text: It is an amphipathic peptide with 14 amino acids containing glutamic acid, an anionic amino acid....\n",
      "\n"
     ]
    },
    {
     "data": {
      "text/markdown": [
       "<b>{'prompt_tokens': 2883, 'completion_tokens': 488, 'total_tokens': 3371}</b>"
      ],
      "text/plain": [
       "<IPython.core.display.Markdown object>"
      ]
     },
     "metadata": {},
     "output_type": "display_data"
    },
    {
     "name": "stdout",
     "output_type": "stream",
     "text": [
      "--------------------------------------------------------------------\n",
      "> Merging 2 nodes into parent node.\n",
      "> Parent node id: 54900edb-3666-4236-9a1c-ea6df8d91533.\n",
      "> Parent node text: The claim information:\n",
      "A health functional food composition for preventing or ameliorating an inf...\n",
      "\n",
      "> Merging 2 nodes into parent node.\n",
      "> Parent node id: ea0d5fe0-7283-4ee6-a78e-34c3df393ea7.\n",
      "> Parent node text: In order to achieve the object of the present invention, the present invention provides a health ...\n",
      "\n",
      "> Merging 2 nodes into parent node.\n",
      "> Parent node id: 51959254-28a3-47a0-b14b-5ad0ada9a1fb.\n",
      "> Parent node text: The residue was dissolved in 0.02N hydrochloric acid and the amino acid composition was determine...\n",
      "\n"
     ]
    },
    {
     "data": {
      "text/markdown": [
       "<b>{'prompt_tokens': 2890, 'completion_tokens': 268, 'total_tokens': 3158}</b>"
      ],
      "text/plain": [
       "<IPython.core.display.Markdown object>"
      ]
     },
     "metadata": {},
     "output_type": "display_data"
    },
    {
     "name": "stdout",
     "output_type": "stream",
     "text": [
      "--------------------------------------------------------------------\n",
      "> Merging 2 nodes into parent node.\n",
      "> Parent node id: e1622bd3-15a1-4279-be22-6411e2f0f7fc.\n",
      "> Parent node text: The claim information:\n",
      "Peptide represented by the amino acid sequence of any one of SEQ ID NOs: 4...\n",
      "\n",
      "> Merging 2 nodes into parent node.\n",
      "> Parent node id: f6c347cc-8042-4460-bf1d-93a9d729b4bd.\n",
      "> Parent node text: Decreased. Through this, it was confirmed that the peptide of SEQ_ID_NO_1 to 8 is effective as an...\n",
      "\n",
      "> Merging 2 nodes into parent node.\n",
      "> Parent node id: 28422018-018a-468f-b311-983ff5aa26bf.\n",
      "> Parent node text: 1 is treated with the peptides of SEQ ID NOS: 1 to 8 in RAW 264.7 cells, and induces inflammation...\n",
      "\n"
     ]
    },
    {
     "data": {
      "text/markdown": [
       "<b>{'prompt_tokens': 3057, 'completion_tokens': 319, 'total_tokens': 3376}</b>"
      ],
      "text/plain": [
       "<IPython.core.display.Markdown object>"
      ]
     },
     "metadata": {},
     "output_type": "display_data"
    },
    {
     "name": "stdout",
     "output_type": "stream",
     "text": [
      "--------------------------------------------------------------------\n",
      "> Merging 2 nodes into parent node.\n",
      "> Parent node id: 27b3619c-3318-4893-aef5-3b39904d1be5.\n",
      "> Parent node text: The claim information:\n",
      "Peptide represented by the amino acid sequence of any one of SEQ ID NOs: 4...\n",
      "\n",
      "> Merging 2 nodes into parent node.\n",
      "> Parent node id: 3c1fd255-d3db-4070-85fc-15e50ec76d25.\n",
      "> Parent node text: 1 is treated with the peptides of SEQ ID NOS: 1 to 8 in RAW 264.7 cells, and induces inflammation...\n",
      "\n",
      "> Merging 2 nodes into parent node.\n",
      "> Parent node id: bbc79f18-ab28-4c31-ba20-f0809f321724.\n",
      "> Parent node text: Decreased. Through this, it was confirmed that the peptide of SEQ_ID_NO_1 to 8 is effective as an...\n",
      "\n"
     ]
    },
    {
     "data": {
      "text/markdown": [
       "<b>{'prompt_tokens': 3057, 'completion_tokens': 256, 'total_tokens': 3313}</b>"
      ],
      "text/plain": [
       "<IPython.core.display.Markdown object>"
      ]
     },
     "metadata": {},
     "output_type": "display_data"
    },
    {
     "name": "stdout",
     "output_type": "stream",
     "text": [
      "--------------------------------------------------------------------\n",
      "> Filling in node. Node id: 487f9a41-9c53-40a8-926a-bc89bf2d3201> Node text: The biomaterial according to claim 7, wherein the peptide has a dual function having an ability t...\n",
      "\n",
      "> Merging 3 nodes into parent node.\n",
      "> Parent node id: c10c0a81-62cb-432a-a503-5f8722e59b2c.\n",
      "> Parent node text: The claim information:\n",
      "Peptide represented by the amino acid sequence of any one of SEQ ID NOs: 4...\n",
      "\n",
      "> Merging 2 nodes into parent node.\n",
      "> Parent node id: 19819f14-85ae-4825-8a22-86920cbeea6c.\n",
      "> Parent node text: Decreased. Through this, it was confirmed that the peptide of SEQ_ID_NO_1 to 8 is effective as an...\n",
      "\n",
      "> Merging 2 nodes into parent node.\n",
      "> Parent node id: d161d37d-479b-4672-a139-6a8b54dfada0.\n",
      "> Parent node text: 1 is treated with the peptides of SEQ ID NOS: 1 to 8 in RAW 264.7 cells, and induces inflammation...\n",
      "\n"
     ]
    },
    {
     "data": {
      "text/markdown": [
       "<b>{'prompt_tokens': 3059, 'completion_tokens': 194, 'total_tokens': 3253}</b>"
      ],
      "text/plain": [
       "<IPython.core.display.Markdown object>"
      ]
     },
     "metadata": {},
     "output_type": "display_data"
    },
    {
     "name": "stdout",
     "output_type": "stream",
     "text": [
      "--------------------------------------------------------------------\n",
      "> Merging 2 nodes into parent node.\n",
      "> Parent node id: 07298b8d-f301-4a93-8126-fad933996d32.\n",
      "> Parent node text: The claim information:\n",
      "Peptide represented by the amino acid sequence of any one of SEQ ID NOs: 4...\n",
      "\n",
      "> Merging 2 nodes into parent node.\n",
      "> Parent node id: 7d38d1e3-e658-4404-9e25-4a546c8d1ed6.\n",
      "> Parent node text: 1 is treated with the peptides of SEQ ID NOS: 1 to 8 in RAW 264.7 cells, and induces inflammation...\n",
      "\n",
      "> Merging 2 nodes into parent node.\n",
      "> Parent node id: b11fd86f-2d53-4171-9b28-bbc8bc08af88.\n",
      "> Parent node text: Decreased. Through this, it was confirmed that the peptide of SEQ_ID_NO_1 to 8 is effective as an...\n",
      "\n",
      "> Merging 2 nodes into parent node.\n",
      "> Parent node id: b19ea775-b90c-4243-9f86-f244438a7630.\n",
      "> Parent node text: Purified peptides were checked for molecular weight using MALDI-TOF analysis. SEQ_ID_NO_1: GKCSTR...\n",
      "\n"
     ]
    },
    {
     "data": {
      "text/markdown": [
       "<b>{'prompt_tokens': 3011, 'completion_tokens': 244, 'total_tokens': 3255}</b>"
      ],
      "text/plain": [
       "<IPython.core.display.Markdown object>"
      ]
     },
     "metadata": {},
     "output_type": "display_data"
    },
    {
     "name": "stdout",
     "output_type": "stream",
     "text": [
      "--------------------------------------------------------------------\n",
      "> Merging 2 nodes into parent node.\n",
      "> Parent node id: 7f593ee0-6847-4756-8e24-f530c5a01f28.\n",
      "> Parent node text: The claim information:\n",
      "Peptide represented by the amino acid sequence of any one of SEQ ID NOs: 4...\n",
      "\n",
      "> Merging 2 nodes into parent node.\n",
      "> Parent node id: 9358bfb2-3838-40f5-b990-60d26a8609a6.\n",
      "> Parent node text: Decreased. Through this, it was confirmed that the peptide of SEQ_ID_NO_1 to 8 is effective as an...\n",
      "\n",
      "> Merging 2 nodes into parent node.\n",
      "> Parent node id: d8011805-2fcf-4297-b494-1639ce3dd771.\n",
      "> Parent node text: 1 is treated with the peptides of SEQ ID NOS: 1 to 8 in RAW 264.7 cells, and induces inflammation...\n",
      "\n"
     ]
    },
    {
     "data": {
      "text/markdown": [
       "<b>{'prompt_tokens': 3057, 'completion_tokens': 388, 'total_tokens': 3445}</b>"
      ],
      "text/plain": [
       "<IPython.core.display.Markdown object>"
      ]
     },
     "metadata": {},
     "output_type": "display_data"
    },
    {
     "name": "stdout",
     "output_type": "stream",
     "text": [
      "--------------------------------------------------------------------\n",
      "> Merging 2 nodes into parent node.\n",
      "> Parent node id: 808b10fe-4331-40c3-be1a-9ef8e5c8621e.\n",
      "> Parent node text: The claim information:\n",
      "Peptide represented by the amino acid sequence of any one of SEQ ID NOs: 4...\n",
      "\n",
      "> Merging 2 nodes into parent node.\n",
      "> Parent node id: e6a3e4f5-6efd-4702-a0aa-957ae9edea23.\n",
      "> Parent node text: 1 is treated with the peptides of SEQ ID NOS: 1 to 8 in RAW 264.7 cells, and induces inflammation...\n",
      "\n",
      "> Merging 2 nodes into parent node.\n",
      "> Parent node id: e4efb8f9-94eb-4c68-93db-7770afad9fe1.\n",
      "> Parent node text: Decreased. Through this, it was confirmed that the peptide of SEQ_ID_NO_1 to 8 is effective as an...\n",
      "\n"
     ]
    },
    {
     "data": {
      "text/markdown": [
       "<b>{'prompt_tokens': 3059, 'completion_tokens': 362, 'total_tokens': 3421}</b>"
      ],
      "text/plain": [
       "<IPython.core.display.Markdown object>"
      ]
     },
     "metadata": {},
     "output_type": "display_data"
    },
    {
     "name": "stdout",
     "output_type": "stream",
     "text": [
      "--------------------------------------------------------------------\n",
      "> Merging 2 nodes into parent node.\n",
      "> Parent node id: 29d5a7c1-b83f-4319-812f-e889e0f6fc73.\n",
      "> Parent node text: The claim information:\n",
      "Peptide represented by the amino acid sequence of any one of SEQ ID NOs: 4...\n",
      "\n",
      "> Merging 2 nodes into parent node.\n",
      "> Parent node id: b5b87c47-9427-443a-bb92-b69eaff1ff09.\n",
      "> Parent node text: Decreased. Through this, it was confirmed that the peptide of SEQ_ID_NO_1 to 8 is effective as an...\n",
      "\n",
      "> Merging 2 nodes into parent node.\n",
      "> Parent node id: 05c80933-2648-420d-8ec9-8684fc4cfb64.\n",
      "> Parent node text: 1 is treated with the peptides of SEQ ID NOS: 1 to 8 in RAW 264.7 cells, and induces inflammation...\n",
      "\n"
     ]
    },
    {
     "data": {
      "text/markdown": [
       "<b>{'prompt_tokens': 3057, 'completion_tokens': 292, 'total_tokens': 3349}</b>"
      ],
      "text/plain": [
       "<IPython.core.display.Markdown object>"
      ]
     },
     "metadata": {},
     "output_type": "display_data"
    },
    {
     "name": "stdout",
     "output_type": "stream",
     "text": [
      "--------------------------------------------------------------------\n",
      "> Merging 2 nodes into parent node.\n",
      "> Parent node id: 790c0b71-dad6-4bba-acf1-6c229976f2ff.\n",
      "> Parent node text: The claim information:\n",
      "Peptide represented by the amino acid sequence of any one of SEQ ID NOs: 4...\n",
      "\n",
      "> Merging 2 nodes into parent node.\n",
      "> Parent node id: 573a44b8-6d2c-442e-a130-7e45a4fd6712.\n",
      "> Parent node text: Decreased. Through this, it was confirmed that the peptide of SEQ_ID_NO_1 to 8 is effective as an...\n",
      "\n",
      "> Merging 2 nodes into parent node.\n",
      "> Parent node id: 1cfffd2b-941f-40dc-87a2-a255bb00e217.\n",
      "> Parent node text: 1 is treated with the peptides of SEQ ID NOS: 1 to 8 in RAW 264.7 cells, and induces inflammation...\n",
      "\n"
     ]
    },
    {
     "data": {
      "text/markdown": [
       "<b>{'prompt_tokens': 3057, 'completion_tokens': 427, 'total_tokens': 3484}</b>"
      ],
      "text/plain": [
       "<IPython.core.display.Markdown object>"
      ]
     },
     "metadata": {},
     "output_type": "display_data"
    },
    {
     "name": "stdout",
     "output_type": "stream",
     "text": [
      "--------------------------------------------------------------------\n",
      "> Merging 2 nodes into parent node.\n",
      "> Parent node id: 7f792571-a0a3-4912-b280-1cfb7679826d.\n",
      "> Parent node text: The method of claim 3, The aliphatic hydrocarbon is a compound containing a C 3 ~ C 30 fatty acid...\n",
      "\n",
      "> Merging 2 nodes into parent node.\n",
      "> Parent node id: 8abac09e-3662-4ec1-b5a0-623b96ce6358.\n",
      "> Parent node text: For example, such polypeptides are commercially available solid phase techniques, such as the Mer...\n",
      "\n",
      "> Merging 1 nodes into parent node.\n",
      "> Parent node id: 830ee486-533a-4491-880b-62e91a8bb4ef.\n",
      "> Parent node text: As, preferably, it is good to administer at 0.001 to 100 mg/kg. Administration may be administere...\n",
      "\n"
     ]
    },
    {
     "data": {
      "text/markdown": [
       "<b>{'prompt_tokens': 2897, 'completion_tokens': 383, 'total_tokens': 3280}</b>"
      ],
      "text/plain": [
       "<IPython.core.display.Markdown object>"
      ]
     },
     "metadata": {},
     "output_type": "display_data"
    },
    {
     "name": "stdout",
     "output_type": "stream",
     "text": [
      "--------------------------------------------------------------------\n",
      "> Merging 1 nodes into parent node.\n",
      "> Parent node id: efa70571-3a9a-4bdb-a776-8d4b15bb1a16.\n",
      "> Parent node text: As, preferably, it is good to administer at 0.001 to 100 mg/kg. Administration may be administere...\n",
      "\n"
     ]
    },
    {
     "data": {
      "text/markdown": [
       "<b>{'prompt_tokens': 2772, 'completion_tokens': 198, 'total_tokens': 2970}</b>"
      ],
      "text/plain": [
       "<IPython.core.display.Markdown object>"
      ]
     },
     "metadata": {},
     "output_type": "display_data"
    },
    {
     "name": "stdout",
     "output_type": "stream",
     "text": [
      "--------------------------------------------------------------------\n"
     ]
    },
    {
     "data": {
      "text/markdown": [
       "<b>{'prompt_tokens': 2725, 'completion_tokens': 199, 'total_tokens': 2924}</b>"
      ],
      "text/plain": [
       "<IPython.core.display.Markdown object>"
      ]
     },
     "metadata": {},
     "output_type": "display_data"
    },
    {
     "name": "stdout",
     "output_type": "stream",
     "text": [
      "--------------------------------------------------------------------\n"
     ]
    },
    {
     "data": {
      "text/markdown": [
       "<b>{'prompt_tokens': 2919, 'completion_tokens': 351, 'total_tokens': 3270}</b>"
      ],
      "text/plain": [
       "<IPython.core.display.Markdown object>"
      ]
     },
     "metadata": {},
     "output_type": "display_data"
    },
    {
     "name": "stdout",
     "output_type": "stream",
     "text": [
      "--------------------------------------------------------------------\n",
      "> Merging 2 nodes into parent node.\n",
      "> Parent node id: 30d67bfb-8a07-4baf-8f5d-4d415bed18f7.\n",
      "> Parent node text: For example, such polypeptides are commercially available solid phase techniques, such as the Mer...\n",
      "\n"
     ]
    },
    {
     "data": {
      "text/markdown": [
       "<b>{'prompt_tokens': 3192, 'completion_tokens': 191, 'total_tokens': 3383}</b>"
      ],
      "text/plain": [
       "<IPython.core.display.Markdown object>"
      ]
     },
     "metadata": {},
     "output_type": "display_data"
    },
    {
     "name": "stdout",
     "output_type": "stream",
     "text": [
      "--------------------------------------------------------------------\n",
      "> Merging 2 nodes into parent node.\n",
      "> Parent node id: d3e70adb-d693-4b71-9de6-c94a57f46df7.\n",
      "> Parent node text: For example, such polypeptides are commercially available solid phase techniques, such as the Mer...\n",
      "\n"
     ]
    },
    {
     "data": {
      "text/markdown": [
       "<b>{'prompt_tokens': 3235, 'completion_tokens': 338, 'total_tokens': 3573}</b>"
      ],
      "text/plain": [
       "<IPython.core.display.Markdown object>"
      ]
     },
     "metadata": {},
     "output_type": "display_data"
    },
    {
     "name": "stdout",
     "output_type": "stream",
     "text": [
      "--------------------------------------------------------------------\n",
      "> Merging 2 nodes into parent node.\n",
      "> Parent node id: 22483721-49ee-442c-a323-76e23b2b33dd.\n",
      "> Parent node text: For example, such polypeptides are commercially available solid phase techniques, such as the Mer...\n",
      "\n"
     ]
    },
    {
     "data": {
      "text/markdown": [
       "<b>{'prompt_tokens': 3281, 'completion_tokens': 306, 'total_tokens': 3587}</b>"
      ],
      "text/plain": [
       "<IPython.core.display.Markdown object>"
      ]
     },
     "metadata": {},
     "output_type": "display_data"
    },
    {
     "name": "stdout",
     "output_type": "stream",
     "text": [
      "--------------------------------------------------------------------\n"
     ]
    },
    {
     "data": {
      "text/markdown": [
       "<b>{'prompt_tokens': 3150, 'completion_tokens': 215, 'total_tokens': 3365}</b>"
      ],
      "text/plain": [
       "<IPython.core.display.Markdown object>"
      ]
     },
     "metadata": {},
     "output_type": "display_data"
    },
    {
     "name": "stdout",
     "output_type": "stream",
     "text": [
      "--------------------------------------------------------------------\n"
     ]
    },
    {
     "data": {
      "text/markdown": [
       "<b>{'prompt_tokens': 2919, 'completion_tokens': 200, 'total_tokens': 3119}</b>"
      ],
      "text/plain": [
       "<IPython.core.display.Markdown object>"
      ]
     },
     "metadata": {},
     "output_type": "display_data"
    },
    {
     "name": "stdout",
     "output_type": "stream",
     "text": [
      "--------------------------------------------------------------------\n",
      "> Merging 2 nodes into parent node.\n",
      "> Parent node id: cd5f1a80-d6b0-4c99-bf50-3f76add939c0.\n",
      "> Parent node text: No: 575702). The experimental group was further administered with each of the peptides selected i...\n",
      "\n",
      "> Merging 1 nodes into parent node.\n",
      "> Parent node id: 3428b9c3-10a3-489f-8e95-e710ef65cf48.\n",
      "> Parent node text: As, preferably, it is good to administer at 0.001 to 100 mg/kg. Administration may be administere...\n",
      "\n"
     ]
    },
    {
     "data": {
      "text/markdown": [
       "<b>{'prompt_tokens': 2875, 'completion_tokens': 528, 'total_tokens': 3403}</b>"
      ],
      "text/plain": [
       "<IPython.core.display.Markdown object>"
      ]
     },
     "metadata": {},
     "output_type": "display_data"
    },
    {
     "name": "stdout",
     "output_type": "stream",
     "text": [
      "--------------------------------------------------------------------\n",
      "> Merging 1 nodes into parent node.\n",
      "> Parent node id: e92d2c64-7fac-404c-a55b-f8bfd528937a.\n",
      "> Parent node text: 8. The method of claim 7, The periplanetacin-5 suppresses the expression of inflammatory cytokine...\n",
      "\n",
      "> Merging 2 nodes into parent node.\n",
      "> Parent node id: 9aef1f3c-d0fb-46d1-84dd-abb89ef1f72b.\n",
      "> Parent node text: It is known to cause rhinitis, atopic dermatitis, etc. Shigella is a representative sanitary pest...\n",
      "\n"
     ]
    },
    {
     "data": {
      "text/markdown": [
       "<b>{'prompt_tokens': 3036, 'completion_tokens': 412, 'total_tokens': 3448}</b>"
      ],
      "text/plain": [
       "<IPython.core.display.Markdown object>"
      ]
     },
     "metadata": {},
     "output_type": "display_data"
    },
    {
     "name": "stdout",
     "output_type": "stream",
     "text": [
      "--------------------------------------------------------------------\n",
      "> Merging 2 nodes into parent node.\n",
      "> Parent node id: 20f172e3-d547-48d7-a3df-23a3e677d63c.\n",
      "> Parent node text: The claim information:\n",
      "A peptide comprising the sequence of Formula 1 or 2: [General formula 1] A...\n",
      "\n"
     ]
    },
    {
     "data": {
      "text/markdown": [
       "<b>{'prompt_tokens': 2915, 'completion_tokens': 525, 'total_tokens': 3440}</b>"
      ],
      "text/plain": [
       "<IPython.core.display.Markdown object>"
      ]
     },
     "metadata": {},
     "output_type": "display_data"
    },
    {
     "name": "stdout",
     "output_type": "stream",
     "text": [
      "--------------------------------------------------------------------\n",
      "> Merging 2 nodes into parent node.\n",
      "> Parent node id: 4fa2e0a2-ad77-4b57-976b-02555b017005.\n",
      "> Parent node text: The claim information:\n",
      "A peptide comprising the sequence of Formula 1 or 2: [General formula 1] A...\n",
      "\n",
      "> Merging 2 nodes into parent node.\n",
      "> Parent node id: 0392c6ec-199e-434f-8185-6378bbde176f.\n",
      "> Parent node text: Another object of the present invention is to provide a polynucleotide encoding the peptide and a...\n",
      "\n"
     ]
    },
    {
     "data": {
      "text/markdown": [
       "<b>{'prompt_tokens': 2953, 'completion_tokens': 159, 'total_tokens': 3112}</b>"
      ],
      "text/plain": [
       "<IPython.core.display.Markdown object>"
      ]
     },
     "metadata": {},
     "output_type": "display_data"
    },
    {
     "name": "stdout",
     "output_type": "stream",
     "text": [
      "--------------------------------------------------------------------\n",
      "> Merging 2 nodes into parent node.\n",
      "> Parent node id: 0ffed97f-56d9-4ce4-ac35-781a52855088.\n",
      "> Parent node text: The claim information:\n",
      "A peptide comprising the sequence of Formula 1 or 2: [General formula 1] A...\n",
      "\n"
     ]
    },
    {
     "data": {
      "text/markdown": [
       "<b>{'prompt_tokens': 3098, 'completion_tokens': 347, 'total_tokens': 3445}</b>"
      ],
      "text/plain": [
       "<IPython.core.display.Markdown object>"
      ]
     },
     "metadata": {},
     "output_type": "display_data"
    },
    {
     "name": "stdout",
     "output_type": "stream",
     "text": [
      "--------------------------------------------------------------------\n",
      "> Merging 2 nodes into parent node.\n",
      "> Parent node id: 30b227d6-015e-4441-b252-8482b31b0e05.\n",
      "> Parent node text: The claim information:\n",
      "A peptide comprising the sequence of Formula 1 or 2: [General formula 1] A...\n",
      "\n"
     ]
    },
    {
     "data": {
      "text/markdown": [
       "<b>{'prompt_tokens': 3078, 'completion_tokens': 514, 'total_tokens': 3592}</b>"
      ],
      "text/plain": [
       "<IPython.core.display.Markdown object>"
      ]
     },
     "metadata": {},
     "output_type": "display_data"
    },
    {
     "name": "stdout",
     "output_type": "stream",
     "text": [
      "--------------------------------------------------------------------\n",
      "> Merging 2 nodes into parent node.\n",
      "> Parent node id: fa9f9b46-6849-4d9d-88d0-603fec554cfd.\n",
      "> Parent node text: The claim information:\n",
      "A peptide comprising the sequence of Formula 1 or 2: [General formula 1] A...\n",
      "\n",
      "> Merging 2 nodes into parent node.\n",
      "> Parent node id: 0fc1f827-e524-465b-be99-fce34f322d3c.\n",
      "> Parent node text: In any one of the above embodiments, in Formula 1, X1 may be Ser, X2 may be Ile, X3 may be Lys, X...\n",
      "\n"
     ]
    },
    {
     "data": {
      "text/markdown": [
       "<b>{'prompt_tokens': 2941, 'completion_tokens': 235, 'total_tokens': 3176}</b>"
      ],
      "text/plain": [
       "<IPython.core.display.Markdown object>"
      ]
     },
     "metadata": {},
     "output_type": "display_data"
    },
    {
     "name": "stdout",
     "output_type": "stream",
     "text": [
      "--------------------------------------------------------------------\n",
      "> Merging 2 nodes into parent node.\n",
      "> Parent node id: f81d6149-9a95-47b0-9c79-1eb6585530c9.\n",
      "> Parent node text: <400> 6\n",
      "Gly Cys Val Ser Val Leu Arg Cys Gly Glu Ile Val\n",
      "  1 5 10\n",
      "\n",
      "\n",
      "<210> 7\n",
      "<211> 12\n",
      "<212> PRT\n",
      "<21...\n",
      "\n",
      "> Merging 1 nodes into parent node.\n",
      "> Parent node id: 36185fed-a699-4313-baed-9996457201da.\n",
      "> Parent node text: <210> 14\n",
      "<211> 9\n",
      "<212> PRT\n",
      "<213> Artificial Sequence\n",
      "\n",
      "<220>\n",
      "<223> peptide-A914\n",
      "\n",
      "\n",
      "<400> 14\n",
      "Gly Cys...\n",
      "\n",
      "> Merging 2 nodes into parent node.\n",
      "> Parent node id: 15c9621c-e7e6-47f5-8972-981f99f41657.\n",
      "> Parent node text: do. That is, the substantial scope of the present invention is defined by the appended claims and...\n",
      "\n",
      "> Merging 2 nodes into parent node.\n",
      "> Parent node id: e924b848-2314-4595-8e33-6dab0b2f4a5c.\n",
      "> Parent node text: <400> 6\n",
      "Gly Cys Val Ser Val Leu Arg Cys Gly Glu Ile Val\n",
      "  1 5 10\n",
      "\n",
      "\n",
      "<210> 7\n",
      "<211> 12\n",
      "<212> PRT\n",
      "<21...\n",
      "\n"
     ]
    },
    {
     "data": {
      "text/markdown": [
       "<b>{'prompt_tokens': 3268, 'completion_tokens': 178, 'total_tokens': 3446}</b>"
      ],
      "text/plain": [
       "<IPython.core.display.Markdown object>"
      ]
     },
     "metadata": {},
     "output_type": "display_data"
    },
    {
     "name": "stdout",
     "output_type": "stream",
     "text": [
      "--------------------------------------------------------------------\n",
      "> Merging 1 nodes into parent node.\n",
      "> Parent node id: 0fcab88c-f001-46e1-87fa-af16437ec0df.\n",
      "> Parent node text: <210> 14\n",
      "<211> 9\n",
      "<212> PRT\n",
      "<213> Artificial Sequence\n",
      "\n",
      "<220>\n",
      "<223> peptide-A914\n",
      "\n",
      "\n",
      "<400> 14\n",
      "Gly Cys...\n",
      "\n",
      "> Merging 2 nodes into parent node.\n",
      "> Parent node id: efdaf62c-92d2-4793-b47a-1a4ead9e3ec7.\n",
      "> Parent node text: do. That is, the substantial scope of the present invention is defined by the appended claims and...\n",
      "\n"
     ]
    },
    {
     "data": {
      "text/markdown": [
       "<b>{'prompt_tokens': 3245, 'completion_tokens': 266, 'total_tokens': 3511}</b>"
      ],
      "text/plain": [
       "<IPython.core.display.Markdown object>"
      ]
     },
     "metadata": {},
     "output_type": "display_data"
    },
    {
     "name": "stdout",
     "output_type": "stream",
     "text": [
      "--------------------------------------------------------------------\n",
      "> Merging 1 nodes into parent node.\n",
      "> Parent node id: 8ca95d40-3ad4-462e-b1e5-d846ae6d4960.\n",
      "> Parent node text: <210> 14\n",
      "<211> 9\n",
      "<212> PRT\n",
      "<213> Artificial Sequence\n",
      "\n",
      "<220>\n",
      "<223> peptide-A914\n",
      "\n",
      "\n",
      "<400> 14\n",
      "Gly Cys...\n",
      "\n",
      "> Merging 2 nodes into parent node.\n",
      "> Parent node id: 320583ac-d1c1-4a58-92e6-c1f1cc710700.\n",
      "> Parent node text: do. That is, the substantial scope of the present invention is defined by the appended claims and...\n",
      "\n"
     ]
    },
    {
     "data": {
      "text/markdown": [
       "<b>{'prompt_tokens': 3141, 'completion_tokens': 505, 'total_tokens': 3646}</b>"
      ],
      "text/plain": [
       "<IPython.core.display.Markdown object>"
      ]
     },
     "metadata": {},
     "output_type": "display_data"
    },
    {
     "name": "stdout",
     "output_type": "stream",
     "text": [
      "--------------------------------------------------------------------\n",
      "> Merging 1 nodes into parent node.\n",
      "> Parent node id: 4dccf66b-a0e8-47fc-95bd-9a4f491bed6b.\n",
      "> Parent node text: <210> 14\n",
      "<211> 9\n",
      "<212> PRT\n",
      "<213> Artificial Sequence\n",
      "\n",
      "<220>\n",
      "<223> peptide-A914\n",
      "\n",
      "\n",
      "<400> 14\n",
      "Gly Cys...\n",
      "\n",
      "> Merging 2 nodes into parent node.\n",
      "> Parent node id: 4ff24a18-800d-42d1-8ddc-da7fbe9a8a5c.\n",
      "> Parent node text: do. That is, the substantial scope of the present invention is defined by the appended claims and...\n",
      "\n"
     ]
    },
    {
     "data": {
      "text/markdown": [
       "<b>{'prompt_tokens': 3141, 'completion_tokens': 209, 'total_tokens': 3350}</b>"
      ],
      "text/plain": [
       "<IPython.core.display.Markdown object>"
      ]
     },
     "metadata": {},
     "output_type": "display_data"
    },
    {
     "name": "stdout",
     "output_type": "stream",
     "text": [
      "--------------------------------------------------------------------\n",
      "> Merging 1 nodes into parent node.\n",
      "> Parent node id: b424a3a4-407b-4270-b5b1-0fc77e174c0e.\n",
      "> Parent node text: <210> 14\n",
      "<211> 9\n",
      "<212> PRT\n",
      "<213> Artificial Sequence\n",
      "\n",
      "<220>\n",
      "<223> peptide-A914\n",
      "\n",
      "\n",
      "<400> 14\n",
      "Gly Cys...\n",
      "\n",
      "> Merging 2 nodes into parent node.\n",
      "> Parent node id: f123a096-0665-4fe6-bcf4-48fb16c42008.\n",
      "> Parent node text: <400> 6\n",
      "Gly Cys Val Ser Val Leu Arg Cys Gly Glu Ile Val\n",
      "  1 5 10\n",
      "\n",
      "\n",
      "<210> 7\n",
      "<211> 12\n",
      "<212> PRT\n",
      "<21...\n",
      "\n",
      "> Merging 2 nodes into parent node.\n",
      "> Parent node id: c679154f-7bb3-4447-a404-d4e968809c71.\n",
      "> Parent node text: do. That is, the substantial scope of the present invention is defined by the appended claims and...\n",
      "\n",
      "> Merging 2 nodes into parent node.\n",
      "> Parent node id: 23f8cbfe-1e2a-4be4-a71d-ce99c77f1040.\n",
      "> Parent node text: <400> 6\n",
      "Gly Cys Val Ser Val Leu Arg Cys Gly Glu Ile Val\n",
      "  1 5 10\n",
      "\n",
      "\n",
      "<210> 7\n",
      "<211> 12\n",
      "<212> PRT\n",
      "<21...\n",
      "\n"
     ]
    },
    {
     "data": {
      "text/markdown": [
       "<b>{'prompt_tokens': 3270, 'completion_tokens': 248, 'total_tokens': 3518}</b>"
      ],
      "text/plain": [
       "<IPython.core.display.Markdown object>"
      ]
     },
     "metadata": {},
     "output_type": "display_data"
    },
    {
     "name": "stdout",
     "output_type": "stream",
     "text": [
      "--------------------------------------------------------------------\n",
      "> Merging 2 nodes into parent node.\n",
      "> Parent node id: 58dbbd08-7744-4fde-ba9e-16f15e6c8faf.\n",
      "> Parent node text: <400> 6\n",
      "Gly Cys Val Ser Val Leu Arg Cys Gly Glu Ile Val\n",
      "  1 5 10\n",
      "\n",
      "\n",
      "<210> 7\n",
      "<211> 12\n",
      "<212> PRT\n",
      "<21...\n",
      "\n",
      "> Merging 2 nodes into parent node.\n",
      "> Parent node id: 759bbd63-57ca-414c-9f0d-96640ae81dd9.\n",
      "> Parent node text: do. That is, the substantial scope of the present invention is defined by the appended claims and...\n",
      "\n",
      "> Merging 1 nodes into parent node.\n",
      "> Parent node id: d44f9d49-2445-4df8-926c-4645642a9f7e.\n",
      "> Parent node text: <210> 14\n",
      "<211> 9\n",
      "<212> PRT\n",
      "<213> Artificial Sequence\n",
      "\n",
      "<220>\n",
      "<223> peptide-A914\n",
      "\n",
      "\n",
      "<400> 14\n",
      "Gly Cys...\n",
      "\n",
      "> Merging 2 nodes into parent node.\n",
      "> Parent node id: e050a8e5-b1e1-4508-9bcf-62d4537c99f7.\n",
      "> Parent node text: <400> 6\n",
      "Gly Cys Val Ser Val Leu Arg Cys Gly Glu Ile Val\n",
      "  1 5 10\n",
      "\n",
      "\n",
      "<210> 7\n",
      "<211> 12\n",
      "<212> PRT\n",
      "<21...\n",
      "\n"
     ]
    },
    {
     "data": {
      "text/markdown": [
       "<b>{'prompt_tokens': 3270, 'completion_tokens': 170, 'total_tokens': 3440}</b>"
      ],
      "text/plain": [
       "<IPython.core.display.Markdown object>"
      ]
     },
     "metadata": {},
     "output_type": "display_data"
    },
    {
     "name": "stdout",
     "output_type": "stream",
     "text": [
      "--------------------------------------------------------------------\n",
      "> Merging 2 nodes into parent node.\n",
      "> Parent node id: 59ec5f6f-be72-47cb-8d61-6e86baa6ce8c.\n",
      "> Parent node text: do. That is, the substantial scope of the present invention is defined by the appended claims and...\n",
      "\n",
      "> Merging 2 nodes into parent node.\n",
      "> Parent node id: 0c8709e9-bc25-42ff-84d8-9e5871ba12bf.\n",
      "> Parent node text: <400> 6\n",
      "Gly Cys Val Ser Val Leu Arg Cys Gly Glu Ile Val\n",
      "  1 5 10\n",
      "\n",
      "\n",
      "<210> 7\n",
      "<211> 12\n",
      "<212> PRT\n",
      "<21...\n",
      "\n",
      "> Merging 1 nodes into parent node.\n",
      "> Parent node id: 1a77b4a4-c9bd-405a-8128-f789f76b01c5.\n",
      "> Parent node text: <210> 14\n",
      "<211> 9\n",
      "<212> PRT\n",
      "<213> Artificial Sequence\n",
      "\n",
      "<220>\n",
      "<223> peptide-A914\n",
      "\n",
      "\n",
      "<400> 14\n",
      "Gly Cys...\n",
      "\n",
      "> Merging 2 nodes into parent node.\n",
      "> Parent node id: 546909b1-68bf-410c-92e7-606eb1ec4fe5.\n",
      "> Parent node text: <400> 6\n",
      "Gly Cys Val Ser Val Leu Arg Cys Gly Glu Ile Val\n",
      "  1 5 10\n",
      "\n",
      "\n",
      "<210> 7\n",
      "<211> 12\n",
      "<212> PRT\n",
      "<21...\n",
      "\n"
     ]
    },
    {
     "data": {
      "text/markdown": [
       "<b>{'prompt_tokens': 3270, 'completion_tokens': 425, 'total_tokens': 3695}</b>"
      ],
      "text/plain": [
       "<IPython.core.display.Markdown object>"
      ]
     },
     "metadata": {},
     "output_type": "display_data"
    },
    {
     "name": "stdout",
     "output_type": "stream",
     "text": [
      "--------------------------------------------------------------------\n",
      "> Merging 1 nodes into parent node.\n",
      "> Parent node id: 6861a888-84e7-42f0-b173-7a8ab7252e79.\n",
      "> Parent node text: <210> 14\n",
      "<211> 9\n",
      "<212> PRT\n",
      "<213> Artificial Sequence\n",
      "\n",
      "<220>\n",
      "<223> peptide-A914\n",
      "\n",
      "\n",
      "<400> 14\n",
      "Gly Cys...\n",
      "\n",
      "> Merging 2 nodes into parent node.\n",
      "> Parent node id: 07502acc-1164-431c-ac0f-6c472b0a067b.\n",
      "> Parent node text: do. That is, the substantial scope of the present invention is defined by the appended claims and...\n",
      "\n",
      "> Merging 2 nodes into parent node.\n",
      "> Parent node id: 2c038955-1056-499d-9cd9-371fd9c4899f.\n",
      "> Parent node text: <400> 6\n",
      "Gly Cys Val Ser Val Leu Arg Cys Gly Glu Ile Val\n",
      "  1 5 10\n",
      "\n",
      "\n",
      "<210> 7\n",
      "<211> 12\n",
      "<212> PRT\n",
      "<21...\n",
      "\n",
      "> Merging 2 nodes into parent node.\n",
      "> Parent node id: eae3229f-da5b-45ca-8c59-323e49886825.\n",
      "> Parent node text: <400> 6\n",
      "Gly Cys Val Ser Val Leu Arg Cys Gly Glu Ile Val\n",
      "  1 5 10\n",
      "\n",
      "\n",
      "<210> 7\n",
      "<211> 12\n",
      "<212> PRT\n",
      "<21...\n",
      "\n"
     ]
    },
    {
     "data": {
      "text/markdown": [
       "<b>{'prompt_tokens': 3270, 'completion_tokens': 280, 'total_tokens': 3550}</b>"
      ],
      "text/plain": [
       "<IPython.core.display.Markdown object>"
      ]
     },
     "metadata": {},
     "output_type": "display_data"
    },
    {
     "name": "stdout",
     "output_type": "stream",
     "text": [
      "--------------------------------------------------------------------\n",
      "> Merging 1 nodes into parent node.\n",
      "> Parent node id: d00fd70a-0676-45fb-987e-edd9a2d20e91.\n",
      "> Parent node text: <210> 14\n",
      "<211> 9\n",
      "<212> PRT\n",
      "<213> Artificial Sequence\n",
      "\n",
      "<220>\n",
      "<223> peptide-A914\n",
      "\n",
      "\n",
      "<400> 14\n",
      "Gly Cys...\n",
      "\n",
      "> Merging 2 nodes into parent node.\n",
      "> Parent node id: 005b2a81-02af-4c1c-a871-3f3d512dc6ee.\n",
      "> Parent node text: do. That is, the substantial scope of the present invention is defined by the appended claims and...\n",
      "\n",
      "> Merging 2 nodes into parent node.\n",
      "> Parent node id: 509fb3d6-032e-4d43-91e1-d48d292fcdfe.\n",
      "> Parent node text: <400> 6\n",
      "Gly Cys Val Ser Val Leu Arg Cys Gly Glu Ile Val\n",
      "  1 5 10\n",
      "\n",
      "\n",
      "<210> 7\n",
      "<211> 12\n",
      "<212> PRT\n",
      "<21...\n",
      "\n",
      "> Merging 2 nodes into parent node.\n",
      "> Parent node id: 7071ecdb-3e3e-4e08-8ef5-9d482bc6475e.\n",
      "> Parent node text: <400> 6\n",
      "Gly Cys Val Ser Val Leu Arg Cys Gly Glu Ile Val\n",
      "  1 5 10\n",
      "\n",
      "\n",
      "<210> 7\n",
      "<211> 12\n",
      "<212> PRT\n",
      "<21...\n",
      "\n"
     ]
    },
    {
     "data": {
      "text/markdown": [
       "<b>{'prompt_tokens': 3264, 'completion_tokens': 195, 'total_tokens': 3459}</b>"
      ],
      "text/plain": [
       "<IPython.core.display.Markdown object>"
      ]
     },
     "metadata": {},
     "output_type": "display_data"
    },
    {
     "name": "stdout",
     "output_type": "stream",
     "text": [
      "--------------------------------------------------------------------\n",
      "> Merging 3 nodes into parent node.\n",
      "> Parent node id: 0d8af182-00e4-405e-8f32-d67394bda42b.\n",
      "> Parent node text: do. That is, the substantial scope of the present invention is defined by the appended claims and...\n",
      "\n",
      "> Merging 1 nodes into parent node.\n",
      "> Parent node id: 54403f4f-2462-402e-b03d-49ca46d4ba6e.\n",
      "> Parent node text: <210> 14\n",
      "<211> 9\n",
      "<212> PRT\n",
      "<213> Artificial Sequence\n",
      "\n",
      "<220>\n",
      "<223> peptide-A914\n",
      "\n",
      "\n",
      "<400> 14\n",
      "Gly Cys...\n",
      "\n"
     ]
    },
    {
     "data": {
      "text/markdown": [
       "<b>{'prompt_tokens': 2948, 'completion_tokens': 166, 'total_tokens': 3114}</b>"
      ],
      "text/plain": [
       "<IPython.core.display.Markdown object>"
      ]
     },
     "metadata": {},
     "output_type": "display_data"
    },
    {
     "name": "stdout",
     "output_type": "stream",
     "text": [
      "--------------------------------------------------------------------\n",
      "> Merging 2 nodes into parent node.\n",
      "> Parent node id: 932191f8-57ed-40e3-a399-2febd15ce77a.\n",
      "> Parent node text: <400> 6\n",
      "Gly Cys Val Ser Val Leu Arg Cys Gly Glu Ile Val\n",
      "  1 5 10\n",
      "\n",
      "\n",
      "<210> 7\n",
      "<211> 12\n",
      "<212> PRT\n",
      "<21...\n",
      "\n",
      "> Merging 1 nodes into parent node.\n",
      "> Parent node id: a4933d55-74f3-4684-a270-868780014283.\n",
      "> Parent node text: <210> 14\n",
      "<211> 9\n",
      "<212> PRT\n",
      "<213> Artificial Sequence\n",
      "\n",
      "<220>\n",
      "<223> peptide-A914\n",
      "\n",
      "\n",
      "<400> 14\n",
      "Gly Cys...\n",
      "\n",
      "> Merging 2 nodes into parent node.\n",
      "> Parent node id: 1185ee8b-a472-4102-b890-eb93a1220e97.\n",
      "> Parent node text: do. That is, the substantial scope of the present invention is defined by the appended claims and...\n",
      "\n",
      "> Merging 2 nodes into parent node.\n",
      "> Parent node id: 8e60d04d-e7ff-4f01-89a6-73c2155e5931.\n",
      "> Parent node text: <400> 6\n",
      "Gly Cys Val Ser Val Leu Arg Cys Gly Glu Ile Val\n",
      "  1 5 10\n",
      "\n",
      "\n",
      "<210> 7\n",
      "<211> 12\n",
      "<212> PRT\n",
      "<21...\n",
      "\n"
     ]
    },
    {
     "data": {
      "text/markdown": [
       "<b>{'prompt_tokens': 3268, 'completion_tokens': 362, 'total_tokens': 3630}</b>"
      ],
      "text/plain": [
       "<IPython.core.display.Markdown object>"
      ]
     },
     "metadata": {},
     "output_type": "display_data"
    },
    {
     "name": "stdout",
     "output_type": "stream",
     "text": [
      "--------------------------------------------------------------------\n",
      "> Merging 1 nodes into parent node.\n",
      "> Parent node id: 7b378080-1c01-4aa6-b29d-305003e54961.\n",
      "> Parent node text: <210> 14\n",
      "<211> 9\n",
      "<212> PRT\n",
      "<213> Artificial Sequence\n",
      "\n",
      "<220>\n",
      "<223> peptide-A914\n",
      "\n",
      "\n",
      "<400> 14\n",
      "Gly Cys...\n",
      "\n",
      "> Merging 2 nodes into parent node.\n",
      "> Parent node id: 5df8fa31-0e8a-442c-a076-6a9155576b8f.\n",
      "> Parent node text: <400> 6\n",
      "Gly Cys Val Ser Val Leu Arg Cys Gly Glu Ile Val\n",
      "  1 5 10\n",
      "\n",
      "\n",
      "<210> 7\n",
      "<211> 12\n",
      "<212> PRT\n",
      "<21...\n",
      "\n",
      "> Merging 2 nodes into parent node.\n",
      "> Parent node id: ebd70681-4537-4071-9077-d8142a913ab6.\n",
      "> Parent node text: do. That is, the substantial scope of the present invention is defined by the appended claims and...\n",
      "\n",
      "> Merging 2 nodes into parent node.\n",
      "> Parent node id: 42b17b54-578e-4acf-bbe1-f850fdd1056f.\n",
      "> Parent node text: <400> 6\n",
      "Gly Cys Val Ser Val Leu Arg Cys Gly Glu Ile Val\n",
      "  1 5 10\n",
      "\n",
      "\n",
      "<210> 7\n",
      "<211> 12\n",
      "<212> PRT\n",
      "<21...\n",
      "\n"
     ]
    },
    {
     "data": {
      "text/markdown": [
       "<b>{'prompt_tokens': 3161, 'completion_tokens': 382, 'total_tokens': 3543}</b>"
      ],
      "text/plain": [
       "<IPython.core.display.Markdown object>"
      ]
     },
     "metadata": {},
     "output_type": "display_data"
    },
    {
     "name": "stdout",
     "output_type": "stream",
     "text": [
      "--------------------------------------------------------------------\n",
      "> Merging 2 nodes into parent node.\n",
      "> Parent node id: 57737337-f98c-46fe-bce7-023812cbf9bd.\n",
      "> Parent node text: <400> 6\n",
      "Gly Cys Val Ser Val Leu Arg Cys Gly Glu Ile Val\n",
      "  1 5 10\n",
      "\n",
      "\n",
      "<210> 7\n",
      "<211> 12\n",
      "<212> PRT\n",
      "<21...\n",
      "\n",
      "> Merging 2 nodes into parent node.\n",
      "> Parent node id: 94f73afc-6724-4ed3-a7f6-76a4bd41566e.\n",
      "> Parent node text: do. That is, the substantial scope of the present invention is defined by the appended claims and...\n",
      "\n",
      "> Merging 1 nodes into parent node.\n",
      "> Parent node id: 93963aac-6bd8-4229-85c3-8cc217bad178.\n",
      "> Parent node text: <210> 14\n",
      "<211> 9\n",
      "<212> PRT\n",
      "<213> Artificial Sequence\n",
      "\n",
      "<220>\n",
      "<223> peptide-A914\n",
      "\n",
      "\n",
      "<400> 14\n",
      "Gly Cys...\n",
      "\n",
      "> Merging 2 nodes into parent node.\n",
      "> Parent node id: 7a7fae0d-e08c-48ae-b622-0575ae0cc42e.\n",
      "> Parent node text: <400> 6\n",
      "Gly Cys Val Ser Val Leu Arg Cys Gly Glu Ile Val\n",
      "  1 5 10\n",
      "\n",
      "\n",
      "<210> 7\n",
      "<211> 12\n",
      "<212> PRT\n",
      "<21...\n",
      "\n"
     ]
    },
    {
     "data": {
      "text/markdown": [
       "<b>{'prompt_tokens': 3159, 'completion_tokens': 197, 'total_tokens': 3356}</b>"
      ],
      "text/plain": [
       "<IPython.core.display.Markdown object>"
      ]
     },
     "metadata": {},
     "output_type": "display_data"
    },
    {
     "name": "stdout",
     "output_type": "stream",
     "text": [
      "--------------------------------------------------------------------\n",
      "> Merging 3 nodes into parent node.\n",
      "> Parent node id: cb37119c-9ef9-4d58-b76d-bb39a7a9b6f6.\n",
      "> Parent node text: do. That is, the substantial scope of the present invention is defined by the appended claims and...\n",
      "\n",
      "> Merging 2 nodes into parent node.\n",
      "> Parent node id: 607dbf4d-2f48-43ac-bf1b-439664e101c3.\n",
      "> Parent node text: <400> 6\n",
      "Gly Cys Val Ser Val Leu Arg Cys Gly Glu Ile Val\n",
      "  1 5 10\n",
      "\n",
      "\n",
      "<210> 7\n",
      "<211> 12\n",
      "<212> PRT\n",
      "<21...\n",
      "\n",
      "> Merging 1 nodes into parent node.\n",
      "> Parent node id: ca315328-65ea-434a-9b60-9b176690268b.\n",
      "> Parent node text: <210> 14\n",
      "<211> 9\n",
      "<212> PRT\n",
      "<213> Artificial Sequence\n",
      "\n",
      "<220>\n",
      "<223> peptide-A914\n",
      "\n",
      "\n",
      "<400> 14\n",
      "Gly Cys...\n",
      "\n",
      "> Merging 2 nodes into parent node.\n",
      "> Parent node id: b3a6cb6b-5fcb-43de-b64b-07a4cb7cebbe.\n",
      "> Parent node text: <400> 6\n",
      "Gly Cys Val Ser Val Leu Arg Cys Gly Glu Ile Val\n",
      "  1 5 10\n",
      "\n",
      "\n",
      "<210> 7\n",
      "<211> 12\n",
      "<212> PRT\n",
      "<21...\n",
      "\n"
     ]
    },
    {
     "data": {
      "text/markdown": [
       "<b>{'prompt_tokens': 3008, 'completion_tokens': 241, 'total_tokens': 3249}</b>"
      ],
      "text/plain": [
       "<IPython.core.display.Markdown object>"
      ]
     },
     "metadata": {},
     "output_type": "display_data"
    },
    {
     "name": "stdout",
     "output_type": "stream",
     "text": [
      "--------------------------------------------------------------------\n",
      "> Merging 2 nodes into parent node.\n",
      "> Parent node id: 94135894-f607-43db-a423-4cd287c5b972.\n",
      "> Parent node text: do. That is, the substantial scope of the present invention is defined by the appended claims and...\n",
      "\n",
      "> Merging 1 nodes into parent node.\n",
      "> Parent node id: 33ed9bcb-3e2b-40f0-a9cc-7cdb2c52f82f.\n",
      "> Parent node text: <210> 14\n",
      "<211> 9\n",
      "<212> PRT\n",
      "<213> Artificial Sequence\n",
      "\n",
      "<220>\n",
      "<223> peptide-A914\n",
      "\n",
      "\n",
      "<400> 14\n",
      "Gly Cys...\n",
      "\n",
      "> Merging 2 nodes into parent node.\n",
      "> Parent node id: a7be1da1-c847-43d9-b5c7-600126f8733e.\n",
      "> Parent node text: <400> 6\n",
      "Gly Cys Val Ser Val Leu Arg Cys Gly Glu Ile Val\n",
      "  1 5 10\n",
      "\n",
      "\n",
      "<210> 7\n",
      "<211> 12\n",
      "<212> PRT\n",
      "<21...\n",
      "\n",
      "> Merging 2 nodes into parent node.\n",
      "> Parent node id: e8e63f9a-bb38-44d6-b3c1-ea9fc4af6477.\n",
      "> Parent node text: <400> 6\n",
      "Gly Cys Val Ser Val Leu Arg Cys Gly Glu Ile Val\n",
      "  1 5 10\n",
      "\n",
      "\n",
      "<210> 7\n",
      "<211> 12\n",
      "<212> PRT\n",
      "<21...\n",
      "\n"
     ]
    },
    {
     "data": {
      "text/markdown": [
       "<b>{'prompt_tokens': 3268, 'completion_tokens': 395, 'total_tokens': 3663}</b>"
      ],
      "text/plain": [
       "<IPython.core.display.Markdown object>"
      ]
     },
     "metadata": {},
     "output_type": "display_data"
    },
    {
     "name": "stdout",
     "output_type": "stream",
     "text": [
      "--------------------------------------------------------------------\n",
      "> Merging 2 nodes into parent node.\n",
      "> Parent node id: 272b616e-baf7-4497-ba08-0ad8dd743b76.\n",
      "> Parent node text: <400> 6\n",
      "Gly Cys Val Ser Val Leu Arg Cys Gly Glu Ile Val\n",
      "  1 5 10\n",
      "\n",
      "\n",
      "<210> 7\n",
      "<211> 12\n",
      "<212> PRT\n",
      "<21...\n",
      "\n",
      "> Merging 2 nodes into parent node.\n",
      "> Parent node id: 43e602d7-6849-4f45-ac83-7eb3ecf4e6fd.\n",
      "> Parent node text: do. That is, the substantial scope of the present invention is defined by the appended claims and...\n",
      "\n",
      "> Merging 1 nodes into parent node.\n",
      "> Parent node id: 25b406c5-efc0-49b7-9bd0-62fb63dcb253.\n",
      "> Parent node text: <210> 14\n",
      "<211> 9\n",
      "<212> PRT\n",
      "<213> Artificial Sequence\n",
      "\n",
      "<220>\n",
      "<223> peptide-A914\n",
      "\n",
      "\n",
      "<400> 14\n",
      "Gly Cys...\n",
      "\n",
      "> Merging 2 nodes into parent node.\n",
      "> Parent node id: 99c5d175-6c95-4ccf-8faa-8bdc2199f351.\n",
      "> Parent node text: <400> 6\n",
      "Gly Cys Val Ser Val Leu Arg Cys Gly Glu Ile Val\n",
      "  1 5 10\n",
      "\n",
      "\n",
      "<210> 7\n",
      "<211> 12\n",
      "<212> PRT\n",
      "<21...\n",
      "\n"
     ]
    },
    {
     "data": {
      "text/markdown": [
       "<b>{'prompt_tokens': 3270, 'completion_tokens': 210, 'total_tokens': 3480}</b>"
      ],
      "text/plain": [
       "<IPython.core.display.Markdown object>"
      ]
     },
     "metadata": {},
     "output_type": "display_data"
    },
    {
     "name": "stdout",
     "output_type": "stream",
     "text": [
      "--------------------------------------------------------------------\n",
      "> Merging 2 nodes into parent node.\n",
      "> Parent node id: be6e8ebe-5b10-4bc2-b642-c02de298d6ca.\n",
      "> Parent node text: The claim information:\n",
      "Anti-inflammatory peptide represented by the amino acid sequence of SEQ_ID...\n",
      "\n",
      "> Merging 1 nodes into parent node.\n",
      "> Parent node id: 1f9e73fb-37ba-4c3d-9f83-5675a2bc2b45.\n",
      "> Parent node text: The claim information:\n",
      "Anti-inflammatory peptide represented by the amino acid sequence of SEQ_ID...\n",
      "\n",
      "> Merging 1 nodes into parent node.\n",
      "> Parent node id: 36672a5c-41ef-4690-9317-4352929cada2.\n",
      "> Parent node text: peptide amino acid sequence Protetiomycin-9 (SEQ_ID_NO_1) CVLKKAYFLTNLKLRG-NH 2 Example 2.\n",
      "\n",
      "> Merging 2 nodes into parent node.\n",
      "> Parent node id: 905ae5dc-f9af-4ddf-9220-9c5174a394b1.\n",
      "> Parent node text: Sequence homology and identity herein are defined as the percentage of amino acid residues of the...\n",
      "\n"
     ]
    },
    {
     "data": {
      "text/markdown": [
       "<b>{'prompt_tokens': 2419, 'completion_tokens': 312, 'total_tokens': 2731}</b>"
      ],
      "text/plain": [
       "<IPython.core.display.Markdown object>"
      ]
     },
     "metadata": {},
     "output_type": "display_data"
    },
    {
     "name": "stdout",
     "output_type": "stream",
     "text": [
      "--------------------------------------------------------------------\n",
      "> Merging 2 nodes into parent node.\n",
      "> Parent node id: b4daf114-252b-4c72-8bdc-57142a899db8.\n",
      "> Parent node text: The claim information:\n",
      "An antibacterial, antifungal or anti-inflammatory peptide represented by t...\n",
      "\n",
      "> Merging 1 nodes into parent node.\n",
      "> Parent node id: 90aecf9d-9510-46cb-a1c2-5c9b5aa1274a.\n",
      "> Parent node text: The claim information:\n",
      "An antibacterial, antifungal or anti-inflammatory peptide represented by t...\n",
      "\n",
      "> Merging 2 nodes into parent node.\n",
      "> Parent node id: 2644c7c5-3ae0-410b-aead-6ab0bec6485b.\n",
      "> Parent node text: The anti-inflammatory peptide according to the present invention may be isolated from white-spott...\n",
      "\n",
      "> Merging 1 nodes into parent node.\n",
      "> Parent node id: 94e952f0-3f17-4daf-b231-4de64550b594.\n",
      "> Parent node text: Using the previously known antibacterial, antifungal and anti-inflammatory peptide properties, th...\n",
      "\n",
      "> Merging 1 nodes into parent node.\n",
      "> Parent node id: 42fb3dd4-a7f3-45f0-aa5e-d35b1954940f.\n",
      "> Parent node text: N-terminal, C-terminal or internal extensions, deletions or insertions of the amino acid sequence...\n",
      "\n",
      "> Merging 2 nodes into parent node.\n",
      "> Parent node id: 9d313cf7-d1b2-40c7-8a34-88029cf2a9f7.\n",
      "> Parent node text: In addition, the present invention provides a health functional food composition for anti-inflamm...\n",
      "\n"
     ]
    },
    {
     "data": {
      "text/markdown": [
       "<b>{'prompt_tokens': 3250, 'completion_tokens': 325, 'total_tokens': 3575}</b>"
      ],
      "text/plain": [
       "<IPython.core.display.Markdown object>"
      ]
     },
     "metadata": {},
     "output_type": "display_data"
    },
    {
     "name": "stdout",
     "output_type": "stream",
     "text": [
      "--------------------------------------------------------------------\n",
      "> Merging 2 nodes into parent node.\n",
      "> Parent node id: ca7ff5a3-5b21-4a67-8bfb-5cc129ee62c3.\n",
      "> Parent node text: As disclosed in U.S. Patent No. 4,554,101, the following hydrophilicity values have been assigned...\n",
      "\n"
     ]
    },
    {
     "data": {
      "text/markdown": [
       "<b>{'prompt_tokens': 2659, 'completion_tokens': 348, 'total_tokens': 3007}</b>"
      ],
      "text/plain": [
       "<IPython.core.display.Markdown object>"
      ]
     },
     "metadata": {},
     "output_type": "display_data"
    },
    {
     "name": "stdout",
     "output_type": "stream",
     "text": [
      "--------------------------------------------------------------------\n",
      "> Merging 2 nodes into parent node.\n",
      "> Parent node id: 2f20d970-cb17-4a33-9f37-a7f67cceca65.\n",
      "> Parent node text: The claim information:\n",
      "A composition for synthesizing silica comprising a peptide comprising the ...\n",
      "\n",
      "> Merging 2 nodes into parent node.\n",
      "> Parent node id: 496bf65c-7c5a-4640-96ad-e14607f5dadc.\n",
      "> Parent node text: As disclosed in U.S. Patent No. 4,554,101, the following hydrophilicity values have been assigned...\n",
      "\n",
      "> Merging 2 nodes into parent node.\n",
      "> Parent node id: 8bff9d3e-ff53-4bae-9e4e-a8bbbbe4edc2.\n",
      "> Parent node text: And it can be usefully utilized in the fields related to bone transplantation. <110> Korea Univer...\n",
      "\n"
     ]
    },
    {
     "data": {
      "text/markdown": [
       "<b>{'prompt_tokens': 2912, 'completion_tokens': 140, 'total_tokens': 3052}</b>"
      ],
      "text/plain": [
       "<IPython.core.display.Markdown object>"
      ]
     },
     "metadata": {},
     "output_type": "display_data"
    },
    {
     "name": "stdout",
     "output_type": "stream",
     "text": [
      "--------------------------------------------------------------------\n",
      "> Merging 2 nodes into parent node.\n",
      "> Parent node id: 2a01fbe9-cb63-4f71-9e03-09e67b539009.\n",
      "> Parent node text: The claim information:\n",
      "A composition for synthesizing silica comprising a peptide comprising the ...\n",
      "\n"
     ]
    },
    {
     "data": {
      "text/markdown": [
       "<b>{'prompt_tokens': 2782, 'completion_tokens': 417, 'total_tokens': 3199}</b>"
      ],
      "text/plain": [
       "<IPython.core.display.Markdown object>"
      ]
     },
     "metadata": {},
     "output_type": "display_data"
    },
    {
     "name": "stdout",
     "output_type": "stream",
     "text": [
      "--------------------------------------------------------------------\n",
      "> Merging 2 nodes into parent node.\n",
      "> Parent node id: 02513f57-a898-463c-b230-599e2447e6ea.\n",
      "> Parent node text: do. In addition, the present invention is characterized in that the functional molecule is select...\n",
      "\n",
      "> Merging 2 nodes into parent node.\n",
      "> Parent node id: e27f4cc9-dfd9-4834-bf03-770423e2e011.\n",
      "> Parent node text: It is apparent to those skilled in the art that the peptides exhibiting wound healing activity an...\n",
      "\n"
     ]
    },
    {
     "data": {
      "text/markdown": [
       "<b>{'prompt_tokens': 3016, 'completion_tokens': 392, 'total_tokens': 3408}</b>"
      ],
      "text/plain": [
       "<IPython.core.display.Markdown object>"
      ]
     },
     "metadata": {},
     "output_type": "display_data"
    },
    {
     "name": "stdout",
     "output_type": "stream",
     "text": [
      "--------------------------------------------------------------------\n",
      "> Merging 2 nodes into parent node.\n",
      "> Parent node id: 2dce583d-e783-40bc-8d6e-d2979e625b8e.\n",
      "> Parent node text: It is apparent to those skilled in the art that the peptides exhibiting wound healing activity an...\n",
      "\n",
      "> Merging 2 nodes into parent node.\n",
      "> Parent node id: ef0584bf-fdc8-43e8-9874-5f37133dd489.\n",
      "> Parent node text: do. In addition, the present invention is characterized in that the functional molecule is select...\n",
      "\n"
     ]
    },
    {
     "data": {
      "text/markdown": [
       "<b>{'prompt_tokens': 3014, 'completion_tokens': 351, 'total_tokens': 3365}</b>"
      ],
      "text/plain": [
       "<IPython.core.display.Markdown object>"
      ]
     },
     "metadata": {},
     "output_type": "display_data"
    },
    {
     "name": "stdout",
     "output_type": "stream",
     "text": [
      "--------------------------------------------------------------------\n",
      "> Merging 2 nodes into parent node.\n",
      "> Parent node id: a8eea2e3-5b40-48e9-9611-88ca133cbd8c.\n",
      "> Parent node text: The method of claim 1, The peptide exhibiting the wound healing activity and anti-inflammatory ac...\n",
      "\n",
      "> Merging 2 nodes into parent node.\n",
      "> Parent node id: 95f9ef00-2247-4e62-89c6-f54ad44da492.\n",
      "> Parent node text: It is apparent to those skilled in the art that the peptides exhibiting wound healing activity an...\n",
      "\n",
      "> Merging 2 nodes into parent node.\n",
      "> Parent node id: 1e518510-e0d3-45c6-82de-12329ae21f8f.\n",
      "> Parent node text: do. In addition, the present invention is characterized in that the functional molecule is select...\n",
      "\n"
     ]
    },
    {
     "data": {
      "text/markdown": [
       "<b>{'prompt_tokens': 3134, 'completion_tokens': 282, 'total_tokens': 3416}</b>"
      ],
      "text/plain": [
       "<IPython.core.display.Markdown object>"
      ]
     },
     "metadata": {},
     "output_type": "display_data"
    },
    {
     "name": "stdout",
     "output_type": "stream",
     "text": [
      "--------------------------------------------------------------------\n",
      "> Merging 2 nodes into parent node.\n",
      "> Parent node id: 779445ae-47a6-4841-a1ee-46d6663e496f.\n",
      "> Parent node text: The method of claim 1, The peptide exhibiting the wound healing activity and anti-inflammatory ac...\n",
      "\n",
      "> Merging 2 nodes into parent node.\n",
      "> Parent node id: f2d9ad4c-ce24-4c75-a0d2-1aeff00c8f10.\n",
      "> Parent node text: It is apparent to those skilled in the art that the peptides exhibiting wound healing activity an...\n",
      "\n",
      "> Merging 2 nodes into parent node.\n",
      "> Parent node id: 563c9cb1-eedd-4ba6-8064-d396e63f9ef3.\n",
      "> Parent node text: do. In addition, the present invention is characterized in that the functional molecule is select...\n",
      "\n"
     ]
    },
    {
     "data": {
      "text/markdown": [
       "<b>{'prompt_tokens': 3329, 'completion_tokens': 389, 'total_tokens': 3718}</b>"
      ],
      "text/plain": [
       "<IPython.core.display.Markdown object>"
      ]
     },
     "metadata": {},
     "output_type": "display_data"
    },
    {
     "name": "stdout",
     "output_type": "stream",
     "text": [
      "--------------------------------------------------------------------\n",
      "> Merging 2 nodes into parent node.\n",
      "> Parent node id: f4c7ac9f-ea4e-48b8-8dc0-fddc98453467.\n",
      "> Parent node text: It is apparent to those skilled in the art that the peptides exhibiting wound healing activity an...\n",
      "\n",
      "> Merging 2 nodes into parent node.\n",
      "> Parent node id: 5d1fba0a-d4ce-41a0-9bc9-7530fe19cf58.\n",
      "> Parent node text: do. In addition, the present invention is characterized in that the functional molecule is select...\n",
      "\n"
     ]
    },
    {
     "data": {
      "text/markdown": [
       "<b>{'prompt_tokens': 3010, 'completion_tokens': 286, 'total_tokens': 3296}</b>"
      ],
      "text/plain": [
       "<IPython.core.display.Markdown object>"
      ]
     },
     "metadata": {},
     "output_type": "display_data"
    },
    {
     "name": "stdout",
     "output_type": "stream",
     "text": [
      "--------------------------------------------------------------------\n",
      "> Merging 2 nodes into parent node.\n",
      "> Parent node id: 5527f807-0fb7-430e-9190-48ab7e7c82ad.\n",
      "> Parent node text: The method of claim 1, The peptide exhibiting the wound healing activity and anti-inflammatory ac...\n",
      "\n",
      "> Merging 2 nodes into parent node.\n",
      "> Parent node id: bf8e7435-5e14-49ae-9c66-383b118f8586.\n",
      "> Parent node text: It is apparent to those skilled in the art that the peptides exhibiting wound healing activity an...\n",
      "\n",
      "> Merging 2 nodes into parent node.\n",
      "> Parent node id: 7cc898d4-d79e-4add-8481-05f5daff8e16.\n",
      "> Parent node text: do. In addition, the present invention is characterized in that the functional molecule is select...\n",
      "\n",
      "> Merging 2 nodes into parent node.\n",
      "> Parent node id: 9863d4bf-ecef-4517-8da4-8d201f4caa8d.\n",
      "> Parent node text: In the present specification, \"inflammation\" is caused by infection by external infectious agents...\n",
      "\n"
     ]
    },
    {
     "data": {
      "text/markdown": [
       "<b>{'prompt_tokens': 3071, 'completion_tokens': 165, 'total_tokens': 3236}</b>"
      ],
      "text/plain": [
       "<IPython.core.display.Markdown object>"
      ]
     },
     "metadata": {},
     "output_type": "display_data"
    },
    {
     "name": "stdout",
     "output_type": "stream",
     "text": [
      "--------------------------------------------------------------------\n",
      "> Merging 2 nodes into parent node.\n",
      "> Parent node id: 85fba792-e966-444b-92ee-c39e29db409a.\n",
      "> Parent node text: The method of claim 1, The peptide exhibiting the wound healing activity and anti-inflammatory ac...\n",
      "\n",
      "> Merging 2 nodes into parent node.\n",
      "> Parent node id: fe3e68d7-cc90-45e5-9607-f1a56b7df02a.\n",
      "> Parent node text: do. In addition, the present invention is characterized in that the functional molecule is select...\n",
      "\n",
      "> Merging 2 nodes into parent node.\n",
      "> Parent node id: 3d6aaaeb-7a9a-4a30-a925-9f40e95123cf.\n",
      "> Parent node text: It is apparent to those skilled in the art that the peptides exhibiting wound healing activity an...\n",
      "\n"
     ]
    },
    {
     "data": {
      "text/markdown": [
       "<b>{'prompt_tokens': 3113, 'completion_tokens': 327, 'total_tokens': 3440}</b>"
      ],
      "text/plain": [
       "<IPython.core.display.Markdown object>"
      ]
     },
     "metadata": {},
     "output_type": "display_data"
    },
    {
     "name": "stdout",
     "output_type": "stream",
     "text": [
      "--------------------------------------------------------------------\n",
      "> Merging 2 nodes into parent node.\n",
      "> Parent node id: ac3b2c96-d081-4d86-b19d-7d1d9e9f464e.\n",
      "> Parent node text: do. In addition, the present invention is characterized in that the functional molecule is select...\n",
      "\n",
      "> Merging 2 nodes into parent node.\n",
      "> Parent node id: 8317ba19-4458-49dd-a15c-c0a29c7c2c01.\n",
      "> Parent node text: It is apparent to those skilled in the art that the peptides exhibiting wound healing activity an...\n",
      "\n"
     ]
    },
    {
     "data": {
      "text/markdown": [
       "<b>{'prompt_tokens': 3008, 'completion_tokens': 320, 'total_tokens': 3328}</b>"
      ],
      "text/plain": [
       "<IPython.core.display.Markdown object>"
      ]
     },
     "metadata": {},
     "output_type": "display_data"
    },
    {
     "name": "stdout",
     "output_type": "stream",
     "text": [
      "--------------------------------------------------------------------\n",
      "> Merging 2 nodes into parent node.\n",
      "> Parent node id: ccac0ada-981f-4e36-9f6f-7e23d621dbce.\n",
      "> Parent node text: It is apparent to those skilled in the art that the peptides exhibiting wound healing activity an...\n",
      "\n"
     ]
    },
    {
     "data": {
      "text/markdown": [
       "<b>{'prompt_tokens': 2967, 'completion_tokens': 530, 'total_tokens': 3497}</b>"
      ],
      "text/plain": [
       "<IPython.core.display.Markdown object>"
      ]
     },
     "metadata": {},
     "output_type": "display_data"
    },
    {
     "name": "stdout",
     "output_type": "stream",
     "text": [
      "--------------------------------------------------------------------\n",
      "> Merging 2 nodes into parent node.\n",
      "> Parent node id: 7cc37c0c-001d-4665-a121-b2d169c6f0c3.\n",
      "> Parent node text: do. In addition, the present invention is characterized in that the functional molecule is select...\n",
      "\n",
      "> Merging 2 nodes into parent node.\n",
      "> Parent node id: a9fbda67-b669-4987-8d1b-d326d7869dc8.\n",
      "> Parent node text: It is apparent to those skilled in the art that the peptides exhibiting wound healing activity an...\n",
      "\n"
     ]
    },
    {
     "data": {
      "text/markdown": [
       "<b>{'prompt_tokens': 2926, 'completion_tokens': 155, 'total_tokens': 3081}</b>"
      ],
      "text/plain": [
       "<IPython.core.display.Markdown object>"
      ]
     },
     "metadata": {},
     "output_type": "display_data"
    },
    {
     "name": "stdout",
     "output_type": "stream",
     "text": [
      "--------------------------------------------------------------------\n",
      "> Merging 2 nodes into parent node.\n",
      "> Parent node id: e7971d24-5f2e-4fae-b51e-9855572d3e9d.\n",
      "> Parent node text: The method of claim 1, The peptide exhibiting the wound healing activity and anti-inflammatory ac...\n",
      "\n",
      "> Merging 2 nodes into parent node.\n",
      "> Parent node id: bd1aa2d7-9115-4af6-ac70-bcea64368ac3.\n",
      "> Parent node text: do. In addition, the present invention is characterized in that the functional molecule is select...\n",
      "\n",
      "> Merging 2 nodes into parent node.\n",
      "> Parent node id: 35d6494c-8176-4931-8942-a462b6286aa3.\n",
      "> Parent node text: It is apparent to those skilled in the art that the peptides exhibiting wound healing activity an...\n",
      "\n"
     ]
    },
    {
     "data": {
      "text/markdown": [
       "<b>{'prompt_tokens': 3142, 'completion_tokens': 252, 'total_tokens': 3394}</b>"
      ],
      "text/plain": [
       "<IPython.core.display.Markdown object>"
      ]
     },
     "metadata": {},
     "output_type": "display_data"
    },
    {
     "name": "stdout",
     "output_type": "stream",
     "text": [
      "--------------------------------------------------------------------\n",
      "> Merging 2 nodes into parent node.\n",
      "> Parent node id: f0381993-a00c-4899-90b1-da4df962f3d5.\n",
      "> Parent node text: It is apparent to those skilled in the art that the peptides exhibiting wound healing activity an...\n",
      "\n",
      "> Merging 2 nodes into parent node.\n",
      "> Parent node id: 49337634-07c7-4523-9177-13b457a092b0.\n",
      "> Parent node text: do. In addition, the present invention is characterized in that the functional molecule is select...\n",
      "\n"
     ]
    },
    {
     "data": {
      "text/markdown": [
       "<b>{'prompt_tokens': 2889, 'completion_tokens': 185, 'total_tokens': 3074}</b>"
      ],
      "text/plain": [
       "<IPython.core.display.Markdown object>"
      ]
     },
     "metadata": {},
     "output_type": "display_data"
    },
    {
     "name": "stdout",
     "output_type": "stream",
     "text": [
      "--------------------------------------------------------------------\n",
      "> Merging 2 nodes into parent node.\n",
      "> Parent node id: 6bc0cd58-176b-4ac2-93ae-cbf0acc70f5a.\n",
      "> Parent node text: do. In addition, the present invention is characterized in that the functional molecule is select...\n",
      "\n",
      "> Merging 2 nodes into parent node.\n",
      "> Parent node id: 18e7718c-c08d-4429-a769-10c15934ce9a.\n",
      "> Parent node text: It is apparent to those skilled in the art that the peptides exhibiting wound healing activity an...\n",
      "\n"
     ]
    },
    {
     "data": {
      "text/markdown": [
       "<b>{'prompt_tokens': 2947, 'completion_tokens': 447, 'total_tokens': 3394}</b>"
      ],
      "text/plain": [
       "<IPython.core.display.Markdown object>"
      ]
     },
     "metadata": {},
     "output_type": "display_data"
    },
    {
     "name": "stdout",
     "output_type": "stream",
     "text": [
      "--------------------------------------------------------------------\n",
      "> Merging 2 nodes into parent node.\n",
      "> Parent node id: 324e991e-7b55-4646-81fb-36d6c6134ee5.\n",
      "> Parent node text: It is apparent to those skilled in the art that the peptides exhibiting wound healing activity an...\n",
      "\n",
      "> Merging 2 nodes into parent node.\n",
      "> Parent node id: ba4337e2-9c0f-4261-b9ad-7f6e30de1ff3.\n",
      "> Parent node text: do. In addition, the present invention is characterized in that the functional molecule is select...\n",
      "\n"
     ]
    },
    {
     "data": {
      "text/markdown": [
       "<b>{'prompt_tokens': 2929, 'completion_tokens': 442, 'total_tokens': 3371}</b>"
      ],
      "text/plain": [
       "<IPython.core.display.Markdown object>"
      ]
     },
     "metadata": {},
     "output_type": "display_data"
    },
    {
     "name": "stdout",
     "output_type": "stream",
     "text": [
      "--------------------------------------------------------------------\n",
      "> Merging 2 nodes into parent node.\n",
      "> Parent node id: 319a525f-0d8e-43bf-9ca1-a985e5f014f9.\n",
      "> Parent node text: It is apparent to those skilled in the art that the peptides exhibiting wound healing activity an...\n",
      "\n",
      "> Merging 2 nodes into parent node.\n",
      "> Parent node id: 69586d68-12a0-4a75-bd50-3fc538d4db1d.\n",
      "> Parent node text: do. In addition, the present invention is characterized in that the functional molecule is select...\n",
      "\n"
     ]
    },
    {
     "data": {
      "text/markdown": [
       "<b>{'prompt_tokens': 2968, 'completion_tokens': 324, 'total_tokens': 3292}</b>"
      ],
      "text/plain": [
       "<IPython.core.display.Markdown object>"
      ]
     },
     "metadata": {},
     "output_type": "display_data"
    },
    {
     "name": "stdout",
     "output_type": "stream",
     "text": [
      "--------------------------------------------------------------------\n",
      "> Merging 2 nodes into parent node.\n",
      "> Parent node id: 3b147d03-f8e6-4052-9bc5-85e50f7f6a92.\n",
      "> Parent node text: It is apparent to those skilled in the art that the peptides exhibiting wound healing activity an...\n",
      "\n",
      "> Merging 2 nodes into parent node.\n",
      "> Parent node id: 3ce27b2c-a142-4478-aea6-1f84f66f0ed4.\n",
      "> Parent node text: do. In addition, the present invention is characterized in that the functional molecule is select...\n",
      "\n"
     ]
    },
    {
     "data": {
      "text/markdown": [
       "<b>{'prompt_tokens': 2970, 'completion_tokens': 381, 'total_tokens': 3351}</b>"
      ],
      "text/plain": [
       "<IPython.core.display.Markdown object>"
      ]
     },
     "metadata": {},
     "output_type": "display_data"
    },
    {
     "name": "stdout",
     "output_type": "stream",
     "text": [
      "--------------------------------------------------------------------\n",
      "> Merging 2 nodes into parent node.\n",
      "> Parent node id: 217c12eb-f3ed-47e4-87cf-0a5de0da1c2a.\n",
      "> Parent node text: The claim information:\n",
      "1 species selected from the group consisting of SEQ_ID_NO_1, SEQ_ID_NO_2, ...\n",
      "\n",
      "> Merging 1 nodes into parent node.\n",
      "> Parent node id: cb84878a-41a9-4a73-81a4-09dcd3de3283.\n",
      "> Parent node text: The claim information:\n",
      "1 species selected from the group consisting of SEQ_ID_NO_1, SEQ_ID_NO_2, ...\n",
      "\n",
      "> Merging 2 nodes into parent node.\n",
      "> Parent node id: 9e0020df-15e6-422f-a14d-22e4828ca340.\n",
      "> Parent node text: Figure 5a shows the activity of inhibiting the generation of the inflammatory mediator NO in the ...\n",
      "\n",
      "> Merging 2 nodes into parent node.\n",
      "> Parent node id: 94995560-9434-4a50-93c5-4470bc43dfad.\n",
      "> Parent node text: Clin. Microbiol. Rev. 19:491, 2006). Therefore, many studies have been made to prepare new amphip...\n",
      "\n"
     ]
    },
    {
     "data": {
      "text/markdown": [
       "<b>{'prompt_tokens': 3204, 'completion_tokens': 274, 'total_tokens': 3478}</b>"
      ],
      "text/plain": [
       "<IPython.core.display.Markdown object>"
      ]
     },
     "metadata": {},
     "output_type": "display_data"
    },
    {
     "name": "stdout",
     "output_type": "stream",
     "text": [
      "--------------------------------------------------------------------\n",
      "> Merging 2 nodes into parent node.\n",
      "> Parent node id: ad99fd22-791e-44ce-ba84-a118daf7bf1a.\n",
      "> Parent node text: The claim information:\n",
      "1 species selected from the group consisting of SEQ_ID_NO_1, SEQ_ID_NO_2, ...\n",
      "\n",
      "> Merging 1 nodes into parent node.\n",
      "> Parent node id: a62426fd-52a1-4a6d-a1b8-02fa464b4e3c.\n",
      "> Parent node text: The claim information:\n",
      "1 species selected from the group consisting of SEQ_ID_NO_1, SEQ_ID_NO_2, ...\n",
      "\n",
      "> Merging 2 nodes into parent node.\n",
      "> Parent node id: 951b7477-317b-4578-9d93-5b0d6a55e0da.\n",
      "> Parent node text: Figure 5a shows the activity of inhibiting the generation of the inflammatory mediator NO in the ...\n",
      "\n",
      "> Merging 2 nodes into parent node.\n",
      "> Parent node id: f41971bb-7881-4d83-93ba-76e8ebb904b0.\n",
      "> Parent node text: Clin. Microbiol. Rev. 19:491, 2006). Therefore, many studies have been made to prepare new amphip...\n",
      "\n"
     ]
    },
    {
     "data": {
      "text/markdown": [
       "<b>{'prompt_tokens': 3206, 'completion_tokens': 348, 'total_tokens': 3554}</b>"
      ],
      "text/plain": [
       "<IPython.core.display.Markdown object>"
      ]
     },
     "metadata": {},
     "output_type": "display_data"
    },
    {
     "name": "stdout",
     "output_type": "stream",
     "text": [
      "--------------------------------------------------------------------\n",
      "> Merging 2 nodes into parent node.\n",
      "> Parent node id: 54d866e2-0ff7-4e0d-ae2d-c39f79c24d56.\n",
      "> Parent node text: The claim information:\n",
      "1 species selected from the group consisting of SEQ_ID_NO_1, SEQ_ID_NO_2, ...\n",
      "\n",
      "> Merging 1 nodes into parent node.\n",
      "> Parent node id: 1b9027d9-451a-4fb9-b7e6-88db0e4d431a.\n",
      "> Parent node text: The claim information:\n",
      "1 species selected from the group consisting of SEQ_ID_NO_1, SEQ_ID_NO_2, ...\n",
      "\n",
      "> Merging 2 nodes into parent node.\n",
      "> Parent node id: c701f9de-cd43-480d-932b-5bf018e0c215.\n",
      "> Parent node text: Clin. Microbiol. Rev. 19:491, 2006). Therefore, many studies have been made to prepare new amphip...\n",
      "\n",
      "> Merging 2 nodes into parent node.\n",
      "> Parent node id: 7e3ee1c4-db97-430e-8392-88f8c9cc89f0.\n",
      "> Parent node text: Figure 5a shows the activity of inhibiting the generation of the inflammatory mediator NO in the ...\n",
      "\n"
     ]
    },
    {
     "data": {
      "text/markdown": [
       "<b>{'prompt_tokens': 3200, 'completion_tokens': 219, 'total_tokens': 3419}</b>"
      ],
      "text/plain": [
       "<IPython.core.display.Markdown object>"
      ]
     },
     "metadata": {},
     "output_type": "display_data"
    },
    {
     "name": "stdout",
     "output_type": "stream",
     "text": [
      "--------------------------------------------------------------------\n",
      "> Merging 2 nodes into parent node.\n",
      "> Parent node id: c4009b2e-a4d7-40c3-83ab-6c7271c43fbe.\n",
      "> Parent node text: The claim information:\n",
      "1 species selected from the group consisting of SEQ_ID_NO_1, SEQ_ID_NO_2, ...\n",
      "\n",
      "> Merging 1 nodes into parent node.\n",
      "> Parent node id: d9bb50b1-af89-49e6-ba4e-2bdda4fe9a72.\n",
      "> Parent node text: The claim information:\n",
      "1 species selected from the group consisting of SEQ_ID_NO_1, SEQ_ID_NO_2, ...\n",
      "\n",
      "> Merging 2 nodes into parent node.\n",
      "> Parent node id: d758f5d0-2950-4ba3-97ec-976edacd2f9e.\n",
      "> Parent node text: Figure 5a shows the activity of inhibiting the generation of the inflammatory mediator NO in the ...\n",
      "\n",
      "> Merging 2 nodes into parent node.\n",
      "> Parent node id: cd053dca-d6c4-4911-8d50-ddedc79067ae.\n",
      "> Parent node text: Clin. Microbiol. Rev. 19:491, 2006). Therefore, many studies have been made to prepare new amphip...\n",
      "\n"
     ]
    },
    {
     "data": {
      "text/markdown": [
       "<b>{'prompt_tokens': 3196, 'completion_tokens': 252, 'total_tokens': 3448}</b>"
      ],
      "text/plain": [
       "<IPython.core.display.Markdown object>"
      ]
     },
     "metadata": {},
     "output_type": "display_data"
    },
    {
     "name": "stdout",
     "output_type": "stream",
     "text": [
      "--------------------------------------------------------------------\n",
      "> Merging 2 nodes into parent node.\n",
      "> Parent node id: 620380c5-5530-41e1-9f9c-08b4805cfc68.\n",
      "> Parent node text: The claim information:\n",
      "1 species selected from the group consisting of SEQ_ID_NO_1, SEQ_ID_NO_2, ...\n",
      "\n",
      "> Merging 1 nodes into parent node.\n",
      "> Parent node id: 4199a3ea-e7e5-4596-97f5-6353b51347b8.\n",
      "> Parent node text: The claim information:\n",
      "1 species selected from the group consisting of SEQ_ID_NO_1, SEQ_ID_NO_2, ...\n",
      "\n",
      "> Merging 2 nodes into parent node.\n",
      "> Parent node id: a2914dd9-51ac-494c-8a6d-adb9df374f86.\n",
      "> Parent node text: Clin. Microbiol. Rev. 19:491, 2006). Therefore, many studies have been made to prepare new amphip...\n",
      "\n",
      "> Merging 2 nodes into parent node.\n",
      "> Parent node id: 5d0c6f89-143f-4993-a73d-ec5f50a25548.\n",
      "> Parent node text: Figure 5a shows the activity of inhibiting the generation of the inflammatory mediator NO in the ...\n",
      "\n"
     ]
    },
    {
     "data": {
      "text/markdown": [
       "<b>{'prompt_tokens': 3200, 'completion_tokens': 236, 'total_tokens': 3436}</b>"
      ],
      "text/plain": [
       "<IPython.core.display.Markdown object>"
      ]
     },
     "metadata": {},
     "output_type": "display_data"
    },
    {
     "name": "stdout",
     "output_type": "stream",
     "text": [
      "--------------------------------------------------------------------\n",
      "> Merging 2 nodes into parent node.\n",
      "> Parent node id: 2b8ffd9c-4677-46cb-a2c6-f69b884e9143.\n",
      "> Parent node text: The claim information:\n",
      "1 species selected from the group consisting of SEQ_ID_NO_1, SEQ_ID_NO_2, ...\n",
      "\n",
      "> Merging 1 nodes into parent node.\n",
      "> Parent node id: 70d8ab08-4b59-40ba-8496-a6de93a22187.\n",
      "> Parent node text: The claim information:\n",
      "1 species selected from the group consisting of SEQ_ID_NO_1, SEQ_ID_NO_2, ...\n",
      "\n",
      "> Merging 2 nodes into parent node.\n",
      "> Parent node id: 4f96c27f-87d8-4c7a-884f-151d023d5355.\n",
      "> Parent node text: Figure 5a shows the activity of inhibiting the generation of the inflammatory mediator NO in the ...\n",
      "\n",
      "> Merging 2 nodes into parent node.\n",
      "> Parent node id: ed5a6c45-d320-4e6a-acf2-2ee65b680610.\n",
      "> Parent node text: Clin. Microbiol. Rev. 19:491, 2006). Therefore, many studies have been made to prepare new amphip...\n",
      "\n"
     ]
    },
    {
     "data": {
      "text/markdown": [
       "<b>{'prompt_tokens': 3200, 'completion_tokens': 289, 'total_tokens': 3489}</b>"
      ],
      "text/plain": [
       "<IPython.core.display.Markdown object>"
      ]
     },
     "metadata": {},
     "output_type": "display_data"
    },
    {
     "name": "stdout",
     "output_type": "stream",
     "text": [
      "--------------------------------------------------------------------\n",
      "> Merging 2 nodes into parent node.\n",
      "> Parent node id: 43203e39-3a28-4b80-9508-1b80358c5a78.\n",
      "> Parent node text: The claim information:\n",
      "1 species selected from the group consisting of SEQ_ID_NO_1, SEQ_ID_NO_2, ...\n",
      "\n",
      "> Merging 1 nodes into parent node.\n",
      "> Parent node id: ade53b2a-3127-4d6f-8665-ada5677070f8.\n",
      "> Parent node text: The claim information:\n",
      "1 species selected from the group consisting of SEQ_ID_NO_1, SEQ_ID_NO_2, ...\n",
      "\n",
      "> Merging 2 nodes into parent node.\n",
      "> Parent node id: 15af435a-6f9d-4018-a620-5d53583f7b28.\n",
      "> Parent node text: Clin. Microbiol. Rev. 19:491, 2006). Therefore, many studies have been made to prepare new amphip...\n",
      "\n",
      "> Merging 2 nodes into parent node.\n",
      "> Parent node id: 0a657378-54e1-4aae-a294-cf1b302dd902.\n",
      "> Parent node text: Figure 5a shows the activity of inhibiting the generation of the inflammatory mediator NO in the ...\n",
      "\n"
     ]
    },
    {
     "data": {
      "text/markdown": [
       "<b>{'prompt_tokens': 3198, 'completion_tokens': 355, 'total_tokens': 3553}</b>"
      ],
      "text/plain": [
       "<IPython.core.display.Markdown object>"
      ]
     },
     "metadata": {},
     "output_type": "display_data"
    },
    {
     "name": "stdout",
     "output_type": "stream",
     "text": [
      "--------------------------------------------------------------------\n",
      "> Merging 2 nodes into parent node.\n",
      "> Parent node id: 015eb966-6601-43c5-80b6-0c1d7b8e6eea.\n",
      "> Parent node text: The claim information:\n",
      "1 species selected from the group consisting of SEQ_ID_NO_1, SEQ_ID_NO_2, ...\n",
      "\n",
      "> Merging 1 nodes into parent node.\n",
      "> Parent node id: 34369b4c-9b05-4c74-8b77-a03a409f505a.\n",
      "> Parent node text: The claim information:\n",
      "1 species selected from the group consisting of SEQ_ID_NO_1, SEQ_ID_NO_2, ...\n",
      "\n",
      "> Merging 2 nodes into parent node.\n",
      "> Parent node id: 5bec2f2c-dfda-4616-9c30-c76f5180e0d7.\n",
      "> Parent node text: Clin. Microbiol. Rev. 19:491, 2006). Therefore, many studies have been made to prepare new amphip...\n",
      "\n",
      "> Merging 2 nodes into parent node.\n",
      "> Parent node id: 8b42d017-fcc8-495d-a06f-06efa309c4b3.\n",
      "> Parent node text: Figure 5a shows the activity of inhibiting the generation of the inflammatory mediator NO in the ...\n",
      "\n"
     ]
    },
    {
     "data": {
      "text/markdown": [
       "<b>{'prompt_tokens': 3202, 'completion_tokens': 289, 'total_tokens': 3491}</b>"
      ],
      "text/plain": [
       "<IPython.core.display.Markdown object>"
      ]
     },
     "metadata": {},
     "output_type": "display_data"
    },
    {
     "name": "stdout",
     "output_type": "stream",
     "text": [
      "--------------------------------------------------------------------\n",
      "> Merging 2 nodes into parent node.\n",
      "> Parent node id: 4c71e4d7-ecd5-4e21-9c04-6b334498f0dc.\n",
      "> Parent node text: The claim information:\n",
      "1 species selected from the group consisting of SEQ_ID_NO_1, SEQ_ID_NO_2, ...\n",
      "\n",
      "> Merging 1 nodes into parent node.\n",
      "> Parent node id: 4ec8437a-ab8d-4f27-82d8-58ad2beecc7f.\n",
      "> Parent node text: The claim information:\n",
      "1 species selected from the group consisting of SEQ_ID_NO_1, SEQ_ID_NO_2, ...\n",
      "\n",
      "> Merging 2 nodes into parent node.\n",
      "> Parent node id: 55b8ccb8-184f-4c99-ba8a-173d99e0c921.\n",
      "> Parent node text: Figure 5a shows the activity of inhibiting the generation of the inflammatory mediator NO in the ...\n",
      "\n",
      "> Merging 2 nodes into parent node.\n",
      "> Parent node id: 4ca2b081-0ba6-4b75-9a6d-d5aff6315686.\n",
      "> Parent node text: Clin. Microbiol. Rev. 19:491, 2006). Therefore, many studies have been made to prepare new amphip...\n",
      "\n"
     ]
    },
    {
     "data": {
      "text/markdown": [
       "<b>{'prompt_tokens': 3206, 'completion_tokens': 201, 'total_tokens': 3407}</b>"
      ],
      "text/plain": [
       "<IPython.core.display.Markdown object>"
      ]
     },
     "metadata": {},
     "output_type": "display_data"
    },
    {
     "name": "stdout",
     "output_type": "stream",
     "text": [
      "--------------------------------------------------------------------\n",
      "> Merging 2 nodes into parent node.\n",
      "> Parent node id: 9950b4b8-bc5a-47fd-850d-b82ffc50f1a6.\n",
      "> Parent node text: The claim information:\n",
      "1 species selected from the group consisting of SEQ_ID_NO_1, SEQ_ID_NO_2, ...\n",
      "\n",
      "> Merging 1 nodes into parent node.\n",
      "> Parent node id: 9afb782e-3923-4d52-9f01-2bd3c75af506.\n",
      "> Parent node text: The claim information:\n",
      "1 species selected from the group consisting of SEQ_ID_NO_1, SEQ_ID_NO_2, ...\n",
      "\n",
      "> Merging 2 nodes into parent node.\n",
      "> Parent node id: 77db3eb8-2678-410b-941d-13851530fc28.\n",
      "> Parent node text: Clin. Microbiol. Rev. 19:491, 2006). Therefore, many studies have been made to prepare new amphip...\n",
      "\n",
      "> Merging 2 nodes into parent node.\n",
      "> Parent node id: f8973463-e11e-4c8f-adc4-f94cea0d2fe2.\n",
      "> Parent node text: Figure 5a shows the activity of inhibiting the generation of the inflammatory mediator NO in the ...\n",
      "\n"
     ]
    },
    {
     "data": {
      "text/markdown": [
       "<b>{'prompt_tokens': 3003, 'completion_tokens': 401, 'total_tokens': 3404}</b>"
      ],
      "text/plain": [
       "<IPython.core.display.Markdown object>"
      ]
     },
     "metadata": {},
     "output_type": "display_data"
    },
    {
     "name": "stdout",
     "output_type": "stream",
     "text": [
      "--------------------------------------------------------------------\n",
      "> Merging 2 nodes into parent node.\n",
      "> Parent node id: bf75b46b-10d8-47bf-bb07-c8b13c61f973.\n",
      "> Parent node text: The claim information:\n",
      "The invention claimed is: 1. A peptide having an amino acid sequence of SE...\n",
      "\n",
      "> Merging 2 nodes into parent node.\n",
      "> Parent node id: 72df40d1-cce1-49b6-9d69-81b827cfef6f.\n",
      "> Parent node text: The peptides of SEQ ID NOS: 1 to 10 and 12 are shown in Table 2 below. The term “name” shown in T...\n",
      "\n",
      "> Merging 2 nodes into parent node.\n",
      "> Parent node id: 4ccc976c-779f-4f22-a134-eb5268782205.\n",
      "> Parent node text: Experimental Results and Analysis Results measured by the experimental method are as follows. As ...\n",
      "\n"
     ]
    },
    {
     "data": {
      "text/markdown": [
       "<b>{'prompt_tokens': 3227, 'completion_tokens': 487, 'total_tokens': 3714}</b>"
      ],
      "text/plain": [
       "<IPython.core.display.Markdown object>"
      ]
     },
     "metadata": {},
     "output_type": "display_data"
    },
    {
     "name": "stdout",
     "output_type": "stream",
     "text": [
      "--------------------------------------------------------------------\n",
      "> Merging 2 nodes into parent node.\n",
      "> Parent node id: 1147b447-bca8-4163-a682-09f28405a25a.\n",
      "> Parent node text: The claim information:\n",
      "The invention claimed is: 1. A peptide having an amino acid sequence of SE...\n",
      "\n",
      "> Merging 2 nodes into parent node.\n",
      "> Parent node id: cf55c030-33b9-4fd3-a183-45e8940c4995.\n",
      "> Parent node text: 40 cycles of PCR were performed under the following conditions: at 95° C. for 15 seconds, at 55° ...\n",
      "\n",
      "> Merging 2 nodes into parent node.\n",
      "> Parent node id: 6da4a70e-661e-4757-9d45-0065f0df85ca.\n",
      "> Parent node text: The peptides of SEQ ID NOS: 1 to 10 and 12 are shown in Table 2 below. The term “name” shown in T...\n",
      "\n"
     ]
    },
    {
     "data": {
      "text/markdown": [
       "<b>{'prompt_tokens': 3172, 'completion_tokens': 382, 'total_tokens': 3554}</b>"
      ],
      "text/plain": [
       "<IPython.core.display.Markdown object>"
      ]
     },
     "metadata": {},
     "output_type": "display_data"
    },
    {
     "name": "stdout",
     "output_type": "stream",
     "text": [
      "--------------------------------------------------------------------\n",
      "> Merging 2 nodes into parent node.\n",
      "> Parent node id: cf219387-46d4-436a-b0b9-ddab65421c37.\n",
      "> Parent node text: The claim information:\n",
      "The invention claimed is: 1. A peptide having an amino acid sequence of SE...\n",
      "\n",
      "> Merging 2 nodes into parent node.\n",
      "> Parent node id: 592a7fd6-94fe-4f24-b2bc-b9dd0b4a1377.\n",
      "> Parent node text: Experimental Results and Analysis Results measured by the experimental method are as follows. As ...\n",
      "\n",
      "> Merging 2 nodes into parent node.\n",
      "> Parent node id: 96ccb93a-205f-4160-a0c6-dd786ea4d225.\n",
      "> Parent node text: The peptides of SEQ ID NOS: 1 to 10 and 12 are shown in Table 2 below. The term “name” shown in T...\n",
      "\n"
     ]
    },
    {
     "data": {
      "text/markdown": [
       "<b>{'prompt_tokens': 3231, 'completion_tokens': 307, 'total_tokens': 3538}</b>"
      ],
      "text/plain": [
       "<IPython.core.display.Markdown object>"
      ]
     },
     "metadata": {},
     "output_type": "display_data"
    },
    {
     "name": "stdout",
     "output_type": "stream",
     "text": [
      "--------------------------------------------------------------------\n",
      "> Merging 2 nodes into parent node.\n",
      "> Parent node id: 8a1d1433-a1d2-4c26-b967-99eaf821d881.\n",
      "> Parent node text: The claim information:\n",
      "The invention claimed is: 1. A peptide having an amino acid sequence of SE...\n",
      "\n",
      "> Merging 2 nodes into parent node.\n",
      "> Parent node id: 128ba7c7-8ee4-49cd-878a-61c618e2c4e6.\n",
      "> Parent node text: The peptides of SEQ ID NOS: 1 to 10 and 12 are shown in Table 2 below. The term “name” shown in T...\n",
      "\n",
      "> Merging 2 nodes into parent node.\n",
      "> Parent node id: a8df5916-f6f9-4c8f-9369-0729bfe955fe.\n",
      "> Parent node text: 40 cycles of PCR were performed under the following conditions: at 95° C. for 15 seconds, at 55° ...\n",
      "\n"
     ]
    },
    {
     "data": {
      "text/markdown": [
       "<b>{'prompt_tokens': 3172, 'completion_tokens': 461, 'total_tokens': 3633}</b>"
      ],
      "text/plain": [
       "<IPython.core.display.Markdown object>"
      ]
     },
     "metadata": {},
     "output_type": "display_data"
    },
    {
     "name": "stdout",
     "output_type": "stream",
     "text": [
      "--------------------------------------------------------------------\n",
      "> Merging 2 nodes into parent node.\n",
      "> Parent node id: 57b06516-83eb-409a-bcbd-a5982f5e34d1.\n",
      "> Parent node text: The claim information:\n",
      "The invention claimed is: 1. A peptide having an amino acid sequence of SE...\n",
      "\n",
      "> Merging 2 nodes into parent node.\n",
      "> Parent node id: 2bdc0b23-efd4-42e8-99b3-f56723bc7456.\n",
      "> Parent node text: The peptides of SEQ ID NOS: 1 to 10 and 12 are shown in Table 2 below. The term “name” shown in T...\n",
      "\n"
     ]
    },
    {
     "data": {
      "text/markdown": [
       "<b>{'prompt_tokens': 3187, 'completion_tokens': 305, 'total_tokens': 3492}</b>"
      ],
      "text/plain": [
       "<IPython.core.display.Markdown object>"
      ]
     },
     "metadata": {},
     "output_type": "display_data"
    },
    {
     "name": "stdout",
     "output_type": "stream",
     "text": [
      "--------------------------------------------------------------------\n",
      "> Merging 2 nodes into parent node.\n",
      "> Parent node id: 99157ce1-9bca-4023-9f74-c25c1f0fe0b4.\n",
      "> Parent node text: The claim information:\n",
      "The invention claimed is: 1. A peptide having an amino acid sequence of SE...\n",
      "\n",
      "> Merging 2 nodes into parent node.\n",
      "> Parent node id: 0c2c5200-23de-4351-99d0-28da00fbf888.\n",
      "> Parent node text: The peptides of SEQ ID NOS: 1 to 10 and 12 are shown in Table 2 below. The term “name” shown in T...\n",
      "\n",
      "> Merging 2 nodes into parent node.\n",
      "> Parent node id: 0105f9c2-7d03-442e-acff-37549ff56be2.\n",
      "> Parent node text: 40 cycles of PCR were performed under the following conditions: at 95° C. for 15 seconds, at 55° ...\n",
      "\n"
     ]
    },
    {
     "data": {
      "text/markdown": [
       "<b>{'prompt_tokens': 3174, 'completion_tokens': 427, 'total_tokens': 3601}</b>"
      ],
      "text/plain": [
       "<IPython.core.display.Markdown object>"
      ]
     },
     "metadata": {},
     "output_type": "display_data"
    },
    {
     "name": "stdout",
     "output_type": "stream",
     "text": [
      "--------------------------------------------------------------------\n",
      "> Merging 2 nodes into parent node.\n",
      "> Parent node id: e90178b5-1896-4acf-9d82-5ea97bb8bd6f.\n",
      "> Parent node text: The claim information:\n",
      "The invention claimed is: 1. A peptide having an amino acid sequence of SE...\n",
      "\n",
      "> Merging 2 nodes into parent node.\n",
      "> Parent node id: bcf8038e-5228-4cc9-a793-97d4b99b63fa.\n",
      "> Parent node text: The peptides of SEQ ID NOS: 1 to 10 and 12 are shown in Table 2 below. The term “name” shown in T...\n",
      "\n",
      "> Merging 2 nodes into parent node.\n",
      "> Parent node id: 25474d83-14be-443a-bd27-545f31663f4e.\n",
      "> Parent node text: 40 cycles of PCR were performed under the following conditions: at 95° C. for 15 seconds, at 55° ...\n",
      "\n"
     ]
    },
    {
     "data": {
      "text/markdown": [
       "<b>{'prompt_tokens': 3172, 'completion_tokens': 290, 'total_tokens': 3462}</b>"
      ],
      "text/plain": [
       "<IPython.core.display.Markdown object>"
      ]
     },
     "metadata": {},
     "output_type": "display_data"
    },
    {
     "name": "stdout",
     "output_type": "stream",
     "text": [
      "--------------------------------------------------------------------\n",
      "> Merging 2 nodes into parent node.\n",
      "> Parent node id: f67282ea-119b-46ab-b581-6abc15576480.\n",
      "> Parent node text: The claim information:\n",
      "The invention claimed is: 1. A peptide having an amino acid sequence of SE...\n",
      "\n",
      "> Merging 2 nodes into parent node.\n",
      "> Parent node id: 8fbf3bf4-825b-42e3-a103-eaa7794e19a3.\n",
      "> Parent node text: The peptides of SEQ ID NOS: 1 to 10 and 12 are shown in Table 2 below. The term “name” shown in T...\n",
      "\n",
      "> Merging 2 nodes into parent node.\n",
      "> Parent node id: 17b8b4ab-53d5-420e-b126-05f0a3fba5f1.\n",
      "> Parent node text: Experimental Results and Analysis Results measured by the experimental method are as follows. As ...\n",
      "\n"
     ]
    },
    {
     "data": {
      "text/markdown": [
       "<b>{'prompt_tokens': 3231, 'completion_tokens': 220, 'total_tokens': 3451}</b>"
      ],
      "text/plain": [
       "<IPython.core.display.Markdown object>"
      ]
     },
     "metadata": {},
     "output_type": "display_data"
    },
    {
     "name": "stdout",
     "output_type": "stream",
     "text": [
      "--------------------------------------------------------------------\n",
      "> Merging 2 nodes into parent node.\n",
      "> Parent node id: 16de3a99-ff69-4d37-b72f-76b53206abed.\n",
      "> Parent node text: The claim information:\n",
      "The invention claimed is: 1. A peptide having an amino acid sequence of SE...\n",
      "\n",
      "> Merging 2 nodes into parent node.\n",
      "> Parent node id: 7f699331-6fe0-4bc4-baf5-d2f8b2e70dba.\n",
      "> Parent node text: The peptides of SEQ ID NOS: 1 to 10 and 12 are shown in Table 2 below. The term “name” shown in T...\n",
      "\n"
     ]
    },
    {
     "data": {
      "text/markdown": [
       "<b>{'prompt_tokens': 3187, 'completion_tokens': 459, 'total_tokens': 3646}</b>"
      ],
      "text/plain": [
       "<IPython.core.display.Markdown object>"
      ]
     },
     "metadata": {},
     "output_type": "display_data"
    },
    {
     "name": "stdout",
     "output_type": "stream",
     "text": [
      "--------------------------------------------------------------------\n",
      "> Merging 2 nodes into parent node.\n",
      "> Parent node id: 45dce374-8542-44ac-8b3b-b0c58dd2be21.\n",
      "> Parent node text: The claim information:\n",
      "The invention claimed is: 1. A peptide having an amino acid sequence of SE...\n",
      "\n",
      "> Merging 2 nodes into parent node.\n",
      "> Parent node id: 6aacda5b-aab9-4a05-a8e8-d74b600e61cb.\n",
      "> Parent node text: The peptides of SEQ ID NOS: 1 to 10 and 12 are shown in Table 2 below. The term “name” shown in T...\n",
      "\n"
     ]
    },
    {
     "data": {
      "text/markdown": [
       "<b>{'prompt_tokens': 3186, 'completion_tokens': 404, 'total_tokens': 3590}</b>"
      ],
      "text/plain": [
       "<IPython.core.display.Markdown object>"
      ]
     },
     "metadata": {},
     "output_type": "display_data"
    },
    {
     "name": "stdout",
     "output_type": "stream",
     "text": [
      "--------------------------------------------------------------------\n",
      "> Merging 2 nodes into parent node.\n",
      "> Parent node id: d32a856d-beb8-484d-a7df-abed5639ba21.\n",
      "> Parent node text: The claim information:\n",
      "The invention claimed is: 1. A peptide having an amino acid sequence of SE...\n",
      "\n",
      "> Merging 2 nodes into parent node.\n",
      "> Parent node id: ec3a3eac-9563-442e-aa70-85aa0aafd889.\n",
      "> Parent node text: The peptides of SEQ ID NOS: 1 to 10 and 12 are shown in Table 2 below. The term “name” shown in T...\n",
      "\n",
      "> Merging 2 nodes into parent node.\n",
      "> Parent node id: 0d56efac-a824-4b37-bf94-53e52feee889.\n",
      "> Parent node text: 40 cycles of PCR were performed under the following conditions: at 95° C. for 15 seconds, at 55° ...\n",
      "\n"
     ]
    },
    {
     "data": {
      "text/markdown": [
       "<b>{'prompt_tokens': 3172, 'completion_tokens': 379, 'total_tokens': 3551}</b>"
      ],
      "text/plain": [
       "<IPython.core.display.Markdown object>"
      ]
     },
     "metadata": {},
     "output_type": "display_data"
    },
    {
     "name": "stdout",
     "output_type": "stream",
     "text": [
      "--------------------------------------------------------------------\n",
      "> Merging 2 nodes into parent node.\n",
      "> Parent node id: f76b8966-73eb-48c8-946b-45e679e23c09.\n",
      "> Parent node text: The claim information:\n",
      "The invention claimed is: 1. A peptide having an amino acid sequence of SE...\n",
      "\n",
      "> Merging 2 nodes into parent node.\n",
      "> Parent node id: cf7b08a0-5b40-463b-9fdf-5ed17336b9bb.\n",
      "> Parent node text: 40 cycles of PCR were performed under the following conditions: at 95° C. for 15 seconds, at 55° ...\n",
      "\n",
      "> Merging 2 nodes into parent node.\n",
      "> Parent node id: 8c7ecf35-4c8a-46e7-b117-6cb23bc2d604.\n",
      "> Parent node text: The peptides of SEQ ID NOS: 1 to 10 and 12 are shown in Table 2 below. The term “name” shown in T...\n",
      "\n"
     ]
    },
    {
     "data": {
      "text/markdown": [
       "<b>{'prompt_tokens': 3172, 'completion_tokens': 293, 'total_tokens': 3465}</b>"
      ],
      "text/plain": [
       "<IPython.core.display.Markdown object>"
      ]
     },
     "metadata": {},
     "output_type": "display_data"
    },
    {
     "name": "stdout",
     "output_type": "stream",
     "text": [
      "--------------------------------------------------------------------\n",
      "> Merging 2 nodes into parent node.\n",
      "> Parent node id: 34356a1f-7213-4f71-b6f6-16cacf2cecc4.\n",
      "> Parent node text: The claim information:\n",
      "The invention claimed is: 1. A method for treating an inflammatory bowel d...\n",
      "\n",
      "> Merging 1 nodes into parent node.\n",
      "> Parent node id: 14ae3637-d5b0-456c-86c0-eb4bc1a40bac.\n",
      "> Parent node text: The claim information:\n",
      "The invention claimed is: 1. A method for treating an inflammatory bowel d...\n",
      "\n",
      "> Merging 2 nodes into parent node.\n",
      "> Parent node id: a7694ec9-903e-41e9-b63c-ddc181cb6bee.\n",
      "> Parent node text: Peptide 7 NTFLQSTINRTIGVL Peptide 8 AAVYNLGVAPTKNTVKETEVKFTV Peptide 9 NYSVIAENEMTYVNGGANFIDAIGAV...\n",
      "\n",
      "> Merging 1 nodes into parent node.\n",
      "> Parent node id: ca01b1d4-3980-416d-ad52-7df895fa8cf9.\n",
      "> Parent node text: Strain SL3/3 SEQ_ID_NO_3 MMMPANFSAVSENEMTYVMGGSVADYLAPAMGAAQWQNFHKNLITIV GNKYVQGFLDNTVGAVFSGTWTPG...\n",
      "\n"
     ]
    },
    {
     "data": {
      "text/markdown": [
       "<b>{'prompt_tokens': 2993, 'completion_tokens': 490, 'total_tokens': 3483}</b>"
      ],
      "text/plain": [
       "<IPython.core.display.Markdown object>"
      ]
     },
     "metadata": {},
     "output_type": "display_data"
    },
    {
     "name": "stdout",
     "output_type": "stream",
     "text": [
      "--------------------------------------------------------------------\n",
      "> Merging 2 nodes into parent node.\n",
      "> Parent node id: 38cfa566-df1a-4239-9141-f7676b0839ed.\n",
      "> Parent node text: The claim information:\n",
      "The invention claimed is: 1. A method for treating an inflammatory bowel d...\n",
      "\n",
      "> Merging 1 nodes into parent node.\n",
      "> Parent node id: 3335473f-d442-46fc-a704-e5c339e62f43.\n",
      "> Parent node text: The claim information:\n",
      "The invention claimed is: 1. A method for treating an inflammatory bowel d...\n",
      "\n",
      "> Merging 1 nodes into parent node.\n",
      "> Parent node id: 9a3fff2b-7fb9-45fe-908e-5a0cc9c422b7.\n",
      "> Parent node text: Strain SL3/3 SEQ_ID_NO_3 MMMPANFSAVSENEMTYVMGGSVADYLAPAMGAAQWQNFHKNLITIV GNKYVQGFLDNTVGAVFSGTWTPG...\n",
      "\n"
     ]
    },
    {
     "data": {
      "text/markdown": [
       "<b>{'prompt_tokens': 3037, 'completion_tokens': 397, 'total_tokens': 3434}</b>"
      ],
      "text/plain": [
       "<IPython.core.display.Markdown object>"
      ]
     },
     "metadata": {},
     "output_type": "display_data"
    },
    {
     "name": "stdout",
     "output_type": "stream",
     "text": [
      "--------------------------------------------------------------------\n",
      "> Merging 2 nodes into parent node.\n",
      "> Parent node id: fbef6cb7-3e02-4ecc-8638-9834bdcd9106.\n",
      "> Parent node text: The claim information:\n",
      "The invention claimed is: 1. A method for treating an inflammatory bowel d...\n",
      "\n",
      "> Merging 1 nodes into parent node.\n",
      "> Parent node id: 93d28ba8-de41-4034-95b7-5a04bdb5752b.\n",
      "> Parent node text: The claim information:\n",
      "The invention claimed is: 1. A method for treating an inflammatory bowel d...\n",
      "\n",
      "> Merging 1 nodes into parent node.\n",
      "> Parent node id: 2bf11595-6243-4496-9b73-7c5d9abb3499.\n",
      "> Parent node text: SEQ_ID_NO_32 MMMPANX1X2 X3X4X5X6X7X8X9X10 X11VX12GGX13X14X15 X16X17X18X19X20 X21X22X23X24X25 X26X...\n",
      "\n",
      "> Merging 2 nodes into parent node.\n",
      "> Parent node id: b1e0f5ed-9853-41ab-99a1-39c6845b4b35.\n",
      "> Parent node text: Peptide 7 NTFLQSTINRTIGVL Peptide 8 AAVYNLGVAPTKNTVKETEVKFTV Peptide 9 NYSVIAENEMTYVNGGANFIDAIGAV...\n",
      "\n",
      "> Merging 1 nodes into parent node.\n",
      "> Parent node id: ec0d2f93-1b32-4c48-b89a-8f4774fba49c.\n",
      "> Parent node text: Strain SL3/3 SEQ_ID_NO_3 MMMPANFSAVSENEMTYVMGGSVADYLAPAMGAAQWQNFHKNLITIV GNKYVQGFLDNTVGAVFSGTWTPG...\n",
      "\n"
     ]
    },
    {
     "data": {
      "text/markdown": [
       "<b>{'prompt_tokens': 2945, 'completion_tokens': 251, 'total_tokens': 3196}</b>"
      ],
      "text/plain": [
       "<IPython.core.display.Markdown object>"
      ]
     },
     "metadata": {},
     "output_type": "display_data"
    },
    {
     "name": "stdout",
     "output_type": "stream",
     "text": [
      "--------------------------------------------------------------------\n",
      "> Merging 2 nodes into parent node.\n",
      "> Parent node id: bee682fd-39c2-469d-830b-2aa3425ec7fc.\n",
      "> Parent node text: The claim information:\n",
      "The invention claimed is: 1. A method for treating an inflammatory bowel d...\n",
      "\n",
      "> Merging 1 nodes into parent node.\n",
      "> Parent node id: 7b6a9cf7-5831-4ea0-9234-6bc68eb9c054.\n",
      "> Parent node text: The claim information:\n",
      "The invention claimed is: 1. A method for treating an inflammatory bowel d...\n",
      "\n",
      "> Merging 2 nodes into parent node.\n",
      "> Parent node id: c4f74800-30d2-497d-98e8-e39a592b9ee8.\n",
      "> Parent node text: Peptide 7 NTFLQSTINRTIGVL Peptide 8 AAVYNLGVAPTKNTVKETEVKFTV Peptide 9 NYSVIAENEMTYVNGGANFIDAIGAV...\n",
      "\n",
      "> Merging 1 nodes into parent node.\n",
      "> Parent node id: 1f2e17d4-93d3-4d84-8e32-55b63fef22d6.\n",
      "> Parent node text: Strain SL3/3 SEQ_ID_NO_3 MMMPANFSAVSENEMTYVMGGSVADYLAPAMGAAQWQNFHKNLITIV GNKYVQGFLDNTVGAVFSGTWTPG...\n",
      "\n",
      "> Merging 1 nodes into parent node.\n",
      "> Parent node id: 845a3d4a-2459-43b8-9244-afba0a2b5b22.\n",
      "> Parent node text: SEQ_ID_NO_32 MMMPANX1X2 X3X4X5X6X7X8X9X10 X11VX12GGX13X14X15 X16X17X18X19X20 X21X22X23X24X25 X26X...\n",
      "\n"
     ]
    },
    {
     "data": {
      "text/markdown": [
       "<b>{'prompt_tokens': 3000, 'completion_tokens': 656, 'total_tokens': 3656}</b>"
      ],
      "text/plain": [
       "<IPython.core.display.Markdown object>"
      ]
     },
     "metadata": {},
     "output_type": "display_data"
    },
    {
     "name": "stdout",
     "output_type": "stream",
     "text": [
      "--------------------------------------------------------------------\n",
      "> Merging 2 nodes into parent node.\n",
      "> Parent node id: 3c73d2c2-1e81-498a-a845-3e050761b0c6.\n",
      "> Parent node text: The claim information:\n",
      "The invention claimed is: 1. A method for treating an inflammatory bowel d...\n",
      "\n",
      "> Merging 1 nodes into parent node.\n",
      "> Parent node id: 8c4e333e-69b3-431e-b0b3-4855ecb12f7c.\n",
      "> Parent node text: The claim information:\n",
      "The invention claimed is: 1. A method for treating an inflammatory bowel d...\n",
      "\n",
      "> Merging 1 nodes into parent node.\n",
      "> Parent node id: ab223169-f311-4611-9266-ebc76ebf7032.\n",
      "> Parent node text: Strain SL3/3 SEQ_ID_NO_3 MMMPANFSAVSENEMTYVMGGSVADYLAPAMGAAQWQNFHKNLITIV GNKYVQGFLDNTVGAVFSGTWTPG...\n",
      "\n",
      "> Merging 1 nodes into parent node.\n",
      "> Parent node id: 3243bfb4-cf1f-4c33-99f0-ecded616b508.\n",
      "> Parent node text: SEQ_ID_NO_32 MMMPANX1X2 X3X4X5X6X7X8X9X10 X11VX12GGX13X14X15 X16X17X18X19X20 X21X22X23X24X25 X26X...\n",
      "\n",
      "> Merging 2 nodes into parent node.\n",
      "> Parent node id: 8df5100e-4433-4a46-b408-81a891117dbc.\n",
      "> Parent node text: Peptide 7 NTFLQSTINRTIGVL Peptide 8 AAVYNLGVAPTKNTVKETEVKFTV Peptide 9 NYSVIAENEMTYVNGGANFIDAIGAV...\n",
      "\n"
     ]
    },
    {
     "data": {
      "text/markdown": [
       "<b>{'prompt_tokens': 3009, 'completion_tokens': 600, 'total_tokens': 3609}</b>"
      ],
      "text/plain": [
       "<IPython.core.display.Markdown object>"
      ]
     },
     "metadata": {},
     "output_type": "display_data"
    },
    {
     "name": "stdout",
     "output_type": "stream",
     "text": [
      "--------------------------------------------------------------------\n",
      "> Merging 2 nodes into parent node.\n",
      "> Parent node id: 412808be-942e-432b-8e5d-db3fbfb1ebf1.\n",
      "> Parent node text: The claim information:\n",
      "The invention claimed is: 1. A method for treating an inflammatory bowel d...\n",
      "\n",
      "> Merging 1 nodes into parent node.\n",
      "> Parent node id: 1844311a-9f49-45eb-af66-2dcd21834722.\n",
      "> Parent node text: The claim information:\n",
      "The invention claimed is: 1. A method for treating an inflammatory bowel d...\n",
      "\n",
      "> Merging 1 nodes into parent node.\n",
      "> Parent node id: 7b03c003-d56b-46fc-867d-1b3c2e81656b.\n",
      "> Parent node text: Strain SL3/3 SEQ_ID_NO_3 MMMPANFSAVSENEMTYVMGGSVADYLAPAMGAAQWQNFHKNLITIV GNKYVQGFLDNTVGAVFSGTWTPG...\n",
      "\n",
      "> Merging 2 nodes into parent node.\n",
      "> Parent node id: 829cadf2-c825-4ebe-8cc2-8f0914d999ba.\n",
      "> Parent node text: Peptide 7 NTFLQSTINRTIGVL Peptide 8 AAVYNLGVAPTKNTVKETEVKFTV Peptide 9 NYSVIAENEMTYVNGGANFIDAIGAV...\n",
      "\n"
     ]
    },
    {
     "data": {
      "text/markdown": [
       "<b>{'prompt_tokens': 2874, 'completion_tokens': 233, 'total_tokens': 3107}</b>"
      ],
      "text/plain": [
       "<IPython.core.display.Markdown object>"
      ]
     },
     "metadata": {},
     "output_type": "display_data"
    },
    {
     "name": "stdout",
     "output_type": "stream",
     "text": [
      "--------------------------------------------------------------------\n",
      "> Merging 2 nodes into parent node.\n",
      "> Parent node id: 9d598ded-edd3-49cb-bb4a-83c149432cb0.\n",
      "> Parent node text: The claim information:\n",
      "The invention claimed is: 1. A method for treating an inflammatory bowel d...\n",
      "\n",
      "> Merging 1 nodes into parent node.\n",
      "> Parent node id: 8ae629b6-2845-4b05-a3ed-b8a06c803518.\n",
      "> Parent node text: The claim information:\n",
      "The invention claimed is: 1. A method for treating an inflammatory bowel d...\n",
      "\n",
      "> Merging 1 nodes into parent node.\n",
      "> Parent node id: de708bdc-f7cd-42f4-a97f-4d2e4df2ed5a.\n",
      "> Parent node text: Strain SL3/3 SEQ_ID_NO_3 MMMPANFSAVSENEMTYVMGGSVADYLAPAMGAAQWQNFHKNLITIV GNKYVQGFLDNTVGAVFSGTWTPG...\n",
      "\n",
      "> Merging 1 nodes into parent node.\n",
      "> Parent node id: 206f1acf-9377-4b64-9318-a5777f2190e9.\n",
      "> Parent node text: SEQ_ID_NO_32 MMMPANX1X2 X3X4X5X6X7X8X9X10 X11VX12GGX13X14X15 X16X17X18X19X20 X21X22X23X24X25 X26X...\n",
      "\n"
     ]
    },
    {
     "data": {
      "text/markdown": [
       "<b>{'prompt_tokens': 2910, 'completion_tokens': 236, 'total_tokens': 3146}</b>"
      ],
      "text/plain": [
       "<IPython.core.display.Markdown object>"
      ]
     },
     "metadata": {},
     "output_type": "display_data"
    },
    {
     "name": "stdout",
     "output_type": "stream",
     "text": [
      "--------------------------------------------------------------------\n",
      "> Merging 2 nodes into parent node.\n",
      "> Parent node id: 3ec1a77b-e771-499d-b50a-30ec5a347a35.\n",
      "> Parent node text: The claim information:\n",
      "The invention claimed is: 1. A method for treating an inflammatory bowel d...\n",
      "\n",
      "> Merging 1 nodes into parent node.\n",
      "> Parent node id: d0d7af91-a556-411a-8cf4-f3aec36c629f.\n",
      "> Parent node text: The claim information:\n",
      "The invention claimed is: 1. A method for treating an inflammatory bowel d...\n",
      "\n",
      "> Merging 2 nodes into parent node.\n",
      "> Parent node id: 79d14ca3-07de-4e82-806c-2c1715df03d7.\n",
      "> Parent node text: Peptide 7 NTFLQSTINRTIGVL Peptide 8 AAVYNLGVAPTKNTVKETEVKFTV Peptide 9 NYSVIAENEMTYVNGGANFIDAIGAV...\n",
      "\n",
      "> Merging 1 nodes into parent node.\n",
      "> Parent node id: c6f02222-fe27-4b83-9791-54f53f327293.\n",
      "> Parent node text: Strain SL3/3 SEQ_ID_NO_3 MMMPANFSAVSENEMTYVMGGSVADYLAPAMGAAQWQNFHKNLITIV GNKYVQGFLDNTVGAVFSGTWTPG...\n",
      "\n"
     ]
    },
    {
     "data": {
      "text/markdown": [
       "<b>{'prompt_tokens': 2870, 'completion_tokens': 514, 'total_tokens': 3384}</b>"
      ],
      "text/plain": [
       "<IPython.core.display.Markdown object>"
      ]
     },
     "metadata": {},
     "output_type": "display_data"
    },
    {
     "name": "stdout",
     "output_type": "stream",
     "text": [
      "--------------------------------------------------------------------\n",
      "> Merging 2 nodes into parent node.\n",
      "> Parent node id: 5018d59a-f139-41b2-bcd1-d348cb974045.\n",
      "> Parent node text: The claim information:\n",
      "The invention claimed is: 1. A method for treating an inflammatory bowel d...\n",
      "\n",
      "> Merging 1 nodes into parent node.\n",
      "> Parent node id: 0294c950-e312-4539-a1aa-bc60e455930a.\n",
      "> Parent node text: The claim information:\n",
      "The invention claimed is: 1. A method for treating an inflammatory bowel d...\n",
      "\n",
      "> Merging 1 nodes into parent node.\n",
      "> Parent node id: a901ade5-8a74-4851-973d-003f3d551b40.\n",
      "> Parent node text: SEQ_ID_NO_32 MMMPANX1X2 X3X4X5X6X7X8X9X10 X11VX12GGX13X14X15 X16X17X18X19X20 X21X22X23X24X25 X26X...\n",
      "\n",
      "> Merging 1 nodes into parent node.\n",
      "> Parent node id: 109d3967-858b-4b27-9b77-9786b040d200.\n",
      "> Parent node text: Strain SL3/3 SEQ_ID_NO_3 MMMPANFSAVSENEMTYVMGGSVADYLAPAMGAAQWQNFHKNLITIV GNKYVQGFLDNTVGAVFSGTWTPG...\n",
      "\n",
      "> Merging 2 nodes into parent node.\n",
      "> Parent node id: bc239a0a-b762-4770-b8ce-e532fe95cc50.\n",
      "> Parent node text: V; X115 = I, V, G; X116 = N, T SEQ_ID_NO_34 FSGNTTWKEVGNIGKNLFGTNVKGNPIEKNNFGDYAMNALGIA SEQ_ID_NO...\n",
      "\n"
     ]
    },
    {
     "data": {
      "text/markdown": [
       "<b>{'prompt_tokens': 3046, 'completion_tokens': 615, 'total_tokens': 3661}</b>"
      ],
      "text/plain": [
       "<IPython.core.display.Markdown object>"
      ]
     },
     "metadata": {},
     "output_type": "display_data"
    },
    {
     "name": "stdout",
     "output_type": "stream",
     "text": [
      "--------------------------------------------------------------------\n",
      "> Merging 2 nodes into parent node.\n",
      "> Parent node id: 37ae62da-b716-44aa-8a89-e434f166cccd.\n",
      "> Parent node text: The claim information:\n",
      "The invention claimed is: 1. A method for treating an inflammatory bowel d...\n",
      "\n",
      "> Merging 1 nodes into parent node.\n",
      "> Parent node id: 01b6d2ef-6c75-420b-b45f-b003a4a3ead1.\n",
      "> Parent node text: The claim information:\n",
      "The invention claimed is: 1. A method for treating an inflammatory bowel d...\n",
      "\n",
      "> Merging 1 nodes into parent node.\n",
      "> Parent node id: f18bc5dd-95ac-4539-8ec3-56bcbd42f661.\n",
      "> Parent node text: Strain SL3/3 SEQ_ID_NO_3 MMMPANFSAVSENEMTYVMGGSVADYLAPAMGAAQWQNFHKNLITIV GNKYVQGFLDNTVGAVFSGTWTPG...\n",
      "\n",
      "> Merging 2 nodes into parent node.\n",
      "> Parent node id: cf62f143-3307-4b36-9292-4bcc1e5d6a80.\n",
      "> Parent node text: Peptide 7 NTFLQSTINRTIGVL Peptide 8 AAVYNLGVAPTKNTVKETEVKFTV Peptide 9 NYSVIAENEMTYVNGGANFIDAIGAV...\n",
      "\n"
     ]
    },
    {
     "data": {
      "text/markdown": [
       "<b>{'prompt_tokens': 3047, 'completion_tokens': 282, 'total_tokens': 3329}</b>"
      ],
      "text/plain": [
       "<IPython.core.display.Markdown object>"
      ]
     },
     "metadata": {},
     "output_type": "display_data"
    },
    {
     "name": "stdout",
     "output_type": "stream",
     "text": [
      "--------------------------------------------------------------------\n",
      "> Merging 2 nodes into parent node.\n",
      "> Parent node id: 2b1bccc4-0907-46c4-8cc9-5a2e7944e70b.\n",
      "> Parent node text: The claim information:\n",
      "The invention claimed is: 1. A method for treating an inflammatory bowel d...\n",
      "\n",
      "> Merging 1 nodes into parent node.\n",
      "> Parent node id: fedf209e-80cf-4a22-bec8-e36f9fc8f147.\n",
      "> Parent node text: The claim information:\n",
      "The invention claimed is: 1. A method for treating an inflammatory bowel d...\n",
      "\n",
      "> Merging 1 nodes into parent node.\n",
      "> Parent node id: 2174c7cd-f227-4b48-931e-20c2f40ca36a.\n",
      "> Parent node text: SEQ_ID_NO_32 MMMPANX1X2 X3X4X5X6X7X8X9X10 X11VX12GGX13X14X15 X16X17X18X19X20 X21X22X23X24X25 X26X...\n",
      "\n"
     ]
    },
    {
     "data": {
      "text/markdown": [
       "<b>{'prompt_tokens': 3135, 'completion_tokens': 382, 'total_tokens': 3517}</b>"
      ],
      "text/plain": [
       "<IPython.core.display.Markdown object>"
      ]
     },
     "metadata": {},
     "output_type": "display_data"
    },
    {
     "name": "stdout",
     "output_type": "stream",
     "text": [
      "--------------------------------------------------------------------\n",
      "> Merging 2 nodes into parent node.\n",
      "> Parent node id: 49fc884c-f968-4e04-8b95-85843f96a342.\n",
      "> Parent node text: The claim information:\n",
      "The invention claimed is: 1. A method for treating an inflammatory bowel d...\n",
      "\n",
      "> Merging 1 nodes into parent node.\n",
      "> Parent node id: 84ad2aac-3b93-4acf-b33d-5699568957e7.\n",
      "> Parent node text: The claim information:\n",
      "The invention claimed is: 1. A method for treating an inflammatory bowel d...\n",
      "\n",
      "> Merging 1 nodes into parent node.\n",
      "> Parent node id: a3062d33-0853-437a-a48e-bfdee405c293.\n",
      "> Parent node text: Strain SL3/3 SEQ_ID_NO_3 MMMPANFSAVSENEMTYVMGGSVADYLAPAMGAAQWQNFHKNLITIV GNKYVQGFLDNTVGAVFSGTWTPG...\n",
      "\n",
      "> Merging 2 nodes into parent node.\n",
      "> Parent node id: be5c14a8-09a2-4ea3-861d-ab85a0721646.\n",
      "> Parent node text: Peptide 7 NTFLQSTINRTIGVL Peptide 8 AAVYNLGVAPTKNTVKETEVKFTV Peptide 9 NYSVIAENEMTYVNGGANFIDAIGAV...\n",
      "\n"
     ]
    },
    {
     "data": {
      "text/markdown": [
       "<b>{'prompt_tokens': 3071, 'completion_tokens': 578, 'total_tokens': 3649}</b>"
      ],
      "text/plain": [
       "<IPython.core.display.Markdown object>"
      ]
     },
     "metadata": {},
     "output_type": "display_data"
    },
    {
     "name": "stdout",
     "output_type": "stream",
     "text": [
      "--------------------------------------------------------------------\n",
      "> Merging 2 nodes into parent node.\n",
      "> Parent node id: afb0c65e-eebb-451b-a223-760c56459df6.\n",
      "> Parent node text: The claim information:\n",
      "The invention claimed is: 1. A method for treating an inflammatory bowel d...\n",
      "\n",
      "> Merging 1 nodes into parent node.\n",
      "> Parent node id: 50ac327f-e05a-4295-92f5-82c1a5f9831d.\n",
      "> Parent node text: The claim information:\n",
      "The invention claimed is: 1. A method for treating an inflammatory bowel d...\n",
      "\n",
      "> Merging 2 nodes into parent node.\n",
      "> Parent node id: 30356ec4-611a-4710-a19f-0811593ce3f6.\n",
      "> Parent node text: Here are the sequences of amino acids obtained by de novo sequencing: Peptide 1 GNTF[I/L]QST[I/L]...\n",
      "\n",
      "> Merging 2 nodes into parent node.\n",
      "> Parent node id: 92bd4028-9a52-41f2-80d5-9f2cf502ccae.\n",
      "> Parent node text: Peptide 7 NTFLQSTINRTIGVL Peptide 8 AAVYNLGVAPTKNTVKETEVKFTV Peptide 9 NYSVIAENEMTYVNGGANFIDAIGAV...\n",
      "\n",
      "> Merging 2 nodes into parent node.\n",
      "> Parent node id: c57d2a73-f0e2-4d3e-aa68-463cd119a218.\n",
      "> Parent node text: Here are the sequences of amino acids obtained by de novo sequencing: Peptide 1 GNTF[I/L]QST[I/L]...\n",
      "\n"
     ]
    },
    {
     "data": {
      "text/markdown": [
       "<b>{'prompt_tokens': 3125, 'completion_tokens': 424, 'total_tokens': 3549}</b>"
      ],
      "text/plain": [
       "<IPython.core.display.Markdown object>"
      ]
     },
     "metadata": {},
     "output_type": "display_data"
    },
    {
     "name": "stdout",
     "output_type": "stream",
     "text": [
      "--------------------------------------------------------------------\n",
      "> Merging 2 nodes into parent node.\n",
      "> Parent node id: 07c69153-823f-48a9-aa90-9a4ec75bb679.\n",
      "> Parent node text: The claim information:\n",
      "The invention claimed is: 1. A method for treating an inflammatory bowel d...\n",
      "\n",
      "> Merging 1 nodes into parent node.\n",
      "> Parent node id: 27b83ef2-abaf-422c-9e9e-35c2cf4428fd.\n",
      "> Parent node text: The claim information:\n",
      "The invention claimed is: 1. A method for treating an inflammatory bowel d...\n",
      "\n",
      "> Merging 2 nodes into parent node.\n",
      "> Parent node id: 8d55febb-2218-48a3-befe-7c7984f5f754.\n",
      "> Parent node text: Peptide 7 NTFLQSTINRTIGVL Peptide 8 AAVYNLGVAPTKNTVKETEVKFTV Peptide 9 NYSVIAENEMTYVNGGANFIDAIGAV...\n",
      "\n",
      "> Merging 1 nodes into parent node.\n",
      "> Parent node id: 1df56f7c-6bd1-4944-9528-759b29292814.\n",
      "> Parent node text: Strain SL3/3 SEQ_ID_NO_3 MMMPANFSAVSENEMTYVMGGSVADYLAPAMGAAQWQNFHKNLITIV GNKYVQGFLDNTVGAVFSGTWTPG...\n",
      "\n"
     ]
    },
    {
     "data": {
      "text/markdown": [
       "<b>{'prompt_tokens': 2959, 'completion_tokens': 526, 'total_tokens': 3485}</b>"
      ],
      "text/plain": [
       "<IPython.core.display.Markdown object>"
      ]
     },
     "metadata": {},
     "output_type": "display_data"
    },
    {
     "name": "stdout",
     "output_type": "stream",
     "text": [
      "--------------------------------------------------------------------\n",
      "> Merging 2 nodes into parent node.\n",
      "> Parent node id: ffde0f1f-8daa-477b-9b7c-90a6c355131b.\n",
      "> Parent node text: The claim information:\n",
      "The invention claimed is: 1. A method for treating an inflammatory bowel d...\n",
      "\n",
      "> Merging 1 nodes into parent node.\n",
      "> Parent node id: 95bc1577-676c-4454-9260-6647f324fa82.\n",
      "> Parent node text: The claim information:\n",
      "The invention claimed is: 1. A method for treating an inflammatory bowel d...\n",
      "\n",
      "> Merging 2 nodes into parent node.\n",
      "> Parent node id: a5b97309-47a7-41eb-9c5f-1c84b6973958.\n",
      "> Parent node text: X40 = G, E, D, V (—: no amino acids) Preferably, said conservative fragment comprises or consists...\n",
      "\n",
      "> Merging 1 nodes into parent node.\n",
      "> Parent node id: c10b3fa3-fe1e-4620-8a42-0971de09343a.\n",
      "> Parent node text: Strain SL3/3 SEQ_ID_NO_3 MMMPANFSAVSENEMTYVMGGSVADYLAPAMGAAQWQNFHKNLITIV GNKYVQGFLDNTVGAVFSGTWTPG...\n",
      "\n"
     ]
    },
    {
     "data": {
      "text/markdown": [
       "<b>{'prompt_tokens': 2912, 'completion_tokens': 322, 'total_tokens': 3234}</b>"
      ],
      "text/plain": [
       "<IPython.core.display.Markdown object>"
      ]
     },
     "metadata": {},
     "output_type": "display_data"
    },
    {
     "name": "stdout",
     "output_type": "stream",
     "text": [
      "--------------------------------------------------------------------\n",
      "> Merging 2 nodes into parent node.\n",
      "> Parent node id: 5ddd6f0b-1d98-4f37-9d89-d13a682583b2.\n",
      "> Parent node text: The claim information:\n",
      "The invention claimed is: 1. A method for treating an inflammatory bowel d...\n",
      "\n",
      "> Merging 1 nodes into parent node.\n",
      "> Parent node id: 01b43d7e-7abb-43d0-a59e-ae3df0a3d17b.\n",
      "> Parent node text: The claim information:\n",
      "The invention claimed is: 1. A method for treating an inflammatory bowel d...\n",
      "\n",
      "> Merging 2 nodes into parent node.\n",
      "> Parent node id: a8554c6e-6f0f-4911-a499-ea38d37e4847.\n",
      "> Parent node text: Peptide 7 NTFLQSTINRTIGVL Peptide 8 AAVYNLGVAPTKNTVKETEVKFTV Peptide 9 NYSVIAENEMTYVNGGANFIDAIGAV...\n",
      "\n",
      "> Merging 1 nodes into parent node.\n",
      "> Parent node id: f36a3eb1-db66-408c-ab6d-f31b02754d58.\n",
      "> Parent node text: Strain SL3/3 SEQ_ID_NO_3 MMMPANFSAVSENEMTYVMGGSVADYLAPAMGAAQWQNFHKNLITIV GNKYVQGFLDNTVGAVFSGTWTPG...\n",
      "\n",
      "> Merging 1 nodes into parent node.\n",
      "> Parent node id: 542fda88-07cc-4ad4-aded-21097bf6dadc.\n",
      "> Parent node text: SEQ_ID_NO_32 MMMPANX1X2 X3X4X5X6X7X8X9X10 X11VX12GGX13X14X15 X16X17X18X19X20 X21X22X23X24X25 X26X...\n",
      "\n"
     ]
    },
    {
     "data": {
      "text/markdown": [
       "<b>{'prompt_tokens': 3033, 'completion_tokens': 587, 'total_tokens': 3620}</b>"
      ],
      "text/plain": [
       "<IPython.core.display.Markdown object>"
      ]
     },
     "metadata": {},
     "output_type": "display_data"
    },
    {
     "name": "stdout",
     "output_type": "stream",
     "text": [
      "--------------------------------------------------------------------\n",
      "> Merging 2 nodes into parent node.\n",
      "> Parent node id: cd86a5b6-56f9-4037-8ce7-0f56c0110119.\n",
      "> Parent node text: The claim information:\n",
      "The invention claimed is: 1. A method for treating an inflammatory bowel d...\n",
      "\n",
      "> Merging 1 nodes into parent node.\n",
      "> Parent node id: d57e70d4-b42b-4c51-9511-102524db081c.\n",
      "> Parent node text: The claim information:\n",
      "The invention claimed is: 1. A method for treating an inflammatory bowel d...\n",
      "\n",
      "> Merging 2 nodes into parent node.\n",
      "> Parent node id: e3feb2ee-3ab0-4584-a249-9e754c00d4bf.\n",
      "> Parent node text: V; X115 = I, V, G; X116 = N, T SEQ_ID_NO_34 FSGNTTWKEVGNIGKNLFGTNVKGNPIEKNNFGDYAMNALGIA SEQ_ID_NO...\n",
      "\n",
      "> Merging 1 nodes into parent node.\n",
      "> Parent node id: 5be9153f-0be1-428e-bc2b-30d37807a6ae.\n",
      "> Parent node text: Strain SL3/3 SEQ_ID_NO_3 MMMPANFSAVSENEMTYVMGGSVADYLAPAMGAAQWQNFHKNLITIV GNKYVQGFLDNTVGAVFSGTWTPG...\n",
      "\n",
      "> Merging 2 nodes into parent node.\n",
      "> Parent node id: 23271003-008f-4f4e-8b12-606f932a889d.\n",
      "> Parent node text: Peptide 7 NTFLQSTINRTIGVL Peptide 8 AAVYNLGVAPTKNTVKETEVKFTV Peptide 9 NYSVIAENEMTYVNGGANFIDAIGAV...\n",
      "\n"
     ]
    },
    {
     "data": {
      "text/markdown": [
       "<b>{'prompt_tokens': 3070, 'completion_tokens': 382, 'total_tokens': 3452}</b>"
      ],
      "text/plain": [
       "<IPython.core.display.Markdown object>"
      ]
     },
     "metadata": {},
     "output_type": "display_data"
    },
    {
     "name": "stdout",
     "output_type": "stream",
     "text": [
      "--------------------------------------------------------------------\n",
      "> Merging 2 nodes into parent node.\n",
      "> Parent node id: fbc14095-5517-48ec-84e5-e2a787ca213c.\n",
      "> Parent node text: The claim information:\n",
      "The invention claimed is: 1. A method for treating an inflammatory bowel d...\n",
      "\n",
      "> Merging 1 nodes into parent node.\n",
      "> Parent node id: 5d187b30-f499-41d9-9e1d-2b61b726cb86.\n",
      "> Parent node text: The claim information:\n",
      "The invention claimed is: 1. A method for treating an inflammatory bowel d...\n",
      "\n",
      "> Merging 1 nodes into parent node.\n",
      "> Parent node id: 3cb2840a-034d-4dc5-8767-004fa93571d2.\n",
      "> Parent node text: Strain SL3/3 SEQ_ID_NO_3 MMMPANFSAVSENEMTYVMGGSVADYLAPAMGAAQWQNFHKNLITIV GNKYVQGFLDNTVGAVFSGTWTPG...\n",
      "\n",
      "> Merging 1 nodes into parent node.\n",
      "> Parent node id: 73350553-fca6-4326-be1f-810d626d4eba.\n",
      "> Parent node text: SEQ_ID_NO_32 MMMPANX1X2 X3X4X5X6X7X8X9X10 X11VX12GGX13X14X15 X16X17X18X19X20 X21X22X23X24X25 X26X...\n",
      "\n"
     ]
    },
    {
     "data": {
      "text/markdown": [
       "<b>{'prompt_tokens': 3097, 'completion_tokens': 226, 'total_tokens': 3323}</b>"
      ],
      "text/plain": [
       "<IPython.core.display.Markdown object>"
      ]
     },
     "metadata": {},
     "output_type": "display_data"
    },
    {
     "name": "stdout",
     "output_type": "stream",
     "text": [
      "--------------------------------------------------------------------\n",
      "> Merging 2 nodes into parent node.\n",
      "> Parent node id: 8d6f8061-8cf4-4a63-b706-a5bb6c2070b6.\n",
      "> Parent node text: The claim information:\n",
      "The invention claimed is: 1. A method for treating an inflammatory bowel d...\n",
      "\n",
      "> Merging 1 nodes into parent node.\n",
      "> Parent node id: 409785c3-8b3a-4963-9483-46388b411c81.\n",
      "> Parent node text: The claim information:\n",
      "The invention claimed is: 1. A method for treating an inflammatory bowel d...\n",
      "\n",
      "> Merging 2 nodes into parent node.\n",
      "> Parent node id: 92de585f-87f0-4add-855b-e05114f8bbde.\n",
      "> Parent node text: V; X115 = I, V, G; X116 = N, T SEQ_ID_NO_34 FSGNTTWKEVGNIGKNLFGTNVKGNPIEKNNFGDYAMNALGIA SEQ_ID_NO...\n",
      "\n",
      "> Merging 1 nodes into parent node.\n",
      "> Parent node id: f6ecdd5b-0a08-45b1-aadc-327fd4677c15.\n",
      "> Parent node text: Strain SL3/3 SEQ_ID_NO_3 MMMPANFSAVSENEMTYVMGGSVADYLAPAMGAAQWQNFHKNLITIV GNKYVQGFLDNTVGAVFSGTWTPG...\n",
      "\n"
     ]
    },
    {
     "data": {
      "text/markdown": [
       "<b>{'prompt_tokens': 2982, 'completion_tokens': 253, 'total_tokens': 3235}</b>"
      ],
      "text/plain": [
       "<IPython.core.display.Markdown object>"
      ]
     },
     "metadata": {},
     "output_type": "display_data"
    },
    {
     "name": "stdout",
     "output_type": "stream",
     "text": [
      "--------------------------------------------------------------------\n",
      "> Merging 2 nodes into parent node.\n",
      "> Parent node id: 9e3fed49-c9f4-4724-a1bc-d3aea28443c8.\n",
      "> Parent node text: The claim information:\n",
      "The invention claimed is: 1. A method for treating an inflammatory bowel d...\n",
      "\n",
      "> Merging 1 nodes into parent node.\n",
      "> Parent node id: 3f477429-67c3-42ab-8da8-873379f9cfe7.\n",
      "> Parent node text: The claim information:\n",
      "The invention claimed is: 1. A method for treating an inflammatory bowel d...\n",
      "\n",
      "> Merging 2 nodes into parent node.\n",
      "> Parent node id: 573235d9-6010-47bc-b849-193ff24a9db6.\n",
      "> Parent node text: Peptide 7 NTFLQSTINRTIGVL Peptide 8 AAVYNLGVAPTKNTVKETEVKFTV Peptide 9 NYSVIAENEMTYVNGGANFIDAIGAV...\n",
      "\n",
      "> Merging 1 nodes into parent node.\n",
      "> Parent node id: 6deb979c-856c-449d-83e2-e14b2f10e6f4.\n",
      "> Parent node text: Strain SL3/3 SEQ_ID_NO_3 MMMPANFSAVSENEMTYVMGGSVADYLAPAMGAAQWQNFHKNLITIV GNKYVQGFLDNTVGAVFSGTWTPG...\n",
      "\n"
     ]
    },
    {
     "data": {
      "text/markdown": [
       "<b>{'prompt_tokens': 3041, 'completion_tokens': 377, 'total_tokens': 3418}</b>"
      ],
      "text/plain": [
       "<IPython.core.display.Markdown object>"
      ]
     },
     "metadata": {},
     "output_type": "display_data"
    },
    {
     "name": "stdout",
     "output_type": "stream",
     "text": [
      "--------------------------------------------------------------------\n",
      "> Merging 2 nodes into parent node.\n",
      "> Parent node id: 7d7ea676-9bec-46f1-a4cc-925358ca8292.\n",
      "> Parent node text: The claim information:\n",
      "The invention claimed is: 1. A method for treating an inflammatory bowel d...\n",
      "\n",
      "> Merging 1 nodes into parent node.\n",
      "> Parent node id: acef7a45-8aec-4a95-bedc-30b65354150f.\n",
      "> Parent node text: The claim information:\n",
      "The invention claimed is: 1. A method for treating an inflammatory bowel d...\n",
      "\n",
      "> Merging 1 nodes into parent node.\n",
      "> Parent node id: 73d05b69-51a2-45a4-be24-efb3acef771f.\n",
      "> Parent node text: Strain SL3/3 SEQ_ID_NO_3 MMMPANFSAVSENEMTYVMGGSVADYLAPAMGAAQWQNFHKNLITIV GNKYVQGFLDNTVGAVFSGTWTPG...\n",
      "\n",
      "> Merging 2 nodes into parent node.\n",
      "> Parent node id: 4442596c-7652-4971-83e2-b9c7e1fe34e1.\n",
      "> Parent node text: Peptide 7 NTFLQSTINRTIGVL Peptide 8 AAVYNLGVAPTKNTVKETEVKFTV Peptide 9 NYSVIAENEMTYVNGGANFIDAIGAV...\n",
      "\n"
     ]
    },
    {
     "data": {
      "text/markdown": [
       "<b>{'prompt_tokens': 3060, 'completion_tokens': 647, 'total_tokens': 3707}</b>"
      ],
      "text/plain": [
       "<IPython.core.display.Markdown object>"
      ]
     },
     "metadata": {},
     "output_type": "display_data"
    },
    {
     "name": "stdout",
     "output_type": "stream",
     "text": [
      "--------------------------------------------------------------------\n",
      "> Merging 2 nodes into parent node.\n",
      "> Parent node id: 9e9b3982-9e43-4c62-a43c-df07f8586fac.\n",
      "> Parent node text: The claim information:\n",
      "The invention claimed is: 1. A method for treating an inflammatory bowel d...\n",
      "\n",
      "> Merging 1 nodes into parent node.\n",
      "> Parent node id: 9e60c724-b059-47c3-ab3c-b0f7d08be1d4.\n",
      "> Parent node text: The claim information:\n",
      "The invention claimed is: 1. A method for treating an inflammatory bowel d...\n",
      "\n",
      "> Merging 1 nodes into parent node.\n",
      "> Parent node id: 34fb9637-c812-4b66-8bae-0fab0ce7520f.\n",
      "> Parent node text: SEQ_ID_NO_32 MMMPANX1X2 X3X4X5X6X7X8X9X10 X11VX12GGX13X14X15 X16X17X18X19X20 X21X22X23X24X25 X26X...\n",
      "\n",
      "> Merging 2 nodes into parent node.\n",
      "> Parent node id: 3be2c516-394f-4c36-9b9e-af223d7bfb57.\n",
      "> Parent node text: Peptide 7 NTFLQSTINRTIGVL Peptide 8 AAVYNLGVAPTKNTVKETEVKFTV Peptide 9 NYSVIAENEMTYVNGGANFIDAIGAV...\n",
      "\n"
     ]
    },
    {
     "data": {
      "text/markdown": [
       "<b>{'prompt_tokens': 3154, 'completion_tokens': 417, 'total_tokens': 3571}</b>"
      ],
      "text/plain": [
       "<IPython.core.display.Markdown object>"
      ]
     },
     "metadata": {},
     "output_type": "display_data"
    },
    {
     "name": "stdout",
     "output_type": "stream",
     "text": [
      "--------------------------------------------------------------------\n",
      "> Merging 2 nodes into parent node.\n",
      "> Parent node id: ab82fed6-77f3-4acd-aebb-ab0c1472242e.\n",
      "> Parent node text: The claim information:\n",
      "The invention claimed is: 1. A method for treating an inflammatory bowel d...\n",
      "\n",
      "> Merging 1 nodes into parent node.\n",
      "> Parent node id: ff605570-df34-4549-85cb-599a44ab07ba.\n",
      "> Parent node text: The claim information:\n",
      "The invention claimed is: 1. A method for treating an inflammatory bowel d...\n",
      "\n",
      "> Merging 2 nodes into parent node.\n",
      "> Parent node id: aa602745-accb-4e2f-98b4-0c3711278d99.\n",
      "> Parent node text: Peptide 7 NTFLQSTINRTIGVL Peptide 8 AAVYNLGVAPTKNTVKETEVKFTV Peptide 9 NYSVIAENEMTYVNGGANFIDAIGAV...\n",
      "\n",
      "> Merging 2 nodes into parent node.\n",
      "> Parent node id: 7aa1a60c-8124-45d0-9d7d-ece075419241.\n",
      "> Parent node text: V; X115 = I, V, G; X116 = N, T SEQ_ID_NO_34 FSGNTTWKEVGNIGKNLFGTNVKGNPIEKNNFGDYAMNALGIA SEQ_ID_NO...\n",
      "\n",
      "> Merging 1 nodes into parent node.\n",
      "> Parent node id: 2d4b3df8-9250-4ca8-9e03-d069f9d6e59c.\n",
      "> Parent node text: SEQ_ID_NO_32 MMMPANX1X2 X3X4X5X6X7X8X9X10 X11VX12GGX13X14X15 X16X17X18X19X20 X21X22X23X24X25 X26X...\n",
      "\n"
     ]
    },
    {
     "data": {
      "text/markdown": [
       "<b>{'prompt_tokens': 3155, 'completion_tokens': 460, 'total_tokens': 3615}</b>"
      ],
      "text/plain": [
       "<IPython.core.display.Markdown object>"
      ]
     },
     "metadata": {},
     "output_type": "display_data"
    },
    {
     "name": "stdout",
     "output_type": "stream",
     "text": [
      "--------------------------------------------------------------------\n",
      "> Merging 2 nodes into parent node.\n",
      "> Parent node id: 480c8230-8512-4627-ab68-93dd3d6f4dfb.\n",
      "> Parent node text: The claim information:\n",
      "The invention claimed is: 1. A method for treating an inflammatory bowel d...\n",
      "\n",
      "> Merging 1 nodes into parent node.\n",
      "> Parent node id: adffd2ad-0a31-4ba4-8a4a-1299932b7597.\n",
      "> Parent node text: The claim information:\n",
      "The invention claimed is: 1. A method for treating an inflammatory bowel d...\n",
      "\n",
      "> Merging 2 nodes into parent node.\n",
      "> Parent node id: a5ad45ee-fd10-45d8-8d73-be8537461abf.\n",
      "> Parent node text: Peptide 7 NTFLQSTINRTIGVL Peptide 8 AAVYNLGVAPTKNTVKETEVKFTV Peptide 9 NYSVIAENEMTYVNGGANFIDAIGAV...\n",
      "\n",
      "> Merging 1 nodes into parent node.\n",
      "> Parent node id: e735bd71-baf8-48c3-ae80-8804e8ebb0c5.\n",
      "> Parent node text: Strain SL3/3 SEQ_ID_NO_3 MMMPANFSAVSENEMTYVMGGSVADYLAPAMGAAQWQNFHKNLITIV GNKYVQGFLDNTVGAVFSGTWTPG...\n",
      "\n"
     ]
    },
    {
     "data": {
      "text/markdown": [
       "<b>{'prompt_tokens': 2888, 'completion_tokens': 297, 'total_tokens': 3185}</b>"
      ],
      "text/plain": [
       "<IPython.core.display.Markdown object>"
      ]
     },
     "metadata": {},
     "output_type": "display_data"
    },
    {
     "name": "stdout",
     "output_type": "stream",
     "text": [
      "--------------------------------------------------------------------\n",
      "> Merging 2 nodes into parent node.\n",
      "> Parent node id: 6703a789-ddea-410d-a047-001e0699a2df.\n",
      "> Parent node text: The claim information:\n",
      "The invention claimed is: 1. A method for treating an inflammatory bowel d...\n",
      "\n",
      "> Merging 1 nodes into parent node.\n",
      "> Parent node id: fca198a8-b7ff-404e-ac13-9f94d8bb57a1.\n",
      "> Parent node text: The claim information:\n",
      "The invention claimed is: 1. A method for treating an inflammatory bowel d...\n",
      "\n",
      "> Merging 2 nodes into parent node.\n",
      "> Parent node id: e4a81019-e188-45da-a101-f4d6e9719719.\n",
      "> Parent node text: Peptide 7 NTFLQSTINRTIGVL Peptide 8 AAVYNLGVAPTKNTVKETEVKFTV Peptide 9 NYSVIAENEMTYVNGGANFIDAIGAV...\n",
      "\n",
      "> Merging 1 nodes into parent node.\n",
      "> Parent node id: da952cc8-29d1-48a1-bb31-724f7a88c961.\n",
      "> Parent node text: Strain SL3/3 SEQ_ID_NO_3 MMMPANFSAVSENEMTYVMGGSVADYLAPAMGAAQWQNFHKNLITIV GNKYVQGFLDNTVGAVFSGTWTPG...\n",
      "\n"
     ]
    },
    {
     "data": {
      "text/markdown": [
       "<b>{'prompt_tokens': 2954, 'completion_tokens': 201, 'total_tokens': 3155}</b>"
      ],
      "text/plain": [
       "<IPython.core.display.Markdown object>"
      ]
     },
     "metadata": {},
     "output_type": "display_data"
    },
    {
     "name": "stdout",
     "output_type": "stream",
     "text": [
      "--------------------------------------------------------------------\n",
      "> Merging 2 nodes into parent node.\n",
      "> Parent node id: 80da02ed-b4d6-4e94-b597-d4724c987065.\n",
      "> Parent node text: The claim information:\n",
      "The invention claimed is: 1. A method for treating an inflammatory bowel d...\n",
      "\n",
      "> Merging 1 nodes into parent node.\n",
      "> Parent node id: d8afa223-0585-439c-a697-a4387c10ccf3.\n",
      "> Parent node text: The claim information:\n",
      "The invention claimed is: 1. A method for treating an inflammatory bowel d...\n",
      "\n",
      "> Merging 1 nodes into parent node.\n",
      "> Parent node id: cd7fd6b8-1757-4d4f-98ab-bb5827b9b8a4.\n",
      "> Parent node text: SEQ_ID_NO_32 MMMPANX1X2 X3X4X5X6X7X8X9X10 X11VX12GGX13X14X15 X16X17X18X19X20 X21X22X23X24X25 X26X...\n",
      "\n"
     ]
    },
    {
     "data": {
      "text/markdown": [
       "<b>{'prompt_tokens': 3193, 'completion_tokens': 495, 'total_tokens': 3688}</b>"
      ],
      "text/plain": [
       "<IPython.core.display.Markdown object>"
      ]
     },
     "metadata": {},
     "output_type": "display_data"
    },
    {
     "name": "stdout",
     "output_type": "stream",
     "text": [
      "--------------------------------------------------------------------\n",
      "> Merging 2 nodes into parent node.\n",
      "> Parent node id: 5ecbac98-0dbf-4196-aded-2b032b18293a.\n",
      "> Parent node text: The claim information:\n",
      "The invention claimed is: 1. A method for treating an inflammatory bowel d...\n",
      "\n",
      "> Merging 1 nodes into parent node.\n",
      "> Parent node id: 62f7856a-7511-4db4-9bad-d7dd6402b194.\n",
      "> Parent node text: The claim information:\n",
      "The invention claimed is: 1. A method for treating an inflammatory bowel d...\n",
      "\n",
      "> Merging 1 nodes into parent node.\n",
      "> Parent node id: 7948d937-718b-428f-ad71-48e8d869fd07.\n",
      "> Parent node text: Strain SL3/3 SEQ_ID_NO_3 MMMPANFSAVSENEMTYVMGGSVADYLAPAMGAAQWQNFHKNLITIV GNKYVQGFLDNTVGAVFSGTWTPG...\n",
      "\n"
     ]
    },
    {
     "data": {
      "text/markdown": [
       "<b>{'prompt_tokens': 2943, 'completion_tokens': 465, 'total_tokens': 3408}</b>"
      ],
      "text/plain": [
       "<IPython.core.display.Markdown object>"
      ]
     },
     "metadata": {},
     "output_type": "display_data"
    },
    {
     "name": "stdout",
     "output_type": "stream",
     "text": [
      "--------------------------------------------------------------------\n",
      "> Merging 2 nodes into parent node.\n",
      "> Parent node id: e155e61c-4f41-4562-9303-2d345f623d4c.\n",
      "> Parent node text: The claim information:\n",
      "The invention claimed is: 1. A method for treating an inflammatory bowel d...\n",
      "\n",
      "> Merging 1 nodes into parent node.\n",
      "> Parent node id: c9b56f6d-21ba-4e56-9c2b-f3fc5260bf16.\n",
      "> Parent node text: The claim information:\n",
      "The invention claimed is: 1. A method for treating an inflammatory bowel d...\n",
      "\n",
      "> Merging 1 nodes into parent node.\n",
      "> Parent node id: ee6f8a97-047e-4d17-bcb3-fc0868b400a9.\n",
      "> Parent node text: Strain SL3/3 SEQ_ID_NO_3 MMMPANFSAVSENEMTYVMGGSVADYLAPAMGAAQWQNFHKNLITIV GNKYVQGFLDNTVGAVFSGTWTPG...\n",
      "\n",
      "> Merging 2 nodes into parent node.\n",
      "> Parent node id: 4777a010-ec63-4ea6-8a92-4e7346273c86.\n",
      "> Parent node text: Said sequence corresponds to consensus sequence between nine MAM orthologs of SEQ_ID_NO_12. SEQ_I...\n",
      "\n"
     ]
    },
    {
     "data": {
      "text/markdown": [
       "<b>{'prompt_tokens': 2927, 'completion_tokens': 401, 'total_tokens': 3328}</b>"
      ],
      "text/plain": [
       "<IPython.core.display.Markdown object>"
      ]
     },
     "metadata": {},
     "output_type": "display_data"
    },
    {
     "name": "stdout",
     "output_type": "stream",
     "text": [
      "--------------------------------------------------------------------\n",
      "> Merging 2 nodes into parent node.\n",
      "> Parent node id: 94469ba0-e0e9-4fa9-8764-8cea5721c7c1.\n",
      "> Parent node text: The claim information:\n",
      "The invention claimed is: 1. A method for treating an inflammatory bowel d...\n",
      "\n",
      "> Merging 1 nodes into parent node.\n",
      "> Parent node id: b854e575-6414-4ac0-b596-dd202b51d1b3.\n",
      "> Parent node text: The claim information:\n",
      "The invention claimed is: 1. A method for treating an inflammatory bowel d...\n",
      "\n",
      "> Merging 2 nodes into parent node.\n",
      "> Parent node id: 573e03a5-d505-405a-9d47-6ac718f0aff0.\n",
      "> Parent node text: V; X115 = I, V, G; X116 = N, T SEQ_ID_NO_34 FSGNTTWKEVGNIGKNLFGTNVKGNPIEKNNFGDYAMNALGIA SEQ_ID_NO...\n",
      "\n",
      "> Merging 1 nodes into parent node.\n",
      "> Parent node id: b94ca69f-65f7-459a-be09-65e2aeaf37fd.\n",
      "> Parent node text: Strain SL3/3 SEQ_ID_NO_3 MMMPANFSAVSENEMTYVMGGSVADYLAPAMGAAQWQNFHKNLITIV GNKYVQGFLDNTVGAVFSGTWTPG...\n",
      "\n"
     ]
    },
    {
     "data": {
      "text/markdown": [
       "<b>{'prompt_tokens': 3088, 'completion_tokens': 379, 'total_tokens': 3467}</b>"
      ],
      "text/plain": [
       "<IPython.core.display.Markdown object>"
      ]
     },
     "metadata": {},
     "output_type": "display_data"
    },
    {
     "name": "stdout",
     "output_type": "stream",
     "text": [
      "--------------------------------------------------------------------\n",
      "> Merging 2 nodes into parent node.\n",
      "> Parent node id: 951e815e-15ab-4e2b-b06a-e28b3aa2506d.\n",
      "> Parent node text: The claim information:\n",
      "The invention claimed is: 1. A method for treating an inflammatory bowel d...\n",
      "\n",
      "> Merging 1 nodes into parent node.\n",
      "> Parent node id: 2c9ad3f1-b2d4-4cb4-9afd-e6c67093923d.\n",
      "> Parent node text: The claim information:\n",
      "The invention claimed is: 1. A method for treating an inflammatory bowel d...\n",
      "\n",
      "> Merging 2 nodes into parent node.\n",
      "> Parent node id: 7f72f629-ccd4-4df9-a930-46c426c8ffde.\n",
      "> Parent node text: Peptide 7 NTFLQSTINRTIGVL Peptide 8 AAVYNLGVAPTKNTVKETEVKFTV Peptide 9 NYSVIAENEMTYVNGGANFIDAIGAV...\n",
      "\n"
     ]
    },
    {
     "data": {
      "text/markdown": [
       "<b>{'prompt_tokens': 3218, 'completion_tokens': 592, 'total_tokens': 3810}</b>"
      ],
      "text/plain": [
       "<IPython.core.display.Markdown object>"
      ]
     },
     "metadata": {},
     "output_type": "display_data"
    },
    {
     "name": "stdout",
     "output_type": "stream",
     "text": [
      "--------------------------------------------------------------------\n",
      "> Merging 2 nodes into parent node.\n",
      "> Parent node id: ec0867bb-d38c-4e7c-b06b-0c7bf3f4b791.\n",
      "> Parent node text: The claim information:\n",
      "The invention claimed is: 1. A method for treating an inflammatory bowel d...\n",
      "\n",
      "> Merging 1 nodes into parent node.\n",
      "> Parent node id: 24f1f519-a7bd-4940-8be1-72d75640059d.\n",
      "> Parent node text: The claim information:\n",
      "The invention claimed is: 1. A method for treating an inflammatory bowel d...\n",
      "\n",
      "> Merging 1 nodes into parent node.\n",
      "> Parent node id: 1d0a3601-5a5e-490b-be0d-e562a86473a0.\n",
      "> Parent node text: SEQ_ID_NO_32 MMMPANX1X2 X3X4X5X6X7X8X9X10 X11VX12GGX13X14X15 X16X17X18X19X20 X21X22X23X24X25 X26X...\n",
      "\n",
      "> Merging 1 nodes into parent node.\n",
      "> Parent node id: 7112d28a-14fd-4240-870c-5b362fcc498e.\n",
      "> Parent node text: Strain SL3/3 SEQ_ID_NO_3 MMMPANFSAVSENEMTYVMGGSVADYLAPAMGAAQWQNFHKNLITIV GNKYVQGFLDNTVGAVFSGTWTPG...\n",
      "\n",
      "> Merging 2 nodes into parent node.\n",
      "> Parent node id: 44be8dab-c28c-4855-bd77-e265847cd577.\n",
      "> Parent node text: Peptide 7 NTFLQSTINRTIGVL Peptide 8 AAVYNLGVAPTKNTVKETEVKFTV Peptide 9 NYSVIAENEMTYVNGGANFIDAIGAV...\n",
      "\n"
     ]
    },
    {
     "data": {
      "text/markdown": [
       "<b>{'prompt_tokens': 2677, 'completion_tokens': 341, 'total_tokens': 3018}</b>"
      ],
      "text/plain": [
       "<IPython.core.display.Markdown object>"
      ]
     },
     "metadata": {},
     "output_type": "display_data"
    },
    {
     "name": "stdout",
     "output_type": "stream",
     "text": [
      "--------------------------------------------------------------------\n",
      "> Merging 2 nodes into parent node.\n",
      "> Parent node id: 944738a7-d9e2-458f-a2c0-aaaba8fa1d5c.\n",
      "> Parent node text: The claim information:\n",
      "The invention claimed is: 1. A method for treating an inflammatory bowel d...\n",
      "\n",
      "> Merging 1 nodes into parent node.\n",
      "> Parent node id: 4c6898b0-81ff-44d7-b574-5c6d6b5b55eb.\n",
      "> Parent node text: The claim information:\n",
      "The invention claimed is: 1. A method for treating an inflammatory bowel d...\n",
      "\n",
      "> Merging 2 nodes into parent node.\n",
      "> Parent node id: a91fb5a4-50d0-45a1-8040-adfdc9fedd39.\n",
      "> Parent node text: Peptide 7 NTFLQSTINRTIGVL Peptide 8 AAVYNLGVAPTKNTVKETEVKFTV Peptide 9 NYSVIAENEMTYVNGGANFIDAIGAV...\n",
      "\n",
      "> Merging 1 nodes into parent node.\n",
      "> Parent node id: 50662c67-7d6f-41ca-82fc-72d371b7d918.\n",
      "> Parent node text: SEQ_ID_NO_32 MMMPANX1X2 X3X4X5X6X7X8X9X10 X11VX12GGX13X14X15 X16X17X18X19X20 X21X22X23X24X25 X26X...\n",
      "\n"
     ]
    },
    {
     "data": {
      "text/markdown": [
       "<b>{'prompt_tokens': 3078, 'completion_tokens': 100, 'total_tokens': 3178}</b>"
      ],
      "text/plain": [
       "<IPython.core.display.Markdown object>"
      ]
     },
     "metadata": {},
     "output_type": "display_data"
    },
    {
     "name": "stdout",
     "output_type": "stream",
     "text": [
      "--------------------------------------------------------------------\n",
      "> Merging 2 nodes into parent node.\n",
      "> Parent node id: f3547fe2-a71b-4632-bdab-c5c7ae16cc1b.\n",
      "> Parent node text: The claim information:\n",
      "The invention claimed is: 1. A method for treating an inflammatory bowel d...\n",
      "\n",
      "> Merging 1 nodes into parent node.\n",
      "> Parent node id: 410b15eb-3483-4f24-9ecd-94c1b836d2f9.\n",
      "> Parent node text: The claim information:\n",
      "The invention claimed is: 1. A method for treating an inflammatory bowel d...\n",
      "\n",
      "> Merging 2 nodes into parent node.\n",
      "> Parent node id: 0600f77e-8b64-498d-a54a-80219f017811.\n",
      "> Parent node text: Peptide 7 NTFLQSTINRTIGVL Peptide 8 AAVYNLGVAPTKNTVKETEVKFTV Peptide 9 NYSVIAENEMTYVNGGANFIDAIGAV...\n",
      "\n",
      "> Merging 1 nodes into parent node.\n",
      "> Parent node id: c56c6afc-e49b-4357-97e9-4129c24d80cd.\n",
      "> Parent node text: Strain SL3/3 SEQ_ID_NO_3 MMMPANFSAVSENEMTYVMGGSVADYLAPAMGAAQWQNFHKNLITIV GNKYVQGFLDNTVGAVFSGTWTPG...\n",
      "\n"
     ]
    },
    {
     "data": {
      "text/markdown": [
       "<b>{'prompt_tokens': 3077, 'completion_tokens': 334, 'total_tokens': 3411}</b>"
      ],
      "text/plain": [
       "<IPython.core.display.Markdown object>"
      ]
     },
     "metadata": {},
     "output_type": "display_data"
    },
    {
     "name": "stdout",
     "output_type": "stream",
     "text": [
      "--------------------------------------------------------------------\n",
      "> Merging 2 nodes into parent node.\n",
      "> Parent node id: eaf17e69-f71d-4d94-8aab-fa417df5c7e4.\n",
      "> Parent node text: It is also envisioned that certain amino acids within an active site peptide may be substituted w...\n",
      "\n"
     ]
    },
    {
     "data": {
      "text/markdown": [
       "<b>{'prompt_tokens': 2810, 'completion_tokens': 294, 'total_tokens': 3104}</b>"
      ],
      "text/plain": [
       "<IPython.core.display.Markdown object>"
      ]
     },
     "metadata": {},
     "output_type": "display_data"
    },
    {
     "name": "stdout",
     "output_type": "stream",
     "text": [
      "--------------------------------------------------------------------\n",
      "> Merging 2 nodes into parent node.\n",
      "> Parent node id: 0ba2f380-8d2d-424a-9763-c9e880ad37e6.\n",
      "> Parent node text: It is also envisioned that certain amino acids within an active site peptide may be substituted w...\n",
      "\n"
     ]
    },
    {
     "data": {
      "text/markdown": [
       "<b>{'prompt_tokens': 2808, 'completion_tokens': 357, 'total_tokens': 3165}</b>"
      ],
      "text/plain": [
       "<IPython.core.display.Markdown object>"
      ]
     },
     "metadata": {},
     "output_type": "display_data"
    },
    {
     "name": "stdout",
     "output_type": "stream",
     "text": [
      "--------------------------------------------------------------------\n",
      "> Merging 2 nodes into parent node.\n",
      "> Parent node id: 7e41210b-a375-4f77-83d9-ee0b50419493.\n",
      "> Parent node text: It is also envisioned that certain amino acids within an active site peptide may be substituted w...\n",
      "\n",
      "> Merging 1 nodes into parent node.\n",
      "> Parent node id: f614ab31-95e7-4de9-8ef9-6961d8188e0a.\n",
      "> Parent node text: TABLE 2                                 \n",
      "________________________________________________________...\n",
      "\n"
     ]
    },
    {
     "data": {
      "text/markdown": [
       "<b>{'prompt_tokens': 2807, 'completion_tokens': 350, 'total_tokens': 3157}</b>"
      ],
      "text/plain": [
       "<IPython.core.display.Markdown object>"
      ]
     },
     "metadata": {},
     "output_type": "display_data"
    },
    {
     "name": "stdout",
     "output_type": "stream",
     "text": [
      "--------------------------------------------------------------------\n",
      "> Merging 2 nodes into parent node.\n",
      "> Parent node id: 49c4b737-7c37-477b-900d-3a97af36ed15.\n",
      "> Parent node text: It is also envisioned that certain amino acids within an active site peptide may be substituted w...\n",
      "\n",
      "> Merging 1 nodes into parent node.\n",
      "> Parent node id: f785b38b-fab7-4d3c-9377-aea7c1b40623.\n",
      "> Parent node text: TABLE 2                                 \n",
      "________________________________________________________...\n",
      "\n"
     ]
    },
    {
     "data": {
      "text/markdown": [
       "<b>{'prompt_tokens': 2803, 'completion_tokens': 231, 'total_tokens': 3034}</b>"
      ],
      "text/plain": [
       "<IPython.core.display.Markdown object>"
      ]
     },
     "metadata": {},
     "output_type": "display_data"
    },
    {
     "name": "stdout",
     "output_type": "stream",
     "text": [
      "--------------------------------------------------------------------\n",
      "> Merging 2 nodes into parent node.\n",
      "> Parent node id: 229af75f-cfa5-4d6a-8165-3b6516954299.\n",
      "> Parent node text: It is also envisioned that certain amino acids within an active site peptide may be substituted w...\n",
      "\n",
      "> Merging 1 nodes into parent node.\n",
      "> Parent node id: af666a36-31bb-4352-94a6-c2276f11b873.\n",
      "> Parent node text: TABLE 2                                 \n",
      "________________________________________________________...\n",
      "\n"
     ]
    },
    {
     "data": {
      "text/markdown": [
       "<b>{'prompt_tokens': 2805, 'completion_tokens': 228, 'total_tokens': 3033}</b>"
      ],
      "text/plain": [
       "<IPython.core.display.Markdown object>"
      ]
     },
     "metadata": {},
     "output_type": "display_data"
    },
    {
     "name": "stdout",
     "output_type": "stream",
     "text": [
      "--------------------------------------------------------------------\n",
      "> Merging 1 nodes into parent node.\n",
      "> Parent node id: e5d30967-9f52-415f-9a17-8b2df3af5229.\n",
      "> Parent node text: TABLE 2                                 \n",
      "________________________________________________________...\n",
      "\n",
      "> Merging 2 nodes into parent node.\n",
      "> Parent node id: 0bdc171c-ab02-436f-b228-2378ec8ee39d.\n",
      "> Parent node text: It is also envisioned that certain amino acids within an active site peptide may be substituted w...\n",
      "\n"
     ]
    },
    {
     "data": {
      "text/markdown": [
       "<b>{'prompt_tokens': 2803, 'completion_tokens': 339, 'total_tokens': 3142}</b>"
      ],
      "text/plain": [
       "<IPython.core.display.Markdown object>"
      ]
     },
     "metadata": {},
     "output_type": "display_data"
    },
    {
     "name": "stdout",
     "output_type": "stream",
     "text": [
      "--------------------------------------------------------------------\n",
      "> Merging 2 nodes into parent node.\n",
      "> Parent node id: b567e86c-fff3-4b33-9801-4f597d483147.\n",
      "> Parent node text: It is also envisioned that certain amino acids within an active site peptide may be substituted w...\n",
      "\n"
     ]
    },
    {
     "data": {
      "text/markdown": [
       "<b>{'prompt_tokens': 2585, 'completion_tokens': 275, 'total_tokens': 2860}</b>"
      ],
      "text/plain": [
       "<IPython.core.display.Markdown object>"
      ]
     },
     "metadata": {},
     "output_type": "display_data"
    },
    {
     "name": "stdout",
     "output_type": "stream",
     "text": [
      "--------------------------------------------------------------------\n",
      "> Merging 2 nodes into parent node.\n",
      "> Parent node id: f4810d7c-8346-4d26-aabe-df79023fc419.\n",
      "> Parent node text: It is also envisioned that certain amino acids within an active site peptide may be substituted w...\n",
      "\n"
     ]
    },
    {
     "data": {
      "text/markdown": [
       "<b>{'prompt_tokens': 2803, 'completion_tokens': 306, 'total_tokens': 3109}</b>"
      ],
      "text/plain": [
       "<IPython.core.display.Markdown object>"
      ]
     },
     "metadata": {},
     "output_type": "display_data"
    },
    {
     "name": "stdout",
     "output_type": "stream",
     "text": [
      "--------------------------------------------------------------------\n",
      "> Merging 2 nodes into parent node.\n",
      "> Parent node id: b04cdb05-48ab-4a0c-a416-b4f26768a4d0.\n",
      "> Parent node text: ID NO: 1) as anti-inflammatory agents in which CT-112 (SEQ. ID NO: 1), or a portion thereof, is c...\n",
      "\n",
      "> Merging 1 nodes into parent node.\n",
      "> Parent node id: 5a05d9fa-7e2c-4fd8-8180-266ff29e62cc.\n",
      "> Parent node text: (iii) HYPOTHETICAL: NO                                                    \n",
      "(iv) ANTI-SENSE: NO   ...\n",
      "\n",
      "> Merging 1 nodes into parent node.\n",
      "> Parent node id: 2f76dba7-3def-4098-963d-49a2d7d84acf.\n",
      "> Parent node text: NO                                                    \n",
      "(iv) ANTI-SENSE: NO                       ...\n",
      "\n",
      "> Merging 1 nodes into parent node.\n",
      "> Parent node id: b85f2367-07d2-49e1-987d-3a001fc2c517.\n",
      "> Parent node text: (2) INFORMATION FOR SEQ_ID_NO_24:                                         \n",
      "(i) SEQUENCE CHARACTER...\n",
      "\n",
      "> Merging 1 nodes into parent node.\n",
      "> Parent node id: 77e7a79b-a263-46d6-a059-1dc7a886a42c.\n",
      "> Parent node text: ID NO: 1) in inhibiting AA-induced inflammation. The most effective compounds (other than CT-112)...\n",
      "\n",
      "> Merging 1 nodes into parent node.\n",
      "> Parent node id: ba9e4117-7c65-4573-bceb-633834d9e18b.\n",
      "> Parent node text: (iv) ANTI-SENSE: NO                                                       \n",
      "(xi) SEQUENCE DESCRIPT...\n",
      "\n",
      "> Merging 1 nodes into parent node.\n",
      "> Parent node id: 2a6bd90d-b3d2-42cf-a179-3d2894a1fab0.\n",
      "> Parent node text: (iii) HYPOTHETICAL: NO                                                    \n",
      "(iv) ANTI-SENSE: NO   ...\n",
      "\n",
      "> Merging 1 nodes into parent node.\n",
      "> Parent node id: d8d8d3de-4b22-4f3d-a130-a8401e134893.\n",
      "> Parent node text: NO                                                    \n",
      "(iv) ANTI-SENSE: NO                       ...\n",
      "\n",
      "> Merging 1 nodes into parent node.\n",
      "> Parent node id: b435faf7-dec6-426b-9706-4b1b14a63dbd.\n",
      "> Parent node text: (2) INFORMATION FOR SEQ_ID_NO_24:                                         \n",
      "(i) SEQUENCE CHARACTER...\n",
      "\n",
      "> Merging 1 nodes into parent node.\n",
      "> Parent node id: ba445251-469d-4120-a96e-737bcde42916.\n",
      "> Parent node text: (iv) ANTI-SENSE: NO                                                       \n",
      "(xi) SEQUENCE DESCRIPT...\n",
      "\n"
     ]
    },
    {
     "data": {
      "text/markdown": [
       "<b>{'prompt_tokens': 3142, 'completion_tokens': 253, 'total_tokens': 3395}</b>"
      ],
      "text/plain": [
       "<IPython.core.display.Markdown object>"
      ]
     },
     "metadata": {},
     "output_type": "display_data"
    },
    {
     "name": "stdout",
     "output_type": "stream",
     "text": [
      "--------------------------------------------------------------------\n",
      "> Merging 2 nodes into parent node.\n",
      "> Parent node id: 782ebd1f-3fb2-4668-bd6d-167aecf6c936.\n",
      "> Parent node text: ID NO: 1) as anti-inflammatory agents in which CT-112 (SEQ. ID NO: 1), or a portion thereof, is c...\n",
      "\n",
      "> Merging 1 nodes into parent node.\n",
      "> Parent node id: 1eba4c7c-ba90-46fc-b1c5-b8978ffc6e01.\n",
      "> Parent node text: (iii) HYPOTHETICAL: NO                                                    \n",
      "(iv) ANTI-SENSE: NO   ...\n",
      "\n",
      "> Merging 1 nodes into parent node.\n",
      "> Parent node id: b7723f8d-0706-423f-8e19-1658665da766.\n",
      "> Parent node text: (A) LENGTH: 8 amino acids                                                 \n",
      "(B) TYPE: amino acid  ...\n",
      "\n",
      "> Merging 1 nodes into parent node.\n",
      "> Parent node id: 06f66f3d-9da8-4b9f-b250-2770b7fff16d.\n",
      "> Parent node text: (xi) SEQUENCE DESCRIPTION: SEQ_ID_NO_64:                                  \n",
      "ThrThrSerGlnValArgLeuA...\n",
      "\n",
      "> Merging 1 nodes into parent node.\n",
      "> Parent node id: d8ac8149-7ac8-447d-922a-7beaaa3f013c.\n",
      "> Parent node text: (iii) HYPOTHETICAL: NO                                                    \n",
      "(iv) ANTI-SENSE: NO   ...\n",
      "\n",
      "> Merging 1 nodes into parent node.\n",
      "> Parent node id: ec6c4cef-abc6-4366-ac11-b3dd1c05006b.\n",
      "> Parent node text: (A) LENGTH: 8 amino acids                                                 \n",
      "(B) TYPE: amino acid  ...\n",
      "\n",
      "> Merging 1 nodes into parent node.\n",
      "> Parent node id: ff8855ce-7087-4bb7-9791-991bb41bfbad.\n",
      "> Parent node text: (xi) SEQUENCE DESCRIPTION: SEQ_ID_NO_64:                                  \n",
      "ThrThrSerGlnValArgLeuA...\n",
      "\n"
     ]
    },
    {
     "data": {
      "text/markdown": [
       "<b>{'prompt_tokens': 3103, 'completion_tokens': 329, 'total_tokens': 3432}</b>"
      ],
      "text/plain": [
       "<IPython.core.display.Markdown object>"
      ]
     },
     "metadata": {},
     "output_type": "display_data"
    },
    {
     "name": "stdout",
     "output_type": "stream",
     "text": [
      "--------------------------------------------------------------------\n",
      "> Merging 1 nodes into parent node.\n",
      "> Parent node id: 95fa19ff-4c0b-4245-8c18-169713c5d1e3.\n",
      "> Parent node text: (xi) SEQUENCE DESCRIPTION: SEQ_ID_NO_17:                                  \n",
      "TyrIleAlaArgProLeuProA...\n",
      "\n",
      "> Merging 2 nodes into parent node.\n",
      "> Parent node id: bec8ea28-024c-4fde-9a89-524c37b758cc.\n",
      "> Parent node text: ID NO: 1) as anti-inflammatory agents in which CT-112 (SEQ. ID NO: 1), or a portion thereof, is c...\n",
      "\n",
      "> Merging 1 nodes into parent node.\n",
      "> Parent node id: 12432477-bb9d-48df-b317-3464ec2abc3d.\n",
      "> Parent node text: (iv) ANTI-SENSE: NO                                                       \n",
      "(xi) SEQUENCE DESCRIPT...\n",
      "\n",
      "> Merging 1 nodes into parent node.\n",
      "> Parent node id: 3e7866b0-cdd9-48f5-8f93-0876f8fc72ad.\n",
      "> Parent node text: ID NO: 1) in inhibiting AA-induced inflammation. The most effective compounds (other than CT-112)...\n",
      "\n",
      "> Merging 1 nodes into parent node.\n",
      "> Parent node id: 6a32380b-5c72-4b16-9d83-505d8118b73f.\n",
      "> Parent node text: (iii) HYPOTHETICAL: NO                                                    \n",
      "(iv) ANTI-SENSE: NO   ...\n",
      "\n",
      "> Merging 1 nodes into parent node.\n",
      "> Parent node id: 95af2777-a3e9-43bb-a0b8-b55eff367107.\n",
      "> Parent node text: (xi) SEQUENCE DESCRIPTION: SEQ_ID_NO_17:                                  \n",
      "TyrIleAlaArgProLeuProA...\n",
      "\n",
      "> Merging 1 nodes into parent node.\n",
      "> Parent node id: a4f12b87-43ee-4b4a-8047-8c616f8883e1.\n",
      "> Parent node text: (iv) ANTI-SENSE: NO                                                       \n",
      "(xi) SEQUENCE DESCRIPT...\n",
      "\n",
      "> Merging 1 nodes into parent node.\n",
      "> Parent node id: 56478787-e850-446a-9eb8-6ea7f136c90e.\n",
      "> Parent node text: (iii) HYPOTHETICAL: NO                                                    \n",
      "(iv) ANTI-SENSE: NO   ...\n",
      "\n"
     ]
    },
    {
     "data": {
      "text/markdown": [
       "<b>{'prompt_tokens': 3150, 'completion_tokens': 307, 'total_tokens': 3457}</b>"
      ],
      "text/plain": [
       "<IPython.core.display.Markdown object>"
      ]
     },
     "metadata": {},
     "output_type": "display_data"
    },
    {
     "name": "stdout",
     "output_type": "stream",
     "text": [
      "--------------------------------------------------------------------\n",
      "> Merging 1 nodes into parent node.\n",
      "> Parent node id: 816fe1a2-edc8-474c-b92b-b0dd6fbc2a30.\n",
      "> Parent node text: (iii) HYPOTHETICAL: NO                                                    \n",
      "(iv) ANTI-SENSE: NO   ...\n",
      "\n",
      "> Merging 1 nodes into parent node.\n",
      "> Parent node id: be025ec3-9269-4672-8515-8a3f35aa9e26.\n",
      "> Parent node text: (A) NAME/KEY: Modified-site                                               \n",
      "(B) LOCATION: 8       ...\n",
      "\n",
      "> Merging 1 nodes into parent node.\n",
      "> Parent node id: 9e21642a-c5fc-47fc-9db5-d2377eba45c3.\n",
      "> Parent node text: ID NO: 1) in inhibiting AA-induced inflammation. The most effective compounds (other than CT-112)...\n",
      "\n",
      "> Merging 1 nodes into parent node.\n",
      "> Parent node id: 5e582a9c-3bc5-4030-86d0-a362ab9b0ca2.\n",
      "> Parent node text: 8 amino acids                                                 \n",
      "(B) TYPE: amino acid              ...\n",
      "\n",
      "> Merging 1 nodes into parent node.\n",
      "> Parent node id: 045fea46-dbcc-4ddb-8bd1-a7c071598486.\n",
      "> Parent node text: (iii) HYPOTHETICAL: NO                                                    \n",
      "(iv) ANTI-SENSE: NO   ...\n",
      "\n"
     ]
    },
    {
     "data": {
      "text/markdown": [
       "<b>{'prompt_tokens': 2851, 'completion_tokens': 646, 'total_tokens': 3497}</b>"
      ],
      "text/plain": [
       "<IPython.core.display.Markdown object>"
      ]
     },
     "metadata": {},
     "output_type": "display_data"
    },
    {
     "name": "stdout",
     "output_type": "stream",
     "text": [
      "--------------------------------------------------------------------\n",
      "> Merging 1 nodes into parent node.\n",
      "> Parent node id: 349038b7-ca68-4a51-b4b6-e91bff3dcff0.\n",
      "> Parent node text: ThrThrSerGlnValAlaProArg                                                  \n",
      "15                    ...\n",
      "\n",
      "> Merging 2 nodes into parent node.\n",
      "> Parent node id: 1f03650f-ec66-470a-9dfd-23f7cb990eab.\n",
      "> Parent node text: ID NO: 1) as anti-inflammatory agents in which CT-112 (SEQ. ID NO: 1), or a portion thereof, is c...\n",
      "\n",
      "> Merging 1 nodes into parent node.\n",
      "> Parent node id: 93a2f4eb-56b0-4a5e-b87a-9334600dd0fb.\n",
      "> Parent node text: (iii) HYPOTHETICAL: NO                                                    \n",
      "(iv) ANTI-SENSE: NO   ...\n",
      "\n",
      "> Merging 1 nodes into parent node.\n",
      "> Parent node id: 76dfecc6-37c2-4b60-aa69-8919b775925e.\n",
      "> Parent node text: ID NO: 1) in inhibiting AA-induced inflammation. The most effective compounds (other than CT-112)...\n",
      "\n",
      "> Merging 1 nodes into parent node.\n",
      "> Parent node id: f4c26db5-39c5-4ef8-a1bd-e47207c109e7.\n",
      "> Parent node text: ThrThrSerGlnValAlaProArg                                                  \n",
      "15                    ...\n",
      "\n",
      "> Merging 1 nodes into parent node.\n",
      "> Parent node id: 37fcd8e6-aa5b-47b3-a5f3-493bc315fd83.\n",
      "> Parent node text: (iii) HYPOTHETICAL: NO                                                    \n",
      "(iv) ANTI-SENSE: NO   ...\n",
      "\n"
     ]
    },
    {
     "data": {
      "text/markdown": [
       "<b>{'prompt_tokens': 3115, 'completion_tokens': 373, 'total_tokens': 3488}</b>"
      ],
      "text/plain": [
       "<IPython.core.display.Markdown object>"
      ]
     },
     "metadata": {},
     "output_type": "display_data"
    },
    {
     "name": "stdout",
     "output_type": "stream",
     "text": [
      "--------------------------------------------------------------------\n",
      "> Merging 1 nodes into parent node.\n",
      "> Parent node id: 65cc1159-49f5-4da7-af20-78647cbd9d7c.\n",
      "> Parent node text: (A) LENGTH: 8 amino acids                                                 \n",
      "(B) TYPE: amino acid  ...\n",
      "\n",
      "> Merging 1 nodes into parent node.\n",
      "> Parent node id: e17ff3d4-8595-4be7-8741-c045e122285c.\n",
      "> Parent node text: (iv) ANTI-SENSE: NO                                                       \n",
      "(xi) SEQUENCE DESCRIPT...\n",
      "\n",
      "> Merging 1 nodes into parent node.\n",
      "> Parent node id: 4ad7cf05-623f-465e-8325-fb6d8417ef5f.\n",
      "> Parent node text: ID NO: 1) in inhibiting AA-induced inflammation. The most effective compounds (other than CT-112)...\n",
      "\n",
      "> Merging 1 nodes into parent node.\n",
      "> Parent node id: 35530e6d-2ba2-4257-8c57-2591852ed375.\n",
      "> Parent node text: (A) LENGTH: 8 amino acids                                                 \n",
      "(B) TYPE: amino acid  ...\n",
      "\n",
      "> Merging 1 nodes into parent node.\n",
      "> Parent node id: 006cbd91-53e3-4984-8910-815a9fafaf1b.\n",
      "> Parent node text: (iv) ANTI-SENSE: NO                                                       \n",
      "(xi) SEQUENCE DESCRIPT...\n",
      "\n"
     ]
    },
    {
     "data": {
      "text/markdown": [
       "<b>{'prompt_tokens': 3105, 'completion_tokens': 220, 'total_tokens': 3325}</b>"
      ],
      "text/plain": [
       "<IPython.core.display.Markdown object>"
      ]
     },
     "metadata": {},
     "output_type": "display_data"
    },
    {
     "name": "stdout",
     "output_type": "stream",
     "text": [
      "--------------------------------------------------------------------\n",
      "> Merging 1 nodes into parent node.\n",
      "> Parent node id: fc703386-8179-441d-8a22-4905498eb562.\n",
      "> Parent node text: (iii) HYPOTHETICAL: NO                                                    \n",
      "(iv) ANTI-SENSE: NO   ...\n",
      "\n",
      "> Merging 1 nodes into parent node.\n",
      "> Parent node id: 60de54fe-5140-4cd8-8a53-22abb1d409a6.\n",
      "> Parent node text: ID NO: 1) in inhibiting AA-induced inflammation. The most effective compounds (other than CT-112)...\n",
      "\n",
      "> Merging 1 nodes into parent node.\n",
      "> Parent node id: 83f15035-a5ed-450c-ad47-4807c79dba11.\n",
      "> Parent node text: (B) LOCATION: 7                                                           \n",
      "(D) OTHER INFORMATION:...\n",
      "\n",
      "> Merging 1 nodes into parent node.\n",
      "> Parent node id: 91f8c35a-969d-4c8b-b1b9-3a479f403d81.\n",
      "> Parent node text: (D) OTHER INFORMATION: /label= D- Arg                                     \n",
      "/note= \"Xaa = D-Argini...\n",
      "\n",
      "> Merging 1 nodes into parent node.\n",
      "> Parent node id: ffa14f1a-f466-4346-9083-6c2d396f78cd.\n",
      "> Parent node text: (iii) HYPOTHETICAL: NO                                                    \n",
      "(iv) ANTI-SENSE: NO   ...\n",
      "\n",
      "> Merging 1 nodes into parent node.\n",
      "> Parent node id: 38cec5cc-a860-43d8-a0ee-882835eeb1fb.\n",
      "> Parent node text: (B) LOCATION: 7                                                           \n",
      "(D) OTHER INFORMATION:...\n",
      "\n",
      "> Merging 1 nodes into parent node.\n",
      "> Parent node id: 2fceacfb-b72c-4268-82bf-7b2368f457e0.\n",
      "> Parent node text: (D) OTHER INFORMATION: /label= D- Arg                                     \n",
      "/note= \"Xaa = D-Argini...\n",
      "\n"
     ]
    },
    {
     "data": {
      "text/markdown": [
       "<b>{'prompt_tokens': 3108, 'completion_tokens': 343, 'total_tokens': 3451}</b>"
      ],
      "text/plain": [
       "<IPython.core.display.Markdown object>"
      ]
     },
     "metadata": {},
     "output_type": "display_data"
    },
    {
     "name": "stdout",
     "output_type": "stream",
     "text": [
      "--------------------------------------------------------------------\n",
      "> Merging 1 nodes into parent node.\n",
      "> Parent node id: ef200049-bfda-49bb-890d-ceceedaedf7b.\n",
      "> Parent node text: ID NO: 1) in inhibiting AA-induced inflammation. The most effective compounds (other than CT-112)...\n",
      "\n",
      "> Merging 1 nodes into parent node.\n",
      "> Parent node id: bdad14cf-2442-4a68-b65a-8ae3ac4e268a.\n",
      "> Parent node text: (iii) HYPOTHETICAL: NO                                                    \n",
      "(iv) ANTI-SENSE: NO   ...\n",
      "\n",
      "> Merging 1 nodes into parent node.\n",
      "> Parent node id: 6adde714-48f1-4fd3-90cd-d3d855f04d4e.\n",
      "> Parent node text: (iv) ANTI-SENSE: NO                                                       \n",
      "(xi) SEQUENCE DESCRIPT...\n",
      "\n",
      "> Merging 1 nodes into parent node.\n",
      "> Parent node id: 077f8485-de72-4446-aa3c-2ab9595c81bd.\n",
      "> Parent node text: (B) TYPE: amino acid                                                      \n",
      "(D) TOPOLOGY: unknown ...\n",
      "\n",
      "> Merging 1 nodes into parent node.\n",
      "> Parent node id: cff18b7f-2bc0-40da-9a2b-1b1cc9898a99.\n",
      "> Parent node text: (xi) SEQUENCE DESCRIPTION: SEQ_ID_NO_53:                                  \n",
      "ThrThrSerLysValArgProA...\n",
      "\n",
      "> Merging 1 nodes into parent node.\n",
      "> Parent node id: 1d6e4ea5-9a6c-4003-832f-726f5a70b56a.\n",
      "> Parent node text: (iii) HYPOTHETICAL: NO                                                    \n",
      "(iv) ANTI-SENSE: NO   ...\n",
      "\n",
      "> Merging 1 nodes into parent node.\n",
      "> Parent node id: 517e2535-a340-44cd-bc28-751f7a9b0545.\n",
      "> Parent node text: (iv) ANTI-SENSE: NO                                                       \n",
      "(xi) SEQUENCE DESCRIPT...\n",
      "\n",
      "> Merging 1 nodes into parent node.\n",
      "> Parent node id: 8da4b903-c5d3-4dba-b059-35bc8275434d.\n",
      "> Parent node text: (B) TYPE: amino acid                                                      \n",
      "(D) TOPOLOGY: unknown ...\n",
      "\n",
      "> Merging 1 nodes into parent node.\n",
      "> Parent node id: ddf50c92-30a9-486b-b7b5-eb241333a0b7.\n",
      "> Parent node text: (xi) SEQUENCE DESCRIPTION: SEQ_ID_NO_53:                                  \n",
      "ThrThrSerLysValArgProA...\n",
      "\n",
      "> Filling in node. Node id: 00e1c5d0-d04f-4687-8a5f-91b2e7bb4056> Node text: (i) SEQUENCE CHARACTERISTICS:                                             \n",
      "(A) LENGTH: 8 amino ac...\n",
      "\n"
     ]
    },
    {
     "data": {
      "text/markdown": [
       "<b>{'prompt_tokens': 3503, 'completion_tokens': 417, 'total_tokens': 3920}</b>"
      ],
      "text/plain": [
       "<IPython.core.display.Markdown object>"
      ]
     },
     "metadata": {},
     "output_type": "display_data"
    },
    {
     "name": "stdout",
     "output_type": "stream",
     "text": [
      "--------------------------------------------------------------------\n",
      "> Merging 1 nodes into parent node.\n",
      "> Parent node id: 4c7415a6-2024-47ea-9585-8e90cd0e53a5.\n",
      "> Parent node text: (iv) ANTI-SENSE: NO                                                       \n",
      "(xi) SEQUENCE DESCRIPT...\n",
      "\n",
      "> Merging 1 nodes into parent node.\n",
      "> Parent node id: 4cae3ac2-1a05-4ea1-a0fd-175b88e370b8.\n",
      "> Parent node text: (iii) HYPOTHETICAL: NO                                                    \n",
      "(iv) ANTI-SENSE: NO   ...\n",
      "\n",
      "> Merging 2 nodes into parent node.\n",
      "> Parent node id: 8a3d0384-f957-417a-b85e-edbc9dc8879a.\n",
      "> Parent node text: ID NO: 1) as anti-inflammatory agents in which CT-112 (SEQ. ID NO: 1), or a portion thereof, is c...\n",
      "\n",
      "> Merging 1 nodes into parent node.\n",
      "> Parent node id: 1e0d7692-d2d3-411a-b1ad-73e0463ee81b.\n",
      "> Parent node text: (iv) ANTI-SENSE: NO                                                       \n",
      "(xi) SEQUENCE DESCRIPT...\n",
      "\n",
      "> Merging 1 nodes into parent node.\n",
      "> Parent node id: 6736552c-1b54-4cb1-be45-5a3618d97c4e.\n",
      "> Parent node text: ID NO: 1) in inhibiting AA-induced inflammation. The most effective compounds (other than CT-112)...\n",
      "\n",
      "> Merging 1 nodes into parent node.\n",
      "> Parent node id: dae0a101-be86-439f-b7b8-b901e4aa27d2.\n",
      "> Parent node text: (iv) ANTI-SENSE: NO                                                       \n",
      "(xi) SEQUENCE DESCRIPT...\n",
      "\n",
      "> Merging 1 nodes into parent node.\n",
      "> Parent node id: 979e6f1f-9d86-4556-8a97-e464b4a5b8cb.\n",
      "> Parent node text: (iii) HYPOTHETICAL: NO                                                    \n",
      "(iv) ANTI-SENSE: NO   ...\n",
      "\n",
      "> Merging 1 nodes into parent node.\n",
      "> Parent node id: 577d117e-62a0-4a47-8b9d-c8d61e0b9494.\n",
      "> Parent node text: (iv) ANTI-SENSE: NO                                                       \n",
      "(xi) SEQUENCE DESCRIPT...\n",
      "\n"
     ]
    },
    {
     "data": {
      "text/markdown": [
       "<b>{'prompt_tokens': 2990, 'completion_tokens': 427, 'total_tokens': 3417}</b>"
      ],
      "text/plain": [
       "<IPython.core.display.Markdown object>"
      ]
     },
     "metadata": {},
     "output_type": "display_data"
    },
    {
     "name": "stdout",
     "output_type": "stream",
     "text": [
      "--------------------------------------------------------------------\n",
      "> Merging 1 nodes into parent node.\n",
      "> Parent node id: ab1ce8d2-80a4-4cde-8557-503fc70d0153.\n",
      "> Parent node text: (iii) HYPOTHETICAL: NO                                                    \n",
      "(iv) ANTI-SENSE: NO   ...\n",
      "\n",
      "> Merging 1 nodes into parent node.\n",
      "> Parent node id: 77585612-cbbf-4ae0-9d79-23dd490f7de9.\n",
      "> Parent node text: ID NO: 1) in inhibiting AA-induced inflammation. The most effective compounds (other than CT-112)...\n",
      "\n",
      "> Merging 1 nodes into parent node.\n",
      "> Parent node id: 99a240e4-5ada-40a8-a816-1d9fbae8b744.\n",
      "> Parent node text: (iv) ANTI-SENSE: NO                                                       \n",
      "(xi) SEQUENCE DESCRIPT...\n",
      "\n",
      "> Merging 1 nodes into parent node.\n",
      "> Parent node id: bae574b9-8e7b-4355-b91a-37b3f820ec98.\n",
      "> Parent node text: (iv) ANTI-SENSE: NO                                                       \n",
      "(xi) SEQUENCE DESCRIPT...\n",
      "\n",
      "> Merging 1 nodes into parent node.\n",
      "> Parent node id: 9533156d-964e-4690-b12c-c2bb80ace151.\n",
      "> Parent node text: methoxy,                     \n",
      "amino or alkyl functional group\"                                   ...\n",
      "\n",
      "> Merging 1 nodes into parent node.\n",
      "> Parent node id: b5f2ebe4-21e5-4cf8-956c-e26421b39d2f.\n",
      "> Parent node text: (iii) HYPOTHETICAL: NO                                                    \n",
      "(iv) ANTI-SENSE: NO   ...\n",
      "\n",
      "> Merging 1 nodes into parent node.\n",
      "> Parent node id: 6a5e8f8a-3b75-464d-b3dd-3fbcac69e861.\n",
      "> Parent node text: (iv) ANTI-SENSE: NO                                                       \n",
      "(xi) SEQUENCE DESCRIPT...\n",
      "\n",
      "> Merging 1 nodes into parent node.\n",
      "> Parent node id: 1a519053-a9be-4539-a4e0-8e8f06966457.\n",
      "> Parent node text: (iv) ANTI-SENSE: NO                                                       \n",
      "(xi) SEQUENCE DESCRIPT...\n",
      "\n"
     ]
    },
    {
     "data": {
      "text/markdown": [
       "<b>{'prompt_tokens': 2981, 'completion_tokens': 388, 'total_tokens': 3369}</b>"
      ],
      "text/plain": [
       "<IPython.core.display.Markdown object>"
      ]
     },
     "metadata": {},
     "output_type": "display_data"
    },
    {
     "name": "stdout",
     "output_type": "stream",
     "text": [
      "--------------------------------------------------------------------\n",
      "> Merging 1 nodes into parent node.\n",
      "> Parent node id: 9f8e46e3-b3d2-4083-8cca-c28419386a88.\n",
      "> Parent node text: ID NO: 1) in inhibiting AA-induced inflammation. The most effective compounds (other than CT-112)...\n",
      "\n",
      "> Merging 1 nodes into parent node.\n",
      "> Parent node id: 82a6227f-3cf0-4d7e-9446-79981cdcdb0e.\n",
      "> Parent node text: (i) SEQUENCE CHARACTERISTICS:                                             \n",
      "(A) LENGTH: 7 amino ac...\n",
      "\n",
      "> Merging 1 nodes into parent node.\n",
      "> Parent node id: 9ebcda0a-67ba-4a27-bdc3-3b4f3657d490.\n",
      "> Parent node text: (iii) HYPOTHETICAL: NO                                                    \n",
      "(iv) ANTI-SENSE: NO   ...\n",
      "\n",
      "> Merging 2 nodes into parent node.\n",
      "> Parent node id: 233d8522-1263-4560-95fa-9d9f3bf0dde5.\n",
      "> Parent node text: ID NO: 1) as anti-inflammatory agents in which CT-112 (SEQ. ID NO: 1), or a portion thereof, is c...\n",
      "\n",
      "> Merging 1 nodes into parent node.\n",
      "> Parent node id: 8f7b8046-7d1e-4c78-ab0c-7e9a1ab09883.\n",
      "> Parent node text: (iv) ANTI-SENSE: NO                                                       \n",
      "(xi) SEQUENCE DESCRIPT...\n",
      "\n",
      "> Merging 1 nodes into parent node.\n",
      "> Parent node id: 9f06cc4c-42fc-4144-bfce-cacad06254aa.\n",
      "> Parent node text: (iv) ANTI-SENSE: NO                                                       \n",
      "(xi) SEQUENCE DESCRIPT...\n",
      "\n",
      "> Merging 1 nodes into parent node.\n",
      "> Parent node id: b84752bd-bbb6-48c3-8736-cbe6435c74b0.\n",
      "> Parent node text: (i) SEQUENCE CHARACTERISTICS:                                             \n",
      "(A) LENGTH: 7 amino ac...\n",
      "\n",
      "> Merging 1 nodes into parent node.\n",
      "> Parent node id: 2160879c-c77b-42b7-9b69-1b350afae7ff.\n",
      "> Parent node text: (iii) HYPOTHETICAL: NO                                                    \n",
      "(iv) ANTI-SENSE: NO   ...\n",
      "\n",
      "> Merging 1 nodes into parent node.\n",
      "> Parent node id: 71d6f473-2552-44d6-b48b-f3b3d1b23dcd.\n",
      "> Parent node text: (iv) ANTI-SENSE: NO                                                       \n",
      "(xi) SEQUENCE DESCRIPT...\n",
      "\n",
      "> Merging 1 nodes into parent node.\n",
      "> Parent node id: fe0e9afc-2cff-41b6-8b1d-436d3b4491b8.\n",
      "> Parent node text: (iv) ANTI-SENSE: NO                                                       \n",
      "(xi) SEQUENCE DESCRIPT...\n",
      "\n"
     ]
    },
    {
     "data": {
      "text/markdown": [
       "<b>{'prompt_tokens': 3165, 'completion_tokens': 469, 'total_tokens': 3634}</b>"
      ],
      "text/plain": [
       "<IPython.core.display.Markdown object>"
      ]
     },
     "metadata": {},
     "output_type": "display_data"
    },
    {
     "name": "stdout",
     "output_type": "stream",
     "text": [
      "--------------------------------------------------------------------\n",
      "> Merging 2 nodes into parent node.\n",
      "> Parent node id: 2420b180-46c2-4f72-be62-6ae5f17cf16b.\n",
      "> Parent node text: ID NO: 1) as anti-inflammatory agents in which CT-112 (SEQ. ID NO: 1), or a portion thereof, is c...\n",
      "\n",
      "> Merging 1 nodes into parent node.\n",
      "> Parent node id: 83ca3f19-0e7a-487f-a434-a4b93c344a58.\n",
      "> Parent node text: (iv) ANTI-SENSE: NO                                                       \n",
      "(xi) SEQUENCE DESCRIPT...\n",
      "\n",
      "> Merging 1 nodes into parent node.\n",
      "> Parent node id: 926b14aa-f444-439b-ac75-48d09c58afe5.\n",
      "> Parent node text: (B) LOCATION: 7                                                           \n",
      "(D) OTHER INFORMATION:...\n",
      "\n",
      "> Merging 1 nodes into parent node.\n",
      "> Parent node id: 20d3e343-902e-4067-b041-621e6b76e57a.\n",
      "> Parent node text: ID NO: 1) in inhibiting AA-induced inflammation. The most effective compounds (other than CT-112)...\n",
      "\n",
      "> Merging 1 nodes into parent node.\n",
      "> Parent node id: d441a098-be1f-4dcf-9e6b-e3eebedf98f5.\n",
      "> Parent node text: (iv) ANTI-SENSE: NO                                                       \n",
      "(xi) SEQUENCE DESCRIPT...\n",
      "\n",
      "> Merging 1 nodes into parent node.\n",
      "> Parent node id: 59e5dda9-b507-4b41-8b5e-8a2adb74a328.\n",
      "> Parent node text: (iii) HYPOTHETICAL: NO                                                    \n",
      "(iv) ANTI-SENSE: NO   ...\n",
      "\n",
      "> Merging 1 nodes into parent node.\n",
      "> Parent node id: 7b59c86a-0934-4d56-a7d3-db711d042ea5.\n",
      "> Parent node text: (iv) ANTI-SENSE: NO                                                       \n",
      "(xi) SEQUENCE DESCRIPT...\n",
      "\n",
      "> Merging 1 nodes into parent node.\n",
      "> Parent node id: f5482df5-6a60-4a0a-be11-5ccec1e757a1.\n",
      "> Parent node text: (B) LOCATION: 7                                                           \n",
      "(D) OTHER INFORMATION:...\n",
      "\n",
      "> Merging 1 nodes into parent node.\n",
      "> Parent node id: 62b19084-009b-4969-a7d0-e2e6e4e14bf6.\n",
      "> Parent node text: (iv) ANTI-SENSE: NO                                                       \n",
      "(xi) SEQUENCE DESCRIPT...\n",
      "\n",
      "> Merging 1 nodes into parent node.\n",
      "> Parent node id: 84cdb7c8-ed9d-4596-b6a7-93f6198d8909.\n",
      "> Parent node text: (iii) HYPOTHETICAL: NO                                                    \n",
      "(iv) ANTI-SENSE: NO   ...\n",
      "\n"
     ]
    },
    {
     "data": {
      "text/markdown": [
       "<b>{'prompt_tokens': 3142, 'completion_tokens': 270, 'total_tokens': 3412}</b>"
      ],
      "text/plain": [
       "<IPython.core.display.Markdown object>"
      ]
     },
     "metadata": {},
     "output_type": "display_data"
    },
    {
     "name": "stdout",
     "output_type": "stream",
     "text": [
      "--------------------------------------------------------------------\n",
      "> Merging 2 nodes into parent node.\n",
      "> Parent node id: 0dc62e9b-2a6a-4030-bf58-b92ada332da9.\n",
      "> Parent node text: ID NO: 1) as anti-inflammatory agents in which CT-112 (SEQ. ID NO: 1), or a portion thereof, is c...\n",
      "\n",
      "> Merging 1 nodes into parent node.\n",
      "> Parent node id: c74b5a99-a29c-4f51-9612-33a647a86692.\n",
      "> Parent node text: (iii) HYPOTHETICAL: NO                                                    \n",
      "(iv) ANTI-SENSE: NO   ...\n",
      "\n",
      "> Merging 1 nodes into parent node.\n",
      "> Parent node id: a0498e03-5cb6-4c6e-ab2c-3aa6d05be373.\n",
      "> Parent node text: ID NO: 1) in inhibiting AA-induced inflammation. The most effective compounds (other than CT-112)...\n",
      "\n",
      "> Merging 1 nodes into parent node.\n",
      "> Parent node id: e99ee103-5e7f-4ac0-9a1e-c9268169a569.\n",
      "> Parent node text: (D) TOPOLOGY: unknown                                                     \n",
      "(ii) MOLECULE TYPE: pe...\n",
      "\n",
      "> Merging 1 nodes into parent node.\n",
      "> Parent node id: d21a94ab-07f6-46c8-b72d-cfdd3fdc9e84.\n",
      "> Parent node text: (iii) HYPOTHETICAL: NO                                                    \n",
      "(iv) ANTI-SENSE: NO   ...\n",
      "\n",
      "> Merging 1 nodes into parent node.\n",
      "> Parent node id: 9c17ea37-33d9-4b14-a2bb-b512eaca78e1.\n",
      "> Parent node text: (D) TOPOLOGY: unknown                                                     \n",
      "(ii) MOLECULE TYPE: pe...\n",
      "\n"
     ]
    },
    {
     "data": {
      "text/markdown": [
       "<b>{'prompt_tokens': 3133, 'completion_tokens': 497, 'total_tokens': 3630}</b>"
      ],
      "text/plain": [
       "<IPython.core.display.Markdown object>"
      ]
     },
     "metadata": {},
     "output_type": "display_data"
    },
    {
     "name": "stdout",
     "output_type": "stream",
     "text": [
      "--------------------------------------------------------------------\n",
      "> Merging 2 nodes into parent node.\n",
      "> Parent node id: d1039b58-68ee-456f-a1bc-d6737516b684.\n",
      "> Parent node text: The claim information:\n",
      "What is claimed is: 1. A peptide having the amino acid sequence D-Thr-Thr-...\n",
      "\n",
      "> Merging 1 nodes into parent node.\n",
      "> Parent node id: ba8c3366-d9f4-4cf0-93b2-886e63b8e577.\n",
      "> Parent node text: (iii) HYPOTHETICAL: NO                                                    \n",
      "(iv) ANTI-SENSE: NO   ...\n",
      "\n",
      "> Merging 1 nodes into parent node.\n",
      "> Parent node id: cef89416-2700-4472-87e2-211d82969164.\n",
      "> Parent node text: (B) LOCATION: 7                                                           \n",
      "(D) OTHER INFORMATION:...\n",
      "\n",
      "> Merging 1 nodes into parent node.\n",
      "> Parent node id: 26f6c71f-96a9-4508-a968-a062941422ed.\n",
      "> Parent node text: (iii) HYPOTHETICAL: NO                                                    \n",
      "(iv) ANTI-SENSE: NO   ...\n",
      "\n",
      "> Merging 1 nodes into parent node.\n",
      "> Parent node id: 8b6feb96-ed86-47d6-a12a-48ea3a8272c4.\n",
      "> Parent node text: (B) LOCATION: 7                                                           \n",
      "(D) OTHER INFORMATION:...\n",
      "\n"
     ]
    },
    {
     "data": {
      "text/markdown": [
       "<b>{'prompt_tokens': 3012, 'completion_tokens': 446, 'total_tokens': 3458}</b>"
      ],
      "text/plain": [
       "<IPython.core.display.Markdown object>"
      ]
     },
     "metadata": {},
     "output_type": "display_data"
    },
    {
     "name": "stdout",
     "output_type": "stream",
     "text": [
      "--------------------------------------------------------------------\n",
      "> Merging 1 nodes into parent node.\n",
      "> Parent node id: 66412939-5f4b-4b1e-930a-22f4325083ee.\n",
      "> Parent node text: ID NO: 1) in inhibiting AA-induced inflammation. The most effective compounds (other than CT-112)...\n",
      "\n",
      "> Merging 1 nodes into parent node.\n",
      "> Parent node id: a07df166-e90b-4171-9504-a5b0ac8d2e65.\n",
      "> Parent node text: (iii) HYPOTHETICAL: NO                                                    \n",
      "(iv) ANTI-SENSE: NO   ...\n",
      "\n",
      "> Merging 1 nodes into parent node.\n",
      "> Parent node id: 879f4de8-5277-485d-a6c5-bbf59e126e92.\n",
      "> Parent node text: peptide                                               \n",
      "(iii) HYPOTHETICAL: NO                    ...\n",
      "\n",
      "> Merging 1 nodes into parent node.\n",
      "> Parent node id: f4d7c46a-0fc5-4df6-bc67-1011cd6771fc.\n",
      "> Parent node text: (i) SEQUENCE CHARACTERISTICS:                                             \n",
      "(A) LENGTH: 7 amino ac...\n",
      "\n",
      "> Merging 1 nodes into parent node.\n",
      "> Parent node id: 3025869d-ee4e-4c26-af37-cd3817e812be.\n",
      "> Parent node text: (iii) HYPOTHETICAL: NO                                                    \n",
      "(iv) ANTI-SENSE: NO   ...\n",
      "\n",
      "> Merging 1 nodes into parent node.\n",
      "> Parent node id: 3eb97cc8-aade-42d8-9dbe-8fd9859e2318.\n",
      "> Parent node text: peptide                                               \n",
      "(iii) HYPOTHETICAL: NO                    ...\n",
      "\n",
      "> Merging 1 nodes into parent node.\n",
      "> Parent node id: 957a9620-5c79-45ce-94bf-3f61cd94f582.\n",
      "> Parent node text: (i) SEQUENCE CHARACTERISTICS:                                             \n",
      "(A) LENGTH: 7 amino ac...\n",
      "\n"
     ]
    },
    {
     "data": {
      "text/markdown": [
       "<b>{'prompt_tokens': 3049, 'completion_tokens': 656, 'total_tokens': 3705}</b>"
      ],
      "text/plain": [
       "<IPython.core.display.Markdown object>"
      ]
     },
     "metadata": {},
     "output_type": "display_data"
    },
    {
     "name": "stdout",
     "output_type": "stream",
     "text": [
      "--------------------------------------------------------------------\n",
      "> Merging 1 nodes into parent node.\n",
      "> Parent node id: 19753ad0-e2f1-46e4-af27-0974304d3965.\n",
      "> Parent node text: ID NO: 1) in inhibiting AA-induced inflammation. The most effective compounds (other than CT-112)...\n",
      "\n",
      "> Merging 2 nodes into parent node.\n",
      "> Parent node id: 0a3cc1d1-e2c1-46e2-b6d5-cca48b68a11f.\n",
      "> Parent node text: ID NO: 1) as anti-inflammatory agents in which CT-112 (SEQ. ID NO: 1), or a portion thereof, is c...\n",
      "\n",
      "> Merging 1 nodes into parent node.\n",
      "> Parent node id: c1bffe01-8482-4030-8d86-705be54f04c8.\n",
      "> Parent node text: NO                                                    \n",
      "(iv) ANTI-SENSE: NO                       ...\n",
      "\n",
      "> Merging 1 nodes into parent node.\n",
      "> Parent node id: e270b23b-a9bb-495e-bf01-c38cd5d13458.\n",
      "> Parent node text: (2) INFORMATION FOR SEQ_ID_NO_24:                                         \n",
      "(i) SEQUENCE CHARACTER...\n",
      "\n",
      "> Merging 1 nodes into parent node.\n",
      "> Parent node id: 3890af2b-e621-4b74-923a-86ad6ff458cf.\n",
      "> Parent node text: (iv) ANTI-SENSE: NO                                                       \n",
      "(xi) SEQUENCE DESCRIPT...\n",
      "\n",
      "> Merging 1 nodes into parent node.\n",
      "> Parent node id: a765c528-ad4d-41fb-97ec-f9634ba6875a.\n",
      "> Parent node text: (iv) ANTI-SENSE: NO                                                       \n",
      "(xi) SEQUENCE DESCRIPT...\n",
      "\n",
      "> Merging 1 nodes into parent node.\n",
      "> Parent node id: e1317590-4d13-428b-b48d-11fcac20bf86.\n",
      "> Parent node text: (iii) HYPOTHETICAL: NO                                                    \n",
      "(iv) ANTI-SENSE: NO   ...\n",
      "\n",
      "> Merging 1 nodes into parent node.\n",
      "> Parent node id: dea07838-6fb0-48b1-a8d7-b2a817b2e098.\n",
      "> Parent node text: NO                                                    \n",
      "(iv) ANTI-SENSE: NO                       ...\n",
      "\n",
      "> Merging 1 nodes into parent node.\n",
      "> Parent node id: 052c0aa6-e48c-4c69-950d-b055711f1fe6.\n",
      "> Parent node text: (2) INFORMATION FOR SEQ_ID_NO_24:                                         \n",
      "(i) SEQUENCE CHARACTER...\n",
      "\n",
      "> Merging 1 nodes into parent node.\n",
      "> Parent node id: afc58cca-79e0-467a-b545-36613cc62fd8.\n",
      "> Parent node text: (iv) ANTI-SENSE: NO                                                       \n",
      "(xi) SEQUENCE DESCRIPT...\n",
      "\n",
      "> Merging 1 nodes into parent node.\n",
      "> Parent node id: 2c43be75-acf0-4985-9fa8-9db83d3d6239.\n",
      "> Parent node text: (iv) ANTI-SENSE: NO                                                       \n",
      "(xi) SEQUENCE DESCRIPT...\n",
      "\n",
      "> Merging 1 nodes into parent node.\n",
      "> Parent node id: ee0848c2-c38f-49a7-9e39-ee4ab04d9fa9.\n",
      "> Parent node text: (iii) HYPOTHETICAL: NO                                                    \n",
      "(iv) ANTI-SENSE: NO   ...\n",
      "\n"
     ]
    },
    {
     "data": {
      "text/markdown": [
       "<b>{'prompt_tokens': 3136, 'completion_tokens': 326, 'total_tokens': 3462}</b>"
      ],
      "text/plain": [
       "<IPython.core.display.Markdown object>"
      ]
     },
     "metadata": {},
     "output_type": "display_data"
    },
    {
     "name": "stdout",
     "output_type": "stream",
     "text": [
      "--------------------------------------------------------------------\n",
      "> Merging 2 nodes into parent node.\n",
      "> Parent node id: a08f843b-12c5-462e-a12d-a4ae1dcbf78b.\n",
      "> Parent node text: ID NO: 1) as anti-inflammatory agents in which CT-112 (SEQ. ID NO: 1), or a portion thereof, is c...\n",
      "\n",
      "> Merging 1 nodes into parent node.\n",
      "> Parent node id: d3c65745-56a0-460c-bcaa-a81cd86615c7.\n",
      "> Parent node text: (ii) MOLECULE TYPE: peptide                                               \n",
      "(iii) HYPOTHETICAL: NO...\n",
      "\n",
      "> Merging 1 nodes into parent node.\n",
      "> Parent node id: 00b293d6-835e-497d-9a32-0d65594a7d77.\n",
      "> Parent node text: ID NO: 1) in inhibiting AA-induced inflammation. The most effective compounds (other than CT-112)...\n",
      "\n",
      "> Merging 1 nodes into parent node.\n",
      "> Parent node id: 80acfb38-63c1-4bb9-bddb-16e01419fd6b.\n",
      "> Parent node text: (ii) MOLECULE TYPE: peptide                                               \n",
      "(iii) HYPOTHETICAL: NO...\n",
      "\n"
     ]
    },
    {
     "data": {
      "text/markdown": [
       "<b>{'prompt_tokens': 3133, 'completion_tokens': 259, 'total_tokens': 3392}</b>"
      ],
      "text/plain": [
       "<IPython.core.display.Markdown object>"
      ]
     },
     "metadata": {},
     "output_type": "display_data"
    },
    {
     "name": "stdout",
     "output_type": "stream",
     "text": [
      "--------------------------------------------------------------------\n",
      "> Merging 1 nodes into parent node.\n",
      "> Parent node id: 6355b4f6-69d2-4285-8253-1a808a343c7d.\n",
      "> Parent node text: (xi) SEQUENCE DESCRIPTION: SEQ_ID_NO_17:                                  \n",
      "TyrIleAlaArgProLeuProA...\n",
      "\n",
      "> Merging 1 nodes into parent node.\n",
      "> Parent node id: 0d7e2a71-ec5f-4891-8aae-742f56365f96.\n",
      "> Parent node text: (D) TOPOLOGY: unknown                                                     \n",
      "(ii) MOLECULE TYPE: pe...\n",
      "\n",
      "> Merging 1 nodes into parent node.\n",
      "> Parent node id: ff730319-2ba2-4910-bb61-22930f13305a.\n",
      "> Parent node text: (iii) HYPOTHETICAL: NO                                                    \n",
      "(iv) ANTI-SENSE: NO   ...\n",
      "\n",
      "> Merging 1 nodes into parent node.\n",
      "> Parent node id: 1ef6b494-9fa9-4f17-855d-f9d5aaf25bec.\n",
      "> Parent node text: ID NO: 1) in inhibiting AA-induced inflammation. The most effective compounds (other than CT-112)...\n",
      "\n",
      "> Merging 1 nodes into parent node.\n",
      "> Parent node id: d33c1626-53b0-4ef2-9502-c80e5a997d7e.\n",
      "> Parent node text: (xi) SEQUENCE DESCRIPTION: SEQ_ID_NO_17:                                  \n",
      "TyrIleAlaArgProLeuProA...\n",
      "\n",
      "> Merging 1 nodes into parent node.\n",
      "> Parent node id: 89c9f627-1caf-42fd-9b81-685453778aad.\n",
      "> Parent node text: (D) TOPOLOGY: unknown                                                     \n",
      "(ii) MOLECULE TYPE: pe...\n",
      "\n",
      "> Merging 1 nodes into parent node.\n",
      "> Parent node id: f2291d07-e9f3-4ab9-a7a0-38f5c59ceb18.\n",
      "> Parent node text: (iii) HYPOTHETICAL: NO                                                    \n",
      "(iv) ANTI-SENSE: NO   ...\n",
      "\n"
     ]
    },
    {
     "data": {
      "text/markdown": [
       "<b>{'prompt_tokens': 3145, 'completion_tokens': 244, 'total_tokens': 3389}</b>"
      ],
      "text/plain": [
       "<IPython.core.display.Markdown object>"
      ]
     },
     "metadata": {},
     "output_type": "display_data"
    },
    {
     "name": "stdout",
     "output_type": "stream",
     "text": [
      "--------------------------------------------------------------------\n",
      "> Merging 1 nodes into parent node.\n",
      "> Parent node id: f6d9e8e3-18d1-423b-bfad-b5825fec9bf2.\n",
      "> Parent node text: (iii) HYPOTHETICAL: NO                                                    \n",
      "(iv) ANTI-SENSE: NO   ...\n",
      "\n",
      "> Merging 2 nodes into parent node.\n",
      "> Parent node id: bf982cd0-6d3a-48a9-a4a2-dbd88345f398.\n",
      "> Parent node text: ID NO: 1) as anti-inflammatory agents in which CT-112 (SEQ. ID NO: 1), or a portion thereof, is c...\n",
      "\n",
      "> Merging 1 nodes into parent node.\n",
      "> Parent node id: 8c1d18c1-1661-4b40-82f3-6b04ab6c8f44.\n",
      "> Parent node text: ID NO: 1) in inhibiting AA-induced inflammation. The most effective compounds (other than CT-112)...\n",
      "\n",
      "> Merging 1 nodes into parent node.\n",
      "> Parent node id: 76854c51-a20b-4d90-bf01-f2037768cfee.\n",
      "> Parent node text: (iv) ANTI-SENSE: NO                                                       \n",
      "(xi) SEQUENCE DESCRIPT...\n",
      "\n",
      "> Merging 1 nodes into parent node.\n",
      "> Parent node id: c4c02fbc-7f38-4991-ab50-3b131c42e6ef.\n",
      "> Parent node text: (iii) HYPOTHETICAL: NO                                                    \n",
      "(iv) ANTI-SENSE: NO   ...\n",
      "\n",
      "> Merging 1 nodes into parent node.\n",
      "> Parent node id: 41113a61-8097-42bd-b9a5-be41f22a2591.\n",
      "> Parent node text: (iv) ANTI-SENSE: NO                                                       \n",
      "(xi) SEQUENCE DESCRIPT...\n",
      "\n"
     ]
    },
    {
     "data": {
      "text/markdown": [
       "<b>{'prompt_tokens': 3144, 'completion_tokens': 327, 'total_tokens': 3471}</b>"
      ],
      "text/plain": [
       "<IPython.core.display.Markdown object>"
      ]
     },
     "metadata": {},
     "output_type": "display_data"
    },
    {
     "name": "stdout",
     "output_type": "stream",
     "text": [
      "--------------------------------------------------------------------\n",
      "> Merging 1 nodes into parent node.\n",
      "> Parent node id: ab62c7ce-1c1f-4fa8-853f-21416b151721.\n",
      "> Parent node text: ID NO: 1) in inhibiting AA-induced inflammation. The most effective compounds (other than CT-112)...\n",
      "\n",
      "> Merging 1 nodes into parent node.\n",
      "> Parent node id: a1bd3efc-8051-43a2-98bf-63537ad9ad4d.\n",
      "> Parent node text: (xi) SEQUENCE DESCRIPTION: SEQ_ID_NO_80:                                  \n",
      "ThrThrSerGlnValArgXaaA...\n",
      "\n"
     ]
    },
    {
     "data": {
      "text/markdown": [
       "<b>{'prompt_tokens': 3095, 'completion_tokens': 474, 'total_tokens': 3569}</b>"
      ],
      "text/plain": [
       "<IPython.core.display.Markdown object>"
      ]
     },
     "metadata": {},
     "output_type": "display_data"
    },
    {
     "name": "stdout",
     "output_type": "stream",
     "text": [
      "--------------------------------------------------------------------\n",
      "> Merging 1 nodes into parent node.\n",
      "> Parent node id: f1a4aaf9-1334-4a29-b7cf-ef05415e034e.\n",
      "> Parent node text: ID NO: 1) in inhibiting AA-induced inflammation. The most effective compounds (other than CT-112)...\n",
      "\n",
      "> Merging 1 nodes into parent node.\n",
      "> Parent node id: ea34e18c-c5f1-4b47-a7b6-de5da72dc4ec.\n",
      "> Parent node text: (iii) HYPOTHETICAL: NO                                                    \n",
      "(iv) ANTI-SENSE: NO   ...\n",
      "\n",
      "> Merging 1 nodes into parent node.\n",
      "> Parent node id: 993b1a16-8df9-4fd6-a139-b1c2cd383070.\n",
      "> Parent node text: (xi) SEQUENCE DESCRIPTION: SEQ_ID_NO_80:                                  \n",
      "ThrThrSerGlnValArgXaaA...\n",
      "\n",
      "> Merging 1 nodes into parent node.\n",
      "> Parent node id: 4b4cbc41-5ec8-4274-8afa-ee6909563180.\n",
      "> Parent node text: (iii) HYPOTHETICAL: NO                                                    \n",
      "(iv) ANTI-SENSE: NO   ...\n",
      "\n"
     ]
    },
    {
     "data": {
      "text/markdown": [
       "<b>{'prompt_tokens': 3023, 'completion_tokens': 562, 'total_tokens': 3585}</b>"
      ],
      "text/plain": [
       "<IPython.core.display.Markdown object>"
      ]
     },
     "metadata": {},
     "output_type": "display_data"
    },
    {
     "name": "stdout",
     "output_type": "stream",
     "text": [
      "--------------------------------------------------------------------\n",
      "> Merging 1 nodes into parent node.\n",
      "> Parent node id: 4853dca7-55ef-4073-8fba-53e038b573f0.\n",
      "> Parent node text: (A) LENGTH: 6 amino acids                                                 \n",
      "(B) TYPE: amino acid  ...\n",
      "\n",
      "> Merging 1 nodes into parent node.\n",
      "> Parent node id: d5046eaa-831a-4dc4-a17e-729c78c22e83.\n",
      "> Parent node text: NO                                                    \n",
      "(iv) ANTI-SENSE: NO                       ...\n",
      "\n",
      "> Merging 1 nodes into parent node.\n",
      "> Parent node id: 42df5104-b0f9-4edc-9897-30af374231f2.\n",
      "> Parent node text: ID NO: 1) in inhibiting AA-induced inflammation. The most effective compounds (other than CT-112)...\n",
      "\n",
      "> Merging 1 nodes into parent node.\n",
      "> Parent node id: cdfc68ca-2602-4e62-8c68-d39d90031463.\n",
      "> Parent node text: (A) LENGTH: 6 amino acids                                                 \n",
      "(B) TYPE: amino acid  ...\n",
      "\n",
      "> Merging 1 nodes into parent node.\n",
      "> Parent node id: 9e01f0c7-349f-4df0-b558-7c17eb07a582.\n",
      "> Parent node text: NO                                                    \n",
      "(iv) ANTI-SENSE: NO                       ...\n",
      "\n"
     ]
    },
    {
     "data": {
      "text/markdown": [
       "<b>{'prompt_tokens': 3085, 'completion_tokens': 244, 'total_tokens': 3329}</b>"
      ],
      "text/plain": [
       "<IPython.core.display.Markdown object>"
      ]
     },
     "metadata": {},
     "output_type": "display_data"
    },
    {
     "name": "stdout",
     "output_type": "stream",
     "text": [
      "--------------------------------------------------------------------\n",
      "> Merging 1 nodes into parent node.\n",
      "> Parent node id: 50bb1564-5866-4571-a5fe-fc66d94686d2.\n",
      "> Parent node text: ID NO: 1) in inhibiting AA-induced inflammation. The most effective compounds (other than CT-112)...\n",
      "\n",
      "> Merging 1 nodes into parent node.\n",
      "> Parent node id: 58fe782a-c831-4ba0-bd22-aaedc8e0664b.\n",
      "> Parent node text: (iv) ANTI-SENSE: NO                                                       \n",
      "(xi) SEQUENCE DESCRIPT...\n",
      "\n",
      "> Merging 1 nodes into parent node.\n",
      "> Parent node id: efdb347d-58e3-4983-97d3-e2f286d3e1bd.\n",
      "> Parent node text: (A) LENGTH: 8 amino acids                                                 \n",
      "(B) TYPE: amino acid  ...\n",
      "\n",
      "> Merging 1 nodes into parent node.\n",
      "> Parent node id: 131d03df-d484-44b4-beed-47233467ddb7.\n",
      "> Parent node text: (iii) HYPOTHETICAL: NO                                                    \n",
      "(iv) ANTI-SENSE: NO   ...\n",
      "\n",
      "> Merging 1 nodes into parent node.\n",
      "> Parent node id: 62d5f984-9e29-4172-8352-0920e20fae86.\n",
      "> Parent node text: (iv) ANTI-SENSE: NO                                                       \n",
      "(xi) SEQUENCE DESCRIPT...\n",
      "\n",
      "> Merging 1 nodes into parent node.\n",
      "> Parent node id: 1b89b0b7-566f-4ebf-a5b9-a7bf4c58f3a2.\n",
      "> Parent node text: (A) LENGTH: 8 amino acids                                                 \n",
      "(B) TYPE: amino acid  ...\n",
      "\n",
      "> Merging 1 nodes into parent node.\n",
      "> Parent node id: c257981c-c25c-4eb5-ac6e-ae98a134bd00.\n",
      "> Parent node text: (iii) HYPOTHETICAL: NO                                                    \n",
      "(iv) ANTI-SENSE: NO   ...\n",
      "\n"
     ]
    },
    {
     "data": {
      "text/markdown": [
       "<b>{'prompt_tokens': 3084, 'completion_tokens': 331, 'total_tokens': 3415}</b>"
      ],
      "text/plain": [
       "<IPython.core.display.Markdown object>"
      ]
     },
     "metadata": {},
     "output_type": "display_data"
    },
    {
     "name": "stdout",
     "output_type": "stream",
     "text": [
      "--------------------------------------------------------------------\n",
      "> Merging 1 nodes into parent node.\n",
      "> Parent node id: a2e351ae-4a3a-484e-bdae-67c52a0014f1.\n",
      "> Parent node text: (iv) ANTI-SENSE: NO                                                       \n",
      "(xi) SEQUENCE DESCRIPT...\n",
      "\n",
      "> Merging 1 nodes into parent node.\n",
      "> Parent node id: fa67db56-f522-4efc-9e34-ef0a126a0d7c.\n",
      "> Parent node text: ID NO: 1) in inhibiting AA-induced inflammation. The most effective compounds (other than CT-112)...\n",
      "\n",
      "> Merging 1 nodes into parent node.\n",
      "> Parent node id: 45552389-ed21-400c-aa31-aff43a6ca3d9.\n",
      "> Parent node text: (B) TYPE: amino acid                                                      \n",
      "(D) TOPOLOGY: unknown ...\n",
      "\n",
      "> Merging 1 nodes into parent node.\n",
      "> Parent node id: de4a15cd-8cdc-4f7d-b87c-6f2251de9539.\n",
      "> Parent node text: (iv) ANTI-SENSE: NO                                                       \n",
      "(xi) SEQUENCE DESCRIPT...\n",
      "\n",
      "> Merging 1 nodes into parent node.\n",
      "> Parent node id: 875a44a3-b46b-4fd8-a256-2f557d4523c9.\n",
      "> Parent node text: (B) TYPE: amino acid                                                      \n",
      "(D) TOPOLOGY: unknown ...\n",
      "\n"
     ]
    },
    {
     "data": {
      "text/markdown": [
       "<b>{'prompt_tokens': 3118, 'completion_tokens': 200, 'total_tokens': 3318}</b>"
      ],
      "text/plain": [
       "<IPython.core.display.Markdown object>"
      ]
     },
     "metadata": {},
     "output_type": "display_data"
    },
    {
     "name": "stdout",
     "output_type": "stream",
     "text": [
      "--------------------------------------------------------------------\n",
      "> Merging 2 nodes into parent node.\n",
      "> Parent node id: 092de4d2-f84c-4de2-876e-83f885b39d9e.\n",
      "> Parent node text: ID NO: 1) as anti-inflammatory agents in which CT-112 (SEQ. ID NO: 1), or a portion thereof, is c...\n",
      "\n",
      "> Merging 1 nodes into parent node.\n",
      "> Parent node id: a6ad1e4a-3a3e-49d6-baad-ca351c9aef05.\n",
      "> Parent node text: ID NO: 1) in inhibiting AA-induced inflammation. The most effective compounds (other than CT-112)...\n",
      "\n",
      "> Merging 1 nodes into parent node.\n",
      "> Parent node id: ab098479-8eb0-4a11-8fee-aa2b4ddbbc46.\n",
      "> Parent node text: (iii) HYPOTHETICAL: NO                                                    \n",
      "(iv) ANTI-SENSE: NO   ...\n",
      "\n",
      "> Merging 1 nodes into parent node.\n",
      "> Parent node id: a8880389-bdfb-4a51-8d04-8f362bcb988f.\n",
      "> Parent node text: (iv) ANTI-SENSE: NO                                                       \n",
      "(xi) SEQUENCE DESCRIPT...\n",
      "\n",
      "> Merging 1 nodes into parent node.\n",
      "> Parent node id: 473a9f96-bd6e-454d-875a-0bab860c3889.\n",
      "> Parent node text: (iii) HYPOTHETICAL: NO                                                    \n",
      "(iv) ANTI-SENSE: NO   ...\n",
      "\n",
      "> Merging 1 nodes into parent node.\n",
      "> Parent node id: 8decc237-760e-4586-ad2b-9e76ddcc79d2.\n",
      "> Parent node text: (iv) ANTI-SENSE: NO                                                       \n",
      "(xi) SEQUENCE DESCRIPT...\n",
      "\n"
     ]
    },
    {
     "data": {
      "text/markdown": [
       "<b>{'prompt_tokens': 3124, 'completion_tokens': 228, 'total_tokens': 3352}</b>"
      ],
      "text/plain": [
       "<IPython.core.display.Markdown object>"
      ]
     },
     "metadata": {},
     "output_type": "display_data"
    },
    {
     "name": "stdout",
     "output_type": "stream",
     "text": [
      "--------------------------------------------------------------------\n",
      "> Merging 2 nodes into parent node.\n",
      "> Parent node id: 115d7d6a-2810-40ca-a420-132822121dba.\n",
      "> Parent node text: ID NO: 1) as anti-inflammatory agents in which CT-112 (SEQ. ID NO: 1), or a portion thereof, is c...\n",
      "\n",
      "> Merging 1 nodes into parent node.\n",
      "> Parent node id: ffe9c62e-de34-4cd6-b039-ed874a264c6f.\n",
      "> Parent node text: ID NO: 1) in inhibiting AA-induced inflammation. The most effective compounds (other than CT-112)...\n",
      "\n",
      "> Merging 1 nodes into parent node.\n",
      "> Parent node id: 318c5bda-50d8-47c8-b453-384923c84c2f.\n",
      "> Parent node text: (D) TOPOLOGY: unknown                                                     \n",
      "(ii) MOLECULE TYPE: pe...\n",
      "\n",
      "> Merging 1 nodes into parent node.\n",
      "> Parent node id: 5c22ae91-cee6-4512-af2b-307223c0543f.\n",
      "> Parent node text: (iii) HYPOTHETICAL: NO                                                    \n",
      "(iv) ANTI-SENSE: NO   ...\n",
      "\n",
      "> Merging 1 nodes into parent node.\n",
      "> Parent node id: 4d7a21d5-7e1b-4a7b-9efb-3a541b53893a.\n",
      "> Parent node text: (D) TOPOLOGY: unknown                                                     \n",
      "(ii) MOLECULE TYPE: pe...\n",
      "\n",
      "> Merging 1 nodes into parent node.\n",
      "> Parent node id: d9c127b6-a9cf-4c6e-b25b-8b223bc506e5.\n",
      "> Parent node text: (iii) HYPOTHETICAL: NO                                                    \n",
      "(iv) ANTI-SENSE: NO   ...\n",
      "\n"
     ]
    },
    {
     "data": {
      "text/markdown": [
       "<b>{'prompt_tokens': 3118, 'completion_tokens': 228, 'total_tokens': 3346}</b>"
      ],
      "text/plain": [
       "<IPython.core.display.Markdown object>"
      ]
     },
     "metadata": {},
     "output_type": "display_data"
    },
    {
     "name": "stdout",
     "output_type": "stream",
     "text": [
      "--------------------------------------------------------------------\n",
      "> Merging 1 nodes into parent node.\n",
      "> Parent node id: 01272595-84eb-4c87-b0e4-271706be70c2.\n",
      "> Parent node text: ID NO: 1) in inhibiting AA-induced inflammation. The most effective compounds (other than CT-112)...\n",
      "\n",
      "> Merging 1 nodes into parent node.\n",
      "> Parent node id: 3615d58e-218d-4cd5-a750-67311f3a93e5.\n",
      "> Parent node text: 15                                                                        \n",
      "(2) INFORMATION FOR SE...\n",
      "\n",
      "> Merging 2 nodes into parent node.\n",
      "> Parent node id: 5b13b953-0c5b-42cb-a333-46a81d57b0e5.\n",
      "> Parent node text: ID NO: 1) as anti-inflammatory agents in which CT-112 (SEQ. ID NO: 1), or a portion thereof, is c...\n",
      "\n",
      "> Merging 1 nodes into parent node.\n",
      "> Parent node id: dab9d3e1-5b02-4da0-b2a5-32ad6acdb457.\n",
      "> Parent node text: (iii) HYPOTHETICAL: NO                                                    \n",
      "(iv) ANTI-SENSE: NO   ...\n",
      "\n",
      "> Merging 1 nodes into parent node.\n",
      "> Parent node id: 01fa449d-77df-4a9e-b29f-185cc580e236.\n",
      "> Parent node text: 15                                                                        \n",
      "(2) INFORMATION FOR SE...\n",
      "\n",
      "> Merging 1 nodes into parent node.\n",
      "> Parent node id: 8610f35c-0d68-4eb0-92ac-5b8746d7eaf1.\n",
      "> Parent node text: (iii) HYPOTHETICAL: NO                                                    \n",
      "(iv) ANTI-SENSE: NO   ...\n",
      "\n"
     ]
    },
    {
     "data": {
      "text/markdown": [
       "<b>{'prompt_tokens': 3115, 'completion_tokens': 397, 'total_tokens': 3512}</b>"
      ],
      "text/plain": [
       "<IPython.core.display.Markdown object>"
      ]
     },
     "metadata": {},
     "output_type": "display_data"
    },
    {
     "name": "stdout",
     "output_type": "stream",
     "text": [
      "--------------------------------------------------------------------\n",
      "> Merging 2 nodes into parent node.\n",
      "> Parent node id: a7ecc0a7-dbc9-447b-927c-927c3159946d.\n",
      "> Parent node text: ID NO: 1) as anti-inflammatory agents in which CT-112 (SEQ. ID NO: 1), or a portion thereof, is c...\n",
      "\n",
      "> Merging 1 nodes into parent node.\n",
      "> Parent node id: c5fa1513-7a7b-4406-ae07-beb08d0e3599.\n",
      "> Parent node text: ID NO: 1) in inhibiting AA-induced inflammation. The most effective compounds (other than CT-112)...\n",
      "\n",
      "> Merging 1 nodes into parent node.\n",
      "> Parent node id: ba89d2bc-2f44-4663-9f33-e0684670b698.\n",
      "> Parent node text: (iii) HYPOTHETICAL: NO                                                    \n",
      "(iv) ANTI-SENSE: NO   ...\n",
      "\n",
      "> Merging 1 nodes into parent node.\n",
      "> Parent node id: 7e5a5df9-eb97-4a2b-809d-84dc65454bd7.\n",
      "> Parent node text: (iv) ANTI-SENSE: NO                                                       \n",
      "(xi) SEQUENCE DESCRIPT...\n",
      "\n",
      "> Merging 1 nodes into parent node.\n",
      "> Parent node id: fa15487a-714c-4c90-9c98-47f81f859343.\n",
      "> Parent node text: (iii) HYPOTHETICAL: NO                                                    \n",
      "(iv) ANTI-SENSE: NO   ...\n",
      "\n",
      "> Merging 1 nodes into parent node.\n",
      "> Parent node id: 805eb468-3a40-4758-8caa-e80a2f320c48.\n",
      "> Parent node text: (iv) ANTI-SENSE: NO                                                       \n",
      "(xi) SEQUENCE DESCRIPT...\n",
      "\n"
     ]
    },
    {
     "data": {
      "text/markdown": [
       "<b>{'prompt_tokens': 3082, 'completion_tokens': 195, 'total_tokens': 3277}</b>"
      ],
      "text/plain": [
       "<IPython.core.display.Markdown object>"
      ]
     },
     "metadata": {},
     "output_type": "display_data"
    },
    {
     "name": "stdout",
     "output_type": "stream",
     "text": [
      "--------------------------------------------------------------------\n",
      "> Merging 1 nodes into parent node.\n",
      "> Parent node id: d3075c72-ec66-408a-8884-71312b9e9343.\n",
      "> Parent node text: ID NO: 1) in inhibiting AA-induced inflammation. The most effective compounds (other than CT-112)...\n",
      "\n",
      "> Merging 1 nodes into parent node.\n",
      "> Parent node id: 8efacdd4-e5b9-4e27-9faf-0ef9f930a2bc.\n",
      "> Parent node text: (iii) HYPOTHETICAL: NO                                                    \n",
      "(iv) ANTI-SENSE: NO   ...\n",
      "\n",
      "> Merging 2 nodes into parent node.\n",
      "> Parent node id: 57a6079c-050a-4756-89e6-c54d2f5e7ebc.\n",
      "> Parent node text: ID NO: 1) as anti-inflammatory agents in which CT-112 (SEQ. ID NO: 1), or a portion thereof, is c...\n",
      "\n",
      "> Merging 1 nodes into parent node.\n",
      "> Parent node id: 344df80b-e179-4f27-8a86-f45bd0a2180b.\n",
      "> Parent node text: (xi) SEQUENCE DESCRIPTION: SEQ_ID_NO_53:                                  \n",
      "ThrThrSerLysValArgProA...\n",
      "\n",
      "> Merging 1 nodes into parent node.\n",
      "> Parent node id: da11cb9e-3547-43dc-b2da-65a9c3d48e48.\n",
      "> Parent node text: (iii) HYPOTHETICAL: NO                                                    \n",
      "(iv) ANTI-SENSE: NO   ...\n",
      "\n",
      "> Merging 1 nodes into parent node.\n",
      "> Parent node id: 27864d97-e880-4887-9dd8-96f74f56c857.\n",
      "> Parent node text: (xi) SEQUENCE DESCRIPTION: SEQ_ID_NO_53:                                  \n",
      "ThrThrSerLysValArgProA...\n",
      "\n"
     ]
    },
    {
     "data": {
      "text/markdown": [
       "<b>{'prompt_tokens': 3056, 'completion_tokens': 213, 'total_tokens': 3269}</b>"
      ],
      "text/plain": [
       "<IPython.core.display.Markdown object>"
      ]
     },
     "metadata": {},
     "output_type": "display_data"
    },
    {
     "name": "stdout",
     "output_type": "stream",
     "text": [
      "--------------------------------------------------------------------\n",
      "> Merging 1 nodes into parent node.\n",
      "> Parent node id: f9bf061e-18c8-4dd4-8cfb-ae3afbea8621.\n",
      "> Parent node text: unknown                                                     \n",
      "(ii) MOLECULE TYPE: peptide         ...\n",
      "\n",
      "> Merging 1 nodes into parent node.\n",
      "> Parent node id: 4eaa1d2f-fd45-4ffe-8ac2-75468db82ebe.\n",
      "> Parent node text: (B) LOCATION: 7                                                           \n",
      "(D) OTHER INFORMATION:...\n",
      "\n",
      "> Merging 1 nodes into parent node.\n",
      "> Parent node id: 3b85ab86-7ab6-4ee8-8c27-9706080cd5ff.\n",
      "> Parent node text: (iv) ANTI-SENSE: NO                                                       \n",
      "(xi) SEQUENCE DESCRIPT...\n",
      "\n",
      "> Merging 1 nodes into parent node.\n",
      "> Parent node id: a9f9bc80-eb6c-45c3-a712-f66bf48364b3.\n",
      "> Parent node text: (iii) HYPOTHETICAL: NO                                                    \n",
      "(iv) ANTI-SENSE: NO   ...\n",
      "\n",
      "> Merging 1 nodes into parent node.\n",
      "> Parent node id: c93e872d-60a8-4133-b03c-9d6ed772bad7.\n",
      "> Parent node text: unknown                                                     \n",
      "(ii) MOLECULE TYPE: peptide         ...\n",
      "\n",
      "> Merging 1 nodes into parent node.\n",
      "> Parent node id: 437f77db-9367-4166-8b28-d582f05b0381.\n",
      "> Parent node text: (B) LOCATION: 7                                                           \n",
      "(D) OTHER INFORMATION:...\n",
      "\n",
      "> Merging 1 nodes into parent node.\n",
      "> Parent node id: a0b5e57f-b09b-401f-a218-24896635901b.\n",
      "> Parent node text: (iv) ANTI-SENSE: NO                                                       \n",
      "(xi) SEQUENCE DESCRIPT...\n",
      "\n",
      "> Merging 1 nodes into parent node.\n",
      "> Parent node id: 9c30174e-f576-4667-a87d-252972f33c61.\n",
      "> Parent node text: (iii) HYPOTHETICAL: NO                                                    \n",
      "(iv) ANTI-SENSE: NO   ...\n",
      "\n"
     ]
    },
    {
     "data": {
      "text/markdown": [
       "<b>{'prompt_tokens': 3162, 'completion_tokens': 335, 'total_tokens': 3497}</b>"
      ],
      "text/plain": [
       "<IPython.core.display.Markdown object>"
      ]
     },
     "metadata": {},
     "output_type": "display_data"
    },
    {
     "name": "stdout",
     "output_type": "stream",
     "text": [
      "--------------------------------------------------------------------\n",
      "> Merging 2 nodes into parent node.\n",
      "> Parent node id: e9e7a1b9-0e6a-4ad2-949a-65212e16bcb5.\n",
      "> Parent node text: The claim information:\n",
      "What is claimed is: 1. A peptide having the amino acid sequence D-Thr-Thr-...\n",
      "\n",
      "> Merging 1 nodes into parent node.\n",
      "> Parent node id: 5acca83c-cced-4c98-a05e-a2a365de67b5.\n",
      "> Parent node text: ThrThrGluGlnValArgProArg                                                  \n",
      "15                    ...\n",
      "\n",
      "> Merging 1 nodes into parent node.\n",
      "> Parent node id: 91ce5e5b-79ac-4dd1-a6b7-38ac0660eaca.\n",
      "> Parent node text: unknown                                                     \n",
      "(ii) MOLECULE TYPE: peptide         ...\n",
      "\n",
      "> Merging 1 nodes into parent node.\n",
      "> Parent node id: 05189a1d-ba51-4ddb-a966-76169212103d.\n",
      "> Parent node text: ID NO: 1) in inhibiting AA-induced inflammation. The most effective compounds (other than CT-112)...\n",
      "\n",
      "> Merging 1 nodes into parent node.\n",
      "> Parent node id: da7cd9c1-da35-4eeb-8fdd-24ae2e9944e4.\n",
      "> Parent node text: ThrThrGluGlnValArgProArg                                                  \n",
      "15                    ...\n",
      "\n",
      "> Merging 1 nodes into parent node.\n",
      "> Parent node id: 4b866d86-e7d5-4379-84b4-ed47a910c8ff.\n",
      "> Parent node text: unknown                                                     \n",
      "(ii) MOLECULE TYPE: peptide         ...\n",
      "\n"
     ]
    },
    {
     "data": {
      "text/markdown": [
       "<b>{'prompt_tokens': 3246, 'completion_tokens': 274, 'total_tokens': 3520}</b>"
      ],
      "text/plain": [
       "<IPython.core.display.Markdown object>"
      ]
     },
     "metadata": {},
     "output_type": "display_data"
    },
    {
     "name": "stdout",
     "output_type": "stream",
     "text": [
      "--------------------------------------------------------------------\n",
      "> Merging 1 nodes into parent node.\n",
      "> Parent node id: 5008a202-c585-4c53-868f-6348b880283f.\n",
      "> Parent node text: ID NO: 1) in inhibiting AA-induced inflammation. The most effective compounds (other than CT-112)...\n",
      "\n",
      "> Merging 1 nodes into parent node.\n",
      "> Parent node id: 08ac573e-bdf5-4504-9f08-5a18a53515b0.\n",
      "> Parent node text: (B) LOCATION: 7                                                           \n",
      "(D) OTHER INFORMATION:...\n",
      "\n",
      "> Merging 1 nodes into parent node.\n",
      "> Parent node id: 4bed7f43-b60b-45b4-adfa-86acccc85fb6.\n",
      "> Parent node text: (A) NAME/KEY: Modified-site                                               \n",
      "(B) LOCATION: 6       ...\n",
      "\n",
      "> Merging 1 nodes into parent node.\n",
      "> Parent node id: 16d92275-a0e6-4bf8-aba3-357479e231e6.\n",
      "> Parent node text: (B) LOCATION: 7                                                           \n",
      "(D) OTHER INFORMATION:...\n",
      "\n",
      "> Merging 1 nodes into parent node.\n",
      "> Parent node id: 860e0a90-f36a-4b27-a5d4-a2eaad773d29.\n",
      "> Parent node text: (A) NAME/KEY: Modified-site                                               \n",
      "(B) LOCATION: 6       ...\n",
      "\n"
     ]
    },
    {
     "data": {
      "text/markdown": [
       "<b>{'prompt_tokens': 3085, 'completion_tokens': 254, 'total_tokens': 3339}</b>"
      ],
      "text/plain": [
       "<IPython.core.display.Markdown object>"
      ]
     },
     "metadata": {},
     "output_type": "display_data"
    },
    {
     "name": "stdout",
     "output_type": "stream",
     "text": [
      "--------------------------------------------------------------------\n",
      "> Merging 1 nodes into parent node.\n",
      "> Parent node id: 6ec13f9e-f549-476f-8b7d-49eb3df460da.\n",
      "> Parent node text: (i) SEQUENCE CHARACTERISTICS:                                             \n",
      "(A) LENGTH: 8 amino ac...\n",
      "\n",
      "> Merging 1 nodes into parent node.\n",
      "> Parent node id: 430ba28f-133e-4c6c-a1c7-6e02a2237e85.\n",
      "> Parent node text: (A) LENGTH: 8 amino acids                                                 \n",
      "(B) TYPE: amino acid  ...\n",
      "\n",
      "> Merging 1 nodes into parent node.\n",
      "> Parent node id: c5b7003a-ce45-4a94-9a68-ec1b1fe1c68f.\n",
      "> Parent node text: (iv) ANTI-SENSE: NO                                                       \n",
      "(xi) SEQUENCE DESCRIPT...\n",
      "\n",
      "> Merging 1 nodes into parent node.\n",
      "> Parent node id: 6b364014-f659-44d9-a959-e2ef97909106.\n",
      "> Parent node text: (iv) ANTI-SENSE: NO                                                       \n",
      "(xi) SEQUENCE DESCRIPT...\n",
      "\n"
     ]
    },
    {
     "data": {
      "text/markdown": [
       "<b>{'prompt_tokens': 2743, 'completion_tokens': 456, 'total_tokens': 3199}</b>"
      ],
      "text/plain": [
       "<IPython.core.display.Markdown object>"
      ]
     },
     "metadata": {},
     "output_type": "display_data"
    },
    {
     "name": "stdout",
     "output_type": "stream",
     "text": [
      "--------------------------------------------------------------------\n",
      "> Merging 1 nodes into parent node.\n",
      "> Parent node id: 5f32e5e7-16a4-4043-9b57-ab90dbdcb66e.\n",
      "> Parent node text: L-Glu, L-His, L-Met, L-Ser and L-Tyr; provided that R-Xaa 1 -Xaa 2 -Xaa 3 -Xaa 4 -Xaa 5 -Xaa 6 -X...\n",
      "\n",
      "> Merging 2 nodes into parent node.\n",
      "> Parent node id: 98a906cb-fb18-426f-844d-9150bbc162cf.\n",
      "> Parent node text: ID NO: 1) as anti-inflammatory agents in which CT-112 (SEQ. ID NO: 1), or a portion thereof, is c...\n",
      "\n",
      "> Merging 1 nodes into parent node.\n",
      "> Parent node id: 5d97985d-0a69-4862-a613-d323f475124d.\n",
      "> Parent node text: (B) LOCATION: 7                                                           \n",
      "(D) OTHER INFORMATION:...\n",
      "\n",
      "> Merging 1 nodes into parent node.\n",
      "> Parent node id: 26c0c3a6-6ece-4f3b-9660-29c2665a49ac.\n",
      "> Parent node text: (iii) HYPOTHETICAL: NO                                                    \n",
      "(iv) ANTI-SENSE: NO   ...\n",
      "\n",
      "> Merging 1 nodes into parent node.\n",
      "> Parent node id: ccbf1bc8-3c1f-44b6-98fc-736263873534.\n",
      "> Parent node text: (D) OTHER INFORMATION: /label= D- Arg                                     \n",
      "/note= \"Xaa = D-Argini...\n",
      "\n",
      "> Merging 1 nodes into parent node.\n",
      "> Parent node id: 02729abb-183a-4086-ad3a-03a829ced3a8.\n",
      "> Parent node text: (B) LOCATION: 7                                                           \n",
      "(D) OTHER INFORMATION:...\n",
      "\n",
      "> Merging 1 nodes into parent node.\n",
      "> Parent node id: 757ec743-066d-4997-8a9b-557eeeba7b18.\n",
      "> Parent node text: (iii) HYPOTHETICAL: NO                                                    \n",
      "(iv) ANTI-SENSE: NO   ...\n",
      "\n",
      "> Merging 1 nodes into parent node.\n",
      "> Parent node id: b65ac991-ed64-4e80-adce-0426c433c88e.\n",
      "> Parent node text: (D) OTHER INFORMATION: /label= D- Arg                                     \n",
      "/note= \"Xaa = D-Argini...\n",
      "\n"
     ]
    },
    {
     "data": {
      "text/markdown": [
       "<b>{'prompt_tokens': 3123, 'completion_tokens': 278, 'total_tokens': 3401}</b>"
      ],
      "text/plain": [
       "<IPython.core.display.Markdown object>"
      ]
     },
     "metadata": {},
     "output_type": "display_data"
    },
    {
     "name": "stdout",
     "output_type": "stream",
     "text": [
      "--------------------------------------------------------------------\n",
      "> Merging 2 nodes into parent node.\n",
      "> Parent node id: d1aa9daf-7ac0-4858-85d8-dd9ebe656871.\n",
      "> Parent node text: The claim information:\n",
      "What is claimed is: 1. A peptide having the amino acid sequence D-Thr-Thr-...\n",
      "\n",
      "> Merging 2 nodes into parent node.\n",
      "> Parent node id: 4fb88fee-12f8-48c1-b469-029e28911f89.\n",
      "> Parent node text: ID NO: 1) as anti-inflammatory agents in which CT-112 (SEQ. ID NO: 1), or a portion thereof, is c...\n",
      "\n",
      "> Merging 1 nodes into parent node.\n",
      "> Parent node id: 66fdfb6f-cde8-41e4-8d3f-505421e6df2c.\n",
      "> Parent node text: (iii) HYPOTHETICAL: NO                                                    \n",
      "(iv) ANTI-SENSE: NO   ...\n",
      "\n",
      "> Merging 1 nodes into parent node.\n",
      "> Parent node id: 9d9f508d-5481-4457-84a5-ca7eab2a53cc.\n",
      "> Parent node text: (iv) ANTI-SENSE: NO                                                       \n",
      "(xi) SEQUENCE DESCRIPT...\n",
      "\n",
      "> Merging 1 nodes into parent node.\n",
      "> Parent node id: 477477d8-55b4-4bd4-9ebb-ff00f12654bc.\n",
      "> Parent node text: ID NO: 1); 3=Thr-Ser-Gln-Val-Arg-Pro-Arg (SEQ.\n",
      "\n",
      "> Merging 1 nodes into parent node.\n",
      "> Parent node id: dfd83af9-e1a3-43be-8269-66f7abd24d93.\n",
      "> Parent node text: ValLysThrThrSerGlnValArgProArg                                            \n",
      "1510                  ...\n",
      "\n",
      "> Merging 1 nodes into parent node.\n",
      "> Parent node id: 7cd1f7c6-ae54-4c04-8273-ad3cfe838aa1.\n",
      "> Parent node text: ID NO: 1) in inhibiting AA-induced inflammation. The most effective compounds (other than CT-112)...\n",
      "\n",
      "> Merging 1 nodes into parent node.\n",
      "> Parent node id: 4695a21a-3d2c-4835-9679-7fe0306c5304.\n",
      "> Parent node text: (iii) HYPOTHETICAL: NO                                                    \n",
      "(iv) ANTI-SENSE: NO   ...\n",
      "\n",
      "> Merging 1 nodes into parent node.\n",
      "> Parent node id: 7250389f-69d8-4570-aa09-8e7081b799c1.\n",
      "> Parent node text: (iv) ANTI-SENSE: NO                                                       \n",
      "(xi) SEQUENCE DESCRIPT...\n",
      "\n",
      "> Merging 1 nodes into parent node.\n",
      "> Parent node id: 9b81b09c-de5a-484b-893a-20a51c8a464d.\n",
      "> Parent node text: ValLysThrThrSerGlnValArgProArg                                            \n",
      "1510                  ...\n",
      "\n",
      "> Filling in node. Node id: 284b8e3d-b892-478e-a0d1-fe04092cd036> Node text: (i) SEQUENCE CHARACTERISTICS:                                             \n",
      "(A) LENGTH: 8 amino ac...\n",
      "\n"
     ]
    },
    {
     "data": {
      "text/markdown": [
       "<b>{'prompt_tokens': 3300, 'completion_tokens': 907, 'total_tokens': 4207}</b>"
      ],
      "text/plain": [
       "<IPython.core.display.Markdown object>"
      ]
     },
     "metadata": {},
     "output_type": "display_data"
    },
    {
     "name": "stdout",
     "output_type": "stream",
     "text": [
      "--------------------------------------------------------------------\n",
      "> Merging 1 nodes into parent node.\n",
      "> Parent node id: 2247f8ea-62f8-4b0a-84f3-463d8661148f.\n",
      "> Parent node text: (iii) HYPOTHETICAL: NO                                                    \n",
      "(iv) ANTI-SENSE: NO   ...\n",
      "\n",
      "> Merging 1 nodes into parent node.\n",
      "> Parent node id: c593a49a-cc3e-4ccd-8c09-7ec8d9956a54.\n",
      "> Parent node text: NO                                                    \n",
      "(iv) ANTI-SENSE: NO                       ...\n",
      "\n",
      "> Merging 1 nodes into parent node.\n",
      "> Parent node id: 39b093d6-94ea-4d48-8f4d-63cf7aae7ee6.\n",
      "> Parent node text: ID NO: 1) in inhibiting AA-induced inflammation. The most effective compounds (other than CT-112)...\n",
      "\n",
      "> Merging 1 nodes into parent node.\n",
      "> Parent node id: c7a9bc0d-c9f9-4a4c-aad0-6e13fb68f3a9.\n",
      "> Parent node text: (iii) HYPOTHETICAL: NO                                                    \n",
      "(iv) ANTI-SENSE: NO   ...\n",
      "\n",
      "> Merging 1 nodes into parent node.\n",
      "> Parent node id: f02c6229-fded-4401-b95a-7022f896012b.\n",
      "> Parent node text: NO                                                    \n",
      "(iv) ANTI-SENSE: NO                       ...\n",
      "\n"
     ]
    },
    {
     "data": {
      "text/markdown": [
       "<b>{'prompt_tokens': 3022, 'completion_tokens': 315, 'total_tokens': 3337}</b>"
      ],
      "text/plain": [
       "<IPython.core.display.Markdown object>"
      ]
     },
     "metadata": {},
     "output_type": "display_data"
    },
    {
     "name": "stdout",
     "output_type": "stream",
     "text": [
      "--------------------------------------------------------------------\n",
      "> Merging 2 nodes into parent node.\n",
      "> Parent node id: 094da672-4ccd-4c7c-8d55-16b4e7138db3.\n",
      "> Parent node text: ID NO: 1) as anti-inflammatory agents in which CT-112 (SEQ. ID NO: 1), or a portion thereof, is c...\n",
      "\n",
      "> Merging 1 nodes into parent node.\n",
      "> Parent node id: e3df888c-b2ca-41ae-b00e-fa50f0e929ce.\n",
      "> Parent node text: (iii) HYPOTHETICAL: NO                                                    \n",
      "(iv) ANTI-SENSE: NO   ...\n",
      "\n",
      "> Merging 1 nodes into parent node.\n",
      "> Parent node id: 41ec7d32-b531-4fbe-b6f5-5db8f016c271.\n",
      "> Parent node text: ID NO: 1) in inhibiting AA-induced inflammation. The most effective compounds (other than CT-112)...\n",
      "\n",
      "> Merging 1 nodes into parent node.\n",
      "> Parent node id: df80e098-1631-466d-9945-2c39c17099ce.\n",
      "> Parent node text: 6570                                                                      \n",
      "(2) INFORMATION FOR SE...\n",
      "\n",
      "> Merging 1 nodes into parent node.\n",
      "> Parent node id: 91e69de1-d794-4024-83c6-dca5929cd83d.\n",
      "> Parent node text: (iii) HYPOTHETICAL: NO                                                    \n",
      "(iv) ANTI-SENSE: NO   ...\n",
      "\n",
      "> Merging 1 nodes into parent node.\n",
      "> Parent node id: cc007c0f-a1ff-4ee8-b1db-ad07c812fbd9.\n",
      "> Parent node text: 6570                                                                      \n",
      "(2) INFORMATION FOR SE...\n",
      "\n"
     ]
    },
    {
     "data": {
      "text/markdown": [
       "<b>{'prompt_tokens': 3122, 'completion_tokens': 220, 'total_tokens': 3342}</b>"
      ],
      "text/plain": [
       "<IPython.core.display.Markdown object>"
      ]
     },
     "metadata": {},
     "output_type": "display_data"
    },
    {
     "name": "stdout",
     "output_type": "stream",
     "text": [
      "--------------------------------------------------------------------\n",
      "> Merging 1 nodes into parent node.\n",
      "> Parent node id: dfc19b00-a7a1-498b-be16-bb272b6fe690.\n",
      "> Parent node text: (xi) SEQUENCE DESCRIPTION: SEQ_ID_NO_17:                                  \n",
      "TyrIleAlaArgProLeuProA...\n",
      "\n",
      "> Merging 1 nodes into parent node.\n",
      "> Parent node id: e9b8c3db-4809-493f-837a-cbb1ea605dd6.\n",
      "> Parent node text: (iii) HYPOTHETICAL: NO                                                    \n",
      "(iv) ANTI-SENSE: NO   ...\n",
      "\n",
      "> Merging 1 nodes into parent node.\n",
      "> Parent node id: 39cae775-418a-40d1-a0f1-69b1e8cb5868.\n",
      "> Parent node text: (iv) ANTI-SENSE: NO                                                       \n",
      "(xi) SEQUENCE DESCRIPT...\n",
      "\n",
      "> Merging 1 nodes into parent node.\n",
      "> Parent node id: b31999b1-061b-4f84-9ff1-af289f0b635c.\n",
      "> Parent node text: ID NO: 1) in inhibiting AA-induced inflammation. The most effective compounds (other than CT-112)...\n",
      "\n",
      "> Merging 1 nodes into parent node.\n",
      "> Parent node id: 8c6c3e41-f32d-4eaf-a51c-b63473d57771.\n",
      "> Parent node text: SEQ_ID_NO_13:                                         \n",
      "(i) SEQUENCE CHARACTERISTICS:             ...\n",
      "\n",
      "> Merging 1 nodes into parent node.\n",
      "> Parent node id: 549356db-4b2d-4861-a62b-858e809e18fc.\n",
      "> Parent node text: MOLECULE TYPE: peptide                                               \n",
      "(iii) HYPOTHETICAL: NO     ...\n",
      "\n",
      "> Merging 1 nodes into parent node.\n",
      "> Parent node id: d0ca6fef-3348-4df0-af9e-19ca96d2ba26.\n",
      "> Parent node text: (xi) SEQUENCE DESCRIPTION: SEQ_ID_NO_17:                                  \n",
      "TyrIleAlaArgProLeuProA...\n",
      "\n",
      "> Merging 1 nodes into parent node.\n",
      "> Parent node id: 22c66f63-b406-4693-a0d8-e1a6861bd990.\n",
      "> Parent node text: (iii) HYPOTHETICAL: NO                                                    \n",
      "(iv) ANTI-SENSE: NO   ...\n",
      "\n",
      "> Merging 1 nodes into parent node.\n",
      "> Parent node id: 48ffb5ce-8da5-4891-996b-5fb3276dce8d.\n",
      "> Parent node text: (iv) ANTI-SENSE: NO                                                       \n",
      "(xi) SEQUENCE DESCRIPT...\n",
      "\n",
      "> Merging 1 nodes into parent node.\n",
      "> Parent node id: 0c448e2f-e95f-43a9-ac45-98e339687e4f.\n",
      "> Parent node text: SEQ_ID_NO_13:                                         \n",
      "(i) SEQUENCE CHARACTERISTICS:             ...\n",
      "\n",
      "> Merging 1 nodes into parent node.\n",
      "> Parent node id: 05408968-5e49-4b95-bea1-53ba88450ed7.\n",
      "> Parent node text: MOLECULE TYPE: peptide                                               \n",
      "(iii) HYPOTHETICAL: NO     ...\n",
      "\n"
     ]
    },
    {
     "data": {
      "text/markdown": [
       "<b>{'prompt_tokens': 3176, 'completion_tokens': 203, 'total_tokens': 3379}</b>"
      ],
      "text/plain": [
       "<IPython.core.display.Markdown object>"
      ]
     },
     "metadata": {},
     "output_type": "display_data"
    },
    {
     "name": "stdout",
     "output_type": "stream",
     "text": [
      "--------------------------------------------------------------------\n",
      "> Merging 2 nodes into parent node.\n",
      "> Parent node id: 7c21651a-dcad-4695-b6ea-4201efe59ca4.\n",
      "> Parent node text: ID NO: 1) as anti-inflammatory agents in which CT-112 (SEQ. ID NO: 1), or a portion thereof, is c...\n",
      "\n",
      "> Merging 1 nodes into parent node.\n",
      "> Parent node id: 30f64437-e044-4fde-9347-c306e0a917f0.\n",
      "> Parent node text: (iv) ANTI-SENSE: NO                                                       \n",
      "(xi) SEQUENCE DESCRIPT...\n",
      "\n",
      "> Merging 1 nodes into parent node.\n",
      "> Parent node id: 2ffc206f-4953-4b04-b16f-e0d6e3d6be46.\n",
      "> Parent node text: (iii) HYPOTHETICAL: NO                                                    \n",
      "(iv) ANTI-SENSE: NO   ...\n",
      "\n",
      "> Merging 1 nodes into parent node.\n",
      "> Parent node id: 6349138d-64b2-4f28-8ce1-9bad08b3b6e9.\n",
      "> Parent node text: (i) SEQUENCE CHARACTERISTICS:                                             \n",
      "(A) LENGTH: 8 amino ac...\n",
      "\n",
      "> Merging 1 nodes into parent node.\n",
      "> Parent node id: 28c71853-697e-4523-824f-6ac5c00d9b09.\n",
      "> Parent node text: ID NO: 1) in inhibiting AA-induced inflammation. The most effective compounds (other than CT-112)...\n",
      "\n",
      "> Merging 1 nodes into parent node.\n",
      "> Parent node id: 11dc20ce-666b-4654-b4ff-ad3d7a55dd44.\n",
      "> Parent node text: (iv) ANTI-SENSE: NO                                                       \n",
      "(xi) SEQUENCE DESCRIPT...\n",
      "\n",
      "> Merging 1 nodes into parent node.\n",
      "> Parent node id: ee91d71c-2714-49b2-aaeb-bf80190846ba.\n",
      "> Parent node text: (iii) HYPOTHETICAL: NO                                                    \n",
      "(iv) ANTI-SENSE: NO   ...\n",
      "\n",
      "> Merging 1 nodes into parent node.\n",
      "> Parent node id: 3c3d6a1d-2a2d-45b5-bbc5-97ff98b0c8b0.\n",
      "> Parent node text: (i) SEQUENCE CHARACTERISTICS:                                             \n",
      "(A) LENGTH: 8 amino ac...\n",
      "\n"
     ]
    },
    {
     "data": {
      "text/markdown": [
       "<b>{'prompt_tokens': 3148, 'completion_tokens': 560, 'total_tokens': 3708}</b>"
      ],
      "text/plain": [
       "<IPython.core.display.Markdown object>"
      ]
     },
     "metadata": {},
     "output_type": "display_data"
    },
    {
     "name": "stdout",
     "output_type": "stream",
     "text": [
      "--------------------------------------------------------------------\n",
      "> Merging 1 nodes into parent node.\n",
      "> Parent node id: 5fcc3454-5cbc-4f8e-a83d-99a9ff7a55a1.\n",
      "> Parent node text: ID NO: 1) in inhibiting AA-induced inflammation. The most effective compounds (other than CT-112)...\n",
      "\n",
      "> Merging 1 nodes into parent node.\n",
      "> Parent node id: 70013bcb-9667-461e-907d-97405192f2fa.\n",
      "> Parent node text: (iv) ANTI-SENSE: NO                                                       \n",
      "(xi) SEQUENCE DESCRIPT...\n",
      "\n",
      "> Merging 1 nodes into parent node.\n",
      "> Parent node id: 90b597e3-4336-4c4c-9c17-ea64d6cc69ac.\n",
      "> Parent node text: (iv) ANTI-SENSE: NO                                                       \n",
      "(xi) SEQUENCE DESCRIPT...\n",
      "\n"
     ]
    },
    {
     "data": {
      "text/markdown": [
       "<b>{'prompt_tokens': 2911, 'completion_tokens': 304, 'total_tokens': 3215}</b>"
      ],
      "text/plain": [
       "<IPython.core.display.Markdown object>"
      ]
     },
     "metadata": {},
     "output_type": "display_data"
    },
    {
     "name": "stdout",
     "output_type": "stream",
     "text": [
      "--------------------------------------------------------------------\n",
      "> Merging 1 nodes into parent node.\n",
      "> Parent node id: 4b741cdc-caf9-49a4-b1ad-4b8c8559a484.\n",
      "> Parent node text: (A) LENGTH: 6 amino acids                                                 \n",
      "(B) TYPE: amino acid  ...\n",
      "\n",
      "> Merging 1 nodes into parent node.\n",
      "> Parent node id: cf7c768c-705b-4d0d-87de-cc517f69e0ec.\n",
      "> Parent node text: ID NO: 1) in inhibiting AA-induced inflammation. The most effective compounds (other than CT-112)...\n",
      "\n",
      "> Merging 1 nodes into parent node.\n",
      "> Parent node id: 4ecbac55-5ea3-4af9-ac0a-3652ccff770c.\n",
      "> Parent node text: (xi) SEQUENCE DESCRIPTION: SEQ_ID_NO_28:                                  \n",
      "ThrThrSerGln          ...\n",
      "\n",
      "> Merging 1 nodes into parent node.\n",
      "> Parent node id: f7e2433c-c6b0-42f3-99cb-f2a87bc6914d.\n",
      "> Parent node text: (iii) HYPOTHETICAL: NO                                                    \n",
      "(iv) ANTI-SENSE: NO   ...\n",
      "\n",
      "> Merging 1 nodes into parent node.\n",
      "> Parent node id: 5cf8df29-8b9f-42e9-9aed-d63ba1383503.\n",
      "> Parent node text: (A) LENGTH: 6 amino acids                                                 \n",
      "(B) TYPE: amino acid  ...\n",
      "\n",
      "> Merging 1 nodes into parent node.\n",
      "> Parent node id: 7ed30d59-f44c-4907-bfcd-8ab0f2562f39.\n",
      "> Parent node text: (xi) SEQUENCE DESCRIPTION: SEQ_ID_NO_28:                                  \n",
      "ThrThrSerGln          ...\n",
      "\n",
      "> Merging 1 nodes into parent node.\n",
      "> Parent node id: efacd5fa-e2fb-48a9-9797-c5f7e70d9f0f.\n",
      "> Parent node text: (iii) HYPOTHETICAL: NO                                                    \n",
      "(iv) ANTI-SENSE: NO   ...\n",
      "\n"
     ]
    },
    {
     "data": {
      "text/markdown": [
       "<b>{'prompt_tokens': 3052, 'completion_tokens': 424, 'total_tokens': 3476}</b>"
      ],
      "text/plain": [
       "<IPython.core.display.Markdown object>"
      ]
     },
     "metadata": {},
     "output_type": "display_data"
    },
    {
     "name": "stdout",
     "output_type": "stream",
     "text": [
      "--------------------------------------------------------------------\n",
      "> Merging 2 nodes into parent node.\n",
      "> Parent node id: d96fd8c8-446c-46f3-8fc2-b7ed7d8058a3.\n",
      "> Parent node text: ID NO: 1) as anti-inflammatory agents in which CT-112 (SEQ. ID NO: 1), or a portion thereof, is c...\n",
      "\n",
      "> Merging 1 nodes into parent node.\n",
      "> Parent node id: 3cd66a81-0a0f-4232-98ca-ce1330ba3579.\n",
      "> Parent node text: (iii) HYPOTHETICAL: NO                                                    \n",
      "(iv) ANTI-SENSE: NO   ...\n",
      "\n",
      "> Merging 1 nodes into parent node.\n",
      "> Parent node id: 9c28551a-72d2-4baf-908b-454a6bd8ff75.\n",
      "> Parent node text: (2) INFORMATION FOR SEQ_ID_NO_6:                                          \n",
      "(i) SEQUENCE CHARACTER...\n",
      "\n",
      "> Merging 1 nodes into parent node.\n",
      "> Parent node id: 26a90cfc-9cdf-4cfc-97a6-ea23fc4c8413.\n",
      "> Parent node text: (iv) ANTI-SENSE: NO                                                       \n",
      "(xi) SEQUENCE DESCRIPT...\n",
      "\n",
      "> Merging 1 nodes into parent node.\n",
      "> Parent node id: 4319a028-fbcc-4b53-8a41-67462ae61586.\n",
      "> Parent node text: ID NO: 1) in inhibiting AA-induced inflammation. The most effective compounds (other than CT-112)...\n",
      "\n",
      "> Merging 1 nodes into parent node.\n",
      "> Parent node id: 4c0eb008-7f2c-41c2-a74b-5255602f2241.\n",
      "> Parent node text: (A) LENGTH: 70 amino acids                                                \n",
      "(B) TYPE: amino acid  ...\n",
      "\n",
      "> Merging 1 nodes into parent node.\n",
      "> Parent node id: 586b589b-b383-4bdf-9ce2-f9b395a38a8d.\n",
      "> Parent node text: (iii) HYPOTHETICAL: NO                                                    \n",
      "(iv) ANTI-SENSE: NO   ...\n",
      "\n",
      "> Merging 1 nodes into parent node.\n",
      "> Parent node id: 75b42a9d-7735-4c05-9d32-ba092bb0e8df.\n",
      "> Parent node text: (2) INFORMATION FOR SEQ_ID_NO_6:                                          \n",
      "(i) SEQUENCE CHARACTER...\n",
      "\n",
      "> Merging 1 nodes into parent node.\n",
      "> Parent node id: a176aebf-869d-498f-b90a-9bd9d4ce4504.\n",
      "> Parent node text: (iv) ANTI-SENSE: NO                                                       \n",
      "(xi) SEQUENCE DESCRIPT...\n",
      "\n",
      "> Merging 1 nodes into parent node.\n",
      "> Parent node id: 87243dbc-932b-42ef-96cf-0a2787e7366c.\n",
      "> Parent node text: (A) LENGTH: 70 amino acids                                                \n",
      "(B) TYPE: amino acid  ...\n",
      "\n"
     ]
    },
    {
     "data": {
      "text/markdown": [
       "<b>{'prompt_tokens': 3131, 'completion_tokens': 607, 'total_tokens': 3738}</b>"
      ],
      "text/plain": [
       "<IPython.core.display.Markdown object>"
      ]
     },
     "metadata": {},
     "output_type": "display_data"
    },
    {
     "name": "stdout",
     "output_type": "stream",
     "text": [
      "--------------------------------------------------------------------\n",
      "> Merging 1 nodes into parent node.\n",
      "> Parent node id: 7e48f870-5883-43fb-aed0-32d3d8052f64.\n",
      "> Parent node text: (B) TYPE: amino acid                                                      \n",
      "(D) TOPOLOGY: unknown ...\n",
      "\n",
      "> Merging 1 nodes into parent node.\n",
      "> Parent node id: aaeefbaf-5f72-4b32-8dbf-ace0f00f2ec7.\n",
      "> Parent node text: (iv) ANTI-SENSE: NO                                                       \n",
      "(xi) SEQUENCE DESCRIPT...\n",
      "\n",
      "> Merging 1 nodes into parent node.\n",
      "> Parent node id: a1588f7b-6985-423c-a74d-907ed19f1dcd.\n",
      "> Parent node text: (xi) SEQUENCE DESCRIPTION: SEQ_ID_NO_28:                                  \n",
      "ThrThrSerGln          ...\n",
      "\n",
      "> Merging 1 nodes into parent node.\n",
      "> Parent node id: 68adb9ad-ee28-4348-aa25-a19ccfa0cdca.\n",
      "> Parent node text: (iii) HYPOTHETICAL: NO                                                    \n",
      "(iv) ANTI-SENSE: NO   ...\n",
      "\n",
      "> Merging 1 nodes into parent node.\n",
      "> Parent node id: 16a8e34b-4695-4f2e-b3b1-8413b9555084.\n",
      "> Parent node text: (iv) ANTI-SENSE: NO                                                       \n",
      "(xi) SEQUENCE DESCRIPT...\n",
      "\n",
      "> Merging 1 nodes into parent node.\n",
      "> Parent node id: f96a1ebd-d7dc-4e6c-aae3-77d843c72a1c.\n",
      "> Parent node text: (iv) ANTI-SENSE: NO                                                       \n",
      "(xi) SEQUENCE DESCRIPT...\n",
      "\n",
      "> Merging 1 nodes into parent node.\n",
      "> Parent node id: 6e717c53-ca07-4d79-8952-1a0891827c83.\n",
      "> Parent node text: (B) TYPE: amino acid                                                      \n",
      "(D) TOPOLOGY: unknown ...\n",
      "\n",
      "> Merging 1 nodes into parent node.\n",
      "> Parent node id: b93c0448-99ee-4095-90a8-b3b5615cd01a.\n",
      "> Parent node text: (iv) ANTI-SENSE: NO                                                       \n",
      "(xi) SEQUENCE DESCRIPT...\n",
      "\n",
      "> Merging 1 nodes into parent node.\n",
      "> Parent node id: b5f8d151-d216-42cd-af95-9575eb0c7369.\n",
      "> Parent node text: (xi) SEQUENCE DESCRIPTION: SEQ_ID_NO_28:                                  \n",
      "ThrThrSerGln          ...\n",
      "\n",
      "> Merging 1 nodes into parent node.\n",
      "> Parent node id: 3a0e0dfc-99fd-4196-be50-a851c6751caa.\n",
      "> Parent node text: (iii) HYPOTHETICAL: NO                                                    \n",
      "(iv) ANTI-SENSE: NO   ...\n",
      "\n",
      "> Merging 1 nodes into parent node.\n",
      "> Parent node id: 20e0af76-fcbd-471c-ae7d-42abd5d4fa38.\n",
      "> Parent node text: (iv) ANTI-SENSE: NO                                                       \n",
      "(xi) SEQUENCE DESCRIPT...\n",
      "\n",
      "> Merging 1 nodes into parent node.\n",
      "> Parent node id: 5cb790b5-e41e-4718-b331-a0fb6d95ec30.\n",
      "> Parent node text: (iv) ANTI-SENSE: NO                                                       \n",
      "(xi) SEQUENCE DESCRIPT...\n",
      "\n",
      "> Filling in node. Node id: 5bddf811-5c5f-4466-8dc1-0a3185c8e3bb> Node text: (i) SEQUENCE CHARACTERISTICS:                                             \n",
      "(A) LENGTH: 8 amino ac...\n",
      "\n"
     ]
    },
    {
     "data": {
      "text/markdown": [
       "<b>{'prompt_tokens': 3391, 'completion_tokens': 448, 'total_tokens': 3839}</b>"
      ],
      "text/plain": [
       "<IPython.core.display.Markdown object>"
      ]
     },
     "metadata": {},
     "output_type": "display_data"
    },
    {
     "name": "stdout",
     "output_type": "stream",
     "text": [
      "--------------------------------------------------------------------\n",
      "> Merging 2 nodes into parent node.\n",
      "> Parent node id: ef407f7e-6f78-46b5-ab61-56eb3c1b8b0b.\n",
      "> Parent node text: ID NO: 1) as anti-inflammatory agents in which CT-112 (SEQ. ID NO: 1), or a portion thereof, is c...\n",
      "\n",
      "> Merging 1 nodes into parent node.\n",
      "> Parent node id: 25d0a7ee-8a4a-4092-877a-9195dfda194f.\n",
      "> Parent node text: (iv) ANTI-SENSE: NO                                                       \n",
      "(ix) FEATURE:         ...\n",
      "\n",
      "> Merging 1 nodes into parent node.\n",
      "> Parent node id: 62504e4a-74cc-4e18-92ab-f6cb64efb73d.\n",
      "> Parent node text: (B) LOCATION: 7                                                           \n",
      "(D) OTHER INFORMATION:...\n",
      "\n",
      "> Merging 1 nodes into parent node.\n",
      "> Parent node id: e25f808e-ab3f-41f3-bbc5-b29c76227a13.\n",
      "> Parent node text: (iii) HYPOTHETICAL: NO                                                    \n",
      "(iv) ANTI-SENSE: NO   ...\n",
      "\n",
      "> Merging 1 nodes into parent node.\n",
      "> Parent node id: e9c26f3d-783f-475c-9d04-beb26fe597a4.\n",
      "> Parent node text: (iii) HYPOTHETICAL: NO                                                    \n",
      "(iv) ANTI-SENSE: NO   ...\n",
      "\n",
      "> Merging 1 nodes into parent node.\n",
      "> Parent node id: 59cce5a3-c5d5-435d-9e31-e74336cf2b52.\n",
      "> Parent node text: (iv) ANTI-SENSE: NO                                                       \n",
      "(ix) FEATURE:         ...\n",
      "\n",
      "> Merging 1 nodes into parent node.\n",
      "> Parent node id: 6eb0b21f-616e-4465-b8a5-20c25be56f72.\n",
      "> Parent node text: (B) LOCATION: 7                                                           \n",
      "(D) OTHER INFORMATION:...\n",
      "\n",
      "> Merging 1 nodes into parent node.\n",
      "> Parent node id: 0cc08653-f96d-4210-a8aa-ef66771849c4.\n",
      "> Parent node text: (iii) HYPOTHETICAL: NO                                                    \n",
      "(iv) ANTI-SENSE: NO   ...\n",
      "\n",
      "> Merging 1 nodes into parent node.\n",
      "> Parent node id: 19102095-d883-4e1d-a51a-afbf06f1118e.\n",
      "> Parent node text: (iii) HYPOTHETICAL: NO                                                    \n",
      "(iv) ANTI-SENSE: NO   ...\n",
      "\n"
     ]
    },
    {
     "data": {
      "text/markdown": [
       "<b>{'prompt_tokens': 3076, 'completion_tokens': 295, 'total_tokens': 3371}</b>"
      ],
      "text/plain": [
       "<IPython.core.display.Markdown object>"
      ]
     },
     "metadata": {},
     "output_type": "display_data"
    },
    {
     "name": "stdout",
     "output_type": "stream",
     "text": [
      "--------------------------------------------------------------------\n",
      "> Merging 1 nodes into parent node.\n",
      "> Parent node id: 6ba3701b-54ac-422b-8ec4-7311e8b5b467.\n",
      "> Parent node text: (iv) ANTI-SENSE: NO                                                       \n",
      "(xi) SEQUENCE DESCRIPT...\n",
      "\n",
      "> Merging 1 nodes into parent node.\n",
      "> Parent node id: c0b007ad-5cb4-440b-ad62-38adbec09d6e.\n",
      "> Parent node text: (ii) MOLECULE TYPE: peptide                                               \n",
      "(iii) HYPOTHETICAL: NO...\n",
      "\n",
      "> Merging 1 nodes into parent node.\n",
      "> Parent node id: d32d6ba7-fe2f-4a17-a8e8-b385ea3ddc01.\n",
      "> Parent node text: 15                                                                        \n",
      "(2) INFORMATION FOR SE...\n",
      "\n",
      "> Merging 1 nodes into parent node.\n",
      "> Parent node id: 97f40e3c-9fb9-4e74-95c1-3469089a6a61.\n",
      "> Parent node text: (iv) ANTI-SENSE: NO                                                       \n",
      "(xi) SEQUENCE DESCRIPT...\n",
      "\n",
      "> Merging 1 nodes into parent node.\n",
      "> Parent node id: f5794cb8-1ef7-4faa-880c-d5aa3b60e1a0.\n",
      "> Parent node text: (iv) ANTI-SENSE: NO                                                       \n",
      "(xi) SEQUENCE DESCRIPT...\n",
      "\n",
      "> Merging 1 nodes into parent node.\n",
      "> Parent node id: dbddc3b4-9990-4e55-9154-1896e88e2f22.\n",
      "> Parent node text: (iv) ANTI-SENSE: NO                                                       \n",
      "(xi) SEQUENCE DESCRIPT...\n",
      "\n",
      "> Merging 1 nodes into parent node.\n",
      "> Parent node id: 863dab63-1339-496f-be9a-061b2476e8b0.\n",
      "> Parent node text: (ii) MOLECULE TYPE: peptide                                               \n",
      "(iii) HYPOTHETICAL: NO...\n",
      "\n",
      "> Merging 1 nodes into parent node.\n",
      "> Parent node id: 9251ac4a-c7a1-44d0-ba50-043a5b94da88.\n",
      "> Parent node text: 15                                                                        \n",
      "(2) INFORMATION FOR SE...\n",
      "\n",
      "> Merging 1 nodes into parent node.\n",
      "> Parent node id: 5504170d-2fa7-4b58-bdfc-c102b4206bb5.\n",
      "> Parent node text: (iv) ANTI-SENSE: NO                                                       \n",
      "(xi) SEQUENCE DESCRIPT...\n",
      "\n",
      "> Merging 1 nodes into parent node.\n",
      "> Parent node id: c525d4f4-a6b0-4029-8534-81c9b947f250.\n",
      "> Parent node text: (iv) ANTI-SENSE: NO                                                       \n",
      "(xi) SEQUENCE DESCRIPT...\n",
      "\n"
     ]
    },
    {
     "data": {
      "text/markdown": [
       "<b>{'prompt_tokens': 3085, 'completion_tokens': 397, 'total_tokens': 3482}</b>"
      ],
      "text/plain": [
       "<IPython.core.display.Markdown object>"
      ]
     },
     "metadata": {},
     "output_type": "display_data"
    },
    {
     "name": "stdout",
     "output_type": "stream",
     "text": [
      "--------------------------------------------------------------------\n",
      "> Merging 1 nodes into parent node.\n",
      "> Parent node id: bf1ca40c-2c1e-46f1-b512-647942770e78.\n",
      "> Parent node text: (iii) HYPOTHETICAL: NO                                                    \n",
      "(iv) ANTI-SENSE: NO   ...\n",
      "\n",
      "> Merging 1 nodes into parent node.\n",
      "> Parent node id: 9f9cc216-ae34-4b92-8ced-fff06cc68c6e.\n",
      "> Parent node text: 15                                                                        \n",
      "(2) INFORMATION FOR SE...\n",
      "\n",
      "> Merging 1 nodes into parent node.\n",
      "> Parent node id: 88064084-84de-478a-b12c-85ffb95e3590.\n",
      "> Parent node text: (iv) ANTI-SENSE: NO                                                       \n",
      "(xi) SEQUENCE DESCRIPT...\n",
      "\n",
      "> Merging 1 nodes into parent node.\n",
      "> Parent node id: db84005a-a930-4b9e-9e5c-4c374fc7f22c.\n",
      "> Parent node text: ID NO: 1) in inhibiting AA-induced inflammation. The most effective compounds (other than CT-112)...\n",
      "\n",
      "> Merging 1 nodes into parent node.\n",
      "> Parent node id: 70d01e4b-9bbf-4b10-afdd-36a1700d1a49.\n",
      "> Parent node text: (iii) HYPOTHETICAL: NO                                                    \n",
      "(iv) ANTI-SENSE: NO   ...\n",
      "\n",
      "> Merging 1 nodes into parent node.\n",
      "> Parent node id: d17ae3b4-b49a-4087-abc5-4f66b11e7e64.\n",
      "> Parent node text: 15                                                                        \n",
      "(2) INFORMATION FOR SE...\n",
      "\n",
      "> Merging 1 nodes into parent node.\n",
      "> Parent node id: 9f16e6ea-2126-419d-9e23-e9db284052bd.\n",
      "> Parent node text: (iv) ANTI-SENSE: NO                                                       \n",
      "(xi) SEQUENCE DESCRIPT...\n",
      "\n"
     ]
    },
    {
     "data": {
      "text/markdown": [
       "<b>{'prompt_tokens': 3120, 'completion_tokens': 267, 'total_tokens': 3387}</b>"
      ],
      "text/plain": [
       "<IPython.core.display.Markdown object>"
      ]
     },
     "metadata": {},
     "output_type": "display_data"
    },
    {
     "name": "stdout",
     "output_type": "stream",
     "text": [
      "--------------------------------------------------------------------\n",
      "> Merging 2 nodes into parent node.\n",
      "> Parent node id: fc869b37-0344-4987-ab9d-d9672748859f.\n",
      "> Parent node text: ID NO: 1) as anti-inflammatory agents in which CT-112 (SEQ. ID NO: 1), or a portion thereof, is c...\n",
      "\n",
      "> Merging 1 nodes into parent node.\n",
      "> Parent node id: c362be83-fe54-41e3-bf79-aaa48063905c.\n",
      "> Parent node text: (A) NAME/KEY: Modified-site                                               \n",
      "(B) LOCATION: 6       ...\n",
      "\n",
      "> Merging 1 nodes into parent node.\n",
      "> Parent node id: e435bb25-a253-463b-9251-ad15e35abcac.\n",
      "> Parent node text: ID NO: 1) in inhibiting AA-induced inflammation. The most effective compounds (other than CT-112)...\n",
      "\n",
      "> Merging 1 nodes into parent node.\n",
      "> Parent node id: b56342fc-df51-417c-96f7-6fa837aa19e9.\n",
      "> Parent node text: (ix) FEATURE:                                                             \n",
      "(A) NAME/KEY: Modified...\n",
      "\n",
      "> Merging 1 nodes into parent node.\n",
      "> Parent node id: 46575fe2-b4ac-4072-a3ee-3f5747ba17a1.\n",
      "> Parent node text: (B) LOCATION: 7                                                           \n",
      "(D) OTHER INFORMATION:...\n",
      "\n",
      "> Merging 1 nodes into parent node.\n",
      "> Parent node id: 72eb8200-049b-4724-bfcf-f738709817d9.\n",
      "> Parent node text: (A) NAME/KEY: Modified-site                                               \n",
      "(B) LOCATION: 6       ...\n",
      "\n",
      "> Merging 1 nodes into parent node.\n",
      "> Parent node id: f119794d-a5bb-4542-ac76-9d0491f1885f.\n",
      "> Parent node text: (ix) FEATURE:                                                             \n",
      "(A) NAME/KEY: Modified...\n",
      "\n",
      "> Merging 1 nodes into parent node.\n",
      "> Parent node id: 418489dc-4d84-432b-a2a2-7368b70b9866.\n",
      "> Parent node text: (B) LOCATION: 7                                                           \n",
      "(D) OTHER INFORMATION:...\n",
      "\n",
      "> Filling in node. Node id: 72eb8200-049b-4724-bfcf-f738709817d9> Node text: (A) NAME/KEY: Modified-site                                               \n",
      "(B) LOCATION: 6       ...\n",
      "\n"
     ]
    },
    {
     "data": {
      "text/markdown": [
       "<b>{'prompt_tokens': 3407, 'completion_tokens': 396, 'total_tokens': 3803}</b>"
      ],
      "text/plain": [
       "<IPython.core.display.Markdown object>"
      ]
     },
     "metadata": {},
     "output_type": "display_data"
    },
    {
     "name": "stdout",
     "output_type": "stream",
     "text": [
      "--------------------------------------------------------------------\n",
      "> Merging 1 nodes into parent node.\n",
      "> Parent node id: 450505a1-939b-4fae-9588-42eab7978b3b.\n",
      "> Parent node text: ThrThrSerGlnValAlaProArg                                                  \n",
      "15                    ...\n",
      "\n",
      "> Merging 1 nodes into parent node.\n",
      "> Parent node id: f48e3c46-88d7-473d-9e70-a9d2ae62dce6.\n",
      "> Parent node text: ID NO: 1) in inhibiting AA-induced inflammation. The most effective compounds (other than CT-112)...\n",
      "\n",
      "> Merging 1 nodes into parent node.\n",
      "> Parent node id: 38d730db-9e94-411f-9b8f-22bc0f9a6ef5.\n",
      "> Parent node text: (D) TOPOLOGY: unknown                                                     \n",
      "(ii) MOLECULE TYPE: pe...\n",
      "\n",
      "> Merging 1 nodes into parent node.\n",
      "> Parent node id: 6b36bcb7-2468-4dfb-9fb3-ed7c2536fc5a.\n",
      "> Parent node text: ThrThrSerGlnValAlaProArg                                                  \n",
      "15                    ...\n",
      "\n",
      "> Merging 1 nodes into parent node.\n",
      "> Parent node id: 37629377-3eed-4e3f-9026-25d774575164.\n",
      "> Parent node text: (D) TOPOLOGY: unknown                                                     \n",
      "(ii) MOLECULE TYPE: pe...\n",
      "\n"
     ]
    },
    {
     "data": {
      "text/markdown": [
       "<b>{'prompt_tokens': 3104, 'completion_tokens': 414, 'total_tokens': 3518}</b>"
      ],
      "text/plain": [
       "<IPython.core.display.Markdown object>"
      ]
     },
     "metadata": {},
     "output_type": "display_data"
    },
    {
     "name": "stdout",
     "output_type": "stream",
     "text": [
      "--------------------------------------------------------------------\n",
      "> Merging 1 nodes into parent node.\n",
      "> Parent node id: 60012559-923e-497f-87ea-14dfa96498c3.\n",
      "> Parent node text: (xi) SEQUENCE DESCRIPTION: SEQ_ID_NO_64:                                  \n",
      "ThrThrSerGlnValArgLeuA...\n",
      "\n",
      "> Merging 2 nodes into parent node.\n",
      "> Parent node id: 67108724-7aa4-4da9-aff7-bdf0f5bd730f.\n",
      "> Parent node text: ID NO: 1) as anti-inflammatory agents in which CT-112 (SEQ. ID NO: 1), or a portion thereof, is c...\n",
      "\n",
      "> Merging 1 nodes into parent node.\n",
      "> Parent node id: 92556319-77ed-4e3e-b624-6fc5b87d07eb.\n",
      "> Parent node text: ID NO: 1) in inhibiting AA-induced inflammation. The most effective compounds (other than CT-112)...\n",
      "\n",
      "> Merging 1 nodes into parent node.\n",
      "> Parent node id: 0491db04-8576-4560-83ab-309463a59bc8.\n",
      "> Parent node text: (xi) SEQUENCE DESCRIPTION: SEQ_ID_NO_64:                                  \n",
      "ThrThrSerGlnValArgLeuA...\n",
      "\n"
     ]
    },
    {
     "data": {
      "text/markdown": [
       "<b>{'prompt_tokens': 3140, 'completion_tokens': 379, 'total_tokens': 3519}</b>"
      ],
      "text/plain": [
       "<IPython.core.display.Markdown object>"
      ]
     },
     "metadata": {},
     "output_type": "display_data"
    },
    {
     "name": "stdout",
     "output_type": "stream",
     "text": [
      "--------------------------------------------------------------------\n",
      "> Merging 1 nodes into parent node.\n",
      "> Parent node id: a0fdb9b9-1062-4b04-a3b5-d24cc8f6361a.\n",
      "> Parent node text: NO                                                    \n",
      "(iv) ANTI-SENSE: NO                       ...\n",
      "\n",
      "> Merging 1 nodes into parent node.\n",
      "> Parent node id: 75a2e7e6-59a6-4e96-a52c-c85c055686f7.\n",
      "> Parent node text: (iv) ANTI-SENSE: NO                                                       \n",
      "(xi) SEQUENCE DESCRIPT...\n",
      "\n",
      "> Merging 1 nodes into parent node.\n",
      "> Parent node id: bcdad6ad-eb1c-4d0b-be5d-88e30483c73e.\n",
      "> Parent node text: (iv) ANTI-SENSE: NO                                                       \n",
      "(xi) SEQUENCE DESCRIPT...\n",
      "\n",
      "> Merging 1 nodes into parent node.\n",
      "> Parent node id: d5ba51fa-32e9-402d-9a12-0d4882601493.\n",
      "> Parent node text: (iv) ANTI-SENSE: NO                                                       \n",
      "(xi) SEQUENCE DESCRIPT...\n",
      "\n",
      "> Merging 1 nodes into parent node.\n",
      "> Parent node id: f259bad4-f2d7-4ce4-9e3e-112b2b0e9eaf.\n",
      "> Parent node text: (xi) SEQUENCE DESCRIPTION: SEQ_ID_NO_17:                                  \n",
      "TyrIleAlaArgProLeuProA...\n",
      "\n",
      "> Merging 1 nodes into parent node.\n",
      "> Parent node id: 8caf17fb-9c51-4453-82c2-4876489ed334.\n",
      "> Parent node text: (A) LENGTH: 8 amino acids                                                 \n",
      "(B) TYPE: amino acid  ...\n",
      "\n",
      "> Merging 1 nodes into parent node.\n",
      "> Parent node id: 7b30bfc5-b017-404f-b943-238a4a341916.\n",
      "> Parent node text: (iii) HYPOTHETICAL: NO                                                    \n",
      "(iv) ANTI-SENSE: NO   ...\n",
      "\n",
      "> Merging 1 nodes into parent node.\n",
      "> Parent node id: 2fce30c7-fb9d-49c5-b962-91f78fd87135.\n",
      "> Parent node text: NO                                                    \n",
      "(iv) ANTI-SENSE: NO                       ...\n",
      "\n",
      "> Merging 1 nodes into parent node.\n",
      "> Parent node id: 3dd1f189-9f95-41b6-aa54-1e1dd67d2617.\n",
      "> Parent node text: (iv) ANTI-SENSE: NO                                                       \n",
      "(xi) SEQUENCE DESCRIPT...\n",
      "\n",
      "> Merging 1 nodes into parent node.\n",
      "> Parent node id: bb4658de-5f45-4392-a5ac-3e66d4f60d28.\n",
      "> Parent node text: (iv) ANTI-SENSE: NO                                                       \n",
      "(xi) SEQUENCE DESCRIPT...\n",
      "\n",
      "> Merging 1 nodes into parent node.\n",
      "> Parent node id: 450fd216-4004-47d9-83f1-1b5ca7aa513f.\n",
      "> Parent node text: (iv) ANTI-SENSE: NO                                                       \n",
      "(xi) SEQUENCE DESCRIPT...\n",
      "\n",
      "> Merging 1 nodes into parent node.\n",
      "> Parent node id: cd3b6be1-08bf-4584-9be1-2858e85645a4.\n",
      "> Parent node text: (xi) SEQUENCE DESCRIPTION: SEQ_ID_NO_17:                                  \n",
      "TyrIleAlaArgProLeuProA...\n",
      "\n",
      "> Merging 1 nodes into parent node.\n",
      "> Parent node id: e505481e-964d-442c-8056-c20dba1ff8af.\n",
      "> Parent node text: (A) LENGTH: 8 amino acids                                                 \n",
      "(B) TYPE: amino acid  ...\n",
      "\n",
      "> Merging 1 nodes into parent node.\n",
      "> Parent node id: c674f19e-6ea8-4119-b8b5-c47865895e1e.\n",
      "> Parent node text: (iii) HYPOTHETICAL: NO                                                    \n",
      "(iv) ANTI-SENSE: NO   ...\n",
      "\n",
      "> Filling in node. Node id: e505481e-964d-442c-8056-c20dba1ff8af> Node text: (A) LENGTH: 8 amino acids                                                 \n",
      "(B) TYPE: amino acid  ...\n",
      "\n"
     ]
    },
    {
     "data": {
      "text/markdown": [
       "<b>{'prompt_tokens': 3414, 'completion_tokens': 242, 'total_tokens': 3656}</b>"
      ],
      "text/plain": [
       "<IPython.core.display.Markdown object>"
      ]
     },
     "metadata": {},
     "output_type": "display_data"
    },
    {
     "name": "stdout",
     "output_type": "stream",
     "text": [
      "--------------------------------------------------------------------\n",
      "> Merging 2 nodes into parent node.\n",
      "> Parent node id: 95ca130e-b0c9-4a8a-9c05-f3168d1ac187.\n",
      "> Parent node text: 6. The peptide according to claim 5 wherein the amino acid sequence is Thr-Thr-Ser-Gln-Lys-Arg-Pr...\n",
      "\n",
      "> Merging 2 nodes into parent node.\n",
      "> Parent node id: 51494a09-c5c1-463e-8189-16bcdff2b5df.\n",
      "> Parent node text: ID NO: 1) as anti-inflammatory agents in which CT-112 (SEQ. ID NO: 1), or a portion thereof, is c...\n",
      "\n",
      "> Merging 1 nodes into parent node.\n",
      "> Parent node id: c7968182-8f21-4428-83c6-3614e0bf9b7e.\n",
      "> Parent node text: ID NO: 1) in inhibiting AA-induced inflammation. The most effective compounds (other than CT-112)...\n",
      "\n",
      "> Merging 1 nodes into parent node.\n",
      "> Parent node id: 1136937c-5bd0-4c9a-bd38-309ad24664de.\n",
      "> Parent node text: (2) INFORMATION FOR SEQ_ID_NO_35:                                         \n",
      "(i) SEQUENCE CHARACTER...\n",
      "\n",
      "> Merging 1 nodes into parent node.\n",
      "> Parent node id: 10b82d7e-42e2-4d7e-922b-40c352977a56.\n",
      "> Parent node text: (iii) HYPOTHETICAL: NO                                                    \n",
      "(iv) ANTI-SENSE: NO   ...\n",
      "\n",
      "> Merging 1 nodes into parent node.\n",
      "> Parent node id: 38425adb-6610-463f-be2d-9f03a40a96e6.\n",
      "> Parent node text: (2) INFORMATION FOR SEQ_ID_NO_35:                                         \n",
      "(i) SEQUENCE CHARACTER...\n",
      "\n",
      "> Merging 1 nodes into parent node.\n",
      "> Parent node id: b8c5a09c-5fe3-4a48-99c0-36a41833e59b.\n",
      "> Parent node text: (iii) HYPOTHETICAL: NO                                                    \n",
      "(iv) ANTI-SENSE: NO   ...\n",
      "\n"
     ]
    },
    {
     "data": {
      "text/markdown": [
       "<b>{'prompt_tokens': 3167, 'completion_tokens': 362, 'total_tokens': 3529}</b>"
      ],
      "text/plain": [
       "<IPython.core.display.Markdown object>"
      ]
     },
     "metadata": {},
     "output_type": "display_data"
    },
    {
     "name": "stdout",
     "output_type": "stream",
     "text": [
      "--------------------------------------------------------------------\n",
      "> Merging 1 nodes into parent node.\n",
      "> Parent node id: 7111a934-2e2f-4d01-b992-7f89f596456f.\n",
      "> Parent node text: 15                                                                        \n",
      "(2) INFORMATION FOR SE...\n",
      "\n",
      "> Merging 1 nodes into parent node.\n",
      "> Parent node id: 0fe644b6-98a8-4ab4-9ba6-f21d618f07ad.\n",
      "> Parent node text: ID NO: 1) in inhibiting AA-induced inflammation. The most effective compounds (other than CT-112)...\n",
      "\n",
      "> Merging 1 nodes into parent node.\n",
      "> Parent node id: f4e10be6-c2d7-46b9-976d-8df382203d96.\n",
      "> Parent node text: peptide                                               \n",
      "(iii) HYPOTHETICAL: NO                    ...\n",
      "\n",
      "> Merging 1 nodes into parent node.\n",
      "> Parent node id: 2f2aecef-4071-49a2-8543-067addb23ddc.\n",
      "> Parent node text: 15                                                                        \n",
      "(2) INFORMATION FOR SE...\n",
      "\n",
      "> Merging 1 nodes into parent node.\n",
      "> Parent node id: deb7846f-9d3f-4b37-a786-d7cf1541d9cf.\n",
      "> Parent node text: peptide                                               \n",
      "(iii) HYPOTHETICAL: NO                    ...\n",
      "\n"
     ]
    },
    {
     "data": {
      "text/markdown": [
       "<b>{'prompt_tokens': 3102, 'completion_tokens': 113, 'total_tokens': 3215}</b>"
      ],
      "text/plain": [
       "<IPython.core.display.Markdown object>"
      ]
     },
     "metadata": {},
     "output_type": "display_data"
    },
    {
     "name": "stdout",
     "output_type": "stream",
     "text": [
      "--------------------------------------------------------------------\n",
      "> Merging 1 nodes into parent node.\n",
      "> Parent node id: 345d862f-fa27-4f61-87bc-daf96d12e2d1.\n",
      "> Parent node text: (iii) HYPOTHETICAL: NO                                                    \n",
      "(iv) ANTI-SENSE: NO   ...\n",
      "\n",
      "> Merging 2 nodes into parent node.\n",
      "> Parent node id: 1ba3aa50-1d3b-4c8d-899c-99c1445214a4.\n",
      "> Parent node text: ID NO: 1) as anti-inflammatory agents in which CT-112 (SEQ. ID NO: 1), or a portion thereof, is c...\n",
      "\n",
      "> Merging 1 nodes into parent node.\n",
      "> Parent node id: 26f5e6a7-62c3-4049-8b5d-4abf010e1d25.\n",
      "> Parent node text: ID NO: 1) in inhibiting AA-induced inflammation. The most effective compounds (other than CT-112)...\n",
      "\n",
      "> Merging 1 nodes into parent node.\n",
      "> Parent node id: e2a429f7-e847-4295-b06a-e4a0c600c315.\n",
      "> Parent node text: (B) TYPE: amino acid                                                      \n",
      "(D) TOPOLOGY: unknown ...\n",
      "\n",
      "> Merging 1 nodes into parent node.\n",
      "> Parent node id: db8e573d-325a-49fc-928f-93b01086e75a.\n",
      "> Parent node text: (iii) HYPOTHETICAL: NO                                                    \n",
      "(iv) ANTI-SENSE: NO   ...\n",
      "\n",
      "> Merging 1 nodes into parent node.\n",
      "> Parent node id: e72ca38d-4e19-4854-8370-8e0455c42ea6.\n",
      "> Parent node text: (B) TYPE: amino acid                                                      \n",
      "(D) TOPOLOGY: unknown ...\n",
      "\n"
     ]
    },
    {
     "data": {
      "text/markdown": [
       "<b>{'prompt_tokens': 3199, 'completion_tokens': 397, 'total_tokens': 3596}</b>"
      ],
      "text/plain": [
       "<IPython.core.display.Markdown object>"
      ]
     },
     "metadata": {},
     "output_type": "display_data"
    },
    {
     "name": "stdout",
     "output_type": "stream",
     "text": [
      "--------------------------------------------------------------------\n",
      "> Merging 1 nodes into parent node.\n",
      "> Parent node id: 43c97f9b-70db-4d12-b6b8-85d8bf6b8cab.\n",
      "> Parent node text: ID NO: 1) in inhibiting AA-induced inflammation. The most effective compounds (other than CT-112)...\n",
      "\n",
      "> Merging 1 nodes into parent node.\n",
      "> Parent node id: ea666520-fd16-4239-824a-9c8a14b501f9.\n",
      "> Parent node text: (iv) ANTI-SENSE: NO                                                       \n",
      "(xi) SEQUENCE DESCRIPT...\n",
      "\n",
      "> Merging 1 nodes into parent node.\n",
      "> Parent node id: 16698a00-3b51-40f6-a0d3-638ecb1125a3.\n",
      "> Parent node text: (B) LOCATION: 7                                                           \n",
      "(D) OTHER INFORMATION:...\n",
      "\n",
      "> Merging 1 nodes into parent node.\n",
      "> Parent node id: 9851fbb0-ca45-49de-8176-4a38584d32ee.\n",
      "> Parent node text: (iii) HYPOTHETICAL: NO                                                    \n",
      "(iv) ANTI-SENSE: NO   ...\n",
      "\n",
      "> Merging 1 nodes into parent node.\n",
      "> Parent node id: c6c5dedd-6d67-4bd7-a6bb-ff2f04b3c58f.\n",
      "> Parent node text: (iv) ANTI-SENSE: NO                                                       \n",
      "(xi) SEQUENCE DESCRIPT...\n",
      "\n",
      "> Merging 1 nodes into parent node.\n",
      "> Parent node id: 1ddcd60f-49a7-4f0c-a1a4-f062f9d287fc.\n",
      "> Parent node text: (B) LOCATION: 7                                                           \n",
      "(D) OTHER INFORMATION:...\n",
      "\n",
      "> Merging 1 nodes into parent node.\n",
      "> Parent node id: 138318eb-fe2e-4a70-ad1c-61fc144472f0.\n",
      "> Parent node text: (iii) HYPOTHETICAL: NO                                                    \n",
      "(iv) ANTI-SENSE: NO   ...\n",
      "\n"
     ]
    },
    {
     "data": {
      "text/markdown": [
       "<b>{'prompt_tokens': 3022, 'completion_tokens': 437, 'total_tokens': 3459}</b>"
      ],
      "text/plain": [
       "<IPython.core.display.Markdown object>"
      ]
     },
     "metadata": {},
     "output_type": "display_data"
    },
    {
     "name": "stdout",
     "output_type": "stream",
     "text": [
      "--------------------------------------------------------------------\n",
      "> Merging 1 nodes into parent node.\n",
      "> Parent node id: e0fbffb8-831b-4d5e-af04-d8619447cf2c.\n",
      "> Parent node text: ID NO: 1) in inhibiting AA-induced inflammation. The most effective compounds (other than CT-112)...\n",
      "\n"
     ]
    },
    {
     "data": {
      "text/markdown": [
       "<b>{'prompt_tokens': 2615, 'completion_tokens': 314, 'total_tokens': 2929}</b>"
      ],
      "text/plain": [
       "<IPython.core.display.Markdown object>"
      ]
     },
     "metadata": {},
     "output_type": "display_data"
    },
    {
     "name": "stdout",
     "output_type": "stream",
     "text": [
      "--------------------------------------------------------------------\n",
      "> Merging 1 nodes into parent node.\n",
      "> Parent node id: cdaf5667-0d6d-4bc3-95cb-27162e2c18c9.\n",
      "> Parent node text: ID NO: 1) in inhibiting AA-induced inflammation. The most effective compounds (other than CT-112)...\n",
      "\n",
      "> Merging 1 nodes into parent node.\n",
      "> Parent node id: 93cd2a7b-7407-4912-a1ea-1dde124002b0.\n",
      "> Parent node text: (xi) SEQUENCE DESCRIPTION: SEQ_ID_NO_28:                                  \n",
      "ThrThrSerGln          ...\n",
      "\n",
      "> Merging 1 nodes into parent node.\n",
      "> Parent node id: 5c031d23-10a0-4bb9-a69e-9fc20302caf0.\n",
      "> Parent node text: (iii) HYPOTHETICAL: NO                                                    \n",
      "(iv) ANTI-SENSE: NO   ...\n",
      "\n",
      "> Merging 1 nodes into parent node.\n",
      "> Parent node id: c2aedc9d-1a80-47a9-9716-b63b9617dd6c.\n",
      "> Parent node text: (xi) SEQUENCE DESCRIPTION: SEQ_ID_NO_28:                                  \n",
      "ThrThrSerGln          ...\n",
      "\n",
      "> Merging 1 nodes into parent node.\n",
      "> Parent node id: 6b6466d8-457c-429a-a72b-12ca09350aba.\n",
      "> Parent node text: (iii) HYPOTHETICAL: NO                                                    \n",
      "(iv) ANTI-SENSE: NO   ...\n",
      "\n"
     ]
    },
    {
     "data": {
      "text/markdown": [
       "<b>{'prompt_tokens': 3094, 'completion_tokens': 301, 'total_tokens': 3395}</b>"
      ],
      "text/plain": [
       "<IPython.core.display.Markdown object>"
      ]
     },
     "metadata": {},
     "output_type": "display_data"
    },
    {
     "name": "stdout",
     "output_type": "stream",
     "text": [
      "--------------------------------------------------------------------\n",
      "> Merging 1 nodes into parent node.\n",
      "> Parent node id: 53f68cfe-974f-4414-9248-6521eea545cb.\n",
      "> Parent node text: (xi) SEQUENCE DESCRIPTION: SEQ_ID_NO_53:                                  \n",
      "ThrThrSerLysValArgProA...\n",
      "\n",
      "> Merging 2 nodes into parent node.\n",
      "> Parent node id: 7c350927-3ef8-4364-ad06-a9dc00692ffd.\n",
      "> Parent node text: ID NO: 1) as anti-inflammatory agents in which CT-112 (SEQ. ID NO: 1), or a portion thereof, is c...\n",
      "\n",
      "> Merging 1 nodes into parent node.\n",
      "> Parent node id: e85fbf59-39ab-4ec1-9474-f9e3373d6d23.\n",
      "> Parent node text: (iii) HYPOTHETICAL: NO                                                    \n",
      "(iv) ANTI-SENSE: NO   ...\n",
      "\n",
      "> Merging 1 nodes into parent node.\n",
      "> Parent node id: 2ad9f1fe-00d5-4df4-af11-30fdfa8c3a30.\n",
      "> Parent node text: (D) TOPOLOGY: unknown                                                     \n",
      "(ii) MOLECULE TYPE: pe...\n",
      "\n",
      "> Merging 1 nodes into parent node.\n",
      "> Parent node id: 26578258-e7c8-4640-9ca9-111044f01107.\n",
      "> Parent node text: (xi) SEQUENCE DESCRIPTION: SEQ_ID_NO_53:                                  \n",
      "ThrThrSerLysValArgProA...\n",
      "\n",
      "> Merging 1 nodes into parent node.\n",
      "> Parent node id: 278ae260-b37d-442e-97f1-114855fd4297.\n",
      "> Parent node text: (iii) HYPOTHETICAL: NO                                                    \n",
      "(iv) ANTI-SENSE: NO   ...\n",
      "\n",
      "> Merging 1 nodes into parent node.\n",
      "> Parent node id: ac4f1c1f-b6bb-4da5-9df1-f118fb128d5d.\n",
      "> Parent node text: (D) TOPOLOGY: unknown                                                     \n",
      "(ii) MOLECULE TYPE: pe...\n",
      "\n"
     ]
    },
    {
     "data": {
      "text/markdown": [
       "<b>{'prompt_tokens': 3133, 'completion_tokens': 577, 'total_tokens': 3710}</b>"
      ],
      "text/plain": [
       "<IPython.core.display.Markdown object>"
      ]
     },
     "metadata": {},
     "output_type": "display_data"
    },
    {
     "name": "stdout",
     "output_type": "stream",
     "text": [
      "--------------------------------------------------------------------\n",
      "> Merging 1 nodes into parent node.\n",
      "> Parent node id: a35c6190-e8c7-489f-9236-1a2d4fb510d6.\n",
      "> Parent node text: (B) LOCATION: 7                                                           \n",
      "(D) OTHER INFORMATION:...\n",
      "\n",
      "> Merging 2 nodes into parent node.\n",
      "> Parent node id: 5d0962db-9525-4d4d-9f20-085c75fe4aba.\n",
      "> Parent node text: ID NO: 1) as anti-inflammatory agents in which CT-112 (SEQ. ID NO: 1), or a portion thereof, is c...\n",
      "\n",
      "> Merging 1 nodes into parent node.\n",
      "> Parent node id: 75f345ed-5a37-4381-a4f0-9d01369d732b.\n",
      "> Parent node text: ID NO: 1) in inhibiting AA-induced inflammation. The most effective compounds (other than CT-112)...\n",
      "\n",
      "> Merging 2 nodes into parent node.\n",
      "> Parent node id: e49e69be-28be-45c6-be61-dc99b37664a4.\n",
      "> Parent node text: (xi) SEQUENCE DESCRIPTION: SEQ_ID_NO_75:                                  \n",
      "ThrXaaSerGlnValArgProA...\n",
      "\n",
      "> Merging 1 nodes into parent node.\n",
      "> Parent node id: 5d8119d9-404c-40a5-a49f-659804e061cf.\n",
      "> Parent node text: (B) LOCATION: 7                                                           \n",
      "(D) OTHER INFORMATION:...\n",
      "\n"
     ]
    },
    {
     "data": {
      "text/markdown": [
       "<b>{'prompt_tokens': 3073, 'completion_tokens': 395, 'total_tokens': 3468}</b>"
      ],
      "text/plain": [
       "<IPython.core.display.Markdown object>"
      ]
     },
     "metadata": {},
     "output_type": "display_data"
    },
    {
     "name": "stdout",
     "output_type": "stream",
     "text": [
      "--------------------------------------------------------------------\n",
      "> Merging 1 nodes into parent node.\n",
      "> Parent node id: db0e3d92-bed9-412a-89b9-bd25a418ba3c.\n",
      "> Parent node text: (iii) HYPOTHETICAL: NO                                                    \n",
      "(iv) ANTI-SENSE: NO   ...\n",
      "\n",
      "> Merging 1 nodes into parent node.\n",
      "> Parent node id: 39f9e5a3-b18a-426b-9315-1f430e1eaa88.\n",
      "> Parent node text: ID NO: 1) in inhibiting AA-induced inflammation. The most effective compounds (other than CT-112)...\n",
      "\n",
      "> Merging 1 nodes into parent node.\n",
      "> Parent node id: a75f1722-a22d-418e-bef9-8581c9ecfa24.\n",
      "> Parent node text: (2) INFORMATION FOR SEQ_ID_NO_60:                                         \n",
      "(i) SEQUENCE CHARACTER...\n",
      "\n",
      "> Merging 1 nodes into parent node.\n",
      "> Parent node id: 4e61f93d-aad5-4685-815c-c556519d39fa.\n",
      "> Parent node text: (iv) ANTI-SENSE: NO                                                       \n",
      "(xi) SEQUENCE DESCRIPT...\n",
      "\n",
      "> Merging 1 nodes into parent node.\n",
      "> Parent node id: 2824a234-7603-4fd7-867e-c402c0f5cce5.\n",
      "> Parent node text: (iii) HYPOTHETICAL: NO                                                    \n",
      "(iv) ANTI-SENSE: NO   ...\n",
      "\n",
      "> Merging 1 nodes into parent node.\n",
      "> Parent node id: 9ee441cb-f1ce-4de0-8aa9-2ca7609e8e0f.\n",
      "> Parent node text: (2) INFORMATION FOR SEQ_ID_NO_60:                                         \n",
      "(i) SEQUENCE CHARACTER...\n",
      "\n",
      "> Merging 1 nodes into parent node.\n",
      "> Parent node id: e6cca1a9-521e-4fb6-b835-7c0ef9b6fe22.\n",
      "> Parent node text: (iv) ANTI-SENSE: NO                                                       \n",
      "(xi) SEQUENCE DESCRIPT...\n",
      "\n"
     ]
    },
    {
     "data": {
      "text/markdown": [
       "<b>{'prompt_tokens': 3101, 'completion_tokens': 366, 'total_tokens': 3467}</b>"
      ],
      "text/plain": [
       "<IPython.core.display.Markdown object>"
      ]
     },
     "metadata": {},
     "output_type": "display_data"
    },
    {
     "name": "stdout",
     "output_type": "stream",
     "text": [
      "--------------------------------------------------------------------\n",
      "> Merging 1 nodes into parent node.\n",
      "> Parent node id: fe313163-1b3a-41bd-aba8-9d8bab83896e.\n",
      "> Parent node text: (xi) SEQUENCE DESCRIPTION: SEQ_ID_NO_53:                                  \n",
      "ThrThrSerLysValArgProA...\n",
      "\n",
      "> Merging 2 nodes into parent node.\n",
      "> Parent node id: d6952f02-426b-48c3-b96d-3e1d8de699a5.\n",
      "> Parent node text: ID NO: 1) as anti-inflammatory agents in which CT-112 (SEQ. ID NO: 1), or a portion thereof, is c...\n",
      "\n",
      "> Merging 1 nodes into parent node.\n",
      "> Parent node id: 3fb583be-0f21-4002-897e-4ca7a7a342af.\n",
      "> Parent node text: ID NO: 1) in inhibiting AA-induced inflammation. The most effective compounds (other than CT-112)...\n",
      "\n",
      "> Merging 1 nodes into parent node.\n",
      "> Parent node id: 07a8a4af-5a9c-49a1-9983-30b15a51edad.\n",
      "> Parent node text: (A) LENGTH: 8 amino acids                                                 \n",
      "(B) TYPE: amino acid  ...\n",
      "\n",
      "> Merging 1 nodes into parent node.\n",
      "> Parent node id: d70e93c6-bedc-4373-b033-76f02cca1f03.\n",
      "> Parent node text: (xi) SEQUENCE DESCRIPTION: SEQ_ID_NO_53:                                  \n",
      "ThrThrSerLysValArgProA...\n",
      "\n",
      "> Merging 1 nodes into parent node.\n",
      "> Parent node id: 98dd0beb-54e4-4f30-ab6a-6b070dbccd71.\n",
      "> Parent node text: (A) LENGTH: 8 amino acids                                                 \n",
      "(B) TYPE: amino acid  ...\n",
      "\n"
     ]
    },
    {
     "data": {
      "text/markdown": [
       "<b>{'prompt_tokens': 3108, 'completion_tokens': 361, 'total_tokens': 3469}</b>"
      ],
      "text/plain": [
       "<IPython.core.display.Markdown object>"
      ]
     },
     "metadata": {},
     "output_type": "display_data"
    },
    {
     "name": "stdout",
     "output_type": "stream",
     "text": [
      "--------------------------------------------------------------------\n",
      "> Merging 1 nodes into parent node.\n",
      "> Parent node id: 83dca81e-356e-4b37-8862-8e4891a6b905.\n",
      "> Parent node text: MOLECULE TYPE: peptide                                               \n",
      "(iii) HYPOTHETICAL: NO     ...\n",
      "\n",
      "> Merging 1 nodes into parent node.\n",
      "> Parent node id: 6601a590-afbc-4a6d-be39-8ced3ce70df1.\n",
      "> Parent node text: 6570                                                                      \n",
      "(2) INFORMATION FOR SE...\n",
      "\n",
      "> Merging 1 nodes into parent node.\n",
      "> Parent node id: 09ef6f24-b9cc-49a1-97ff-93304fe5f57c.\n",
      "> Parent node text: ID NO: 1) in inhibiting AA-induced inflammation. The most effective compounds (other than CT-112)...\n",
      "\n",
      "> Merging 1 nodes into parent node.\n",
      "> Parent node id: 590491fb-7eed-43c6-87c9-64f640a11fa5.\n",
      "> Parent node text: MOLECULE TYPE: peptide                                               \n",
      "(iii) HYPOTHETICAL: NO     ...\n",
      "\n",
      "> Merging 1 nodes into parent node.\n",
      "> Parent node id: 272a4a5b-922e-46a5-bf6c-c537922e3e73.\n",
      "> Parent node text: 6570                                                                      \n",
      "(2) INFORMATION FOR SE...\n",
      "\n"
     ]
    },
    {
     "data": {
      "text/markdown": [
       "<b>{'prompt_tokens': 3052, 'completion_tokens': 294, 'total_tokens': 3346}</b>"
      ],
      "text/plain": [
       "<IPython.core.display.Markdown object>"
      ]
     },
     "metadata": {},
     "output_type": "display_data"
    },
    {
     "name": "stdout",
     "output_type": "stream",
     "text": [
      "--------------------------------------------------------------------\n",
      "> Merging 2 nodes into parent node.\n",
      "> Parent node id: a0b2ffce-dbed-4eb4-82d7-4b53e069c7f0.\n",
      "> Parent node text: ID NO: 1) as anti-inflammatory agents in which CT-112 (SEQ. ID NO: 1), or a portion thereof, is c...\n",
      "\n",
      "> Merging 1 nodes into parent node.\n",
      "> Parent node id: 4cc90ed1-31b3-4d35-bd15-a162dc4e2e8d.\n",
      "> Parent node text: ID NO: 1) in inhibiting AA-induced inflammation. The most effective compounds (other than CT-112)...\n",
      "\n",
      "> Merging 1 nodes into parent node.\n",
      "> Parent node id: 8d9a3536-5ee6-42e8-b5fc-d53be580e010.\n",
      "> Parent node text: (B) LOCATION: 7                                                           \n",
      "(D) OTHER INFORMATION:...\n",
      "\n",
      "> Merging 1 nodes into parent node.\n",
      "> Parent node id: 0b5da467-2d18-4690-b9c6-ad8a7298f074.\n",
      "> Parent node text: (iii) HYPOTHETICAL: NO                                                    \n",
      "(iv) ANTI-SENSE: NO   ...\n",
      "\n",
      "> Merging 1 nodes into parent node.\n",
      "> Parent node id: b939297f-779d-4980-9190-c0d6d53b8665.\n",
      "> Parent node text: (B) TYPE: amino acid                                                      \n",
      "(D) TOPOLOGY: unknown ...\n",
      "\n",
      "> Merging 1 nodes into parent node.\n",
      "> Parent node id: 3fecf31c-26b6-4690-81d5-d01b71a7b702.\n",
      "> Parent node text: (iv) ANTI-SENSE: NO                                                       \n",
      "(xi) SEQUENCE DESCRIPT...\n",
      "\n",
      "> Merging 1 nodes into parent node.\n",
      "> Parent node id: 3dc3a794-9c7e-4254-98c0-05e3251d7608.\n",
      "> Parent node text: (B) LOCATION: 7                                                           \n",
      "(D) OTHER INFORMATION:...\n",
      "\n",
      "> Merging 1 nodes into parent node.\n",
      "> Parent node id: b4b087f1-15ed-40c0-9872-7ada1cefe2a3.\n",
      "> Parent node text: (iii) HYPOTHETICAL: NO                                                    \n",
      "(iv) ANTI-SENSE: NO   ...\n",
      "\n",
      "> Merging 1 nodes into parent node.\n",
      "> Parent node id: eb7ab62f-4a9c-4491-83e8-519596ed9d62.\n",
      "> Parent node text: (B) TYPE: amino acid                                                      \n",
      "(D) TOPOLOGY: unknown ...\n",
      "\n",
      "> Merging 1 nodes into parent node.\n",
      "> Parent node id: fa506690-50dc-42b3-933c-4368e828ecab.\n",
      "> Parent node text: (iv) ANTI-SENSE: NO                                                       \n",
      "(xi) SEQUENCE DESCRIPT...\n",
      "\n"
     ]
    },
    {
     "data": {
      "text/markdown": [
       "<b>{'prompt_tokens': 3126, 'completion_tokens': 388, 'total_tokens': 3514}</b>"
      ],
      "text/plain": [
       "<IPython.core.display.Markdown object>"
      ]
     },
     "metadata": {},
     "output_type": "display_data"
    },
    {
     "name": "stdout",
     "output_type": "stream",
     "text": [
      "--------------------------------------------------------------------\n",
      "> Merging 1 nodes into parent node.\n",
      "> Parent node id: 65f301d0-6485-4623-a4f2-cdc27bff1727.\n",
      "> Parent node text: ID NO: 1) in inhibiting AA-induced inflammation. The most effective compounds (other than CT-112)...\n",
      "\n",
      "> Merging 1 nodes into parent node.\n",
      "> Parent node id: d494c4a6-3daa-43d9-8e85-69f6203fcccd.\n",
      "> Parent node text: (iv) ANTI-SENSE: NO                                                       \n",
      "(xi) SEQUENCE DESCRIPT...\n",
      "\n",
      "> Merging 1 nodes into parent node.\n",
      "> Parent node id: 5beb5724-e0f8-4b09-aed2-4ac9c859068e.\n",
      "> Parent node text: 8 amino acids                                                 \n",
      "(B) TYPE: amino acid              ...\n",
      "\n",
      "> Merging 1 nodes into parent node.\n",
      "> Parent node id: c825887a-cb11-4f01-a987-cb638f1c5df0.\n",
      "> Parent node text: (A) LENGTH: 8 amino acids                                                 \n",
      "(B) TYPE: amino acid  ...\n",
      "\n",
      "> Merging 1 nodes into parent node.\n",
      "> Parent node id: ca1811b9-1fef-4efe-8f20-c245956d3a3e.\n",
      "> Parent node text: (iv) ANTI-SENSE: NO                                                       \n",
      "(xi) SEQUENCE DESCRIPT...\n",
      "\n"
     ]
    },
    {
     "data": {
      "text/markdown": [
       "<b>{'prompt_tokens': 2836, 'completion_tokens': 572, 'total_tokens': 3408}</b>"
      ],
      "text/plain": [
       "<IPython.core.display.Markdown object>"
      ]
     },
     "metadata": {},
     "output_type": "display_data"
    },
    {
     "name": "stdout",
     "output_type": "stream",
     "text": [
      "--------------------------------------------------------------------\n",
      "> Merging 2 nodes into parent node.\n",
      "> Parent node id: 1cb0e134-3f88-4b97-ba87-79274e6cfb5c.\n",
      "> Parent node text: The claim information:\n",
      "What is claimed is: 1. A peptide having the amino acid sequence D-Thr-Thr-...\n",
      "\n",
      "> Merging 1 nodes into parent node.\n",
      "> Parent node id: ff8cc781-bc12-4816-9bf9-e487f49189cb.\n",
      "> Parent node text: (i) SEQUENCE CHARACTERISTICS:                                             \n",
      "(A) LENGTH: 8 amino ac...\n",
      "\n",
      "> Merging 1 nodes into parent node.\n",
      "> Parent node id: 905f0c3b-9b8e-4a5a-937a-6fbac03bc9cc.\n",
      "> Parent node text: (B) LOCATION: 7                                                           \n",
      "(D) OTHER INFORMATION:...\n",
      "\n",
      "> Merging 1 nodes into parent node.\n",
      "> Parent node id: a57f9932-896e-40f0-a879-afab31387b7d.\n",
      "> Parent node text: (iv) ANTI-SENSE: NO                                                       \n",
      "(xi) SEQUENCE DESCRIPT...\n",
      "\n",
      "> Merging 1 nodes into parent node.\n",
      "> Parent node id: 335c3ef8-0952-4d4d-904d-596dc19f5139.\n",
      "> Parent node text: (iii) HYPOTHETICAL: NO                                                    \n",
      "(iv) ANTI-SENSE: NO   ...\n",
      "\n",
      "> Merging 1 nodes into parent node.\n",
      "> Parent node id: 2b053e15-ea7a-4df1-aa61-8c2ee1bbd541.\n",
      "> Parent node text: (iv) ANTI-SENSE: NO                                                       \n",
      "(xi) SEQUENCE DESCRIPT...\n",
      "\n",
      "> Merging 1 nodes into parent node.\n",
      "> Parent node id: d5775268-157f-4c20-bad7-ffb2fc6c9085.\n",
      "> Parent node text: (i) SEQUENCE CHARACTERISTICS:                                             \n",
      "(A) LENGTH: 8 amino ac...\n",
      "\n",
      "> Merging 1 nodes into parent node.\n",
      "> Parent node id: 3f4c19eb-d8d9-4efb-8c05-6ab922bcea68.\n",
      "> Parent node text: (B) LOCATION: 7                                                           \n",
      "(D) OTHER INFORMATION:...\n",
      "\n",
      "> Merging 1 nodes into parent node.\n",
      "> Parent node id: 3e9e52b0-4a02-4083-81a7-ae0f7f2457ae.\n",
      "> Parent node text: (iv) ANTI-SENSE: NO                                                       \n",
      "(xi) SEQUENCE DESCRIPT...\n",
      "\n",
      "> Merging 1 nodes into parent node.\n",
      "> Parent node id: 826f1035-aa75-4a57-9b78-15953a5f25e4.\n",
      "> Parent node text: (iii) HYPOTHETICAL: NO                                                    \n",
      "(iv) ANTI-SENSE: NO   ...\n",
      "\n",
      "> Merging 1 nodes into parent node.\n",
      "> Parent node id: 71f7fbd5-199e-4d40-ba20-1b88ca8fd468.\n",
      "> Parent node text: (iv) ANTI-SENSE: NO                                                       \n",
      "(xi) SEQUENCE DESCRIPT...\n",
      "\n",
      "> Filling in node. Node id: d5775268-157f-4c20-bad7-ffb2fc6c9085> Node text: (i) SEQUENCE CHARACTERISTICS:                                             \n",
      "(A) LENGTH: 8 amino ac...\n",
      "\n"
     ]
    },
    {
     "data": {
      "text/markdown": [
       "<b>{'prompt_tokens': 3527, 'completion_tokens': 234, 'total_tokens': 3761}</b>"
      ],
      "text/plain": [
       "<IPython.core.display.Markdown object>"
      ]
     },
     "metadata": {},
     "output_type": "display_data"
    },
    {
     "name": "stdout",
     "output_type": "stream",
     "text": [
      "--------------------------------------------------------------------\n",
      "> Merging 1 nodes into parent node.\n",
      "> Parent node id: 482db7ed-f122-4a8a-8e96-f5550afcacbb.\n",
      "> Parent node text: ID NO: 1) in inhibiting AA-induced inflammation. The most effective compounds (other than CT-112)...\n",
      "\n",
      "> Merging 1 nodes into parent node.\n",
      "> Parent node id: 106512ef-3642-4e79-b8b3-fb3d4fa7e8aa.\n",
      "> Parent node text: (iii) HYPOTHETICAL: NO                                                    \n",
      "(iv) ANTI-SENSE: NO   ...\n",
      "\n",
      "> Merging 1 nodes into parent node.\n",
      "> Parent node id: 8493fac3-fb86-4179-ba66-02d690ab1245.\n",
      "> Parent node text: ThrThrGluGlnValArgProArg                                                  \n",
      "15                    ...\n",
      "\n",
      "> Merging 2 nodes into parent node.\n",
      "> Parent node id: 17a52699-f254-4872-853d-20bf444e3cb2.\n",
      "> Parent node text: ID NO: 1) as anti-inflammatory agents in which CT-112 (SEQ. ID NO: 1), or a portion thereof, is c...\n",
      "\n",
      "> Merging 1 nodes into parent node.\n",
      "> Parent node id: 05a21cca-4399-4076-a78f-16d83d2cd4f3.\n",
      "> Parent node text: (iii) HYPOTHETICAL: NO                                                    \n",
      "(iv) ANTI-SENSE: NO   ...\n",
      "\n",
      "> Merging 1 nodes into parent node.\n",
      "> Parent node id: 2d73618b-3a96-4c87-8ba1-ba94008febbb.\n",
      "> Parent node text: ThrThrGluGlnValArgProArg                                                  \n",
      "15                    ...\n",
      "\n"
     ]
    },
    {
     "data": {
      "text/markdown": [
       "<b>{'prompt_tokens': 3132, 'completion_tokens': 334, 'total_tokens': 3466}</b>"
      ],
      "text/plain": [
       "<IPython.core.display.Markdown object>"
      ]
     },
     "metadata": {},
     "output_type": "display_data"
    },
    {
     "name": "stdout",
     "output_type": "stream",
     "text": [
      "--------------------------------------------------------------------\n",
      "> Merging 1 nodes into parent node.\n",
      "> Parent node id: 443846c1-1f80-4277-a5a8-4a74ee0b053d.\n",
      "> Parent node text: (2) INFORMATION FOR SEQ_ID_NO_35:                                         \n",
      "(i) SEQUENCE CHARACTER...\n",
      "\n",
      "> Merging 1 nodes into parent node.\n",
      "> Parent node id: 9ab2223a-bf96-460b-9fd3-785abe210210.\n",
      "> Parent node text: ID NO: 1) in inhibiting AA-induced inflammation. The most effective compounds (other than CT-112)...\n",
      "\n",
      "> Merging 1 nodes into parent node.\n",
      "> Parent node id: fddbf7fb-18c7-4e14-bb6f-ea9f87c9aec6.\n",
      "> Parent node text: (iii) HYPOTHETICAL: NO                                                    \n",
      "(iv) ANTI-SENSE: NO   ...\n",
      "\n",
      "> Merging 1 nodes into parent node.\n",
      "> Parent node id: b1776c51-2a90-4478-8f7f-1ac9abbb08a0.\n",
      "> Parent node text: (2) INFORMATION FOR SEQ_ID_NO_35:                                         \n",
      "(i) SEQUENCE CHARACTER...\n",
      "\n",
      "> Merging 1 nodes into parent node.\n",
      "> Parent node id: dccec752-1c49-4591-a4e6-38ef6f7366b6.\n",
      "> Parent node text: (iii) HYPOTHETICAL: NO                                                    \n",
      "(iv) ANTI-SENSE: NO   ...\n",
      "\n"
     ]
    },
    {
     "data": {
      "text/markdown": [
       "<b>{'prompt_tokens': 3101, 'completion_tokens': 348, 'total_tokens': 3449}</b>"
      ],
      "text/plain": [
       "<IPython.core.display.Markdown object>"
      ]
     },
     "metadata": {},
     "output_type": "display_data"
    },
    {
     "name": "stdout",
     "output_type": "stream",
     "text": [
      "--------------------------------------------------------------------\n",
      "> Merging 1 nodes into parent node.\n",
      "> Parent node id: 69b4e86b-2b7f-4f2b-9208-5002c5853ae7.\n",
      "> Parent node text: (B) LOCATION: 7                                                           \n",
      "(D) OTHER INFORMATION:...\n",
      "\n",
      "> Merging 1 nodes into parent node.\n",
      "> Parent node id: 0d299429-e112-48f8-8ecc-b32aa0472552.\n",
      "> Parent node text: ID NO: 1) in inhibiting AA-induced inflammation. The most effective compounds (other than CT-112)...\n",
      "\n",
      "> Merging 1 nodes into parent node.\n",
      "> Parent node id: bd6afff3-0c82-4d8b-961d-104481f07623.\n",
      "> Parent node text: (A) LENGTH: 8 amino acids                                                 \n",
      "(B) TYPE: amino acid  ...\n",
      "\n",
      "> Merging 1 nodes into parent node.\n",
      "> Parent node id: ba11038f-e790-4652-ab79-70e9876eacb6.\n",
      "> Parent node text: (A) LENGTH: 8 amino acids                                                 \n",
      "(B) TYPE: amino acid  ...\n",
      "\n",
      "> Merging 1 nodes into parent node.\n",
      "> Parent node id: e40674b6-c1f2-462e-b479-5345ed78f2b7.\n",
      "> Parent node text: (B) LOCATION: 7                                                           \n",
      "(D) OTHER INFORMATION:...\n",
      "\n"
     ]
    },
    {
     "data": {
      "text/markdown": [
       "<b>{'prompt_tokens': 2890, 'completion_tokens': 296, 'total_tokens': 3186}</b>"
      ],
      "text/plain": [
       "<IPython.core.display.Markdown object>"
      ]
     },
     "metadata": {},
     "output_type": "display_data"
    },
    {
     "name": "stdout",
     "output_type": "stream",
     "text": [
      "--------------------------------------------------------------------\n",
      "> Merging 1 nodes into parent node.\n",
      "> Parent node id: e82838c4-7ba4-46c9-b020-15eee597c126.\n",
      "> Parent node text: L-Glu, L-His, L-Met, L-Ser and L-Tyr; provided that R-Xaa 1 -Xaa 2 -Xaa 3 -Xaa 4 -Xaa 5 -Xaa 6 -X...\n",
      "\n",
      "> Merging 1 nodes into parent node.\n",
      "> Parent node id: 875972e7-b6b5-44bd-ae95-511e86d7ed1b.\n",
      "> Parent node text: (iii) HYPOTHETICAL: NO                                                    \n",
      "(iv) ANTI-SENSE: NO   ...\n",
      "\n",
      "> Merging 1 nodes into parent node.\n",
      "> Parent node id: e698504f-c882-46b5-96b4-611707178488.\n",
      "> Parent node text: (iv) ANTI-SENSE: NO                                                       \n",
      "(xi) SEQUENCE DESCRIPT...\n",
      "\n",
      "> Merging 1 nodes into parent node.\n",
      "> Parent node id: 353449ef-33e4-4a32-aa8c-08e4ecbd22eb.\n",
      "> Parent node text: ID NO: 1) in inhibiting AA-induced inflammation. The most effective compounds (other than CT-112)...\n",
      "\n",
      "> Merging 1 nodes into parent node.\n",
      "> Parent node id: 0c72d17b-bae4-42b6-a1e0-55549dd17687.\n",
      "> Parent node text: (B) TYPE: amino acid                                                      \n",
      "(D) TOPOLOGY: unknown ...\n",
      "\n",
      "> Merging 1 nodes into parent node.\n",
      "> Parent node id: 54e56753-c836-42cc-9e54-7f7a5373398b.\n",
      "> Parent node text: (iii) HYPOTHETICAL: NO                                                    \n",
      "(iv) ANTI-SENSE: NO   ...\n",
      "\n",
      "> Merging 1 nodes into parent node.\n",
      "> Parent node id: bd897b96-2de9-4050-9424-afa5f6b024a0.\n",
      "> Parent node text: (iv) ANTI-SENSE: NO                                                       \n",
      "(xi) SEQUENCE DESCRIPT...\n",
      "\n",
      "> Merging 1 nodes into parent node.\n",
      "> Parent node id: 4950f1a9-8fba-48ef-bbb6-16102e095ba3.\n",
      "> Parent node text: (B) TYPE: amino acid                                                      \n",
      "(D) TOPOLOGY: unknown ...\n",
      "\n"
     ]
    },
    {
     "data": {
      "text/markdown": [
       "<b>{'prompt_tokens': 2982, 'completion_tokens': 477, 'total_tokens': 3459}</b>"
      ],
      "text/plain": [
       "<IPython.core.display.Markdown object>"
      ]
     },
     "metadata": {},
     "output_type": "display_data"
    },
    {
     "name": "stdout",
     "output_type": "stream",
     "text": [
      "--------------------------------------------------------------------\n",
      "> Merging 2 nodes into parent node.\n",
      "> Parent node id: e1021916-4be7-4d0c-9a49-cd864f43833d.\n",
      "> Parent node text: ID NO: 1) as anti-inflammatory agents in which CT-112 (SEQ. ID NO: 1), or a portion thereof, is c...\n",
      "\n",
      "> Merging 1 nodes into parent node.\n",
      "> Parent node id: 914aa243-271a-4edc-98f2-f03f91a4645f.\n",
      "> Parent node text: (B) LOCATION: 7                                                           \n",
      "(D) OTHER INFORMATION:...\n",
      "\n",
      "> Merging 1 nodes into parent node.\n",
      "> Parent node id: e925ae6f-bcda-44c7-aefa-d9db4b787727.\n",
      "> Parent node text: (A) NAME/KEY: Modified-site                                               \n",
      "(B) LOCATION: 8       ...\n",
      "\n",
      "> Merging 1 nodes into parent node.\n",
      "> Parent node id: 23527912-e1e7-41c8-984a-bec8614b2d83.\n",
      "> Parent node text: (B) LOCATION: 8                                                           \n",
      "(D) OTHER INFORMATION:...\n",
      "\n",
      "> Merging 1 nodes into parent node.\n",
      "> Parent node id: 1e3cc7f3-4f79-404d-9da2-125bab62ddab.\n",
      "> Parent node text: (B) LOCATION: 7                                                           \n",
      "(D) OTHER INFORMATION:...\n",
      "\n"
     ]
    },
    {
     "data": {
      "text/markdown": [
       "<b>{'prompt_tokens': 2895, 'completion_tokens': 481, 'total_tokens': 3376}</b>"
      ],
      "text/plain": [
       "<IPython.core.display.Markdown object>"
      ]
     },
     "metadata": {},
     "output_type": "display_data"
    },
    {
     "name": "stdout",
     "output_type": "stream",
     "text": [
      "--------------------------------------------------------------------\n",
      "> Merging 1 nodes into parent node.\n",
      "> Parent node id: 067fa327-7599-4b38-bb3b-95554da3cbb5.\n",
      "> Parent node text: (iv) ANTI-SENSE: NO                                                       \n",
      "(xi) SEQUENCE DESCRIPT...\n",
      "\n",
      "> Merging 1 nodes into parent node.\n",
      "> Parent node id: de50c77c-1ddf-49e2-aa41-c635ce4f4dca.\n",
      "> Parent node text: ID NO: 1) in inhibiting AA-induced inflammation. The most effective compounds (other than CT-112)...\n",
      "\n",
      "> Merging 1 nodes into parent node.\n",
      "> Parent node id: f8e7ffd3-ebc2-4209-9d36-b5d3de3b7da7.\n",
      "> Parent node text: (ii) MOLECULE TYPE: peptide                                               \n",
      "(iii) HYPOTHETICAL: NO...\n",
      "\n",
      "> Merging 1 nodes into parent node.\n",
      "> Parent node id: c8f4aa7f-2e6b-4938-b0b0-4954c1deb317.\n",
      "> Parent node text: (iv) ANTI-SENSE: NO                                                       \n",
      "(xi) SEQUENCE DESCRIPT...\n",
      "\n",
      "> Merging 1 nodes into parent node.\n",
      "> Parent node id: 2cff3e50-00de-434f-8199-836448c29750.\n",
      "> Parent node text: (A) LENGTH: 70 amino acids                                                \n",
      "(B) TYPE: amino acid  ...\n",
      "\n",
      "> Merging 1 nodes into parent node.\n",
      "> Parent node id: 852ba526-9e2e-40e6-9aed-9167f2db2f2b.\n",
      "> Parent node text: (iv) ANTI-SENSE: NO                                                       \n",
      "(xi) SEQUENCE DESCRIPT...\n",
      "\n",
      "> Merging 1 nodes into parent node.\n",
      "> Parent node id: 0ca61481-8e93-40fb-b71c-be8b92808d2f.\n",
      "> Parent node text: (iii) HYPOTHETICAL: NO                                                    \n",
      "(iv) ANTI-SENSE: NO   ...\n",
      "\n",
      "> Merging 1 nodes into parent node.\n",
      "> Parent node id: 17e1c972-1b66-46f3-91d1-1f3ca36d9afd.\n",
      "> Parent node text: 15                                                                        \n",
      "(2) INFORMATION FOR SE...\n",
      "\n",
      "> Merging 1 nodes into parent node.\n",
      "> Parent node id: 16626022-18b3-4aaf-80b8-c24ce6438204.\n",
      "> Parent node text: (iv) ANTI-SENSE: NO                                                       \n",
      "(xi) SEQUENCE DESCRIPT...\n",
      "\n",
      "> Merging 1 nodes into parent node.\n",
      "> Parent node id: 2dca0934-d81a-4405-beac-e05c88f6078d.\n",
      "> Parent node text: (ii) MOLECULE TYPE: peptide                                               \n",
      "(iii) HYPOTHETICAL: NO...\n",
      "\n",
      "> Merging 1 nodes into parent node.\n",
      "> Parent node id: bd4afa3d-daf6-428e-b78a-e2ab981a6a75.\n",
      "> Parent node text: (iv) ANTI-SENSE: NO                                                       \n",
      "(xi) SEQUENCE DESCRIPT...\n",
      "\n",
      "> Merging 1 nodes into parent node.\n",
      "> Parent node id: 92f7ce80-4586-4089-aa7d-5fa179aaebd4.\n",
      "> Parent node text: (A) LENGTH: 70 amino acids                                                \n",
      "(B) TYPE: amino acid  ...\n",
      "\n",
      "> Merging 1 nodes into parent node.\n",
      "> Parent node id: 1521703d-625d-4fa0-8489-f802e07ed5ca.\n",
      "> Parent node text: (iv) ANTI-SENSE: NO                                                       \n",
      "(xi) SEQUENCE DESCRIPT...\n",
      "\n",
      "> Merging 1 nodes into parent node.\n",
      "> Parent node id: e7a7633c-4cbe-4794-9e0f-0c331cc33097.\n",
      "> Parent node text: (iii) HYPOTHETICAL: NO                                                    \n",
      "(iv) ANTI-SENSE: NO   ...\n",
      "\n",
      "> Merging 1 nodes into parent node.\n",
      "> Parent node id: 820e8462-ac62-4102-8def-5cfb0ca3ec24.\n",
      "> Parent node text: 15                                                                        \n",
      "(2) INFORMATION FOR SE...\n",
      "\n"
     ]
    },
    {
     "data": {
      "text/markdown": [
       "<b>{'prompt_tokens': 3168, 'completion_tokens': 192, 'total_tokens': 3360}</b>"
      ],
      "text/plain": [
       "<IPython.core.display.Markdown object>"
      ]
     },
     "metadata": {},
     "output_type": "display_data"
    },
    {
     "name": "stdout",
     "output_type": "stream",
     "text": [
      "--------------------------------------------------------------------\n",
      "> Merging 1 nodes into parent node.\n",
      "> Parent node id: 7173473e-c469-4c9f-b658-af3076f3cba0.\n",
      "> Parent node text: (iv) ANTI-SENSE: NO                                                       \n",
      "(xi) SEQUENCE DESCRIPT...\n",
      "\n",
      "> Merging 2 nodes into parent node.\n",
      "> Parent node id: 152b4746-09a1-4bbf-ae4b-1221760dd6fc.\n",
      "> Parent node text: ID NO: 1) as anti-inflammatory agents in which CT-112 (SEQ. ID NO: 1), or a portion thereof, is c...\n",
      "\n",
      "> Merging 1 nodes into parent node.\n",
      "> Parent node id: eab62bf2-6038-413e-81b9-8f7e9ef5b34b.\n",
      "> Parent node text: (A) LENGTH: 8 amino acids                                                 \n",
      "(B) TYPE: amino acid  ...\n",
      "\n",
      "> Merging 1 nodes into parent node.\n",
      "> Parent node id: f08f23b5-f263-4fa2-922a-7ee2881f5448.\n",
      "> Parent node text: ID NO: 1) in inhibiting AA-induced inflammation. The most effective compounds (other than CT-112)...\n",
      "\n",
      "> Merging 1 nodes into parent node.\n",
      "> Parent node id: 98a00882-3fbb-476b-b341-73d2df107c5c.\n",
      "> Parent node text: (iv) ANTI-SENSE: NO                                                       \n",
      "(xi) SEQUENCE DESCRIPT...\n",
      "\n",
      "> Merging 1 nodes into parent node.\n",
      "> Parent node id: 075b26f7-fe59-45bc-b415-fcdc13887786.\n",
      "> Parent node text: (A) LENGTH: 8 amino acids                                                 \n",
      "(B) TYPE: amino acid  ...\n",
      "\n"
     ]
    },
    {
     "data": {
      "text/markdown": [
       "<b>{'prompt_tokens': 3181, 'completion_tokens': 261, 'total_tokens': 3442}</b>"
      ],
      "text/plain": [
       "<IPython.core.display.Markdown object>"
      ]
     },
     "metadata": {},
     "output_type": "display_data"
    },
    {
     "name": "stdout",
     "output_type": "stream",
     "text": [
      "--------------------------------------------------------------------\n",
      "> Merging 2 nodes into parent node.\n",
      "> Parent node id: dac7db81-4fc5-44cd-a7a0-2633b05d81a4.\n",
      "> Parent node text: ID NO: 1) as anti-inflammatory agents in which CT-112 (SEQ. ID NO: 1), or a portion thereof, is c...\n",
      "\n",
      "> Merging 1 nodes into parent node.\n",
      "> Parent node id: 03e46b2a-8697-44dd-8d9a-3f43ce0185c7.\n",
      "> Parent node text: NO                                                    \n",
      "(iv) ANTI-SENSE: NO                       ...\n",
      "\n",
      "> Merging 1 nodes into parent node.\n",
      "> Parent node id: d77d3864-911f-4da0-ad1b-5d5661388619.\n",
      "> Parent node text: ID NO: 1) in inhibiting AA-induced inflammation. The most effective compounds (other than CT-112)...\n",
      "\n",
      "> Merging 1 nodes into parent node.\n",
      "> Parent node id: cc32b109-946c-4d6b-be13-e77b7e943357.\n",
      "> Parent node text: MOLECULE TYPE: peptide                                               \n",
      "(iii) HYPOTHETICAL: NO     ...\n",
      "\n",
      "> Merging 1 nodes into parent node.\n",
      "> Parent node id: c0e20901-a543-48a3-a67e-09e4e60c9cc9.\n",
      "> Parent node text: (iii) HYPOTHETICAL: NO                                                    \n",
      "(iv) ANTI-SENSE: NO   ...\n",
      "\n",
      "> Merging 1 nodes into parent node.\n",
      "> Parent node id: ad7f9ced-f8e8-4e8f-804a-39f469d25124.\n",
      "> Parent node text: NO                                                    \n",
      "(iv) ANTI-SENSE: NO                       ...\n",
      "\n",
      "> Merging 1 nodes into parent node.\n",
      "> Parent node id: c51453dd-0abe-47da-a2a7-8a2b2bdbe108.\n",
      "> Parent node text: MOLECULE TYPE: peptide                                               \n",
      "(iii) HYPOTHETICAL: NO     ...\n",
      "\n",
      "> Merging 1 nodes into parent node.\n",
      "> Parent node id: fee59d0a-203e-4b52-9886-ffaf34fe53ad.\n",
      "> Parent node text: (iii) HYPOTHETICAL: NO                                                    \n",
      "(iv) ANTI-SENSE: NO   ...\n",
      "\n"
     ]
    },
    {
     "data": {
      "text/markdown": [
       "<b>{'prompt_tokens': 3140, 'completion_tokens': 505, 'total_tokens': 3645}</b>"
      ],
      "text/plain": [
       "<IPython.core.display.Markdown object>"
      ]
     },
     "metadata": {},
     "output_type": "display_data"
    },
    {
     "name": "stdout",
     "output_type": "stream",
     "text": [
      "--------------------------------------------------------------------\n",
      "> Merging 2 nodes into parent node.\n",
      "> Parent node id: 370ba107-8172-46b0-94c4-4f7f241c91a4.\n",
      "> Parent node text: ID NO: 1) as anti-inflammatory agents in which CT-112 (SEQ. ID NO: 1), or a portion thereof, is c...\n",
      "\n",
      "> Merging 1 nodes into parent node.\n",
      "> Parent node id: 7caefa1a-8b22-43de-9ef9-6ddc666109d2.\n",
      "> Parent node text: methoxy,                     \n",
      "amino or alkyl functional group\"                                   ...\n",
      "\n",
      "> Merging 1 nodes into parent node.\n",
      "> Parent node id: 114fb029-0913-419f-b835-fe46a1a07da5.\n",
      "> Parent node text: (iv) ANTI-SENSE: NO                                                       \n",
      "(xi) SEQUENCE DESCRIPT...\n",
      "\n",
      "> Merging 1 nodes into parent node.\n",
      "> Parent node id: 4733a9c9-7695-4e96-87a1-2d75895e4fc4.\n",
      "> Parent node text: (ii) MOLECULE TYPE: peptide                                               \n",
      "(i) FEATURE:          ...\n",
      "\n",
      "> Merging 1 nodes into parent node.\n",
      "> Parent node id: 5c84d79d-f4c8-429a-9cb8-34f2555a1c4e.\n",
      "> Parent node text: (iv) ANTI-SENSE: NO                                                       \n",
      "(xi) SEQUENCE DESCRIPT...\n",
      "\n"
     ]
    },
    {
     "data": {
      "text/markdown": [
       "<b>{'prompt_tokens': 2847, 'completion_tokens': 262, 'total_tokens': 3109}</b>"
      ],
      "text/plain": [
       "<IPython.core.display.Markdown object>"
      ]
     },
     "metadata": {},
     "output_type": "display_data"
    },
    {
     "name": "stdout",
     "output_type": "stream",
     "text": [
      "--------------------------------------------------------------------\n",
      "> Merging 1 nodes into parent node.\n",
      "> Parent node id: e5dbe249-018e-49ac-a3b7-8fdddccadfe9.\n",
      "> Parent node text: (B) TYPE: amino acid                                                      \n",
      "(D) TOPOLOGY: unknown ...\n",
      "\n",
      "> Merging 1 nodes into parent node.\n",
      "> Parent node id: ded5ea50-ae3c-4757-9965-e0ad003689a5.\n",
      "> Parent node text: (iii) HYPOTHETICAL: NO                                                    \n",
      "(iv) ANTI-SENSE: NO   ...\n",
      "\n",
      "> Merging 1 nodes into parent node.\n",
      "> Parent node id: 780a470f-14fb-4069-9cce-185c5bb55511.\n",
      "> Parent node text: (iv) ANTI-SENSE: NO                                                       \n",
      "(xi) SEQUENCE DESCRIPT...\n",
      "\n",
      "> Merging 1 nodes into parent node.\n",
      "> Parent node id: bb39045d-6acf-4fb3-b843-bcfa81a5145c.\n",
      "> Parent node text: (xi) SEQUENCE DESCRIPTION: SEQ_ID_NO_64:                                  \n",
      "ThrThrSerGlnValArgLeuA...\n",
      "\n",
      "> Merging 1 nodes into parent node.\n",
      "> Parent node id: 735c58db-2b6f-4360-9f19-4fb83f9b6a29.\n",
      "> Parent node text: (iv) ANTI-SENSE: NO                                                       \n",
      "(xi) SEQUENCE DESCRIPT...\n",
      "\n",
      "> Merging 1 nodes into parent node.\n",
      "> Parent node id: e4ff87f4-1b87-4349-8fbe-6b6090387aa7.\n",
      "> Parent node text: (B) LOCATION: 7                                                           \n",
      "(D) OTHER INFORMATION:...\n",
      "\n",
      "> Merging 1 nodes into parent node.\n",
      "> Parent node id: f8b99fa0-fe39-4a70-b4fc-75c1a840f603.\n",
      "> Parent node text: (B) TYPE: amino acid                                                      \n",
      "(D) TOPOLOGY: unknown ...\n",
      "\n",
      "> Merging 1 nodes into parent node.\n",
      "> Parent node id: efea1230-8c5e-4bfc-9f81-edb26ed5c894.\n",
      "> Parent node text: (iii) HYPOTHETICAL: NO                                                    \n",
      "(iv) ANTI-SENSE: NO   ...\n",
      "\n",
      "> Merging 1 nodes into parent node.\n",
      "> Parent node id: a4adb7d2-efe3-4517-bb6a-347c9f55d419.\n",
      "> Parent node text: (iv) ANTI-SENSE: NO                                                       \n",
      "(xi) SEQUENCE DESCRIPT...\n",
      "\n",
      "> Merging 1 nodes into parent node.\n",
      "> Parent node id: 0413dfa2-e6fb-4a7a-9ebf-d64fe758eccf.\n",
      "> Parent node text: (xi) SEQUENCE DESCRIPTION: SEQ_ID_NO_64:                                  \n",
      "ThrThrSerGlnValArgLeuA...\n",
      "\n",
      "> Merging 1 nodes into parent node.\n",
      "> Parent node id: 2af4415f-1316-4627-8142-6e2f20e5b610.\n",
      "> Parent node text: (iv) ANTI-SENSE: NO                                                       \n",
      "(xi) SEQUENCE DESCRIPT...\n",
      "\n",
      "> Merging 1 nodes into parent node.\n",
      "> Parent node id: ed48689d-e9e9-4a54-8594-2b43b71d1c76.\n",
      "> Parent node text: (B) LOCATION: 7                                                           \n",
      "(D) OTHER INFORMATION:...\n",
      "\n",
      "> Filling in node. Node id: 0975275a-45e4-4c40-a97b-ae25e273906e> Node text: (i) SEQUENCE CHARACTERISTICS:                                             \n",
      "(A) LENGTH: 8 amino ac...\n",
      "\n"
     ]
    },
    {
     "data": {
      "text/markdown": [
       "<b>{'prompt_tokens': 3401, 'completion_tokens': 351, 'total_tokens': 3752}</b>"
      ],
      "text/plain": [
       "<IPython.core.display.Markdown object>"
      ]
     },
     "metadata": {},
     "output_type": "display_data"
    },
    {
     "name": "stdout",
     "output_type": "stream",
     "text": [
      "--------------------------------------------------------------------\n",
      "> Merging 1 nodes into parent node.\n",
      "> Parent node id: bba9a16c-e154-417f-ad83-29f2949d7d33.\n",
      "> Parent node text: (iii) HYPOTHETICAL: NO                                                    \n",
      "(iv) ANTI-SENSE: NO   ...\n",
      "\n",
      "> Merging 1 nodes into parent node.\n",
      "> Parent node id: 2c860efe-2575-4f38-8362-2456e9cdde03.\n",
      "> Parent node text: (2) INFORMATION FOR SEQ_ID_NO_6:                                          \n",
      "(i) SEQUENCE CHARACTER...\n",
      "\n",
      "> Merging 1 nodes into parent node.\n",
      "> Parent node id: 7f4a88c5-b015-422a-b382-3e79d6a0a773.\n",
      "> Parent node text: (D) TOPOLOGY: unknown                                                     \n",
      "(ii) MOLECULE TYPE: pe...\n",
      "\n",
      "> Merging 1 nodes into parent node.\n",
      "> Parent node id: 8c46fcf3-2565-42d9-bf9d-6561559f1c50.\n",
      "> Parent node text: (iii) HYPOTHETICAL: NO                                                    \n",
      "(iv) ANTI-SENSE: NO   ...\n",
      "\n",
      "> Merging 1 nodes into parent node.\n",
      "> Parent node id: e3378b8f-ebeb-4b1a-9d5b-9c2e25230ec1.\n",
      "> Parent node text: (2) INFORMATION FOR SEQ_ID_NO_6:                                          \n",
      "(i) SEQUENCE CHARACTER...\n",
      "\n",
      "> Merging 1 nodes into parent node.\n",
      "> Parent node id: cf49f653-6f7d-48a6-a2f7-b3772fc831a3.\n",
      "> Parent node text: (D) TOPOLOGY: unknown                                                     \n",
      "(ii) MOLECULE TYPE: pe...\n",
      "\n"
     ]
    },
    {
     "data": {
      "text/markdown": [
       "<b>{'prompt_tokens': 3033, 'completion_tokens': 269, 'total_tokens': 3302}</b>"
      ],
      "text/plain": [
       "<IPython.core.display.Markdown object>"
      ]
     },
     "metadata": {},
     "output_type": "display_data"
    },
    {
     "name": "stdout",
     "output_type": "stream",
     "text": [
      "--------------------------------------------------------------------\n",
      "> Merging 2 nodes into parent node.\n",
      "> Parent node id: e8b0958d-c7d7-4e31-97c9-3b3819a9e55f.\n",
      "> Parent node text: The claim information:\n",
      "What is claimed is: 1. A peptide having the amino acid sequence D-Thr-Thr-...\n",
      "\n",
      "> Merging 2 nodes into parent node.\n",
      "> Parent node id: 1814bac9-893a-4c7e-9b12-339f5c4855f8.\n",
      "> Parent node text: ID NO: 1) as anti-inflammatory agents in which CT-112 (SEQ. ID NO: 1), or a portion thereof, is c...\n",
      "\n",
      "> Merging 1 nodes into parent node.\n",
      "> Parent node id: c820fb10-05a5-46dc-bb62-0a400625bdfa.\n",
      "> Parent node text: ID NO: 1) in inhibiting AA-induced inflammation. The most effective compounds (other than CT-112)...\n",
      "\n",
      "> Merging 1 nodes into parent node.\n",
      "> Parent node id: fc09a044-c2d4-4390-a361-01966f147f05.\n",
      "> Parent node text: (iv) ANTI-SENSE: NO                                                       \n",
      "(xi) SEQUENCE DESCRIPT...\n",
      "\n",
      "> Merging 1 nodes into parent node.\n",
      "> Parent node id: 2d87cc10-e9ee-4e8d-bba2-7cc4f2e08d9e.\n",
      "> Parent node text: (iii) HYPOTHETICAL: NO                                                    \n",
      "(iv) ANTI-SENSE: NO   ...\n",
      "\n",
      "> Merging 1 nodes into parent node.\n",
      "> Parent node id: 4243a8aa-7296-4131-836e-91d774d7c252.\n",
      "> Parent node text: (iv) ANTI-SENSE: NO                                                       \n",
      "(xi) SEQUENCE DESCRIPT...\n",
      "\n",
      "> Merging 1 nodes into parent node.\n",
      "> Parent node id: 40bafd19-faaf-4817-8467-4cfa788f57f9.\n",
      "> Parent node text: (iii) HYPOTHETICAL: NO                                                    \n",
      "(iv) ANTI-SENSE: NO   ...\n",
      "\n"
     ]
    },
    {
     "data": {
      "text/markdown": [
       "<b>{'prompt_tokens': 3298, 'completion_tokens': 469, 'total_tokens': 3767}</b>"
      ],
      "text/plain": [
       "<IPython.core.display.Markdown object>"
      ]
     },
     "metadata": {},
     "output_type": "display_data"
    },
    {
     "name": "stdout",
     "output_type": "stream",
     "text": [
      "--------------------------------------------------------------------\n",
      "> Merging 1 nodes into parent node.\n",
      "> Parent node id: 920ea33c-3990-4375-8673-f454d63c1b28.\n",
      "> Parent node text: ID NO: 1) in inhibiting AA-induced inflammation. The most effective compounds (other than CT-112)...\n",
      "\n",
      "> Merging 1 nodes into parent node.\n",
      "> Parent node id: 06c356c4-1944-4adb-97cc-48aaacbdd6ef.\n",
      "> Parent node text: (iv) ANTI-SENSE: NO                                                       \n",
      "(ix) FEATURE:         ...\n",
      "\n",
      "> Merging 1 nodes into parent node.\n",
      "> Parent node id: 1160d248-0c61-4966-a92f-f036b6cfa071.\n",
      "> Parent node text: (iii) HYPOTHETICAL: NO                                                    \n",
      "(iv) ANTI-SENSE: NO   ...\n",
      "\n",
      "> Merging 1 nodes into parent node.\n",
      "> Parent node id: 86fa8bcb-fbc0-456f-82d7-76e02a5d3554.\n",
      "> Parent node text: (ix) FEATURE:                                                             \n",
      "(A) NAME/KEY: Modified...\n",
      "\n",
      "> Merging 1 nodes into parent node.\n",
      "> Parent node id: 20035efa-d514-46bc-a73a-d96536498e9f.\n",
      "> Parent node text: (iv) ANTI-SENSE: NO                                                       \n",
      "(ix) FEATURE:         ...\n",
      "\n",
      "> Merging 1 nodes into parent node.\n",
      "> Parent node id: 4122391e-9125-4ffe-b684-4038af96fd77.\n",
      "> Parent node text: (iii) HYPOTHETICAL: NO                                                    \n",
      "(iv) ANTI-SENSE: NO   ...\n",
      "\n",
      "> Merging 1 nodes into parent node.\n",
      "> Parent node id: 90774184-f1a3-4224-b1b1-eceb0123270f.\n",
      "> Parent node text: (ix) FEATURE:                                                             \n",
      "(A) NAME/KEY: Modified...\n",
      "\n"
     ]
    },
    {
     "data": {
      "text/markdown": [
       "<b>{'prompt_tokens': 3096, 'completion_tokens': 296, 'total_tokens': 3392}</b>"
      ],
      "text/plain": [
       "<IPython.core.display.Markdown object>"
      ]
     },
     "metadata": {},
     "output_type": "display_data"
    },
    {
     "name": "stdout",
     "output_type": "stream",
     "text": [
      "--------------------------------------------------------------------\n",
      "> Merging 1 nodes into parent node.\n",
      "> Parent node id: bf9d348c-a8d6-4146-9f12-5cbcfa098a42.\n",
      "> Parent node text: (B) LOCATION: 8                                                           \n",
      "(D) OTHER INFORMATION:...\n",
      "\n",
      "> Merging 1 nodes into parent node.\n",
      "> Parent node id: 9377d1be-2fb7-48ad-851a-945d04f51e1c.\n",
      "> Parent node text: (2) INFORMATION FOR SEQ_ID_NO_86:                                         \n",
      "(i) SEQUENCE CHARACTER...\n",
      "\n",
      "> Merging 1 nodes into parent node.\n",
      "> Parent node id: c1f797ad-aad5-4dcb-aa1f-16f558cdc775.\n",
      "> Parent node text: (iv) ANTI-SENSE: NO                                                       \n",
      "(xi) SEQUENCE DESCRIPT...\n",
      "\n",
      "> Merging 1 nodes into parent node.\n",
      "> Parent node id: 62266065-2ab0-4e83-abfa-7b28c971666c.\n",
      "> Parent node text: ID NO: 1) in inhibiting AA-induced inflammation. The most effective compounds (other than CT-112)...\n",
      "\n",
      "> Merging 1 nodes into parent node.\n",
      "> Parent node id: dbeff665-386a-45cb-b45b-566fb9ba74a1.\n",
      "> Parent node text: (iv) ANTI-SENSE: NO                                                       \n",
      "(xi) SEQUENCE DESCRIPT...\n",
      "\n"
     ]
    },
    {
     "data": {
      "text/markdown": [
       "<b>{'prompt_tokens': 2845, 'completion_tokens': 360, 'total_tokens': 3205}</b>"
      ],
      "text/plain": [
       "<IPython.core.display.Markdown object>"
      ]
     },
     "metadata": {},
     "output_type": "display_data"
    },
    {
     "name": "stdout",
     "output_type": "stream",
     "text": [
      "--------------------------------------------------------------------\n",
      "> Merging 1 nodes into parent node.\n",
      "> Parent node id: 97ca1c0e-f510-4372-a250-34028ff548a0.\n",
      "> Parent node text: (iii) HYPOTHETICAL: NO                                                    \n",
      "(iv) ANTI-SENSE: NO   ...\n",
      "\n",
      "> Merging 1 nodes into parent node.\n",
      "> Parent node id: b8b4479f-d50b-4f3d-ba42-17f2924f2f78.\n",
      "> Parent node text: (iv) ANTI-SENSE: NO                                                       \n",
      "(xi) SEQUENCE DESCRIPT...\n",
      "\n",
      "> Merging 1 nodes into parent node.\n",
      "> Parent node id: ec8674a4-2dde-4d0f-a1df-91d2a5cd210a.\n",
      "> Parent node text: ID NO: 1) in inhibiting AA-induced inflammation. The most effective compounds (other than CT-112)...\n",
      "\n",
      "> Merging 2 nodes into parent node.\n",
      "> Parent node id: 99d08ea2-561a-4d8c-8a80-e41b2cc1cd50.\n",
      "> Parent node text: ID NO: 1) as anti-inflammatory agents in which CT-112 (SEQ. ID NO: 1), or a portion thereof, is c...\n",
      "\n",
      "> Merging 1 nodes into parent node.\n",
      "> Parent node id: 3f9654de-8bab-45fe-bdcf-4d79f57f309f.\n",
      "> Parent node text: peptide                                               \n",
      "(iii) HYPOTHETICAL: NO                    ...\n",
      "\n",
      "> Merging 1 nodes into parent node.\n",
      "> Parent node id: aafef02f-4d26-4f88-9eb8-d79553dca79e.\n",
      "> Parent node text: (iii) HYPOTHETICAL: NO                                                    \n",
      "(iv) ANTI-SENSE: NO   ...\n",
      "\n",
      "> Merging 1 nodes into parent node.\n",
      "> Parent node id: 5bb0edfe-09a9-4534-a666-510dd1caec98.\n",
      "> Parent node text: (iv) ANTI-SENSE: NO                                                       \n",
      "(xi) SEQUENCE DESCRIPT...\n",
      "\n",
      "> Merging 1 nodes into parent node.\n",
      "> Parent node id: 563a1f31-00f2-4fba-8347-d1f526ca2a7e.\n",
      "> Parent node text: peptide                                               \n",
      "(iii) HYPOTHETICAL: NO                    ...\n",
      "\n",
      "> Filling in node. Node id: 86a23fff-6ec4-41c2-8717-13f8dd038103> Node text: (i) SEQUENCE CHARACTERISTICS:                                             \n",
      "(A) LENGTH: 8 amino ac...\n",
      "\n"
     ]
    },
    {
     "data": {
      "text/markdown": [
       "<b>{'prompt_tokens': 3446, 'completion_tokens': 289, 'total_tokens': 3735}</b>"
      ],
      "text/plain": [
       "<IPython.core.display.Markdown object>"
      ]
     },
     "metadata": {},
     "output_type": "display_data"
    },
    {
     "name": "stdout",
     "output_type": "stream",
     "text": [
      "--------------------------------------------------------------------\n",
      "> Merging 2 nodes into parent node.\n",
      "> Parent node id: 706ddb34-aea9-4fd1-a17f-c65a85d241da.\n",
      "> Parent node text: (xi) SEQUENCE DESCRIPTION: SEQ_ID_NO_81:                                  \n",
      "ThrThrSerGlnValArgProX...\n",
      "\n",
      "> Merging 2 nodes into parent node.\n",
      "> Parent node id: 9bdfff19-14c8-4ded-97c3-1698f84bbbfd.\n",
      "> Parent node text: ID NO: 1) as anti-inflammatory agents in which CT-112 (SEQ. ID NO: 1), or a portion thereof, is c...\n",
      "\n",
      "> Merging 1 nodes into parent node.\n",
      "> Parent node id: e627e0c9-e3cb-4fd4-abf8-bc117f70d274.\n",
      "> Parent node text: ID NO: 1) in inhibiting AA-induced inflammation. The most effective compounds (other than CT-112)...\n",
      "\n"
     ]
    },
    {
     "data": {
      "text/markdown": [
       "<b>{'prompt_tokens': 3116, 'completion_tokens': 382, 'total_tokens': 3498}</b>"
      ],
      "text/plain": [
       "<IPython.core.display.Markdown object>"
      ]
     },
     "metadata": {},
     "output_type": "display_data"
    },
    {
     "name": "stdout",
     "output_type": "stream",
     "text": [
      "--------------------------------------------------------------------\n",
      "> Merging 2 nodes into parent node.\n",
      "> Parent node id: 6c1945f4-e8c3-4d78-85f6-b775a2faf3e0.\n",
      "> Parent node text: ID NO: 1) as anti-inflammatory agents in which CT-112 (SEQ. ID NO: 1), or a portion thereof, is c...\n",
      "\n",
      "> Merging 1 nodes into parent node.\n",
      "> Parent node id: e79e4263-b1da-4122-9958-3b94ea21749f.\n",
      "> Parent node text: ID NO: 1) in inhibiting AA-induced inflammation. The most effective compounds (other than CT-112)...\n",
      "\n",
      "> Merging 1 nodes into parent node.\n",
      "> Parent node id: 018fd4a8-cd44-4f1e-8f9b-3ebf7d1e9f20.\n",
      "> Parent node text: (iii) HYPOTHETICAL: NO                                                    \n",
      "(iv) ANTI-SENSE: NO   ...\n",
      "\n",
      "> Merging 1 nodes into parent node.\n",
      "> Parent node id: ba065252-06cb-4613-914d-e0ad2e3bb89d.\n",
      "> Parent node text: (D) TOPOLOGY: unknown                                                     \n",
      "(ii) MOLECULE TYPE: pe...\n",
      "\n",
      "> Merging 1 nodes into parent node.\n",
      "> Parent node id: c83602e3-3511-4164-86d7-1d718326a875.\n",
      "> Parent node text: (iii) HYPOTHETICAL: NO                                                    \n",
      "(iv) ANTI-SENSE: NO   ...\n",
      "\n",
      "> Merging 1 nodes into parent node.\n",
      "> Parent node id: 43840ab6-1c04-46e4-931f-4b066f9b6743.\n",
      "> Parent node text: (D) TOPOLOGY: unknown                                                     \n",
      "(ii) MOLECULE TYPE: pe...\n",
      "\n"
     ]
    },
    {
     "data": {
      "text/markdown": [
       "<b>{'prompt_tokens': 3129, 'completion_tokens': 260, 'total_tokens': 3389}</b>"
      ],
      "text/plain": [
       "<IPython.core.display.Markdown object>"
      ]
     },
     "metadata": {},
     "output_type": "display_data"
    },
    {
     "name": "stdout",
     "output_type": "stream",
     "text": [
      "--------------------------------------------------------------------\n",
      "> Merging 1 nodes into parent node.\n",
      "> Parent node id: b9bf82c5-9cb7-4037-b465-88a458a1563f.\n",
      "> Parent node text: (B) LOCATION: 7                                                           \n",
      "(D) OTHER INFORMATION:...\n",
      "\n",
      "> Merging 1 nodes into parent node.\n",
      "> Parent node id: 571531d6-cb22-426e-9910-8e88b7cb5d4b.\n",
      "> Parent node text: ID NO: 1) in inhibiting AA-induced inflammation. The most effective compounds (other than CT-112)...\n",
      "\n",
      "> Merging 1 nodes into parent node.\n",
      "> Parent node id: 84350d9f-e71b-452b-a3ce-92cd0aeb5eb2.\n",
      "> Parent node text: (iii) HYPOTHETICAL: NO                                                    \n",
      "(iv) ANTI-SENSE: NO   ...\n",
      "\n",
      "> Merging 1 nodes into parent node.\n",
      "> Parent node id: b21a6ec4-871d-4ae6-8f41-13c16983bcfd.\n",
      "> Parent node text: (B) LOCATION: 7                                                           \n",
      "(D) OTHER INFORMATION:...\n",
      "\n",
      "> Merging 1 nodes into parent node.\n",
      "> Parent node id: 2cdc373a-fc98-4a1d-8fbd-7efe72d602b9.\n",
      "> Parent node text: (iii) HYPOTHETICAL: NO                                                    \n",
      "(iv) ANTI-SENSE: NO   ...\n",
      "\n"
     ]
    },
    {
     "data": {
      "text/markdown": [
       "<b>{'prompt_tokens': 3128, 'completion_tokens': 475, 'total_tokens': 3603}</b>"
      ],
      "text/plain": [
       "<IPython.core.display.Markdown object>"
      ]
     },
     "metadata": {},
     "output_type": "display_data"
    },
    {
     "name": "stdout",
     "output_type": "stream",
     "text": [
      "--------------------------------------------------------------------\n",
      "> Merging 1 nodes into parent node.\n",
      "> Parent node id: 7dd5a6a6-d96c-4d45-85cf-52dda5ade356.\n",
      "> Parent node text: ID NO: 1) in inhibiting AA-induced inflammation. The most effective compounds (other than CT-112)...\n",
      "\n",
      "> Merging 1 nodes into parent node.\n",
      "> Parent node id: 5c92a377-8bdf-47ff-99e4-03052d933e69.\n",
      "> Parent node text: (iv) ANTI-SENSE: NO                                                       \n",
      "(xi) SEQUENCE DESCRIPT...\n",
      "\n",
      "> Merging 1 nodes into parent node.\n",
      "> Parent node id: c8fd5482-a484-415a-9e38-039b350e2ddb.\n",
      "> Parent node text: unknown                                                     \n",
      "(ii) MOLECULE TYPE: peptide         ...\n",
      "\n",
      "> Merging 1 nodes into parent node.\n",
      "> Parent node id: cb79aeba-fb26-44f5-b78c-6cb48fc432a5.\n",
      "> Parent node text: (iii) HYPOTHETICAL: NO                                                    \n",
      "(iv) ANTI-SENSE: NO   ...\n",
      "\n",
      "> Merging 1 nodes into parent node.\n",
      "> Parent node id: 0fbfae04-2c6b-4384-816c-e9d0fccb98a7.\n",
      "> Parent node text: (B) TYPE: amino acid                                                      \n",
      "(D) TOPOLOGY: unknown ...\n",
      "\n",
      "> Merging 1 nodes into parent node.\n",
      "> Parent node id: 6bca8482-4576-4ef0-9da4-4c026ad47cb0.\n",
      "> Parent node text: (iv) ANTI-SENSE: NO                                                       \n",
      "(xi) SEQUENCE DESCRIPT...\n",
      "\n",
      "> Merging 1 nodes into parent node.\n",
      "> Parent node id: b8c4cdd7-b04f-439f-837b-f764f5f0b10e.\n",
      "> Parent node text: unknown                                                     \n",
      "(ii) MOLECULE TYPE: peptide         ...\n",
      "\n",
      "> Merging 1 nodes into parent node.\n",
      "> Parent node id: fe91823b-bed4-4c0e-98e1-83586b98f025.\n",
      "> Parent node text: (iii) HYPOTHETICAL: NO                                                    \n",
      "(iv) ANTI-SENSE: NO   ...\n",
      "\n",
      "> Merging 1 nodes into parent node.\n",
      "> Parent node id: f49ac3bc-e72b-4ed8-aff3-4d7c2c2304fc.\n",
      "> Parent node text: (B) TYPE: amino acid                                                      \n",
      "(D) TOPOLOGY: unknown ...\n",
      "\n"
     ]
    },
    {
     "data": {
      "text/markdown": [
       "<b>{'prompt_tokens': 3066, 'completion_tokens': 204, 'total_tokens': 3270}</b>"
      ],
      "text/plain": [
       "<IPython.core.display.Markdown object>"
      ]
     },
     "metadata": {},
     "output_type": "display_data"
    },
    {
     "name": "stdout",
     "output_type": "stream",
     "text": [
      "--------------------------------------------------------------------\n",
      "> Merging 1 nodes into parent node.\n",
      "> Parent node id: 7b4d6587-3fbe-4001-8580-4dd9a786a822.\n",
      "> Parent node text: ID NO: 1) in inhibiting AA-induced inflammation. The most effective compounds (other than CT-112)...\n",
      "\n",
      "> Merging 1 nodes into parent node.\n",
      "> Parent node id: 087be4fe-5660-4b8d-9d53-7ee211582236.\n",
      "> Parent node text: SEQ_ID_NO_13:                                         \n",
      "(i) SEQUENCE CHARACTERISTICS:             ...\n",
      "\n",
      "> Merging 1 nodes into parent node.\n",
      "> Parent node id: 3d717a46-e804-4708-b58b-caff5ca9c048.\n",
      "> Parent node text: (iv) ANTI-SENSE: NO                                                       \n",
      "(xi) SEQUENCE DESCRIPT...\n",
      "\n",
      "> Merging 1 nodes into parent node.\n",
      "> Parent node id: f5c96b48-42b1-4f54-8bfa-3ee2c4006b1a.\n",
      "> Parent node text: (iv) ANTI-SENSE: NO                                                       \n",
      "(xi) SEQUENCE DESCRIPT...\n",
      "\n",
      "> Merging 1 nodes into parent node.\n",
      "> Parent node id: 1324a568-fab6-4997-b741-3ade6eff0ddd.\n",
      "> Parent node text: SEQ_ID_NO_13:                                         \n",
      "(i) SEQUENCE CHARACTERISTICS:             ...\n",
      "\n",
      "> Merging 1 nodes into parent node.\n",
      "> Parent node id: acbc4ec4-19ac-44f2-9490-cb871f8c1f18.\n",
      "> Parent node text: (iv) ANTI-SENSE: NO                                                       \n",
      "(xi) SEQUENCE DESCRIPT...\n",
      "\n",
      "> Merging 1 nodes into parent node.\n",
      "> Parent node id: 7aa1fca1-28c2-4b6a-945e-637911cabff0.\n",
      "> Parent node text: (iv) ANTI-SENSE: NO                                                       \n",
      "(xi) SEQUENCE DESCRIPT...\n",
      "\n"
     ]
    },
    {
     "data": {
      "text/markdown": [
       "<b>{'prompt_tokens': 3113, 'completion_tokens': 147, 'total_tokens': 3260}</b>"
      ],
      "text/plain": [
       "<IPython.core.display.Markdown object>"
      ]
     },
     "metadata": {},
     "output_type": "display_data"
    },
    {
     "name": "stdout",
     "output_type": "stream",
     "text": [
      "--------------------------------------------------------------------\n",
      "> Merging 2 nodes into parent node.\n",
      "> Parent node id: 26fa79b1-aa04-4cb7-ad25-465a0a64fdae.\n",
      "> Parent node text: The claim information:\n",
      "What is claimed is: 1. A peptide having the amino acid sequence D-Thr-Thr-...\n",
      "\n",
      "> Merging 1 nodes into parent node.\n",
      "> Parent node id: 3d573d82-73a1-41c4-aacc-1af80e281522.\n",
      "> Parent node text: (iv) ANTI-SENSE: NO                                                       \n",
      "(xi) SEQUENCE DESCRIPT...\n",
      "\n",
      "> Merging 1 nodes into parent node.\n",
      "> Parent node id: 6319fc1b-b751-4869-b25e-46ef0cf72e0f.\n",
      "> Parent node text: (iii) HYPOTHETICAL: NO                                                    \n",
      "(iv) ANTI-SENSE: NO   ...\n",
      "\n",
      "> Merging 1 nodes into parent node.\n",
      "> Parent node id: b60f7847-a447-4ec4-854b-69a0b8fd6402.\n",
      "> Parent node text: ID NO: 1) in inhibiting AA-induced inflammation. The most effective compounds (other than CT-112)...\n",
      "\n",
      "> Merging 2 nodes into parent node.\n",
      "> Parent node id: 34e08b52-aba4-41ab-bde3-d496050d3159.\n",
      "> Parent node text: ID NO: 1) as anti-inflammatory agents in which CT-112 (SEQ. ID NO: 1), or a portion thereof, is c...\n",
      "\n",
      "> Merging 1 nodes into parent node.\n",
      "> Parent node id: 85c206c5-5511-40c3-b27e-675500a09d45.\n",
      "> Parent node text: (2) INFORMATION FOR SEQ_ID_NO_60:                                         \n",
      "(i) SEQUENCE CHARACTER...\n",
      "\n",
      "> Merging 1 nodes into parent node.\n",
      "> Parent node id: 77f90810-2525-404b-8e6b-6229ec8ffab4.\n",
      "> Parent node text: (iv) ANTI-SENSE: NO                                                       \n",
      "(xi) SEQUENCE DESCRIPT...\n",
      "\n",
      "> Merging 1 nodes into parent node.\n",
      "> Parent node id: f7d605e4-7403-40c0-9a9d-f189aff1baca.\n",
      "> Parent node text: (iii) HYPOTHETICAL: NO                                                    \n",
      "(iv) ANTI-SENSE: NO   ...\n",
      "\n",
      "> Merging 1 nodes into parent node.\n",
      "> Parent node id: 8cdd3a53-aecc-4fe4-bc99-3b60407f63f6.\n",
      "> Parent node text: (2) INFORMATION FOR SEQ_ID_NO_60:                                         \n",
      "(i) SEQUENCE CHARACTER...\n",
      "\n"
     ]
    },
    {
     "data": {
      "text/markdown": [
       "<b>{'prompt_tokens': 3281, 'completion_tokens': 406, 'total_tokens': 3687}</b>"
      ],
      "text/plain": [
       "<IPython.core.display.Markdown object>"
      ]
     },
     "metadata": {},
     "output_type": "display_data"
    },
    {
     "name": "stdout",
     "output_type": "stream",
     "text": [
      "--------------------------------------------------------------------\n",
      "> Merging 1 nodes into parent node.\n",
      "> Parent node id: 68648608-7c4e-4339-8f81-22eac31a0f95.\n",
      "> Parent node text: ID NO: 1) in inhibiting AA-induced inflammation. The most effective compounds (other than CT-112)...\n",
      "\n",
      "> Merging 1 nodes into parent node.\n",
      "> Parent node id: a800aa56-c75e-4e9b-80d5-165a1d2d406e.\n",
      "> Parent node text: 15                                                                        \n",
      "(2) INFORMATION FOR SE...\n",
      "\n",
      "> Merging 1 nodes into parent node.\n",
      "> Parent node id: 53642f61-62ea-4663-8523-985b0b0df4bc.\n",
      "> Parent node text: (iii) HYPOTHETICAL: NO                                                    \n",
      "(iv) ANTI-SENSE: NO   ...\n",
      "\n",
      "> Merging 1 nodes into parent node.\n",
      "> Parent node id: 30bd204c-4e8c-4afc-be4d-8cb1660d79b4.\n",
      "> Parent node text: 15                                                                        \n",
      "(2) INFORMATION FOR SE...\n",
      "\n",
      "> Merging 1 nodes into parent node.\n",
      "> Parent node id: 9ebb5a60-e529-46b0-b253-a5216eb88728.\n",
      "> Parent node text: (iii) HYPOTHETICAL: NO                                                    \n",
      "(iv) ANTI-SENSE: NO   ...\n",
      "\n"
     ]
    },
    {
     "data": {
      "text/markdown": [
       "<b>{'prompt_tokens': 3034, 'completion_tokens': 241, 'total_tokens': 3275}</b>"
      ],
      "text/plain": [
       "<IPython.core.display.Markdown object>"
      ]
     },
     "metadata": {},
     "output_type": "display_data"
    },
    {
     "name": "stdout",
     "output_type": "stream",
     "text": [
      "--------------------------------------------------------------------\n",
      "> Merging 2 nodes into parent node.\n",
      "> Parent node id: 3b68e025-7bb2-4b5f-8628-6e61c03743f2.\n",
      "> Parent node text: ID NO: 1) as anti-inflammatory agents in which CT-112 (SEQ. ID NO: 1), or a portion thereof, is c...\n",
      "\n",
      "> Merging 1 nodes into parent node.\n",
      "> Parent node id: 238816e3-3c7b-4408-8b74-6502c44c5766.\n",
      "> Parent node text: ID NO: 1) in inhibiting AA-induced inflammation. The most effective compounds (other than CT-112)...\n",
      "\n",
      "> Merging 1 nodes into parent node.\n",
      "> Parent node id: 8b2e5dc8-5c8e-4407-a0a0-b9a4fdef34bf.\n",
      "> Parent node text: (iii) HYPOTHETICAL: NO                                                    \n",
      "(iv) ANTI-SENSE: NO   ...\n",
      "\n",
      "> Merging 1 nodes into parent node.\n",
      "> Parent node id: a6b253c9-150c-4076-a594-50ded3a56574.\n",
      "> Parent node text: (D) TOPOLOGY: unknown                                                     \n",
      "(ii) MOLECULE TYPE: pe...\n",
      "\n",
      "> Merging 1 nodes into parent node.\n",
      "> Parent node id: 6b295c4c-c6ca-4483-b80a-f0cf8a3541aa.\n",
      "> Parent node text: (iii) HYPOTHETICAL: NO                                                    \n",
      "(iv) ANTI-SENSE: NO   ...\n",
      "\n",
      "> Merging 1 nodes into parent node.\n",
      "> Parent node id: d255b79e-ccf7-4898-ab58-c9033e91e732.\n",
      "> Parent node text: (D) TOPOLOGY: unknown                                                     \n",
      "(ii) MOLECULE TYPE: pe...\n",
      "\n"
     ]
    },
    {
     "data": {
      "text/markdown": [
       "<b>{'prompt_tokens': 3150, 'completion_tokens': 279, 'total_tokens': 3429}</b>"
      ],
      "text/plain": [
       "<IPython.core.display.Markdown object>"
      ]
     },
     "metadata": {},
     "output_type": "display_data"
    },
    {
     "name": "stdout",
     "output_type": "stream",
     "text": [
      "--------------------------------------------------------------------\n",
      "> Merging 1 nodes into parent node.\n",
      "> Parent node id: c4f9825d-deb7-499a-a03e-5f53d57dd856.\n",
      "> Parent node text: (iv) ANTI-SENSE: NO                                                       \n",
      "(xi) SEQUENCE DESCRIPT...\n",
      "\n",
      "> Merging 1 nodes into parent node.\n",
      "> Parent node id: c9e66f62-d239-4845-ae3e-a4727003839d.\n",
      "> Parent node text: (iv) ANTI-SENSE: NO                                                       \n",
      "(xi) SEQUENCE DESCRIPT...\n",
      "\n",
      "> Merging 1 nodes into parent node.\n",
      "> Parent node id: b70fa72b-1cdd-415e-b1db-0c1018aa20b5.\n",
      "> Parent node text: (iii) HYPOTHETICAL: NO                                                    \n",
      "(iv) ANTI-SENSE: NO   ...\n",
      "\n",
      "> Merging 1 nodes into parent node.\n",
      "> Parent node id: d3b801aa-2e52-498d-a593-379b9b07a2f5.\n",
      "> Parent node text: (iv) ANTI-SENSE: NO                                                       \n",
      "(xi) SEQUENCE DESCRIPT...\n",
      "\n",
      "> Merging 1 nodes into parent node.\n",
      "> Parent node id: eef58539-3990-4f2d-8dc0-7ffb1f386281.\n",
      "> Parent node text: (ii) MOLECULE TYPE: peptide                                               \n",
      "(iii) HYPOTHETICAL: NO...\n",
      "\n",
      "> Merging 1 nodes into parent node.\n",
      "> Parent node id: aab0013b-41d2-4f6d-a3f3-48fcaf29821a.\n",
      "> Parent node text: (iv) ANTI-SENSE: NO                                                       \n",
      "(xi) SEQUENCE DESCRIPT...\n",
      "\n",
      "> Merging 1 nodes into parent node.\n",
      "> Parent node id: e079fb25-32d2-4d5b-8ba9-4f3b5721990a.\n",
      "> Parent node text: (iv) ANTI-SENSE: NO                                                       \n",
      "(xi) SEQUENCE DESCRIPT...\n",
      "\n",
      "> Merging 1 nodes into parent node.\n",
      "> Parent node id: f1bf9768-5ced-4074-a26d-4e1361d523c4.\n",
      "> Parent node text: (iv) ANTI-SENSE: NO                                                       \n",
      "(xi) SEQUENCE DESCRIPT...\n",
      "\n",
      "> Merging 1 nodes into parent node.\n",
      "> Parent node id: 12aec83d-e02e-4514-8d56-22b0eb609e25.\n",
      "> Parent node text: (iii) HYPOTHETICAL: NO                                                    \n",
      "(iv) ANTI-SENSE: NO   ...\n",
      "\n",
      "> Merging 1 nodes into parent node.\n",
      "> Parent node id: 12a6daa4-fe8e-4484-99d2-0052d568b57e.\n",
      "> Parent node text: (iv) ANTI-SENSE: NO                                                       \n",
      "(xi) SEQUENCE DESCRIPT...\n",
      "\n",
      "> Merging 1 nodes into parent node.\n",
      "> Parent node id: de911a5e-b994-45a0-87f8-ddf073422896.\n",
      "> Parent node text: (ii) MOLECULE TYPE: peptide                                               \n",
      "(iii) HYPOTHETICAL: NO...\n",
      "\n",
      "> Merging 1 nodes into parent node.\n",
      "> Parent node id: 7dad974e-26a0-48e4-a620-b72d68e5cc3f.\n",
      "> Parent node text: (iv) ANTI-SENSE: NO                                                       \n",
      "(xi) SEQUENCE DESCRIPT...\n",
      "\n"
     ]
    },
    {
     "data": {
      "text/markdown": [
       "<b>{'prompt_tokens': 3106, 'completion_tokens': 426, 'total_tokens': 3532}</b>"
      ],
      "text/plain": [
       "<IPython.core.display.Markdown object>"
      ]
     },
     "metadata": {},
     "output_type": "display_data"
    },
    {
     "name": "stdout",
     "output_type": "stream",
     "text": [
      "--------------------------------------------------------------------\n",
      "> Merging 1 nodes into parent node.\n",
      "> Parent node id: 84f34018-e492-4212-b77a-4f6481565cbf.\n",
      "> Parent node text: ID NO: 1) in inhibiting AA-induced inflammation. The most effective compounds (other than CT-112)...\n",
      "\n",
      "> Merging 1 nodes into parent node.\n",
      "> Parent node id: 182d9174-4e92-4b32-b723-e2b528a8e715.\n",
      "> Parent node text: (iii) HYPOTHETICAL: NO                                                    \n",
      "(iv) ANTI-SENSE: NO   ...\n",
      "\n",
      "> Merging 1 nodes into parent node.\n",
      "> Parent node id: ba226372-be31-45eb-87b3-f4436b7bbb54.\n",
      "> Parent node text: (iv) ANTI-SENSE: NO                                                       \n",
      "(xi) SEQUENCE DESCRIPT...\n",
      "\n",
      "> Merging 1 nodes into parent node.\n",
      "> Parent node id: 174d3809-8eae-4b92-be12-e0ea064acab7.\n",
      "> Parent node text: (iv) ANTI-SENSE: NO                                                       \n",
      "(xi) SEQUENCE DESCRIPT...\n",
      "\n",
      "> Merging 1 nodes into parent node.\n",
      "> Parent node id: bbfa753d-f521-4a91-b76a-f7d4fdf9fda9.\n",
      "> Parent node text: (D) TOPOLOGY: unknown                                                     \n",
      "(ii) MOLECULE TYPE: pe...\n",
      "\n",
      "> Merging 1 nodes into parent node.\n",
      "> Parent node id: a1a7bbf8-5312-47f8-9638-5b3cf6d43a2a.\n",
      "> Parent node text: ValLysThrThrSerGlnValArgProArg                                            \n",
      "1510                  ...\n",
      "\n",
      "> Merging 1 nodes into parent node.\n",
      "> Parent node id: 76fc6c71-e9fa-4431-ab35-6959be7fdd62.\n",
      "> Parent node text: (iii) HYPOTHETICAL: NO                                                    \n",
      "(iv) ANTI-SENSE: NO   ...\n",
      "\n",
      "> Merging 1 nodes into parent node.\n",
      "> Parent node id: 1e04db60-7060-413e-9d05-61cd183bb7a1.\n",
      "> Parent node text: (iv) ANTI-SENSE: NO                                                       \n",
      "(xi) SEQUENCE DESCRIPT...\n",
      "\n",
      "> Merging 1 nodes into parent node.\n",
      "> Parent node id: 7208683f-a7aa-4f6c-a072-95bcf4824530.\n",
      "> Parent node text: (iv) ANTI-SENSE: NO                                                       \n",
      "(xi) SEQUENCE DESCRIPT...\n",
      "\n",
      "> Merging 1 nodes into parent node.\n",
      "> Parent node id: 399b0eb8-be2f-4c39-bca0-27a38aca2f7e.\n",
      "> Parent node text: (D) TOPOLOGY: unknown                                                     \n",
      "(ii) MOLECULE TYPE: pe...\n",
      "\n",
      "> Merging 1 nodes into parent node.\n",
      "> Parent node id: d51b50bd-c2a5-47ba-a782-5e84badec108.\n",
      "> Parent node text: ValLysThrThrSerGlnValArgProArg                                            \n",
      "1510                  ...\n",
      "\n",
      "> Filling in node. Node id: ee862de4-e269-48d9-93d3-feacc23e67ab> Node text: (i) SEQUENCE CHARACTERISTICS:                                             \n",
      "(A) LENGTH: 8 amino ac...\n",
      "\n"
     ]
    },
    {
     "data": {
      "text/markdown": [
       "<b>{'prompt_tokens': 3394, 'completion_tokens': 217, 'total_tokens': 3611}</b>"
      ],
      "text/plain": [
       "<IPython.core.display.Markdown object>"
      ]
     },
     "metadata": {},
     "output_type": "display_data"
    },
    {
     "name": "stdout",
     "output_type": "stream",
     "text": [
      "--------------------------------------------------------------------\n",
      "> Merging 1 nodes into parent node.\n",
      "> Parent node id: 55b65d30-915c-41ba-9852-73df7cea744f.\n",
      "> Parent node text: (B) LOCATION: 7                                                           \n",
      "(D) OTHER INFORMATION:...\n",
      "\n",
      "> Merging 1 nodes into parent node.\n",
      "> Parent node id: 4a069e0b-6fb6-473e-8028-75ef1f515b5e.\n",
      "> Parent node text: (iv) ANTI-SENSE: NO                                                       \n",
      "(xi) SEQUENCE DESCRIPT...\n",
      "\n",
      "> Merging 1 nodes into parent node.\n",
      "> Parent node id: 3f0656f8-eb0e-4cfc-86e1-51822441df9a.\n",
      "> Parent node text: (iii) HYPOTHETICAL: NO                                                    \n",
      "(iv) ANTI-SENSE: NO   ...\n",
      "\n",
      "> Merging 1 nodes into parent node.\n",
      "> Parent node id: 0a6174e3-782d-4360-9538-1011d4954bf1.\n",
      "> Parent node text: (iv) ANTI-SENSE: NO                                                       \n",
      "(xi) SEQUENCE DESCRIPT...\n",
      "\n",
      "> Merging 1 nodes into parent node.\n",
      "> Parent node id: b36631a6-1435-468a-ad09-928ed24e7d9b.\n",
      "> Parent node text: (iii) HYPOTHETICAL: NO                                                    \n",
      "(iv) ANTI-SENSE: NO   ...\n",
      "\n",
      "> Merging 1 nodes into parent node.\n",
      "> Parent node id: 0804bd72-18fc-438f-82a9-a6a516f6312a.\n",
      "> Parent node text: unknown                                                     \n",
      "(ii) MOLECULE TYPE: peptide         ...\n",
      "\n",
      "> Merging 1 nodes into parent node.\n",
      "> Parent node id: 197f3e08-4484-4e06-8f74-7a0077d36fb0.\n",
      "> Parent node text: ID NO: 1) in inhibiting AA-induced inflammation. The most effective compounds (other than CT-112)...\n",
      "\n",
      "> Merging 1 nodes into parent node.\n",
      "> Parent node id: 371e4f46-37b6-49bf-acd8-885e7ef2531d.\n",
      "> Parent node text: (B) LOCATION: 7                                                           \n",
      "(D) OTHER INFORMATION:...\n",
      "\n",
      "> Merging 1 nodes into parent node.\n",
      "> Parent node id: 9db7e099-6f3f-4ead-9e1e-bf5e9194abc8.\n",
      "> Parent node text: (iv) ANTI-SENSE: NO                                                       \n",
      "(xi) SEQUENCE DESCRIPT...\n",
      "\n",
      "> Merging 1 nodes into parent node.\n",
      "> Parent node id: 433d8c22-0bf0-4fa7-bb59-ac72ae93c3e6.\n",
      "> Parent node text: (iii) HYPOTHETICAL: NO                                                    \n",
      "(iv) ANTI-SENSE: NO   ...\n",
      "\n",
      "> Merging 1 nodes into parent node.\n",
      "> Parent node id: 1a4c2515-8c07-4021-9675-9ea6501af698.\n",
      "> Parent node text: (iv) ANTI-SENSE: NO                                                       \n",
      "(xi) SEQUENCE DESCRIPT...\n",
      "\n",
      "> Merging 1 nodes into parent node.\n",
      "> Parent node id: ec93e263-ed46-4c4e-a837-f4b023147e3d.\n",
      "> Parent node text: (iii) HYPOTHETICAL: NO                                                    \n",
      "(iv) ANTI-SENSE: NO   ...\n",
      "\n",
      "> Merging 1 nodes into parent node.\n",
      "> Parent node id: d22e153f-9154-4fab-a05b-77a91c2ba0da.\n",
      "> Parent node text: unknown                                                     \n",
      "(ii) MOLECULE TYPE: peptide         ...\n",
      "\n"
     ]
    },
    {
     "data": {
      "text/markdown": [
       "<b>{'prompt_tokens': 3107, 'completion_tokens': 308, 'total_tokens': 3415}</b>"
      ],
      "text/plain": [
       "<IPython.core.display.Markdown object>"
      ]
     },
     "metadata": {},
     "output_type": "display_data"
    },
    {
     "name": "stdout",
     "output_type": "stream",
     "text": [
      "--------------------------------------------------------------------\n",
      "> Merging 1 nodes into parent node.\n",
      "> Parent node id: c2b00cca-48d5-47d6-be0f-37837c993714.\n",
      "> Parent node text: The peptide of claim 1, wherein said peptide is SEQ. ID NO. 10, which is Arg-Cys-Val-Cys-Leu-Gln-...\n",
      "\n",
      "> Merging 2 nodes into parent node.\n",
      "> Parent node id: 5d6cdec9-6453-49b9-b001-b447792dc5b2.\n",
      "> Parent node text: -     (xi) SEQUENCE DESCRIPTION: SEQ_ID_NO_1:\n",
      "-      Arg Cys Gln Cys Ile Lys Thr Tyr - # Ser Lys ...\n",
      "\n",
      "> Merging 2 nodes into parent node.\n",
      "> Parent node id: c6012635-009f-4e6a-9f4f-b392dd1e7c9c.\n",
      "> Parent node text: -     (xi) SEQUENCE DESCRIPTION: SEQ_ID_NO_7:\n",
      "-      Arg Cys Gln Cys Ile Ser Thr His - # Ser Lys ...\n",
      "\n"
     ]
    },
    {
     "data": {
      "text/markdown": [
       "<b>{'prompt_tokens': 2842, 'completion_tokens': 247, 'total_tokens': 3089}</b>"
      ],
      "text/plain": [
       "<IPython.core.display.Markdown object>"
      ]
     },
     "metadata": {},
     "output_type": "display_data"
    },
    {
     "name": "stdout",
     "output_type": "stream",
     "text": [
      "--------------------------------------------------------------------\n",
      "> Merging 1 nodes into parent node.\n",
      "> Parent node id: 6d990bce-265d-4911-937d-600f23b8b42b.\n",
      "> Parent node text: The peptide of claim 1, wherein said peptide is SEQ. ID NO. 10, which is Arg-Cys-Val-Cys-Leu-Gln-...\n",
      "\n",
      "> Merging 2 nodes into parent node.\n",
      "> Parent node id: d74db2f2-92be-4c42-a1d9-ef3c1cc232f5.\n",
      "> Parent node text: -     (xi) SEQUENCE DESCRIPTION: SEQ_ID_NO_9:\n",
      "-      Arg Cys Gln Cys Leu Gln Thr Val - # Ala Gly ...\n",
      "\n",
      "> Merging 2 nodes into parent node.\n",
      "> Parent node id: 92c9755c-0555-4049-a470-bd86b2386be0.\n",
      "> Parent node text: -     (xi) SEQUENCE DESCRIPTION: SEQ_ID_NO_7:\n",
      "-      Arg Cys Gln Cys Ile Ser Thr His - # Ser Lys ...\n",
      "\n",
      "> Merging 2 nodes into parent node.\n",
      "> Parent node id: 303a5aa2-3f60-46fe-aff1-662373c75601.\n",
      "> Parent node text: -     (xi) SEQUENCE DESCRIPTION: SEQ_ID_NO_1:\n",
      "-      Arg Cys Gln Cys Ile Lys Thr Tyr - # Ser Lys ...\n",
      "\n",
      "> Merging 2 nodes into parent node.\n",
      "> Parent node id: f3399268-0365-4dc9-a9b3-348ff22975da.\n",
      "> Parent node text: -     (xi) SEQUENCE DESCRIPTION: SEQ_ID_NO_7:\n",
      "-      Arg Cys Gln Cys Ile Ser Thr His - # Ser Lys ...\n",
      "\n"
     ]
    },
    {
     "data": {
      "text/markdown": [
       "<b>{'prompt_tokens': 2992, 'completion_tokens': 182, 'total_tokens': 3174}</b>"
      ],
      "text/plain": [
       "<IPython.core.display.Markdown object>"
      ]
     },
     "metadata": {},
     "output_type": "display_data"
    },
    {
     "name": "stdout",
     "output_type": "stream",
     "text": [
      "--------------------------------------------------------------------\n",
      "> Merging 2 nodes into parent node.\n",
      "> Parent node id: 4567d7bf-827f-4278-a933-c8b4b7b71e03.\n",
      "> Parent node text: -     (xi) SEQUENCE DESCRIPTION: SEQ_ID_NO_1:\n",
      "-      Arg Cys Gln Cys Ile Lys Thr Tyr - # Ser Lys ...\n",
      "\n",
      "> Merging 2 nodes into parent node.\n",
      "> Parent node id: dab8befa-e13c-4d8b-a764-710db14c48ac.\n",
      "> Parent node text: -     (xi) SEQUENCE DESCRIPTION: SEQ_ID_NO_9:\n",
      "-      Arg Cys Gln Cys Leu Gln Thr Val - # Ala Gly ...\n",
      "\n"
     ]
    },
    {
     "data": {
      "text/markdown": [
       "<b>{'prompt_tokens': 2776, 'completion_tokens': 274, 'total_tokens': 3050}</b>"
      ],
      "text/plain": [
       "<IPython.core.display.Markdown object>"
      ]
     },
     "metadata": {},
     "output_type": "display_data"
    },
    {
     "name": "stdout",
     "output_type": "stream",
     "text": [
      "--------------------------------------------------------------------\n",
      "> Merging 1 nodes into parent node.\n",
      "> Parent node id: 77902d6b-7e2c-4177-830c-f362a88b8137.\n",
      "> Parent node text: The peptide of claim 1, wherein said peptide is SEQ. ID NO. 10, which is Arg-Cys-Val-Cys-Leu-Gln-...\n",
      "\n",
      "> Merging 2 nodes into parent node.\n",
      "> Parent node id: 4038d7f8-803f-473c-b6f2-0029744ec3fc.\n",
      "> Parent node text: -     (xi) SEQUENCE DESCRIPTION: SEQ_ID_NO_9:\n",
      "-      Arg Cys Gln Cys Leu Gln Thr Val - # Ala Gly ...\n",
      "\n",
      "> Merging 2 nodes into parent node.\n",
      "> Parent node id: c27b3264-bc3a-43c8-b6e3-64e5fc580b51.\n",
      "> Parent node text: -     (xi) SEQUENCE DESCRIPTION: SEQ_ID_NO_1:\n",
      "-      Arg Cys Gln Cys Ile Lys Thr Tyr - # Ser Lys ...\n",
      "\n"
     ]
    },
    {
     "data": {
      "text/markdown": [
       "<b>{'prompt_tokens': 2916, 'completion_tokens': 189, 'total_tokens': 3105}</b>"
      ],
      "text/plain": [
       "<IPython.core.display.Markdown object>"
      ]
     },
     "metadata": {},
     "output_type": "display_data"
    },
    {
     "name": "stdout",
     "output_type": "stream",
     "text": [
      "--------------------------------------------------------------------\n",
      "> Merging 1 nodes into parent node.\n",
      "> Parent node id: e4558f3b-6107-4b72-94f6-b6cce556fc0e.\n",
      "> Parent node text: The peptide of claim 1, wherein said peptide is SEQ. ID NO. 10, which is Arg-Cys-Val-Cys-Leu-Gln-...\n",
      "\n",
      "> Merging 2 nodes into parent node.\n",
      "> Parent node id: 023a89f0-6bcc-4c32-8bd8-7503896204c4.\n",
      "> Parent node text: -     (xi) SEQUENCE DESCRIPTION: SEQ_ID_NO_7:\n",
      "-      Arg Cys Gln Cys Ile Ser Thr His - # Ser Lys ...\n",
      "\n",
      "> Merging 2 nodes into parent node.\n",
      "> Parent node id: a973f93a-0840-42a9-b336-5407684b8efc.\n",
      "> Parent node text: -     (xi) SEQUENCE DESCRIPTION: SEQ_ID_NO_9:\n",
      "-      Arg Cys Gln Cys Leu Gln Thr Val - # Ala Gly ...\n",
      "\n",
      "> Merging 2 nodes into parent node.\n",
      "> Parent node id: 4841ae57-59bf-4bc9-891e-19c2c1b64ca1.\n",
      "> Parent node text: -     (xi) SEQUENCE DESCRIPTION: SEQ_ID_NO_1:\n",
      "-      Arg Cys Gln Cys Ile Lys Thr Tyr - # Ser Lys ...\n",
      "\n",
      "> Merging 2 nodes into parent node.\n",
      "> Parent node id: 3fa1fb80-f80d-46e7-8cfa-63a4070a8fdd.\n",
      "> Parent node text: -     (xi) SEQUENCE DESCRIPTION: SEQ_ID_NO_7:\n",
      "-      Arg Cys Gln Cys Ile Ser Thr His - # Ser Lys ...\n",
      "\n"
     ]
    },
    {
     "data": {
      "text/markdown": [
       "<b>{'prompt_tokens': 2992, 'completion_tokens': 308, 'total_tokens': 3300}</b>"
      ],
      "text/plain": [
       "<IPython.core.display.Markdown object>"
      ]
     },
     "metadata": {},
     "output_type": "display_data"
    },
    {
     "name": "stdout",
     "output_type": "stream",
     "text": [
      "--------------------------------------------------------------------\n",
      "> Merging 1 nodes into parent node.\n",
      "> Parent node id: 03cea2f6-1b6c-4f45-aa0f-f9bef6c0ccce.\n",
      "> Parent node text: The peptide of claim 1, wherein said peptide is SEQ. ID NO. 10, which is Arg-Cys-Val-Cys-Leu-Gln-...\n",
      "\n",
      "> Merging 2 nodes into parent node.\n",
      "> Parent node id: 9a90865a-995a-4525-b0cb-4e54e87d93e0.\n",
      "> Parent node text: -     (xi) SEQUENCE DESCRIPTION: SEQ_ID_NO_9:\n",
      "-      Arg Cys Gln Cys Leu Gln Thr Val - # Ala Gly ...\n",
      "\n",
      "> Merging 2 nodes into parent node.\n",
      "> Parent node id: 9e1f9e01-28d1-44b5-b1ba-3e03cb90343e.\n",
      "> Parent node text: -     (xi) SEQUENCE DESCRIPTION: SEQ_ID_NO_1:\n",
      "-      Arg Cys Gln Cys Ile Lys Thr Tyr - # Ser Lys ...\n",
      "\n"
     ]
    },
    {
     "data": {
      "text/markdown": [
       "<b>{'prompt_tokens': 2756, 'completion_tokens': 431, 'total_tokens': 3187}</b>"
      ],
      "text/plain": [
       "<IPython.core.display.Markdown object>"
      ]
     },
     "metadata": {},
     "output_type": "display_data"
    },
    {
     "name": "stdout",
     "output_type": "stream",
     "text": [
      "--------------------------------------------------------------------\n",
      "> Merging 1 nodes into parent node.\n",
      "> Parent node id: 1a5ea3e1-25ee-4d51-a845-9a2a04e7eba1.\n",
      "> Parent node text: The peptide of claim 1, wherein said peptide is SEQ. ID NO. 10, which is Arg-Cys-Val-Cys-Leu-Gln-...\n",
      "\n",
      "> Merging 2 nodes into parent node.\n",
      "> Parent node id: eb7b77e2-e460-4b1f-b343-f9797711cdf4.\n",
      "> Parent node text: -     (xi) SEQUENCE DESCRIPTION: SEQ_ID_NO_1:\n",
      "-      Arg Cys Gln Cys Ile Lys Thr Tyr - # Ser Lys ...\n",
      "\n",
      "> Merging 2 nodes into parent node.\n",
      "> Parent node id: 936785e2-36d5-416e-bfa9-a4d7283714e0.\n",
      "> Parent node text: -     (xi) SEQUENCE DESCRIPTION: SEQ_ID_NO_9:\n",
      "-      Arg Cys Gln Cys Leu Gln Thr Val - # Ala Gly ...\n",
      "\n",
      "> Merging 2 nodes into parent node.\n",
      "> Parent node id: 3f0783e5-a31c-4214-9df4-aa402763fbe4.\n",
      "> Parent node text: -     (xi) SEQUENCE DESCRIPTION: SEQ_ID_NO_3:\n",
      "#Gln Gly His Leu Lyss Leu Gln Thr Leu\n",
      "#  10\n",
      "- (2) I...\n",
      "\n"
     ]
    },
    {
     "data": {
      "text/markdown": [
       "<b>{'prompt_tokens': 2917, 'completion_tokens': 244, 'total_tokens': 3161}</b>"
      ],
      "text/plain": [
       "<IPython.core.display.Markdown object>"
      ]
     },
     "metadata": {},
     "output_type": "display_data"
    },
    {
     "name": "stdout",
     "output_type": "stream",
     "text": [
      "--------------------------------------------------------------------\n",
      "> Merging 1 nodes into parent node.\n",
      "> Parent node id: 0b5a8047-fa9e-4ad0-8ee8-11cf830bc86f.\n",
      "> Parent node text: The peptide of claim 1, wherein said peptide is SEQ. ID NO. 10, which is Arg-Cys-Val-Cys-Leu-Gln-...\n",
      "\n",
      "> Merging 2 nodes into parent node.\n",
      "> Parent node id: cda535a6-7b75-40ba-8231-ba2ad6ec302f.\n",
      "> Parent node text: -     (xi) SEQUENCE DESCRIPTION: SEQ_ID_NO_9:\n",
      "-      Arg Cys Gln Cys Leu Gln Thr Val - # Ala Gly ...\n",
      "\n",
      "> Merging 2 nodes into parent node.\n",
      "> Parent node id: ded1db6b-3429-4f26-a74d-2479fd2a1f79.\n",
      "> Parent node text: -     (xi) SEQUENCE DESCRIPTION: SEQ_ID_NO_1:\n",
      "-      Arg Cys Gln Cys Ile Lys Thr Tyr - # Ser Lys ...\n",
      "\n"
     ]
    },
    {
     "data": {
      "text/markdown": [
       "<b>{'prompt_tokens': 2929, 'completion_tokens': 284, 'total_tokens': 3213}</b>"
      ],
      "text/plain": [
       "<IPython.core.display.Markdown object>"
      ]
     },
     "metadata": {},
     "output_type": "display_data"
    },
    {
     "name": "stdout",
     "output_type": "stream",
     "text": [
      "--------------------------------------------------------------------\n",
      "> Merging 1 nodes into parent node.\n",
      "> Parent node id: 24a22a2c-ea64-4d05-99a8-4b1c7fd6ba24.\n",
      "> Parent node text: The peptide of claim 1, wherein said peptide is SEQ. ID NO. 10, which is Arg-Cys-Val-Cys-Leu-Gln-...\n",
      "\n",
      "> Merging 2 nodes into parent node.\n",
      "> Parent node id: 621c5c70-4817-4dec-a78f-9a63292b9627.\n",
      "> Parent node text: -     (xi) SEQUENCE DESCRIPTION: SEQ_ID_NO_1:\n",
      "-      Arg Cys Gln Cys Ile Lys Thr Tyr - # Ser Lys ...\n",
      "\n",
      "> Merging 2 nodes into parent node.\n",
      "> Parent node id: 725896d4-d5d9-4108-90a6-72eb9d6c2b4c.\n",
      "> Parent node text: -     (xi) SEQUENCE DESCRIPTION: SEQ_ID_NO_5:\n",
      "-      Arg Cys Gln Cys Leu Gln Thr Leu - # Gln Gly ...\n",
      "\n",
      "> Merging 2 nodes into parent node.\n",
      "> Parent node id: 0dcc45ea-fc3b-4e73-88be-b39f9896a7eb.\n",
      "> Parent node text: -     (xi) SEQUENCE DESCRIPTION: SEQ_ID_NO_9:\n",
      "-      Arg Cys Gln Cys Leu Gln Thr Val - # Ala Gly ...\n",
      "\n"
     ]
    },
    {
     "data": {
      "text/markdown": [
       "<b>{'prompt_tokens': 2924, 'completion_tokens': 331, 'total_tokens': 3255}</b>"
      ],
      "text/plain": [
       "<IPython.core.display.Markdown object>"
      ]
     },
     "metadata": {},
     "output_type": "display_data"
    },
    {
     "name": "stdout",
     "output_type": "stream",
     "text": [
      "--------------------------------------------------------------------\n",
      "> Merging 1 nodes into parent node.\n",
      "> Parent node id: 6c81fe4e-4928-49f3-929c-e036326a23db.\n",
      "> Parent node text: The peptide of claim 1, wherein said peptide is SEQ. ID NO. 10, which is Arg-Cys-Val-Cys-Leu-Gln-...\n",
      "\n",
      "> Merging 2 nodes into parent node.\n",
      "> Parent node id: 732be51b-d51b-4a7c-91bb-532f0f9e9aa4.\n",
      "> Parent node text: -     (xi) SEQUENCE DESCRIPTION: SEQ_ID_NO_9:\n",
      "-      Arg Cys Gln Cys Leu Gln Thr Val - # Ala Gly ...\n",
      "\n",
      "> Merging 2 nodes into parent node.\n",
      "> Parent node id: 3cd16fb2-7361-4b21-b7b9-3690765c50bb.\n",
      "> Parent node text: Accordingly, this invention provides a biologically active human interlekin-8 antagonist which is...\n",
      "\n",
      "> Merging 2 nodes into parent node.\n",
      "> Parent node id: f870f64a-09d4-4402-a266-dc9f6540b404.\n",
      "> Parent node text: -     (xi) SEQUENCE DESCRIPTION: SEQ_ID_NO_1:\n",
      "-      Arg Cys Gln Cys Ile Lys Thr Tyr - # Ser Lys ...\n",
      "\n"
     ]
    },
    {
     "data": {
      "text/markdown": [
       "<b>{'prompt_tokens': 2940, 'completion_tokens': 312, 'total_tokens': 3252}</b>"
      ],
      "text/plain": [
       "<IPython.core.display.Markdown object>"
      ]
     },
     "metadata": {},
     "output_type": "display_data"
    },
    {
     "name": "stdout",
     "output_type": "stream",
     "text": [
      "--------------------------------------------------------------------\n",
      "> Merging 1 nodes into parent node.\n",
      "> Parent node id: 78d86071-252b-470d-b02e-68b765825853.\n",
      "> Parent node text: The peptide of claim 1, wherein said peptide is SEQ. ID NO. 10, which is Arg-Cys-Val-Cys-Leu-Gln-...\n",
      "\n",
      "> Merging 2 nodes into parent node.\n",
      "> Parent node id: 6d217530-fa58-4ea9-8b0d-36964bc01bf8.\n",
      "> Parent node text: -     (xi) SEQUENCE DESCRIPTION: SEQ_ID_NO_1:\n",
      "-      Arg Cys Gln Cys Ile Lys Thr Tyr - # Ser Lys ...\n",
      "\n",
      "> Merging 2 nodes into parent node.\n",
      "> Parent node id: 079a2de7-9b59-4eb5-b117-fc6313fecea9.\n",
      "> Parent node text: -     (xi) SEQUENCE DESCRIPTION: SEQ_ID_NO_5:\n",
      "-      Arg Cys Gln Cys Leu Gln Thr Leu - # Gln Gly ...\n",
      "\n",
      "> Merging 2 nodes into parent node.\n",
      "> Parent node id: 0e90de6e-cf6e-45d6-8df4-36f906851d36.\n",
      "> Parent node text: -     (xi) SEQUENCE DESCRIPTION: SEQ_ID_NO_9:\n",
      "-      Arg Cys Gln Cys Leu Gln Thr Val - # Ala Gly ...\n",
      "\n"
     ]
    },
    {
     "data": {
      "text/markdown": [
       "<b>{'prompt_tokens': 2926, 'completion_tokens': 331, 'total_tokens': 3257}</b>"
      ],
      "text/plain": [
       "<IPython.core.display.Markdown object>"
      ]
     },
     "metadata": {},
     "output_type": "display_data"
    },
    {
     "name": "stdout",
     "output_type": "stream",
     "text": [
      "--------------------------------------------------------------------\n",
      "> Merging 2 nodes into parent node.\n",
      "> Parent node id: f286c043-1722-4584-ab5b-015657611dbc.\n",
      "> Parent node text: The claim information:\n",
      "What is claimed is: 1. An anti-inflammatory composition comprising an immi...\n",
      "\n",
      "> Merging 2 nodes into parent node.\n",
      "> Parent node id: 4f9a9824-e42c-4204-b220-6fbed7276d72.\n",
      "> Parent node text: In particular, it is known to this art that, in response to a proinflammatory signal (chemokines ...\n",
      "\n"
     ]
    },
    {
     "data": {
      "text/markdown": [
       "<b>{'prompt_tokens': 3039, 'completion_tokens': 248, 'total_tokens': 3287}</b>"
      ],
      "text/plain": [
       "<IPython.core.display.Markdown object>"
      ]
     },
     "metadata": {},
     "output_type": "display_data"
    },
    {
     "name": "stdout",
     "output_type": "stream",
     "text": [
      "--------------------------------------------------------------------\n",
      "> Merging 2 nodes into parent node.\n",
      "> Parent node id: a2d46bca-c65c-41ee-91ae-1264a88a4f25.\n",
      "> Parent node text: The claim information:\n",
      "What is claimed is: 1. An anti-inflammatory composition comprising an immi...\n",
      "\n",
      "> Merging 2 nodes into parent node.\n",
      "> Parent node id: 59313fb0-3d47-4093-97fe-703b23bd7d92.\n",
      "> Parent node text: In particular, it is known to this art that, in response to a proinflammatory signal (chemokines ...\n",
      "\n",
      "> Merging 1 nodes into parent node.\n",
      "> Parent node id: 1d933c52-514d-4471-8a0d-588f12d02ccf.\n",
      "> Parent node text: 1\n",
      "Glu His Xaa Arg Trp Gly\n",
      "  1               5 2 6 PRT Artificial Sequence PEPTIDE (3) Amino acid ...\n",
      "\n",
      "> Merging 1 nodes into parent node.\n",
      "> Parent node id: 739127f2-6dbe-4a8b-b04c-af7b4fb2af79.\n",
      "> Parent node text: 1\n",
      "Glu His Xaa Arg Trp Gly\n",
      "  1               5 2 6 PRT Artificial Sequence PEPTIDE (3) Amino acid ...\n",
      "\n"
     ]
    },
    {
     "data": {
      "text/markdown": [
       "<b>{'prompt_tokens': 2776, 'completion_tokens': 181, 'total_tokens': 2957}</b>"
      ],
      "text/plain": [
       "<IPython.core.display.Markdown object>"
      ]
     },
     "metadata": {},
     "output_type": "display_data"
    },
    {
     "name": "stdout",
     "output_type": "stream",
     "text": [
      "--------------------------------------------------------------------\n",
      "> Merging 2 nodes into parent node.\n",
      "> Parent node id: bae02673-a1e1-4fcd-8cf1-e7c6c84c146f.\n",
      "> Parent node text: The claim information:\n",
      "What is claimed is: 1. An anti-inflammatory composition comprising an immi...\n",
      "\n",
      "> Merging 2 nodes into parent node.\n",
      "> Parent node id: 7febb4d3-c922-4b98-b085-0de65dd26198.\n",
      "> Parent node text: In particular, it is known to this art that, in response to a proinflammatory signal (chemokines ...\n",
      "\n"
     ]
    },
    {
     "data": {
      "text/markdown": [
       "<b>{'prompt_tokens': 3103, 'completion_tokens': 50, 'total_tokens': 3153}</b>"
      ],
      "text/plain": [
       "<IPython.core.display.Markdown object>"
      ]
     },
     "metadata": {},
     "output_type": "display_data"
    },
    {
     "name": "stdout",
     "output_type": "stream",
     "text": [
      "--------------------------------------------------------------------\n",
      "> Merging 2 nodes into parent node.\n",
      "> Parent node id: 583b31c8-e364-4ce1-9fe5-0f9b6bf8fb03.\n",
      "> Parent node text: The claim information:\n",
      "What is claimed is: 1. An anti-inflammatory composition comprising an immi...\n",
      "\n",
      "> Merging 2 nodes into parent node.\n",
      "> Parent node id: 81508439-f557-4c52-b92a-7a0bbbadbc75.\n",
      "> Parent node text: In particular, it is known to this art that, in response to a proinflammatory signal (chemokines ...\n",
      "\n",
      "> Merging 1 nodes into parent node.\n",
      "> Parent node id: 4969ad87-89bc-46d2-b7ce-2fecc6642980.\n",
      "> Parent node text: 1\n",
      "Glu His Xaa Arg Trp Gly\n",
      "  1               5 2 6 PRT Artificial Sequence PEPTIDE (3) Amino acid ...\n",
      "\n",
      "> Merging 1 nodes into parent node.\n",
      "> Parent node id: 7158d47e-c897-4360-a6bd-37511335a274.\n",
      "> Parent node text: 1\n",
      "Glu His Xaa Arg Trp Gly\n",
      "  1               5 2 6 PRT Artificial Sequence PEPTIDE (3) Amino acid ...\n",
      "\n"
     ]
    },
    {
     "data": {
      "text/markdown": [
       "<b>{'prompt_tokens': 2995, 'completion_tokens': 331, 'total_tokens': 3326}</b>"
      ],
      "text/plain": [
       "<IPython.core.display.Markdown object>"
      ]
     },
     "metadata": {},
     "output_type": "display_data"
    },
    {
     "name": "stdout",
     "output_type": "stream",
     "text": [
      "--------------------------------------------------------------------\n",
      "> Merging 2 nodes into parent node.\n",
      "> Parent node id: 200b3814-301d-453e-95b3-e3a9adfa5029.\n",
      "> Parent node text: The claim information:\n",
      "I claim: 1. A method for inhibiting an inflammatory response in a mammal i...\n",
      "\n",
      "> Merging 1 nodes into parent node.\n",
      "> Parent node id: 4131679a-0c93-4baa-966d-4ca0cb65b44a.\n",
      "> Parent node text: The claim information:\n",
      "I claim: 1. A method for inhibiting an inflammatory response in a mammal i...\n",
      "\n",
      "> Merging 2 nodes into parent node.\n",
      "> Parent node id: 32cf531d-52f4-4c0a-8983-b0e6262e1f1c.\n",
      "> Parent node text: NO. 1 (Leu, Pro, Pro, Ser, Arg). This embodiment of the invention is based in part on the discove...\n",
      "\n",
      "> Merging 2 nodes into parent node.\n",
      "> Parent node id: f54ac6dd-074d-42e9-b21f-a80df7f93020.\n",
      "> Parent node text: The description information:\n",
      "This application is a 371 application of PCT/US99/27289, filed on No...\n",
      "\n"
     ]
    },
    {
     "data": {
      "text/markdown": [
       "<b>{'prompt_tokens': 2732, 'completion_tokens': 413, 'total_tokens': 3145}</b>"
      ],
      "text/plain": [
       "<IPython.core.display.Markdown object>"
      ]
     },
     "metadata": {},
     "output_type": "display_data"
    },
    {
     "name": "stdout",
     "output_type": "stream",
     "text": [
      "--------------------------------------------------------------------\n",
      "> Merging 2 nodes into parent node.\n",
      "> Parent node id: 75474cef-ed7d-4c78-9a6f-dc957c22a688.\n",
      "> Parent node text: The claim information:\n",
      "I claim: 1. A method for inhibiting an inflammatory response in a mammal i...\n",
      "\n",
      "> Merging 1 nodes into parent node.\n",
      "> Parent node id: 1c21e6e3-b1dd-4a4c-b16e-da3105c44059.\n",
      "> Parent node text: The claim information:\n",
      "I claim: 1. A method for inhibiting an inflammatory response in a mammal i...\n",
      "\n",
      "> Merging 2 nodes into parent node.\n",
      "> Parent node id: 3d126d32-cfe7-42fe-b156-534080ff1821.\n",
      "> Parent node text: Bull 194:253-259. June 1998), but none are reported to have the sequence of the peptides of the p...\n",
      "\n",
      "> Merging 2 nodes into parent node.\n",
      "> Parent node id: ad218a32-4c63-4af6-8a71-edde854c0e24.\n",
      "> Parent node text: NO. 1 (Leu, Pro, Pro, Ser, Arg). This embodiment of the invention is based in part on the discove...\n",
      "\n"
     ]
    },
    {
     "data": {
      "text/markdown": [
       "<b>{'prompt_tokens': 2678, 'completion_tokens': 326, 'total_tokens': 3004}</b>"
      ],
      "text/plain": [
       "<IPython.core.display.Markdown object>"
      ]
     },
     "metadata": {},
     "output_type": "display_data"
    },
    {
     "name": "stdout",
     "output_type": "stream",
     "text": [
      "--------------------------------------------------------------------\n"
     ]
    },
    {
     "data": {
      "text/markdown": [
       "<b>{'prompt_tokens': 3036, 'completion_tokens': 220, 'total_tokens': 3256}</b>"
      ],
      "text/plain": [
       "<IPython.core.display.Markdown object>"
      ]
     },
     "metadata": {},
     "output_type": "display_data"
    },
    {
     "name": "stdout",
     "output_type": "stream",
     "text": [
      "--------------------------------------------------------------------\n",
      "> Merging 2 nodes into parent node.\n",
      "> Parent node id: 55a96127-208c-4880-bde8-b958c9af4c36.\n",
      "> Parent node text: The claim information:\n",
      "Having described the invention, what is claimed is: 1. A method for inhibi...\n",
      "\n"
     ]
    },
    {
     "data": {
      "text/markdown": [
       "<b>{'prompt_tokens': 3016, 'completion_tokens': 343, 'total_tokens': 3359}</b>"
      ],
      "text/plain": [
       "<IPython.core.display.Markdown object>"
      ]
     },
     "metadata": {},
     "output_type": "display_data"
    },
    {
     "name": "stdout",
     "output_type": "stream",
     "text": [
      "--------------------------------------------------------------------\n",
      "> Merging 2 nodes into parent node.\n",
      "> Parent node id: 4ddb538b-994b-4e47-85b3-418205f7a5ec.\n",
      "> Parent node text: Topical carriers can be applied to the site of the infection or inflammation by an applicator suc...\n",
      "\n"
     ]
    },
    {
     "data": {
      "text/markdown": [
       "<b>{'prompt_tokens': 3006, 'completion_tokens': 507, 'total_tokens': 3513}</b>"
      ],
      "text/plain": [
       "<IPython.core.display.Markdown object>"
      ]
     },
     "metadata": {},
     "output_type": "display_data"
    },
    {
     "name": "stdout",
     "output_type": "stream",
     "text": [
      "--------------------------------------------------------------------\n"
     ]
    },
    {
     "data": {
      "text/markdown": [
       "<b>{'prompt_tokens': 2915, 'completion_tokens': 227, 'total_tokens': 3142}</b>"
      ],
      "text/plain": [
       "<IPython.core.display.Markdown object>"
      ]
     },
     "metadata": {},
     "output_type": "display_data"
    },
    {
     "name": "stdout",
     "output_type": "stream",
     "text": [
      "--------------------------------------------------------------------\n"
     ]
    },
    {
     "data": {
      "text/markdown": [
       "<b>{'prompt_tokens': 2883, 'completion_tokens': 340, 'total_tokens': 3223}</b>"
      ],
      "text/plain": [
       "<IPython.core.display.Markdown object>"
      ]
     },
     "metadata": {},
     "output_type": "display_data"
    },
    {
     "name": "stdout",
     "output_type": "stream",
     "text": [
      "--------------------------------------------------------------------\n",
      "> Merging 2 nodes into parent node.\n",
      "> Parent node id: e1880084-0324-4f62-90a0-ecb822b94eb2.\n",
      "> Parent node text: The claim information:\n",
      "CLAIMS - Synthetic, cyclic peptides charactherized by comprising 13 amino ...\n",
      "\n"
     ]
    },
    {
     "data": {
      "text/markdown": [
       "<b>{'prompt_tokens': 3121, 'completion_tokens': 413, 'total_tokens': 3534}</b>"
      ],
      "text/plain": [
       "<IPython.core.display.Markdown object>"
      ]
     },
     "metadata": {},
     "output_type": "display_data"
    },
    {
     "name": "stdout",
     "output_type": "stream",
     "text": [
      "--------------------------------------------------------------------\n",
      "> Merging 2 nodes into parent node.\n",
      "> Parent node id: cd8ab3f7-8355-43f4-87ab-61f30144ff49.\n",
      "> Parent node text: The claim information:\n",
      "CLAIMS - Synthetic, cyclic peptides charactherized by comprising 13 amino ...\n",
      "\n"
     ]
    },
    {
     "data": {
      "text/markdown": [
       "<b>{'prompt_tokens': 3121, 'completion_tokens': 283, 'total_tokens': 3404}</b>"
      ],
      "text/plain": [
       "<IPython.core.display.Markdown object>"
      ]
     },
     "metadata": {},
     "output_type": "display_data"
    },
    {
     "name": "stdout",
     "output_type": "stream",
     "text": [
      "--------------------------------------------------------------------\n",
      "> Merging 2 nodes into parent node.\n",
      "> Parent node id: d608d143-e755-4405-9a96-bdef34e6d76b.\n",
      "> Parent node text: The claim information:\n",
      "CLAIMS - Synthetic, cyclic peptides charactherized by comprising 13 amino ...\n",
      "\n"
     ]
    },
    {
     "data": {
      "text/markdown": [
       "<b>{'prompt_tokens': 3121, 'completion_tokens': 354, 'total_tokens': 3475}</b>"
      ],
      "text/plain": [
       "<IPython.core.display.Markdown object>"
      ]
     },
     "metadata": {},
     "output_type": "display_data"
    },
    {
     "name": "stdout",
     "output_type": "stream",
     "text": [
      "--------------------------------------------------------------------\n"
     ]
    },
    {
     "data": {
      "text/markdown": [
       "<b>{'prompt_tokens': 2844, 'completion_tokens': 235, 'total_tokens': 3079}</b>"
      ],
      "text/plain": [
       "<IPython.core.display.Markdown object>"
      ]
     },
     "metadata": {},
     "output_type": "display_data"
    },
    {
     "name": "stdout",
     "output_type": "stream",
     "text": [
      "--------------------------------------------------------------------\n",
      "> Merging 2 nodes into parent node.\n",
      "> Parent node id: d0b2a2cc-74bd-4af8-8fdf-03efc6741839.\n",
      "> Parent node text: Furthermore, anti-inflammatory medications currently in use are not able to significantly prevent...\n",
      "\n"
     ]
    },
    {
     "data": {
      "text/markdown": [
       "<b>{'prompt_tokens': 2876, 'completion_tokens': 474, 'total_tokens': 3350}</b>"
      ],
      "text/plain": [
       "<IPython.core.display.Markdown object>"
      ]
     },
     "metadata": {},
     "output_type": "display_data"
    },
    {
     "name": "stdout",
     "output_type": "stream",
     "text": [
      "--------------------------------------------------------------------\n"
     ]
    },
    {
     "data": {
      "text/markdown": [
       "<b>{'prompt_tokens': 2840, 'completion_tokens': 502, 'total_tokens': 3342}</b>"
      ],
      "text/plain": [
       "<IPython.core.display.Markdown object>"
      ]
     },
     "metadata": {},
     "output_type": "display_data"
    },
    {
     "name": "stdout",
     "output_type": "stream",
     "text": [
      "--------------------------------------------------------------------\n"
     ]
    },
    {
     "data": {
      "text/markdown": [
       "<b>{'prompt_tokens': 2840, 'completion_tokens': 438, 'total_tokens': 3278}</b>"
      ],
      "text/plain": [
       "<IPython.core.display.Markdown object>"
      ]
     },
     "metadata": {},
     "output_type": "display_data"
    },
    {
     "name": "stdout",
     "output_type": "stream",
     "text": [
      "--------------------------------------------------------------------\n"
     ]
    },
    {
     "data": {
      "text/markdown": [
       "<b>{'prompt_tokens': 2881, 'completion_tokens': 411, 'total_tokens': 3292}</b>"
      ],
      "text/plain": [
       "<IPython.core.display.Markdown object>"
      ]
     },
     "metadata": {},
     "output_type": "display_data"
    },
    {
     "name": "stdout",
     "output_type": "stream",
     "text": [
      "--------------------------------------------------------------------\n",
      "> Merging 1 nodes into parent node.\n",
      "> Parent node id: 28f92beb-3af3-411f-b955-0c2f50637658.\n",
      "> Parent node text: The claim information:\n",
      "\n",
      "> Merging 1 nodes into parent node.\n",
      "> Parent node id: d383358c-9851-459a-9243-ccacd1b03a6e.\n",
      "> Parent node text: The claim information:\n",
      "\n",
      "> Merging 1 nodes into parent node.\n",
      "> Parent node id: ed0f30db-a732-418f-99b4-f017fa57c50a.\n",
      "> Parent node text: The description information:\n",
      "\n",
      "> Merging 1 nodes into parent node.\n",
      "> Parent node id: be10946c-4cf6-4698-adf2-b2c87a5a9d44.\n",
      "> Parent node text: The description information:\n",
      "\n"
     ]
    },
    {
     "data": {
      "text/markdown": [
       "<b>{'prompt_tokens': 281, 'completion_tokens': 294, 'total_tokens': 575}</b>"
      ],
      "text/plain": [
       "<IPython.core.display.Markdown object>"
      ]
     },
     "metadata": {},
     "output_type": "display_data"
    },
    {
     "name": "stdout",
     "output_type": "stream",
     "text": [
      "--------------------------------------------------------------------\n",
      "> Merging 1 nodes into parent node.\n",
      "> Parent node id: 608f5935-28c6-4fac-aec0-aa90417e5601.\n",
      "> Parent node text: The claim information:\n",
      "\n",
      "> Merging 1 nodes into parent node.\n",
      "> Parent node id: 77d8bafd-9ee0-4a85-b022-98e024c1369a.\n",
      "> Parent node text: The claim information:\n",
      "\n",
      "> Merging 1 nodes into parent node.\n",
      "> Parent node id: be31653c-bab6-43ae-8532-4c22cd228f12.\n",
      "> Parent node text: The description information:\n",
      "\n",
      "> Merging 1 nodes into parent node.\n",
      "> Parent node id: f8f9524b-5640-4957-8009-e710375644fc.\n",
      "> Parent node text: The description information:\n",
      "\n"
     ]
    },
    {
     "data": {
      "text/markdown": [
       "<b>{'prompt_tokens': 281, 'completion_tokens': 257, 'total_tokens': 538}</b>"
      ],
      "text/plain": [
       "<IPython.core.display.Markdown object>"
      ]
     },
     "metadata": {},
     "output_type": "display_data"
    },
    {
     "name": "stdout",
     "output_type": "stream",
     "text": [
      "--------------------------------------------------------------------\n",
      "> Merging 1 nodes into parent node.\n",
      "> Parent node id: 2c51bb10-17be-437d-b8a8-8db09e7ed8b8.\n",
      "> Parent node text: The claim information:\n",
      "\n",
      "> Merging 1 nodes into parent node.\n",
      "> Parent node id: 8ca163a5-df3e-459b-855b-283751ce0c00.\n",
      "> Parent node text: The claim information:\n",
      "\n",
      "> Merging 1 nodes into parent node.\n",
      "> Parent node id: 6a06d112-84d4-4231-9873-86206fd09ab0.\n",
      "> Parent node text: The description information:\n",
      "\n",
      "> Merging 1 nodes into parent node.\n",
      "> Parent node id: ed70ee6a-3df5-4b04-9bfb-16e1aa544582.\n",
      "> Parent node text: The description information:\n",
      "\n"
     ]
    },
    {
     "data": {
      "text/markdown": [
       "<b>{'prompt_tokens': 281, 'completion_tokens': 278, 'total_tokens': 559}</b>"
      ],
      "text/plain": [
       "<IPython.core.display.Markdown object>"
      ]
     },
     "metadata": {},
     "output_type": "display_data"
    },
    {
     "name": "stdout",
     "output_type": "stream",
     "text": [
      "--------------------------------------------------------------------\n",
      "> Merging 1 nodes into parent node.\n",
      "> Parent node id: b08a54bc-f82a-48ac-9661-ddd6fc5fd218.\n",
      "> Parent node text: The claim information:\n",
      "\n",
      "> Merging 1 nodes into parent node.\n",
      "> Parent node id: 02edcb0f-e883-4b99-b300-02e61b11156d.\n",
      "> Parent node text: The claim information:\n",
      "\n",
      "> Merging 1 nodes into parent node.\n",
      "> Parent node id: 7589e3a4-2a16-407e-9724-3ea705e80edd.\n",
      "> Parent node text: The description information:\n",
      "\n",
      "> Merging 1 nodes into parent node.\n",
      "> Parent node id: e883bf06-f7c5-4878-93ea-3bae3e0961c7.\n",
      "> Parent node text: The description information:\n",
      "\n"
     ]
    },
    {
     "data": {
      "text/markdown": [
       "<b>{'prompt_tokens': 281, 'completion_tokens': 231, 'total_tokens': 512}</b>"
      ],
      "text/plain": [
       "<IPython.core.display.Markdown object>"
      ]
     },
     "metadata": {},
     "output_type": "display_data"
    },
    {
     "name": "stdout",
     "output_type": "stream",
     "text": [
      "--------------------------------------------------------------------\n",
      "> Merging 1 nodes into parent node.\n",
      "> Parent node id: a9377fb4-f546-49de-9244-5c0d071114d4.\n",
      "> Parent node text: The claim information:\n",
      "\n",
      "> Merging 1 nodes into parent node.\n",
      "> Parent node id: b6a3fb3b-779c-4670-8071-4c55a7795de9.\n",
      "> Parent node text: The claim information:\n",
      "\n",
      "> Merging 1 nodes into parent node.\n",
      "> Parent node id: 09153172-dcf3-4b2b-a72b-70352e10ae3a.\n",
      "> Parent node text: The description information:\n",
      "\n",
      "> Merging 1 nodes into parent node.\n",
      "> Parent node id: 9dcb1098-e054-4c9c-82b3-69dae441b3db.\n",
      "> Parent node text: The description information:\n",
      "\n"
     ]
    },
    {
     "data": {
      "text/markdown": [
       "<b>{'prompt_tokens': 281, 'completion_tokens': 297, 'total_tokens': 578}</b>"
      ],
      "text/plain": [
       "<IPython.core.display.Markdown object>"
      ]
     },
     "metadata": {},
     "output_type": "display_data"
    },
    {
     "name": "stdout",
     "output_type": "stream",
     "text": [
      "--------------------------------------------------------------------\n",
      "> Merging 1 nodes into parent node.\n",
      "> Parent node id: 48ba9eae-7c11-404d-9913-cd4199865227.\n",
      "> Parent node text: The claim information:\n",
      "\n",
      "> Merging 1 nodes into parent node.\n",
      "> Parent node id: 7c29d617-f21b-4a13-8b67-601148330d53.\n",
      "> Parent node text: The claim information:\n",
      "\n",
      "> Merging 1 nodes into parent node.\n",
      "> Parent node id: 29473281-c248-4c48-aa12-a0876e4525d5.\n",
      "> Parent node text: The description information:\n",
      "\n",
      "> Merging 1 nodes into parent node.\n",
      "> Parent node id: a9a7c8f2-3efa-4a54-b532-94d1d8f699f7.\n",
      "> Parent node text: The description information:\n",
      "\n"
     ]
    },
    {
     "data": {
      "text/markdown": [
       "<b>{'prompt_tokens': 281, 'completion_tokens': 307, 'total_tokens': 588}</b>"
      ],
      "text/plain": [
       "<IPython.core.display.Markdown object>"
      ]
     },
     "metadata": {},
     "output_type": "display_data"
    },
    {
     "name": "stdout",
     "output_type": "stream",
     "text": [
      "--------------------------------------------------------------------\n",
      "> Merging 1 nodes into parent node.\n",
      "> Parent node id: 3c2919d3-2652-49f0-995e-96fb67e02046.\n",
      "> Parent node text: The claim information:\n",
      "\n",
      "> Merging 1 nodes into parent node.\n",
      "> Parent node id: fdc26df5-24a9-451f-913f-c7ce254bbaf7.\n",
      "> Parent node text: The claim information:\n",
      "\n",
      "> Merging 1 nodes into parent node.\n",
      "> Parent node id: 8a4f4052-1659-4a64-8d80-9d6503b33c7c.\n",
      "> Parent node text: The description information:\n",
      "\n",
      "> Merging 1 nodes into parent node.\n",
      "> Parent node id: d540ec0f-1bd2-4c22-84e2-3946b7895251.\n",
      "> Parent node text: The description information:\n",
      "\n"
     ]
    },
    {
     "data": {
      "text/markdown": [
       "<b>{'prompt_tokens': 281, 'completion_tokens': 403, 'total_tokens': 684}</b>"
      ],
      "text/plain": [
       "<IPython.core.display.Markdown object>"
      ]
     },
     "metadata": {},
     "output_type": "display_data"
    },
    {
     "name": "stdout",
     "output_type": "stream",
     "text": [
      "--------------------------------------------------------------------\n",
      "> Merging 1 nodes into parent node.\n",
      "> Parent node id: a6a5cf71-78ec-4969-a849-4114ca859f6b.\n",
      "> Parent node text: The claim information:\n",
      "\n",
      "> Merging 1 nodes into parent node.\n",
      "> Parent node id: 69618f7f-dd3a-407e-a775-9f24f3908a18.\n",
      "> Parent node text: The claim information:\n",
      "\n",
      "> Merging 1 nodes into parent node.\n",
      "> Parent node id: 091bf508-d1dc-4205-b363-7a7870ac6d43.\n",
      "> Parent node text: The description information:\n",
      "\n",
      "> Merging 1 nodes into parent node.\n",
      "> Parent node id: ed12a683-8230-404b-962c-74e62f45deea.\n",
      "> Parent node text: The description information:\n",
      "\n"
     ]
    },
    {
     "data": {
      "text/markdown": [
       "<b>{'prompt_tokens': 281, 'completion_tokens': 293, 'total_tokens': 574}</b>"
      ],
      "text/plain": [
       "<IPython.core.display.Markdown object>"
      ]
     },
     "metadata": {},
     "output_type": "display_data"
    },
    {
     "name": "stdout",
     "output_type": "stream",
     "text": [
      "--------------------------------------------------------------------\n",
      "> Merging 1 nodes into parent node.\n",
      "> Parent node id: a9d2023c-5889-44a2-9747-c9de05cc2a21.\n",
      "> Parent node text: The claim information:\n",
      "\n",
      "> Merging 1 nodes into parent node.\n",
      "> Parent node id: 5ad44f0c-6bd8-41da-8a69-1fc94c3f30b2.\n",
      "> Parent node text: The claim information:\n",
      "\n",
      "> Merging 1 nodes into parent node.\n",
      "> Parent node id: 3452c9a4-bad6-4dfd-b898-f4012ce5ed20.\n",
      "> Parent node text: The description information:\n",
      "\n",
      "> Merging 1 nodes into parent node.\n",
      "> Parent node id: 9b52944d-533a-4fdb-b28d-2afe42093d35.\n",
      "> Parent node text: The description information:\n",
      "\n"
     ]
    },
    {
     "data": {
      "text/markdown": [
       "<b>{'prompt_tokens': 281, 'completion_tokens': 280, 'total_tokens': 561}</b>"
      ],
      "text/plain": [
       "<IPython.core.display.Markdown object>"
      ]
     },
     "metadata": {},
     "output_type": "display_data"
    },
    {
     "name": "stdout",
     "output_type": "stream",
     "text": [
      "--------------------------------------------------------------------\n",
      "> Merging 1 nodes into parent node.\n",
      "> Parent node id: 1128ff36-ae36-4244-8d09-0488f89bf92d.\n",
      "> Parent node text: The claim information:\n",
      "\n",
      "> Merging 1 nodes into parent node.\n",
      "> Parent node id: d79d3550-cddd-4d40-9d69-472067e7fb78.\n",
      "> Parent node text: The claim information:\n",
      "\n",
      "> Merging 1 nodes into parent node.\n",
      "> Parent node id: 984c5ae8-c959-432d-9317-e811a21334f8.\n",
      "> Parent node text: The description information:\n",
      "\n",
      "> Merging 1 nodes into parent node.\n",
      "> Parent node id: 0c7a31bc-2827-4386-a31c-c03f0f0290eb.\n",
      "> Parent node text: The description information:\n",
      "\n"
     ]
    },
    {
     "data": {
      "text/markdown": [
       "<b>{'prompt_tokens': 283, 'completion_tokens': 290, 'total_tokens': 573}</b>"
      ],
      "text/plain": [
       "<IPython.core.display.Markdown object>"
      ]
     },
     "metadata": {},
     "output_type": "display_data"
    },
    {
     "name": "stdout",
     "output_type": "stream",
     "text": [
      "--------------------------------------------------------------------\n",
      "> Merging 1 nodes into parent node.\n",
      "> Parent node id: 2b664bfe-29ef-4191-85dd-fecbb5220ef1.\n",
      "> Parent node text: The claim information:\n",
      "\n",
      "> Merging 1 nodes into parent node.\n",
      "> Parent node id: 2b386db0-8d05-4522-9b9a-076fa82f4c9b.\n",
      "> Parent node text: The claim information:\n",
      "\n",
      "> Merging 1 nodes into parent node.\n",
      "> Parent node id: 339d8c3b-a7ca-4cc1-ae54-369aed647b66.\n",
      "> Parent node text: The description information:\n",
      "\n",
      "> Merging 1 nodes into parent node.\n",
      "> Parent node id: a4c7eaa9-b42c-412b-b8d3-41a79d89915b.\n",
      "> Parent node text: The description information:\n",
      "\n"
     ]
    },
    {
     "data": {
      "text/markdown": [
       "<b>{'prompt_tokens': 283, 'completion_tokens': 203, 'total_tokens': 486}</b>"
      ],
      "text/plain": [
       "<IPython.core.display.Markdown object>"
      ]
     },
     "metadata": {},
     "output_type": "display_data"
    },
    {
     "name": "stdout",
     "output_type": "stream",
     "text": [
      "--------------------------------------------------------------------\n",
      "> Merging 1 nodes into parent node.\n",
      "> Parent node id: b5549231-cf7d-4c03-8f11-22ab1f355457.\n",
      "> Parent node text: The claim information:\n",
      "\n",
      "> Merging 1 nodes into parent node.\n",
      "> Parent node id: 512a546a-071b-4a05-b73a-e19357a8abd3.\n",
      "> Parent node text: The claim information:\n",
      "\n",
      "> Merging 1 nodes into parent node.\n",
      "> Parent node id: 73051dca-fe56-4669-befa-b14692a220c4.\n",
      "> Parent node text: The description information:\n",
      "\n",
      "> Merging 1 nodes into parent node.\n",
      "> Parent node id: caf3489e-a05b-4d81-9648-ae35e6e4b50f.\n",
      "> Parent node text: The description information:\n",
      "\n"
     ]
    },
    {
     "data": {
      "text/markdown": [
       "<b>{'prompt_tokens': 283, 'completion_tokens': 265, 'total_tokens': 548}</b>"
      ],
      "text/plain": [
       "<IPython.core.display.Markdown object>"
      ]
     },
     "metadata": {},
     "output_type": "display_data"
    },
    {
     "name": "stdout",
     "output_type": "stream",
     "text": [
      "--------------------------------------------------------------------\n",
      "> Merging 1 nodes into parent node.\n",
      "> Parent node id: 42702260-5121-4f2e-9b40-f73a16bcef90.\n",
      "> Parent node text: The claim information:\n",
      "\n",
      "> Merging 1 nodes into parent node.\n",
      "> Parent node id: a494e065-16a3-4fce-b893-b141de48463b.\n",
      "> Parent node text: The claim information:\n",
      "\n",
      "> Merging 1 nodes into parent node.\n",
      "> Parent node id: 29cd56aa-0fd1-4421-8fb3-7bf9655b61eb.\n",
      "> Parent node text: The description information:\n",
      "\n",
      "> Merging 1 nodes into parent node.\n",
      "> Parent node id: 70313af3-1560-4549-890d-f7b7dcde9468.\n",
      "> Parent node text: The description information:\n",
      "\n"
     ]
    },
    {
     "data": {
      "text/markdown": [
       "<b>{'prompt_tokens': 283, 'completion_tokens': 263, 'total_tokens': 546}</b>"
      ],
      "text/plain": [
       "<IPython.core.display.Markdown object>"
      ]
     },
     "metadata": {},
     "output_type": "display_data"
    },
    {
     "name": "stdout",
     "output_type": "stream",
     "text": [
      "--------------------------------------------------------------------\n",
      "> Merging 1 nodes into parent node.\n",
      "> Parent node id: 4fb106e6-a041-4736-b963-aefb033cee69.\n",
      "> Parent node text: The claim information:\n",
      "\n",
      "> Merging 1 nodes into parent node.\n",
      "> Parent node id: 9a66dea6-66e3-4f80-84ae-06d0f799dd2d.\n",
      "> Parent node text: The claim information:\n",
      "\n",
      "> Merging 1 nodes into parent node.\n",
      "> Parent node id: 99cdce97-b093-4907-ac98-6f75eb3404cc.\n",
      "> Parent node text: The description information:\n",
      "\n",
      "> Merging 1 nodes into parent node.\n",
      "> Parent node id: 7a044af9-b358-4fb1-abbc-785ce470978f.\n",
      "> Parent node text: The description information:\n",
      "\n"
     ]
    },
    {
     "data": {
      "text/markdown": [
       "<b>{'prompt_tokens': 283, 'completion_tokens': 250, 'total_tokens': 533}</b>"
      ],
      "text/plain": [
       "<IPython.core.display.Markdown object>"
      ]
     },
     "metadata": {},
     "output_type": "display_data"
    },
    {
     "name": "stdout",
     "output_type": "stream",
     "text": [
      "--------------------------------------------------------------------\n",
      "> Merging 1 nodes into parent node.\n",
      "> Parent node id: 2aa42cdc-d327-41df-aab3-82697c300e8b.\n",
      "> Parent node text: The claim information:\n",
      "\n",
      "> Merging 1 nodes into parent node.\n",
      "> Parent node id: c0c66e90-a474-45c9-b77b-cc758d7182a9.\n",
      "> Parent node text: The claim information:\n",
      "\n",
      "> Merging 1 nodes into parent node.\n",
      "> Parent node id: 877b92a6-b1ef-4c13-980f-2a9738086b14.\n",
      "> Parent node text: The description information:\n",
      "\n",
      "> Merging 1 nodes into parent node.\n",
      "> Parent node id: 0758116a-30d8-4427-8b43-3411c7860db2.\n",
      "> Parent node text: The description information:\n",
      "\n"
     ]
    },
    {
     "data": {
      "text/markdown": [
       "<b>{'prompt_tokens': 283, 'completion_tokens': 348, 'total_tokens': 631}</b>"
      ],
      "text/plain": [
       "<IPython.core.display.Markdown object>"
      ]
     },
     "metadata": {},
     "output_type": "display_data"
    },
    {
     "name": "stdout",
     "output_type": "stream",
     "text": [
      "--------------------------------------------------------------------\n",
      "> Merging 1 nodes into parent node.\n",
      "> Parent node id: e1af02f6-c0cc-4624-9238-4d1728042ba7.\n",
      "> Parent node text: The claim information:\n",
      "\n",
      "> Merging 1 nodes into parent node.\n",
      "> Parent node id: 4c152628-3f7b-4f55-8ed0-a18cb36d5dcd.\n",
      "> Parent node text: The claim information:\n",
      "\n",
      "> Merging 1 nodes into parent node.\n",
      "> Parent node id: 36905b7a-2704-4f0c-8ceb-7694ab05849a.\n",
      "> Parent node text: The description information:\n",
      "\n",
      "> Merging 1 nodes into parent node.\n",
      "> Parent node id: 51de69b8-3873-4ec9-92a1-4f6cd0c55e4e.\n",
      "> Parent node text: The description information:\n",
      "\n"
     ]
    },
    {
     "data": {
      "text/markdown": [
       "<b>{'prompt_tokens': 283, 'completion_tokens': 334, 'total_tokens': 617}</b>"
      ],
      "text/plain": [
       "<IPython.core.display.Markdown object>"
      ]
     },
     "metadata": {},
     "output_type": "display_data"
    },
    {
     "name": "stdout",
     "output_type": "stream",
     "text": [
      "--------------------------------------------------------------------\n",
      "> Merging 1 nodes into parent node.\n",
      "> Parent node id: db4a19ad-d6bf-4f36-9205-f4a7a45b4d91.\n",
      "> Parent node text: The claim information:\n",
      "\n",
      "> Merging 1 nodes into parent node.\n",
      "> Parent node id: 936ecf32-a0cc-4ab2-b01e-593809452f03.\n",
      "> Parent node text: The claim information:\n",
      "\n",
      "> Merging 1 nodes into parent node.\n",
      "> Parent node id: 373262ff-153a-477f-9e93-a48b1ebebead.\n",
      "> Parent node text: The description information:\n",
      "\n",
      "> Merging 1 nodes into parent node.\n",
      "> Parent node id: 3bbfc237-5874-41c7-b0bc-04a48660975e.\n",
      "> Parent node text: The description information:\n",
      "\n"
     ]
    },
    {
     "data": {
      "text/markdown": [
       "<b>{'prompt_tokens': 361, 'completion_tokens': 484, 'total_tokens': 845}</b>"
      ],
      "text/plain": [
       "<IPython.core.display.Markdown object>"
      ]
     },
     "metadata": {},
     "output_type": "display_data"
    },
    {
     "name": "stdout",
     "output_type": "stream",
     "text": [
      "--------------------------------------------------------------------\n",
      "> Merging 1 nodes into parent node.\n",
      "> Parent node id: b3584c08-4092-4c86-9859-7dc13da9a66f.\n",
      "> Parent node text: The claim information:\n",
      "\n",
      "> Merging 1 nodes into parent node.\n",
      "> Parent node id: b4d60cd6-8384-4201-8f43-96d859ddf594.\n",
      "> Parent node text: The claim information:\n",
      "\n",
      "> Merging 1 nodes into parent node.\n",
      "> Parent node id: f3e3e199-906c-49e8-9fae-27b3af8031e4.\n",
      "> Parent node text: The description information:\n",
      "\n",
      "> Merging 1 nodes into parent node.\n",
      "> Parent node id: 01bf066a-25d9-4352-b9f9-1b5fd4378f6a.\n",
      "> Parent node text: The description information:\n",
      "\n"
     ]
    },
    {
     "data": {
      "text/markdown": [
       "<b>{'prompt_tokens': 361, 'completion_tokens': 471, 'total_tokens': 832}</b>"
      ],
      "text/plain": [
       "<IPython.core.display.Markdown object>"
      ]
     },
     "metadata": {},
     "output_type": "display_data"
    },
    {
     "name": "stdout",
     "output_type": "stream",
     "text": [
      "--------------------------------------------------------------------\n",
      "> Merging 1 nodes into parent node.\n",
      "> Parent node id: 92daf127-e84c-4636-881d-3c9bf096695f.\n",
      "> Parent node text: The claim information:\n",
      "\n",
      "> Merging 1 nodes into parent node.\n",
      "> Parent node id: 5765eb5c-27fc-4375-a7d0-e1d570a2b846.\n",
      "> Parent node text: The claim information:\n",
      "\n",
      "> Merging 1 nodes into parent node.\n",
      "> Parent node id: 69f3a756-f609-4604-8688-df74d7b4a375.\n",
      "> Parent node text: The description information:\n",
      "\n",
      "> Merging 1 nodes into parent node.\n",
      "> Parent node id: 3758016c-02aa-42d7-85e4-46d3c8aec70f.\n",
      "> Parent node text: The description information:\n",
      "\n"
     ]
    },
    {
     "data": {
      "text/markdown": [
       "<b>{'prompt_tokens': 361, 'completion_tokens': 381, 'total_tokens': 742}</b>"
      ],
      "text/plain": [
       "<IPython.core.display.Markdown object>"
      ]
     },
     "metadata": {},
     "output_type": "display_data"
    },
    {
     "name": "stdout",
     "output_type": "stream",
     "text": [
      "--------------------------------------------------------------------\n",
      "> Merging 1 nodes into parent node.\n",
      "> Parent node id: cc04ee07-8abb-416b-a672-6fa1ebf22fb7.\n",
      "> Parent node text: The claim information:\n",
      "\n",
      "> Merging 1 nodes into parent node.\n",
      "> Parent node id: fdc730b5-e0ea-4422-8210-103499f29789.\n",
      "> Parent node text: The claim information:\n",
      "\n",
      "> Merging 1 nodes into parent node.\n",
      "> Parent node id: 738f0b39-6f3e-4e38-bdbe-f626e50f4b4d.\n",
      "> Parent node text: The description information:\n",
      "\n",
      "> Merging 1 nodes into parent node.\n",
      "> Parent node id: 6c80aa87-1a88-45ce-a966-214dad35cd29.\n",
      "> Parent node text: The description information:\n",
      "\n"
     ]
    },
    {
     "data": {
      "text/markdown": [
       "<b>{'prompt_tokens': 331, 'completion_tokens': 173, 'total_tokens': 504}</b>"
      ],
      "text/plain": [
       "<IPython.core.display.Markdown object>"
      ]
     },
     "metadata": {},
     "output_type": "display_data"
    },
    {
     "name": "stdout",
     "output_type": "stream",
     "text": [
      "--------------------------------------------------------------------\n",
      "> Merging 1 nodes into parent node.\n",
      "> Parent node id: dfef9ced-24a1-419a-b830-f95678de06cb.\n",
      "> Parent node text: The claim information:\n",
      "\n",
      "> Merging 1 nodes into parent node.\n",
      "> Parent node id: 41fbf04e-4db1-45bb-a3cc-85dc26c93ceb.\n",
      "> Parent node text: The claim information:\n",
      "\n",
      "> Merging 1 nodes into parent node.\n",
      "> Parent node id: 86fde21d-ef43-43f8-8bdf-11937760337c.\n",
      "> Parent node text: The description information:\n",
      "\n",
      "> Merging 1 nodes into parent node.\n",
      "> Parent node id: 030d628c-6a81-4de6-8f25-a134831723bf.\n",
      "> Parent node text: The description information:\n",
      "\n"
     ]
    },
    {
     "data": {
      "text/markdown": [
       "<b>{'prompt_tokens': 331, 'completion_tokens': 163, 'total_tokens': 494}</b>"
      ],
      "text/plain": [
       "<IPython.core.display.Markdown object>"
      ]
     },
     "metadata": {},
     "output_type": "display_data"
    },
    {
     "name": "stdout",
     "output_type": "stream",
     "text": [
      "--------------------------------------------------------------------\n",
      "> Merging 1 nodes into parent node.\n",
      "> Parent node id: fb2ed00b-598e-4a7f-b0b1-009d5ea07889.\n",
      "> Parent node text: The claim information:\n",
      "\n",
      "> Merging 1 nodes into parent node.\n",
      "> Parent node id: 9e03ecbc-6ff0-4fd8-a3dc-03b0ccd5142e.\n",
      "> Parent node text: The claim information:\n",
      "\n",
      "> Merging 1 nodes into parent node.\n",
      "> Parent node id: a9445ff5-ac30-4ba9-8465-e21d564929bf.\n",
      "> Parent node text: The description information:\n",
      "\n",
      "> Merging 1 nodes into parent node.\n",
      "> Parent node id: 07d6a42b-d233-486e-bc55-357e98bd14f6.\n",
      "> Parent node text: The description information:\n",
      "\n"
     ]
    },
    {
     "data": {
      "text/markdown": [
       "<b>{'prompt_tokens': 331, 'completion_tokens': 315, 'total_tokens': 646}</b>"
      ],
      "text/plain": [
       "<IPython.core.display.Markdown object>"
      ]
     },
     "metadata": {},
     "output_type": "display_data"
    },
    {
     "name": "stdout",
     "output_type": "stream",
     "text": [
      "--------------------------------------------------------------------\n",
      "> Merging 1 nodes into parent node.\n",
      "> Parent node id: 729996de-0e53-4f7d-8225-2234f95a357e.\n",
      "> Parent node text: The claim information:\n",
      "\n",
      "> Merging 1 nodes into parent node.\n",
      "> Parent node id: c09f120d-c2a7-4909-86f4-f815671e3da3.\n",
      "> Parent node text: The claim information:\n",
      "\n",
      "> Merging 1 nodes into parent node.\n",
      "> Parent node id: d550eac6-ee85-4928-a56f-e1f8ee3829dd.\n",
      "> Parent node text: The description information:\n",
      "\n",
      "> Merging 1 nodes into parent node.\n",
      "> Parent node id: 4b6e9f01-3310-4c86-bae1-695c66f4643d.\n",
      "> Parent node text: The description information:\n",
      "\n"
     ]
    },
    {
     "data": {
      "text/markdown": [
       "<b>{'prompt_tokens': 337, 'completion_tokens': 287, 'total_tokens': 624}</b>"
      ],
      "text/plain": [
       "<IPython.core.display.Markdown object>"
      ]
     },
     "metadata": {},
     "output_type": "display_data"
    },
    {
     "name": "stdout",
     "output_type": "stream",
     "text": [
      "--------------------------------------------------------------------\n",
      "> Merging 1 nodes into parent node.\n",
      "> Parent node id: b92a3803-4009-472c-8f9a-96e993a9b5f6.\n",
      "> Parent node text: The claim information:\n",
      "\n",
      "> Merging 1 nodes into parent node.\n",
      "> Parent node id: e671f2c3-2ce2-4be0-bdda-07b9b17aed30.\n",
      "> Parent node text: The claim information:\n",
      "\n",
      "> Merging 1 nodes into parent node.\n",
      "> Parent node id: 837e3b77-3497-413a-b91c-8e7332864e37.\n",
      "> Parent node text: The description information:\n",
      "\n",
      "> Merging 1 nodes into parent node.\n",
      "> Parent node id: 62e6e88d-5086-4182-a245-680179672c40.\n",
      "> Parent node text: The description information:\n",
      "\n"
     ]
    },
    {
     "data": {
      "text/markdown": [
       "<b>{'prompt_tokens': 345, 'completion_tokens': 443, 'total_tokens': 788}</b>"
      ],
      "text/plain": [
       "<IPython.core.display.Markdown object>"
      ]
     },
     "metadata": {},
     "output_type": "display_data"
    },
    {
     "name": "stdout",
     "output_type": "stream",
     "text": [
      "--------------------------------------------------------------------\n",
      "> Merging 1 nodes into parent node.\n",
      "> Parent node id: 9944b4fc-89d5-4b91-919d-64e2e3013b03.\n",
      "> Parent node text: The claim information:\n",
      "\n",
      "> Merging 1 nodes into parent node.\n",
      "> Parent node id: ff1019c3-a877-49da-b03e-df89a1b3a133.\n",
      "> Parent node text: The claim information:\n",
      "\n",
      "> Merging 1 nodes into parent node.\n",
      "> Parent node id: 111b5819-a6eb-4cef-97a6-2659e6806d4a.\n",
      "> Parent node text: The description information:\n",
      "\n",
      "> Merging 1 nodes into parent node.\n",
      "> Parent node id: 7e3c945a-e238-4558-bfc4-1d95d71911ac.\n",
      "> Parent node text: The description information:\n",
      "\n"
     ]
    },
    {
     "data": {
      "text/markdown": [
       "<b>{'prompt_tokens': 361, 'completion_tokens': 452, 'total_tokens': 813}</b>"
      ],
      "text/plain": [
       "<IPython.core.display.Markdown object>"
      ]
     },
     "metadata": {},
     "output_type": "display_data"
    },
    {
     "name": "stdout",
     "output_type": "stream",
     "text": [
      "--------------------------------------------------------------------\n",
      "> Merging 1 nodes into parent node.\n",
      "> Parent node id: 4a90ad35-f57f-478e-84a0-45ff748574cd.\n",
      "> Parent node text: The claim information:\n",
      "\n",
      "> Merging 1 nodes into parent node.\n",
      "> Parent node id: 3a91fa75-029e-432d-83cc-3c1dc144ca23.\n",
      "> Parent node text: The claim information:\n",
      "\n",
      "> Merging 1 nodes into parent node.\n",
      "> Parent node id: 1925bf98-b1a4-4191-a2cf-f8553eb78b02.\n",
      "> Parent node text: The description information:\n",
      "\n",
      "> Merging 1 nodes into parent node.\n",
      "> Parent node id: 0598123f-376e-4e04-80af-4c94777ff59e.\n",
      "> Parent node text: The description information:\n",
      "\n"
     ]
    },
    {
     "data": {
      "text/markdown": [
       "<b>{'prompt_tokens': 363, 'completion_tokens': 890, 'total_tokens': 1253}</b>"
      ],
      "text/plain": [
       "<IPython.core.display.Markdown object>"
      ]
     },
     "metadata": {},
     "output_type": "display_data"
    },
    {
     "name": "stdout",
     "output_type": "stream",
     "text": [
      "--------------------------------------------------------------------\n",
      "> Merging 1 nodes into parent node.\n",
      "> Parent node id: 8608e7a6-42fa-42d1-beeb-35770a5dfa3c.\n",
      "> Parent node text: The claim information:\n",
      "\n",
      "> Merging 1 nodes into parent node.\n",
      "> Parent node id: 682e22d4-ea86-407b-b0ec-57bdcb7ca8e5.\n",
      "> Parent node text: The claim information:\n",
      "\n",
      "> Merging 1 nodes into parent node.\n",
      "> Parent node id: 691f1f86-93d0-43d3-9d64-4a234223f2fd.\n",
      "> Parent node text: The description information:\n",
      "\n",
      "> Merging 1 nodes into parent node.\n",
      "> Parent node id: 9cdc5518-b4ad-47a7-a31a-85c783c062d7.\n",
      "> Parent node text: The description information:\n",
      "\n"
     ]
    },
    {
     "data": {
      "text/markdown": [
       "<b>{'prompt_tokens': 363, 'completion_tokens': 898, 'total_tokens': 1261}</b>"
      ],
      "text/plain": [
       "<IPython.core.display.Markdown object>"
      ]
     },
     "metadata": {},
     "output_type": "display_data"
    },
    {
     "name": "stdout",
     "output_type": "stream",
     "text": [
      "--------------------------------------------------------------------\n",
      "> Merging 2 nodes into parent node.\n",
      "> Parent node id: de44d11c-9a6d-499f-85a5-530a1a76a788.\n",
      "> Parent node text: The claim information:\n",
      "A peptide comprising an amino acid sequence of any one of SEQ_ID_NO_2 to S...\n",
      "\n",
      "> Merging 1 nodes into parent node.\n",
      "> Parent node id: a5e22118-9144-4507-93aa-7919b939b945.\n",
      "> Parent node text: Peptides described in SEQ_ID_NO_1 to SEQ_ID_NO_14 are shown in Table 1 below. SEQ_ID_NO_15 is the...\n",
      "\n"
     ]
    },
    {
     "data": {
      "text/markdown": [
       "<b>{'prompt_tokens': 2921, 'completion_tokens': 280, 'total_tokens': 3201}</b>"
      ],
      "text/plain": [
       "<IPython.core.display.Markdown object>"
      ]
     },
     "metadata": {},
     "output_type": "display_data"
    },
    {
     "name": "stdout",
     "output_type": "stream",
     "text": [
      "--------------------------------------------------------------------\n",
      "> Merging 2 nodes into parent node.\n",
      "> Parent node id: 489b22c3-a844-4847-a328-152e48ceebe5.\n",
      "> Parent node text: According to another aspect of the invention, the peptide may comprise any one amino acid sequenc...\n",
      "\n"
     ]
    },
    {
     "data": {
      "text/markdown": [
       "<b>{'prompt_tokens': 2983, 'completion_tokens': 342, 'total_tokens': 3325}</b>"
      ],
      "text/plain": [
       "<IPython.core.display.Markdown object>"
      ]
     },
     "metadata": {},
     "output_type": "display_data"
    },
    {
     "name": "stdout",
     "output_type": "stream",
     "text": [
      "--------------------------------------------------------------------\n",
      "> Merging 2 nodes into parent node.\n",
      "> Parent node id: 172a4adf-59b2-4068-96f9-face1d47bf21.\n",
      "> Parent node text: The claim information:\n",
      "A peptide comprising an amino acid sequence of any one of SEQ_ID_NO_2 to S...\n",
      "\n",
      "> Merging 2 nodes into parent node.\n",
      "> Parent node id: 60807a14-08bc-495b-bb88-02f1b12a6cd2.\n",
      "> Parent node text: According to another aspect of the invention, the peptide may comprise any one amino acid sequenc...\n",
      "\n"
     ]
    },
    {
     "data": {
      "text/markdown": [
       "<b>{'prompt_tokens': 3206, 'completion_tokens': 281, 'total_tokens': 3487}</b>"
      ],
      "text/plain": [
       "<IPython.core.display.Markdown object>"
      ]
     },
     "metadata": {},
     "output_type": "display_data"
    },
    {
     "name": "stdout",
     "output_type": "stream",
     "text": [
      "--------------------------------------------------------------------\n",
      "> Merging 2 nodes into parent node.\n",
      "> Parent node id: 68e9d236-a1af-43c2-8cd4-ae4d244db9c7.\n",
      "> Parent node text: The claim information:\n",
      "A peptide comprising an amino acid sequence of any one of SEQ_ID_NO_2 to S...\n",
      "\n",
      "> Merging 2 nodes into parent node.\n",
      "> Parent node id: f6fe3ff2-674f-4077-9708-9c632291b545.\n",
      "> Parent node text: According to another aspect of the invention, the peptide may comprise any one amino acid sequenc...\n",
      "\n"
     ]
    },
    {
     "data": {
      "text/markdown": [
       "<b>{'prompt_tokens': 3191, 'completion_tokens': 402, 'total_tokens': 3593}</b>"
      ],
      "text/plain": [
       "<IPython.core.display.Markdown object>"
      ]
     },
     "metadata": {},
     "output_type": "display_data"
    },
    {
     "name": "stdout",
     "output_type": "stream",
     "text": [
      "--------------------------------------------------------------------\n",
      "> Merging 2 nodes into parent node.\n",
      "> Parent node id: 084345e9-8c8a-4c9b-9c14-3c5c63fe8752.\n",
      "> Parent node text: The claim information:\n",
      "A peptide comprising an amino acid sequence of any one of SEQ_ID_NO_2 to S...\n",
      "\n",
      "> Merging 2 nodes into parent node.\n",
      "> Parent node id: 78b908cf-c28f-4425-81bc-f1861e16b1df.\n",
      "> Parent node text: According to another aspect of the invention, the peptide may comprise any one amino acid sequenc...\n",
      "\n"
     ]
    },
    {
     "data": {
      "text/markdown": [
       "<b>{'prompt_tokens': 3149, 'completion_tokens': 337, 'total_tokens': 3486}</b>"
      ],
      "text/plain": [
       "<IPython.core.display.Markdown object>"
      ]
     },
     "metadata": {},
     "output_type": "display_data"
    },
    {
     "name": "stdout",
     "output_type": "stream",
     "text": [
      "--------------------------------------------------------------------\n",
      "> Merging 2 nodes into parent node.\n",
      "> Parent node id: 8e4eec85-1b04-4495-bf02-33d918061156.\n",
      "> Parent node text: The claim information:\n",
      "A peptide comprising an amino acid sequence of any one of SEQ_ID_NO_2 to S...\n",
      "\n",
      "> Merging 2 nodes into parent node.\n",
      "> Parent node id: 5a71acd0-57b0-4c75-a443-6e1e2dae5040.\n",
      "> Parent node text: Examples include corticosteroids (a wide range of natural, semisynthetic and synthetic agents des...\n",
      "\n",
      "> Merging 2 nodes into parent node.\n",
      "> Parent node id: 00613c4c-e135-4cec-98d8-f99f04451000.\n",
      "> Parent node text: According to another aspect of the invention, the peptide may comprise any one amino acid sequenc...\n",
      "\n"
     ]
    },
    {
     "data": {
      "text/markdown": [
       "<b>{'prompt_tokens': 3215, 'completion_tokens': 372, 'total_tokens': 3587}</b>"
      ],
      "text/plain": [
       "<IPython.core.display.Markdown object>"
      ]
     },
     "metadata": {},
     "output_type": "display_data"
    },
    {
     "name": "stdout",
     "output_type": "stream",
     "text": [
      "--------------------------------------------------------------------\n",
      "> Merging 2 nodes into parent node.\n",
      "> Parent node id: 0fc4d2d8-ce26-4a82-9fb0-c973237b3de4.\n",
      "> Parent node text: The claim information:\n",
      "A peptide comprising an amino acid sequence of any one of SEQ_ID_NO_2 to S...\n",
      "\n",
      "> Merging 2 nodes into parent node.\n",
      "> Parent node id: 446ba0e1-dea6-4da9-9060-7c36c1c442b0.\n",
      "> Parent node text: According to another aspect of the invention, the peptide may comprise any one amino acid sequenc...\n",
      "\n"
     ]
    },
    {
     "data": {
      "text/markdown": [
       "<b>{'prompt_tokens': 3033, 'completion_tokens': 248, 'total_tokens': 3281}</b>"
      ],
      "text/plain": [
       "<IPython.core.display.Markdown object>"
      ]
     },
     "metadata": {},
     "output_type": "display_data"
    },
    {
     "name": "stdout",
     "output_type": "stream",
     "text": [
      "--------------------------------------------------------------------\n",
      "> Merging 2 nodes into parent node.\n",
      "> Parent node id: 5d8967db-6a48-470d-b678-3b3a9799fb46.\n",
      "> Parent node text: The claim information:\n",
      "A peptide comprising an amino acid sequence of any one of SEQ_ID_NO_2 to S...\n",
      "\n",
      "> Merging 2 nodes into parent node.\n",
      "> Parent node id: c0c7638d-2ad2-45da-abef-b395262da9d6.\n",
      "> Parent node text: According to another aspect of the invention, the peptide may comprise any one amino acid sequenc...\n",
      "\n"
     ]
    },
    {
     "data": {
      "text/markdown": [
       "<b>{'prompt_tokens': 3043, 'completion_tokens': 542, 'total_tokens': 3585}</b>"
      ],
      "text/plain": [
       "<IPython.core.display.Markdown object>"
      ]
     },
     "metadata": {},
     "output_type": "display_data"
    },
    {
     "name": "stdout",
     "output_type": "stream",
     "text": [
      "--------------------------------------------------------------------\n",
      "> Merging 2 nodes into parent node.\n",
      "> Parent node id: ba8083b0-347b-4707-84cd-e7dd2e972de3.\n",
      "> Parent node text: The claim information:\n",
      "A peptide comprising an amino acid sequence of any one of SEQ_ID_NO_2 to S...\n",
      "\n",
      "> Merging 2 nodes into parent node.\n",
      "> Parent node id: b2c2ac3a-757f-4108-8b95-e48be1599d1f.\n",
      "> Parent node text: According to another aspect of the invention, the peptide may comprise any one amino acid sequenc...\n",
      "\n"
     ]
    },
    {
     "data": {
      "text/markdown": [
       "<b>{'prompt_tokens': 3139, 'completion_tokens': 452, 'total_tokens': 3591}</b>"
      ],
      "text/plain": [
       "<IPython.core.display.Markdown object>"
      ]
     },
     "metadata": {},
     "output_type": "display_data"
    },
    {
     "name": "stdout",
     "output_type": "stream",
     "text": [
      "--------------------------------------------------------------------\n",
      "> Merging 2 nodes into parent node.\n",
      "> Parent node id: d03b463d-0c07-43a5-87a0-0dfaf7310106.\n",
      "> Parent node text: The claim information:\n",
      "A peptide comprising an amino acid sequence of any one of SEQ_ID_NO_2 to S...\n",
      "\n",
      "> Merging 2 nodes into parent node.\n",
      "> Parent node id: 2029552b-5caf-492a-94f0-cfdfe60c3e1d.\n",
      "> Parent node text: According to another aspect of the invention, the peptide may comprise any one amino acid sequenc...\n",
      "\n"
     ]
    },
    {
     "data": {
      "text/markdown": [
       "<b>{'prompt_tokens': 3119, 'completion_tokens': 271, 'total_tokens': 3390}</b>"
      ],
      "text/plain": [
       "<IPython.core.display.Markdown object>"
      ]
     },
     "metadata": {},
     "output_type": "display_data"
    },
    {
     "name": "stdout",
     "output_type": "stream",
     "text": [
      "--------------------------------------------------------------------\n",
      "> Merging 2 nodes into parent node.\n",
      "> Parent node id: a1db41e4-210d-4ef4-8af3-d4b7001b9e6c.\n",
      "> Parent node text: The claim information:\n",
      "A peptide comprising an amino acid sequence of any one of SEQ_ID_NO_2 to S...\n",
      "\n",
      "> Merging 2 nodes into parent node.\n",
      "> Parent node id: 13c5d8cf-25fa-4ce4-bbb4-ef1b8387ea40.\n",
      "> Parent node text: According to another aspect of the invention, the peptide may comprise any one amino acid sequenc...\n",
      "\n"
     ]
    },
    {
     "data": {
      "text/markdown": [
       "<b>{'prompt_tokens': 3186, 'completion_tokens': 316, 'total_tokens': 3502}</b>"
      ],
      "text/plain": [
       "<IPython.core.display.Markdown object>"
      ]
     },
     "metadata": {},
     "output_type": "display_data"
    },
    {
     "name": "stdout",
     "output_type": "stream",
     "text": [
      "--------------------------------------------------------------------\n",
      "> Merging 2 nodes into parent node.\n",
      "> Parent node id: 5cc6a7e3-b25a-4d85-89a2-02c391a6f861.\n",
      "> Parent node text: The claim information:\n",
      "A peptide comprising an amino acid sequence of any one of SEQ_ID_NO_2 to S...\n",
      "\n",
      "> Merging 2 nodes into parent node.\n",
      "> Parent node id: 20301d94-1ab5-4425-af24-078b1c28b6fd.\n",
      "> Parent node text: According to another aspect of the invention, the peptide may comprise any one amino acid sequenc...\n",
      "\n"
     ]
    },
    {
     "data": {
      "text/markdown": [
       "<b>{'prompt_tokens': 3145, 'completion_tokens': 372, 'total_tokens': 3517}</b>"
      ],
      "text/plain": [
       "<IPython.core.display.Markdown object>"
      ]
     },
     "metadata": {},
     "output_type": "display_data"
    },
    {
     "name": "stdout",
     "output_type": "stream",
     "text": [
      "--------------------------------------------------------------------\n",
      "> Merging 2 nodes into parent node.\n",
      "> Parent node id: 0c6cd605-a8a2-411a-93fe-18c21da67d70.\n",
      "> Parent node text: The claim information:\n",
      "A peptide comprising an amino acid sequence of any one of SEQ_ID_NO_2 to S...\n",
      "\n",
      "> Merging 2 nodes into parent node.\n",
      "> Parent node id: 52c26dde-5ad5-424a-8e57-5bc8bbd5cf09.\n",
      "> Parent node text: According to another aspect of the invention, the peptide may comprise any one amino acid sequenc...\n",
      "\n"
     ]
    },
    {
     "data": {
      "text/markdown": [
       "<b>{'prompt_tokens': 3194, 'completion_tokens': 456, 'total_tokens': 3650}</b>"
      ],
      "text/plain": [
       "<IPython.core.display.Markdown object>"
      ]
     },
     "metadata": {},
     "output_type": "display_data"
    },
    {
     "name": "stdout",
     "output_type": "stream",
     "text": [
      "--------------------------------------------------------------------\n",
      "> Merging 2 nodes into parent node.\n",
      "> Parent node id: df98ee80-8118-4a5d-9d43-cf7d04bd5572.\n",
      "> Parent node text: According to another aspect of the invention, the peptide may comprise any one amino acid sequenc...\n",
      "\n"
     ]
    },
    {
     "data": {
      "text/markdown": [
       "<b>{'prompt_tokens': 3033, 'completion_tokens': 450, 'total_tokens': 3483}</b>"
      ],
      "text/plain": [
       "<IPython.core.display.Markdown object>"
      ]
     },
     "metadata": {},
     "output_type": "display_data"
    },
    {
     "name": "stdout",
     "output_type": "stream",
     "text": [
      "--------------------------------------------------------------------\n",
      "> Merging 2 nodes into parent node.\n",
      "> Parent node id: 29043796-9f15-4923-b799-8c5d29904280.\n",
      "> Parent node text: The claim information:\n",
      "Yao's natural anti-inflammatory polypeptide cecropin-TY1 is characterized ...\n",
      "\n",
      "> Merging 1 nodes into parent node.\n",
      "> Parent node id: 83a8ada9-8d27-4780-91b6-7c20ab73b99f.\n",
      "> Parent node text: The claim information:\n",
      "Yao's natural anti-inflammatory polypeptide cecropin-TY1 is characterized ...\n",
      "\n",
      "> Merging 2 nodes into parent node.\n",
      "> Parent node id: b0a56498-835f-4d06-a85b-1bfed701eed5.\n",
      "> Parent node text: Hereinafter, the preferred embodiments of the present invention will be described in detail with ...\n",
      "\n",
      "> Merging 2 nodes into parent node.\n",
      "> Parent node id: bf48896e-92af-4ec8-836e-2fd914f2b95e.\n",
      "> Parent node text: After the cells were attached, a series of 2-fold gradient dilutions of cecropin-TY1 as shown in ...\n",
      "\n"
     ]
    },
    {
     "data": {
      "text/markdown": [
       "<b>{'prompt_tokens': 3344, 'completion_tokens': 523, 'total_tokens': 3867}</b>"
      ],
      "text/plain": [
       "<IPython.core.display.Markdown object>"
      ]
     },
     "metadata": {},
     "output_type": "display_data"
    },
    {
     "name": "stdout",
     "output_type": "stream",
     "text": [
      "--------------------------------------------------------------------\n",
      "> Merging 3 nodes into parent node.\n",
      "> Parent node id: 04d48a40-2675-45ef-964f-6a1eaa10d2b6.\n",
      "> Parent node text: Clavaspirin, the parent peptide having the amino acid sequence set forth in the known sequence nu...\n",
      "\n"
     ]
    },
    {
     "data": {
      "text/markdown": [
       "<b>{'prompt_tokens': 2536, 'completion_tokens': 375, 'total_tokens': 2911}</b>"
      ],
      "text/plain": [
       "<IPython.core.display.Markdown object>"
      ]
     },
     "metadata": {},
     "output_type": "display_data"
    },
    {
     "name": "stdout",
     "output_type": "stream",
     "text": [
      "--------------------------------------------------------------------\n",
      "> Merging 2 nodes into parent node.\n",
      "> Parent node id: cfc438a9-eeeb-464f-88dc-187929b4f19b.\n",
      "> Parent node text: The health beverage composition of the present invention may contain various flavors or natural c...\n",
      "\n",
      "> Merging 2 nodes into parent node.\n",
      "> Parent node id: f57bafc1-17b0-49cc-9313-b71065961b86.\n",
      "> Parent node text: Clavaspirin, the parent peptide having the amino acid sequence set forth in the known sequence nu...\n",
      "\n",
      "> Merging 2 nodes into parent node.\n",
      "> Parent node id: abb8c5c7-4837-4598-a75c-ffeeb4c15295.\n",
      "> Parent node text: This is emerging. Korean Patent No. 1158368 discloses a composition and extraction method for ant...\n",
      "\n"
     ]
    },
    {
     "data": {
      "text/markdown": [
       "<b>{'prompt_tokens': 3097, 'completion_tokens': 474, 'total_tokens': 3571}</b>"
      ],
      "text/plain": [
       "<IPython.core.display.Markdown object>"
      ]
     },
     "metadata": {},
     "output_type": "display_data"
    },
    {
     "name": "stdout",
     "output_type": "stream",
     "text": [
      "--------------------------------------------------------------------\n",
      "> Merging 2 nodes into parent node.\n",
      "> Parent node id: 381a168c-8acd-4bf7-a36f-2b8c41a515d6.\n",
      "> Parent node text: The claim information:\n",
      "A peptide or salt thereof selected from the group consisting of a peptide ...\n",
      "\n",
      "> Merging 2 nodes into parent node.\n",
      "> Parent node id: 0f0ecb06-f66f-4598-93af-de9e793967ff.\n",
      "> Parent node text: In one aspect of the invention, a novel peptide consisting of the sequence of SEQ_ID_NO_1 is disc...\n",
      "\n"
     ]
    },
    {
     "data": {
      "text/markdown": [
       "<b>{'prompt_tokens': 3121, 'completion_tokens': 243, 'total_tokens': 3364}</b>"
      ],
      "text/plain": [
       "<IPython.core.display.Markdown object>"
      ]
     },
     "metadata": {},
     "output_type": "display_data"
    },
    {
     "name": "stdout",
     "output_type": "stream",
     "text": [
      "--------------------------------------------------------------------\n",
      "> Merging 2 nodes into parent node.\n",
      "> Parent node id: 42e2e468-49ac-4e86-8769-8bd08bfd642d.\n",
      "> Parent node text: OTHER ACTIVE COMPOUNDS [0050] Applicant believes other pentapeptides comprised of all-D-amino aci...\n",
      "\n"
     ]
    },
    {
     "data": {
      "text/markdown": [
       "<b>{'prompt_tokens': 3033, 'completion_tokens': 211, 'total_tokens': 3244}</b>"
      ],
      "text/plain": [
       "<IPython.core.display.Markdown object>"
      ]
     },
     "metadata": {},
     "output_type": "display_data"
    },
    {
     "name": "stdout",
     "output_type": "stream",
     "text": [
      "--------------------------------------------------------------------\n",
      "> Merging 2 nodes into parent node.\n",
      "> Parent node id: 1c223426-d4f7-40ee-bb9e-2f119e2fb589.\n",
      "> Parent node text: The claim information:\n",
      "What is claimed is: Claim 1: A method of treatment for non-alcoholic fatty...\n",
      "\n",
      "> Merging 2 nodes into parent node.\n",
      "> Parent node id: 2011475d-6e0a-49ae-b954-1763b69ae89f.\n",
      "> Parent node text: OTHER ACTIVE COMPOUNDS [0050] Applicant believes other pentapeptides comprised of all-D-amino aci...\n",
      "\n",
      "> Merging 2 nodes into parent node.\n",
      "> Parent node id: 0c8b410a-d08b-41f7-b343-2ce8d34fe6e4.\n",
      "> Parent node text: Monocytes were treated with the indicated doses of RAP-103 for 30 min before chemotaxis against h...\n",
      "\n"
     ]
    },
    {
     "data": {
      "text/markdown": [
       "<b>{'prompt_tokens': 3168, 'completion_tokens': 289, 'total_tokens': 3457}</b>"
      ],
      "text/plain": [
       "<IPython.core.display.Markdown object>"
      ]
     },
     "metadata": {},
     "output_type": "display_data"
    },
    {
     "name": "stdout",
     "output_type": "stream",
     "text": [
      "--------------------------------------------------------------------\n",
      "> Merging 2 nodes into parent node.\n",
      "> Parent node id: d82fc226-d3e8-4f7c-bd4f-2ca17877b264.\n",
      "> Parent node text: The claim information:\n",
      "What is claimed is: Claim 1: A method of treatment for non-alcoholic fatty...\n",
      "\n",
      "> Merging 2 nodes into parent node.\n",
      "> Parent node id: 04b1dbb4-2d76-401b-8fce-58e4a8205959.\n",
      "> Parent node text: Monocytes were treated with the indicated doses of RAP-103 for 30 min before chemotaxis against h...\n",
      "\n",
      "> Merging 2 nodes into parent node.\n",
      "> Parent node id: 379d13a1-c32e-46d0-b69b-1be58f8a72e6.\n",
      "> Parent node text: OTHER ACTIVE COMPOUNDS [0050] Applicant believes other pentapeptides comprised of all-D-amino aci...\n",
      "\n"
     ]
    },
    {
     "data": {
      "text/markdown": [
       "<b>{'prompt_tokens': 3172, 'completion_tokens': 225, 'total_tokens': 3397}</b>"
      ],
      "text/plain": [
       "<IPython.core.display.Markdown object>"
      ]
     },
     "metadata": {},
     "output_type": "display_data"
    },
    {
     "name": "stdout",
     "output_type": "stream",
     "text": [
      "--------------------------------------------------------------------\n",
      "> Merging 2 nodes into parent node.\n",
      "> Parent node id: 58cc50dc-88de-4f73-a9cb-4010af56be93.\n",
      "> Parent node text: The claim information:\n",
      "What is claimed is: Claim 1: A method of treatment for non-alcoholic fatty...\n",
      "\n",
      "> Filling in node. Node id: f760fb2d-27ba-41d0-880e-71e91389d26a> Node text: [0051] According to a first aspect of the present invention, there is provided the use of a linea...\n",
      "\n",
      "> Merging 4 nodes into parent node.\n",
      "> Parent node id: a84a110e-fc2d-492a-9c55-73cd54868e98.\n",
      "> Parent node text: OTHER ACTIVE COMPOUNDS [0050] Applicant believes other pentapeptides comprised of all-D-amino aci...\n",
      "\n",
      "> Merging 2 nodes into parent node.\n",
      "> Parent node id: adfd7411-4fc9-434d-9b20-12fe8f7dc571.\n",
      "> Parent node text: Monocytes were treated with the indicated doses of RAP-103 for 30 min before chemotaxis against h...\n",
      "\n"
     ]
    },
    {
     "data": {
      "text/markdown": [
       "<b>{'prompt_tokens': 2847, 'completion_tokens': 301, 'total_tokens': 3148}</b>"
      ],
      "text/plain": [
       "<IPython.core.display.Markdown object>"
      ]
     },
     "metadata": {},
     "output_type": "display_data"
    },
    {
     "name": "stdout",
     "output_type": "stream",
     "text": [
      "--------------------------------------------------------------------\n",
      "> Merging 2 nodes into parent node.\n",
      "> Parent node id: bb895e94-e719-4475-afaa-9b1923cc53aa.\n",
      "> Parent node text: The claim information:\n",
      "What is claimed is: Claim 1: A method of treatment for non-alcoholic fatty...\n",
      "\n",
      "> Filling in node. Node id: 310f50ba-3233-4b93-819e-2f30bd505ed8> Node text: [0051] According to a first aspect of the present invention, there is provided the use of a linea...\n",
      "\n",
      "> Merging 3 nodes into parent node.\n",
      "> Parent node id: d5cdcc49-7f67-4788-9476-e6609f2940c2.\n",
      "> Parent node text: OTHER ACTIVE COMPOUNDS [0050] Applicant believes other pentapeptides comprised of all-D-amino aci...\n",
      "\n"
     ]
    },
    {
     "data": {
      "text/markdown": [
       "<b>{'prompt_tokens': 3155, 'completion_tokens': 462, 'total_tokens': 3617}</b>"
      ],
      "text/plain": [
       "<IPython.core.display.Markdown object>"
      ]
     },
     "metadata": {},
     "output_type": "display_data"
    },
    {
     "name": "stdout",
     "output_type": "stream",
     "text": [
      "--------------------------------------------------------------------\n",
      "> Merging 2 nodes into parent node.\n",
      "> Parent node id: 082f3649-7678-4d23-9677-2f83fb5dd0e4.\n",
      "> Parent node text: The claim information:\n",
      "What is claimed is: Claim 1: A method of treatment for non-alcoholic fatty...\n",
      "\n",
      "> Merging 3 nodes into parent node.\n",
      "> Parent node id: 6aef5a48-37a9-4ece-a7cc-140c74e7fb9c.\n",
      "> Parent node text: OTHER ACTIVE COMPOUNDS [0050] Applicant believes other pentapeptides comprised of all-D-amino aci...\n",
      "\n"
     ]
    },
    {
     "data": {
      "text/markdown": [
       "<b>{'prompt_tokens': 2935, 'completion_tokens': 555, 'total_tokens': 3490}</b>"
      ],
      "text/plain": [
       "<IPython.core.display.Markdown object>"
      ]
     },
     "metadata": {},
     "output_type": "display_data"
    },
    {
     "name": "stdout",
     "output_type": "stream",
     "text": [
      "--------------------------------------------------------------------\n",
      "> Merging 2 nodes into parent node.\n",
      "> Parent node id: 868776bb-db70-40a9-81e2-98caf3ea3643.\n",
      "> Parent node text: The claim information:\n",
      "What is claimed is: Claim 1: A method of treatment for non-alcoholic fatty...\n",
      "\n",
      "> Filling in node. Node id: cdf2296f-b08e-4554-b8b6-ec2ecd14ad0b> Node text: [0051] According to a first aspect of the present invention, there is provided the use of a linea...\n",
      "\n",
      "> Merging 2 nodes into parent node.\n",
      "> Parent node id: 97fd85f6-4d60-4cc0-aa87-dfb215df1ce2.\n",
      "> Parent node text: Monocytes were treated with the indicated doses of RAP-103 for 30 min before chemotaxis against h...\n",
      "\n",
      "> Merging 3 nodes into parent node.\n",
      "> Parent node id: 0faab192-cdc8-4cde-bb4b-445df69d02c7.\n",
      "> Parent node text: OTHER ACTIVE COMPOUNDS [0050] Applicant believes other pentapeptides comprised of all-D-amino aci...\n",
      "\n"
     ]
    },
    {
     "data": {
      "text/markdown": [
       "<b>{'prompt_tokens': 3153, 'completion_tokens': 442, 'total_tokens': 3595}</b>"
      ],
      "text/plain": [
       "<IPython.core.display.Markdown object>"
      ]
     },
     "metadata": {},
     "output_type": "display_data"
    },
    {
     "name": "stdout",
     "output_type": "stream",
     "text": [
      "--------------------------------------------------------------------\n",
      "> Merging 2 nodes into parent node.\n",
      "> Parent node id: 0c79074e-9ef8-40aa-b796-a901e208d2a9.\n",
      "> Parent node text: The claim information:\n",
      "What is claimed is: Claim 1: A method of treatment for non-alcoholic fatty...\n",
      "\n",
      "> Merging 3 nodes into parent node.\n",
      "> Parent node id: 9e350235-d6ab-4a0e-a299-6c8f2a467191.\n",
      "> Parent node text: OTHER ACTIVE COMPOUNDS [0050] Applicant believes other pentapeptides comprised of all-D-amino aci...\n",
      "\n",
      "> Merging 2 nodes into parent node.\n",
      "> Parent node id: c5a46ec3-e2dc-4f7f-9305-2150802145a6.\n",
      "> Parent node text: [0042] Oral delivery solves another problem that is common with peptides, their propensity to agg...\n",
      "\n"
     ]
    },
    {
     "data": {
      "text/markdown": [
       "<b>{'prompt_tokens': 2858, 'completion_tokens': 284, 'total_tokens': 3142}</b>"
      ],
      "text/plain": [
       "<IPython.core.display.Markdown object>"
      ]
     },
     "metadata": {},
     "output_type": "display_data"
    },
    {
     "name": "stdout",
     "output_type": "stream",
     "text": [
      "--------------------------------------------------------------------\n",
      "> Merging 2 nodes into parent node.\n",
      "> Parent node id: bca00083-6645-42b4-bd5a-07dfb28d5d94.\n",
      "> Parent node text: The claim information:\n",
      "What is claimed is: Claim 1: A method of treatment for non-alcoholic fatty...\n",
      "\n",
      "> Merging 3 nodes into parent node.\n",
      "> Parent node id: 26e0dc2a-f8d5-4864-afa2-4ac4a41fcf25.\n",
      "> Parent node text: OTHER ACTIVE COMPOUNDS [0050] Applicant believes other pentapeptides comprised of all-D-amino aci...\n",
      "\n"
     ]
    },
    {
     "data": {
      "text/markdown": [
       "<b>{'prompt_tokens': 2935, 'completion_tokens': 347, 'total_tokens': 3282}</b>"
      ],
      "text/plain": [
       "<IPython.core.display.Markdown object>"
      ]
     },
     "metadata": {},
     "output_type": "display_data"
    },
    {
     "name": "stdout",
     "output_type": "stream",
     "text": [
      "--------------------------------------------------------------------\n",
      "> Merging 2 nodes into parent node.\n",
      "> Parent node id: f439ad62-9c4a-4049-aebc-41cd76ad08de.\n",
      "> Parent node text: The claim information:\n",
      "What is claimed is: Claim 1: A method of treatment for non-alcoholic fatty...\n",
      "\n",
      "> Merging 3 nodes into parent node.\n",
      "> Parent node id: b7c04ab9-5f11-4a75-8e66-ec165be8db23.\n",
      "> Parent node text: OTHER ACTIVE COMPOUNDS [0050] Applicant believes other pentapeptides comprised of all-D-amino aci...\n",
      "\n"
     ]
    },
    {
     "data": {
      "text/markdown": [
       "<b>{'prompt_tokens': 2937, 'completion_tokens': 302, 'total_tokens': 3239}</b>"
      ],
      "text/plain": [
       "<IPython.core.display.Markdown object>"
      ]
     },
     "metadata": {},
     "output_type": "display_data"
    },
    {
     "name": "stdout",
     "output_type": "stream",
     "text": [
      "--------------------------------------------------------------------\n",
      "> Merging 2 nodes into parent node.\n",
      "> Parent node id: 9c2620d8-e2be-4809-b1a2-1f5daec2da5d.\n",
      "> Parent node text: The claim information:\n",
      "What is claimed is: Claim 1: A method of treatment for non-alcoholic fatty...\n",
      "\n",
      "> Merging 2 nodes into parent node.\n",
      "> Parent node id: dcca23eb-00d3-48fd-9f89-7995373631b3.\n",
      "> Parent node text: OTHER ACTIVE COMPOUNDS [0050] Applicant believes other pentapeptides comprised of all-D-amino aci...\n",
      "\n",
      "> Merging 2 nodes into parent node.\n",
      "> Parent node id: 3321affc-e166-4b10-a1ba-07d4afd32f22.\n",
      "> Parent node text: Monocytes were treated with the indicated doses of RAP-103 for 30 min before chemotaxis against h...\n",
      "\n"
     ]
    },
    {
     "data": {
      "text/markdown": [
       "<b>{'prompt_tokens': 3258, 'completion_tokens': 264, 'total_tokens': 3522}</b>"
      ],
      "text/plain": [
       "<IPython.core.display.Markdown object>"
      ]
     },
     "metadata": {},
     "output_type": "display_data"
    },
    {
     "name": "stdout",
     "output_type": "stream",
     "text": [
      "--------------------------------------------------------------------\n",
      "> Merging 2 nodes into parent node.\n",
      "> Parent node id: 41de0f76-5da8-4184-b017-a61e5366e2b9.\n",
      "> Parent node text: The claim information:\n",
      "What is claimed is: Claim 1: A method of treatment for non-alcoholic fatty...\n",
      "\n",
      "> Merging 3 nodes into parent node.\n",
      "> Parent node id: a128f00d-83f0-4659-a944-a43c9fb6c524.\n",
      "> Parent node text: OTHER ACTIVE COMPOUNDS [0050] Applicant believes other pentapeptides comprised of all-D-amino aci...\n",
      "\n"
     ]
    },
    {
     "data": {
      "text/markdown": [
       "<b>{'prompt_tokens': 2863, 'completion_tokens': 466, 'total_tokens': 3329}</b>"
      ],
      "text/plain": [
       "<IPython.core.display.Markdown object>"
      ]
     },
     "metadata": {},
     "output_type": "display_data"
    },
    {
     "name": "stdout",
     "output_type": "stream",
     "text": [
      "--------------------------------------------------------------------\n",
      "> Merging 2 nodes into parent node.\n",
      "> Parent node id: 19e68dc4-cc69-4af2-b457-64700697f324.\n",
      "> Parent node text: The claim information:\n",
      "What is claimed is: Claim 1: A method of treatment for non-alcoholic fatty...\n",
      "\n",
      "> Merging 3 nodes into parent node.\n",
      "> Parent node id: 1c7b3758-589a-4d71-bfc3-56584ddd1cc5.\n",
      "> Parent node text: OTHER ACTIVE COMPOUNDS [0050] Applicant believes other pentapeptides comprised of all-D-amino aci...\n",
      "\n"
     ]
    },
    {
     "data": {
      "text/markdown": [
       "<b>{'prompt_tokens': 2842, 'completion_tokens': 368, 'total_tokens': 3210}</b>"
      ],
      "text/plain": [
       "<IPython.core.display.Markdown object>"
      ]
     },
     "metadata": {},
     "output_type": "display_data"
    },
    {
     "name": "stdout",
     "output_type": "stream",
     "text": [
      "--------------------------------------------------------------------\n",
      "> Merging 2 nodes into parent node.\n",
      "> Parent node id: 0fad0838-0c3c-46b1-b9d0-efc7629134dc.\n",
      "> Parent node text: The claim information:\n",
      "What is claimed is: Claim 1: A method of treatment for non-alcoholic fatty...\n",
      "\n",
      "> Filling in node. Node id: ad852b60-f046-4b3c-a34a-7fcc72ca19f6> Node text: [0051] According to a first aspect of the present invention, there is provided the use of a linea...\n",
      "\n",
      "> Merging 4 nodes into parent node.\n",
      "> Parent node id: af99f16c-549f-46e6-870a-5a484533424c.\n",
      "> Parent node text: OTHER ACTIVE COMPOUNDS [0050] Applicant believes other pentapeptides comprised of all-D-amino aci...\n",
      "\n"
     ]
    },
    {
     "data": {
      "text/markdown": [
       "<b>{'prompt_tokens': 2884, 'completion_tokens': 236, 'total_tokens': 3120}</b>"
      ],
      "text/plain": [
       "<IPython.core.display.Markdown object>"
      ]
     },
     "metadata": {},
     "output_type": "display_data"
    },
    {
     "name": "stdout",
     "output_type": "stream",
     "text": [
      "--------------------------------------------------------------------\n",
      "> Merging 1 nodes into parent node.\n",
      "> Parent node id: 61591d44-4d43-492f-af0a-3173101f741b.\n",
      "> Parent node text: SUBSTITUTE [0057] The use of all-D-amino acids containing peptides related to SEQ_ID_NO_1 that re...\n",
      "\n",
      "> Merging 2 nodes into parent node.\n",
      "> Parent node id: 5d4ebd91-7e69-4a1a-ba70-2ad6e5ab3195.\n",
      "> Parent node text: For example, from their article, \"In contrast to the SUBSTITUTE ½1H EET (RULE 26) \n",
      "\n",
      " change of a ...\n",
      "\n",
      "> Merging 2 nodes into parent node.\n",
      "> Parent node id: b027e056-ed78-41be-8796-6923d87fbcfd.\n",
      "> Parent node text: For example, from their article, \"In contrast to the SUBSTITUTE ½1H EET (RULE 26) \n",
      "\n",
      " change of a ...\n",
      "\n"
     ]
    },
    {
     "data": {
      "text/markdown": [
       "<b>{'prompt_tokens': 3257, 'completion_tokens': 256, 'total_tokens': 3513}</b>"
      ],
      "text/plain": [
       "<IPython.core.display.Markdown object>"
      ]
     },
     "metadata": {},
     "output_type": "display_data"
    },
    {
     "name": "stdout",
     "output_type": "stream",
     "text": [
      "--------------------------------------------------------------------\n",
      "> Merging 2 nodes into parent node.\n",
      "> Parent node id: 857d655e-c132-42da-9bc9-05fde6c6660e.\n",
      "> Parent node text: The claim information:\n",
      "What is claimed is:  Claim 1: A method of treatment for stroke, epilepsy, ...\n",
      "\n",
      "> Merging 1 nodes into parent node.\n",
      "> Parent node id: 803b495a-2bac-44e9-87a5-c5caf25de1b9.\n",
      "> Parent node text: SUBSTITUTE [0057] The use of all-D-amino acids containing peptides related to SEQ_ID_NO_1 that re...\n",
      "\n"
     ]
    },
    {
     "data": {
      "text/markdown": [
       "<b>{'prompt_tokens': 2982, 'completion_tokens': 551, 'total_tokens': 3533}</b>"
      ],
      "text/plain": [
       "<IPython.core.display.Markdown object>"
      ]
     },
     "metadata": {},
     "output_type": "display_data"
    },
    {
     "name": "stdout",
     "output_type": "stream",
     "text": [
      "--------------------------------------------------------------------\n",
      "> Merging 2 nodes into parent node.\n",
      "> Parent node id: 5c4515c7-f1ba-47dc-8ad2-99429db018e1.\n",
      "> Parent node text: The claim information:\n",
      "What is claimed is:  Claim 1: A method of treatment for stroke, epilepsy, ...\n",
      "\n",
      "> Merging 2 nodes into parent node.\n",
      "> Parent node id: a17516c5-6fc2-4e68-8b96-47818cfe6974.\n",
      "> Parent node text: For example, from their article, \"In contrast to the SUBSTITUTE ½1H EET (RULE 26) \n",
      "\n",
      " change of a ...\n",
      "\n",
      "> Merging 1 nodes into parent node.\n",
      "> Parent node id: 49834045-5d46-427b-bc95-f601aa6055e2.\n",
      "> Parent node text: SUBSTITUTE [0057] The use of all-D-amino acids containing peptides related to SEQ_ID_NO_1 that re...\n",
      "\n",
      "> Filling in node. Node id: 6271bdd1-bc32-4daa-8509-58c8fa6d7270> Node text: Stability of peptides in target tissues due to digestive enzymes has limited their broad utility....\n",
      "\n",
      "> Merging 3 nodes into parent node.\n",
      "> Parent node id: 79f70e55-5ff5-49ea-934c-9e7c7f92f344.\n",
      "> Parent node text: For example, from their article, \"In contrast to the SUBSTITUTE ½1H EET (RULE 26) \n",
      "\n",
      " change of a ...\n",
      "\n"
     ]
    },
    {
     "data": {
      "text/markdown": [
       "<b>{'prompt_tokens': 3515, 'completion_tokens': 456, 'total_tokens': 3971}</b>"
      ],
      "text/plain": [
       "<IPython.core.display.Markdown object>"
      ]
     },
     "metadata": {},
     "output_type": "display_data"
    },
    {
     "name": "stdout",
     "output_type": "stream",
     "text": [
      "--------------------------------------------------------------------\n",
      "> Merging 2 nodes into parent node.\n",
      "> Parent node id: 18bd149d-dee6-4831-a55d-d91d5d431ed7.\n",
      "> Parent node text: The claim information:\n",
      "What is claimed is:  Claim 1: A method of treatment for stroke, epilepsy, ...\n",
      "\n",
      "> Merging 1 nodes into parent node.\n",
      "> Parent node id: 6c9d1fee-c36c-44b1-9901-4839a1228699.\n",
      "> Parent node text: SUBSTITUTE [0057] The use of all-D-amino acids containing peptides related to SEQ_ID_NO_1 that re...\n",
      "\n"
     ]
    },
    {
     "data": {
      "text/markdown": [
       "<b>{'prompt_tokens': 2949, 'completion_tokens': 219, 'total_tokens': 3168}</b>"
      ],
      "text/plain": [
       "<IPython.core.display.Markdown object>"
      ]
     },
     "metadata": {},
     "output_type": "display_data"
    },
    {
     "name": "stdout",
     "output_type": "stream",
     "text": [
      "--------------------------------------------------------------------\n",
      "> Merging 2 nodes into parent node.\n",
      "> Parent node id: a09daa22-07d6-4d5c-9f4f-7f9d5d907e68.\n",
      "> Parent node text: The claim information:\n",
      "What is claimed is:  Claim 1: A method of treatment for stroke, epilepsy, ...\n",
      "\n",
      "> Merging 1 nodes into parent node.\n",
      "> Parent node id: 9bca8fb6-7cc2-46fd-ae58-92d9fb2ed66c.\n",
      "> Parent node text: SUBSTITUTE [0057] The use of all-D-amino acids containing peptides related to SEQ_ID_NO_1 that re...\n",
      "\n"
     ]
    },
    {
     "data": {
      "text/markdown": [
       "<b>{'prompt_tokens': 2895, 'completion_tokens': 274, 'total_tokens': 3169}</b>"
      ],
      "text/plain": [
       "<IPython.core.display.Markdown object>"
      ]
     },
     "metadata": {},
     "output_type": "display_data"
    },
    {
     "name": "stdout",
     "output_type": "stream",
     "text": [
      "--------------------------------------------------------------------\n",
      "> Merging 2 nodes into parent node.\n",
      "> Parent node id: 09618210-794d-4bc0-98c9-61ebf8dc8599.\n",
      "> Parent node text: The claim information:\n",
      "What is claimed is:  Claim 1: A method of treatment for stroke, epilepsy, ...\n",
      "\n",
      "> Merging 2 nodes into parent node.\n",
      "> Parent node id: aec21297-2965-4c86-a686-64571b215fe7.\n",
      "> Parent node text: For example, from their article, \"In contrast to the SUBSTITUTE ½1H EET (RULE 26) \n",
      "\n",
      " change of a ...\n",
      "\n",
      "> Merging 1 nodes into parent node.\n",
      "> Parent node id: 360156e2-75f1-4bb0-8b03-2639f0023743.\n",
      "> Parent node text: SUBSTITUTE [0057] The use of all-D-amino acids containing peptides related to SEQ_ID_NO_1 that re...\n",
      "\n",
      "> Filling in node. Node id: ab6fceb2-a55e-4917-b8a4-289ae4890235> Node text: Stability of peptides in target tissues due to digestive enzymes has limited their broad utility....\n",
      "\n",
      "> Merging 3 nodes into parent node.\n",
      "> Parent node id: c4fb0402-cb6f-4822-9113-9156430fe315.\n",
      "> Parent node text: For example, from their article, \"In contrast to the SUBSTITUTE ½1H EET (RULE 26) \n",
      "\n",
      " change of a ...\n",
      "\n"
     ]
    },
    {
     "data": {
      "text/markdown": [
       "<b>{'prompt_tokens': 3515, 'completion_tokens': 497, 'total_tokens': 4012}</b>"
      ],
      "text/plain": [
       "<IPython.core.display.Markdown object>"
      ]
     },
     "metadata": {},
     "output_type": "display_data"
    },
    {
     "name": "stdout",
     "output_type": "stream",
     "text": [
      "--------------------------------------------------------------------\n",
      "> Merging 1 nodes into parent node.\n",
      "> Parent node id: da78eb82-804b-4eef-8158-8f205d0c5e2a.\n",
      "> Parent node text: SUBSTITUTE [0057] The use of all-D-amino acids containing peptides related to SEQ_ID_NO_1 that re...\n",
      "\n"
     ]
    },
    {
     "data": {
      "text/markdown": [
       "<b>{'prompt_tokens': 2663, 'completion_tokens': 422, 'total_tokens': 3085}</b>"
      ],
      "text/plain": [
       "<IPython.core.display.Markdown object>"
      ]
     },
     "metadata": {},
     "output_type": "display_data"
    },
    {
     "name": "stdout",
     "output_type": "stream",
     "text": [
      "--------------------------------------------------------------------\n",
      "> Merging 2 nodes into parent node.\n",
      "> Parent node id: 00d0ecea-367b-46e4-a6b8-0f9bdb91a2cc.\n",
      "> Parent node text: The claim information:\n",
      "What is claimed is:  Claim 1: A method of treatment for stroke, epilepsy, ...\n",
      "\n",
      "> Merging 1 nodes into parent node.\n",
      "> Parent node id: e9aa37ad-c5e9-46df-ac22-769514b32d4b.\n",
      "> Parent node text: SUBSTITUTE [0057] The use of all-D-amino acids containing peptides related to SEQ_ID_NO_1 that re...\n",
      "\n",
      "> Merging 2 nodes into parent node.\n",
      "> Parent node id: 50da14ed-cec2-4f4f-b63a-a98b2ecc1ea9.\n",
      "> Parent node text: For example, from their article, \"In contrast to the SUBSTITUTE ½1H EET (RULE 26) \n",
      "\n",
      " change of a ...\n",
      "\n",
      "> Merging 2 nodes into parent node.\n",
      "> Parent node id: 28ecaa65-230c-4de0-821a-beb596d40ede.\n",
      "> Parent node text: For example, from their article, \"In contrast to the SUBSTITUTE ½1H EET (RULE 26) \n",
      "\n",
      " change of a ...\n",
      "\n"
     ]
    },
    {
     "data": {
      "text/markdown": [
       "<b>{'prompt_tokens': 3479, 'completion_tokens': 410, 'total_tokens': 3889}</b>"
      ],
      "text/plain": [
       "<IPython.core.display.Markdown object>"
      ]
     },
     "metadata": {},
     "output_type": "display_data"
    },
    {
     "name": "stdout",
     "output_type": "stream",
     "text": [
      "--------------------------------------------------------------------\n",
      "> Merging 2 nodes into parent node.\n",
      "> Parent node id: a4e87be7-3ba0-4b3d-8bb8-f365d293748a.\n",
      "> Parent node text: The claim information:\n",
      "What is claimed is:  Claim 1: A method of treatment for stroke, epilepsy, ...\n",
      "\n",
      "> Merging 2 nodes into parent node.\n",
      "> Parent node id: 9a35befe-6356-45de-bf09-b519ab01bb03.\n",
      "> Parent node text: For example, from their article, \"In contrast to the SUBSTITUTE ½1H EET (RULE 26) \n",
      "\n",
      " change of a ...\n",
      "\n",
      "> Merging 1 nodes into parent node.\n",
      "> Parent node id: fcf4e1bc-5276-4ab9-9a13-9d8128f0d681.\n",
      "> Parent node text: SUBSTITUTE [0057] The use of all-D-amino acids containing peptides related to SEQ_ID_NO_1 that re...\n",
      "\n",
      "> Filling in node. Node id: cd546e23-7881-4c8c-af9d-9580212b4b8f> Node text: Stability of peptides in target tissues due to digestive enzymes has limited their broad utility....\n",
      "\n",
      "> Merging 3 nodes into parent node.\n",
      "> Parent node id: c192a6a3-4cb1-4edf-b3b1-382cb5a3cd26.\n",
      "> Parent node text: For example, from their article, \"In contrast to the SUBSTITUTE ½1H EET (RULE 26) \n",
      "\n",
      " change of a ...\n",
      "\n"
     ]
    },
    {
     "data": {
      "text/markdown": [
       "<b>{'prompt_tokens': 3515, 'completion_tokens': 649, 'total_tokens': 4164}</b>"
      ],
      "text/plain": [
       "<IPython.core.display.Markdown object>"
      ]
     },
     "metadata": {},
     "output_type": "display_data"
    },
    {
     "name": "stdout",
     "output_type": "stream",
     "text": [
      "--------------------------------------------------------------------\n",
      "> Merging 1 nodes into parent node.\n",
      "> Parent node id: 9480ccb6-b928-44db-91d5-9d799f72b4dc.\n",
      "> Parent node text: SUBSTITUTE [0057] The use of all-D-amino acids containing peptides related to SEQ_ID_NO_1 that re...\n",
      "\n"
     ]
    },
    {
     "data": {
      "text/markdown": [
       "<b>{'prompt_tokens': 2637, 'completion_tokens': 341, 'total_tokens': 2978}</b>"
      ],
      "text/plain": [
       "<IPython.core.display.Markdown object>"
      ]
     },
     "metadata": {},
     "output_type": "display_data"
    },
    {
     "name": "stdout",
     "output_type": "stream",
     "text": [
      "--------------------------------------------------------------------\n",
      "> Merging 1 nodes into parent node.\n",
      "> Parent node id: 1d4df5c0-59d8-4a5c-a2e3-176e25317b6b.\n",
      "> Parent node text: SUBSTITUTE [0057] The use of all-D-amino acids containing peptides related to SEQ_ID_NO_1 that re...\n",
      "\n",
      "> Merging 2 nodes into parent node.\n",
      "> Parent node id: 4ecfb424-39a4-4e70-b1b4-a320c171da9e.\n",
      "> Parent node text: For example, from their article, \"In contrast to the SUBSTITUTE ½1H EET (RULE 26) \n",
      "\n",
      " change of a ...\n",
      "\n",
      "> Merging 2 nodes into parent node.\n",
      "> Parent node id: e4be375a-ad18-46d2-90a4-6ac3d88e270b.\n",
      "> Parent node text: For example, from their article, \"In contrast to the SUBSTITUTE ½1H EET (RULE 26) \n",
      "\n",
      " change of a ...\n",
      "\n"
     ]
    },
    {
     "data": {
      "text/markdown": [
       "<b>{'prompt_tokens': 3253, 'completion_tokens': 385, 'total_tokens': 3638}</b>"
      ],
      "text/plain": [
       "<IPython.core.display.Markdown object>"
      ]
     },
     "metadata": {},
     "output_type": "display_data"
    },
    {
     "name": "stdout",
     "output_type": "stream",
     "text": [
      "--------------------------------------------------------------------\n",
      "> Merging 2 nodes into parent node.\n",
      "> Parent node id: 0460669c-8547-4f07-a9a2-885e623cce2b.\n",
      "> Parent node text: The claim information:\n",
      "What is claimed is:  Claim 1: A method of treatment for stroke, epilepsy, ...\n",
      "\n",
      "> Merging 1 nodes into parent node.\n",
      "> Parent node id: b58847d5-0908-4b28-803c-043878f4e7f6.\n",
      "> Parent node text: SUBSTITUTE [0057] The use of all-D-amino acids containing peptides related to SEQ_ID_NO_1 that re...\n",
      "\n"
     ]
    },
    {
     "data": {
      "text/markdown": [
       "<b>{'prompt_tokens': 2895, 'completion_tokens': 520, 'total_tokens': 3415}</b>"
      ],
      "text/plain": [
       "<IPython.core.display.Markdown object>"
      ]
     },
     "metadata": {},
     "output_type": "display_data"
    },
    {
     "name": "stdout",
     "output_type": "stream",
     "text": [
      "--------------------------------------------------------------------\n",
      "> Merging 2 nodes into parent node.\n",
      "> Parent node id: 7f282489-1b06-4c43-a282-845046b6a708.\n",
      "> Parent node text: The claim information:\n",
      "What is claimed is:  Claim 1: A method of treatment for stroke, epilepsy, ...\n",
      "\n",
      "> Merging 1 nodes into parent node.\n",
      "> Parent node id: c7b97c11-ecbd-4820-ac92-d2a7bed4a053.\n",
      "> Parent node text: SUBSTITUTE [0057] The use of all-D-amino acids containing peptides related to SEQ_ID_NO_1 that re...\n",
      "\n"
     ]
    },
    {
     "data": {
      "text/markdown": [
       "<b>{'prompt_tokens': 2895, 'completion_tokens': 430, 'total_tokens': 3325}</b>"
      ],
      "text/plain": [
       "<IPython.core.display.Markdown object>"
      ]
     },
     "metadata": {},
     "output_type": "display_data"
    },
    {
     "name": "stdout",
     "output_type": "stream",
     "text": [
      "--------------------------------------------------------------------\n",
      "> Merging 2 nodes into parent node.\n",
      "> Parent node id: 42fda0ba-77ee-4d8b-a6c8-0cc6ea897898.\n",
      "> Parent node text: Claim 5: The method as defined in claim 1 wherein E may be esterified, glycosylated, or amidated ...\n",
      "\n",
      "> Merging 2 nodes into parent node.\n",
      "> Parent node id: dfc82466-fd5a-4dd6-a55a-092149b37df3.\n",
      "> Parent node text: Stability of peptides in target tissues due to digestive enzymes has limited their broad utility....\n",
      "\n",
      "> Merging 1 nodes into parent node.\n",
      "> Parent node id: a2e21bea-37ae-4f4c-aa87-2df79c0f098e.\n",
      "> Parent node text: SUBSTITUTE [0057] The use of all-D-amino acids containing peptides related to SEQ_ID_NO_1 that re...\n",
      "\n",
      "> Merging 2 nodes into parent node.\n",
      "> Parent node id: 9854540a-5644-4ece-991f-49419a1eb876.\n",
      "> Parent node text: For example, from their article, \"In contrast to the SUBSTITUTE ½1H EET (RULE 26) \n",
      "\n",
      " change of a ...\n",
      "\n"
     ]
    },
    {
     "data": {
      "text/markdown": [
       "<b>{'prompt_tokens': 3499, 'completion_tokens': 610, 'total_tokens': 4109}</b>"
      ],
      "text/plain": [
       "<IPython.core.display.Markdown object>"
      ]
     },
     "metadata": {},
     "output_type": "display_data"
    },
    {
     "name": "stdout",
     "output_type": "stream",
     "text": [
      "--------------------------------------------------------------------\n",
      "> Merging 2 nodes into parent node.\n",
      "> Parent node id: 31898e33-ae3d-466f-8056-8233fde1176e.\n",
      "> Parent node text: [0042] The bioactivity of a receptor active all-D peptide is an unexpected and non- obvious aspec...\n",
      "\n",
      "> Merging 1 nodes into parent node.\n",
      "> Parent node id: 9a61ef6b-52fa-4fd9-af1f-0a4d961f4d5a.\n",
      "> Parent node text: SUBSTITUTE [0057] The use of all-D-amino acids containing peptides related to SEQ_ID_NO_1 that re...\n",
      "\n"
     ]
    },
    {
     "data": {
      "text/markdown": [
       "<b>{'prompt_tokens': 2450, 'completion_tokens': 208, 'total_tokens': 2658}</b>"
      ],
      "text/plain": [
       "<IPython.core.display.Markdown object>"
      ]
     },
     "metadata": {},
     "output_type": "display_data"
    },
    {
     "name": "stdout",
     "output_type": "stream",
     "text": [
      "--------------------------------------------------------------------\n",
      "> Merging 2 nodes into parent node.\n",
      "> Parent node id: 70a06a2a-3e45-4daa-a6f7-887c5da97db1.\n",
      "> Parent node text: 588, 589, 590, 591, 592, 593, 594, 595, 596, 597, 598, 599, 600, 601, 602, 603, 604, 605, 606, 60...\n",
      "\n"
     ]
    },
    {
     "data": {
      "text/markdown": [
       "<b>{'prompt_tokens': 3072, 'completion_tokens': 296, 'total_tokens': 3368}</b>"
      ],
      "text/plain": [
       "<IPython.core.display.Markdown object>"
      ]
     },
     "metadata": {},
     "output_type": "display_data"
    },
    {
     "name": "stdout",
     "output_type": "stream",
     "text": [
      "--------------------------------------------------------------------\n",
      "> Merging 2 nodes into parent node.\n",
      "> Parent node id: 51bb12e0-a3c5-47c7-8ddf-0d5bb4736fc2.\n",
      "> Parent node text: GCPPFDEHKCLAEGGKIMKIPGTCCDTC EEPECNDITARLQYVKVGSCKSEVEVDIHYCQGKCASKAMYSIDINDVQDQCSCCSP TRTEPMQ V ...\n",
      "\n"
     ]
    },
    {
     "data": {
      "text/markdown": [
       "<b>{'prompt_tokens': 3063, 'completion_tokens': 252, 'total_tokens': 3315}</b>"
      ],
      "text/plain": [
       "<IPython.core.display.Markdown object>"
      ]
     },
     "metadata": {},
     "output_type": "display_data"
    },
    {
     "name": "stdout",
     "output_type": "stream",
     "text": [
      "--------------------------------------------------------------------\n",
      "> Merging 2 nodes into parent node.\n",
      "> Parent node id: 825c0908-066c-45f0-8976-4ff673940ac7.\n",
      "> Parent node text: [0142] Exemplary P1GF-2 ECM affinity peptides include: RRRPKGRGKRRREKQRPTDCHLCGDAVPRR (SEQ_ID_NO_...\n",
      "\n"
     ]
    },
    {
     "data": {
      "text/markdown": [
       "<b>{'prompt_tokens': 3199, 'completion_tokens': 319, 'total_tokens': 3518}</b>"
      ],
      "text/plain": [
       "<IPython.core.display.Markdown object>"
      ]
     },
     "metadata": {},
     "output_type": "display_data"
    },
    {
     "name": "stdout",
     "output_type": "stream",
     "text": [
      "--------------------------------------------------------------------\n",
      "> Merging 2 nodes into parent node.\n",
      "> Parent node id: 00f1e8d4-fec3-4995-8fd8-a152bc3aaa40.\n",
      "> Parent node text: [0142] Exemplary P1GF-2 ECM affinity peptides include: RRRPKGRGKRRREKQRPTDCHLCGDAVPRR (SEQ_ID_NO_...\n",
      "\n"
     ]
    },
    {
     "data": {
      "text/markdown": [
       "<b>{'prompt_tokens': 3317, 'completion_tokens': 226, 'total_tokens': 3543}</b>"
      ],
      "text/plain": [
       "<IPython.core.display.Markdown object>"
      ]
     },
     "metadata": {},
     "output_type": "display_data"
    },
    {
     "name": "stdout",
     "output_type": "stream",
     "text": [
      "--------------------------------------------------------------------\n",
      "> Merging 2 nodes into parent node.\n",
      "> Parent node id: e3ceb913-2f02-4594-824e-99fe39d5e509.\n",
      "> Parent node text: [0142] Exemplary P1GF-2 ECM affinity peptides include: RRRPKGRGKRRREKQRPTDCHLCGDAVPRR (SEQ_ID_NO_...\n",
      "\n"
     ]
    },
    {
     "data": {
      "text/markdown": [
       "<b>{'prompt_tokens': 3185, 'completion_tokens': 383, 'total_tokens': 3568}</b>"
      ],
      "text/plain": [
       "<IPython.core.display.Markdown object>"
      ]
     },
     "metadata": {},
     "output_type": "display_data"
    },
    {
     "name": "stdout",
     "output_type": "stream",
     "text": [
      "--------------------------------------------------------------------\n",
      "> Merging 2 nodes into parent node.\n",
      "> Parent node id: fe21d9a7-e47c-440f-a560-068884ad7302.\n",
      "> Parent node text: 12. The composition of claim 1 or 2, wherein the anti-inflammatory agent comprises a polypeptide ...\n",
      "\n",
      "> Merging 2 nodes into parent node.\n",
      "> Parent node id: 15cb4d15-97b8-4b6d-b486-da86500103ea.\n",
      "> Parent node text: [0142] Exemplary P1GF-2 ECM affinity peptides include: RRRPKGRGKRRREKQRPTDCHLCGDAVPRR (SEQ_ID_NO_...\n",
      "\n",
      "> Merging 2 nodes into parent node.\n",
      "> Parent node id: b264ab38-4e53-48c4-9ed2-b576703e3d1d.\n",
      "> Parent node text: GCPPFDEHKCLAEGGKIMKIPGTCCDTC EEPECNDITARLQYVKVGSCKSEVEVDIHYCQGKCASKAMYSIDINDVQDQCSCCSP TRTEPMQ V ...\n",
      "\n",
      "> Merging 2 nodes into parent node.\n",
      "> Parent node id: 6f4fa24a-66f3-48cc-a106-b1a58ab54ce6.\n",
      "> Parent node text: GCPPFDEHKCLAEGGKIMKIPGTCCDTC EEPECNDITARLQYVKVGSCKSEVEVDIHYCQGKCASKAMYSIDINDVQDQCSCCSP TRTEPMQ V ...\n",
      "\n"
     ]
    },
    {
     "data": {
      "text/markdown": [
       "<b>{'prompt_tokens': 3249, 'completion_tokens': 1073, 'total_tokens': 4322}</b>"
      ],
      "text/plain": [
       "<IPython.core.display.Markdown object>"
      ]
     },
     "metadata": {},
     "output_type": "display_data"
    },
    {
     "name": "stdout",
     "output_type": "stream",
     "text": [
      "--------------------------------------------------------------------\n",
      "> Merging 2 nodes into parent node.\n",
      "> Parent node id: 43b21de2-2519-4c56-9487-841f52f98f01.\n",
      "> Parent node text: [0142] Exemplary P1GF-2 ECM affinity peptides include: RRRPKGRGKRRREKQRPTDCHLCGDAVPRR (SEQ_ID_NO_...\n",
      "\n"
     ]
    },
    {
     "data": {
      "text/markdown": [
       "<b>{'prompt_tokens': 3037, 'completion_tokens': 449, 'total_tokens': 3486}</b>"
      ],
      "text/plain": [
       "<IPython.core.display.Markdown object>"
      ]
     },
     "metadata": {},
     "output_type": "display_data"
    },
    {
     "name": "stdout",
     "output_type": "stream",
     "text": [
      "--------------------------------------------------------------------\n",
      "> Merging 2 nodes into parent node.\n",
      "> Parent node id: 3068bbcc-e513-44bc-8809-df1c9510f99b.\n",
      "> Parent node text: GCPPFDEHKCLAEGGKIMKIPGTCCDTC EEPECNDITARLQYVKVGSCKSEVEVDIHYCQGKCASKAMYSIDINDVQDQCSCCSP TRTEPMQ V ...\n",
      "\n",
      "> Merging 2 nodes into parent node.\n",
      "> Parent node id: 6b6f39a0-ce91-44ea-a55d-24ee2254e336.\n",
      "> Parent node text: [0142] Exemplary P1GF-2 ECM affinity peptides include: RRRPKGRGKRRREKQRPTDCHLCGDAVPRR (SEQ_ID_NO_...\n",
      "\n",
      "> Merging 2 nodes into parent node.\n",
      "> Parent node id: 0955c5b0-a804-4583-b4d1-036e8aa89dde.\n",
      "> Parent node text: GCPPFDEHKCLAEGGKIMKIPGTCCDTC EEPECNDITARLQYVKVGSCKSEVEVDIHYCQGKCASKAMYSIDINDVQDQCSCCSP TRTEPMQ V ...\n",
      "\n"
     ]
    },
    {
     "data": {
      "text/markdown": [
       "<b>{'prompt_tokens': 2934, 'completion_tokens': 269, 'total_tokens': 3203}</b>"
      ],
      "text/plain": [
       "<IPython.core.display.Markdown object>"
      ]
     },
     "metadata": {},
     "output_type": "display_data"
    },
    {
     "name": "stdout",
     "output_type": "stream",
     "text": [
      "--------------------------------------------------------------------\n",
      "> Merging 2 nodes into parent node.\n",
      "> Parent node id: f85bd854-0c1b-4873-8f0b-ba7c3be4e5e4.\n",
      "> Parent node text: [0142] Exemplary P1GF-2 ECM affinity peptides include: RRRPKGRGKRRREKQRPTDCHLCGDAVPRR (SEQ_ID_NO_...\n",
      "\n"
     ]
    },
    {
     "data": {
      "text/markdown": [
       "<b>{'prompt_tokens': 3101, 'completion_tokens': 373, 'total_tokens': 3474}</b>"
      ],
      "text/plain": [
       "<IPython.core.display.Markdown object>"
      ]
     },
     "metadata": {},
     "output_type": "display_data"
    },
    {
     "name": "stdout",
     "output_type": "stream",
     "text": [
      "--------------------------------------------------------------------\n",
      "> Filling in node. Node id: 5b491306-a9bf-4556-a2bf-e48c9206bf95> Node text: [0140] In some embodiments, the peptide is from the vWF A3 domain. The vWF A3 domain is derived f...\n",
      "\n",
      "> Merging 3 nodes into parent node.\n",
      "> Parent node id: 2445fbb6-626f-41cc-b6d2-a8e68c1de491.\n",
      "> Parent node text: GCPPFDEHKCLAEGGKIMKIPGTCCDTC EEPECNDITARLQYVKVGSCKSEVEVDIHYCQGKCASKAMYSIDINDVQDQCSCCSP TRTEPMQ V ...\n",
      "\n"
     ]
    },
    {
     "data": {
      "text/markdown": [
       "<b>{'prompt_tokens': 3214, 'completion_tokens': 597, 'total_tokens': 3811}</b>"
      ],
      "text/plain": [
       "<IPython.core.display.Markdown object>"
      ]
     },
     "metadata": {},
     "output_type": "display_data"
    },
    {
     "name": "stdout",
     "output_type": "stream",
     "text": [
      "--------------------------------------------------------------------\n"
     ]
    },
    {
     "data": {
      "text/markdown": [
       "<b>{'prompt_tokens': 2968, 'completion_tokens': 485, 'total_tokens': 3453}</b>"
      ],
      "text/plain": [
       "<IPython.core.display.Markdown object>"
      ]
     },
     "metadata": {},
     "output_type": "display_data"
    },
    {
     "name": "stdout",
     "output_type": "stream",
     "text": [
      "--------------------------------------------------------------------\n",
      "> Merging 2 nodes into parent node.\n",
      "> Parent node id: 088e4840-f6da-411e-aa52-7a2b8a6df7a4.\n",
      "> Parent node text: 588, 589, 590, 591, 592, 593, 594, 595, 596, 597, 598, 599, 600, 601, 602, 603, 604, 605, 606, 60...\n",
      "\n"
     ]
    },
    {
     "data": {
      "text/markdown": [
       "<b>{'prompt_tokens': 3103, 'completion_tokens': 274, 'total_tokens': 3377}</b>"
      ],
      "text/plain": [
       "<IPython.core.display.Markdown object>"
      ]
     },
     "metadata": {},
     "output_type": "display_data"
    },
    {
     "name": "stdout",
     "output_type": "stream",
     "text": [
      "--------------------------------------------------------------------\n",
      "> Merging 2 nodes into parent node.\n",
      "> Parent node id: ba8dd80f-a690-42f5-a111-f0e59a2b9247.\n",
      "> Parent node text: 588, 589, 590, 591, 592, 593, 594, 595, 596, 597, 598, 599, 600, 601, 602, 603, 604, 605, 606, 60...\n",
      "\n"
     ]
    },
    {
     "data": {
      "text/markdown": [
       "<b>{'prompt_tokens': 3256, 'completion_tokens': 418, 'total_tokens': 3674}</b>"
      ],
      "text/plain": [
       "<IPython.core.display.Markdown object>"
      ]
     },
     "metadata": {},
     "output_type": "display_data"
    },
    {
     "name": "stdout",
     "output_type": "stream",
     "text": [
      "--------------------------------------------------------------------\n",
      "> Merging 2 nodes into parent node.\n",
      "> Parent node id: 547bf610-198b-431e-b0f8-4946682705a3.\n",
      "> Parent node text: 588, 589, 590, 591, 592, 593, 594, 595, 596, 597, 598, 599, 600, 601, 602, 603, 604, 605, 606, 60...\n",
      "\n"
     ]
    },
    {
     "data": {
      "text/markdown": [
       "<b>{'prompt_tokens': 3154, 'completion_tokens': 510, 'total_tokens': 3664}</b>"
      ],
      "text/plain": [
       "<IPython.core.display.Markdown object>"
      ]
     },
     "metadata": {},
     "output_type": "display_data"
    },
    {
     "name": "stdout",
     "output_type": "stream",
     "text": [
      "--------------------------------------------------------------------\n",
      "> Filling in node. Node id: 2db7c7f3-bb62-40af-9153-3ee80560a949> Node text: [0140] In some embodiments, the peptide is from the vWF A3 domain. The vWF A3 domain is derived f...\n",
      "\n",
      "> Merging 3 nodes into parent node.\n",
      "> Parent node id: 9c3a5db0-b7e9-4d8d-8edb-95516ee926b1.\n",
      "> Parent node text: GCPPFDEHKCLAEGGKIMKIPGTCCDTC EEPECNDITARLQYVKVGSCKSEVEVDIHYCQGKCASKAMYSIDINDVQDQCSCCSP TRTEPMQ V ...\n",
      "\n"
     ]
    },
    {
     "data": {
      "text/markdown": [
       "<b>{'prompt_tokens': 3102, 'completion_tokens': 334, 'total_tokens': 3436}</b>"
      ],
      "text/plain": [
       "<IPython.core.display.Markdown object>"
      ]
     },
     "metadata": {},
     "output_type": "display_data"
    },
    {
     "name": "stdout",
     "output_type": "stream",
     "text": [
      "--------------------------------------------------------------------\n",
      "> Merging 2 nodes into parent node.\n",
      "> Parent node id: 9b25d8e8-2cde-4650-9d42-8751cef8e826.\n",
      "> Parent node text: Thus, there is a medical need to find a pharmaceutical agent that shows a high efficacy in the tr...\n",
      "\n"
     ]
    },
    {
     "data": {
      "text/markdown": [
       "<b>{'prompt_tokens': 3251, 'completion_tokens': 449, 'total_tokens': 3700}</b>"
      ],
      "text/plain": [
       "<IPython.core.display.Markdown object>"
      ]
     },
     "metadata": {},
     "output_type": "display_data"
    },
    {
     "name": "stdout",
     "output_type": "stream",
     "text": [
      "--------------------------------------------------------------------\n",
      "> Merging 2 nodes into parent node.\n",
      "> Parent node id: 55c99eb9-9ddf-4773-9a29-baf69e4ab4b1.\n",
      "> Parent node text: The amino acid sequences of human relaxin are (from the N- to the C-terminus), as of GenelD 6013 ...\n",
      "\n"
     ]
    },
    {
     "data": {
      "text/markdown": [
       "<b>{'prompt_tokens': 3335, 'completion_tokens': 312, 'total_tokens': 3647}</b>"
      ],
      "text/plain": [
       "<IPython.core.display.Markdown object>"
      ]
     },
     "metadata": {},
     "output_type": "display_data"
    },
    {
     "name": "stdout",
     "output_type": "stream",
     "text": [
      "--------------------------------------------------------------------\n",
      "> Merging 2 nodes into parent node.\n",
      "> Parent node id: f8a61d31-9fff-4c38-861d-d41e2c012ca8.\n",
      "> Parent node text: The amino acid sequences of human relaxin are (from the N- to the C-terminus), as of GenelD 6013 ...\n",
      "\n"
     ]
    },
    {
     "data": {
      "text/markdown": [
       "<b>{'prompt_tokens': 3285, 'completion_tokens': 244, 'total_tokens': 3529}</b>"
      ],
      "text/plain": [
       "<IPython.core.display.Markdown object>"
      ]
     },
     "metadata": {},
     "output_type": "display_data"
    },
    {
     "name": "stdout",
     "output_type": "stream",
     "text": [
      "--------------------------------------------------------------------\n",
      "> Merging 2 nodes into parent node.\n",
      "> Parent node id: 4addb849-73ff-42e5-a38f-37403cc7ba61.\n",
      "> Parent node text: The amino acid sequence of human IFN-y is (from the N- to the C-terminus), as of GenelD 3458 and ...\n",
      "\n",
      "> Merging 2 nodes into parent node.\n",
      "> Parent node id: 8b002cee-6d36-45ef-94d7-aad723934d15.\n",
      "> Parent node text: The amino acid sequences of human relaxin are (from the N- to the C-terminus), as of GenelD 6013 ...\n",
      "\n"
     ]
    },
    {
     "data": {
      "text/markdown": [
       "<b>{'prompt_tokens': 3382, 'completion_tokens': 319, 'total_tokens': 3701}</b>"
      ],
      "text/plain": [
       "<IPython.core.display.Markdown object>"
      ]
     },
     "metadata": {},
     "output_type": "display_data"
    },
    {
     "name": "stdout",
     "output_type": "stream",
     "text": [
      "--------------------------------------------------------------------\n",
      "> Merging 2 nodes into parent node.\n",
      "> Parent node id: 2119a5d0-e60c-40a2-a4d9-28db630de050.\n",
      "> Parent node text: In detail, the present application refers to a human anti-inflammatory peptide according to the i...\n",
      "\n",
      "> Merging 2 nodes into parent node.\n",
      "> Parent node id: 6f950a02-1b4a-439c-b1b4-8e2f100556ed.\n",
      "> Parent node text: The amino acid sequence of human IFN-y is (from the N- to the C-terminus), as of GenelD 3458 and ...\n",
      "\n",
      "> Merging 2 nodes into parent node.\n",
      "> Parent node id: 538d5054-c9d8-41a0-b29a-655331db3f46.\n",
      "> Parent node text: The amino acid sequences of human relaxin are (from the N- to the C-terminus), as of GenelD 6013 ...\n",
      "\n"
     ]
    },
    {
     "data": {
      "text/markdown": [
       "<b>{'prompt_tokens': 3433, 'completion_tokens': 376, 'total_tokens': 3809}</b>"
      ],
      "text/plain": [
       "<IPython.core.display.Markdown object>"
      ]
     },
     "metadata": {},
     "output_type": "display_data"
    },
    {
     "name": "stdout",
     "output_type": "stream",
     "text": [
      "--------------------------------------------------------------------\n",
      "> Merging 2 nodes into parent node.\n",
      "> Parent node id: a2834910-7dbb-4898-95fe-f10a37ec3e95.\n",
      "> Parent node text: The amino acid sequence of human IFN-y is (from the N- to the C-terminus), as of GenelD 3458 and ...\n",
      "\n",
      "> Merging 2 nodes into parent node.\n",
      "> Parent node id: 675899b6-f7e0-4fa1-9ac4-d4cbbb1187ab.\n",
      "> Parent node text: The amino acid sequences of human relaxin are (from the N- to the C-terminus), as of GenelD 6013 ...\n",
      "\n"
     ]
    },
    {
     "data": {
      "text/markdown": [
       "<b>{'prompt_tokens': 3166, 'completion_tokens': 327, 'total_tokens': 3493}</b>"
      ],
      "text/plain": [
       "<IPython.core.display.Markdown object>"
      ]
     },
     "metadata": {},
     "output_type": "display_data"
    },
    {
     "name": "stdout",
     "output_type": "stream",
     "text": [
      "--------------------------------------------------------------------\n",
      "> Merging 3 nodes into parent node.\n",
      "> Parent node id: 453b9b4c-01a7-46fb-962e-954c91d56f63.\n",
      "> Parent node text: The amino acid sequences of human relaxin are (from the N- to the C-terminus), as of GenelD 6013 ...\n",
      "\n"
     ]
    },
    {
     "data": {
      "text/markdown": [
       "<b>{'prompt_tokens': 2997, 'completion_tokens': 661, 'total_tokens': 3658}</b>"
      ],
      "text/plain": [
       "<IPython.core.display.Markdown object>"
      ]
     },
     "metadata": {},
     "output_type": "display_data"
    },
    {
     "name": "stdout",
     "output_type": "stream",
     "text": [
      "--------------------------------------------------------------------\n",
      "> Merging 3 nodes into parent node.\n",
      "> Parent node id: 015dd746-5df4-42b9-a42f-030c07828c45.\n",
      "> Parent node text: The amino acid sequences of human relaxin are (from the N- to the C-terminus), as of GenelD 6013 ...\n",
      "\n"
     ]
    },
    {
     "data": {
      "text/markdown": [
       "<b>{'prompt_tokens': 3004, 'completion_tokens': 262, 'total_tokens': 3266}</b>"
      ],
      "text/plain": [
       "<IPython.core.display.Markdown object>"
      ]
     },
     "metadata": {},
     "output_type": "display_data"
    },
    {
     "name": "stdout",
     "output_type": "stream",
     "text": [
      "--------------------------------------------------------------------\n",
      "> Merging 2 nodes into parent node.\n",
      "> Parent node id: 46f39e44-cd31-4fce-b110-70da0d5b2332.\n",
      "> Parent node text: The amino acid sequences of human relaxin are (from the N- to the C-terminus), as of GenelD 6013 ...\n",
      "\n"
     ]
    },
    {
     "data": {
      "text/markdown": [
       "<b>{'prompt_tokens': 3306, 'completion_tokens': 419, 'total_tokens': 3725}</b>"
      ],
      "text/plain": [
       "<IPython.core.display.Markdown object>"
      ]
     },
     "metadata": {},
     "output_type": "display_data"
    },
    {
     "name": "stdout",
     "output_type": "stream",
     "text": [
      "--------------------------------------------------------------------\n",
      "> Merging 2 nodes into parent node.\n",
      "> Parent node id: 23f34880-702c-4b76-a0a1-2bb924575cd9.\n",
      "> Parent node text: The amino acid sequences of human relaxin are (from the N- to the C-terminus), as of GenelD 6013 ...\n",
      "\n",
      "> Merging 2 nodes into parent node.\n",
      "> Parent node id: b9f3c0e1-c4cc-4289-81d7-73e542b858cd.\n",
      "> Parent node text: The amino acid sequence of human IFN-y is (from the N- to the C-terminus), as of GenelD 3458 and ...\n",
      "\n"
     ]
    },
    {
     "data": {
      "text/markdown": [
       "<b>{'prompt_tokens': 3407, 'completion_tokens': 292, 'total_tokens': 3699}</b>"
      ],
      "text/plain": [
       "<IPython.core.display.Markdown object>"
      ]
     },
     "metadata": {},
     "output_type": "display_data"
    },
    {
     "name": "stdout",
     "output_type": "stream",
     "text": [
      "--------------------------------------------------------------------\n",
      "> Merging 2 nodes into parent node.\n",
      "> Parent node id: 60d35bad-4ae5-4582-99a9-e5d90bbea3d0.\n",
      "> Parent node text: The amino acid sequence of human IFN-y is (from the N- to the C-terminus), as of GenelD 3458 and ...\n",
      "\n",
      "> Merging 2 nodes into parent node.\n",
      "> Parent node id: 60dc5e57-60e0-4ce1-a4b9-0484aabbda15.\n",
      "> Parent node text: The amino acid sequences of human relaxin are (from the N- to the C-terminus), as of GenelD 6013 ...\n",
      "\n"
     ]
    },
    {
     "data": {
      "text/markdown": [
       "<b>{'prompt_tokens': 3335, 'completion_tokens': 130, 'total_tokens': 3465}</b>"
      ],
      "text/plain": [
       "<IPython.core.display.Markdown object>"
      ]
     },
     "metadata": {},
     "output_type": "display_data"
    },
    {
     "name": "stdout",
     "output_type": "stream",
     "text": [
      "--------------------------------------------------------------------\n",
      "> Merging 2 nodes into parent node.\n",
      "> Parent node id: ab1782a1-7bc1-4cd7-866c-f7b811f3ec69.\n",
      "> Parent node text: The amino acid sequences of human relaxin are (from the N- to the C-terminus), as of GenelD 6013 ...\n",
      "\n"
     ]
    },
    {
     "data": {
      "text/markdown": [
       "<b>{'prompt_tokens': 3341, 'completion_tokens': 207, 'total_tokens': 3548}</b>"
      ],
      "text/plain": [
       "<IPython.core.display.Markdown object>"
      ]
     },
     "metadata": {},
     "output_type": "display_data"
    },
    {
     "name": "stdout",
     "output_type": "stream",
     "text": [
      "--------------------------------------------------------------------\n",
      "> Merging 2 nodes into parent node.\n",
      "> Parent node id: 536a93ae-cb83-4c5d-8977-0f07ce272762.\n",
      "> Parent node text: The claim information:\n",
      "An anti-inflammatory peptide comprising at least one selected from the gro...\n",
      "\n",
      "> Merging 1 nodes into parent node.\n",
      "> Parent node id: a8a511bb-46f9-4754-b66a-f72fd95e4d0d.\n",
      "> Parent node text: The claim information:\n",
      "An anti-inflammatory peptide comprising at least one selected from the gro...\n",
      "\n",
      "> Merging 2 nodes into parent node.\n",
      "> Parent node id: 28e60384-db41-45ec-a615-02773ac29aea.\n",
      "> Parent node text: However, the present application may not be limited to these embodiments and examples and drawing...\n",
      "\n"
     ]
    },
    {
     "data": {
      "text/markdown": [
       "<b>{'prompt_tokens': 3228, 'completion_tokens': 240, 'total_tokens': 3468}</b>"
      ],
      "text/plain": [
       "<IPython.core.display.Markdown object>"
      ]
     },
     "metadata": {},
     "output_type": "display_data"
    },
    {
     "name": "stdout",
     "output_type": "stream",
     "text": [
      "--------------------------------------------------------------------\n",
      "> Merging 2 nodes into parent node.\n",
      "> Parent node id: cd617c72-2389-4b49-8906-25c5dad0a3c8.\n",
      "> Parent node text: The claim information:\n",
      "An anti-inflammatory peptide comprising at least one selected from the gro...\n",
      "\n",
      "> Merging 1 nodes into parent node.\n",
      "> Parent node id: 8ffaf6ba-f5bf-4b21-847f-68550a93f25a.\n",
      "> Parent node text: The claim information:\n",
      "An anti-inflammatory peptide comprising at least one selected from the gro...\n",
      "\n",
      "> Merging 2 nodes into parent node.\n",
      "> Parent node id: 4e5c96aa-7af4-4a0b-a9d5-f5be25500f3e.\n",
      "> Parent node text: However, the present application may not be limited to these embodiments and examples and drawing...\n",
      "\n"
     ]
    },
    {
     "data": {
      "text/markdown": [
       "<b>{'prompt_tokens': 3026, 'completion_tokens': 265, 'total_tokens': 3291}</b>"
      ],
      "text/plain": [
       "<IPython.core.display.Markdown object>"
      ]
     },
     "metadata": {},
     "output_type": "display_data"
    },
    {
     "name": "stdout",
     "output_type": "stream",
     "text": [
      "--------------------------------------------------------------------\n",
      "> Merging 2 nodes into parent node.\n",
      "> Parent node id: 50d33921-5d44-4954-8227-ee4b4dd708ba.\n",
      "> Parent node text: The claim information:\n",
      "An anti-inflammatory peptide comprising at least one selected from the gro...\n",
      "\n",
      "> Merging 1 nodes into parent node.\n",
      "> Parent node id: fdea14bf-1cf2-453a-8b87-76170accdf58.\n",
      "> Parent node text: The claim information:\n",
      "An anti-inflammatory peptide comprising at least one selected from the gro...\n",
      "\n",
      "> Merging 2 nodes into parent node.\n",
      "> Parent node id: 59535a51-bc82-470f-b42c-339f96a2b123.\n",
      "> Parent node text: Accordingly, the present inventors have made intensive efforts to develop a substance exhibiting ...\n",
      "\n",
      "> Merging 2 nodes into parent node.\n",
      "> Parent node id: be33adc1-df8a-4e63-b908-33b706969ff5.\n",
      "> Parent node text: However, the present application may not be limited to these embodiments and examples and drawing...\n",
      "\n",
      "> Merging 1 nodes into parent node.\n",
      "> Parent node id: 33b8027a-4a11-41ee-b123-e34656453d5f.\n",
      "> Parent node text: Able to know. * In one embodiment of the present application, the peptide may inhibit a mechanism...\n",
      "\n"
     ]
    },
    {
     "data": {
      "text/markdown": [
       "<b>{'prompt_tokens': 3125, 'completion_tokens': 442, 'total_tokens': 3567}</b>"
      ],
      "text/plain": [
       "<IPython.core.display.Markdown object>"
      ]
     },
     "metadata": {},
     "output_type": "display_data"
    },
    {
     "name": "stdout",
     "output_type": "stream",
     "text": [
      "--------------------------------------------------------------------\n",
      "> Merging 2 nodes into parent node.\n",
      "> Parent node id: 85ab4593-be6b-4585-acb0-f5f3aa70ea62.\n",
      "> Parent node text: The claim information:\n",
      "An anti-inflammatory peptide comprising at least one selected from the gro...\n",
      "\n",
      "> Merging 1 nodes into parent node.\n",
      "> Parent node id: 99c81fe8-0112-4de2-98df-5bf0d3a4ef43.\n",
      "> Parent node text: The claim information:\n",
      "An anti-inflammatory peptide comprising at least one selected from the gro...\n",
      "\n",
      "> Merging 2 nodes into parent node.\n",
      "> Parent node id: ace4b552-d6d4-42f7-b6ec-2026c8cfc017.\n",
      "> Parent node text: Accordingly, the present inventors have made intensive efforts to develop a substance exhibiting ...\n",
      "\n",
      "> Merging 2 nodes into parent node.\n",
      "> Parent node id: 40a93e8d-ec0e-45de-b0c5-c082b7059e4e.\n",
      "> Parent node text: However, the present application may not be limited to these embodiments and examples and drawing...\n",
      "\n"
     ]
    },
    {
     "data": {
      "text/markdown": [
       "<b>{'prompt_tokens': 3043, 'completion_tokens': 254, 'total_tokens': 3297}</b>"
      ],
      "text/plain": [
       "<IPython.core.display.Markdown object>"
      ]
     },
     "metadata": {},
     "output_type": "display_data"
    },
    {
     "name": "stdout",
     "output_type": "stream",
     "text": [
      "--------------------------------------------------------------------\n",
      "> Merging 2 nodes into parent node.\n",
      "> Parent node id: eefba4a9-dcb8-46bb-a565-0a06a070c936.\n",
      "> Parent node text: The claim information:\n",
      "What is claimed is: 1. An IKK2 inhibitor that specifically inhibits IKK2 a...\n",
      "\n",
      "> Merging 2 nodes into parent node.\n",
      "> Parent node id: 04350746-5b31-46f6-a3e0-6d6170643876.\n",
      "> Parent node text: A thorough discussion is provided in T. Higuchi and V. Stella, Pro-drugs as Novel Delivery System...\n",
      "\n",
      "> Merging 2 nodes into parent node.\n",
      "> Parent node id: 29f3c3f0-a772-4e13-80f6-a17386b67277.\n",
      "> Parent node text: In other embodiments, the inhibitor is a small molecule and/or compound derived from the peptide ...\n",
      "\n"
     ]
    },
    {
     "data": {
      "text/markdown": [
       "<b>{'prompt_tokens': 3120, 'completion_tokens': 267, 'total_tokens': 3387}</b>"
      ],
      "text/plain": [
       "<IPython.core.display.Markdown object>"
      ]
     },
     "metadata": {},
     "output_type": "display_data"
    },
    {
     "name": "stdout",
     "output_type": "stream",
     "text": [
      "--------------------------------------------------------------------\n",
      "> Merging 2 nodes into parent node.\n",
      "> Parent node id: bef8a0c9-e74e-491d-8de5-0ae97bbaf0cb.\n",
      "> Parent node text: The claim information:\n",
      "What is claimed is: 1. An IKK2 inhibitor that specifically inhibits IKK2 a...\n",
      "\n",
      "> Merging 2 nodes into parent node.\n",
      "> Parent node id: 1257bfe8-df87-4e9f-ab54-bd2af46e3f71.\n",
      "> Parent node text: A thorough discussion is provided in T. Higuchi and V. Stella, Pro-drugs as Novel Delivery System...\n",
      "\n",
      "> Merging 1 nodes into parent node.\n",
      "> Parent node id: b25926aa-12c5-423f-b043-533d3684ddd5.\n",
      "> Parent node text: Thus, the potential of a peptide derived from this region to function as a modulator of canonical...\n",
      "\n"
     ]
    },
    {
     "data": {
      "text/markdown": [
       "<b>{'prompt_tokens': 2983, 'completion_tokens': 696, 'total_tokens': 3679}</b>"
      ],
      "text/plain": [
       "<IPython.core.display.Markdown object>"
      ]
     },
     "metadata": {},
     "output_type": "display_data"
    },
    {
     "name": "stdout",
     "output_type": "stream",
     "text": [
      "--------------------------------------------------------------------\n",
      "> Merging 2 nodes into parent node.\n",
      "> Parent node id: ea415b50-8f8d-44a1-a4cf-f4fbed8b84d3.\n",
      "> Parent node text: The claim information:\n",
      "What is claimed is: 1. An IKK2 inhibitor that specifically inhibits IKK2 a...\n",
      "\n",
      "> Merging 2 nodes into parent node.\n",
      "> Parent node id: d8d196d8-b619-4b37-a9e4-3751a3110ca7.\n",
      "> Parent node text: A thorough discussion is provided in T. Higuchi and V. Stella, Pro-drugs as Novel Delivery System...\n",
      "\n"
     ]
    },
    {
     "data": {
      "text/markdown": [
       "<b>{'prompt_tokens': 2975, 'completion_tokens': 414, 'total_tokens': 3389}</b>"
      ],
      "text/plain": [
       "<IPython.core.display.Markdown object>"
      ]
     },
     "metadata": {},
     "output_type": "display_data"
    },
    {
     "name": "stdout",
     "output_type": "stream",
     "text": [
      "--------------------------------------------------------------------\n",
      "> Merging 2 nodes into parent node.\n",
      "> Parent node id: 314b7c72-783d-4061-9dd6-9c7f1da39f51.\n",
      "> Parent node text: The claim information:\n",
      "What is claimed is: 1. An IKK2 inhibitor that specifically inhibits IKK2 a...\n",
      "\n",
      "> Merging 2 nodes into parent node.\n",
      "> Parent node id: 5f34c659-e3e1-4a48-9a26-2c7d03c384e5.\n",
      "> Parent node text: A thorough discussion is provided in T. Higuchi and V. Stella, Pro-drugs as Novel Delivery System...\n",
      "\n",
      "> Merging 2 nodes into parent node.\n",
      "> Parent node id: d9c35969-8064-42d9-9484-4f630721b4af.\n",
      "> Parent node text: Full length IKK2 was amplified by PCR and cloned in pFastBacHTb (Invitrogen) vector within BamHI ...\n",
      "\n"
     ]
    },
    {
     "data": {
      "text/markdown": [
       "<b>{'prompt_tokens': 3101, 'completion_tokens': 265, 'total_tokens': 3366}</b>"
      ],
      "text/plain": [
       "<IPython.core.display.Markdown object>"
      ]
     },
     "metadata": {},
     "output_type": "display_data"
    },
    {
     "name": "stdout",
     "output_type": "stream",
     "text": [
      "--------------------------------------------------------------------\n",
      "> Merging 2 nodes into parent node.\n",
      "> Parent node id: d51e33c8-5fcf-4844-99f3-3ff3a318ab77.\n",
      "> Parent node text: The claim information:\n",
      "A peptide comprising the amino acid sequence represented by SEQ_ID_NO_1. T...\n",
      "\n",
      "> Merging 2 nodes into parent node.\n",
      "> Parent node id: 0dac3c4b-e31c-4846-a518-f9d49486bf21.\n",
      "> Parent node text: The peptide containing the amino acid sequence of SEQ_ID_NO_1 is the same as the peptide describe...\n",
      "\n"
     ]
    },
    {
     "data": {
      "text/markdown": [
       "<b>{'prompt_tokens': 2705, 'completion_tokens': 165, 'total_tokens': 2870}</b>"
      ],
      "text/plain": [
       "<IPython.core.display.Markdown object>"
      ]
     },
     "metadata": {},
     "output_type": "display_data"
    },
    {
     "name": "stdout",
     "output_type": "stream",
     "text": [
      "--------------------------------------------------------------------\n",
      "> Merging 2 nodes into parent node.\n",
      "> Parent node id: 9d7eaa0a-17b3-4e69-91fc-91b40e582e10.\n",
      "> Parent node text: The claim information:\n",
      "A peptide comprising the amino acid sequence represented by SEQ_ID_NO_1. T...\n",
      "\n",
      "> Merging 2 nodes into parent node.\n",
      "> Parent node id: de4ec2f6-cbe0-4343-a62b-1a334894dde3.\n",
      "> Parent node text: The peptide containing the amino acid sequence of SEQ_ID_NO_1 is the same as the peptide describe...\n",
      "\n"
     ]
    },
    {
     "data": {
      "text/markdown": [
       "<b>{'prompt_tokens': 2713, 'completion_tokens': 306, 'total_tokens': 3019}</b>"
      ],
      "text/plain": [
       "<IPython.core.display.Markdown object>"
      ]
     },
     "metadata": {},
     "output_type": "display_data"
    },
    {
     "name": "stdout",
     "output_type": "stream",
     "text": [
      "--------------------------------------------------------------------\n",
      "> Merging 2 nodes into parent node.\n",
      "> Parent node id: 54cf6816-a075-4c3d-814e-e78a36f271ca.\n",
      "> Parent node text: The claim information:\n",
      "A peptide comprising the amino acid sequence represented by SEQ_ID_NO_1. T...\n",
      "\n",
      "> Merging 2 nodes into parent node.\n",
      "> Parent node id: 4e528c06-285c-4d63-a8fc-68c34deb800e.\n",
      "> Parent node text: The peptide containing the amino acid sequence of SEQ_ID_NO_1 is the same as the peptide describe...\n",
      "\n"
     ]
    },
    {
     "data": {
      "text/markdown": [
       "<b>{'prompt_tokens': 2711, 'completion_tokens': 251, 'total_tokens': 2962}</b>"
      ],
      "text/plain": [
       "<IPython.core.display.Markdown object>"
      ]
     },
     "metadata": {},
     "output_type": "display_data"
    },
    {
     "name": "stdout",
     "output_type": "stream",
     "text": [
      "--------------------------------------------------------------------\n",
      "> Merging 2 nodes into parent node.\n",
      "> Parent node id: 8b753065-fa49-497c-ab52-78e33add9b9c.\n",
      "> Parent node text: The claim information:\n",
      "A peptide comprising the amino acid sequence represented by SEQ_ID_NO_1. T...\n",
      "\n",
      "> Merging 2 nodes into parent node.\n",
      "> Parent node id: 0f19af16-3094-415f-bd2c-2ccd8e29212b.\n",
      "> Parent node text: The peptide containing the amino acid sequence of SEQ_ID_NO_1 is the same as the peptide describe...\n",
      "\n"
     ]
    },
    {
     "data": {
      "text/markdown": [
       "<b>{'prompt_tokens': 2711, 'completion_tokens': 281, 'total_tokens': 2992}</b>"
      ],
      "text/plain": [
       "<IPython.core.display.Markdown object>"
      ]
     },
     "metadata": {},
     "output_type": "display_data"
    },
    {
     "name": "stdout",
     "output_type": "stream",
     "text": [
      "--------------------------------------------------------------------\n",
      "> Merging 2 nodes into parent node.\n",
      "> Parent node id: 8249a911-9f48-45c8-85bd-2f949f082762.\n",
      "> Parent node text: The claim information:\n",
      "A peptide comprising the amino acid sequence represented by SEQ_ID_NO_1. T...\n",
      "\n",
      "> Merging 2 nodes into parent node.\n",
      "> Parent node id: 2f587b59-d66e-49de-a447-b4d437c8d22f.\n",
      "> Parent node text: The peptide containing the amino acid sequence of SEQ_ID_NO_1 is the same as the peptide describe...\n",
      "\n"
     ]
    },
    {
     "data": {
      "text/markdown": [
       "<b>{'prompt_tokens': 2668, 'completion_tokens': 195, 'total_tokens': 2863}</b>"
      ],
      "text/plain": [
       "<IPython.core.display.Markdown object>"
      ]
     },
     "metadata": {},
     "output_type": "display_data"
    },
    {
     "name": "stdout",
     "output_type": "stream",
     "text": [
      "--------------------------------------------------------------------\n",
      "> Merging 2 nodes into parent node.\n",
      "> Parent node id: 7c000be8-bb44-4740-8df4-055e88b68ae5.\n",
      "> Parent node text: The claim information:\n",
      "A peptide comprising the amino acid sequence represented by SEQ_ID_NO_1. T...\n",
      "\n",
      "> Merging 2 nodes into parent node.\n",
      "> Parent node id: 8dbaa117-56c9-464a-8d9d-f7a6b50ee4d5.\n",
      "> Parent node text: The peptide containing the amino acid sequence of SEQ_ID_NO_1 is the same as the peptide describe...\n",
      "\n"
     ]
    },
    {
     "data": {
      "text/markdown": [
       "<b>{'prompt_tokens': 2715, 'completion_tokens': 342, 'total_tokens': 3057}</b>"
      ],
      "text/plain": [
       "<IPython.core.display.Markdown object>"
      ]
     },
     "metadata": {},
     "output_type": "display_data"
    },
    {
     "name": "stdout",
     "output_type": "stream",
     "text": [
      "--------------------------------------------------------------------\n",
      "> Merging 2 nodes into parent node.\n",
      "> Parent node id: 857ac470-e1cd-4ed9-abcb-0ea5a70e7a46.\n",
      "> Parent node text: The claim information:\n",
      "A peptide comprising the amino acid sequence represented by SEQ_ID_NO_1. T...\n",
      "\n",
      "> Merging 2 nodes into parent node.\n",
      "> Parent node id: 6d47c475-7a57-4efe-aa7f-3192d0918696.\n",
      "> Parent node text: The peptide containing the amino acid sequence of SEQ_ID_NO_1 is the same as the peptide describe...\n",
      "\n"
     ]
    },
    {
     "data": {
      "text/markdown": [
       "<b>{'prompt_tokens': 2935, 'completion_tokens': 233, 'total_tokens': 3168}</b>"
      ],
      "text/plain": [
       "<IPython.core.display.Markdown object>"
      ]
     },
     "metadata": {},
     "output_type": "display_data"
    },
    {
     "name": "stdout",
     "output_type": "stream",
     "text": [
      "--------------------------------------------------------------------\n",
      "> Merging 2 nodes into parent node.\n",
      "> Parent node id: 313ad662-bb3a-4b3a-bd4e-dd6c4919551c.\n",
      "> Parent node text: The claim information:\n",
      "A peptide comprising the amino acid sequence represented by SEQ_ID_NO_1. T...\n",
      "\n",
      "> Merging 2 nodes into parent node.\n",
      "> Parent node id: e75aed19-0933-4fdf-8e33-a3737ad7882c.\n",
      "> Parent node text: The peptide containing the amino acid sequence of SEQ_ID_NO_1 is the same as the peptide describe...\n",
      "\n"
     ]
    },
    {
     "data": {
      "text/markdown": [
       "<b>{'prompt_tokens': 2711, 'completion_tokens': 184, 'total_tokens': 2895}</b>"
      ],
      "text/plain": [
       "<IPython.core.display.Markdown object>"
      ]
     },
     "metadata": {},
     "output_type": "display_data"
    },
    {
     "name": "stdout",
     "output_type": "stream",
     "text": [
      "--------------------------------------------------------------------\n",
      "> Merging 2 nodes into parent node.\n",
      "> Parent node id: 9b22af23-fec7-4343-89d9-fc9f6679ad9c.\n",
      "> Parent node text: The claim information:\n",
      "A peptide comprising the amino acid sequence represented by SEQ_ID_NO_1. T...\n",
      "\n",
      "> Merging 2 nodes into parent node.\n",
      "> Parent node id: a437236b-ed9e-4549-acdb-041f3f032f80.\n",
      "> Parent node text: The peptide containing the amino acid sequence of SEQ_ID_NO_1 is the same as the peptide describe...\n",
      "\n"
     ]
    },
    {
     "data": {
      "text/markdown": [
       "<b>{'prompt_tokens': 2713, 'completion_tokens': 358, 'total_tokens': 3071}</b>"
      ],
      "text/plain": [
       "<IPython.core.display.Markdown object>"
      ]
     },
     "metadata": {},
     "output_type": "display_data"
    },
    {
     "name": "stdout",
     "output_type": "stream",
     "text": [
      "--------------------------------------------------------------------\n",
      "> Merging 2 nodes into parent node.\n",
      "> Parent node id: 0d9dbab4-21f9-4df8-8daf-bdd547db178a.\n",
      "> Parent node text: The claim information:\n",
      "A peptide comprising the amino acid sequence represented by SEQ_ID_NO_1. T...\n",
      "\n",
      "> Merging 2 nodes into parent node.\n",
      "> Parent node id: 5c7e194f-5d66-4acd-a1de-219d3932e793.\n",
      "> Parent node text: The peptide containing the amino acid sequence of SEQ_ID_NO_1 is the same as the peptide describe...\n",
      "\n"
     ]
    },
    {
     "data": {
      "text/markdown": [
       "<b>{'prompt_tokens': 2711, 'completion_tokens': 210, 'total_tokens': 2921}</b>"
      ],
      "text/plain": [
       "<IPython.core.display.Markdown object>"
      ]
     },
     "metadata": {},
     "output_type": "display_data"
    },
    {
     "name": "stdout",
     "output_type": "stream",
     "text": [
      "--------------------------------------------------------------------\n",
      "> Merging 2 nodes into parent node.\n",
      "> Parent node id: b9bf0b96-b95b-4272-b62c-e8a8b474c173.\n",
      "> Parent node text: The claim information:\n",
      "A peptide comprising the amino acid sequence represented by SEQ_ID_NO_1. T...\n",
      "\n",
      "> Merging 2 nodes into parent node.\n",
      "> Parent node id: 81542656-7afc-4abd-a60c-f113ec39fbaa.\n",
      "> Parent node text: The peptide containing the amino acid sequence of SEQ_ID_NO_1 is the same as the peptide describe...\n",
      "\n"
     ]
    },
    {
     "data": {
      "text/markdown": [
       "<b>{'prompt_tokens': 2715, 'completion_tokens': 214, 'total_tokens': 2929}</b>"
      ],
      "text/plain": [
       "<IPython.core.display.Markdown object>"
      ]
     },
     "metadata": {},
     "output_type": "display_data"
    },
    {
     "name": "stdout",
     "output_type": "stream",
     "text": [
      "--------------------------------------------------------------------\n",
      "> Merging 2 nodes into parent node.\n",
      "> Parent node id: 5fbf3acc-8c52-419b-aed7-d8528fdf9671.\n",
      "> Parent node text: The claim information:\n",
      "A peptide comprising the amino acid sequence represented by SEQ_ID_NO_1. T...\n",
      "\n",
      "> Merging 2 nodes into parent node.\n",
      "> Parent node id: fe4edb74-2822-4358-93a8-a4f13ecf6447.\n",
      "> Parent node text: The peptide containing the amino acid sequence of SEQ_ID_NO_1 is the same as the peptide describe...\n",
      "\n"
     ]
    },
    {
     "data": {
      "text/markdown": [
       "<b>{'prompt_tokens': 2713, 'completion_tokens': 203, 'total_tokens': 2916}</b>"
      ],
      "text/plain": [
       "<IPython.core.display.Markdown object>"
      ]
     },
     "metadata": {},
     "output_type": "display_data"
    },
    {
     "name": "stdout",
     "output_type": "stream",
     "text": [
      "--------------------------------------------------------------------\n",
      "> Merging 2 nodes into parent node.\n",
      "> Parent node id: ae9e65e2-a515-4bfc-bd16-d33b1a69ebd7.\n",
      "> Parent node text: The claim information:\n",
      "A peptide comprising the amino acid sequence represented by SEQ_ID_NO_1. T...\n",
      "\n",
      "> Merging 2 nodes into parent node.\n",
      "> Parent node id: b1dc929d-cf96-4a4d-8cce-9ddb052790eb.\n",
      "> Parent node text: The peptide containing the amino acid sequence of SEQ_ID_NO_1 is the same as the peptide describe...\n",
      "\n"
     ]
    },
    {
     "data": {
      "text/markdown": [
       "<b>{'prompt_tokens': 2713, 'completion_tokens': 173, 'total_tokens': 2886}</b>"
      ],
      "text/plain": [
       "<IPython.core.display.Markdown object>"
      ]
     },
     "metadata": {},
     "output_type": "display_data"
    },
    {
     "name": "stdout",
     "output_type": "stream",
     "text": [
      "--------------------------------------------------------------------\n",
      "> Merging 2 nodes into parent node.\n",
      "> Parent node id: c54f9c7a-5c32-42c6-b04c-681b83f0fe53.\n",
      "> Parent node text: The claim information:\n",
      "A peptide comprising the amino acid sequence represented by SEQ_ID_NO_1. T...\n",
      "\n",
      "> Merging 2 nodes into parent node.\n",
      "> Parent node id: 2d4a3008-c71a-4cc6-bb74-89217f13febb.\n",
      "> Parent node text: The peptide containing the amino acid sequence of SEQ_ID_NO_1 is the same as the peptide describe...\n",
      "\n"
     ]
    },
    {
     "data": {
      "text/markdown": [
       "<b>{'prompt_tokens': 2713, 'completion_tokens': 373, 'total_tokens': 3086}</b>"
      ],
      "text/plain": [
       "<IPython.core.display.Markdown object>"
      ]
     },
     "metadata": {},
     "output_type": "display_data"
    },
    {
     "name": "stdout",
     "output_type": "stream",
     "text": [
      "--------------------------------------------------------------------\n",
      "> Merging 2 nodes into parent node.\n",
      "> Parent node id: 10bfe990-d820-4aa4-8080-414ace03e719.\n",
      "> Parent node text: The claim information:\n",
      "A peptide comprising the amino acid sequence represented by SEQ_ID_NO_1. T...\n",
      "\n",
      "> Merging 2 nodes into parent node.\n",
      "> Parent node id: e2a5f553-2673-471f-b2d0-ccccc324ebf2.\n",
      "> Parent node text: The peptide containing the amino acid sequence of SEQ_ID_NO_1 is the same as the peptide describe...\n",
      "\n"
     ]
    },
    {
     "data": {
      "text/markdown": [
       "<b>{'prompt_tokens': 2713, 'completion_tokens': 193, 'total_tokens': 2906}</b>"
      ],
      "text/plain": [
       "<IPython.core.display.Markdown object>"
      ]
     },
     "metadata": {},
     "output_type": "display_data"
    },
    {
     "name": "stdout",
     "output_type": "stream",
     "text": [
      "--------------------------------------------------------------------\n",
      "> Merging 2 nodes into parent node.\n",
      "> Parent node id: db8e58eb-7b8f-4a9b-8106-51995aa3c52f.\n",
      "> Parent node text: In addition, the Dualpep R1-9 terminal deletion peptide according to the present invention; Dualp...\n",
      "\n",
      "> Merging 2 nodes into parent node.\n",
      "> Parent node id: 698c3f19-27fa-4a74-b756-93c747c6eabc.\n",
      "> Parent node text: It is apparent to those skilled in the art that the peptides exhibiting wound healing activity an...\n",
      "\n"
     ]
    },
    {
     "data": {
      "text/markdown": [
       "<b>{'prompt_tokens': 2956, 'completion_tokens': 353, 'total_tokens': 3309}</b>"
      ],
      "text/plain": [
       "<IPython.core.display.Markdown object>"
      ]
     },
     "metadata": {},
     "output_type": "display_data"
    },
    {
     "name": "stdout",
     "output_type": "stream",
     "text": [
      "--------------------------------------------------------------------\n",
      "> Filling in node. Node id: fd7b5dc8-37ef-4d5c-94e9-f559e72d0fd4> Node text: In addition, one aspect of the present invention is 1) peptides exhibiting the wound healing acti...\n",
      "\n",
      "> Merging 2 nodes into parent node.\n",
      "> Parent node id: 2fc780e9-63bc-46e8-863d-969f5ed61ddd.\n",
      "> Parent node text: In addition, the Dualpep R1-9 terminal deletion peptide according to the present invention; Dualp...\n",
      "\n",
      "> Merging 3 nodes into parent node.\n",
      "> Parent node id: 07f806e7-ba1b-4813-a4c5-5499d6bfb82a.\n",
      "> Parent node text: It is apparent to those skilled in the art that the peptides exhibiting wound healing activity an...\n",
      "\n"
     ]
    },
    {
     "data": {
      "text/markdown": [
       "<b>{'prompt_tokens': 2862, 'completion_tokens': 68, 'total_tokens': 2930}</b>"
      ],
      "text/plain": [
       "<IPython.core.display.Markdown object>"
      ]
     },
     "metadata": {},
     "output_type": "display_data"
    },
    {
     "name": "stdout",
     "output_type": "stream",
     "text": [
      "--------------------------------------------------------------------\n",
      "> Merging 2 nodes into parent node.\n",
      "> Parent node id: 98ec17f3-5348-4194-a83d-b9d49f15f0bc.\n",
      "> Parent node text: The method of claim 1, The peptide exhibiting the wound healing activity and anti-inflammatory ac...\n",
      "\n",
      "> Merging 3 nodes into parent node.\n",
      "> Parent node id: 30f52e04-f693-48e3-b9a7-15f5dd69bbe6.\n",
      "> Parent node text: It is apparent to those skilled in the art that the peptides exhibiting wound healing activity an...\n",
      "\n"
     ]
    },
    {
     "data": {
      "text/markdown": [
       "<b>{'prompt_tokens': 2779, 'completion_tokens': 361, 'total_tokens': 3140}</b>"
      ],
      "text/plain": [
       "<IPython.core.display.Markdown object>"
      ]
     },
     "metadata": {},
     "output_type": "display_data"
    },
    {
     "name": "stdout",
     "output_type": "stream",
     "text": [
      "--------------------------------------------------------------------\n",
      "> Merging 2 nodes into parent node.\n",
      "> Parent node id: 44b6ba4b-ff6d-4cc8-8320-c19fb8287785.\n",
      "> Parent node text: The method of claim 1, The peptide exhibiting the wound healing activity and anti-inflammatory ac...\n",
      "\n",
      "> Merging 2 nodes into parent node.\n",
      "> Parent node id: 8808bc6f-5cd5-4bd9-9ff0-01c83f229d5d.\n",
      "> Parent node text: peptide name amino acid sequences Characteristics SEQ No. Dualpep R1 ERRPRGRRRGRKC 4 to 16 amino ...\n",
      "\n",
      "> Merging 2 nodes into parent node.\n",
      "> Parent node id: 86eec10e-2440-46e0-b52b-c11885a93188.\n",
      "> Parent node text: It is apparent to those skilled in the art that the peptides exhibiting wound healing activity an...\n",
      "\n"
     ]
    },
    {
     "data": {
      "text/markdown": [
       "<b>{'prompt_tokens': 3284, 'completion_tokens': 152, 'total_tokens': 3436}</b>"
      ],
      "text/plain": [
       "<IPython.core.display.Markdown object>"
      ]
     },
     "metadata": {},
     "output_type": "display_data"
    },
    {
     "name": "stdout",
     "output_type": "stream",
     "text": [
      "--------------------------------------------------------------------\n",
      "> Merging 2 nodes into parent node.\n",
      "> Parent node id: 9a8c2315-298a-4342-9b75-f36f01c40915.\n",
      "> Parent node text: It is apparent to those skilled in the art that the peptides exhibiting wound healing activity an...\n",
      "\n",
      "> Merging 2 nodes into parent node.\n",
      "> Parent node id: d954ccc7-e570-4068-8c84-03adab1726d8.\n",
      "> Parent node text: In addition, the Dualpep R1-9 terminal deletion peptide according to the present invention; Dualp...\n",
      "\n"
     ]
    },
    {
     "data": {
      "text/markdown": [
       "<b>{'prompt_tokens': 2858, 'completion_tokens': 306, 'total_tokens': 3164}</b>"
      ],
      "text/plain": [
       "<IPython.core.display.Markdown object>"
      ]
     },
     "metadata": {},
     "output_type": "display_data"
    },
    {
     "name": "stdout",
     "output_type": "stream",
     "text": [
      "--------------------------------------------------------------------\n",
      "> Merging 2 nodes into parent node.\n",
      "> Parent node id: e18048dd-32ff-43c8-857a-bacf5aae9493.\n",
      "> Parent node text: The method of claim 1, The peptide exhibiting the wound healing activity and anti-inflammatory ac...\n",
      "\n",
      "> Merging 3 nodes into parent node.\n",
      "> Parent node id: 67b072ba-0c6e-4f05-8f23-d92b43538a37.\n",
      "> Parent node text: It is apparent to those skilled in the art that the peptides exhibiting wound healing activity an...\n",
      "\n"
     ]
    },
    {
     "data": {
      "text/markdown": [
       "<b>{'prompt_tokens': 2781, 'completion_tokens': 169, 'total_tokens': 2950}</b>"
      ],
      "text/plain": [
       "<IPython.core.display.Markdown object>"
      ]
     },
     "metadata": {},
     "output_type": "display_data"
    },
    {
     "name": "stdout",
     "output_type": "stream",
     "text": [
      "--------------------------------------------------------------------\n",
      "> Merging 2 nodes into parent node.\n",
      "> Parent node id: 5b7fd3f5-e55e-4af5-bddc-f29970f283fa.\n",
      "> Parent node text: The method of claim 1, The peptide exhibiting the wound healing activity and anti-inflammatory ac...\n",
      "\n",
      "> Merging 3 nodes into parent node.\n",
      "> Parent node id: f13448f1-324c-4454-81cf-cf27260b8228.\n",
      "> Parent node text: It is apparent to those skilled in the art that the peptides exhibiting wound healing activity an...\n",
      "\n"
     ]
    },
    {
     "data": {
      "text/markdown": [
       "<b>{'prompt_tokens': 2758, 'completion_tokens': 443, 'total_tokens': 3201}</b>"
      ],
      "text/plain": [
       "<IPython.core.display.Markdown object>"
      ]
     },
     "metadata": {},
     "output_type": "display_data"
    },
    {
     "name": "stdout",
     "output_type": "stream",
     "text": [
      "--------------------------------------------------------------------\n",
      "> Merging 2 nodes into parent node.\n",
      "> Parent node id: d602a10f-a83e-4d7a-80e0-ef875a2ea0c1.\n",
      "> Parent node text: In addition, the Dualpep R1-9 terminal deletion peptide according to the present invention; Dualp...\n",
      "\n",
      "> Merging 2 nodes into parent node.\n",
      "> Parent node id: 294e0512-8b5d-44bd-9981-0493a9b1007a.\n",
      "> Parent node text: It is apparent to those skilled in the art that the peptides exhibiting wound healing activity an...\n",
      "\n"
     ]
    },
    {
     "data": {
      "text/markdown": [
       "<b>{'prompt_tokens': 2856, 'completion_tokens': 378, 'total_tokens': 3234}</b>"
      ],
      "text/plain": [
       "<IPython.core.display.Markdown object>"
      ]
     },
     "metadata": {},
     "output_type": "display_data"
    },
    {
     "name": "stdout",
     "output_type": "stream",
     "text": [
      "--------------------------------------------------------------------\n",
      "> Merging 2 nodes into parent node.\n",
      "> Parent node id: f7bb8de4-0456-4867-8cad-e148927d18af.\n",
      "> Parent node text: It is apparent to those skilled in the art that the peptides exhibiting wound healing activity an...\n",
      "\n",
      "> Merging 2 nodes into parent node.\n",
      "> Parent node id: d73e3a7a-9402-4f7d-9f5c-aec31d5dd68e.\n",
      "> Parent node text: In addition, the Dualpep R1-9 terminal deletion peptide according to the present invention; Dualp...\n",
      "\n"
     ]
    },
    {
     "data": {
      "text/markdown": [
       "<b>{'prompt_tokens': 2949, 'completion_tokens': 338, 'total_tokens': 3287}</b>"
      ],
      "text/plain": [
       "<IPython.core.display.Markdown object>"
      ]
     },
     "metadata": {},
     "output_type": "display_data"
    },
    {
     "name": "stdout",
     "output_type": "stream",
     "text": [
      "--------------------------------------------------------------------\n",
      "> Merging 2 nodes into parent node.\n",
      "> Parent node id: 73833a2b-ab41-4516-aa60-3fe161a3e0be.\n",
      "> Parent node text: In addition, the Dualpep R1-9 terminal deletion peptide according to the present invention; Dualp...\n",
      "\n",
      "> Merging 2 nodes into parent node.\n",
      "> Parent node id: 5230f792-3d20-46c1-9c60-c6d8688d9a76.\n",
      "> Parent node text: It is apparent to those skilled in the art that the peptides exhibiting wound healing activity an...\n",
      "\n"
     ]
    },
    {
     "data": {
      "text/markdown": [
       "<b>{'prompt_tokens': 2818, 'completion_tokens': 38, 'total_tokens': 2856}</b>"
      ],
      "text/plain": [
       "<IPython.core.display.Markdown object>"
      ]
     },
     "metadata": {},
     "output_type": "display_data"
    },
    {
     "name": "stdout",
     "output_type": "stream",
     "text": [
      "--------------------------------------------------------------------\n",
      "> Merging 2 nodes into parent node.\n",
      "> Parent node id: 164374bd-e927-4003-9e01-d235f0dd17f7.\n",
      "> Parent node text: The method of claim 1, The peptide exhibiting the wound healing activity and anti-inflammatory ac...\n",
      "\n",
      "> Merging 2 nodes into parent node.\n",
      "> Parent node id: 5cdedc17-07cc-4fcc-bfbe-6bbccba5e0d6.\n",
      "> Parent node text: In addition, the Dualpep R1-9 terminal deletion peptide according to the present invention; Dualp...\n",
      "\n",
      "> Merging 3 nodes into parent node.\n",
      "> Parent node id: fe1aa363-f7b4-4195-aaba-6044eafd2c13.\n",
      "> Parent node text: It is apparent to those skilled in the art that the peptides exhibiting wound healing activity an...\n",
      "\n"
     ]
    },
    {
     "data": {
      "text/markdown": [
       "<b>{'prompt_tokens': 2708, 'completion_tokens': 384, 'total_tokens': 3092}</b>"
      ],
      "text/plain": [
       "<IPython.core.display.Markdown object>"
      ]
     },
     "metadata": {},
     "output_type": "display_data"
    },
    {
     "name": "stdout",
     "output_type": "stream",
     "text": [
      "--------------------------------------------------------------------\n",
      "> Filling in node. Node id: 777c6fe6-c828-4d33-8614-161c1fa60fcb> Node text: In addition, one aspect of the present invention is 1) peptides exhibiting the wound healing acti...\n",
      "\n",
      "> Merging 3 nodes into parent node.\n",
      "> Parent node id: c5225944-e60d-4f6f-85d6-139c8b46ab97.\n",
      "> Parent node text: It is apparent to those skilled in the art that the peptides exhibiting wound healing activity an...\n",
      "\n",
      "> Merging 2 nodes into parent node.\n",
      "> Parent node id: cd52e73c-42b9-473b-8ce0-ed3d24c39e1b.\n",
      "> Parent node text: In addition, the Dualpep R1-9 terminal deletion peptide according to the present invention; Dualp...\n",
      "\n"
     ]
    },
    {
     "data": {
      "text/markdown": [
       "<b>{'prompt_tokens': 2699, 'completion_tokens': 332, 'total_tokens': 3031}</b>"
      ],
      "text/plain": [
       "<IPython.core.display.Markdown object>"
      ]
     },
     "metadata": {},
     "output_type": "display_data"
    },
    {
     "name": "stdout",
     "output_type": "stream",
     "text": [
      "--------------------------------------------------------------------\n",
      "> Merging 2 nodes into parent node.\n",
      "> Parent node id: 5666e190-9f66-4e3d-a291-72186cfbca81.\n",
      "> Parent node text: In addition, the Dualpep R1-9 terminal deletion peptide according to the present invention; Dualp...\n",
      "\n",
      "> Merging 2 nodes into parent node.\n",
      "> Parent node id: f7c7ecb1-e429-4123-ad65-334134ac0f61.\n",
      "> Parent node text: It is apparent to those skilled in the art that the peptides exhibiting wound healing activity an...\n",
      "\n"
     ]
    },
    {
     "data": {
      "text/markdown": [
       "<b>{'prompt_tokens': 2853, 'completion_tokens': 410, 'total_tokens': 3263}</b>"
      ],
      "text/plain": [
       "<IPython.core.display.Markdown object>"
      ]
     },
     "metadata": {},
     "output_type": "display_data"
    },
    {
     "name": "stdout",
     "output_type": "stream",
     "text": [
      "--------------------------------------------------------------------\n",
      "> Merging 3 nodes into parent node.\n",
      "> Parent node id: e606b225-3102-458a-8c97-c51b5af119a9.\n",
      "> Parent node text: It is apparent to those skilled in the art that the peptides exhibiting wound healing activity an...\n",
      "\n"
     ]
    },
    {
     "data": {
      "text/markdown": [
       "<b>{'prompt_tokens': 2439, 'completion_tokens': 198, 'total_tokens': 2637}</b>"
      ],
      "text/plain": [
       "<IPython.core.display.Markdown object>"
      ]
     },
     "metadata": {},
     "output_type": "display_data"
    },
    {
     "name": "stdout",
     "output_type": "stream",
     "text": [
      "--------------------------------------------------------------------\n",
      "> Merging 2 nodes into parent node.\n",
      "> Parent node id: 7f30ba8a-534d-46b6-9ef7-5929024c1011.\n",
      "> Parent node text: It is apparent to those skilled in the art that the peptides exhibiting wound healing activity an...\n",
      "\n",
      "> Merging 2 nodes into parent node.\n",
      "> Parent node id: ccf3872f-f63d-4f10-b238-a2f5da955a27.\n",
      "> Parent node text: In addition, the Dualpep R1-9 terminal deletion peptide according to the present invention; Dualp...\n",
      "\n"
     ]
    },
    {
     "data": {
      "text/markdown": [
       "<b>{'prompt_tokens': 2875, 'completion_tokens': 346, 'total_tokens': 3221}</b>"
      ],
      "text/plain": [
       "<IPython.core.display.Markdown object>"
      ]
     },
     "metadata": {},
     "output_type": "display_data"
    },
    {
     "name": "stdout",
     "output_type": "stream",
     "text": [
      "--------------------------------------------------------------------\n",
      "> Merging 2 nodes into parent node.\n",
      "> Parent node id: bb170943-ccb2-44d9-a170-a671822715b8.\n",
      "> Parent node text: peptide name amino acid sequences Characteristics SEQ No. Dualpep R1 ERRPRGRRRGRKC 4 to 16 amino ...\n",
      "\n",
      "> Merging 2 nodes into parent node.\n",
      "> Parent node id: 7ed452e2-f451-4426-96af-4225553bf1ae.\n",
      "> Parent node text: It is apparent to those skilled in the art that the peptides exhibiting wound healing activity an...\n",
      "\n"
     ]
    },
    {
     "data": {
      "text/markdown": [
       "<b>{'prompt_tokens': 2996, 'completion_tokens': 251, 'total_tokens': 3247}</b>"
      ],
      "text/plain": [
       "<IPython.core.display.Markdown object>"
      ]
     },
     "metadata": {},
     "output_type": "display_data"
    },
    {
     "name": "stdout",
     "output_type": "stream",
     "text": [
      "--------------------------------------------------------------------\n",
      "> Merging 2 nodes into parent node.\n",
      "> Parent node id: fa40ba38-e721-4be0-beb2-4515515d43e0.\n",
      "> Parent node text: The method of claim 1, The peptide exhibiting the wound healing activity and anti-inflammatory ac...\n",
      "\n",
      "> Merging 3 nodes into parent node.\n",
      "> Parent node id: 75b1785e-1837-484b-b953-25566261770a.\n",
      "> Parent node text: It is apparent to those skilled in the art that the peptides exhibiting wound healing activity an...\n",
      "\n"
     ]
    },
    {
     "data": {
      "text/markdown": [
       "<b>{'prompt_tokens': 2803, 'completion_tokens': 417, 'total_tokens': 3220}</b>"
      ],
      "text/plain": [
       "<IPython.core.display.Markdown object>"
      ]
     },
     "metadata": {},
     "output_type": "display_data"
    },
    {
     "name": "stdout",
     "output_type": "stream",
     "text": [
      "--------------------------------------------------------------------\n",
      "> Merging 2 nodes into parent node.\n",
      "> Parent node id: 004f7eab-84a3-4fb7-bd3c-a5235ea43d9c.\n",
      "> Parent node text: The method of claim 1, The peptide exhibiting the wound healing activity and anti-inflammatory ac...\n",
      "\n",
      "> Merging 3 nodes into parent node.\n",
      "> Parent node id: c5391886-3aec-4bf8-8f55-b576ed2d5281.\n",
      "> Parent node text: It is apparent to those skilled in the art that the peptides exhibiting wound healing activity an...\n",
      "\n"
     ]
    },
    {
     "data": {
      "text/markdown": [
       "<b>{'prompt_tokens': 2843, 'completion_tokens': 359, 'total_tokens': 3202}</b>"
      ],
      "text/plain": [
       "<IPython.core.display.Markdown object>"
      ]
     },
     "metadata": {},
     "output_type": "display_data"
    },
    {
     "name": "stdout",
     "output_type": "stream",
     "text": [
      "--------------------------------------------------------------------\n",
      "> Merging 2 nodes into parent node.\n",
      "> Parent node id: 5b74760b-b87e-4a29-afab-385d27a7a9c5.\n",
      "> Parent node text: The method of claim 1, The peptide exhibiting the wound healing activity and anti-inflammatory ac...\n",
      "\n",
      "> Merging 3 nodes into parent node.\n",
      "> Parent node id: 76038dbf-297a-4d2f-ad94-a899e7254be8.\n",
      "> Parent node text: It is apparent to those skilled in the art that the peptides exhibiting wound healing activity an...\n",
      "\n"
     ]
    },
    {
     "data": {
      "text/markdown": [
       "<b>{'prompt_tokens': 2799, 'completion_tokens': 421, 'total_tokens': 3220}</b>"
      ],
      "text/plain": [
       "<IPython.core.display.Markdown object>"
      ]
     },
     "metadata": {},
     "output_type": "display_data"
    },
    {
     "name": "stdout",
     "output_type": "stream",
     "text": [
      "--------------------------------------------------------------------\n",
      "> Merging 2 nodes into parent node.\n",
      "> Parent node id: 1ff36d06-fd6d-44b9-91bb-da8073127379.\n",
      "> Parent node text: The method of claim 1, The peptide exhibiting the wound healing activity and anti-inflammatory ac...\n",
      "\n",
      "> Merging 3 nodes into parent node.\n",
      "> Parent node id: ae1ab66c-93a9-4dd4-8246-294bb145f9a0.\n",
      "> Parent node text: It is apparent to those skilled in the art that the peptides exhibiting wound healing activity an...\n",
      "\n"
     ]
    },
    {
     "data": {
      "text/markdown": [
       "<b>{'prompt_tokens': 2837, 'completion_tokens': 538, 'total_tokens': 3375}</b>"
      ],
      "text/plain": [
       "<IPython.core.display.Markdown object>"
      ]
     },
     "metadata": {},
     "output_type": "display_data"
    },
    {
     "name": "stdout",
     "output_type": "stream",
     "text": [
      "--------------------------------------------------------------------\n",
      "> Merging 3 nodes into parent node.\n",
      "> Parent node id: 8737a432-4aea-469f-bb51-062cf1d14091.\n",
      "> Parent node text: It is apparent to those skilled in the art that the peptides exhibiting wound healing activity an...\n",
      "\n"
     ]
    },
    {
     "data": {
      "text/markdown": [
       "<b>{'prompt_tokens': 2637, 'completion_tokens': 281, 'total_tokens': 2918}</b>"
      ],
      "text/plain": [
       "<IPython.core.display.Markdown object>"
      ]
     },
     "metadata": {},
     "output_type": "display_data"
    },
    {
     "name": "stdout",
     "output_type": "stream",
     "text": [
      "--------------------------------------------------------------------\n",
      "> Merging 2 nodes into parent node.\n",
      "> Parent node id: d41aec36-a4de-4c86-a984-4912dd745515.\n",
      "> Parent node text: The method of claim 1, The peptide exhibiting the wound healing activity and anti-inflammatory ac...\n",
      "\n",
      "> Filling in node. Node id: 9fde64fc-e58c-46f6-901e-cc6ab25b001c> Node text: In addition, one aspect of the present invention is 1) peptides exhibiting the wound healing acti...\n",
      "\n",
      "> Merging 4 nodes into parent node.\n",
      "> Parent node id: 1a4de3af-0f5d-4e65-ac58-a0262b4ed6d7.\n",
      "> Parent node text: It is apparent to those skilled in the art that the peptides exhibiting wound healing activity an...\n",
      "\n"
     ]
    },
    {
     "data": {
      "text/markdown": [
       "<b>{'prompt_tokens': 2801, 'completion_tokens': 354, 'total_tokens': 3155}</b>"
      ],
      "text/plain": [
       "<IPython.core.display.Markdown object>"
      ]
     },
     "metadata": {},
     "output_type": "display_data"
    },
    {
     "name": "stdout",
     "output_type": "stream",
     "text": [
      "--------------------------------------------------------------------\n",
      "> Merging 2 nodes into parent node.\n",
      "> Parent node id: 5ddc6f31-6fee-4890-8a61-23f35cc28d6e.\n",
      "> Parent node text: The method of claim 1, The peptide exhibiting the wound healing activity and anti-inflammatory ac...\n",
      "\n",
      "> Merging 2 nodes into parent node.\n",
      "> Parent node id: 517d920d-eded-458d-96a7-d29c276dd1b2.\n",
      "> Parent node text: In addition, the Dualpep R1-9 terminal deletion peptide according to the present invention; Dualp...\n",
      "\n",
      "> Merging 3 nodes into parent node.\n",
      "> Parent node id: 1c1ece97-e77b-4f05-a27d-e16f2f7e0074.\n",
      "> Parent node text: It is apparent to those skilled in the art that the peptides exhibiting wound healing activity an...\n",
      "\n"
     ]
    },
    {
     "data": {
      "text/markdown": [
       "<b>{'prompt_tokens': 2934, 'completion_tokens': 245, 'total_tokens': 3179}</b>"
      ],
      "text/plain": [
       "<IPython.core.display.Markdown object>"
      ]
     },
     "metadata": {},
     "output_type": "display_data"
    },
    {
     "name": "stdout",
     "output_type": "stream",
     "text": [
      "--------------------------------------------------------------------\n",
      "> Merging 2 nodes into parent node.\n",
      "> Parent node id: 21717d60-6622-42d6-a772-901aabafb86a.\n",
      "> Parent node text: The method of claim 1, The peptide exhibiting the wound healing activity and anti-inflammatory ac...\n",
      "\n",
      "> Merging 3 nodes into parent node.\n",
      "> Parent node id: 5446f762-cd1a-4318-b871-dd53dc757a95.\n",
      "> Parent node text: It is apparent to those skilled in the art that the peptides exhibiting wound healing activity an...\n",
      "\n"
     ]
    },
    {
     "data": {
      "text/markdown": [
       "<b>{'prompt_tokens': 2835, 'completion_tokens': 507, 'total_tokens': 3342}</b>"
      ],
      "text/plain": [
       "<IPython.core.display.Markdown object>"
      ]
     },
     "metadata": {},
     "output_type": "display_data"
    },
    {
     "name": "stdout",
     "output_type": "stream",
     "text": [
      "--------------------------------------------------------------------\n",
      "> Merging 2 nodes into parent node.\n",
      "> Parent node id: a6bce188-7abb-4c05-8d5b-8f10821dae6a.\n",
      "> Parent node text: The method of claim 1, The peptide exhibiting the wound healing activity and anti-inflammatory ac...\n",
      "\n",
      "> Merging 3 nodes into parent node.\n",
      "> Parent node id: d879903e-e4fb-479e-82ef-7884eea737cd.\n",
      "> Parent node text: It is apparent to those skilled in the art that the peptides exhibiting wound healing activity an...\n",
      "\n"
     ]
    },
    {
     "data": {
      "text/markdown": [
       "<b>{'prompt_tokens': 2835, 'completion_tokens': 378, 'total_tokens': 3213}</b>"
      ],
      "text/plain": [
       "<IPython.core.display.Markdown object>"
      ]
     },
     "metadata": {},
     "output_type": "display_data"
    },
    {
     "name": "stdout",
     "output_type": "stream",
     "text": [
      "--------------------------------------------------------------------\n",
      "> Merging 2 nodes into parent node.\n",
      "> Parent node id: 5a82a69f-a92d-41d6-9c75-2d7423f29482.\n",
      "> Parent node text: The method of claim 1, The peptide exhibiting the wound healing activity and anti-inflammatory ac...\n",
      "\n",
      "> Merging 3 nodes into parent node.\n",
      "> Parent node id: 586d1e80-a644-4e0e-9f66-4c4306fa8f5d.\n",
      "> Parent node text: It is apparent to those skilled in the art that the peptides exhibiting wound healing activity an...\n",
      "\n"
     ]
    },
    {
     "data": {
      "text/markdown": [
       "<b>{'prompt_tokens': 2779, 'completion_tokens': 233, 'total_tokens': 3012}</b>"
      ],
      "text/plain": [
       "<IPython.core.display.Markdown object>"
      ]
     },
     "metadata": {},
     "output_type": "display_data"
    },
    {
     "name": "stdout",
     "output_type": "stream",
     "text": [
      "--------------------------------------------------------------------\n",
      "> Merging 2 nodes into parent node.\n",
      "> Parent node id: 2c7b3a9d-1b5c-448f-9c13-3d58a3e8369b.\n",
      "> Parent node text: The method of claim 1, The peptide exhibiting the wound healing activity and anti-inflammatory ac...\n",
      "\n",
      "> Merging 3 nodes into parent node.\n",
      "> Parent node id: 96012ff8-153e-47ec-ad76-b4ca288b20c5.\n",
      "> Parent node text: It is apparent to those skilled in the art that the peptides exhibiting wound healing activity an...\n",
      "\n"
     ]
    },
    {
     "data": {
      "text/markdown": [
       "<b>{'prompt_tokens': 2781, 'completion_tokens': 377, 'total_tokens': 3158}</b>"
      ],
      "text/plain": [
       "<IPython.core.display.Markdown object>"
      ]
     },
     "metadata": {},
     "output_type": "display_data"
    },
    {
     "name": "stdout",
     "output_type": "stream",
     "text": [
      "--------------------------------------------------------------------\n",
      "> Merging 3 nodes into parent node.\n",
      "> Parent node id: a0ca96fa-497b-4439-b87b-0dd153b3d475.\n",
      "> Parent node text: It is apparent to those skilled in the art that the peptides exhibiting wound healing activity an...\n",
      "\n"
     ]
    },
    {
     "data": {
      "text/markdown": [
       "<b>{'prompt_tokens': 2621, 'completion_tokens': 371, 'total_tokens': 2992}</b>"
      ],
      "text/plain": [
       "<IPython.core.display.Markdown object>"
      ]
     },
     "metadata": {},
     "output_type": "display_data"
    },
    {
     "name": "stdout",
     "output_type": "stream",
     "text": [
      "--------------------------------------------------------------------\n",
      "> Merging 3 nodes into parent node.\n",
      "> Parent node id: 67881dbd-b4fa-4366-b4fc-aea5100ee725.\n",
      "> Parent node text: It is apparent to those skilled in the art that the peptides exhibiting wound healing activity an...\n",
      "\n"
     ]
    },
    {
     "data": {
      "text/markdown": [
       "<b>{'prompt_tokens': 2621, 'completion_tokens': 311, 'total_tokens': 2932}</b>"
      ],
      "text/plain": [
       "<IPython.core.display.Markdown object>"
      ]
     },
     "metadata": {},
     "output_type": "display_data"
    },
    {
     "name": "stdout",
     "output_type": "stream",
     "text": [
      "--------------------------------------------------------------------\n",
      "> Merging 3 nodes into parent node.\n",
      "> Parent node id: 6a5ffd86-2d46-40bc-b075-6414740c61a2.\n",
      "> Parent node text: It is apparent to those skilled in the art that the peptides exhibiting wound healing activity an...\n",
      "\n"
     ]
    },
    {
     "data": {
      "text/markdown": [
       "<b>{'prompt_tokens': 2621, 'completion_tokens': 233, 'total_tokens': 2854}</b>"
      ],
      "text/plain": [
       "<IPython.core.display.Markdown object>"
      ]
     },
     "metadata": {},
     "output_type": "display_data"
    },
    {
     "name": "stdout",
     "output_type": "stream",
     "text": [
      "--------------------------------------------------------------------\n",
      "> Merging 2 nodes into parent node.\n",
      "> Parent node id: 3e72f6ba-cb09-48b2-9492-126c081e1308.\n",
      "> Parent node text: The claim information:\n",
      "A peptide having anti-inflammatory activity consisting of the amino acid s...\n",
      "\n",
      "> Merging 1 nodes into parent node.\n",
      "> Parent node id: 38d181bb-1046-425d-969c-3d6623555f27.\n",
      "> Parent node text: The claim information:\n",
      "A peptide having anti-inflammatory activity consisting of the amino acid s...\n",
      "\n",
      "> Merging 2 nodes into parent node.\n",
      "> Parent node id: f903bee3-5a45-40e7-8903-176d6faeb549.\n",
      "> Parent node text: As a result, it was confirmed that the peptide having the amino acid sequence of SEQ_ID_NO_1 inhi...\n",
      "\n",
      "> Merging 1 nodes into parent node.\n",
      "> Parent node id: 026e2339-ccf9-4e16-baeb-b3b8b645637e.\n",
      "> Parent node text: Therefore, it was proved that the collagen gel to which the peptide having the amino acid of SEQ_...\n",
      "\n"
     ]
    },
    {
     "data": {
      "text/markdown": [
       "<b>{'prompt_tokens': 3077, 'completion_tokens': 314, 'total_tokens': 3391}</b>"
      ],
      "text/plain": [
       "<IPython.core.display.Markdown object>"
      ]
     },
     "metadata": {},
     "output_type": "display_data"
    },
    {
     "name": "stdout",
     "output_type": "stream",
     "text": [
      "--------------------------------------------------------------------\n"
     ]
    },
    {
     "data": {
      "text/markdown": [
       "<b>{'prompt_tokens': 2836, 'completion_tokens': 325, 'total_tokens': 3161}</b>"
      ],
      "text/plain": [
       "<IPython.core.display.Markdown object>"
      ]
     },
     "metadata": {},
     "output_type": "display_data"
    },
    {
     "name": "stdout",
     "output_type": "stream",
     "text": [
      "--------------------------------------------------------------------\n"
     ]
    },
    {
     "data": {
      "text/markdown": [
       "<b>{'prompt_tokens': 2839, 'completion_tokens': 336, 'total_tokens': 3175}</b>"
      ],
      "text/plain": [
       "<IPython.core.display.Markdown object>"
      ]
     },
     "metadata": {},
     "output_type": "display_data"
    },
    {
     "name": "stdout",
     "output_type": "stream",
     "text": [
      "--------------------------------------------------------------------\n"
     ]
    },
    {
     "data": {
      "text/markdown": [
       "<b>{'prompt_tokens': 2788, 'completion_tokens': 307, 'total_tokens': 3095}</b>"
      ],
      "text/plain": [
       "<IPython.core.display.Markdown object>"
      ]
     },
     "metadata": {},
     "output_type": "display_data"
    },
    {
     "name": "stdout",
     "output_type": "stream",
     "text": [
      "--------------------------------------------------------------------\n"
     ]
    },
    {
     "data": {
      "text/markdown": [
       "<b>{'prompt_tokens': 2804, 'completion_tokens': 602, 'total_tokens': 3406}</b>"
      ],
      "text/plain": [
       "<IPython.core.display.Markdown object>"
      ]
     },
     "metadata": {},
     "output_type": "display_data"
    },
    {
     "name": "stdout",
     "output_type": "stream",
     "text": [
      "--------------------------------------------------------------------\n"
     ]
    },
    {
     "data": {
      "text/markdown": [
       "<b>{'prompt_tokens': 2798, 'completion_tokens': 220, 'total_tokens': 3018}</b>"
      ],
      "text/plain": [
       "<IPython.core.display.Markdown object>"
      ]
     },
     "metadata": {},
     "output_type": "display_data"
    },
    {
     "name": "stdout",
     "output_type": "stream",
     "text": [
      "--------------------------------------------------------------------\n"
     ]
    },
    {
     "data": {
      "text/markdown": [
       "<b>{'prompt_tokens': 2802, 'completion_tokens': 281, 'total_tokens': 3083}</b>"
      ],
      "text/plain": [
       "<IPython.core.display.Markdown object>"
      ]
     },
     "metadata": {},
     "output_type": "display_data"
    },
    {
     "name": "stdout",
     "output_type": "stream",
     "text": [
      "--------------------------------------------------------------------\n"
     ]
    },
    {
     "data": {
      "text/markdown": [
       "<b>{'prompt_tokens': 2798, 'completion_tokens': 558, 'total_tokens': 3356}</b>"
      ],
      "text/plain": [
       "<IPython.core.display.Markdown object>"
      ]
     },
     "metadata": {},
     "output_type": "display_data"
    },
    {
     "name": "stdout",
     "output_type": "stream",
     "text": [
      "--------------------------------------------------------------------\n"
     ]
    },
    {
     "data": {
      "text/markdown": [
       "<b>{'prompt_tokens': 2798, 'completion_tokens': 577, 'total_tokens': 3375}</b>"
      ],
      "text/plain": [
       "<IPython.core.display.Markdown object>"
      ]
     },
     "metadata": {},
     "output_type": "display_data"
    },
    {
     "name": "stdout",
     "output_type": "stream",
     "text": [
      "--------------------------------------------------------------------\n"
     ]
    },
    {
     "data": {
      "text/markdown": [
       "<b>{'prompt_tokens': 2804, 'completion_tokens': 199, 'total_tokens': 3003}</b>"
      ],
      "text/plain": [
       "<IPython.core.display.Markdown object>"
      ]
     },
     "metadata": {},
     "output_type": "display_data"
    },
    {
     "name": "stdout",
     "output_type": "stream",
     "text": [
      "--------------------------------------------------------------------\n"
     ]
    },
    {
     "data": {
      "text/markdown": [
       "<b>{'prompt_tokens': 2806, 'completion_tokens': 399, 'total_tokens': 3205}</b>"
      ],
      "text/plain": [
       "<IPython.core.display.Markdown object>"
      ]
     },
     "metadata": {},
     "output_type": "display_data"
    },
    {
     "name": "stdout",
     "output_type": "stream",
     "text": [
      "--------------------------------------------------------------------\n"
     ]
    },
    {
     "data": {
      "text/markdown": [
       "<b>{'prompt_tokens': 2806, 'completion_tokens': 290, 'total_tokens': 3096}</b>"
      ],
      "text/plain": [
       "<IPython.core.display.Markdown object>"
      ]
     },
     "metadata": {},
     "output_type": "display_data"
    },
    {
     "name": "stdout",
     "output_type": "stream",
     "text": [
      "--------------------------------------------------------------------\n"
     ]
    },
    {
     "data": {
      "text/markdown": [
       "<b>{'prompt_tokens': 2802, 'completion_tokens': 251, 'total_tokens': 3053}</b>"
      ],
      "text/plain": [
       "<IPython.core.display.Markdown object>"
      ]
     },
     "metadata": {},
     "output_type": "display_data"
    },
    {
     "name": "stdout",
     "output_type": "stream",
     "text": [
      "--------------------------------------------------------------------\n"
     ]
    },
    {
     "data": {
      "text/markdown": [
       "<b>{'prompt_tokens': 2798, 'completion_tokens': 217, 'total_tokens': 3015}</b>"
      ],
      "text/plain": [
       "<IPython.core.display.Markdown object>"
      ]
     },
     "metadata": {},
     "output_type": "display_data"
    },
    {
     "name": "stdout",
     "output_type": "stream",
     "text": [
      "--------------------------------------------------------------------\n"
     ]
    },
    {
     "data": {
      "text/markdown": [
       "<b>{'prompt_tokens': 2721, 'completion_tokens': 433, 'total_tokens': 3154}</b>"
      ],
      "text/plain": [
       "<IPython.core.display.Markdown object>"
      ]
     },
     "metadata": {},
     "output_type": "display_data"
    },
    {
     "name": "stdout",
     "output_type": "stream",
     "text": [
      "--------------------------------------------------------------------\n"
     ]
    },
    {
     "data": {
      "text/markdown": [
       "<b>{'prompt_tokens': 2721, 'completion_tokens': 237, 'total_tokens': 2958}</b>"
      ],
      "text/plain": [
       "<IPython.core.display.Markdown object>"
      ]
     },
     "metadata": {},
     "output_type": "display_data"
    },
    {
     "name": "stdout",
     "output_type": "stream",
     "text": [
      "--------------------------------------------------------------------\n"
     ]
    },
    {
     "data": {
      "text/markdown": [
       "<b>{'prompt_tokens': 2799, 'completion_tokens': 337, 'total_tokens': 3136}</b>"
      ],
      "text/plain": [
       "<IPython.core.display.Markdown object>"
      ]
     },
     "metadata": {},
     "output_type": "display_data"
    },
    {
     "name": "stdout",
     "output_type": "stream",
     "text": [
      "--------------------------------------------------------------------\n"
     ]
    },
    {
     "data": {
      "text/markdown": [
       "<b>{'prompt_tokens': 2800, 'completion_tokens': 302, 'total_tokens': 3102}</b>"
      ],
      "text/plain": [
       "<IPython.core.display.Markdown object>"
      ]
     },
     "metadata": {},
     "output_type": "display_data"
    },
    {
     "name": "stdout",
     "output_type": "stream",
     "text": [
      "--------------------------------------------------------------------\n"
     ]
    },
    {
     "data": {
      "text/markdown": [
       "<b>{'prompt_tokens': 2804, 'completion_tokens': 276, 'total_tokens': 3080}</b>"
      ],
      "text/plain": [
       "<IPython.core.display.Markdown object>"
      ]
     },
     "metadata": {},
     "output_type": "display_data"
    },
    {
     "name": "stdout",
     "output_type": "stream",
     "text": [
      "--------------------------------------------------------------------\n"
     ]
    },
    {
     "data": {
      "text/markdown": [
       "<b>{'prompt_tokens': 2804, 'completion_tokens': 469, 'total_tokens': 3273}</b>"
      ],
      "text/plain": [
       "<IPython.core.display.Markdown object>"
      ]
     },
     "metadata": {},
     "output_type": "display_data"
    },
    {
     "name": "stdout",
     "output_type": "stream",
     "text": [
      "--------------------------------------------------------------------\n"
     ]
    },
    {
     "data": {
      "text/markdown": [
       "<b>{'prompt_tokens': 2804, 'completion_tokens': 471, 'total_tokens': 3275}</b>"
      ],
      "text/plain": [
       "<IPython.core.display.Markdown object>"
      ]
     },
     "metadata": {},
     "output_type": "display_data"
    },
    {
     "name": "stdout",
     "output_type": "stream",
     "text": [
      "--------------------------------------------------------------------\n"
     ]
    },
    {
     "data": {
      "text/markdown": [
       "<b>{'prompt_tokens': 2806, 'completion_tokens': 206, 'total_tokens': 3012}</b>"
      ],
      "text/plain": [
       "<IPython.core.display.Markdown object>"
      ]
     },
     "metadata": {},
     "output_type": "display_data"
    },
    {
     "name": "stdout",
     "output_type": "stream",
     "text": [
      "--------------------------------------------------------------------\n"
     ]
    },
    {
     "data": {
      "text/markdown": [
       "<b>{'prompt_tokens': 2802, 'completion_tokens': 295, 'total_tokens': 3097}</b>"
      ],
      "text/plain": [
       "<IPython.core.display.Markdown object>"
      ]
     },
     "metadata": {},
     "output_type": "display_data"
    },
    {
     "name": "stdout",
     "output_type": "stream",
     "text": [
      "--------------------------------------------------------------------\n"
     ]
    },
    {
     "data": {
      "text/markdown": [
       "<b>{'prompt_tokens': 2802, 'completion_tokens': 296, 'total_tokens': 3098}</b>"
      ],
      "text/plain": [
       "<IPython.core.display.Markdown object>"
      ]
     },
     "metadata": {},
     "output_type": "display_data"
    },
    {
     "name": "stdout",
     "output_type": "stream",
     "text": [
      "--------------------------------------------------------------------\n"
     ]
    },
    {
     "data": {
      "text/markdown": [
       "<b>{'prompt_tokens': 2802, 'completion_tokens': 322, 'total_tokens': 3124}</b>"
      ],
      "text/plain": [
       "<IPython.core.display.Markdown object>"
      ]
     },
     "metadata": {},
     "output_type": "display_data"
    },
    {
     "name": "stdout",
     "output_type": "stream",
     "text": [
      "--------------------------------------------------------------------\n"
     ]
    },
    {
     "data": {
      "text/markdown": [
       "<b>{'prompt_tokens': 2857, 'completion_tokens': 397, 'total_tokens': 3254}</b>"
      ],
      "text/plain": [
       "<IPython.core.display.Markdown object>"
      ]
     },
     "metadata": {},
     "output_type": "display_data"
    },
    {
     "name": "stdout",
     "output_type": "stream",
     "text": [
      "--------------------------------------------------------------------\n"
     ]
    },
    {
     "data": {
      "text/markdown": [
       "<b>{'prompt_tokens': 2804, 'completion_tokens': 327, 'total_tokens': 3131}</b>"
      ],
      "text/plain": [
       "<IPython.core.display.Markdown object>"
      ]
     },
     "metadata": {},
     "output_type": "display_data"
    },
    {
     "name": "stdout",
     "output_type": "stream",
     "text": [
      "--------------------------------------------------------------------\n"
     ]
    },
    {
     "data": {
      "text/markdown": [
       "<b>{'prompt_tokens': 2853, 'completion_tokens': 334, 'total_tokens': 3187}</b>"
      ],
      "text/plain": [
       "<IPython.core.display.Markdown object>"
      ]
     },
     "metadata": {},
     "output_type": "display_data"
    },
    {
     "name": "stdout",
     "output_type": "stream",
     "text": [
      "--------------------------------------------------------------------\n"
     ]
    },
    {
     "data": {
      "text/markdown": [
       "<b>{'prompt_tokens': 2804, 'completion_tokens': 478, 'total_tokens': 3282}</b>"
      ],
      "text/plain": [
       "<IPython.core.display.Markdown object>"
      ]
     },
     "metadata": {},
     "output_type": "display_data"
    },
    {
     "name": "stdout",
     "output_type": "stream",
     "text": [
      "--------------------------------------------------------------------\n"
     ]
    },
    {
     "data": {
      "text/markdown": [
       "<b>{'prompt_tokens': 2899, 'completion_tokens': 474, 'total_tokens': 3373}</b>"
      ],
      "text/plain": [
       "<IPython.core.display.Markdown object>"
      ]
     },
     "metadata": {},
     "output_type": "display_data"
    },
    {
     "name": "stdout",
     "output_type": "stream",
     "text": [
      "--------------------------------------------------------------------\n"
     ]
    },
    {
     "data": {
      "text/markdown": [
       "<b>{'prompt_tokens': 2798, 'completion_tokens': 346, 'total_tokens': 3144}</b>"
      ],
      "text/plain": [
       "<IPython.core.display.Markdown object>"
      ]
     },
     "metadata": {},
     "output_type": "display_data"
    },
    {
     "name": "stdout",
     "output_type": "stream",
     "text": [
      "--------------------------------------------------------------------\n"
     ]
    },
    {
     "data": {
      "text/markdown": [
       "<b>{'prompt_tokens': 2798, 'completion_tokens': 301, 'total_tokens': 3099}</b>"
      ],
      "text/plain": [
       "<IPython.core.display.Markdown object>"
      ]
     },
     "metadata": {},
     "output_type": "display_data"
    },
    {
     "name": "stdout",
     "output_type": "stream",
     "text": [
      "--------------------------------------------------------------------\n"
     ]
    },
    {
     "data": {
      "text/markdown": [
       "<b>{'prompt_tokens': 2838, 'completion_tokens': 257, 'total_tokens': 3095}</b>"
      ],
      "text/plain": [
       "<IPython.core.display.Markdown object>"
      ]
     },
     "metadata": {},
     "output_type": "display_data"
    },
    {
     "name": "stdout",
     "output_type": "stream",
     "text": [
      "--------------------------------------------------------------------\n"
     ]
    },
    {
     "data": {
      "text/markdown": [
       "<b>{'prompt_tokens': 2838, 'completion_tokens': 391, 'total_tokens': 3229}</b>"
      ],
      "text/plain": [
       "<IPython.core.display.Markdown object>"
      ]
     },
     "metadata": {},
     "output_type": "display_data"
    },
    {
     "name": "stdout",
     "output_type": "stream",
     "text": [
      "--------------------------------------------------------------------\n"
     ]
    },
    {
     "data": {
      "text/markdown": [
       "<b>{'prompt_tokens': 2838, 'completion_tokens': 406, 'total_tokens': 3244}</b>"
      ],
      "text/plain": [
       "<IPython.core.display.Markdown object>"
      ]
     },
     "metadata": {},
     "output_type": "display_data"
    },
    {
     "name": "stdout",
     "output_type": "stream",
     "text": [
      "--------------------------------------------------------------------\n"
     ]
    },
    {
     "data": {
      "text/markdown": [
       "<b>{'prompt_tokens': 2789, 'completion_tokens': 213, 'total_tokens': 3002}</b>"
      ],
      "text/plain": [
       "<IPython.core.display.Markdown object>"
      ]
     },
     "metadata": {},
     "output_type": "display_data"
    },
    {
     "name": "stdout",
     "output_type": "stream",
     "text": [
      "--------------------------------------------------------------------\n"
     ]
    },
    {
     "data": {
      "text/markdown": [
       "<b>{'prompt_tokens': 2862, 'completion_tokens': 111, 'total_tokens': 2973}</b>"
      ],
      "text/plain": [
       "<IPython.core.display.Markdown object>"
      ]
     },
     "metadata": {},
     "output_type": "display_data"
    },
    {
     "name": "stdout",
     "output_type": "stream",
     "text": [
      "--------------------------------------------------------------------\n"
     ]
    },
    {
     "data": {
      "text/markdown": [
       "<b>{'prompt_tokens': 2800, 'completion_tokens': 33, 'total_tokens': 2833}</b>"
      ],
      "text/plain": [
       "<IPython.core.display.Markdown object>"
      ]
     },
     "metadata": {},
     "output_type": "display_data"
    },
    {
     "name": "stdout",
     "output_type": "stream",
     "text": [
      "--------------------------------------------------------------------\n"
     ]
    },
    {
     "data": {
      "text/markdown": [
       "<b>{'prompt_tokens': 2800, 'completion_tokens': 369, 'total_tokens': 3169}</b>"
      ],
      "text/plain": [
       "<IPython.core.display.Markdown object>"
      ]
     },
     "metadata": {},
     "output_type": "display_data"
    },
    {
     "name": "stdout",
     "output_type": "stream",
     "text": [
      "--------------------------------------------------------------------\n"
     ]
    },
    {
     "data": {
      "text/markdown": [
       "<b>{'prompt_tokens': 2800, 'completion_tokens': 313, 'total_tokens': 3113}</b>"
      ],
      "text/plain": [
       "<IPython.core.display.Markdown object>"
      ]
     },
     "metadata": {},
     "output_type": "display_data"
    },
    {
     "name": "stdout",
     "output_type": "stream",
     "text": [
      "--------------------------------------------------------------------\n"
     ]
    },
    {
     "data": {
      "text/markdown": [
       "<b>{'prompt_tokens': 2800, 'completion_tokens': 374, 'total_tokens': 3174}</b>"
      ],
      "text/plain": [
       "<IPython.core.display.Markdown object>"
      ]
     },
     "metadata": {},
     "output_type": "display_data"
    },
    {
     "name": "stdout",
     "output_type": "stream",
     "text": [
      "--------------------------------------------------------------------\n"
     ]
    },
    {
     "data": {
      "text/markdown": [
       "<b>{'prompt_tokens': 2798, 'completion_tokens': 333, 'total_tokens': 3131}</b>"
      ],
      "text/plain": [
       "<IPython.core.display.Markdown object>"
      ]
     },
     "metadata": {},
     "output_type": "display_data"
    },
    {
     "name": "stdout",
     "output_type": "stream",
     "text": [
      "--------------------------------------------------------------------\n"
     ]
    },
    {
     "data": {
      "text/markdown": [
       "<b>{'prompt_tokens': 2798, 'completion_tokens': 288, 'total_tokens': 3086}</b>"
      ],
      "text/plain": [
       "<IPython.core.display.Markdown object>"
      ]
     },
     "metadata": {},
     "output_type": "display_data"
    },
    {
     "name": "stdout",
     "output_type": "stream",
     "text": [
      "--------------------------------------------------------------------\n"
     ]
    },
    {
     "data": {
      "text/markdown": [
       "<b>{'prompt_tokens': 2798, 'completion_tokens': 324, 'total_tokens': 3122}</b>"
      ],
      "text/plain": [
       "<IPython.core.display.Markdown object>"
      ]
     },
     "metadata": {},
     "output_type": "display_data"
    },
    {
     "name": "stdout",
     "output_type": "stream",
     "text": [
      "--------------------------------------------------------------------\n"
     ]
    },
    {
     "data": {
      "text/markdown": [
       "<b>{'prompt_tokens': 2800, 'completion_tokens': 358, 'total_tokens': 3158}</b>"
      ],
      "text/plain": [
       "<IPython.core.display.Markdown object>"
      ]
     },
     "metadata": {},
     "output_type": "display_data"
    },
    {
     "name": "stdout",
     "output_type": "stream",
     "text": [
      "--------------------------------------------------------------------\n"
     ]
    },
    {
     "data": {
      "text/markdown": [
       "<b>{'prompt_tokens': 2800, 'completion_tokens': 321, 'total_tokens': 3121}</b>"
      ],
      "text/plain": [
       "<IPython.core.display.Markdown object>"
      ]
     },
     "metadata": {},
     "output_type": "display_data"
    },
    {
     "name": "stdout",
     "output_type": "stream",
     "text": [
      "--------------------------------------------------------------------\n"
     ]
    },
    {
     "data": {
      "text/markdown": [
       "<b>{'prompt_tokens': 2819, 'completion_tokens': 27, 'total_tokens': 2846}</b>"
      ],
      "text/plain": [
       "<IPython.core.display.Markdown object>"
      ]
     },
     "metadata": {},
     "output_type": "display_data"
    },
    {
     "name": "stdout",
     "output_type": "stream",
     "text": [
      "--------------------------------------------------------------------\n"
     ]
    },
    {
     "data": {
      "text/markdown": [
       "<b>{'prompt_tokens': 2819, 'completion_tokens': 311, 'total_tokens': 3130}</b>"
      ],
      "text/plain": [
       "<IPython.core.display.Markdown object>"
      ]
     },
     "metadata": {},
     "output_type": "display_data"
    },
    {
     "name": "stdout",
     "output_type": "stream",
     "text": [
      "--------------------------------------------------------------------\n"
     ]
    },
    {
     "data": {
      "text/markdown": [
       "<b>{'prompt_tokens': 2897, 'completion_tokens': 143, 'total_tokens': 3040}</b>"
      ],
      "text/plain": [
       "<IPython.core.display.Markdown object>"
      ]
     },
     "metadata": {},
     "output_type": "display_data"
    },
    {
     "name": "stdout",
     "output_type": "stream",
     "text": [
      "--------------------------------------------------------------------\n"
     ]
    },
    {
     "data": {
      "text/markdown": [
       "<b>{'prompt_tokens': 2798, 'completion_tokens': 280, 'total_tokens': 3078}</b>"
      ],
      "text/plain": [
       "<IPython.core.display.Markdown object>"
      ]
     },
     "metadata": {},
     "output_type": "display_data"
    },
    {
     "name": "stdout",
     "output_type": "stream",
     "text": [
      "--------------------------------------------------------------------\n"
     ]
    },
    {
     "data": {
      "text/markdown": [
       "<b>{'prompt_tokens': 2800, 'completion_tokens': 118, 'total_tokens': 2918}</b>"
      ],
      "text/plain": [
       "<IPython.core.display.Markdown object>"
      ]
     },
     "metadata": {},
     "output_type": "display_data"
    },
    {
     "name": "stdout",
     "output_type": "stream",
     "text": [
      "--------------------------------------------------------------------\n"
     ]
    },
    {
     "data": {
      "text/markdown": [
       "<b>{'prompt_tokens': 2800, 'completion_tokens': 388, 'total_tokens': 3188}</b>"
      ],
      "text/plain": [
       "<IPython.core.display.Markdown object>"
      ]
     },
     "metadata": {},
     "output_type": "display_data"
    },
    {
     "name": "stdout",
     "output_type": "stream",
     "text": [
      "--------------------------------------------------------------------\n"
     ]
    },
    {
     "data": {
      "text/markdown": [
       "<b>{'prompt_tokens': 2800, 'completion_tokens': 349, 'total_tokens': 3149}</b>"
      ],
      "text/plain": [
       "<IPython.core.display.Markdown object>"
      ]
     },
     "metadata": {},
     "output_type": "display_data"
    },
    {
     "name": "stdout",
     "output_type": "stream",
     "text": [
      "--------------------------------------------------------------------\n"
     ]
    },
    {
     "data": {
      "text/markdown": [
       "<b>{'prompt_tokens': 2800, 'completion_tokens': 220, 'total_tokens': 3020}</b>"
      ],
      "text/plain": [
       "<IPython.core.display.Markdown object>"
      ]
     },
     "metadata": {},
     "output_type": "display_data"
    },
    {
     "name": "stdout",
     "output_type": "stream",
     "text": [
      "--------------------------------------------------------------------\n"
     ]
    },
    {
     "data": {
      "text/markdown": [
       "<b>{'prompt_tokens': 2798, 'completion_tokens': 342, 'total_tokens': 3140}</b>"
      ],
      "text/plain": [
       "<IPython.core.display.Markdown object>"
      ]
     },
     "metadata": {},
     "output_type": "display_data"
    },
    {
     "name": "stdout",
     "output_type": "stream",
     "text": [
      "--------------------------------------------------------------------\n"
     ]
    },
    {
     "data": {
      "text/markdown": [
       "<b>{'prompt_tokens': 2798, 'completion_tokens': 19, 'total_tokens': 2817}</b>"
      ],
      "text/plain": [
       "<IPython.core.display.Markdown object>"
      ]
     },
     "metadata": {},
     "output_type": "display_data"
    },
    {
     "name": "stdout",
     "output_type": "stream",
     "text": [
      "--------------------------------------------------------------------\n"
     ]
    },
    {
     "data": {
      "text/markdown": [
       "<b>{'prompt_tokens': 2798, 'completion_tokens': 19, 'total_tokens': 2817}</b>"
      ],
      "text/plain": [
       "<IPython.core.display.Markdown object>"
      ]
     },
     "metadata": {},
     "output_type": "display_data"
    },
    {
     "name": "stdout",
     "output_type": "stream",
     "text": [
      "--------------------------------------------------------------------\n"
     ]
    },
    {
     "data": {
      "text/markdown": [
       "<b>{'prompt_tokens': 2798, 'completion_tokens': 343, 'total_tokens': 3141}</b>"
      ],
      "text/plain": [
       "<IPython.core.display.Markdown object>"
      ]
     },
     "metadata": {},
     "output_type": "display_data"
    },
    {
     "name": "stdout",
     "output_type": "stream",
     "text": [
      "--------------------------------------------------------------------\n"
     ]
    },
    {
     "data": {
      "text/markdown": [
       "<b>{'prompt_tokens': 2800, 'completion_tokens': 588, 'total_tokens': 3388}</b>"
      ],
      "text/plain": [
       "<IPython.core.display.Markdown object>"
      ]
     },
     "metadata": {},
     "output_type": "display_data"
    },
    {
     "name": "stdout",
     "output_type": "stream",
     "text": [
      "--------------------------------------------------------------------\n"
     ]
    },
    {
     "data": {
      "text/markdown": [
       "<b>{'prompt_tokens': 2800, 'completion_tokens': 376, 'total_tokens': 3176}</b>"
      ],
      "text/plain": [
       "<IPython.core.display.Markdown object>"
      ]
     },
     "metadata": {},
     "output_type": "display_data"
    },
    {
     "name": "stdout",
     "output_type": "stream",
     "text": [
      "--------------------------------------------------------------------\n"
     ]
    },
    {
     "data": {
      "text/markdown": [
       "<b>{'prompt_tokens': 2800, 'completion_tokens': 363, 'total_tokens': 3163}</b>"
      ],
      "text/plain": [
       "<IPython.core.display.Markdown object>"
      ]
     },
     "metadata": {},
     "output_type": "display_data"
    },
    {
     "name": "stdout",
     "output_type": "stream",
     "text": [
      "--------------------------------------------------------------------\n"
     ]
    },
    {
     "data": {
      "text/markdown": [
       "<b>{'prompt_tokens': 2800, 'completion_tokens': 254, 'total_tokens': 3054}</b>"
      ],
      "text/plain": [
       "<IPython.core.display.Markdown object>"
      ]
     },
     "metadata": {},
     "output_type": "display_data"
    },
    {
     "name": "stdout",
     "output_type": "stream",
     "text": [
      "--------------------------------------------------------------------\n"
     ]
    },
    {
     "data": {
      "text/markdown": [
       "<b>{'prompt_tokens': 2853, 'completion_tokens': 422, 'total_tokens': 3275}</b>"
      ],
      "text/plain": [
       "<IPython.core.display.Markdown object>"
      ]
     },
     "metadata": {},
     "output_type": "display_data"
    },
    {
     "name": "stdout",
     "output_type": "stream",
     "text": [
      "--------------------------------------------------------------------\n"
     ]
    },
    {
     "data": {
      "text/markdown": [
       "<b>{'prompt_tokens': 2853, 'completion_tokens': 277, 'total_tokens': 3130}</b>"
      ],
      "text/plain": [
       "<IPython.core.display.Markdown object>"
      ]
     },
     "metadata": {},
     "output_type": "display_data"
    },
    {
     "name": "stdout",
     "output_type": "stream",
     "text": [
      "--------------------------------------------------------------------\n"
     ]
    },
    {
     "data": {
      "text/markdown": [
       "<b>{'prompt_tokens': 2848, 'completion_tokens': 315, 'total_tokens': 3163}</b>"
      ],
      "text/plain": [
       "<IPython.core.display.Markdown object>"
      ]
     },
     "metadata": {},
     "output_type": "display_data"
    },
    {
     "name": "stdout",
     "output_type": "stream",
     "text": [
      "--------------------------------------------------------------------\n"
     ]
    },
    {
     "data": {
      "text/markdown": [
       "<b>{'prompt_tokens': 2848, 'completion_tokens': 355, 'total_tokens': 3203}</b>"
      ],
      "text/plain": [
       "<IPython.core.display.Markdown object>"
      ]
     },
     "metadata": {},
     "output_type": "display_data"
    },
    {
     "name": "stdout",
     "output_type": "stream",
     "text": [
      "--------------------------------------------------------------------\n"
     ]
    },
    {
     "data": {
      "text/markdown": [
       "<b>{'prompt_tokens': 2840, 'completion_tokens': 174, 'total_tokens': 3014}</b>"
      ],
      "text/plain": [
       "<IPython.core.display.Markdown object>"
      ]
     },
     "metadata": {},
     "output_type": "display_data"
    },
    {
     "name": "stdout",
     "output_type": "stream",
     "text": [
      "--------------------------------------------------------------------\n"
     ]
    },
    {
     "data": {
      "text/markdown": [
       "<b>{'prompt_tokens': 2840, 'completion_tokens': 367, 'total_tokens': 3207}</b>"
      ],
      "text/plain": [
       "<IPython.core.display.Markdown object>"
      ]
     },
     "metadata": {},
     "output_type": "display_data"
    },
    {
     "name": "stdout",
     "output_type": "stream",
     "text": [
      "--------------------------------------------------------------------\n"
     ]
    },
    {
     "data": {
      "text/markdown": [
       "<b>{'prompt_tokens': 2840, 'completion_tokens': 289, 'total_tokens': 3129}</b>"
      ],
      "text/plain": [
       "<IPython.core.display.Markdown object>"
      ]
     },
     "metadata": {},
     "output_type": "display_data"
    },
    {
     "name": "stdout",
     "output_type": "stream",
     "text": [
      "--------------------------------------------------------------------\n"
     ]
    },
    {
     "data": {
      "text/markdown": [
       "<b>{'prompt_tokens': 2802, 'completion_tokens': 138, 'total_tokens': 2940}</b>"
      ],
      "text/plain": [
       "<IPython.core.display.Markdown object>"
      ]
     },
     "metadata": {},
     "output_type": "display_data"
    },
    {
     "name": "stdout",
     "output_type": "stream",
     "text": [
      "--------------------------------------------------------------------\n"
     ]
    },
    {
     "data": {
      "text/markdown": [
       "<b>{'prompt_tokens': 2800, 'completion_tokens': 377, 'total_tokens': 3177}</b>"
      ],
      "text/plain": [
       "<IPython.core.display.Markdown object>"
      ]
     },
     "metadata": {},
     "output_type": "display_data"
    },
    {
     "name": "stdout",
     "output_type": "stream",
     "text": [
      "--------------------------------------------------------------------\n"
     ]
    },
    {
     "data": {
      "text/markdown": [
       "<b>{'prompt_tokens': 2800, 'completion_tokens': 270, 'total_tokens': 3070}</b>"
      ],
      "text/plain": [
       "<IPython.core.display.Markdown object>"
      ]
     },
     "metadata": {},
     "output_type": "display_data"
    },
    {
     "name": "stdout",
     "output_type": "stream",
     "text": [
      "--------------------------------------------------------------------\n"
     ]
    },
    {
     "data": {
      "text/markdown": [
       "<b>{'prompt_tokens': 2800, 'completion_tokens': 207, 'total_tokens': 3007}</b>"
      ],
      "text/plain": [
       "<IPython.core.display.Markdown object>"
      ]
     },
     "metadata": {},
     "output_type": "display_data"
    },
    {
     "name": "stdout",
     "output_type": "stream",
     "text": [
      "--------------------------------------------------------------------\n"
     ]
    },
    {
     "data": {
      "text/markdown": [
       "<b>{'prompt_tokens': 2800, 'completion_tokens': 337, 'total_tokens': 3137}</b>"
      ],
      "text/plain": [
       "<IPython.core.display.Markdown object>"
      ]
     },
     "metadata": {},
     "output_type": "display_data"
    },
    {
     "name": "stdout",
     "output_type": "stream",
     "text": [
      "--------------------------------------------------------------------\n"
     ]
    },
    {
     "data": {
      "text/markdown": [
       "<b>{'prompt_tokens': 2879, 'completion_tokens': 364, 'total_tokens': 3243}</b>"
      ],
      "text/plain": [
       "<IPython.core.display.Markdown object>"
      ]
     },
     "metadata": {},
     "output_type": "display_data"
    },
    {
     "name": "stdout",
     "output_type": "stream",
     "text": [
      "--------------------------------------------------------------------\n"
     ]
    },
    {
     "data": {
      "text/markdown": [
       "<b>{'prompt_tokens': 2879, 'completion_tokens': 27, 'total_tokens': 2906}</b>"
      ],
      "text/plain": [
       "<IPython.core.display.Markdown object>"
      ]
     },
     "metadata": {},
     "output_type": "display_data"
    },
    {
     "name": "stdout",
     "output_type": "stream",
     "text": [
      "--------------------------------------------------------------------\n"
     ]
    },
    {
     "data": {
      "text/markdown": [
       "<b>{'prompt_tokens': 2798, 'completion_tokens': 421, 'total_tokens': 3219}</b>"
      ],
      "text/plain": [
       "<IPython.core.display.Markdown object>"
      ]
     },
     "metadata": {},
     "output_type": "display_data"
    },
    {
     "name": "stdout",
     "output_type": "stream",
     "text": [
      "--------------------------------------------------------------------\n"
     ]
    },
    {
     "data": {
      "text/markdown": [
       "<b>{'prompt_tokens': 2860, 'completion_tokens': 305, 'total_tokens': 3165}</b>"
      ],
      "text/plain": [
       "<IPython.core.display.Markdown object>"
      ]
     },
     "metadata": {},
     "output_type": "display_data"
    },
    {
     "name": "stdout",
     "output_type": "stream",
     "text": [
      "--------------------------------------------------------------------\n"
     ]
    },
    {
     "data": {
      "text/markdown": [
       "<b>{'prompt_tokens': 2860, 'completion_tokens': 500, 'total_tokens': 3360}</b>"
      ],
      "text/plain": [
       "<IPython.core.display.Markdown object>"
      ]
     },
     "metadata": {},
     "output_type": "display_data"
    },
    {
     "name": "stdout",
     "output_type": "stream",
     "text": [
      "--------------------------------------------------------------------\n"
     ]
    },
    {
     "data": {
      "text/markdown": [
       "<b>{'prompt_tokens': 2789, 'completion_tokens': 144, 'total_tokens': 2933}</b>"
      ],
      "text/plain": [
       "<IPython.core.display.Markdown object>"
      ]
     },
     "metadata": {},
     "output_type": "display_data"
    },
    {
     "name": "stdout",
     "output_type": "stream",
     "text": [
      "--------------------------------------------------------------------\n"
     ]
    },
    {
     "data": {
      "text/markdown": [
       "<b>{'prompt_tokens': 2862, 'completion_tokens': 379, 'total_tokens': 3241}</b>"
      ],
      "text/plain": [
       "<IPython.core.display.Markdown object>"
      ]
     },
     "metadata": {},
     "output_type": "display_data"
    },
    {
     "name": "stdout",
     "output_type": "stream",
     "text": [
      "--------------------------------------------------------------------\n"
     ]
    },
    {
     "data": {
      "text/markdown": [
       "<b>{'prompt_tokens': 2800, 'completion_tokens': 544, 'total_tokens': 3344}</b>"
      ],
      "text/plain": [
       "<IPython.core.display.Markdown object>"
      ]
     },
     "metadata": {},
     "output_type": "display_data"
    },
    {
     "name": "stdout",
     "output_type": "stream",
     "text": [
      "--------------------------------------------------------------------\n"
     ]
    },
    {
     "data": {
      "text/markdown": [
       "<b>{'prompt_tokens': 2788, 'completion_tokens': 219, 'total_tokens': 3007}</b>"
      ],
      "text/plain": [
       "<IPython.core.display.Markdown object>"
      ]
     },
     "metadata": {},
     "output_type": "display_data"
    },
    {
     "name": "stdout",
     "output_type": "stream",
     "text": [
      "--------------------------------------------------------------------\n"
     ]
    },
    {
     "data": {
      "text/markdown": [
       "<b>{'prompt_tokens': 2800, 'completion_tokens': 367, 'total_tokens': 3167}</b>"
      ],
      "text/plain": [
       "<IPython.core.display.Markdown object>"
      ]
     },
     "metadata": {},
     "output_type": "display_data"
    },
    {
     "name": "stdout",
     "output_type": "stream",
     "text": [
      "--------------------------------------------------------------------\n"
     ]
    },
    {
     "data": {
      "text/markdown": [
       "<b>{'prompt_tokens': 2800, 'completion_tokens': 456, 'total_tokens': 3256}</b>"
      ],
      "text/plain": [
       "<IPython.core.display.Markdown object>"
      ]
     },
     "metadata": {},
     "output_type": "display_data"
    },
    {
     "name": "stdout",
     "output_type": "stream",
     "text": [
      "--------------------------------------------------------------------\n"
     ]
    },
    {
     "data": {
      "text/markdown": [
       "<b>{'prompt_tokens': 2721, 'completion_tokens': 430, 'total_tokens': 3151}</b>"
      ],
      "text/plain": [
       "<IPython.core.display.Markdown object>"
      ]
     },
     "metadata": {},
     "output_type": "display_data"
    },
    {
     "name": "stdout",
     "output_type": "stream",
     "text": [
      "--------------------------------------------------------------------\n"
     ]
    },
    {
     "data": {
      "text/markdown": [
       "<b>{'prompt_tokens': 2721, 'completion_tokens': 19, 'total_tokens': 2740}</b>"
      ],
      "text/plain": [
       "<IPython.core.display.Markdown object>"
      ]
     },
     "metadata": {},
     "output_type": "display_data"
    },
    {
     "name": "stdout",
     "output_type": "stream",
     "text": [
      "--------------------------------------------------------------------\n"
     ]
    },
    {
     "data": {
      "text/markdown": [
       "<b>{'prompt_tokens': 2802, 'completion_tokens': 269, 'total_tokens': 3071}</b>"
      ],
      "text/plain": [
       "<IPython.core.display.Markdown object>"
      ]
     },
     "metadata": {},
     "output_type": "display_data"
    },
    {
     "name": "stdout",
     "output_type": "stream",
     "text": [
      "--------------------------------------------------------------------\n"
     ]
    },
    {
     "data": {
      "text/markdown": [
       "<b>{'prompt_tokens': 2817, 'completion_tokens': 433, 'total_tokens': 3250}</b>"
      ],
      "text/plain": [
       "<IPython.core.display.Markdown object>"
      ]
     },
     "metadata": {},
     "output_type": "display_data"
    },
    {
     "name": "stdout",
     "output_type": "stream",
     "text": [
      "--------------------------------------------------------------------\n"
     ]
    },
    {
     "data": {
      "text/markdown": [
       "<b>{'prompt_tokens': 2901, 'completion_tokens': 261, 'total_tokens': 3162}</b>"
      ],
      "text/plain": [
       "<IPython.core.display.Markdown object>"
      ]
     },
     "metadata": {},
     "output_type": "display_data"
    },
    {
     "name": "stdout",
     "output_type": "stream",
     "text": [
      "--------------------------------------------------------------------\n"
     ]
    },
    {
     "data": {
      "text/markdown": [
       "<b>{'prompt_tokens': 2897, 'completion_tokens': 347, 'total_tokens': 3244}</b>"
      ],
      "text/plain": [
       "<IPython.core.display.Markdown object>"
      ]
     },
     "metadata": {},
     "output_type": "display_data"
    },
    {
     "name": "stdout",
     "output_type": "stream",
     "text": [
      "--------------------------------------------------------------------\n"
     ]
    },
    {
     "data": {
      "text/markdown": [
       "<b>{'prompt_tokens': 2800, 'completion_tokens': 202, 'total_tokens': 3002}</b>"
      ],
      "text/plain": [
       "<IPython.core.display.Markdown object>"
      ]
     },
     "metadata": {},
     "output_type": "display_data"
    },
    {
     "name": "stdout",
     "output_type": "stream",
     "text": [
      "--------------------------------------------------------------------\n"
     ]
    },
    {
     "data": {
      "text/markdown": [
       "<b>{'prompt_tokens': 2800, 'completion_tokens': 184, 'total_tokens': 2984}</b>"
      ],
      "text/plain": [
       "<IPython.core.display.Markdown object>"
      ]
     },
     "metadata": {},
     "output_type": "display_data"
    },
    {
     "name": "stdout",
     "output_type": "stream",
     "text": [
      "--------------------------------------------------------------------\n"
     ]
    },
    {
     "data": {
      "text/markdown": [
       "<b>{'prompt_tokens': 2800, 'completion_tokens': 143, 'total_tokens': 2943}</b>"
      ],
      "text/plain": [
       "<IPython.core.display.Markdown object>"
      ]
     },
     "metadata": {},
     "output_type": "display_data"
    },
    {
     "name": "stdout",
     "output_type": "stream",
     "text": [
      "--------------------------------------------------------------------\n"
     ]
    },
    {
     "data": {
      "text/markdown": [
       "<b>{'prompt_tokens': 2895, 'completion_tokens': 629, 'total_tokens': 3524}</b>"
      ],
      "text/plain": [
       "<IPython.core.display.Markdown object>"
      ]
     },
     "metadata": {},
     "output_type": "display_data"
    },
    {
     "name": "stdout",
     "output_type": "stream",
     "text": [
      "--------------------------------------------------------------------\n"
     ]
    },
    {
     "data": {
      "text/markdown": [
       "<b>{'prompt_tokens': 2818, 'completion_tokens': 19, 'total_tokens': 2837}</b>"
      ],
      "text/plain": [
       "<IPython.core.display.Markdown object>"
      ]
     },
     "metadata": {},
     "output_type": "display_data"
    },
    {
     "name": "stdout",
     "output_type": "stream",
     "text": [
      "--------------------------------------------------------------------\n"
     ]
    },
    {
     "data": {
      "text/markdown": [
       "<b>{'prompt_tokens': 2804, 'completion_tokens': 108, 'total_tokens': 2912}</b>"
      ],
      "text/plain": [
       "<IPython.core.display.Markdown object>"
      ]
     },
     "metadata": {},
     "output_type": "display_data"
    },
    {
     "name": "stdout",
     "output_type": "stream",
     "text": [
      "--------------------------------------------------------------------\n"
     ]
    },
    {
     "data": {
      "text/markdown": [
       "<b>{'prompt_tokens': 2798, 'completion_tokens': 229, 'total_tokens': 3027}</b>"
      ],
      "text/plain": [
       "<IPython.core.display.Markdown object>"
      ]
     },
     "metadata": {},
     "output_type": "display_data"
    },
    {
     "name": "stdout",
     "output_type": "stream",
     "text": [
      "--------------------------------------------------------------------\n"
     ]
    },
    {
     "data": {
      "text/markdown": [
       "<b>{'prompt_tokens': 2798, 'completion_tokens': 254, 'total_tokens': 3052}</b>"
      ],
      "text/plain": [
       "<IPython.core.display.Markdown object>"
      ]
     },
     "metadata": {},
     "output_type": "display_data"
    },
    {
     "name": "stdout",
     "output_type": "stream",
     "text": [
      "--------------------------------------------------------------------\n"
     ]
    },
    {
     "data": {
      "text/markdown": [
       "<b>{'prompt_tokens': 2798, 'completion_tokens': 516, 'total_tokens': 3314}</b>"
      ],
      "text/plain": [
       "<IPython.core.display.Markdown object>"
      ]
     },
     "metadata": {},
     "output_type": "display_data"
    },
    {
     "name": "stdout",
     "output_type": "stream",
     "text": [
      "--------------------------------------------------------------------\n"
     ]
    },
    {
     "data": {
      "text/markdown": [
       "<b>{'prompt_tokens': 2721, 'completion_tokens': 434, 'total_tokens': 3155}</b>"
      ],
      "text/plain": [
       "<IPython.core.display.Markdown object>"
      ]
     },
     "metadata": {},
     "output_type": "display_data"
    },
    {
     "name": "stdout",
     "output_type": "stream",
     "text": [
      "--------------------------------------------------------------------\n"
     ]
    },
    {
     "data": {
      "text/markdown": [
       "<b>{'prompt_tokens': 2840, 'completion_tokens': 384, 'total_tokens': 3224}</b>"
      ],
      "text/plain": [
       "<IPython.core.display.Markdown object>"
      ]
     },
     "metadata": {},
     "output_type": "display_data"
    },
    {
     "name": "stdout",
     "output_type": "stream",
     "text": [
      "--------------------------------------------------------------------\n"
     ]
    },
    {
     "data": {
      "text/markdown": [
       "<b>{'prompt_tokens': 2822, 'completion_tokens': 174, 'total_tokens': 2996}</b>"
      ],
      "text/plain": [
       "<IPython.core.display.Markdown object>"
      ]
     },
     "metadata": {},
     "output_type": "display_data"
    },
    {
     "name": "stdout",
     "output_type": "stream",
     "text": [
      "--------------------------------------------------------------------\n"
     ]
    },
    {
     "data": {
      "text/markdown": [
       "<b>{'prompt_tokens': 2808, 'completion_tokens': 267, 'total_tokens': 3075}</b>"
      ],
      "text/plain": [
       "<IPython.core.display.Markdown object>"
      ]
     },
     "metadata": {},
     "output_type": "display_data"
    },
    {
     "name": "stdout",
     "output_type": "stream",
     "text": [
      "--------------------------------------------------------------------\n"
     ]
    },
    {
     "data": {
      "text/markdown": [
       "<b>{'prompt_tokens': 2802, 'completion_tokens': 358, 'total_tokens': 3160}</b>"
      ],
      "text/plain": [
       "<IPython.core.display.Markdown object>"
      ]
     },
     "metadata": {},
     "output_type": "display_data"
    },
    {
     "name": "stdout",
     "output_type": "stream",
     "text": [
      "--------------------------------------------------------------------\n"
     ]
    },
    {
     "data": {
      "text/markdown": [
       "<b>{'prompt_tokens': 2804, 'completion_tokens': 19, 'total_tokens': 2823}</b>"
      ],
      "text/plain": [
       "<IPython.core.display.Markdown object>"
      ]
     },
     "metadata": {},
     "output_type": "display_data"
    },
    {
     "name": "stdout",
     "output_type": "stream",
     "text": [
      "--------------------------------------------------------------------\n"
     ]
    },
    {
     "data": {
      "text/markdown": [
       "<b>{'prompt_tokens': 2800, 'completion_tokens': 617, 'total_tokens': 3417}</b>"
      ],
      "text/plain": [
       "<IPython.core.display.Markdown object>"
      ]
     },
     "metadata": {},
     "output_type": "display_data"
    },
    {
     "name": "stdout",
     "output_type": "stream",
     "text": [
      "--------------------------------------------------------------------\n"
     ]
    },
    {
     "data": {
      "text/markdown": [
       "<b>{'prompt_tokens': 2800, 'completion_tokens': 344, 'total_tokens': 3144}</b>"
      ],
      "text/plain": [
       "<IPython.core.display.Markdown object>"
      ]
     },
     "metadata": {},
     "output_type": "display_data"
    },
    {
     "name": "stdout",
     "output_type": "stream",
     "text": [
      "--------------------------------------------------------------------\n"
     ]
    },
    {
     "data": {
      "text/markdown": [
       "<b>{'prompt_tokens': 2800, 'completion_tokens': 238, 'total_tokens': 3038}</b>"
      ],
      "text/plain": [
       "<IPython.core.display.Markdown object>"
      ]
     },
     "metadata": {},
     "output_type": "display_data"
    },
    {
     "name": "stdout",
     "output_type": "stream",
     "text": [
      "--------------------------------------------------------------------\n"
     ]
    },
    {
     "data": {
      "text/markdown": [
       "<b>{'prompt_tokens': 2853, 'completion_tokens': 271, 'total_tokens': 3124}</b>"
      ],
      "text/plain": [
       "<IPython.core.display.Markdown object>"
      ]
     },
     "metadata": {},
     "output_type": "display_data"
    },
    {
     "name": "stdout",
     "output_type": "stream",
     "text": [
      "--------------------------------------------------------------------\n"
     ]
    },
    {
     "data": {
      "text/markdown": [
       "<b>{'prompt_tokens': 2802, 'completion_tokens': 476, 'total_tokens': 3278}</b>"
      ],
      "text/plain": [
       "<IPython.core.display.Markdown object>"
      ]
     },
     "metadata": {},
     "output_type": "display_data"
    },
    {
     "name": "stdout",
     "output_type": "stream",
     "text": [
      "--------------------------------------------------------------------\n"
     ]
    },
    {
     "data": {
      "text/markdown": [
       "<b>{'prompt_tokens': 2798, 'completion_tokens': 219, 'total_tokens': 3017}</b>"
      ],
      "text/plain": [
       "<IPython.core.display.Markdown object>"
      ]
     },
     "metadata": {},
     "output_type": "display_data"
    },
    {
     "name": "stdout",
     "output_type": "stream",
     "text": [
      "--------------------------------------------------------------------\n"
     ]
    },
    {
     "data": {
      "text/markdown": [
       "<b>{'prompt_tokens': 2802, 'completion_tokens': 395, 'total_tokens': 3197}</b>"
      ],
      "text/plain": [
       "<IPython.core.display.Markdown object>"
      ]
     },
     "metadata": {},
     "output_type": "display_data"
    },
    {
     "name": "stdout",
     "output_type": "stream",
     "text": [
      "--------------------------------------------------------------------\n"
     ]
    },
    {
     "data": {
      "text/markdown": [
       "<b>{'prompt_tokens': 2838, 'completion_tokens': 150, 'total_tokens': 2988}</b>"
      ],
      "text/plain": [
       "<IPython.core.display.Markdown object>"
      ]
     },
     "metadata": {},
     "output_type": "display_data"
    },
    {
     "name": "stdout",
     "output_type": "stream",
     "text": [
      "--------------------------------------------------------------------\n"
     ]
    },
    {
     "data": {
      "text/markdown": [
       "<b>{'prompt_tokens': 2804, 'completion_tokens': 375, 'total_tokens': 3179}</b>"
      ],
      "text/plain": [
       "<IPython.core.display.Markdown object>"
      ]
     },
     "metadata": {},
     "output_type": "display_data"
    },
    {
     "name": "stdout",
     "output_type": "stream",
     "text": [
      "--------------------------------------------------------------------\n"
     ]
    },
    {
     "data": {
      "text/markdown": [
       "<b>{'prompt_tokens': 2838, 'completion_tokens': 405, 'total_tokens': 3243}</b>"
      ],
      "text/plain": [
       "<IPython.core.display.Markdown object>"
      ]
     },
     "metadata": {},
     "output_type": "display_data"
    },
    {
     "name": "stdout",
     "output_type": "stream",
     "text": [
      "--------------------------------------------------------------------\n"
     ]
    },
    {
     "data": {
      "text/markdown": [
       "<b>{'prompt_tokens': 2838, 'completion_tokens': 313, 'total_tokens': 3151}</b>"
      ],
      "text/plain": [
       "<IPython.core.display.Markdown object>"
      ]
     },
     "metadata": {},
     "output_type": "display_data"
    },
    {
     "name": "stdout",
     "output_type": "stream",
     "text": [
      "--------------------------------------------------------------------\n"
     ]
    },
    {
     "data": {
      "text/markdown": [
       "<b>{'prompt_tokens': 2879, 'completion_tokens': 27, 'total_tokens': 2906}</b>"
      ],
      "text/plain": [
       "<IPython.core.display.Markdown object>"
      ]
     },
     "metadata": {},
     "output_type": "display_data"
    },
    {
     "name": "stdout",
     "output_type": "stream",
     "text": [
      "--------------------------------------------------------------------\n"
     ]
    },
    {
     "data": {
      "text/markdown": [
       "<b>{'prompt_tokens': 2798, 'completion_tokens': 555, 'total_tokens': 3353}</b>"
      ],
      "text/plain": [
       "<IPython.core.display.Markdown object>"
      ]
     },
     "metadata": {},
     "output_type": "display_data"
    },
    {
     "name": "stdout",
     "output_type": "stream",
     "text": [
      "--------------------------------------------------------------------\n"
     ]
    },
    {
     "data": {
      "text/markdown": [
       "<b>{'prompt_tokens': 2829, 'completion_tokens': 501, 'total_tokens': 3330}</b>"
      ],
      "text/plain": [
       "<IPython.core.display.Markdown object>"
      ]
     },
     "metadata": {},
     "output_type": "display_data"
    },
    {
     "name": "stdout",
     "output_type": "stream",
     "text": [
      "--------------------------------------------------------------------\n"
     ]
    },
    {
     "data": {
      "text/markdown": [
       "<b>{'prompt_tokens': 2839, 'completion_tokens': 667, 'total_tokens': 3506}</b>"
      ],
      "text/plain": [
       "<IPython.core.display.Markdown object>"
      ]
     },
     "metadata": {},
     "output_type": "display_data"
    },
    {
     "name": "stdout",
     "output_type": "stream",
     "text": [
      "--------------------------------------------------------------------\n"
     ]
    },
    {
     "data": {
      "text/markdown": [
       "<b>{'prompt_tokens': 2879, 'completion_tokens': 179, 'total_tokens': 3058}</b>"
      ],
      "text/plain": [
       "<IPython.core.display.Markdown object>"
      ]
     },
     "metadata": {},
     "output_type": "display_data"
    },
    {
     "name": "stdout",
     "output_type": "stream",
     "text": [
      "--------------------------------------------------------------------\n"
     ]
    },
    {
     "data": {
      "text/markdown": [
       "<b>{'prompt_tokens': 2830, 'completion_tokens': 229, 'total_tokens': 3059}</b>"
      ],
      "text/plain": [
       "<IPython.core.display.Markdown object>"
      ]
     },
     "metadata": {},
     "output_type": "display_data"
    },
    {
     "name": "stdout",
     "output_type": "stream",
     "text": [
      "--------------------------------------------------------------------\n"
     ]
    },
    {
     "data": {
      "text/markdown": [
       "<b>{'prompt_tokens': 2933, 'completion_tokens': 567, 'total_tokens': 3500}</b>"
      ],
      "text/plain": [
       "<IPython.core.display.Markdown object>"
      ]
     },
     "metadata": {},
     "output_type": "display_data"
    },
    {
     "name": "stdout",
     "output_type": "stream",
     "text": [
      "--------------------------------------------------------------------\n"
     ]
    },
    {
     "data": {
      "text/markdown": [
       "<b>{'prompt_tokens': 2888, 'completion_tokens': 181, 'total_tokens': 3069}</b>"
      ],
      "text/plain": [
       "<IPython.core.display.Markdown object>"
      ]
     },
     "metadata": {},
     "output_type": "display_data"
    },
    {
     "name": "stdout",
     "output_type": "stream",
     "text": [
      "--------------------------------------------------------------------\n"
     ]
    },
    {
     "data": {
      "text/markdown": [
       "<b>{'prompt_tokens': 2800, 'completion_tokens': 410, 'total_tokens': 3210}</b>"
      ],
      "text/plain": [
       "<IPython.core.display.Markdown object>"
      ]
     },
     "metadata": {},
     "output_type": "display_data"
    },
    {
     "name": "stdout",
     "output_type": "stream",
     "text": [
      "--------------------------------------------------------------------\n"
     ]
    },
    {
     "data": {
      "text/markdown": [
       "<b>{'prompt_tokens': 2799, 'completion_tokens': 316, 'total_tokens': 3115}</b>"
      ],
      "text/plain": [
       "<IPython.core.display.Markdown object>"
      ]
     },
     "metadata": {},
     "output_type": "display_data"
    },
    {
     "name": "stdout",
     "output_type": "stream",
     "text": [
      "--------------------------------------------------------------------\n"
     ]
    },
    {
     "data": {
      "text/markdown": [
       "<b>{'prompt_tokens': 2806, 'completion_tokens': 337, 'total_tokens': 3143}</b>"
      ],
      "text/plain": [
       "<IPython.core.display.Markdown object>"
      ]
     },
     "metadata": {},
     "output_type": "display_data"
    },
    {
     "name": "stdout",
     "output_type": "stream",
     "text": [
      "--------------------------------------------------------------------\n"
     ]
    },
    {
     "data": {
      "text/markdown": [
       "<b>{'prompt_tokens': 2838, 'completion_tokens': 321, 'total_tokens': 3159}</b>"
      ],
      "text/plain": [
       "<IPython.core.display.Markdown object>"
      ]
     },
     "metadata": {},
     "output_type": "display_data"
    },
    {
     "name": "stdout",
     "output_type": "stream",
     "text": [
      "--------------------------------------------------------------------\n"
     ]
    },
    {
     "data": {
      "text/markdown": [
       "<b>{'prompt_tokens': 2836, 'completion_tokens': 491, 'total_tokens': 3327}</b>"
      ],
      "text/plain": [
       "<IPython.core.display.Markdown object>"
      ]
     },
     "metadata": {},
     "output_type": "display_data"
    },
    {
     "name": "stdout",
     "output_type": "stream",
     "text": [
      "--------------------------------------------------------------------\n"
     ]
    },
    {
     "data": {
      "text/markdown": [
       "<b>{'prompt_tokens': 2802, 'completion_tokens': 427, 'total_tokens': 3229}</b>"
      ],
      "text/plain": [
       "<IPython.core.display.Markdown object>"
      ]
     },
     "metadata": {},
     "output_type": "display_data"
    },
    {
     "name": "stdout",
     "output_type": "stream",
     "text": [
      "--------------------------------------------------------------------\n"
     ]
    },
    {
     "data": {
      "text/markdown": [
       "<b>{'prompt_tokens': 2840, 'completion_tokens': 328, 'total_tokens': 3168}</b>"
      ],
      "text/plain": [
       "<IPython.core.display.Markdown object>"
      ]
     },
     "metadata": {},
     "output_type": "display_data"
    },
    {
     "name": "stdout",
     "output_type": "stream",
     "text": [
      "--------------------------------------------------------------------\n"
     ]
    },
    {
     "data": {
      "text/markdown": [
       "<b>{'prompt_tokens': 2806, 'completion_tokens': 447, 'total_tokens': 3253}</b>"
      ],
      "text/plain": [
       "<IPython.core.display.Markdown object>"
      ]
     },
     "metadata": {},
     "output_type": "display_data"
    },
    {
     "name": "stdout",
     "output_type": "stream",
     "text": [
      "--------------------------------------------------------------------\n"
     ]
    },
    {
     "data": {
      "text/markdown": [
       "<b>{'prompt_tokens': 2840, 'completion_tokens': 323, 'total_tokens': 3163}</b>"
      ],
      "text/plain": [
       "<IPython.core.display.Markdown object>"
      ]
     },
     "metadata": {},
     "output_type": "display_data"
    },
    {
     "name": "stdout",
     "output_type": "stream",
     "text": [
      "--------------------------------------------------------------------\n"
     ]
    },
    {
     "data": {
      "text/markdown": [
       "<b>{'prompt_tokens': 2806, 'completion_tokens': 348, 'total_tokens': 3154}</b>"
      ],
      "text/plain": [
       "<IPython.core.display.Markdown object>"
      ]
     },
     "metadata": {},
     "output_type": "display_data"
    },
    {
     "name": "stdout",
     "output_type": "stream",
     "text": [
      "--------------------------------------------------------------------\n"
     ]
    },
    {
     "data": {
      "text/markdown": [
       "<b>{'prompt_tokens': 2806, 'completion_tokens': 382, 'total_tokens': 3188}</b>"
      ],
      "text/plain": [
       "<IPython.core.display.Markdown object>"
      ]
     },
     "metadata": {},
     "output_type": "display_data"
    },
    {
     "name": "stdout",
     "output_type": "stream",
     "text": [
      "--------------------------------------------------------------------\n"
     ]
    },
    {
     "data": {
      "text/markdown": [
       "<b>{'prompt_tokens': 2806, 'completion_tokens': 321, 'total_tokens': 3127}</b>"
      ],
      "text/plain": [
       "<IPython.core.display.Markdown object>"
      ]
     },
     "metadata": {},
     "output_type": "display_data"
    },
    {
     "name": "stdout",
     "output_type": "stream",
     "text": [
      "--------------------------------------------------------------------\n"
     ]
    },
    {
     "data": {
      "text/markdown": [
       "<b>{'prompt_tokens': 2806, 'completion_tokens': 246, 'total_tokens': 3052}</b>"
      ],
      "text/plain": [
       "<IPython.core.display.Markdown object>"
      ]
     },
     "metadata": {},
     "output_type": "display_data"
    },
    {
     "name": "stdout",
     "output_type": "stream",
     "text": [
      "--------------------------------------------------------------------\n"
     ]
    },
    {
     "data": {
      "text/markdown": [
       "<b>{'prompt_tokens': 2804, 'completion_tokens': 472, 'total_tokens': 3276}</b>"
      ],
      "text/plain": [
       "<IPython.core.display.Markdown object>"
      ]
     },
     "metadata": {},
     "output_type": "display_data"
    },
    {
     "name": "stdout",
     "output_type": "stream",
     "text": [
      "--------------------------------------------------------------------\n"
     ]
    },
    {
     "data": {
      "text/markdown": [
       "<b>{'prompt_tokens': 2804, 'completion_tokens': 322, 'total_tokens': 3126}</b>"
      ],
      "text/plain": [
       "<IPython.core.display.Markdown object>"
      ]
     },
     "metadata": {},
     "output_type": "display_data"
    },
    {
     "name": "stdout",
     "output_type": "stream",
     "text": [
      "--------------------------------------------------------------------\n"
     ]
    },
    {
     "data": {
      "text/markdown": [
       "<b>{'prompt_tokens': 2804, 'completion_tokens': 305, 'total_tokens': 3109}</b>"
      ],
      "text/plain": [
       "<IPython.core.display.Markdown object>"
      ]
     },
     "metadata": {},
     "output_type": "display_data"
    },
    {
     "name": "stdout",
     "output_type": "stream",
     "text": [
      "--------------------------------------------------------------------\n"
     ]
    },
    {
     "data": {
      "text/markdown": [
       "<b>{'prompt_tokens': 2800, 'completion_tokens': 398, 'total_tokens': 3198}</b>"
      ],
      "text/plain": [
       "<IPython.core.display.Markdown object>"
      ]
     },
     "metadata": {},
     "output_type": "display_data"
    },
    {
     "name": "stdout",
     "output_type": "stream",
     "text": [
      "--------------------------------------------------------------------\n"
     ]
    },
    {
     "data": {
      "text/markdown": [
       "<b>{'prompt_tokens': 2802, 'completion_tokens': 161, 'total_tokens': 2963}</b>"
      ],
      "text/plain": [
       "<IPython.core.display.Markdown object>"
      ]
     },
     "metadata": {},
     "output_type": "display_data"
    },
    {
     "name": "stdout",
     "output_type": "stream",
     "text": [
      "--------------------------------------------------------------------\n"
     ]
    },
    {
     "data": {
      "text/markdown": [
       "<b>{'prompt_tokens': 2802, 'completion_tokens': 337, 'total_tokens': 3139}</b>"
      ],
      "text/plain": [
       "<IPython.core.display.Markdown object>"
      ]
     },
     "metadata": {},
     "output_type": "display_data"
    },
    {
     "name": "stdout",
     "output_type": "stream",
     "text": [
      "--------------------------------------------------------------------\n"
     ]
    },
    {
     "data": {
      "text/markdown": [
       "<b>{'prompt_tokens': 2840, 'completion_tokens': 459, 'total_tokens': 3299}</b>"
      ],
      "text/plain": [
       "<IPython.core.display.Markdown object>"
      ]
     },
     "metadata": {},
     "output_type": "display_data"
    },
    {
     "name": "stdout",
     "output_type": "stream",
     "text": [
      "--------------------------------------------------------------------\n"
     ]
    },
    {
     "data": {
      "text/markdown": [
       "<b>{'prompt_tokens': 2837, 'completion_tokens': 296, 'total_tokens': 3133}</b>"
      ],
      "text/plain": [
       "<IPython.core.display.Markdown object>"
      ]
     },
     "metadata": {},
     "output_type": "display_data"
    },
    {
     "name": "stdout",
     "output_type": "stream",
     "text": [
      "--------------------------------------------------------------------\n"
     ]
    },
    {
     "data": {
      "text/markdown": [
       "<b>{'prompt_tokens': 2802, 'completion_tokens': 280, 'total_tokens': 3082}</b>"
      ],
      "text/plain": [
       "<IPython.core.display.Markdown object>"
      ]
     },
     "metadata": {},
     "output_type": "display_data"
    },
    {
     "name": "stdout",
     "output_type": "stream",
     "text": [
      "--------------------------------------------------------------------\n"
     ]
    },
    {
     "data": {
      "text/markdown": [
       "<b>{'prompt_tokens': 2802, 'completion_tokens': 285, 'total_tokens': 3087}</b>"
      ],
      "text/plain": [
       "<IPython.core.display.Markdown object>"
      ]
     },
     "metadata": {},
     "output_type": "display_data"
    },
    {
     "name": "stdout",
     "output_type": "stream",
     "text": [
      "--------------------------------------------------------------------\n"
     ]
    },
    {
     "data": {
      "text/markdown": [
       "<b>{'prompt_tokens': 2802, 'completion_tokens': 217, 'total_tokens': 3019}</b>"
      ],
      "text/plain": [
       "<IPython.core.display.Markdown object>"
      ]
     },
     "metadata": {},
     "output_type": "display_data"
    },
    {
     "name": "stdout",
     "output_type": "stream",
     "text": [
      "--------------------------------------------------------------------\n"
     ]
    },
    {
     "data": {
      "text/markdown": [
       "<b>{'prompt_tokens': 2802, 'completion_tokens': 297, 'total_tokens': 3099}</b>"
      ],
      "text/plain": [
       "<IPython.core.display.Markdown object>"
      ]
     },
     "metadata": {},
     "output_type": "display_data"
    },
    {
     "name": "stdout",
     "output_type": "stream",
     "text": [
      "--------------------------------------------------------------------\n"
     ]
    },
    {
     "data": {
      "text/markdown": [
       "<b>{'prompt_tokens': 2800, 'completion_tokens': 506, 'total_tokens': 3306}</b>"
      ],
      "text/plain": [
       "<IPython.core.display.Markdown object>"
      ]
     },
     "metadata": {},
     "output_type": "display_data"
    },
    {
     "name": "stdout",
     "output_type": "stream",
     "text": [
      "--------------------------------------------------------------------\n"
     ]
    },
    {
     "data": {
      "text/markdown": [
       "<b>{'prompt_tokens': 2800, 'completion_tokens': 511, 'total_tokens': 3311}</b>"
      ],
      "text/plain": [
       "<IPython.core.display.Markdown object>"
      ]
     },
     "metadata": {},
     "output_type": "display_data"
    },
    {
     "name": "stdout",
     "output_type": "stream",
     "text": [
      "--------------------------------------------------------------------\n"
     ]
    },
    {
     "data": {
      "text/markdown": [
       "<b>{'prompt_tokens': 2897, 'completion_tokens': 415, 'total_tokens': 3312}</b>"
      ],
      "text/plain": [
       "<IPython.core.display.Markdown object>"
      ]
     },
     "metadata": {},
     "output_type": "display_data"
    },
    {
     "name": "stdout",
     "output_type": "stream",
     "text": [
      "--------------------------------------------------------------------\n"
     ]
    },
    {
     "data": {
      "text/markdown": [
       "<b>{'prompt_tokens': 2763, 'completion_tokens': 374, 'total_tokens': 3137}</b>"
      ],
      "text/plain": [
       "<IPython.core.display.Markdown object>"
      ]
     },
     "metadata": {},
     "output_type": "display_data"
    },
    {
     "name": "stdout",
     "output_type": "stream",
     "text": [
      "--------------------------------------------------------------------\n"
     ]
    },
    {
     "data": {
      "text/markdown": [
       "<b>{'prompt_tokens': 2879, 'completion_tokens': 372, 'total_tokens': 3251}</b>"
      ],
      "text/plain": [
       "<IPython.core.display.Markdown object>"
      ]
     },
     "metadata": {},
     "output_type": "display_data"
    },
    {
     "name": "stdout",
     "output_type": "stream",
     "text": [
      "--------------------------------------------------------------------\n"
     ]
    },
    {
     "data": {
      "text/markdown": [
       "<b>{'prompt_tokens': 2933, 'completion_tokens': 297, 'total_tokens': 3230}</b>"
      ],
      "text/plain": [
       "<IPython.core.display.Markdown object>"
      ]
     },
     "metadata": {},
     "output_type": "display_data"
    },
    {
     "name": "stdout",
     "output_type": "stream",
     "text": [
      "--------------------------------------------------------------------\n"
     ]
    },
    {
     "data": {
      "text/markdown": [
       "<b>{'prompt_tokens': 2935, 'completion_tokens': 416, 'total_tokens': 3351}</b>"
      ],
      "text/plain": [
       "<IPython.core.display.Markdown object>"
      ]
     },
     "metadata": {},
     "output_type": "display_data"
    },
    {
     "name": "stdout",
     "output_type": "stream",
     "text": [
      "--------------------------------------------------------------------\n"
     ]
    },
    {
     "data": {
      "text/markdown": [
       "<b>{'prompt_tokens': 2879, 'completion_tokens': 427, 'total_tokens': 3306}</b>"
      ],
      "text/plain": [
       "<IPython.core.display.Markdown object>"
      ]
     },
     "metadata": {},
     "output_type": "display_data"
    },
    {
     "name": "stdout",
     "output_type": "stream",
     "text": [
      "--------------------------------------------------------------------\n"
     ]
    },
    {
     "data": {
      "text/markdown": [
       "<b>{'prompt_tokens': 2908, 'completion_tokens': 159, 'total_tokens': 3067}</b>"
      ],
      "text/plain": [
       "<IPython.core.display.Markdown object>"
      ]
     },
     "metadata": {},
     "output_type": "display_data"
    },
    {
     "name": "stdout",
     "output_type": "stream",
     "text": [
      "--------------------------------------------------------------------\n"
     ]
    },
    {
     "data": {
      "text/markdown": [
       "<b>{'prompt_tokens': 2901, 'completion_tokens': 306, 'total_tokens': 3207}</b>"
      ],
      "text/plain": [
       "<IPython.core.display.Markdown object>"
      ]
     },
     "metadata": {},
     "output_type": "display_data"
    },
    {
     "name": "stdout",
     "output_type": "stream",
     "text": [
      "--------------------------------------------------------------------\n"
     ]
    },
    {
     "data": {
      "text/markdown": [
       "<b>{'prompt_tokens': 2881, 'completion_tokens': 266, 'total_tokens': 3147}</b>"
      ],
      "text/plain": [
       "<IPython.core.display.Markdown object>"
      ]
     },
     "metadata": {},
     "output_type": "display_data"
    },
    {
     "name": "stdout",
     "output_type": "stream",
     "text": [
      "--------------------------------------------------------------------\n"
     ]
    }
   ],
   "source": [
    "import os\n",
    "from IPython.display import Markdown, display\n",
    "import time\n",
    "\n",
    "os.environ[\"http_proxy\"] = \"http://192.168.1.254:7890\"\n",
    "os.environ[\"https_proxy\"] = \"http://192.168.1.254:7890\"\n",
    "\n",
    "df_seq['is_anti_inflammation']=0\n",
    "df_seq['model_response']=''\n",
    "df_seq['supportive_context']=''\n",
    "\n",
    "patent_list=df_seq['patent_no'].unique() \n",
    "\n",
    "#对每一个patnet下的seq进行判断\n",
    "for patent in patent_list:\n",
    "\n",
    "    df_unit=df_seq[df_seq['patent_no']==patent]\n",
    "    file_loc='./patents_parse/{}.json'.format(patent)\n",
    "    doc_dic=load_doc(file_loc)\n",
    "    \n",
    "    #使用llama-index建立查询引擎\n",
    "    #分别从claim和des中进行检索(防止因为相似度的问题全部使用description中的信息从而遗漏claim的信息)\n",
    "    summarier_claim=LLM_summary([doc_dic['claim']])\n",
    "    summarier_des=LLM_summary([doc_dic['description']])\n",
    "\n",
    "    for index,row in df_unit.iterrows():\n",
    "\n",
    "        summarier_claim.keywords=[row['seq_no']]\n",
    "        summarier_des.keywords=[row['seq_no']]\n",
    "\n",
    "        retriever_claim=summarier_claim.hierarchy_node_index(similarity_top_k=2,max_num_keyword_nodes=2)\n",
    "        retriever_des=summarier_des.hierarchy_node_index(similarity_top_k=8,max_num_keyword_nodes=3)\n",
    "\n",
    "        seq_peptides='{}:{}'.format(row['seq_no'],row['seq_peptides'])\n",
    "        question=\"\"\"Given content describing the functions and applications of the patent.\n",
    "        Please determine if sequence number \"{0}\" have the ability of anti-inflammation. \n",
    "        You should focus on sequence number \"{0}\" and ignore other irrelvant sequence number!\n",
    "        Finally, plesae do analysis and explain the reason first, then print \"The answer is: 'Yes'\" or \"The answer is: 'No'\" in next line.\n",
    "        Don't answer like \"Possible\" or \"Maybe\"! Please return the top 3 most supportive context number.\n",
    "            \"\"\".format(seq_peptides)\n",
    "\n",
    "        #分别从claim和des中进行检索，确保两部分内容都会被用上\n",
    "        response_nodes_claim=retriever_claim.retrieve(question) \n",
    "        response_nodes_des=retriever_des.retrieve(question) \n",
    "        response_nodes=response_nodes_claim + response_nodes_des\n",
    "        #print(question)\n",
    "        context_str=\"\"\"Context is :\n",
    "            {}\n",
    "            ---------------------\n",
    "            Given the provided context, please answer the query:\n",
    "            {}\n",
    "            \"\"\".format('\\n'.join(['Context{}:\\n'.format(index) + node.text for index,node in enumerate(response_nodes)]),question)  \n",
    "        messages_dict = [\n",
    "            {\"role\": \"system\", \"content\": system_str},\n",
    "            {\"role\": \"user\", \"content\": context_str},\n",
    "        ]\n",
    "        messages = [ChatMessage(**msg) for msg in messages_dict]\n",
    "        response = llm.chat(messages)\n",
    "        #print(response.raw['usage'])\n",
    "        display(Markdown(f\"<b>{response.raw['usage']}</b>\"))\n",
    "        print('--------------------------------------------------------------------')\n",
    "        # display(Markdown(f\"<b>{response}</b>\"))\n",
    "\n",
    "        response_ans=response.message.content\n",
    "        context_list=re.findall('Context[0-9]+',response_ans)\n",
    "        context_nums=set([int(re.sub('Context','',context)) for context in context_list])\n",
    "        #目标seq\n",
    "        condition=(df_seq['patent_no']==patent) & (df_seq['seq_no']==row['seq_no'])\n",
    "        if('Yes' in response_ans):\n",
    "            df_seq.loc[condition,'is_anti_inflammation']=1\n",
    "        elif('No' in response_ans):\n",
    "            df_seq.loc[condition,'is_anti_inflammation']=0\n",
    "        else:\n",
    "            #没有明确yes或no的seq认为是possible\n",
    "            df_seq.loc[condition,'is_anti_inflammation']=0.5\n",
    "\n",
    "        df_seq.loc[condition,'model_response']=response_ans\n",
    "        df_seq.loc[condition,'supportive_context']='\\n'.join(['Context{}:\\n'.format(index) + response_nodes[index].text for index in context_nums if(index<len(response_nodes))])\n",
    "        time.sleep(30) #设置间隔防止api调用频率过高(主要由于perplexity对10min内接收的token数量有限制)"
   ]
  },
  {
   "cell_type": "code",
   "execution_count": 11,
   "metadata": {},
   "outputs": [],
   "source": [
    "#结果存储\n",
    "df_seq.to_csv('anti_inflammation_res.csv',index=False)  "
   ]
  },
  {
   "cell_type": "code",
   "execution_count": 25,
   "metadata": {},
   "outputs": [
    {
     "data": {
      "text/html": [
       "<div>\n",
       "<style scoped>\n",
       "    .dataframe tbody tr th:only-of-type {\n",
       "        vertical-align: middle;\n",
       "    }\n",
       "\n",
       "    .dataframe tbody tr th {\n",
       "        vertical-align: top;\n",
       "    }\n",
       "\n",
       "    .dataframe thead th {\n",
       "        text-align: right;\n",
       "    }\n",
       "</style>\n",
       "<table border=\"1\" class=\"dataframe\">\n",
       "  <thead>\n",
       "    <tr style=\"text-align: right;\">\n",
       "      <th></th>\n",
       "      <th>is_anti_inflammation</th>\n",
       "      <th>patent_no</th>\n",
       "    </tr>\n",
       "    <tr>\n",
       "      <th>patent_no</th>\n",
       "      <th></th>\n",
       "      <th></th>\n",
       "    </tr>\n",
       "  </thead>\n",
       "  <tbody>\n",
       "    <tr>\n",
       "      <th>JP2009518370A</th>\n",
       "      <td>6.0</td>\n",
       "      <td>18</td>\n",
       "    </tr>\n",
       "    <tr>\n",
       "      <th>JP2016084331A</th>\n",
       "      <td>1.0</td>\n",
       "      <td>1</td>\n",
       "    </tr>\n",
       "    <tr>\n",
       "      <th>KR20110122548A</th>\n",
       "      <td>5.5</td>\n",
       "      <td>6</td>\n",
       "    </tr>\n",
       "    <tr>\n",
       "      <th>KR20150042447A</th>\n",
       "      <td>5.0</td>\n",
       "      <td>8</td>\n",
       "    </tr>\n",
       "    <tr>\n",
       "      <th>KR20150050627A</th>\n",
       "      <td>1.0</td>\n",
       "      <td>1</td>\n",
       "    </tr>\n",
       "    <tr>\n",
       "      <th>KR20150050631A</th>\n",
       "      <td>1.0</td>\n",
       "      <td>1</td>\n",
       "    </tr>\n",
       "    <tr>\n",
       "      <th>KR20160003611A</th>\n",
       "      <td>3.0</td>\n",
       "      <td>3</td>\n",
       "    </tr>\n",
       "    <tr>\n",
       "      <th>KR20160147293A</th>\n",
       "      <td>1.0</td>\n",
       "      <td>1</td>\n",
       "    </tr>\n",
       "    <tr>\n",
       "      <th>KR20170027619A</th>\n",
       "      <td>1.5</td>\n",
       "      <td>3</td>\n",
       "    </tr>\n",
       "    <tr>\n",
       "      <th>KR20170119303A</th>\n",
       "      <td>3.0</td>\n",
       "      <td>3</td>\n",
       "    </tr>\n",
       "    <tr>\n",
       "      <th>KR20170119304A</th>\n",
       "      <td>1.5</td>\n",
       "      <td>3</td>\n",
       "    </tr>\n",
       "    <tr>\n",
       "      <th>KR20180117259A</th>\n",
       "      <td>9.5</td>\n",
       "      <td>10</td>\n",
       "    </tr>\n",
       "    <tr>\n",
       "      <th>KR20190033839A</th>\n",
       "      <td>1.0</td>\n",
       "      <td>1</td>\n",
       "    </tr>\n",
       "    <tr>\n",
       "      <th>KR20190108416A</th>\n",
       "      <td>7.0</td>\n",
       "      <td>8</td>\n",
       "    </tr>\n",
       "    <tr>\n",
       "      <th>KR20200135601A</th>\n",
       "      <td>2.0</td>\n",
       "      <td>10</td>\n",
       "    </tr>\n",
       "    <tr>\n",
       "      <th>KR20210154637A</th>\n",
       "      <td>1.0</td>\n",
       "      <td>1</td>\n",
       "    </tr>\n",
       "    <tr>\n",
       "      <th>KR20220061018A</th>\n",
       "      <td>1.0</td>\n",
       "      <td>5</td>\n",
       "    </tr>\n",
       "    <tr>\n",
       "      <th>KR20220086511A</th>\n",
       "      <td>1.0</td>\n",
       "      <td>16</td>\n",
       "    </tr>\n",
       "    <tr>\n",
       "      <th>KR20230040782A</th>\n",
       "      <td>1.0</td>\n",
       "      <td>1</td>\n",
       "    </tr>\n",
       "    <tr>\n",
       "      <th>KR20230040784A</th>\n",
       "      <td>1.0</td>\n",
       "      <td>1</td>\n",
       "    </tr>\n",
       "    <tr>\n",
       "      <th>KR20230062337A</th>\n",
       "      <td>0.0</td>\n",
       "      <td>3</td>\n",
       "    </tr>\n",
       "    <tr>\n",
       "      <th>KR20230066252A</th>\n",
       "      <td>9.0</td>\n",
       "      <td>16</td>\n",
       "    </tr>\n",
       "    <tr>\n",
       "      <th>KR20230087378A</th>\n",
       "      <td>9.0</td>\n",
       "      <td>10</td>\n",
       "    </tr>\n",
       "    <tr>\n",
       "      <th>US10676507B2</th>\n",
       "      <td>10.0</td>\n",
       "      <td>12</td>\n",
       "    </tr>\n",
       "    <tr>\n",
       "      <th>US11013783B2</th>\n",
       "      <td>18.0</td>\n",
       "      <td>33</td>\n",
       "    </tr>\n",
       "    <tr>\n",
       "      <th>US4816449A</th>\n",
       "      <td>0.0</td>\n",
       "      <td>8</td>\n",
       "    </tr>\n",
       "    <tr>\n",
       "      <th>US5776892A</th>\n",
       "      <td>45.0</td>\n",
       "      <td>90</td>\n",
       "    </tr>\n",
       "    <tr>\n",
       "      <th>US5912232A</th>\n",
       "      <td>4.0</td>\n",
       "      <td>11</td>\n",
       "    </tr>\n",
       "    <tr>\n",
       "      <th>US6337315B1</th>\n",
       "      <td>0.5</td>\n",
       "      <td>4</td>\n",
       "    </tr>\n",
       "    <tr>\n",
       "      <th>US6767890B1</th>\n",
       "      <td>1.0</td>\n",
       "      <td>2</td>\n",
       "    </tr>\n",
       "    <tr>\n",
       "      <th>US6803044B1</th>\n",
       "      <td>2.5</td>\n",
       "      <td>4</td>\n",
       "    </tr>\n",
       "    <tr>\n",
       "      <th>WO2008009085A1</th>\n",
       "      <td>6.5</td>\n",
       "      <td>9</td>\n",
       "    </tr>\n",
       "    <tr>\n",
       "      <th>WO2008142517A3</th>\n",
       "      <td>0.5</td>\n",
       "      <td>16</td>\n",
       "    </tr>\n",
       "    <tr>\n",
       "      <th>WO2013105089A8</th>\n",
       "      <td>1.0</td>\n",
       "      <td>11</td>\n",
       "    </tr>\n",
       "    <tr>\n",
       "      <th>WO2015072750A1</th>\n",
       "      <td>12.5</td>\n",
       "      <td>14</td>\n",
       "    </tr>\n",
       "    <tr>\n",
       "      <th>WO2017012132A1</th>\n",
       "      <td>1.0</td>\n",
       "      <td>1</td>\n",
       "    </tr>\n",
       "    <tr>\n",
       "      <th>WO2017048029A1</th>\n",
       "      <td>1.0</td>\n",
       "      <td>2</td>\n",
       "    </tr>\n",
       "    <tr>\n",
       "      <th>WO2017119756A1</th>\n",
       "      <td>1.0</td>\n",
       "      <td>1</td>\n",
       "    </tr>\n",
       "    <tr>\n",
       "      <th>WO2019246028A1</th>\n",
       "      <td>9.5</td>\n",
       "      <td>14</td>\n",
       "    </tr>\n",
       "    <tr>\n",
       "      <th>WO2020018315A2</th>\n",
       "      <td>7.0</td>\n",
       "      <td>15</td>\n",
       "    </tr>\n",
       "    <tr>\n",
       "      <th>WO2020176478A1</th>\n",
       "      <td>0.0</td>\n",
       "      <td>15</td>\n",
       "    </tr>\n",
       "    <tr>\n",
       "      <th>WO2021152119A1</th>\n",
       "      <td>2.5</td>\n",
       "      <td>12</td>\n",
       "    </tr>\n",
       "    <tr>\n",
       "      <th>WO2021242045A1</th>\n",
       "      <td>4.0</td>\n",
       "      <td>4</td>\n",
       "    </tr>\n",
       "    <tr>\n",
       "      <th>WO2022212428A1</th>\n",
       "      <td>2.0</td>\n",
       "      <td>4</td>\n",
       "    </tr>\n",
       "    <tr>\n",
       "      <th>WO2023055009A1</th>\n",
       "      <td>0.5</td>\n",
       "      <td>15</td>\n",
       "    </tr>\n",
       "    <tr>\n",
       "      <th>WO2023080578A1</th>\n",
       "      <td>11.5</td>\n",
       "      <td>30</td>\n",
       "    </tr>\n",
       "    <tr>\n",
       "      <th>WO2023158178A1</th>\n",
       "      <td>1.0</td>\n",
       "      <td>1</td>\n",
       "    </tr>\n",
       "    <tr>\n",
       "      <th>WO2023211198A1</th>\n",
       "      <td>49.0</td>\n",
       "      <td>160</td>\n",
       "    </tr>\n",
       "  </tbody>\n",
       "</table>\n",
       "</div>"
      ],
      "text/plain": [
       "                is_anti_inflammation  patent_no\n",
       "patent_no                                      \n",
       "JP2009518370A                    6.0         18\n",
       "JP2016084331A                    1.0          1\n",
       "KR20110122548A                   5.5          6\n",
       "KR20150042447A                   5.0          8\n",
       "KR20150050627A                   1.0          1\n",
       "KR20150050631A                   1.0          1\n",
       "KR20160003611A                   3.0          3\n",
       "KR20160147293A                   1.0          1\n",
       "KR20170027619A                   1.5          3\n",
       "KR20170119303A                   3.0          3\n",
       "KR20170119304A                   1.5          3\n",
       "KR20180117259A                   9.5         10\n",
       "KR20190033839A                   1.0          1\n",
       "KR20190108416A                   7.0          8\n",
       "KR20200135601A                   2.0         10\n",
       "KR20210154637A                   1.0          1\n",
       "KR20220061018A                   1.0          5\n",
       "KR20220086511A                   1.0         16\n",
       "KR20230040782A                   1.0          1\n",
       "KR20230040784A                   1.0          1\n",
       "KR20230062337A                   0.0          3\n",
       "KR20230066252A                   9.0         16\n",
       "KR20230087378A                   9.0         10\n",
       "US10676507B2                    10.0         12\n",
       "US11013783B2                    18.0         33\n",
       "US4816449A                       0.0          8\n",
       "US5776892A                      45.0         90\n",
       "US5912232A                       4.0         11\n",
       "US6337315B1                      0.5          4\n",
       "US6767890B1                      1.0          2\n",
       "US6803044B1                      2.5          4\n",
       "WO2008009085A1                   6.5          9\n",
       "WO2008142517A3                   0.5         16\n",
       "WO2013105089A8                   1.0         11\n",
       "WO2015072750A1                  12.5         14\n",
       "WO2017012132A1                   1.0          1\n",
       "WO2017048029A1                   1.0          2\n",
       "WO2017119756A1                   1.0          1\n",
       "WO2019246028A1                   9.5         14\n",
       "WO2020018315A2                   7.0         15\n",
       "WO2020176478A1                   0.0         15\n",
       "WO2021152119A1                   2.5         12\n",
       "WO2021242045A1                   4.0          4\n",
       "WO2022212428A1                   2.0          4\n",
       "WO2023055009A1                   0.5         15\n",
       "WO2023080578A1                  11.5         30\n",
       "WO2023158178A1                   1.0          1\n",
       "WO2023211198A1                  49.0        160"
      ]
     },
     "execution_count": 25,
     "metadata": {},
     "output_type": "execute_result"
    }
   ],
   "source": [
    "#按patent统计符合要求的seq数量情况\n",
    "df_seq[['patent_no','is_anti_inflammation']].groupby(['patent_no']).agg({'is_anti_inflammation':'sum','patent_no':'count'})"
   ]
  },
  {
   "cell_type": "code",
   "execution_count": 11,
   "metadata": {},
   "outputs": [
    {
     "data": {
      "text/plain": [
       "'After analyzing the provided contexts, the answer to the question is: \"The answer is: No\". The reason for this answer is that there is no direct mention or evidence in the given contexts that SEQ_ID_NO_1:GKCSTRGRKCCRRKK has the ability to reduce inflammation. Context0 states that SEQ_ID_NO_2 is the sequence where cysteine is replaced with methionine to prevent oxidation in the SS bond and to have an ability to reduce inflammation and promote differentiation from stem cells to chondrocytes. However, it does not mention anything about SEQ_ID_NO_1 having anti-inflammatory properties. Context1, Context2, Context3, and Context5 discuss the inflammation-reducing ability of the peptides, but they do not specifically mention SEQ_ID_NO_1. Therefore, based on the given contexts, it is concluded that SEQ_ID_NO_1:GKCSTRGRKCCRRKK does not have the ability of anti-inflammation.'"
      ]
     },
     "execution_count": 11,
     "metadata": {},
     "output_type": "execute_result"
    }
   ],
   "source": [
    "response.message.content"
   ]
  },
  {
   "cell_type": "code",
   "execution_count": 21,
   "metadata": {},
   "outputs": [
    {
     "data": {
      "text/markdown": [
       "**Node ID:** f27e5a4c-a7cf-4afe-bb9c-9b4b2cd1a05a<br>**Similarity:** 0.8680149987093815<br>**Text:** The claim information:\n",
       "One antimicrobial peptide selected from the group of peptides having the amino acid sequence shown in SEQ_ID_NO_1 to 7. A pharmaceutical composition for antimicrobial use comprising the peptide of claim 1 as an active ingredient. [3] The composition according to claim 2, wherein the composition is a Gram positive bacterium and has antibacterial activity against any strain selected from the group consisting of B. subtilis , S. aureus , S. epidermidis , Gram-negative bacteria, E. coli , P. aeruginosa , and S. typhimurium &Lt; / RTI &gt; 3. The pharmaceutical composition according to claim 2, wherein the effective amount of the peptide is 20 uM at 1 uM. The composition according to claim 2, wherein the composition has no toxicity to any cell line selected from the group consisting of human red blood cells and epithelial cells. 1 to 7, acting on the cell membrane of a microorganism selected from the group consisting of Gram-positive bacteria, Gram-negative bacteria, multidrug-resistant bacteria and fungi. A pharmaceutical composition for antiinflammation comprising one peptide selected from the group consisting of peptides having the amino acid sequence represented by SEQ ID NOS: 1 to 7 as an active ingredient. 1. A cosmetic composition comprising, as an active ingredient, one peptide selected from the group consisting of peptides having an amino acid sequence represented by SEQ ID NOS: 1 to 7.<br>"
      ],
      "text/plain": [
       "<IPython.core.display.Markdown object>"
      ]
     },
     "metadata": {},
     "output_type": "display_data"
    },
    {
     "name": "stdout",
     "output_type": "stream",
     "text": [
      "--------\n"
     ]
    },
    {
     "data": {
      "text/markdown": [
       "**Node ID:** b5b804c1-e23e-49be-bf83-84fc1c1e8df4<br>**Similarity:** 0.896793670562688<br>**Text:** The cytotoxicity of the peptides was measured as a percentage of the absorbance value of the wells treated with the peptide divided by the absorbance value of the control cells not treated with the peptide. As shown in FIG. 2, 9Pbw3, which is a comparative peptide, and the peptides of SEQ ID NOS: 1 to 7, which are antibiotic peptides, showed a survival rate of 100% at a concentration having an activity, and the toxicity to human epidermal cells was very small. Example 7: Raw264 .7 cell in Pathogen LPS NO (&lt; / RTI &gt; produced by stimulation nitrite oxide production In order to examine whether the peptides represented by SEQ. ID. Nos. 1 to 7 are effective for antiinflammatory activity, the following procedure was carried out.<br>"
      ],
      "text/plain": [
       "<IPython.core.display.Markdown object>"
      ]
     },
     "metadata": {},
     "output_type": "display_data"
    },
    {
     "name": "stdout",
     "output_type": "stream",
     "text": [
      "--------\n"
     ]
    },
    {
     "data": {
      "text/markdown": [
       "**Node ID:** b86ce809-b35e-4356-bda1-93a157c7c6f5<br>**Similarity:** 0.8940963121214376<br>**Text:** The antibiotic peptide of SEQ_ID_NO_5 lowered the hydrophobicity of 9Pbw3 of the comparative peptide, The positively charged arginine is shifted to the N-terminal side By this it was confirmed that the effective charge seen by SEQ_ID_NO_4 was then excellent antibacterial activity and anti-inflammatory activity with respect to all the strains designed to positively charged antimicrobial peptide sex than other derivatives. For this reason, the antibiotic peptides of SEQ ID NOS: 4 and 5 above are the peptides that best meet the objectives of the present invention to lower the cytotoxicity while retaining their activity as compared to the comparative peptide 9Pbw3, and are also useful as safe antibiotics and anti- It will be useful. Hereinafter, the present invention will be described more specifically by way of examples. It should be apparent to those skilled in the art that these embodiments are illustrative only of the present invention and that the scope of the present invention is not limited by these embodiments. It will be apparent to those skilled in the art that a pharmaceutical composition for an antimicrobial agent containing an antimicrobial peptide derivative according to the present invention having an antibacterial and antifungal activity as an active ingredient may be used although it is not shown in a specific example. Peptides Amino acid sequence Hydrophobicity SEQ_ID_NO_1: 9Pbw3-1 RLWLAIFRR-NH 2 1.85 SEQ_ID_NO_2: 9Pbw3-2 RLWAAIWRR-NH 2 0.62 SEQ_ID_NO_3: 9Pbw3-3 RLWLAAWRR-NH 2 0.73 SEQ_ID_NO_4: 9Pbw3-4 RLWLAILRR-NH 2 1.82 SEQ_ID_NO_5: 9Pbw3-5 RRWLAIWRR-NH 2 -0.36 SEQ_ID_NO_6: 9Pbw3-6 RLFLAIWRR-NH 2 1.85 SEQ_ID_NO_7: 9Pbw3-7 RLLLAIWRR-NH 2 1.82 Comparative peptide SEQ_ID_NO_8: 9 Pbw3 RLWLAIWRR-NH2 1.82 Table 1 shows comparison peptides of SEQ ID NOS: 1 to 7 and amino acid sequence of SEQ.<br>"
      ],
      "text/plain": [
       "<IPython.core.display.Markdown object>"
      ]
     },
     "metadata": {},
     "output_type": "display_data"
    },
    {
     "name": "stdout",
     "output_type": "stream",
     "text": [
      "--------\n"
     ]
    },
    {
     "data": {
      "text/markdown": [
       "**Node ID:** befd5189-9859-4c16-b44a-adb143a61ac9<br>**Similarity:** 0.8939349979709224<br>**Text:** Table 1 is the residue sequence of seven high-function peptide derivatives of SEQ ID NOS: 1 to 7 of the present invention and the comparison peptide sequence No. 8, which were developed based on the previously invented 9Pbw3 residue sequence. In the present invention, based on the amino acid sequence of the proteasomycin antimicrobial peptide helix region, it has a high antibiotic activity, and based on the residue sequence of 9Pbw3 (Patent Registration No.: 10-1062975) And to select bacterial selective derivatives that have antimicrobial activity against acne bacteria and antifungal and antiinflammatory activity against Candida and Malassezia bacteria, and to measure the activity thereof, as well as high antimicrobial activity against pathogenic bacteria And developed antibacterial and antifungal therapeutic agents and anti-inflammatory agents for human body. First, in order to confirm whether the antibiotic peptides of SEQ ID NOS: 1 to 7, which are the antimicrobial peptides of the present invention, can be used for the above purposes, the inventors of the present invention found that the antimicrobial peptides and the control peptides synthesized in the present invention were resistant to Gram- And Gram-positive bacteria (three strains) and 16 multidrug-resistant bacteria. The antimicrobial activity was observed by measuring the minimal inhibitory concentration (MIC) of peptides in which the cells were not cleaved (hereinafter abbreviated as &quot; MIC &quot;).<br>"
      ],
      "text/plain": [
       "<IPython.core.display.Markdown object>"
      ]
     },
     "metadata": {},
     "output_type": "display_data"
    },
    {
     "name": "stdout",
     "output_type": "stream",
     "text": [
      "--------\n"
     ]
    },
    {
     "data": {
      "text/markdown": [
       "**Node ID:** 07a298eb-054f-4e61-9c87-f761f68136c5<br>**Similarity:** 0.8932967810926421<br>**Text:** The antibiotic peptides of SEQ ID NOS: 1, 4, 5, 6 and 7 showed similar or slightly lower activity to the comparative peptides melittin and 9Pbw3 in Candida and all Malassezia strains. In addition, it was confirmed that the compound showed a similar or slightly lower inhibitory effect when compared with a comparative compound widely used in the market as a dandruce therapeutic agent. In summary, in the present invention, 9Pbw3-4 of SEQ_ID_NO_4 has the best antimicrobial activity against gram-positive bacteria, gram-negative bacteria, multidrug-resistant bacteria, fungus and acne bacteria and shows cytotoxicity lower than 9Pbw3 as a comparative peptide, As compared with the NO value of the untreated control, it was confirmed that the peptide was superiorly designed as an antibiotic peptide which exhibits an excellent anti-inflammatory activity as the peptide concentration increases and exhibits excellent antimicrobial activity and low cytotoxicity.<br>"
      ],
      "text/plain": [
       "<IPython.core.display.Markdown object>"
      ]
     },
     "metadata": {},
     "output_type": "display_data"
    },
    {
     "name": "stdout",
     "output_type": "stream",
     "text": [
      "--------\n"
     ]
    },
    {
     "data": {
      "text/markdown": [
       "**Node ID:** 111ed181-e49b-4843-ad31-b11ee164b043<br>**Similarity:** 0.8930668300788075<br>**Text:** The antimicrobial peptides labeled with SEQ ID NOS: 1, 4, 6 and 7, which show similar hydrophobicity to the comparative peptide 9Pbw3, and SEQ_ID_NO_5 with one more positive charge of the effective charge compare the nitrite values of the control without LPS treatment The production of NO (nitric oxide) was suppressed to a level similar to that of the comparative peptide 9Pbw3. From the above results, 9Pbw3-4 of SEQ_ID_NO_4 among the antibiotic peptides of SEQ ID NOS: 1 to 7 of the present invention exhibited the most excellent antibacterial and antifungal activity among the seven designed antibiotic peptides, exhibited excellent anti-inflammatory activity, , Which is an antibiotic peptide that increases cell selectivity due to low hemolytic activity and cytotoxicity compared to 9Pbw3. It was found that the presence of hydrophobic residues at the residue position is important for the activity and that substitution with Leu residues rather than Trp is helpful in reducing the toxicity.<br>"
      ],
      "text/plain": [
       "<IPython.core.display.Markdown object>"
      ]
     },
     "metadata": {},
     "output_type": "display_data"
    },
    {
     "name": "stdout",
     "output_type": "stream",
     "text": [
      "--------\n"
     ]
    },
    {
     "data": {
      "text/markdown": [
       "**Node ID:** 9fe1f041-02cd-4aaa-af53-48ff7979b3e1<br>**Similarity:** 0.8912240330433616<br>**Text:** In one embodiment of the present invention, the anti-inflammatory activity is characterized by inhibiting the production of an inducer nitrate oxide. In one embodiment of the present invention, the anti-inflammatory composition is preferably not toxic to human red blood cells or normal mammalian cells. Hereinafter, the present invention will be described. In the present invention, an antimicrobial peptide isolated from a larva of a white spotted flower, a high antimicrobial and anti-inflammatory peptide derivative designed from a residue sequence of a proteasomicin are synthesized to exhibit antimicrobial activity and anti-inflammatory activity. Hereinafter, the present invention will be described in more detail with reference to the steps. In the present invention, based on the amino acid sequence of the protease-antimicrobial peptide helix domain, it has a high antibiotic activity, and based on the 9Pbw3 residue sequence of the patent (Patent Registration No.<br>"
      ],
      "text/plain": [
       "<IPython.core.display.Markdown object>"
      ]
     },
     "metadata": {},
     "output_type": "display_data"
    },
    {
     "name": "stdout",
     "output_type": "stream",
     "text": [
      "--------\n"
     ]
    }
   ],
   "source": [
    "#输入prompt中的节点\n",
    "#做embedding相似度匹配的只有query中的内容，并不涉及整个prompt\n",
    "from llama_index.response.notebook_utils import display_source_node\n",
    "for node in response_nodes:\n",
    "    display_source_node(node, source_length=20000)\n",
    "    print(\"--------\")"
   ]
  }
 ],
 "metadata": {
  "kernelspec": {
   "display_name": "torch",
   "language": "python",
   "name": "python3"
  },
  "language_info": {
   "codemirror_mode": {
    "name": "ipython",
    "version": 3
   },
   "file_extension": ".py",
   "mimetype": "text/x-python",
   "name": "python",
   "nbconvert_exporter": "python",
   "pygments_lexer": "ipython3",
   "version": "3.11.7"
  }
 },
 "nbformat": 4,
 "nbformat_minor": 2
}
